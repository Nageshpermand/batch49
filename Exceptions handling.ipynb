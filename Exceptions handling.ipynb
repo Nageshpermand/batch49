{
 "cells": [
  {
   "cell_type": "code",
   "execution_count": 1,
   "metadata": {},
   "outputs": [
    {
     "name": "stdout",
     "output_type": "stream",
     "text": [
      "10 20.0\n",
      "result=  0.5\n"
     ]
    }
   ],
   "source": [
    "a=10\n",
    "b=20.0\n",
    "print a,b\n",
    "result=a/b\n",
    "print \"result= \",result"
   ]
  },
  {
   "cell_type": "code",
   "execution_count": 2,
   "metadata": {},
   "outputs": [
    {
     "name": "stdout",
     "output_type": "stream",
     "text": [
      "10 20.0\n",
      "result=  0.5\n"
     ]
    }
   ],
   "source": [
    "a=10\n",
    "b=20.0\n",
    "print a,b\n",
    "result=a/b\n",
    "print \"result= \",result"
   ]
  },
  {
   "cell_type": "code",
   "execution_count": 3,
   "metadata": {},
   "outputs": [
    {
     "ename": "SyntaxError",
     "evalue": "invalid syntax (<ipython-input-3-6bb6d79ffb96>, line 5)",
     "output_type": "error",
     "traceback": [
      "\u001b[0;36m  File \u001b[0;32m\"<ipython-input-3-6bb6d79ffb96>\"\u001b[0;36m, line \u001b[0;32m5\u001b[0m\n\u001b[0;31m    print \"result= \"result\u001b[0m\n\u001b[0m                         ^\u001b[0m\n\u001b[0;31mSyntaxError\u001b[0m\u001b[0;31m:\u001b[0m invalid syntax\n"
     ]
    }
   ],
   "source": [
    "a=10\n",
    "b=20.0\n",
    "print a,b\n",
    "result=a/b\n",
    "print \"result= \"result"
   ]
  },
  {
   "cell_type": "code",
   "execution_count": 4,
   "metadata": {},
   "outputs": [
    {
     "name": "stdout",
     "output_type": "stream",
     "text": [
      "10 0.0\n"
     ]
    },
    {
     "ename": "ZeroDivisionError",
     "evalue": "float division by zero",
     "output_type": "error",
     "traceback": [
      "\u001b[0;31m---------------------------------------------------------------------------\u001b[0m",
      "\u001b[0;31mZeroDivisionError\u001b[0m                         Traceback (most recent call last)",
      "\u001b[0;32m<ipython-input-4-7252d22cb744>\u001b[0m in \u001b[0;36m<module>\u001b[0;34m()\u001b[0m\n\u001b[1;32m      2\u001b[0m \u001b[0mb\u001b[0m\u001b[0;34m=\u001b[0m\u001b[0;36m0.0\u001b[0m\u001b[0;34m\u001b[0m\u001b[0m\n\u001b[1;32m      3\u001b[0m \u001b[0;32mprint\u001b[0m \u001b[0ma\u001b[0m\u001b[0;34m,\u001b[0m\u001b[0mb\u001b[0m\u001b[0;34m\u001b[0m\u001b[0m\n\u001b[0;32m----> 4\u001b[0;31m \u001b[0mresult\u001b[0m\u001b[0;34m=\u001b[0m\u001b[0ma\u001b[0m\u001b[0;34m/\u001b[0m\u001b[0mb\u001b[0m\u001b[0;34m\u001b[0m\u001b[0m\n\u001b[0m\u001b[1;32m      5\u001b[0m \u001b[0;32mprint\u001b[0m \u001b[0;34m\"result= \"\u001b[0m\u001b[0;34m,\u001b[0m\u001b[0mresult\u001b[0m\u001b[0;34m\u001b[0m\u001b[0m\n",
      "\u001b[0;31mZeroDivisionError\u001b[0m: float division by zero"
     ]
    }
   ],
   "source": [
    "a=10\n",
    "b=0.0\n",
    "print a,b\n",
    "result=a/b\n",
    "print \"result= \",result"
   ]
  },
  {
   "cell_type": "code",
   "execution_count": 5,
   "metadata": {},
   "outputs": [
    {
     "name": "stdout",
     "output_type": "stream",
     "text": [
      "enter a number.1: 12\n",
      "enter a number.2: 34\n",
      "before conversation: n1=12, n2=34\n",
      "before conversation: n1=12, n2=34\n",
      "result=  0\n",
      "other statement inn program\n",
      "thankypou\n"
     ]
    }
   ],
   "source": [
    "n1=raw_input(\"enter a number.1: \")\n",
    "n2=raw_input(\"enter a number.2: \")\n",
    "print \"before conversation: n1=%s, n2=%s\"%(n1,n2)\n",
    "n1=int(n1)\n",
    "n2=int(n2)\n",
    "print \"before conversation: n1=%s, n2=%s\"%(n1,n2)\n",
    "result=n1/n2\n",
    "print \"result= \",result\n",
    "print \"other statement inn program\"\n",
    "print \"thankypou\"\n"
   ]
  },
  {
   "cell_type": "code",
   "execution_count": 6,
   "metadata": {},
   "outputs": [
    {
     "name": "stdout",
     "output_type": "stream",
     "text": [
      "enter a number.1: n1\n",
      "enter a number.2: n2\n",
      "before conversation: n1=n1, n2=n2\n"
     ]
    },
    {
     "ename": "ValueError",
     "evalue": "invalid literal for int() with base 10: 'n1'",
     "output_type": "error",
     "traceback": [
      "\u001b[0;31m---------------------------------------------------------------------------\u001b[0m",
      "\u001b[0;31mValueError\u001b[0m                                Traceback (most recent call last)",
      "\u001b[0;32m<ipython-input-6-0eaa185979ed>\u001b[0m in \u001b[0;36m<module>\u001b[0;34m()\u001b[0m\n\u001b[1;32m      2\u001b[0m \u001b[0mn2\u001b[0m\u001b[0;34m=\u001b[0m\u001b[0mraw_input\u001b[0m\u001b[0;34m(\u001b[0m\u001b[0;34m\"enter a number.2: \"\u001b[0m\u001b[0;34m)\u001b[0m\u001b[0;34m\u001b[0m\u001b[0m\n\u001b[1;32m      3\u001b[0m \u001b[0;32mprint\u001b[0m \u001b[0;34m\"before conversation: n1=%s, n2=%s\"\u001b[0m\u001b[0;34m%\u001b[0m\u001b[0;34m(\u001b[0m\u001b[0mn1\u001b[0m\u001b[0;34m,\u001b[0m\u001b[0mn2\u001b[0m\u001b[0;34m)\u001b[0m\u001b[0;34m\u001b[0m\u001b[0m\n\u001b[0;32m----> 4\u001b[0;31m \u001b[0mn1\u001b[0m\u001b[0;34m=\u001b[0m\u001b[0mint\u001b[0m\u001b[0;34m(\u001b[0m\u001b[0mn1\u001b[0m\u001b[0;34m)\u001b[0m\u001b[0;34m\u001b[0m\u001b[0m\n\u001b[0m\u001b[1;32m      5\u001b[0m \u001b[0mn2\u001b[0m\u001b[0;34m=\u001b[0m\u001b[0mint\u001b[0m\u001b[0;34m(\u001b[0m\u001b[0mn2\u001b[0m\u001b[0;34m)\u001b[0m\u001b[0;34m\u001b[0m\u001b[0m\n\u001b[1;32m      6\u001b[0m \u001b[0;32mprint\u001b[0m \u001b[0;34m\"before conversation: n1=%s, n2=%s\"\u001b[0m\u001b[0;34m%\u001b[0m\u001b[0;34m(\u001b[0m\u001b[0mn1\u001b[0m\u001b[0;34m,\u001b[0m\u001b[0mn2\u001b[0m\u001b[0;34m)\u001b[0m\u001b[0;34m\u001b[0m\u001b[0m\n",
      "\u001b[0;31mValueError\u001b[0m: invalid literal for int() with base 10: 'n1'"
     ]
    }
   ],
   "source": [
    "n1=raw_input(\"enter a number.1: \")\n",
    "n2=raw_input(\"enter a number.2: \")\n",
    "print \"before conversation: n1=%s, n2=%s\"%(n1,n2)\n",
    "n1=int(n1)\n",
    "n2=int(n2)\n",
    "print \"before conversation: n1=%s, n2=%s\"%(n1,n2)\n",
    "result=n1/n2\n",
    "print \"result= \",result\n",
    "print \"other statement inn program\"\n",
    "print \"thankypou\"\n",
    "                                          #value error in syntax compiling"
   ]
  },
  {
   "cell_type": "code",
   "execution_count": 7,
   "metadata": {},
   "outputs": [
    {
     "name": "stdout",
     "output_type": "stream",
     "text": [
      "enter a number.1: 12\n",
      "enter a number.2: 0\n",
      "before conversation: n1=12, n2=0\n",
      "before conversation: n1=12, n2=0\n"
     ]
    },
    {
     "ename": "ZeroDivisionError",
     "evalue": "integer division or modulo by zero",
     "output_type": "error",
     "traceback": [
      "\u001b[0;31m---------------------------------------------------------------------------\u001b[0m",
      "\u001b[0;31mZeroDivisionError\u001b[0m                         Traceback (most recent call last)",
      "\u001b[0;32m<ipython-input-7-0eaa185979ed>\u001b[0m in \u001b[0;36m<module>\u001b[0;34m()\u001b[0m\n\u001b[1;32m      5\u001b[0m \u001b[0mn2\u001b[0m\u001b[0;34m=\u001b[0m\u001b[0mint\u001b[0m\u001b[0;34m(\u001b[0m\u001b[0mn2\u001b[0m\u001b[0;34m)\u001b[0m\u001b[0;34m\u001b[0m\u001b[0m\n\u001b[1;32m      6\u001b[0m \u001b[0;32mprint\u001b[0m \u001b[0;34m\"before conversation: n1=%s, n2=%s\"\u001b[0m\u001b[0;34m%\u001b[0m\u001b[0;34m(\u001b[0m\u001b[0mn1\u001b[0m\u001b[0;34m,\u001b[0m\u001b[0mn2\u001b[0m\u001b[0;34m)\u001b[0m\u001b[0;34m\u001b[0m\u001b[0m\n\u001b[0;32m----> 7\u001b[0;31m \u001b[0mresult\u001b[0m\u001b[0;34m=\u001b[0m\u001b[0mn1\u001b[0m\u001b[0;34m/\u001b[0m\u001b[0mn2\u001b[0m\u001b[0;34m\u001b[0m\u001b[0m\n\u001b[0m\u001b[1;32m      8\u001b[0m \u001b[0;32mprint\u001b[0m \u001b[0;34m\"result= \"\u001b[0m\u001b[0;34m,\u001b[0m\u001b[0mresult\u001b[0m\u001b[0;34m\u001b[0m\u001b[0m\n\u001b[1;32m      9\u001b[0m \u001b[0;32mprint\u001b[0m \u001b[0;34m\"other statement inn program\"\u001b[0m\u001b[0;34m\u001b[0m\u001b[0m\n",
      "\u001b[0;31mZeroDivisionError\u001b[0m: integer division or modulo by zero"
     ]
    }
   ],
   "source": [
    "n1=raw_input(\"enter a number.1: \")\n",
    "n2=raw_input(\"enter a number.2: \")\n",
    "print \"before conversation: n1=%s, n2=%s\"%(n1,n2)\n",
    "n1=int(n1)\n",
    "n2=int(n2)\n",
    "print \"before conversation: n1=%s, n2=%s\"%(n1,n2)\n",
    "result=n1/n2\n",
    "print \"result= \",result\n",
    "print \"other statement inn program\"\n",
    "print \"thankypou\"\n",
    "                                      #zerodivisionerror in runprogram"
   ]
  },
  {
   "cell_type": "code",
   "execution_count": 8,
   "metadata": {},
   "outputs": [
    {
     "name": "stdout",
     "output_type": "stream",
     "text": [
      "enter a number.1: 12\n",
      "enter a number.2: 6\n",
      "before conversation: n1=12, n2=6\n",
      "before conversation: n1=12, n2=6\n",
      "result=  2\n",
      "other statement inn program\n",
      "thankypou\n"
     ]
    }
   ],
   "source": [
    "try:\n",
    "    n1=raw_input(\"enter a number.1: \")\n",
    "    n2=raw_input(\"enter a number.2: \")\n",
    "    print \"before conversation: n1=%s, n2=%s\"%(n1,n2)\n",
    "    n1=int(n1)\n",
    "    n2=int(n2)\n",
    "    print \"before conversation: n1=%s, n2=%s\"%(n1,n2)\n",
    "    result=n1/n2\n",
    "    print \"result= \",result\n",
    "    print \"other statement inn program\"\n",
    "    print \"thankypou\"\n",
    "except:\n",
    "    print \"something went wrong\""
   ]
  },
  {
   "cell_type": "code",
   "execution_count": 9,
   "metadata": {},
   "outputs": [
    {
     "name": "stdout",
     "output_type": "stream",
     "text": [
      "enter a number.1: 1.2\n",
      "enter a number.2: 30\n",
      "before conversation: n1=1.2, n2=30\n",
      "something went wrong\n"
     ]
    }
   ],
   "source": [
    "try:\n",
    "    n1=raw_input(\"enter a number.1: \")\n",
    "    n2=raw_input(\"enter a number.2: \")\n",
    "    print \"before conversation: n1=%s, n2=%s\"%(n1,n2)\n",
    "    n1=int(n1)\n",
    "    n2=int(n2)\n",
    "    print \"before conversation: n1=%s, n2=%s\"%(n1,n2)\n",
    "    result=n1/n2\n",
    "    print \"result= \",result\n",
    "    print \"other statement inn program\"\n",
    "    print \"thankypou\"\n",
    "except:\n",
    "    print \"something went wrong\""
   ]
  },
  {
   "cell_type": "code",
   "execution_count": 10,
   "metadata": {},
   "outputs": [
    {
     "name": "stdout",
     "output_type": "stream",
     "text": [
      "enter a number.1: 1.2\n",
      "enter a number.2: 30\n",
      "before conversation: n1=1.2, n2=30\n"
     ]
    },
    {
     "ename": "ValueError",
     "evalue": "invalid literal for int() with base 10: '1.2'",
     "output_type": "error",
     "traceback": [
      "\u001b[0;31m---------------------------------------------------------------------------\u001b[0m",
      "\u001b[0;31mValueError\u001b[0m                                Traceback (most recent call last)",
      "\u001b[0;32m<ipython-input-10-323c2cd2abcc>\u001b[0m in \u001b[0;36m<module>\u001b[0;34m()\u001b[0m\n\u001b[1;32m      2\u001b[0m \u001b[0mn2\u001b[0m\u001b[0;34m=\u001b[0m\u001b[0mraw_input\u001b[0m\u001b[0;34m(\u001b[0m\u001b[0;34m\"enter a number.2: \"\u001b[0m\u001b[0;34m)\u001b[0m\u001b[0;34m\u001b[0m\u001b[0m\n\u001b[1;32m      3\u001b[0m \u001b[0;32mprint\u001b[0m \u001b[0;34m\"before conversation: n1=%s, n2=%s\"\u001b[0m\u001b[0;34m%\u001b[0m\u001b[0;34m(\u001b[0m\u001b[0mn1\u001b[0m\u001b[0;34m,\u001b[0m\u001b[0mn2\u001b[0m\u001b[0;34m)\u001b[0m\u001b[0;34m\u001b[0m\u001b[0m\n\u001b[0;32m----> 4\u001b[0;31m \u001b[0mn1\u001b[0m\u001b[0;34m=\u001b[0m\u001b[0mint\u001b[0m\u001b[0;34m(\u001b[0m\u001b[0mn1\u001b[0m\u001b[0;34m)\u001b[0m\u001b[0;34m\u001b[0m\u001b[0m\n\u001b[0m\u001b[1;32m      5\u001b[0m \u001b[0mn2\u001b[0m\u001b[0;34m=\u001b[0m\u001b[0mint\u001b[0m\u001b[0;34m(\u001b[0m\u001b[0mn2\u001b[0m\u001b[0;34m)\u001b[0m\u001b[0;34m\u001b[0m\u001b[0m\n\u001b[1;32m      6\u001b[0m \u001b[0;32mprint\u001b[0m \u001b[0;34m\"before conversation: n1=%s, n2=%s\"\u001b[0m\u001b[0;34m%\u001b[0m\u001b[0;34m(\u001b[0m\u001b[0mn1\u001b[0m\u001b[0;34m,\u001b[0m\u001b[0mn2\u001b[0m\u001b[0;34m)\u001b[0m\u001b[0;34m\u001b[0m\u001b[0m\n",
      "\u001b[0;31mValueError\u001b[0m: invalid literal for int() with base 10: '1.2'"
     ]
    }
   ],
   "source": [
    "n1=raw_input(\"enter a number.1: \")\n",
    "n2=raw_input(\"enter a number.2: \")\n",
    "print \"before conversation: n1=%s, n2=%s\"%(n1,n2)\n",
    "n1=int(n1)\n",
    "n2=int(n2)\n",
    "print \"before conversation: n1=%s, n2=%s\"%(n1,n2)\n",
    "result=n1/n2\n",
    "print \"result= \",result\n",
    "print \"other statement inn program\"\n",
    "print \"thankyou\"\n"
   ]
  },
  {
   "cell_type": "code",
   "execution_count": 11,
   "metadata": {},
   "outputs": [
    {
     "name": "stdout",
     "output_type": "stream",
     "text": [
      "enter a number.1: 12\n",
      "enter a number.2: 6\n",
      "before conversation: n1=12, n2=6\n",
      "before conversation: n1=12, n2=6\n",
      "result=  2\n",
      "other statement inn program\n",
      "thankyou\n"
     ]
    }
   ],
   "source": [
    "n1=raw_input(\"enter a number.1: \")\n",
    "n2=raw_input(\"enter a number.2: \")\n",
    "print \"before conversation: n1=%s, n2=%s\"%(n1,n2)\n",
    "n1=int(n1)\n",
    "n2=int(n2)\n",
    "print \"before conversation: n1=%s, n2=%s\"%(n1,n2)\n",
    "result=n1/n2\n",
    "print \"result= \",result\n",
    "print \"other statement inn program\"\n",
    "print \"thankyou\"\n"
   ]
  },
  {
   "cell_type": "code",
   "execution_count": 14,
   "metadata": {},
   "outputs": [
    {
     "name": "stdout",
     "output_type": "stream",
     "text": [
      "enter a number.1: 40.2\n",
      "enter a number.2: 2.2\n",
      "before conversation: n1=40.2, n2=2.2\n",
      "before conversation: n1=40.2, n2=2.2\n",
      "result=  18.2727272727\n",
      "other statement inn program\n",
      "thankyou\n"
     ]
    }
   ],
   "source": [
    "n1=raw_input(\"enter a number.1: \")\n",
    "n2=raw_input(\"enter a number.2: \")\n",
    "print \"before conversation: n1=%s, n2=%s\"%(n1,n2)\n",
    "n1=float(n1)\n",
    "n2=float(n2)\n",
    "print \"before conversation: n1=%s, n2=%s\"%(n1,n2)\n",
    "result=n1/n2\n",
    "print \"result= \",result\n",
    "print \"other statement inn program\"\n",
    "print \"thankyou\"\n"
   ]
  },
  {
   "cell_type": "code",
   "execution_count": 15,
   "metadata": {},
   "outputs": [
    {
     "name": "stdout",
     "output_type": "stream",
     "text": [
      "enter a number.1: 12\n",
      "enter a number.2: 0\n",
      "before conversation: n1=12, n2=0\n",
      "before conversation: n1=12.0, n2=0.0\n"
     ]
    },
    {
     "ename": "ZeroDivisionError",
     "evalue": "float division by zero",
     "output_type": "error",
     "traceback": [
      "\u001b[0;31m---------------------------------------------------------------------------\u001b[0m",
      "\u001b[0;31mZeroDivisionError\u001b[0m                         Traceback (most recent call last)",
      "\u001b[0;32m<ipython-input-15-eed2fe1c2bab>\u001b[0m in \u001b[0;36m<module>\u001b[0;34m()\u001b[0m\n\u001b[1;32m      5\u001b[0m \u001b[0mn2\u001b[0m\u001b[0;34m=\u001b[0m\u001b[0mfloat\u001b[0m\u001b[0;34m(\u001b[0m\u001b[0mn2\u001b[0m\u001b[0;34m)\u001b[0m\u001b[0;34m\u001b[0m\u001b[0m\n\u001b[1;32m      6\u001b[0m \u001b[0;32mprint\u001b[0m \u001b[0;34m\"before conversation: n1=%s, n2=%s\"\u001b[0m\u001b[0;34m%\u001b[0m\u001b[0;34m(\u001b[0m\u001b[0mn1\u001b[0m\u001b[0;34m,\u001b[0m\u001b[0mn2\u001b[0m\u001b[0;34m)\u001b[0m\u001b[0;34m\u001b[0m\u001b[0m\n\u001b[0;32m----> 7\u001b[0;31m \u001b[0mresult\u001b[0m\u001b[0;34m=\u001b[0m\u001b[0mn1\u001b[0m\u001b[0;34m/\u001b[0m\u001b[0mn2\u001b[0m\u001b[0;34m\u001b[0m\u001b[0m\n\u001b[0m\u001b[1;32m      8\u001b[0m \u001b[0;32mprint\u001b[0m \u001b[0;34m\"result= \"\u001b[0m\u001b[0;34m,\u001b[0m\u001b[0mresult\u001b[0m\u001b[0;34m\u001b[0m\u001b[0m\n\u001b[1;32m      9\u001b[0m \u001b[0;32mprint\u001b[0m \u001b[0;34m\"other statement inn program\"\u001b[0m\u001b[0;34m\u001b[0m\u001b[0m\n",
      "\u001b[0;31mZeroDivisionError\u001b[0m: float division by zero"
     ]
    }
   ],
   "source": [
    "n1=raw_input(\"enter a number.1: \")\n",
    "n2=raw_input(\"enter a number.2: \")\n",
    "print \"before conversation: n1=%s, n2=%s\"%(n1,n2)\n",
    "n1=float(n1)\n",
    "n2=float(n2)\n",
    "print \"before conversation: n1=%s, n2=%s\"%(n1,n2)\n",
    "result=n1/n2\n",
    "print \"result= \",result\n",
    "print \"other statement inn program\"\n",
    "print \"thankyou\"\n"
   ]
  },
  {
   "cell_type": "code",
   "execution_count": 16,
   "metadata": {},
   "outputs": [
    {
     "name": "stdout",
     "output_type": "stream",
     "text": [
      "enter a number.1: 12\n",
      "enter a number.2: 6\n",
      "before conversation: n1=12, n2=6\n",
      "before conversation: n1=12.0, n2=6.0\n",
      "result=  2.0\n",
      "other statement inn program\n",
      "thankyou\n"
     ]
    }
   ],
   "source": [
    "n1=raw_input(\"enter a number.1: \")\n",
    "n2=raw_input(\"enter a number.2: \")\n",
    "print \"before conversation: n1=%s, n2=%s\"%(n1,n2)\n",
    "n1=float(n1)\n",
    "n2=float(n2)\n",
    "print \"before conversation: n1=%s, n2=%s\"%(n1,n2)\n",
    "result=n1/n2\n",
    "print \"result= \",result\n",
    "print \"other statement inn program\"\n",
    "print \"thankyou\"\n"
   ]
  },
  {
   "cell_type": "code",
   "execution_count": 17,
   "metadata": {},
   "outputs": [
    {
     "name": "stdout",
     "output_type": "stream",
     "text": [
      "enter a number.1: 12\n",
      "enter a number.2: sdfga\n",
      "before conversation: n1=12, n2=sdfga\n"
     ]
    },
    {
     "ename": "ValueError",
     "evalue": "could not convert string to float: sdfga",
     "output_type": "error",
     "traceback": [
      "\u001b[0;31m---------------------------------------------------------------------------\u001b[0m",
      "\u001b[0;31mValueError\u001b[0m                                Traceback (most recent call last)",
      "\u001b[0;32m<ipython-input-17-eed2fe1c2bab>\u001b[0m in \u001b[0;36m<module>\u001b[0;34m()\u001b[0m\n\u001b[1;32m      3\u001b[0m \u001b[0;32mprint\u001b[0m \u001b[0;34m\"before conversation: n1=%s, n2=%s\"\u001b[0m\u001b[0;34m%\u001b[0m\u001b[0;34m(\u001b[0m\u001b[0mn1\u001b[0m\u001b[0;34m,\u001b[0m\u001b[0mn2\u001b[0m\u001b[0;34m)\u001b[0m\u001b[0;34m\u001b[0m\u001b[0m\n\u001b[1;32m      4\u001b[0m \u001b[0mn1\u001b[0m\u001b[0;34m=\u001b[0m\u001b[0mfloat\u001b[0m\u001b[0;34m(\u001b[0m\u001b[0mn1\u001b[0m\u001b[0;34m)\u001b[0m\u001b[0;34m\u001b[0m\u001b[0m\n\u001b[0;32m----> 5\u001b[0;31m \u001b[0mn2\u001b[0m\u001b[0;34m=\u001b[0m\u001b[0mfloat\u001b[0m\u001b[0;34m(\u001b[0m\u001b[0mn2\u001b[0m\u001b[0;34m)\u001b[0m\u001b[0;34m\u001b[0m\u001b[0m\n\u001b[0m\u001b[1;32m      6\u001b[0m \u001b[0;32mprint\u001b[0m \u001b[0;34m\"before conversation: n1=%s, n2=%s\"\u001b[0m\u001b[0;34m%\u001b[0m\u001b[0;34m(\u001b[0m\u001b[0mn1\u001b[0m\u001b[0;34m,\u001b[0m\u001b[0mn2\u001b[0m\u001b[0;34m)\u001b[0m\u001b[0;34m\u001b[0m\u001b[0m\n\u001b[1;32m      7\u001b[0m \u001b[0mresult\u001b[0m\u001b[0;34m=\u001b[0m\u001b[0mn1\u001b[0m\u001b[0;34m/\u001b[0m\u001b[0mn2\u001b[0m\u001b[0;34m\u001b[0m\u001b[0m\n",
      "\u001b[0;31mValueError\u001b[0m: could not convert string to float: sdfga"
     ]
    }
   ],
   "source": [
    "n1=raw_input(\"enter a number.1: \")\n",
    "n2=raw_input(\"enter a number.2: \")\n",
    "print \"before conversation: n1=%s, n2=%s\"%(n1,n2)\n",
    "n1=float(n1)\n",
    "n2=float(n2)\n",
    "print \"before conversation: n1=%s, n2=%s\"%(n1,n2)\n",
    "result=n1/n2\n",
    "print \"result= \",result\n",
    "print \"other statement inn program\"\n",
    "print \"thankyou\"\n"
   ]
  },
  {
   "cell_type": "code",
   "execution_count": 18,
   "metadata": {},
   "outputs": [
    {
     "name": "stdout",
     "output_type": "stream",
     "text": [
      "enter a number.1: 12\n",
      "enter a number.2: sdfgs\n",
      "before conversation: n1=12, n2=sdfgs\n",
      "something went wrong\n"
     ]
    }
   ],
   "source": [
    "try:\n",
    "    n1=raw_input(\"enter a number.1: \")\n",
    "    n2=raw_input(\"enter a number.2: \")\n",
    "    print \"before conversation: n1=%s, n2=%s\"%(n1,n2)    #this is not necessery in try line\n",
    "    n1=float(n1)\n",
    "    n2=float(n2)\n",
    "    print \"before conversation: n1=%s, n2=%s\"%(n1,n2)\n",
    "    result=n1/n2\n",
    "    print \"result= \",result\n",
    "    print \"other statement inn program\"\n",
    "    print \"thankyou\"\n",
    "except:\n",
    "    print\"something went wrong\"\n"
   ]
  },
  {
   "cell_type": "code",
   "execution_count": 19,
   "metadata": {},
   "outputs": [
    {
     "name": "stdout",
     "output_type": "stream",
     "text": [
      "enter a number.1: 12\n",
      "enter a number.2: 6\n",
      "before conversation: n1=12, n2=6\n",
      "before conversation: n1=12.0, n2=6.0\n",
      "result=  2.0\n",
      "other statement inn program\n",
      "thankyou\n"
     ]
    }
   ],
   "source": [
    "n1=raw_input(\"enter a number.1: \")\n",
    "n2=raw_input(\"enter a number.2: \")\n",
    "print \"before conversation: n1=%s, n2=%s\"%(n1,n2)\n",
    "try:\n",
    "    n1=float(n1)\n",
    "    n2=float(n2)\n",
    "    print \"before conversation: n1=%s, n2=%s\"%(n1,n2)\n",
    "    result=n1/n2\n",
    "    print \"result= \",result\n",
    "except:\n",
    "    print\"something went wrong\"\n",
    "print \"other statement inn program\"\n",
    "print \"thankyou\""
   ]
  },
  {
   "cell_type": "code",
   "execution_count": 20,
   "metadata": {},
   "outputs": [
    {
     "name": "stdout",
     "output_type": "stream",
     "text": [
      "enter a number.1: 12\n",
      "enter a number.2: sdfghj\n",
      "before conversation: n1=12, n2=sdfghj\n",
      "something went wrong\n",
      "other statement inn program\n",
      "thankyou\n"
     ]
    }
   ],
   "source": [
    "n1=raw_input(\"enter a number.1: \")\n",
    "n2=raw_input(\"enter a number.2: \")\n",
    "print \"before conversation: n1=%s, n2=%s\"%(n1,n2)\n",
    "try:\n",
    "    n1=float(n1)\n",
    "    n2=float(n2)\n",
    "    print \"before conversation: n1=%s, n2=%s\"%(n1,n2)\n",
    "    result=n1/n2\n",
    "    print \"result= \",result\n",
    "except:\n",
    "    print\"something went wrong\"\n",
    "print \"other statement inn program\"\n",
    "print \"thankyou\""
   ]
  },
  {
   "cell_type": "code",
   "execution_count": 21,
   "metadata": {},
   "outputs": [
    {
     "name": "stdout",
     "output_type": "stream",
     "text": [
      "enter a number.1: 12\n",
      "enter a number.2: 6\n",
      "before conversation: n1=12, n2=6\n",
      "before conversation: n1=12.0, n2=6.0\n",
      "result=  2.0\n",
      "other statement inn program\n",
      "thankyou\n"
     ]
    }
   ],
   "source": [
    "n1=raw_input(\"enter a number.1: \")\n",
    "n2=raw_input(\"enter a number.2: \")\n",
    "print \"before conversation: n1=%s, n2=%s\"%(n1,n2)\n",
    "try:\n",
    "    n1=float(n1)\n",
    "    n2=float(n2)\n",
    "    print \"before conversation: n1=%s, n2=%s\"%(n1,n2)\n",
    "    result=n1/n2\n",
    "    print \"result= \",result\n",
    "except:\n",
    "    print\"something went wrong\"\n",
    "print \"other statement inn program\"\n",
    "print \"thankyou\""
   ]
  },
  {
   "cell_type": "code",
   "execution_count": 22,
   "metadata": {},
   "outputs": [
    {
     "name": "stdout",
     "output_type": "stream",
     "text": [
      "enter a number.1: 12.0\n",
      "enter a number.2: 0.3\n",
      "before conversation: n1=12.0, n2=0.3\n",
      "before conversation: n1=12.0, n2=0.3\n",
      "result=  40.0\n",
      "other statement inn program\n",
      "thankyou\n"
     ]
    }
   ],
   "source": [
    "n1=raw_input(\"enter a number.1: \")\n",
    "n2=raw_input(\"enter a number.2: \")\n",
    "print \"before conversation: n1=%s, n2=%s\"%(n1,n2)\n",
    "try:\n",
    "    n1=float(n1)\n",
    "    n2=float(n2)\n",
    "    print \"before conversation: n1=%s, n2=%s\"%(n1,n2)\n",
    "    result=n1/n2\n",
    "    print \"result= \",result\n",
    "except:\n",
    "    print\"something went wrong\"\n",
    "print \"other statement inn program\"\n",
    "print \"thankyou\"\n"
   ]
  },
  {
   "cell_type": "code",
   "execution_count": 23,
   "metadata": {},
   "outputs": [
    {
     "name": "stdout",
     "output_type": "stream",
     "text": [
      "enter a number.1: 12\n",
      "enter a number.2: 2\n",
      "before conversation: n1=12, n2=2\n",
      "before conversation: n1=12.0, n2=2.0\n",
      "result=  6.0\n",
      "other statement inn program\n",
      "thankyou\n"
     ]
    }
   ],
   "source": [
    "n1=raw_input(\"enter a number.1: \")\n",
    "n2=raw_input(\"enter a number.2: \")\n",
    "print \"before conversation: n1=%s, n2=%s\"%(n1,n2)\n",
    "try:\n",
    "    n1=float(n1)\n",
    "    n2=float(n2)\n",
    "    print \"before conversation: n1=%s, n2=%s\"%(n1,n2)\n",
    "    result=n1/n2\n",
    "    print \"result= \",result\n",
    "except:\n",
    "    print\"something went wrong\"\n",
    "print \"other statement inn program\"\n",
    "print \"thankyou\"\n"
   ]
  },
  {
   "cell_type": "code",
   "execution_count": 24,
   "metadata": {},
   "outputs": [
    {
     "name": "stdout",
     "output_type": "stream",
     "text": [
      "enter a number.1: 12\n",
      "enter a number.2: 4\n",
      "before conversation: n1=12, n2=4\n",
      "before conversation: n1=12.0, n2=4.0\n",
      "result=  3.0\n",
      "other statement inn program\n",
      "thankyou\n"
     ]
    }
   ],
   "source": [
    "n1=raw_input(\"enter a number.1: \")\n",
    "n2=raw_input(\"enter a number.2: \")\n",
    "print \"before conversation: n1=%s, n2=%s\"%(n1,n2)\n",
    "try:\n",
    "    n1=float(n1)\n",
    "    n2=float(n2)\n",
    "    print \"before conversation: n1=%s, n2=%s\"%(n1,n2)\n",
    "    result=n1/n2\n",
    "    print \"result= \",result\n",
    "except:\n",
    "    print\"something went wrong\"\n",
    "print \"other statement inn program\"\n",
    "print \"thankyou\"\n",
    "\n"
   ]
  },
  {
   "cell_type": "code",
   "execution_count": 25,
   "metadata": {},
   "outputs": [
    {
     "name": "stdout",
     "output_type": "stream",
     "text": [
      "enter a number.1: 12\n",
      "enter a number.2: 2\n",
      "before conversation: n1=12, n2=2\n",
      "before conversation: n1=12.0, n2=2.0\n",
      "result=  6.0\n",
      "other statement inn program\n",
      "thankyou\n"
     ]
    }
   ],
   "source": [
    "n1=raw_input(\"enter a number.1: \")\n",
    "n2=raw_input(\"enter a number.2: \")\n",
    "print \"before conversation: n1=%s, n2=%s\"%(n1,n2)\n",
    "try:\n",
    "    n1=float(n1)\n",
    "    n2=float(n2)\n",
    "    print \"before conversation: n1=%s, n2=%s\"%(n1,n2)\n",
    "    result=n1/n2\n",
    "    print \"result= \",result\n",
    "except:\n",
    "    print\"something went wrong\"\n",
    "print \"other statement inn program\"\n",
    "print \"thankyou\"\n"
   ]
  },
  {
   "cell_type": "code",
   "execution_count": 26,
   "metadata": {},
   "outputs": [
    {
     "name": "stdout",
     "output_type": "stream",
     "text": [
      "enter a number.1: 12\n",
      "enter a number.2: sdfgd\n",
      "before conversation: n1=12, n2=sdfgd\n",
      "something went wrong\n",
      "other statement inn program\n",
      "thankyou\n"
     ]
    }
   ],
   "source": [
    "n1=raw_input(\"enter a number.1: \")\n",
    "n2=raw_input(\"enter a number.2: \")\n",
    "print \"before conversation: n1=%s, n2=%s\"%(n1,n2)\n",
    "try:\n",
    "    n1=float(n1)\n",
    "    n2=float(n2)\n",
    "    print \"before conversation: n1=%s, n2=%s\"%(n1,n2)\n",
    "    result=n1/n2\n",
    "    print \"result= \",result\n",
    "except:\n",
    "    print\"something went wrong\"\n",
    "print \"other statement inn program\"\n",
    "print \"thankyou\"\n"
   ]
  },
  {
   "cell_type": "code",
   "execution_count": 27,
   "metadata": {},
   "outputs": [
    {
     "name": "stdout",
     "output_type": "stream",
     "text": [
      "enter a number.1: jnak\n",
      "enter a number.2: kjadsfa\n",
      "before conversation: n1=jnak, n2=kjadsfa\n",
      "something went wrong\n",
      "other statement inn program\n",
      "thankyou\n"
     ]
    }
   ],
   "source": [
    "n1=raw_input(\"enter a number.1: \")\n",
    "n2=raw_input(\"enter a number.2: \")\n",
    "print \"before conversation: n1=%s, n2=%s\"%(n1,n2)\n",
    "try:\n",
    "    n1=float(n1)\n",
    "    n2=float(n2)\n",
    "    print \"before conversation: n1=%s, n2=%s\"%(n1,n2)\n",
    "    result=n1/n2\n",
    "    print \"result= \",result\n",
    "except:\n",
    "    print\"something went wrong\"\n",
    "print \"other statement inn program\"\n",
    "print \"thankyou\"\n"
   ]
  },
  {
   "cell_type": "code",
   "execution_count": 28,
   "metadata": {},
   "outputs": [
    {
     "name": "stdout",
     "output_type": "stream",
     "text": [
      "enter a number.1: 12\n",
      "enter a number.2: 6\n",
      "before conversation: n1=12, n2=6\n",
      "before conversation: n1=12.0, n2=6.0\n",
      "result=  2.0\n",
      "other statement inn program\n",
      "thankyou\n"
     ]
    }
   ],
   "source": [
    "n1=raw_input(\"enter a number.1: \")\n",
    "n2=raw_input(\"enter a number.2: \")\n",
    "print \"before conversation: n1=%s, n2=%s\"%(n1,n2)\n",
    "try:\n",
    "    n1=float(n1)\n",
    "    n2=float(n2)\n",
    "    print \"before conversation: n1=%s, n2=%s\"%(n1,n2)\n",
    "    result=n1/n2\n",
    "    print \"result= \",result\n",
    "except:\n",
    "    print\"something went wrong\"\n",
    "print \"other statement inn program\"\n",
    "print \"thankyou\"\n"
   ]
  },
  {
   "cell_type": "code",
   "execution_count": 1,
   "metadata": {},
   "outputs": [
    {
     "name": "stdout",
     "output_type": "stream",
     "text": [
      "person details\n",
      "enter a name:ramesh\n",
      "enter age20\n",
      "before conversation a=ramesh, b=20\n",
      "person applicable to voter application\n",
      "thankyou\n"
     ]
    }
   ],
   "source": [
    "print \"person details\"\n",
    "a=raw_input(\"enter a name:\")\n",
    "b=raw_input(\"enter age\")\n",
    "print \"before conversation a=%s, b=%s\"%(a,b)\n",
    "try:\n",
    "    a1=str(a)\n",
    "    b1=int(b)\n",
    "    if b1>=18:\n",
    "        print \"person applicable to voter application\"\n",
    "    else:\n",
    "        print \"doesnotapplicable to voter application\"\n",
    "except:\n",
    "    print\"something went wrong\"\n",
    "print \"thankyou\""
   ]
  },
  {
   "cell_type": "code",
   "execution_count": 2,
   "metadata": {},
   "outputs": [
    {
     "name": "stdout",
     "output_type": "stream",
     "text": [
      "person details\n",
      "enter a name:ramesh\n",
      "enter age10\n",
      "before conversation a=ramesh, b=10\n",
      "doesnotapplicable to voter application\n",
      "thankyou\n"
     ]
    }
   ],
   "source": [
    "print \"person details\"\n",
    "a=raw_input(\"enter a name:\")\n",
    "b=raw_input(\"enter age\")\n",
    "print \"before conversation a=%s, b=%s\"%(a,b)\n",
    "try:\n",
    "    a1=str(a)\n",
    "    b1=int(b)\n",
    "    if b1>=18:\n",
    "        print \"person applicable to voter application\"\n",
    "    else:\n",
    "        print \"doesnotapplicable to voter application\"\n",
    "except:\n",
    "    print\"something went wrong\"\n",
    "print \"thankyou\""
   ]
  },
  {
   "cell_type": "code",
   "execution_count": 4,
   "metadata": {},
   "outputs": [
    {
     "name": "stdout",
     "output_type": "stream",
     "text": [
      "person details\n",
      "enter a name:12.2\n",
      "enter ageljdkskfa\n",
      "before conversation a=12.2, b=ljdkskfa\n",
      "something went wrong\n",
      "thankyou\n"
     ]
    }
   ],
   "source": [
    "print \"person details\"\n",
    "a=raw_input(\"enter a name:\")\n",
    "b=raw_input(\"enter age\")\n",
    "print \"before conversation a=%s, b=%s\"%(a,b)\n",
    "try:\n",
    "    a1=str(a)\n",
    "    b1=int(b)\n",
    "    if b1>=18:\n",
    "        print \"person applicable to voter application\"\n",
    "    else:\n",
    "        print \"doesnotapplicable to voter application\"\n",
    "except:\n",
    "    print\"something went wrong\"\n",
    "print \"thankyou\""
   ]
  },
  {
   "cell_type": "code",
   "execution_count": 5,
   "metadata": {},
   "outputs": [
    {
     "name": "stdout",
     "output_type": "stream",
     "text": [
      "take a string from user:hyderabad is capital city\n",
      "before conversatio str=<type 'str'>,sub_str=enter sub_str:\n",
      "something went wrong\n",
      "thank you\n"
     ]
    }
   ],
   "source": [
    "string=raw_input(\"take a string from user:\")\n",
    "sub_str=raw_input(\"enter sub_str:\")\n",
    "print \"before conversation  str=%s,sub_str=%s\"%(str,sub_str)\n",
    "try:\n",
    "    a1=str(string)\n",
    "    b1=str(sub_string)\n",
    "    print \"after conversatio str=%s,sub_str=%s\"%(str,sub_str)\n",
    "    if  a1==b1:\n",
    "        print \"the substring present in string\"\n",
    "    else:\n",
    "        print\"the substring does not present in string\"\n",
    "except:\n",
    "    print\"something went wrong\"\n",
    "print\"thank you\""
   ]
  },
  {
   "cell_type": "code",
   "execution_count": 6,
   "metadata": {},
   "outputs": [
    {
     "ename": "IndentationError",
     "evalue": "expected an indented block (<ipython-input-6-22e4c1a0b027>, line 5)",
     "output_type": "error",
     "traceback": [
      "\u001b[0;36m  File \u001b[0;32m\"<ipython-input-6-22e4c1a0b027>\"\u001b[0;36m, line \u001b[0;32m5\u001b[0m\n\u001b[0;31m    \u001b[0m\n\u001b[0m    ^\u001b[0m\n\u001b[0;31mIndentationError\u001b[0m\u001b[0;31m:\u001b[0m expected an indented block\n"
     ]
    }
   ],
   "source": [
    "string=raw_input(\"take a string from user:\")\n",
    "string_u=string.upper()\n",
    "sub_str=raw_input(\"enter sub_str:\")\n",
    "try:\n",
    "    "
   ]
  },
  {
   "cell_type": "code",
   "execution_count": 9,
   "metadata": {},
   "outputs": [
    {
     "name": "stdout",
     "output_type": "stream",
     "text": [
      "enter a number.1: 12\n",
      "enter a number.2: 0\n",
      "before conversation: n1=12, n2=0\n",
      "before conversation: n1=12.0, n2=0.0\n",
      "float division by zero\n",
      "other statement inn program\n",
      "thankyou\n"
     ]
    }
   ],
   "source": [
    "n1=raw_input(\"enter a number.1: \")\n",
    "n2=raw_input(\"enter a number.2: \")\n",
    "print \"before conversation: n1=%s, n2=%s\"%(n1,n2)\n",
    "try:\n",
    "    n1=float(n1)\n",
    "    n2=float(n2)\n",
    "    print \"before conversation: n1=%s, n2=%s\"%(n1,n2)\n",
    "    result=n1/n2\n",
    "    print \"result= \",result\n",
    "except Exception as err:\n",
    "    print err\n",
    "print \"other statement inn program\"\n",
    "print \"thankyou\"\n"
   ]
  },
  {
   "cell_type": "code",
   "execution_count": 10,
   "metadata": {},
   "outputs": [
    {
     "name": "stdout",
     "output_type": "stream",
     "text": [
      "enter a number.1: 12\n",
      "enter a number.2: 0\n",
      "before conversation: n1=12, n2=0\n",
      "before conversation: n1=12.0, n2=0.0\n"
     ]
    },
    {
     "ename": "NameError",
     "evalue": "name 'valueError' is not defined",
     "output_type": "error",
     "traceback": [
      "\u001b[0;31m---------------------------------------------------------------------------\u001b[0m",
      "\u001b[0;31mNameError\u001b[0m                                 Traceback (most recent call last)",
      "\u001b[0;32m<ipython-input-10-41ffc47b4d45>\u001b[0m in \u001b[0;36m<module>\u001b[0;34m()\u001b[0m\n\u001b[1;32m      8\u001b[0m    \u001b[0mresult\u001b[0m\u001b[0;34m=\u001b[0m\u001b[0mn1\u001b[0m\u001b[0;34m/\u001b[0m\u001b[0mn2\u001b[0m\u001b[0;34m\u001b[0m\u001b[0m\n\u001b[1;32m      9\u001b[0m    \u001b[0;32mprint\u001b[0m \u001b[0;34m\"result= \"\u001b[0m\u001b[0;34m,\u001b[0m\u001b[0mresult\u001b[0m\u001b[0;34m\u001b[0m\u001b[0m\n\u001b[0;32m---> 10\u001b[0;31m \u001b[0;32mexcept\u001b[0m \u001b[0mvalueError\u001b[0m \u001b[0;32mas\u001b[0m \u001b[0merr\u001b[0m\u001b[0;34m:\u001b[0m\u001b[0;34m\u001b[0m\u001b[0m\n\u001b[0m\u001b[1;32m     11\u001b[0m    \u001b[0;32mprint\u001b[0m \u001b[0;34m\"exceptingg digits[o-9] but found: \"\u001b[0m\u001b[0;34m\u001b[0m\u001b[0m\n\u001b[1;32m     12\u001b[0m \u001b[0;34m\u001b[0m\u001b[0m\n",
      "\u001b[0;31mNameError\u001b[0m: name 'valueError' is not defined"
     ]
    }
   ],
   "source": [
    " n1=raw_input(\"enter a number.1: \")\n",
    "n2=raw_input(\"enter a number.2: \")\n",
    "print \"before conversation: n1=%s, n2=%s\"%(n1,n2)\n",
    "try:\n",
    "    n1=float(n1)\n",
    "    n2=float(n2)\n",
    "    print \"before conversation: n1=%s, n2=%s\"%(n1,n2)\n",
    "    result=n1/n2\n",
    "    print \"result= \",result\n",
    "except valueError as err:\n",
    "    print \"exceptingg digits[o-9] but found: \"\n",
    "    \n",
    "except Exception as err:\n",
    "    print err\n",
    "print \"other statement inn program\"\n",
    "print \"thankyou\"\n"
   ]
  },
  {
   "cell_type": "code",
   "execution_count": 8,
   "metadata": {},
   "outputs": [
    {
     "name": "stdout",
     "output_type": "stream",
     "text": [
      "True\n"
     ]
    }
   ],
   "source": [
    "act=\"python is pure object oriented languege\"\n",
    "s=\"python is pure object oriented languege\"\n",
    "print act==s\n"
   ]
  },
  {
   "cell_type": "code",
   "execution_count": 6,
   "metadata": {},
   "outputs": [
    {
     "name": "stdout",
     "output_type": "stream",
     "text": [
      "0\n"
     ]
    }
   ],
   "source": [
    "#check wether given substring is there in actual string or not\n",
    "#if is there print index of the substring (user string method)\n",
    "act=\"python is pure object oriented languege\"\n",
    "print act.index(\"python\")"
   ]
  },
  {
   "cell_type": "code",
   "execution_count": 9,
   "metadata": {},
   "outputs": [
    {
     "ename": "ValueError",
     "evalue": "substring not found",
     "output_type": "error",
     "traceback": [
      "\u001b[0;31m---------------------------------------------------------------------------\u001b[0m",
      "\u001b[0;31mValueError\u001b[0m                                Traceback (most recent call last)",
      "\u001b[0;32m<ipython-input-9-6b73151c46ee>\u001b[0m in \u001b[0;36m<module>\u001b[0;34m()\u001b[0m\n\u001b[1;32m      1\u001b[0m \u001b[0mact\u001b[0m\u001b[0;34m=\u001b[0m\u001b[0;34m\"python is pure object oriented languege\"\u001b[0m\u001b[0;34m\u001b[0m\u001b[0m\n\u001b[0;32m----> 2\u001b[0;31m \u001b[0;32mprint\u001b[0m \u001b[0mact\u001b[0m\u001b[0;34m.\u001b[0m\u001b[0mindex\u001b[0m\u001b[0;34m(\u001b[0m\u001b[0;34m\"java\"\u001b[0m\u001b[0;34m)\u001b[0m\u001b[0;34m\u001b[0m\u001b[0m\n\u001b[0m",
      "\u001b[0;31mValueError\u001b[0m: substring not found"
     ]
    }
   ],
   "source": [
    "act=\"python is pure object oriented languege\"\n",
    "print act.index(\"java\")\n"
   ]
  },
  {
   "cell_type": "code",
   "execution_count": 10,
   "metadata": {},
   "outputs": [
    {
     "name": "stdout",
     "output_type": "stream",
     "text": [
      "enter sub: python\n",
      "sub string found in: 0\n"
     ]
    }
   ],
   "source": [
    "act=\"python is pure object oriented languege\"\n",
    "act_u=act.upper()\n",
    "sub=raw_input(\"enter sub: \")\n",
    "sub_u=sub.upper()\n",
    "try:\n",
    "    index=act_u.index(sub_u)\n",
    "    print \"sub string found in: %s\"%index\n",
    "except:\n",
    "    print \"sub:%s is not find in\"%sub"
   ]
  },
  {
   "cell_type": "code",
   "execution_count": 11,
   "metadata": {},
   "outputs": [
    {
     "name": "stdout",
     "output_type": "stream",
     "text": [
      "enter sub: is\n",
      "sub string found in: 7\n"
     ]
    }
   ],
   "source": [
    "act=\"python is pure object oriented languege\"\n",
    "act_u=act.upper()\n",
    "sub=raw_input(\"enter sub: \")\n",
    "sub_u=sub.upper()\n",
    "try:\n",
    "    index=act_u.index(sub_u)\n",
    "    print \"sub string found in: %s\"%index\n",
    "except:\n",
    "    print \"sub:%s is not find in\"%sub"
   ]
  },
  {
   "cell_type": "code",
   "execution_count": 12,
   "metadata": {},
   "outputs": [
    {
     "name": "stdout",
     "output_type": "stream",
     "text": [
      "enter sub: languege\n",
      "sub string found in: 31\n"
     ]
    }
   ],
   "source": [
    "act=\"python is pure object oriented languege\"\n",
    "act_u=act.upper()\n",
    "sub=raw_input(\"enter sub: \")\n",
    "sub_u=sub.upper()\n",
    "try:\n",
    "    index=act_u.index(sub_u)\n",
    "    print \"sub string found in: %s\"%index\n",
    "except:\n",
    "    print \"sub:%s is not find in\"%sub"
   ]
  },
  {
   "cell_type": "code",
   "execution_count": 13,
   "metadata": {},
   "outputs": [
    {
     "name": "stdout",
     "output_type": "stream",
     "text": [
      "enter sub: 12341341\n",
      "sub:12341341 is not find in\n"
     ]
    }
   ],
   "source": [
    "act=\"python is pure object oriented languege\"\n",
    "act_u=act.upper()\n",
    "sub=raw_input(\"enter sub: \")\n",
    "sub_u=sub.upper()\n",
    "try:\n",
    "    index=act_u.index(sub_u)\n",
    "    print \"sub string found in: %s\"%index\n",
    "except:\n",
    "    print \"sub:%s is not find in\"%sub"
   ]
  },
  {
   "cell_type": "code",
   "execution_count": 14,
   "metadata": {},
   "outputs": [
    {
     "name": "stdout",
     "output_type": "stream",
     "text": [
      "enter a number: 12\n",
      "enter a number: 6\n",
      "before conversation: n1=12, n2=6\n",
      "after conversation: n1=12.0, n2=6.0\n",
      "res=  2.0\n"
     ]
    }
   ],
   "source": [
    "n1 = raw_input(\"enter a number: \")\n",
    "n2 = raw_input(\"enter a number: \")\n",
    "print\"before conversation: n1=%s, n2=%s\"%(n1,n2)\n",
    "try:\n",
    "    n1=float(n1)\n",
    "    n2=float(n2)\n",
    "    print\"after conversation: n1=%s, n2=%s\"%(n1,n2)\n",
    "    res = n1/n2\n",
    "    print \"res= \",res\n",
    "except:\n",
    "    print \"something went wrong\""
   ]
  },
  {
   "cell_type": "code",
   "execution_count": 15,
   "metadata": {},
   "outputs": [
    {
     "name": "stdout",
     "output_type": "stream",
     "text": [
      "enter a number: sfdg\n",
      "enter a number: dfsgs\n",
      "before conversation: n1=sfdg, n2=dfsgs\n",
      "something went wrong\n"
     ]
    }
   ],
   "source": [
    "n1 = raw_input(\"enter a number: \")\n",
    "n2 = raw_input(\"enter a number: \")\n",
    "print\"before conversation: n1=%s, n2=%s\"%(n1,n2)\n",
    "try:\n",
    "    n1=float(n1)\n",
    "    n2=float(n2)\n",
    "    print\"after conversation: n1=%s, n2=%s\"%(n1,n2)\n",
    "    res = n1/n2\n",
    "    print \"res= \",res\n",
    "except:\n",
    "    print \"something went wrong\""
   ]
  },
  {
   "cell_type": "code",
   "execution_count": 16,
   "metadata": {},
   "outputs": [
    {
     "name": "stdout",
     "output_type": "stream",
     "text": [
      "enter a number: 12.0\n",
      "enter a number: 6.0\n",
      "before conversation: n1=12.0, n2=6.0\n",
      "after conversation: n1=12.0, n2=6.0\n",
      "res=  2.0\n"
     ]
    }
   ],
   "source": [
    "n1 = raw_input(\"enter a number: \")\n",
    "n2 = raw_input(\"enter a number: \")\n",
    "print\"before conversation: n1=%s, n2=%s\"%(n1,n2)\n",
    "try:\n",
    "    n1=float(n1)\n",
    "    n2=float(n2)\n",
    "    print\"after conversation: n1=%s, n2=%s\"%(n1,n2)\n",
    "    res = n1/n2\n",
    "    print \"res= \",res\n",
    "except:\n",
    "    print \"something went wrong\""
   ]
  },
  {
   "cell_type": "code",
   "execution_count": 17,
   "metadata": {},
   "outputs": [
    {
     "name": "stdout",
     "output_type": "stream",
     "text": [
      "enter a number: 2\n",
      "enter a number: 0\n",
      "before conversation: n1=2, n2=0\n",
      "after conversation: n1=2.0, n2=0.0\n",
      "something went wrong\n"
     ]
    }
   ],
   "source": [
    "n1 = raw_input(\"enter a number: \")\n",
    "n2 = raw_input(\"enter a number: \")\n",
    "print\"before conversation: n1=%s, n2=%s\"%(n1,n2)\n",
    "try:\n",
    "    n1=float(n1)\n",
    "    n2=float(n2)\n",
    "    print\"after conversation: n1=%s, n2=%s\"%(n1,n2)\n",
    "    res = n1/n2\n",
    "    print \"res= \",res\n",
    "except:\n",
    "    print \"something went wrong\""
   ]
  },
  {
   "cell_type": "code",
   "execution_count": 18,
   "metadata": {},
   "outputs": [
    {
     "name": "stdout",
     "output_type": "stream",
     "text": [
      "enter a number: 2\n",
      "enter a number: 0\n",
      "before conversation: n1=2, n2=0\n",
      "after conversation: n1=2.0, n2=0.0\n"
     ]
    },
    {
     "ename": "NameError",
     "evalue": "name 'exception' is not defined",
     "output_type": "error",
     "traceback": [
      "\u001b[0;31m---------------------------------------------------------------------------\u001b[0m",
      "\u001b[0;31mNameError\u001b[0m                                 Traceback (most recent call last)",
      "\u001b[0;32m<ipython-input-18-b1878758c1cb>\u001b[0m in \u001b[0;36m<module>\u001b[0;34m()\u001b[0m\n\u001b[1;32m      9\u001b[0m     \u001b[0mres\u001b[0m \u001b[0;34m=\u001b[0m \u001b[0mn1\u001b[0m\u001b[0;34m/\u001b[0m\u001b[0mn2\u001b[0m\u001b[0;34m\u001b[0m\u001b[0m\n\u001b[1;32m     10\u001b[0m     \u001b[0;32mprint\u001b[0m \u001b[0;34m\"res= \"\u001b[0m\u001b[0;34m,\u001b[0m\u001b[0mres\u001b[0m\u001b[0;34m\u001b[0m\u001b[0m\n\u001b[0;32m---> 11\u001b[0;31m \u001b[0;32mexcept\u001b[0m \u001b[0mexception\u001b[0m \u001b[0;32mas\u001b[0m \u001b[0merr\u001b[0m\u001b[0;34m:\u001b[0m\u001b[0;34m\u001b[0m\u001b[0m\n\u001b[0m\u001b[1;32m     12\u001b[0m     \u001b[0;32mprint\u001b[0m \u001b[0merr\u001b[0m\u001b[0;34m\u001b[0m\u001b[0m\n\u001b[1;32m     13\u001b[0m \u001b[0;32mprint\u001b[0m\u001b[0;34m\"other statement in program\"\u001b[0m\u001b[0;34m\u001b[0m\u001b[0m\n",
      "\u001b[0;31mNameError\u001b[0m: name 'exception' is not defined"
     ]
    }
   ],
   "source": [
    "# for exactly  print error\n",
    "n1 = raw_input(\"enter a number: \")\n",
    "n2 = raw_input(\"enter a number: \")\n",
    "print\"before conversation: n1=%s, n2=%s\"%(n1,n2)\n",
    "try:\n",
    "    n1=float(n1)\n",
    "    n2=float(n2)\n",
    "    print\"after conversation: n1=%s, n2=%s\"%(n1,n2)\n",
    "    res = n1/n2\n",
    "    print \"res= \",res\n",
    "except exception as err:\n",
    "    print err\n",
    "print\"other statement in program\"\n",
    "print \"thank you\""
   ]
  },
  {
   "cell_type": "code",
   "execution_count": 19,
   "metadata": {},
   "outputs": [
    {
     "name": "stdout",
     "output_type": "stream",
     "text": [
      "enter a number: 2\n",
      "enter a number: 0\n",
      "before conversation: n1=2, n2=0\n",
      "after conversation: n1=2.0, n2=0.0\n",
      "float division by zero\n",
      "other statement in program\n",
      "thank you\n"
     ]
    }
   ],
   "source": [
    "# for exactly  print error\n",
    "n1 = raw_input(\"enter a number: \")\n",
    "n2 = raw_input(\"enter a number: \")\n",
    "print\"before conversation: n1=%s, n2=%s\"%(n1,n2)\n",
    "try:\n",
    "    n1=float(n1)\n",
    "    n2=float(n2)\n",
    "    print\"after conversation: n1=%s, n2=%s\"%(n1,n2)\n",
    "    res = n1/n2\n",
    "    print \"res= \",res\n",
    "except Exception as err:\n",
    "    print err                                                #it shows exactly float division by zero error\n",
    "print\"other statement in program\"\n",
    "print \"thank you\""
   ]
  },
  {
   "cell_type": "code",
   "execution_count": 20,
   "metadata": {},
   "outputs": [
    {
     "name": "stdout",
     "output_type": "stream",
     "text": [
      "enter a number: sdajkfh\n",
      "enter a number: jhadsfh\n",
      "before conversation: n1=sdajkfh, n2=jhadsfh\n",
      "could not convert string to float: sdajkfh\n",
      "other statement in program\n",
      "thank you\n"
     ]
    }
   ],
   "source": [
    "# for exactly  print error\n",
    "n1 = raw_input(\"enter a number: \")\n",
    "n2 = raw_input(\"enter a number: \")\n",
    "print\"before conversation: n1=%s, n2=%s\"%(n1,n2)\n",
    "try:\n",
    "    n1=float(n1)\n",
    "    n2=float(n2)\n",
    "    print\"after conversation: n1=%s, n2=%s\"%(n1,n2)\n",
    "    res = n1/n2\n",
    "    print \"res= \",res\n",
    "except Exception as err:\n",
    "    print err                            # hear shows could not convert string to float error  \n",
    "print\"other statement in program\"        # so it is value error to over come this problem use value error exception        \n",
    "print \"thank you\""
   ]
  },
  {
   "cell_type": "code",
   "execution_count": 21,
   "metadata": {},
   "outputs": [
    {
     "name": "stdout",
     "output_type": "stream",
     "text": [
      "enter a number: jksadfh\n",
      "enter a number: kjdshflkj\n",
      "before conversation: n1=jksadfh, n2=kjdshflkj\n",
      "expecting values [0-9] but find: jksadfh,kjdshflkj\n",
      "other statement in program\n",
      "thank you\n"
     ]
    }
   ],
   "source": [
    "# for exactly  print error\n",
    "n1 = raw_input(\"enter a number: \")\n",
    "n2 = raw_input(\"enter a number: \")\n",
    "print\"before conversation: n1=%s, n2=%s\"%(n1,n2)\n",
    "try:\n",
    "    n1=float(n1)\n",
    "    n2=float(n2)\n",
    "    print\"after conversation: n1=%s, n2=%s\"%(n1,n2)\n",
    "    res = n1/n2\n",
    "    print \"res= \",res\n",
    "except ValueError as err:\n",
    "    print \"expecting values [0-9] but find: %s,%s\"%(n1,n2)\n",
    "except Exception as err:\n",
    "    print err                                               \n",
    "print\"other statement in program\" \n",
    "print \"thank you\""
   ]
  },
  {
   "cell_type": "code",
   "execution_count": 22,
   "metadata": {},
   "outputs": [
    {
     "name": "stdout",
     "output_type": "stream",
     "text": [
      "enter a number: 12\n",
      "enter a number: 0\n",
      "before conversation: n1=12, n2=0\n",
      "after conversation: n1=12.0, n2=0.0\n",
      "generic exception\n",
      "float division by zero\n",
      "other statement in program\n",
      "thank you\n"
     ]
    }
   ],
   "source": [
    "# for exactly  print error\n",
    "n1 = raw_input(\"enter a number: \")\n",
    "n2 = raw_input(\"enter a number: \")\n",
    "print\"before conversation: n1=%s, n2=%s\"%(n1,n2)\n",
    "try:\n",
    "    n1=float(n1)\n",
    "    n2=float(n2)\n",
    "    print\"after conversation: n1=%s, n2=%s\"%(n1,n2)\n",
    "    res = n1/n2\n",
    "    print \"res= \",res\n",
    "except ValueError as err:\n",
    "    print \"expecting values [0-9] but find: %s,%s\"%(n1,n2)\n",
    "except Exception as err:\n",
    "    print \"generic exception\"  \n",
    "    print err\n",
    "print\"other statement in program\" \n",
    "print \"thank you\""
   ]
  },
  {
   "cell_type": "code",
   "execution_count": 25,
   "metadata": {},
   "outputs": [
    {
     "name": "stdout",
     "output_type": "stream",
     "text": [
      "enter a number: 12\n",
      "enter a number: 0\n",
      "before conversation: n1=12, n2=0\n",
      "after conversation: n1=12.0, n2=0.0\n",
      "expecting n2>0\n",
      "other statement in program\n",
      "thank you\n"
     ]
    }
   ],
   "source": [
    "# for exactly  print error\n",
    "n1 = raw_input(\"enter a number: \")\n",
    "n2 = raw_input(\"enter a number: \")\n",
    "print\"before conversation: n1=%s, n2=%s\"%(n1,n2)\n",
    "try:\n",
    "    n1=float(n1)\n",
    "    n2=float(n2)\n",
    "    print\"after conversation: n1=%s, n2=%s\"%(n1,n2)\n",
    "    res = n1/n2\n",
    "    print \"res= \",res\n",
    "except ValueError as err:\n",
    "    print \"expecting values [0-9] but find: %s,%s\"%(n1,n2)\n",
    "except ZeroDivisionError as err:\n",
    "    print \"expecting n2>0\"\n",
    "except Exception as err:\n",
    "    print \"generic exception\"  \n",
    "    print err\n",
    "print\"other statement in program\" \n",
    "print \"thank you\""
   ]
  },
  {
   "cell_type": "code",
   "execution_count": 26,
   "metadata": {},
   "outputs": [
    {
     "name": "stdout",
     "output_type": "stream",
     "text": [
      "enter a number: 12\n",
      "enter a number: 0\n",
      "before conversation: n1=12, n2=0\n",
      "after conversation: n1=12.0, n2=0.0\n",
      "expecting n2>0\n",
      "float division by zero\n",
      "other statement in program\n",
      "thank you\n"
     ]
    }
   ],
   "source": [
    "# for exactly  print error\n",
    "n1 = raw_input(\"enter a number: \")\n",
    "n2 = raw_input(\"enter a number: \")\n",
    "print\"before conversation: n1=%s, n2=%s\"%(n1,n2)\n",
    "try:\n",
    "    n1=float(n1)\n",
    "    n2=float(n2)\n",
    "    print\"after conversation: n1=%s, n2=%s\"%(n1,n2)\n",
    "    res = n1/n2\n",
    "    print \"res= \",res\n",
    "except ValueError as err:\n",
    "    print \"expecting values [0-9] but find: %s,%s\"%(n1,n2)\n",
    "except ZeroDivisionError as err:\n",
    "    print \"expecting n2>0\"\n",
    "    print err\n",
    "except Exception as err:\n",
    "    print \"generic exception\"  \n",
    "    print err\n",
    "print\"other statement in program\" \n",
    "print \"thank you\""
   ]
  },
  {
   "cell_type": "code",
   "execution_count": 27,
   "metadata": {},
   "outputs": [
    {
     "name": "stdout",
     "output_type": "stream",
     "text": [
      "enter a number: 12\n",
      "enter a number: 6\n",
      "before conversation: n1=12, n2=6\n",
      "after conversation: n1=12.0, n2=6.0\n",
      "res=  2.0\n",
      "other statement in program\n",
      "thank you\n"
     ]
    }
   ],
   "source": [
    "\n",
    "n1 = raw_input(\"enter a number: \")\n",
    "n2 = raw_input(\"enter a number: \")\n",
    "print\"before conversation: n1=%s, n2=%s\"%(n1,n2)\n",
    "try:\n",
    "    n1=float(n1)\n",
    "    n2=float(n2)\n",
    "    print\"after conversation: n1=%s, n2=%s\"%(n1,n2)\n",
    "    res = n1/n2\n",
    "    print \"res= \",res\n",
    "except ValueError as err:\n",
    "    print \"expecting values [0-9] but find: %s,%s\"%(n1,n2)\n",
    "except ZeroDivisionError as err:\n",
    "    print \"expecting n2>0\"\n",
    "    print err\n",
    "except Exception as err:\n",
    "    print \"generic exception\"  \n",
    "    print err\n",
    "print\"other statement in program\" \n",
    "print \"thank you\""
   ]
  },
  {
   "cell_type": "code",
   "execution_count": 29,
   "metadata": {},
   "outputs": [
    {
     "name": "stdout",
     "output_type": "stream",
     "text": [
      "enter a number: 12\n",
      "enter a number: 0\n",
      "before conversation: n1=12, n2=0\n",
      "after conversation: n1=12.0, n2=0.0\n",
      "generic exception\n",
      "float division by zero\n",
      "other statement in program\n",
      "thank you\n"
     ]
    }
   ],
   "source": [
    "\n",
    "n1 = raw_input(\"enter a number: \")\n",
    "n2 = raw_input(\"enter a number: \")\n",
    "print\"before conversation: n1=%s, n2=%s\"%(n1,n2)\n",
    "try:\n",
    "    n1=float(n1)\n",
    "    n2=float(n2)\n",
    "    print\"after conversation: n1=%s, n2=%s\"%(n1,n2)\n",
    "    res = n1/n2\n",
    "    print \"res= \",res\n",
    "except Exception as err:\n",
    "    print \"generic exception\" \n",
    "    print err\n",
    "except ValueError as err:\n",
    "    print \"expecting values [0-9] but find: %s,%s\"%(n1,n2)\n",
    "except ZeroDivisionError as err:\n",
    "    print \"expecting n2>0\"\n",
    "    print err\n",
    "\n",
    "print\"other statement in program\" \n",
    "print \"thank you\""
   ]
  },
  {
   "cell_type": "code",
   "execution_count": 30,
   "metadata": {},
   "outputs": [
    {
     "name": "stdout",
     "output_type": "stream",
     "text": [
      "enter a number: 12\n",
      "enter a number: 0\n",
      "before conversation: n1=12, n2=0\n",
      "after conversation: n1=12.0, n2=0.0\n",
      "generic exception\n",
      "other statement in program\n",
      "thank you\n"
     ]
    }
   ],
   "source": [
    "\n",
    "n1 = raw_input(\"enter a number: \")\n",
    "n2 = raw_input(\"enter a number: \")\n",
    "print\"before conversation: n1=%s, n2=%s\"%(n1,n2)\n",
    "try:\n",
    "    n1=float(n1)\n",
    "    n2=float(n2)\n",
    "    print\"after conversation: n1=%s, n2=%s\"%(n1,n2)\n",
    "    res = n1/n2\n",
    "    print \"res= \",res\n",
    "except Exception as err:\n",
    "    print \"generic exception\" \n",
    "except ValueError as err:\n",
    "    print \"expecting values [0-9] but find: %s,%s\"%(n1,n2)\n",
    "except ZeroDivisionError as err:\n",
    "    print \"expecting n2>0\"\n",
    "    print err\n",
    "\n",
    "print\"other statement in program\" \n",
    "print \"thank you\""
   ]
  },
  {
   "cell_type": "code",
   "execution_count": 31,
   "metadata": {},
   "outputs": [
    {
     "ename": "ZeroDivisionError",
     "evalue": "integer division or modulo by zero",
     "output_type": "error",
     "traceback": [
      "\u001b[0;31m---------------------------------------------------------------------------\u001b[0m",
      "\u001b[0;31mZeroDivisionError\u001b[0m                         Traceback (most recent call last)",
      "\u001b[0;32m<ipython-input-31-898e9759c56e>\u001b[0m in \u001b[0;36m<module>\u001b[0;34m()\u001b[0m\n\u001b[0;32m----> 1\u001b[0;31m \u001b[0;36m12\u001b[0m\u001b[0;34m/\u001b[0m\u001b[0;36m0\u001b[0m\u001b[0;34m\u001b[0m\u001b[0m\n\u001b[0m",
      "\u001b[0;31mZeroDivisionError\u001b[0m: integer division or modulo by zero"
     ]
    }
   ],
   "source": [
    "12/0\n"
   ]
  },
  {
   "cell_type": "code",
   "execution_count": 32,
   "metadata": {},
   "outputs": [
    {
     "ename": "TypeError",
     "evalue": "unsupported operand type(s) for /: 'str' and 'str'",
     "output_type": "error",
     "traceback": [
      "\u001b[0;31m---------------------------------------------------------------------------\u001b[0m",
      "\u001b[0;31mTypeError\u001b[0m                                 Traceback (most recent call last)",
      "\u001b[0;32m<ipython-input-32-b9aff0bd6951>\u001b[0m in \u001b[0;36m<module>\u001b[0;34m()\u001b[0m\n\u001b[0;32m----> 1\u001b[0;31m \u001b[0;34m\"hsfhj\"\u001b[0m\u001b[0;34m/\u001b[0m\u001b[0;34m\"jhshskf\"\u001b[0m\u001b[0;34m\u001b[0m\u001b[0m\n\u001b[0m",
      "\u001b[0;31mTypeError\u001b[0m: unsupported operand type(s) for /: 'str' and 'str'"
     ]
    }
   ],
   "source": [
    "\"hsfhj\"/\"jhshskf\""
   ]
  },
  {
   "cell_type": "code",
   "execution_count": 33,
   "metadata": {},
   "outputs": [
    {
     "ename": "TypeError",
     "evalue": "unsupported operand type(s) for /: 'str' and 'int'",
     "output_type": "error",
     "traceback": [
      "\u001b[0;31m---------------------------------------------------------------------------\u001b[0m",
      "\u001b[0;31mTypeError\u001b[0m                                 Traceback (most recent call last)",
      "\u001b[0;32m<ipython-input-33-035d4813e68d>\u001b[0m in \u001b[0;36m<module>\u001b[0;34m()\u001b[0m\n\u001b[0;32m----> 1\u001b[0;31m \u001b[0;34m\"jhdsfklj\"\u001b[0m\u001b[0;34m/\u001b[0m\u001b[0;36m0\u001b[0m\u001b[0;34m\u001b[0m\u001b[0m\n\u001b[0m",
      "\u001b[0;31mTypeError\u001b[0m: unsupported operand type(s) for /: 'str' and 'int'"
     ]
    }
   ],
   "source": [
    "\"jhdsfklj\"/0"
   ]
  },
  {
   "cell_type": "code",
   "execution_count": 34,
   "metadata": {},
   "outputs": [
    {
     "ename": "ZeroDivisionError",
     "evalue": "integer division or modulo by zero",
     "output_type": "error",
     "traceback": [
      "\u001b[0;31m---------------------------------------------------------------------------\u001b[0m",
      "\u001b[0;31mZeroDivisionError\u001b[0m                         Traceback (most recent call last)",
      "\u001b[0;32m<ipython-input-34-898e9759c56e>\u001b[0m in \u001b[0;36m<module>\u001b[0;34m()\u001b[0m\n\u001b[0;32m----> 1\u001b[0;31m \u001b[0;36m12\u001b[0m\u001b[0;34m/\u001b[0m\u001b[0;36m0\u001b[0m\u001b[0;34m\u001b[0m\u001b[0m\n\u001b[0m",
      "\u001b[0;31mZeroDivisionError\u001b[0m: integer division or modulo by zero"
     ]
    }
   ],
   "source": [
    "12/0"
   ]
  },
  {
   "cell_type": "code",
   "execution_count": 35,
   "metadata": {},
   "outputs": [
    {
     "ename": "TypeError",
     "evalue": "unsupported operand type(s) for /: 'int' and 'str'",
     "output_type": "error",
     "traceback": [
      "\u001b[0;31m---------------------------------------------------------------------------\u001b[0m",
      "\u001b[0;31mTypeError\u001b[0m                                 Traceback (most recent call last)",
      "\u001b[0;32m<ipython-input-35-11b84c5d2152>\u001b[0m in \u001b[0;36m<module>\u001b[0;34m()\u001b[0m\n\u001b[0;32m----> 1\u001b[0;31m \u001b[0;36m12\u001b[0m\u001b[0;34m/\u001b[0m\u001b[0;34m\"0\"\u001b[0m\u001b[0;34m\u001b[0m\u001b[0m\n\u001b[0m",
      "\u001b[0;31mTypeError\u001b[0m: unsupported operand type(s) for /: 'int' and 'str'"
     ]
    }
   ],
   "source": [
    "12/\"0\""
   ]
  },
  {
   "cell_type": "code",
   "execution_count": 36,
   "metadata": {},
   "outputs": [
    {
     "name": "stdout",
     "output_type": "stream",
     "text": [
      "try\n"
     ]
    }
   ],
   "source": [
    "try:\n",
    "    print\"try\"\n",
    "except:\n",
    "    print 1/0"
   ]
  },
  {
   "cell_type": "code",
   "execution_count": 37,
   "metadata": {},
   "outputs": [
    {
     "name": "stdout",
     "output_type": "stream",
     "text": [
      "try\n"
     ]
    },
    {
     "ename": "ZeroDivisionError",
     "evalue": "integer division or modulo by zero",
     "output_type": "error",
     "traceback": [
      "\u001b[0;31m---------------------------------------------------------------------------\u001b[0m",
      "\u001b[0;31mZeroDivisionError\u001b[0m                         Traceback (most recent call last)",
      "\u001b[0;32m<ipython-input-37-7264041f6fd3>\u001b[0m in \u001b[0;36m<module>\u001b[0;34m()\u001b[0m\n\u001b[1;32m      3\u001b[0m     \u001b[0;32mprint\u001b[0m \u001b[0;34m\"asjl\"\u001b[0m\u001b[0;34m/\u001b[0m\u001b[0;34m\"jhskj\"\u001b[0m\u001b[0;34m\u001b[0m\u001b[0m\n\u001b[1;32m      4\u001b[0m \u001b[0;32mexcept\u001b[0m\u001b[0;34m:\u001b[0m\u001b[0;34m\u001b[0m\u001b[0m\n\u001b[0;32m----> 5\u001b[0;31m     \u001b[0;32mprint\u001b[0m \u001b[0;36m1\u001b[0m\u001b[0;34m/\u001b[0m\u001b[0;36m0\u001b[0m\u001b[0;34m\u001b[0m\u001b[0m\n\u001b[0m\u001b[1;32m      6\u001b[0m \u001b[0;32mprint\u001b[0m \u001b[0;34m\"thank you\"\u001b[0m\u001b[0;34m\u001b[0m\u001b[0m\n",
      "\u001b[0;31mZeroDivisionError\u001b[0m: integer division or modulo by zero"
     ]
    }
   ],
   "source": [
    "try:\n",
    "    print\"try\"\n",
    "    print \"asjl\"/\"jhskj\"\n",
    "except:\n",
    "    print 1/0\n",
    "print \"thank you\""
   ]
  },
  {
   "cell_type": "code",
   "execution_count": 38,
   "metadata": {},
   "outputs": [
    {
     "ename": "ZeroDivisionError",
     "evalue": "integer division or modulo by zero",
     "output_type": "error",
     "traceback": [
      "\u001b[0;31m---------------------------------------------------------------------------\u001b[0m",
      "\u001b[0;31mZeroDivisionError\u001b[0m                         Traceback (most recent call last)",
      "\u001b[0;32m<ipython-input-38-9e1622b385b6>\u001b[0m in \u001b[0;36m<module>\u001b[0;34m()\u001b[0m\n\u001b[0;32m----> 1\u001b[0;31m \u001b[0;36m1\u001b[0m\u001b[0;34m/\u001b[0m\u001b[0;36m0\u001b[0m\u001b[0;34m\u001b[0m\u001b[0m\n\u001b[0m",
      "\u001b[0;31mZeroDivisionError\u001b[0m: integer division or modulo by zero"
     ]
    }
   ],
   "source": [
    "1/0"
   ]
  },
  {
   "cell_type": "code",
   "execution_count": 40,
   "metadata": {},
   "outputs": [
    {
     "ename": "SyntaxError",
     "evalue": "default 'except:' must be last (<ipython-input-40-3b04ee627547>, line 3)",
     "output_type": "error",
     "traceback": [
      "\u001b[0;36m  File \u001b[0;32m\"<ipython-input-40-3b04ee627547>\"\u001b[0;36m, line \u001b[0;32m3\u001b[0m\n\u001b[0;31m    print \"asjl\"/\"jhskj\"\u001b[0m\n\u001b[0;31mSyntaxError\u001b[0m\u001b[0;31m:\u001b[0m default 'except:' must be last\n"
     ]
    }
   ],
   "source": [
    "try:\n",
    "    print\"try\"\n",
    "    print \"asjl\"/\"jhskj\"\n",
    "except:\n",
    "    print 1/0\n",
    "except ZeroDivisionError as err:\n",
    "    print\"generic exception\"\n",
    "print \"thank you\""
   ]
  },
  {
   "cell_type": "code",
   "execution_count": 41,
   "metadata": {},
   "outputs": [
    {
     "name": "stdout",
     "output_type": "stream",
     "text": [
      "try\n"
     ]
    },
    {
     "ename": "ZeroDivisionError",
     "evalue": "integer division or modulo by zero",
     "output_type": "error",
     "traceback": [
      "\u001b[0;31m---------------------------------------------------------------------------\u001b[0m",
      "\u001b[0;31mZeroDivisionError\u001b[0m                         Traceback (most recent call last)",
      "\u001b[0;32m<ipython-input-41-5defa67d4b3c>\u001b[0m in \u001b[0;36m<module>\u001b[0;34m()\u001b[0m\n\u001b[1;32m      5\u001b[0m     \u001b[0;32mprint\u001b[0m\u001b[0;34m\"generic exception\"\u001b[0m\u001b[0;34m\u001b[0m\u001b[0m\n\u001b[1;32m      6\u001b[0m \u001b[0;32mexcept\u001b[0m\u001b[0;34m:\u001b[0m\u001b[0;34m\u001b[0m\u001b[0m\n\u001b[0;32m----> 7\u001b[0;31m     \u001b[0;32mprint\u001b[0m \u001b[0;36m1\u001b[0m\u001b[0;34m/\u001b[0m\u001b[0;36m0\u001b[0m\u001b[0;34m\u001b[0m\u001b[0m\n\u001b[0m\u001b[1;32m      8\u001b[0m \u001b[0;32mprint\u001b[0m \u001b[0;34m\"thank you\"\u001b[0m\u001b[0;34m\u001b[0m\u001b[0m\n",
      "\u001b[0;31mZeroDivisionError\u001b[0m: integer division or modulo by zero"
     ]
    }
   ],
   "source": [
    "try:\n",
    "    print\"try\"\n",
    "    print \"asjl\"/\"jhskj\"\n",
    "except ZeroDivisionError as err:\n",
    "    print\"generic exception\"\n",
    "except:\n",
    "    print 1/0\n",
    "print \"thank you\""
   ]
  },
  {
   "cell_type": "code",
   "execution_count": 42,
   "metadata": {},
   "outputs": [
    {
     "name": "stdout",
     "output_type": "stream",
     "text": [
      "try\n",
      "ZERO division\n",
      "thank you\n"
     ]
    }
   ],
   "source": [
    "try:\n",
    "    try:\n",
    "        print\"try\"\n",
    "        print \"asjl\"/\"jhskj\"\n",
    "    except ZeroDivisionError as err:\n",
    "        print\"generic exception\"\n",
    "    except:\n",
    "        try:\n",
    "            print 1/0\n",
    "        except:\n",
    "            print \"ZERO division\"\n",
    "except:\n",
    "    print\"secound zero division\"\n",
    "print \"thank you\""
   ]
  },
  {
   "cell_type": "code",
   "execution_count": 43,
   "metadata": {},
   "outputs": [
    {
     "ename": "IndentationError",
     "evalue": "unexpected unindent (<ipython-input-43-22865c453978>, line 10)",
     "output_type": "error",
     "traceback": [
      "\u001b[0;36m  File \u001b[0;32m\"<ipython-input-43-22865c453978>\"\u001b[0;36m, line \u001b[0;32m10\u001b[0m\n\u001b[0;31m    except:\u001b[0m\n\u001b[0m           ^\u001b[0m\n\u001b[0;31mIndentationError\u001b[0m\u001b[0;31m:\u001b[0m unexpected unindent\n"
     ]
    }
   ],
   "source": [
    "try:\n",
    "    try:\n",
    "        print\"try\"\n",
    "        print \"asjl\"/\"jhskj\"\n",
    "    except ZeroDivisionError as err:\n",
    "        print\"generic exception\"\n",
    "    except:\n",
    "        try:\n",
    "            print 1/0\n",
    "except:\n",
    "    print\"secound zero division\"\n",
    "print \"thank you\""
   ]
  },
  {
   "cell_type": "code",
   "execution_count": 44,
   "metadata": {},
   "outputs": [
    {
     "name": "stdout",
     "output_type": "stream",
     "text": [
      "try\n",
      "ZERO division\n",
      "thank you\n"
     ]
    }
   ],
   "source": [
    "try:\n",
    "    try:\n",
    "        print\"try\"\n",
    "        print \"asjl\"/\"jhskj\"\n",
    "    except ZeroDivisionError as err:\n",
    "        print\"generic exception\"\n",
    "    except:\n",
    "        try:\n",
    "            print 1/0\n",
    "        except:\n",
    "            print \"ZERO division\"\n",
    "except:\n",
    "    print\"secound zero division\"\n",
    "print \"thank you\""
   ]
  },
  {
   "cell_type": "code",
   "execution_count": null,
   "metadata": {},
   "outputs": [],
   "source": []
  }
 ],
 "metadata": {
  "kernelspec": {
   "display_name": "Python 2",
   "language": "python",
   "name": "python2"
  },
  "language_info": {
   "codemirror_mode": {
    "name": "ipython",
    "version": 2
   },
   "file_extension": ".py",
   "mimetype": "text/x-python",
   "name": "python",
   "nbconvert_exporter": "python",
   "pygments_lexer": "ipython2",
   "version": "2.7.15rc1"
  }
 },
 "nbformat": 4,
 "nbformat_minor": 2
}
