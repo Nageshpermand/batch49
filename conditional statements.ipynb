{
 "cells": [
  {
   "cell_type": "code",
   "execution_count": 1,
   "metadata": {},
   "outputs": [
    {
     "data": {
      "text/plain": [
       "False"
      ]
     },
     "execution_count": 1,
     "metadata": {},
     "output_type": "execute_result"
    }
   ],
   "source": [
    "\"20\">\"3\""
   ]
  },
  {
   "cell_type": "code",
   "execution_count": 2,
   "metadata": {},
   "outputs": [
    {
     "data": {
      "text/plain": [
       "False"
      ]
     },
     "execution_count": 2,
     "metadata": {},
     "output_type": "execute_result"
    }
   ],
   "source": [
    "\"20\">\"2000000\""
   ]
  },
  {
   "cell_type": "code",
   "execution_count": 6,
   "metadata": {},
   "outputs": [
    {
     "name": "stdout",
     "output_type": "stream",
     "text": [
      "<type 'bool'>\n"
     ]
    }
   ],
   "source": [
    "a =True\n",
    "print type(a)"
   ]
  },
  {
   "cell_type": "code",
   "execution_count": 9,
   "metadata": {},
   "outputs": [
    {
     "name": "stdout",
     "output_type": "stream",
     "text": [
      "sachin is if good player\n"
     ]
    }
   ],
   "source": [
    "if True:\n",
    "    print(\"sachin is if good player\")"
   ]
  },
  {
   "cell_type": "code",
   "execution_count": 11,
   "metadata": {},
   "outputs": [],
   "source": [
    "if False:\n",
    "    print(\"sachin is if good player\")"
   ]
  },
  {
   "cell_type": "code",
   "execution_count": 12,
   "metadata": {},
   "outputs": [
    {
     "name": "stdout",
     "output_type": "stream",
     "text": [
      "enter a value: 20\n",
      "enter a value: 40\n",
      "False\n",
      "b is big\n",
      "thank you\n"
     ]
    }
   ],
   "source": [
    "a = raw_input(\"enter a value: \")\n",
    "b = raw_input(\"enter a value: \")\n",
    "print a>b\n",
    "if a>b:\n",
    "      print \"a is big\"\n",
    "else:\n",
    "      print \"b is big\"\n",
    "print\"thank you\"\n"
   ]
  },
  {
   "cell_type": "code",
   "execution_count": 13,
   "metadata": {},
   "outputs": [
    {
     "name": "stdout",
     "output_type": "stream",
     "text": [
      "enter a value: 40\n",
      "enter a value: 20\n",
      "True\n",
      "a is big\n",
      "thank you\n"
     ]
    }
   ],
   "source": [
    "a = raw_input(\"enter a value: \")\n",
    "b = raw_input(\"enter a value: \")\n",
    "print a>b\n",
    "if a>b:\n",
    "      print \"a is big\"\n",
    "else:\n",
    "      print \"b is big\"\n",
    "print\"thank you\"\n"
   ]
  },
  {
   "cell_type": "code",
   "execution_count": 15,
   "metadata": {},
   "outputs": [
    {
     "name": "stdout",
     "output_type": "stream",
     "text": [
      "enter a value: 20\n",
      "enter a value: 40\n",
      "False\n",
      "b is big\n",
      "thank you\n"
     ]
    }
   ],
   "source": [
    "a = raw_input(\"enter a value: \")\n",
    "b = raw_input(\"enter a value: \")\n",
    "print a>b\n",
    "if a>b:\n",
    "      print \"a is big\"\n",
    "else:\n",
    "      print \"b is big\"\n",
    "print\"thank you\"\n"
   ]
  },
  {
   "cell_type": "code",
   "execution_count": 20,
   "metadata": {},
   "outputs": [
    {
     "name": "stdout",
     "output_type": "stream",
     "text": [
      "enter a value: 40000\n",
      "enter a value: 4\n"
     ]
    },
    {
     "ename": "NameError",
     "evalue": "name 'floar' is not defined",
     "output_type": "error",
     "traceback": [
      "\u001b[0;31m---------------------------------------------------------------------------\u001b[0m",
      "\u001b[0;31mNameError\u001b[0m                                 Traceback (most recent call last)",
      "\u001b[0;32m<ipython-input-20-d5dee03f23c6>\u001b[0m in \u001b[0;36m<module>\u001b[0;34m()\u001b[0m\n\u001b[1;32m      2\u001b[0m \u001b[0mb\u001b[0m \u001b[0;34m=\u001b[0m \u001b[0mraw_input\u001b[0m\u001b[0;34m(\u001b[0m\u001b[0;34m\"enter a value: \"\u001b[0m\u001b[0;34m)\u001b[0m\u001b[0;34m\u001b[0m\u001b[0m\n\u001b[1;32m      3\u001b[0m \u001b[0ma\u001b[0m \u001b[0;34m=\u001b[0m \u001b[0mfloat\u001b[0m\u001b[0;34m(\u001b[0m\u001b[0ma\u001b[0m\u001b[0;34m)\u001b[0m\u001b[0;34m\u001b[0m\u001b[0m\n\u001b[0;32m----> 4\u001b[0;31m \u001b[0mb\u001b[0m \u001b[0;34m=\u001b[0m \u001b[0mfloar\u001b[0m\u001b[0;34m(\u001b[0m\u001b[0mb\u001b[0m\u001b[0;34m)\u001b[0m\u001b[0;34m\u001b[0m\u001b[0m\n\u001b[0m\u001b[1;32m      5\u001b[0m \u001b[0;32mprint\u001b[0m \u001b[0ma\u001b[0m\u001b[0;34m>\u001b[0m\u001b[0mb\u001b[0m\u001b[0;34m\u001b[0m\u001b[0m\n\u001b[1;32m      6\u001b[0m \u001b[0;32mif\u001b[0m \u001b[0ma\u001b[0m\u001b[0;34m>\u001b[0m\u001b[0mb\u001b[0m\u001b[0;34m:\u001b[0m\u001b[0;34m\u001b[0m\u001b[0m\n",
      "\u001b[0;31mNameError\u001b[0m: name 'floar' is not defined"
     ]
    }
   ],
   "source": [
    "a = raw_input(\"enter a value: \")\n",
    "b = raw_input(\"enter a value: \")\n",
    "a = float(a)\n",
    "b = floar(b)\n",
    "print a>b\n",
    "if a>b:\n",
    "      print \"a is big\"\n",
    "else:\n",
    "      print \"b is big\"\n",
    "print\"thank you\"\n"
   ]
  },
  {
   "cell_type": "code",
   "execution_count": 28,
   "metadata": {},
   "outputs": [
    {
     "ename": "SyntaxError",
     "evalue": "invalid syntax (<ipython-input-28-68fe494a0173>, line 8)",
     "output_type": "error",
     "traceback": [
      "\u001b[0;36m  File \u001b[0;32m\"<ipython-input-28-68fe494a0173>\"\u001b[0;36m, line \u001b[0;32m8\u001b[0m\n\u001b[0;31m    else\u001b[0m\n\u001b[0m         ^\u001b[0m\n\u001b[0;31mSyntaxError\u001b[0m\u001b[0;31m:\u001b[0m invalid syntax\n"
     ]
    }
   ],
   "source": [
    "\n",
    "a = raw_input(\"enter a person age: \")\n",
    "b = raw_input(\"enter a minimum age:\")\n",
    "a = float(a)\n",
    "b = float(b)\n",
    "if a>b:\n",
    "       print \"a>b\"\n",
    "else \n",
    "        print \"b>a\"\n",
    "        "
   ]
  },
  {
   "cell_type": "code",
   "execution_count": 32,
   "metadata": {},
   "outputs": [
    {
     "name": "stdout",
     "output_type": "stream",
     "text": [
      "enter a value:20\n",
      "enter a value:40\n",
      "enter a value:60\n",
      "c is big\n"
     ]
    }
   ],
   "source": [
    "a = raw_input(\"enter a value:\")\n",
    "b = raw_input(\"enter a value:\")\n",
    "c = raw_input(\"enter a value:\")\n",
    "a = float(a)\n",
    "b = float(b)\n",
    "c = float(c)\n",
    "if a>b:\n",
    "    if a>c:\n",
    "        print\"a is big\"\n",
    "if b>a:\n",
    "    if b>c:\n",
    "        print\"b is big\"\n",
    "if c>a:\n",
    "    if c>b:\n",
    "        print \"c is big\""
   ]
  },
  {
   "cell_type": "code",
   "execution_count": 1,
   "metadata": {},
   "outputs": [
    {
     "ename": "SyntaxError",
     "evalue": "invalid syntax (<ipython-input-1-fa7b8c2bd8af>, line 7)",
     "output_type": "error",
     "traceback": [
      "\u001b[0;36m  File \u001b[0;32m\"<ipython-input-1-fa7b8c2bd8af>\"\u001b[0;36m, line \u001b[0;32m7\u001b[0m\n\u001b[0;31m    if a==b and a==b\u001b[0m\n\u001b[0m                    ^\u001b[0m\n\u001b[0;31mSyntaxError\u001b[0m\u001b[0;31m:\u001b[0m invalid syntax\n"
     ]
    }
   ],
   "source": [
    "a = raw_input(\"enter a value:\")\n",
    "b = raw_input(\"enter a value:\")\n",
    "c = raw_input(\"enter a value:\")\n",
    "a = float(a)\n",
    "b = float(b)\n",
    "c = float(c) \n",
    "if a==b and a==b\n"
   ]
  },
  {
   "cell_type": "code",
   "execution_count": null,
   "metadata": {},
   "outputs": [],
   "source": []
  }
 ],
 "metadata": {
  "kernelspec": {
   "display_name": "Python 2",
   "language": "python",
   "name": "python2"
  },
  "language_info": {
   "codemirror_mode": {
    "name": "ipython",
    "version": 2
   },
   "file_extension": ".py",
   "mimetype": "text/x-python",
   "name": "python",
   "nbconvert_exporter": "python",
   "pygments_lexer": "ipython2",
   "version": "2.7.15rc1"
  }
 },
 "nbformat": 4,
 "nbformat_minor": 2
}
