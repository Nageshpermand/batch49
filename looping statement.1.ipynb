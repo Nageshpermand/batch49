{
 "cells": [
  {
   "cell_type": "code",
   "execution_count": 1,
   "metadata": {},
   "outputs": [
    {
     "name": "stdout",
     "output_type": "stream",
     "text": [
      "programme started\n",
      "iteration 0\n",
      "0\n",
      "other statement in programme\n",
      "programme ended\n",
      "iteration 1\n",
      "1\n",
      "other statement in programme\n",
      "programme ended\n",
      "iteration 2\n",
      "2\n",
      "other statement in programme\n",
      "programme ended\n"
     ]
    }
   ],
   "source": [
    "print \"programme started\"\n",
    "i = 0\n",
    "while i<3:\n",
    "    print\"iteration\",i\n",
    "    print i\n",
    "    i = i+1\n",
    "    print\"other statement in programme\"\n",
    "    print\"programme ended\""
   ]
  },
  {
   "cell_type": "code",
   "execution_count": 2,
   "metadata": {},
   "outputs": [
    {
     "name": "stdout",
     "output_type": "stream",
     "text": [
      "progrramme is started\n",
      "factors 0\n",
      "0\n",
      "factors 1\n",
      "1\n",
      "factors 2\n",
      "2\n",
      "factors 3\n",
      "3\n",
      "factors 4\n",
      "4\n",
      "factors 5\n",
      "5\n",
      "factors 6\n",
      "6\n",
      "factors 7\n",
      "7\n",
      "factors 8\n",
      "8\n",
      "factors 9\n",
      "9\n"
     ]
    }
   ],
   "source": [
    "#to findout factors:\n",
    "print\"progrramme is started\"\n",
    "i = 0\n",
    "while (i<10):\n",
    "    print\"factors\",i\n",
    "    print i\n",
    "    i = i+1\n"
   ]
  },
  {
   "cell_type": "code",
   "execution_count": 2,
   "metadata": {},
   "outputs": [
    {
     "name": "stdout",
     "output_type": "stream",
     "text": [
      "progrramme is started\n",
      "enter a value: 27\n",
      "1\n",
      "3\n",
      "9\n"
     ]
    }
   ],
   "source": [
    "#to find factros:\n",
    "print\"progrramme is started\"\n",
    "n = raw_input('enter a value: ')\n",
    "n = float(n)\n",
    "i = 1\n",
    "while i<=10:\n",
    "    if n%i==0:\n",
    "        print i\n",
    "    i = i+1\n"
   ]
  },
  {
   "cell_type": "code",
   "execution_count": 4,
   "metadata": {},
   "outputs": [
    {
     "name": "stdout",
     "output_type": "stream",
     "text": [
      "progrramme is started\n",
      "enter a value: 10\n",
      "1\n",
      "2\n",
      "5\n",
      "10\n"
     ]
    }
   ],
   "source": [
    "#to find factors: \n",
    "print\"progrramme is started\"\n",
    "n = raw_input('enter a value: ')\n",
    "n = float(n)\n",
    "i = 1\n",
    "while i<=10:\n",
    "    if n%i==0:\n",
    "        print i\n",
    "    i = i+1\n"
   ]
  },
  {
   "cell_type": "code",
   "execution_count": 5,
   "metadata": {},
   "outputs": [
    {
     "name": "stdout",
     "output_type": "stream",
     "text": [
      "enter a value: 10\n"
     ]
    }
   ],
   "source": [
    "n = raw_input('enter a value: ')\n",
    "n = float(n)\n",
    "while (i<n):\n",
    "    print i\n",
    "    i=i+1\n",
    "    \n"
   ]
  },
  {
   "cell_type": "code",
   "execution_count": 6,
   "metadata": {},
   "outputs": [
    {
     "name": "stdout",
     "output_type": "stream",
     "text": [
      "enter a value: 4.6\n"
     ]
    }
   ],
   "source": [
    "n = raw_input('enter a value: ')\n",
    "n = float(n)\n",
    "while (i<n):\n",
    "    print i\n",
    "    i=i+1\n",
    "    \n"
   ]
  },
  {
   "cell_type": "code",
   "execution_count": 7,
   "metadata": {},
   "outputs": [
    {
     "name": "stdout",
     "output_type": "stream",
     "text": [
      "enter a value: 4.6\n",
      "1\n",
      "2\n",
      "3\n",
      "4\n"
     ]
    }
   ],
   "source": [
    "n = raw_input('enter a value: ')\n",
    "n = float(n)\n",
    "i = 1\n",
    "while (i<n):\n",
    "    print i\n",
    "    i=i+1\n",
    "    \n"
   ]
  },
  {
   "cell_type": "code",
   "execution_count": 8,
   "metadata": {},
   "outputs": [
    {
     "name": "stdout",
     "output_type": "stream",
     "text": [
      "enter a value: 4\n",
      "1\n",
      "2\n",
      "3\n",
      "4\n"
     ]
    }
   ],
   "source": [
    "n = raw_input('enter a value: ')\n",
    "n = float(n)\n",
    "i = 1\n",
    "while (i<=n):\n",
    "    print i\n",
    "    i=i+1\n",
    "    \n"
   ]
  },
  {
   "cell_type": "code",
   "execution_count": null,
   "metadata": {},
   "outputs": [
    {
     "name": "stdout",
     "output_type": "stream",
     "text": [
      "enter a value: 4\n",
      "1\n",
      "2\n"
     ]
    }
   ],
   "source": [
    "n = raw_input('enter a value: ')\n",
    "n = float(n)\n",
    "i = 1\n",
    "while (i<=n):\n",
    "    if n%i==0:\n",
    "        print i\n",
    "        i=i+1\n",
    "    \n"
   ]
  },
  {
   "cell_type": "code",
   "execution_count": 7,
   "metadata": {},
   "outputs": [
    {
     "name": "stdout",
     "output_type": "stream",
     "text": [
      "enter a value: 10\n",
      "0\n",
      "2\n",
      "4\n",
      "6\n",
      "8\n"
     ]
    }
   ],
   "source": [
    "#for even \n",
    "n = raw_input('enter a value: ')\n",
    "n = float(n)\n",
    "i = 0\n",
    "while (i<n):\n",
    "    print i\n",
    "    i=i+2\n",
    "    \n",
    "\n"
   ]
  },
  {
   "cell_type": "code",
   "execution_count": 11,
   "metadata": {},
   "outputs": [
    {
     "name": "stdout",
     "output_type": "stream",
     "text": [
      "st1\n",
      "st2\n",
      "st3\n"
     ]
    }
   ],
   "source": [
    "print \"st1\"\n",
    "print \"st2\"\n",
    "print \"st3\"\n"
   ]
  },
  {
   "cell_type": "code",
   "execution_count": 10,
   "metadata": {},
   "outputs": [
    {
     "name": "stdout",
     "output_type": "stream",
     "text": [
      " st1\n",
      "st2\n",
      "st3\n"
     ]
    }
   ],
   "source": [
    "for i in range(1,4):\n",
    "    print \"st\"+str(i)"
   ]
  },
  {
   "cell_type": "code",
   "execution_count": 5,
   "metadata": {},
   "outputs": [
    {
     "name": "stdout",
     "output_type": "stream",
     "text": [
      "programme started\n",
      "0\n",
      "other programme in statement\n"
     ]
    }
   ],
   "source": [
    "print \"programme started\"\n",
    "i = 0\n",
    "if (i<4):\n",
    "    print i\n",
    "    i = i+1\n",
    "    \n",
    "print\"other programme in statement\""
   ]
  },
  {
   "cell_type": "code",
   "execution_count": 6,
   "metadata": {},
   "outputs": [
    {
     "name": "stdout",
     "output_type": "stream",
     "text": [
      "programme started\n",
      "0\n",
      "1\n",
      "2\n",
      "3\n",
      "other programme in statement\n"
     ]
    }
   ],
   "source": [
    "print \"programme started\"\n",
    "i = 0\n",
    "while (i<4):\n",
    "    print i\n",
    "    i = i+1\n",
    "    \n",
    "print\"other programme in statement\""
   ]
  },
  {
   "cell_type": "code",
   "execution_count": 1,
   "metadata": {},
   "outputs": [
    {
     "name": "stdout",
     "output_type": "stream",
     "text": [
      "programme started\n",
      "0\n",
      "3\n",
      "6\n",
      "9\n",
      "other programme in statement\n"
     ]
    }
   ],
   "source": [
    "print \"programme started\"\n",
    "i = 0\n",
    "while (i<10):\n",
    "    print i\n",
    "    i = i+3\n",
    "    \n",
    "print\"other programme in statement\""
   ]
  },
  {
   "cell_type": "code",
   "execution_count": 9,
   "metadata": {},
   "outputs": [
    {
     "name": "stdout",
     "output_type": "stream",
     "text": [
      "programme started\n",
      "0\n",
      "2\n",
      "4\n",
      "6\n",
      "8\n",
      "other programme in statement\n"
     ]
    }
   ],
   "source": [
    "#for even numbers:\n",
    "print \"programme started\"\n",
    "i = 0\n",
    "while (i<10):\n",
    "    if (i%2==0):\n",
    "        print i\n",
    "    i = i+1\n",
    "    \n",
    "print\"other programme in statement\""
   ]
  },
  {
   "cell_type": "code",
   "execution_count": 10,
   "metadata": {},
   "outputs": [
    {
     "name": "stdout",
     "output_type": "stream",
     "text": [
      "programme started\n",
      "1\n",
      "3\n",
      "5\n",
      "7\n",
      "9\n",
      "other programme in statement\n"
     ]
    }
   ],
   "source": [
    "#for odd numbers:\n",
    "print \"programme started\"\n",
    "i = 0\n",
    "while (i<10):\n",
    "    if (i%2==1):\n",
    "        print i\n",
    "    i = i+1\n",
    "    \n",
    "print\"other programme in statement\""
   ]
  },
  {
   "cell_type": "code",
   "execution_count": null,
   "metadata": {},
   "outputs": [],
   "source": []
  }
 ],
 "metadata": {
  "kernelspec": {
   "display_name": "Python 2",
   "language": "python",
   "name": "python2"
  },
  "language_info": {
   "codemirror_mode": {
    "name": "ipython",
    "version": 2
   },
   "file_extension": ".py",
   "mimetype": "text/x-python",
   "name": "python",
   "nbconvert_exporter": "python",
   "pygments_lexer": "ipython2",
   "version": "2.7.15rc1"
  }
 },
 "nbformat": 4,
 "nbformat_minor": 2
}
