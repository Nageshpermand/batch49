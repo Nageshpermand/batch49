{
 "cells": [
  {
   "cell_type": "code",
   "execution_count": 6,
   "metadata": {},
   "outputs": [
    {
     "name": "stdout",
     "output_type": "stream",
     "text": [
      "ramemahesh, harish, ajay, mahesh\n"
     ]
    }
   ],
   "source": [
    "\"\"\" 66. replace last two occurrences of given source string with destination string\"\"\"\n",
    "s = \"ramesh, harish, ajay, mahesh\"\n",
    "print s.replace('sh','mahesh',1)"
   ]
  },
  {
   "cell_type": "code",
   "execution_count": 11,
   "metadata": {},
   "outputs": [
    {
     "name": "stdout",
     "output_type": "stream",
     "text": [
      "['hyderabad', '  secendrabad', '  delhi', '   mumbai', '']\n",
      "['hyderabad\\n', '  secendrabad\\n', '  delhi\\n', '   mumbai\\n']\n"
     ]
    }
   ],
   "source": [
    "\"\"\" 67.  preserve the delimiter after split\"\"\"\n",
    "s = \"hyderabad\\n  secendrabad\\n  delhi\\n   mumbai\\n\"\n",
    "a = s.split('\\n')\n",
    "print a\n",
    "b = s.splitlines(True)\n",
    "print b"
   ]
  },
  {
   "cell_type": "code",
   "execution_count": 26,
   "metadata": {},
   "outputs": [
    {
     "name": "stdout",
     "output_type": "stream",
     "text": [
      "['hyderabad', '  secendrabad', '  delhi', '   mumbai', ''] ['hyderabad\\n', '  secendrabad\\n', '  delhi\\n', '   mumbai\\n']\n"
     ]
    }
   ],
   "source": [
    "\n",
    "s = \"hyderabad\\n  secendrabad\\n  delhi\\n   mumbai\\n\"\n",
    " \n",
    "def fun(a,b):\n",
    "    a = s.split('\\n')\n",
    "    b = s.splitlines(True)\n",
    "    print a,b\n",
    "fun(a,b)\n"
   ]
  },
  {
   "cell_type": "code",
   "execution_count": 1,
   "metadata": {},
   "outputs": [],
   "source": []
  },
  {
   "cell_type": "code",
   "execution_count": null,
   "metadata": {},
   "outputs": [],
   "source": []
  }
 ],
 "metadata": {
  "kernelspec": {
   "display_name": "Python 2",
   "language": "python",
   "name": "python2"
  },
  "language_info": {
   "codemirror_mode": {
    "name": "ipython",
    "version": 2
   },
   "file_extension": ".py",
   "mimetype": "text/x-python",
   "name": "python",
   "nbconvert_exporter": "python",
   "pygments_lexer": "ipython2",
   "version": "2.7.15rc1"
  }
 },
 "nbformat": 4,
 "nbformat_minor": 2
}
