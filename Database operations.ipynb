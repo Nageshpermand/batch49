{
 "cells": [
  {
   "cell_type": "code",
   "execution_count": 1,
   "metadata": {},
   "outputs": [],
   "source": [
    "import sqlite3"
   ]
  },
  {
   "cell_type": "code",
   "execution_count": 2,
   "metadata": {},
   "outputs": [
    {
     "ename": "TypeError",
     "evalue": "Required argument 'database' (pos 1) not found",
     "output_type": "error",
     "traceback": [
      "\u001b[0;31m---------------------------------------------------------------------------\u001b[0m",
      "\u001b[0;31mTypeError\u001b[0m                                 Traceback (most recent call last)",
      "\u001b[0;32m<ipython-input-2-6936d5f6a14d>\u001b[0m in \u001b[0;36m<module>\u001b[0;34m()\u001b[0m\n\u001b[0;32m----> 1\u001b[0;31m \u001b[0mcon\u001b[0m\u001b[0;34m=\u001b[0m\u001b[0msqlite3\u001b[0m\u001b[0;34m.\u001b[0m\u001b[0mconnect\u001b[0m\u001b[0;34m(\u001b[0m\u001b[0;34m)\u001b[0m\u001b[0;34m\u001b[0m\u001b[0m\n\u001b[0m",
      "\u001b[0;31mTypeError\u001b[0m: Required argument 'database' (pos 1) not found"
     ]
    }
   ],
   "source": [
    "con=sqlite3.connect()"
   ]
  },
  {
   "cell_type": "code",
   "execution_count": 14,
   "metadata": {},
   "outputs": [],
   "source": [
    "# creat  buffer\n",
    "con=sqlite3.connect('db4')"
   ]
  },
  {
   "cell_type": "code",
   "execution_count": 15,
   "metadata": {},
   "outputs": [],
   "source": [
    "cur=con.cursor()"
   ]
  },
  {
   "cell_type": "code",
   "execution_count": 16,
   "metadata": {},
   "outputs": [
    {
     "data": {
      "text/plain": [
       "<sqlite3.Cursor at 0x7f7690389f80>"
      ]
     },
     "execution_count": 16,
     "metadata": {},
     "output_type": "execute_result"
    }
   ],
   "source": [
    "cur.execute(\"create table customer(id,int, name varchar(250))\")"
   ]
  },
  {
   "cell_type": "code",
   "execution_count": 17,
   "metadata": {},
   "outputs": [],
   "source": [
    "con.commit()"
   ]
  },
  {
   "cell_type": "code",
   "execution_count": 18,
   "metadata": {},
   "outputs": [
    {
     "name": "stdout",
     "output_type": "stream",
     "text": [
      "Enter an id: 12\n",
      "enter nameanil\n",
      "insert into customer(id,name) values(12,'anil')\n"
     ]
    }
   ],
   "source": [
    "person_id=raw_input(\"Enter an id: \")\n",
    "person_name=raw_input(\"enter name:\")\n",
    "q=\"insert into customer(id,name) values(%s,'%s')\"%(person_id,person_name)\n",
    "print q"
   ]
  },
  {
   "cell_type": "code",
   "execution_count": 19,
   "metadata": {},
   "outputs": [
    {
     "name": "stdout",
     "output_type": "stream",
     "text": [
      "Enter an id: 10\n",
      "enter name:ashok\n",
      "insert into customer(id,name) values(10,'ashok')\n"
     ]
    }
   ],
   "source": [
    "#insert \n",
    "person_id=raw_input(\"Enter an id: \")\n",
    "person_name=raw_input(\"enter name:\")\n",
    "q=\"insert into customer(id,name) values(%s,'%s')\"%(person_id,person_name)\n",
    "print q"
   ]
  },
  {
   "cell_type": "code",
   "execution_count": 20,
   "metadata": {},
   "outputs": [
    {
     "name": "stdout",
     "output_type": "stream",
     "text": [
      "Enter an id: 2\n",
      "enter name:ajay\n",
      "insert into customer(id,name) values(2,'ajay')\n"
     ]
    }
   ],
   "source": [
    "#insert \n",
    "person_id=raw_input(\"Enter an id: \")\n",
    "person_name=raw_input(\"enter name:\")\n",
    "q=\"insert into customer(id,name) values(%s,'%s')\"%(person_id,person_name)\n",
    "print q\n",
    "con.commit()"
   ]
  },
  {
   "cell_type": "code",
   "execution_count": 21,
   "metadata": {},
   "outputs": [],
   "source": [
    "import random\n",
    "names=[\"ramesh\",\"mahesh\",\"prabhas\",\"harish\",\"sandeep\",\"karthik\"]\n",
    "for i in range(3,103):\n",
    "    q=\"insert into customer(id,name) values(%s,'%s')\"%(i,random.choice(names))\n",
    "    cur.execute(q)\n",
    "con.commit()"
   ]
  },
  {
   "cell_type": "code",
   "execution_count": 22,
   "metadata": {},
   "outputs": [
    {
     "data": {
      "text/plain": [
       "<sqlite3.Cursor at 0x7f7690389f80>"
      ]
     },
     "execution_count": 22,
     "metadata": {},
     "output_type": "execute_result"
    }
   ],
   "source": [
    "q=\"select * from customer\"\n",
    "cur.execute(q)"
   ]
  },
  {
   "cell_type": "code",
   "execution_count": 23,
   "metadata": {},
   "outputs": [],
   "source": [
    "data=cur.fetchall()"
   ]
  },
  {
   "cell_type": "code",
   "execution_count": 24,
   "metadata": {},
   "outputs": [
    {
     "name": "stdout",
     "output_type": "stream",
     "text": [
      "[(3, None, u'mahesh'), (4, None, u'harish'), (5, None, u'mahesh'), (6, None, u'mahesh'), (7, None, u'harish'), (8, None, u'sandeep'), (9, None, u'prabhas'), (10, None, u'ramesh'), (11, None, u'prabhas'), (12, None, u'karthik'), (13, None, u'karthik'), (14, None, u'mahesh'), (15, None, u'sandeep'), (16, None, u'karthik'), (17, None, u'ramesh'), (18, None, u'karthik'), (19, None, u'prabhas'), (20, None, u'mahesh'), (21, None, u'harish'), (22, None, u'mahesh'), (23, None, u'sandeep'), (24, None, u'ramesh'), (25, None, u'harish'), (26, None, u'prabhas'), (27, None, u'karthik'), (28, None, u'harish'), (29, None, u'sandeep'), (30, None, u'mahesh'), (31, None, u'harish'), (32, None, u'sandeep'), (33, None, u'sandeep'), (34, None, u'sandeep'), (35, None, u'prabhas'), (36, None, u'ramesh'), (37, None, u'mahesh'), (38, None, u'karthik'), (39, None, u'harish'), (40, None, u'prabhas'), (41, None, u'mahesh'), (42, None, u'ramesh'), (43, None, u'mahesh'), (44, None, u'harish'), (45, None, u'prabhas'), (46, None, u'sandeep'), (47, None, u'ramesh'), (48, None, u'karthik'), (49, None, u'harish'), (50, None, u'sandeep'), (51, None, u'mahesh'), (52, None, u'harish'), (53, None, u'ramesh'), (54, None, u'mahesh'), (55, None, u'harish'), (56, None, u'mahesh'), (57, None, u'prabhas'), (58, None, u'ramesh'), (59, None, u'harish'), (60, None, u'prabhas'), (61, None, u'ramesh'), (62, None, u'prabhas'), (63, None, u'harish'), (64, None, u'karthik'), (65, None, u'sandeep'), (66, None, u'prabhas'), (67, None, u'prabhas'), (68, None, u'mahesh'), (69, None, u'harish'), (70, None, u'ramesh'), (71, None, u'karthik'), (72, None, u'mahesh'), (73, None, u'harish'), (74, None, u'prabhas'), (75, None, u'sandeep'), (76, None, u'sandeep'), (77, None, u'harish'), (78, None, u'sandeep'), (79, None, u'mahesh'), (80, None, u'harish'), (81, None, u'harish'), (82, None, u'mahesh'), (83, None, u'harish'), (84, None, u'ramesh'), (85, None, u'mahesh'), (86, None, u'sandeep'), (87, None, u'ramesh'), (88, None, u'mahesh'), (89, None, u'karthik'), (90, None, u'sandeep'), (91, None, u'ramesh'), (92, None, u'prabhas'), (93, None, u'ramesh'), (94, None, u'mahesh'), (95, None, u'mahesh'), (96, None, u'mahesh'), (97, None, u'prabhas'), (98, None, u'harish'), (99, None, u'mahesh'), (100, None, u'harish'), (101, None, u'sandeep'), (102, None, u'prabhas')]\n"
     ]
    }
   ],
   "source": [
    "print data"
   ]
  },
  {
   "cell_type": "code",
   "execution_count": 25,
   "metadata": {},
   "outputs": [
    {
     "name": "stdout",
     "output_type": "stream",
     "text": [
      "[(20, None, u'mahesh')]\n"
     ]
    }
   ],
   "source": [
    "q=\"select * from customer where id=20\"\n",
    "cur.execute(q)\n",
    "print cur.fetchall()"
   ]
  },
  {
   "cell_type": "code",
   "execution_count": 26,
   "metadata": {},
   "outputs": [
    {
     "name": "stdout",
     "output_type": "stream",
     "text": [
      "[(20, None, u'mahesh')]\n"
     ]
    }
   ],
   "source": [
    "q=\"select * from customer where id=20\"\n",
    "cur.execute(q)\n",
    "print cur.fetchall()"
   ]
  },
  {
   "cell_type": "code",
   "execution_count": 27,
   "metadata": {},
   "outputs": [
    {
     "name": "stdout",
     "output_type": "stream",
     "text": [
      "[]\n"
     ]
    }
   ],
   "source": [
    "q=\"select * from customer where id=1\"\n",
    "cur.execute(q)\n",
    "print cur.fetchall()"
   ]
  },
  {
   "cell_type": "code",
   "execution_count": 29,
   "metadata": {},
   "outputs": [
    {
     "name": "stdout",
     "output_type": "stream",
     "text": [
      "[(102, None, u'prabhas')]\n"
     ]
    }
   ],
   "source": [
    "q=\"select * from customer where id=102\"\n",
    "cur.execute(q)\n",
    "print cur.fetchall()\n"
   ]
  },
  {
   "cell_type": "code",
   "execution_count": 30,
   "metadata": {},
   "outputs": [
    {
     "name": "stdout",
     "output_type": "stream",
     "text": [
      "[(4, None, u'harish'), (7, None, u'harish'), (21, None, u'harish'), (25, None, u'harish'), (28, None, u'harish'), (31, None, u'harish'), (39, None, u'harish'), (44, None, u'harish'), (49, None, u'harish'), (52, None, u'harish'), (55, None, u'harish'), (59, None, u'harish'), (63, None, u'harish'), (69, None, u'harish'), (73, None, u'harish'), (77, None, u'harish'), (80, None, u'harish'), (81, None, u'harish'), (83, None, u'harish'), (98, None, u'harish'), (100, None, u'harish')]\n"
     ]
    }
   ],
   "source": [
    "q=\"select * from customer where name='harish'\"\n",
    "cur.execute(q)\n",
    "print cur.fetchall()\n"
   ]
  },
  {
   "cell_type": "code",
   "execution_count": 31,
   "metadata": {},
   "outputs": [
    {
     "name": "stdout",
     "output_type": "stream",
     "text": [
      "21\n"
     ]
    }
   ],
   "source": [
    "q=\"select * from customer where name='harish'\"\n",
    "cur.execute(q)\n",
    "print len(cur.fetchall())\n"
   ]
  },
  {
   "cell_type": "code",
   "execution_count": 39,
   "metadata": {},
   "outputs": [
    {
     "name": "stdout",
     "output_type": "stream",
     "text": [
      "[(21,)]\n"
     ]
    }
   ],
   "source": [
    "q=\"select count(*) from customer where name='harish'\"\n",
    "cur.execute(q)\n",
    "print (cur.fetchall())\n"
   ]
  },
  {
   "cell_type": "code",
   "execution_count": 42,
   "metadata": {},
   "outputs": [
    {
     "name": "stdout",
     "output_type": "stream",
     "text": [
      "enter an id: 12\n",
      "[(12, None, u'karthik')]\n",
      "do you want updatethe row(y/n)y\n",
      "enter to modify:kartheek\n",
      "[(12, None, u'kartheek')]\n"
     ]
    }
   ],
   "source": [
    "person_id = raw_input(\"enter an id: \")\n",
    "q= \"select * from customer where id= \"+person_id\n",
    "cur.execute(q)\n",
    "row = cur.fetchall()\n",
    "print row\n",
    "opt=raw_input(\"do you want updatethe row(y/n)\")\n",
    "if opt.lower()== \"y\" or opt.lower()== \"yes\":\n",
    "    person_name=raw_input(\"enter to modify:\")\n",
    "    q=\"update customer set name='%s' where id=%s\"%(person_name,person_id)\n",
    "    cur.execute(q)\n",
    "    con.commit()\n",
    "q=\"select * from customer where id=\"+person_id\n",
    "cur.execute(q)\n",
    "row = cur.fetchall()\n",
    "print row\n"
   ]
  },
  {
   "cell_type": "code",
   "execution_count": 43,
   "metadata": {},
   "outputs": [
    {
     "name": "stdout",
     "output_type": "stream",
     "text": [
      "enter an id: 14\n",
      "[(14, None, u'mahesh')]\n",
      "do you want updatethe row(y/n)maheesh\n",
      "[(14, None, u'mahesh')]\n"
     ]
    }
   ],
   "source": [
    "person_id = raw_input(\"enter an id: \")\n",
    "q= \"select * from customer where id= \"+person_id\n",
    "cur.execute(q)\n",
    "row = cur.fetchall()\n",
    "print row\n",
    "opt=raw_input(\"do you want updatethe row(y/n)\")\n",
    "if opt.lower()== \"y\" or opt.lower()== \"yes\":\n",
    "    person_name=raw_input(\"enter to modify:\")\n",
    "    q=\"update customer set name='%s' where id=%s\"%(person_name,person_id)\n",
    "    cur.execute(q)\n",
    "    con.commit()\n",
    "q=\"select * from customer where id=\"+person_id\n",
    "cur.execute(q)\n",
    "row = cur.fetchall()\n",
    "print row\n"
   ]
  },
  {
   "cell_type": "code",
   "execution_count": 44,
   "metadata": {},
   "outputs": [
    {
     "name": "stdout",
     "output_type": "stream",
     "text": [
      "enter an id: 10\n",
      "[(10, None, u'ramesh')]\n",
      "do you want updatethe row(y/n)y\n",
      "enter to modify:rameshhh\n",
      "[(10, None, u'rameshhh')]\n"
     ]
    }
   ],
   "source": [
    "person_id = raw_input(\"enter an id: \")\n",
    "q= \"select * from customer where id= \"+person_id\n",
    "cur.execute(q)\n",
    "row = cur.fetchall()\n",
    "print row\n",
    "opt=raw_input(\"do you want updatethe row(y/n)\")\n",
    "if opt.lower()== \"y\" or opt.lower()== \"yes\":\n",
    "    person_name=raw_input(\"enter to modify:\")\n",
    "    q=\"update customer set name='%s' where id=%s\"%(person_name,person_id)\n",
    "    cur.execute(q)\n",
    "    con.commit()\n",
    "q=\"select * from customer where id=\"+person_id\n",
    "cur.execute(q)\n",
    "row = cur.fetchall()\n",
    "print row\n"
   ]
  },
  {
   "cell_type": "code",
   "execution_count": 45,
   "metadata": {},
   "outputs": [
    {
     "name": "stdout",
     "output_type": "stream",
     "text": [
      "enter an id: 24\n",
      "[(24, None, u'ramesh')]\n",
      "do you want updatethe row(y/n)n\n",
      "[(24, None, u'ramesh')]\n"
     ]
    }
   ],
   "source": [
    "person_id = raw_input(\"enter an id: \")\n",
    "q= \"select * from customer where id= \"+person_id\n",
    "cur.execute(q)\n",
    "row = cur.fetchall()\n",
    "print row\n",
    "opt=raw_input(\"do you want updatethe row(y/n)\")\n",
    "if opt.lower()== \"y\" or opt.lower()== \"yes\":\n",
    "    person_name=raw_input(\"enter to modify:\")\n",
    "    q=\"update customer set name='%s' where id=%s\"%(person_name,person_id)\n",
    "    cur.execute(q)\n",
    "    con.commit()\n",
    "q=\"select * from customer where id=\"+person_id\n",
    "cur.execute(q)\n",
    "row = cur.fetchall()\n",
    "print row\n"
   ]
  },
  {
   "cell_type": "code",
   "execution_count": 46,
   "metadata": {},
   "outputs": [
    {
     "name": "stdout",
     "output_type": "stream",
     "text": [
      "enter an id: 20\n",
      "[(20, None, u'mahesh')]\n",
      "do you want updatethe row(y/n)y\n",
      "enter to modify:mahesh babu\n",
      "[(20, None, u'mahesh babu')]\n"
     ]
    }
   ],
   "source": [
    "person_id = raw_input(\"enter an id: \")\n",
    "q= \"select * from customer where id= \"+person_id\n",
    "cur.execute(q)\n",
    "row = cur.fetchall()\n",
    "print row\n",
    "opt=raw_input(\"do you want updatethe row(y/n)\")\n",
    "if opt.lower()== \"y\" or opt.lower()== \"yes\":\n",
    "    person_name=raw_input(\"enter to modify:\")\n",
    "    q=\"update customer set name='%s' where id=%s\"%(person_name,person_id)\n",
    "    cur.execute(q)\n",
    "    con.commit()\n",
    "q=\"select * from customer where id=\"+person_id\n",
    "cur.execute(q)\n",
    "row = cur.fetchall()\n",
    "print row\n"
   ]
  },
  {
   "cell_type": "code",
   "execution_count": 47,
   "metadata": {},
   "outputs": [
    {
     "name": "stdout",
     "output_type": "stream",
     "text": [
      "enter an id: 12\n",
      "[(12, None, u'kartheek')]\n",
      "do you want updatethe row(y/n)y\n",
      "enter to modify:karthik\n",
      "[(12, None, u'karthik')]\n"
     ]
    }
   ],
   "source": [
    "person_id = raw_input(\"enter an id: \")\n",
    "def browse(person_id):\n",
    "    q= \"select * from customer where id= \"+person_id\n",
    "    cur.execute(q)\n",
    "    row = cur.fetchall()\n",
    "    print row\n",
    "browse(person_id)\n",
    "opt=raw_input(\"do you want updatethe row(y/n)\")\n",
    "if opt.lower()== \"y\" or opt.lower()== \"yes\":\n",
    "    person_name=raw_input(\"enter to modify:\")\n",
    "    q=\"update customer set name='%s' where id=%s\"%(person_name,person_id)\n",
    "    cur.execute(q)\n",
    "    con.commit()\n",
    "q=\"select * from customer where id=\"+person_id\n",
    "cur.execute(q)\n",
    "row = cur.fetchall()\n",
    "print row\n"
   ]
  },
  {
   "cell_type": "code",
   "execution_count": 48,
   "metadata": {},
   "outputs": [
    {
     "name": "stdout",
     "output_type": "stream",
     "text": [
      "enter an id: 12\n",
      "[(12, None, u'karthik')]\n",
      "do you want delet the row(y/n)n\n",
      "[(12, None, u'karthik')]\n"
     ]
    }
   ],
   "source": [
    "person_id = raw_input(\"enter an id: \")\n",
    "def browse(person_id):\n",
    "    q= \"select * from customer where id= \"+person_id\n",
    "    cur.execute(q)\n",
    "    row = cur.fetchall()\n",
    "    print row\n",
    "browse(person_id)\n",
    "opt=raw_input(\"do you want delet the row(y/n)\")\n",
    "if opt.lower()== \"y\" or opt.lower()== \"yes\":\n",
    "    person_name=raw_input(\"enter to modify:\")\n",
    "    q=\"delet customer set name='%s' where id=%s\"%(person_name,person_id)\n",
    "    cur.execute(q)\n",
    "    con.commit()\n",
    "q=\"select * from customer where id=\"+person_id\n",
    "cur.execute(q)\n",
    "row = cur.fetchall()\n",
    "print row\n"
   ]
  },
  {
   "cell_type": "code",
   "execution_count": 49,
   "metadata": {},
   "outputs": [
    {
     "name": "stdout",
     "output_type": "stream",
     "text": [
      "enter an id: 12\n",
      "[(12, None, u'karthik')]\n",
      "do you want delet the row(y/n)y\n",
      "enter to modify:karthik\n"
     ]
    },
    {
     "ename": "OperationalError",
     "evalue": "near \"delet\": syntax error",
     "output_type": "error",
     "traceback": [
      "\u001b[0;31m---------------------------------------------------------------------------\u001b[0m",
      "\u001b[0;31mOperationalError\u001b[0m                          Traceback (most recent call last)",
      "\u001b[0;32m<ipython-input-49-0054860ae4d8>\u001b[0m in \u001b[0;36m<module>\u001b[0;34m()\u001b[0m\n\u001b[1;32m     10\u001b[0m     \u001b[0mperson_name\u001b[0m\u001b[0;34m=\u001b[0m\u001b[0mraw_input\u001b[0m\u001b[0;34m(\u001b[0m\u001b[0;34m\"enter to modify:\"\u001b[0m\u001b[0;34m)\u001b[0m\u001b[0;34m\u001b[0m\u001b[0m\n\u001b[1;32m     11\u001b[0m     \u001b[0mq\u001b[0m\u001b[0;34m=\u001b[0m\u001b[0;34m\"delet customer set name='%s' where id=%s\"\u001b[0m\u001b[0;34m%\u001b[0m\u001b[0;34m(\u001b[0m\u001b[0mperson_name\u001b[0m\u001b[0;34m,\u001b[0m\u001b[0mperson_id\u001b[0m\u001b[0;34m)\u001b[0m\u001b[0;34m\u001b[0m\u001b[0m\n\u001b[0;32m---> 12\u001b[0;31m     \u001b[0mcur\u001b[0m\u001b[0;34m.\u001b[0m\u001b[0mexecute\u001b[0m\u001b[0;34m(\u001b[0m\u001b[0mq\u001b[0m\u001b[0;34m)\u001b[0m\u001b[0;34m\u001b[0m\u001b[0m\n\u001b[0m\u001b[1;32m     13\u001b[0m     \u001b[0mcon\u001b[0m\u001b[0;34m.\u001b[0m\u001b[0mcommit\u001b[0m\u001b[0;34m(\u001b[0m\u001b[0;34m)\u001b[0m\u001b[0;34m\u001b[0m\u001b[0m\n\u001b[1;32m     14\u001b[0m \u001b[0mq\u001b[0m\u001b[0;34m=\u001b[0m\u001b[0;34m\"select * from customer where id=\"\u001b[0m\u001b[0;34m+\u001b[0m\u001b[0mperson_id\u001b[0m\u001b[0;34m\u001b[0m\u001b[0m\n",
      "\u001b[0;31mOperationalError\u001b[0m: near \"delet\": syntax error"
     ]
    }
   ],
   "source": [
    "person_id = raw_input(\"enter an id: \")\n",
    "def browse(person_id):\n",
    "    q= \"select * from customer where id= \"+person_id\n",
    "    cur.execute(q)\n",
    "    row = cur.fetchall()\n",
    "    print row\n",
    "browse(person_id)\n",
    "opt=raw_input(\"do you want delet the row(y/n)\")\n",
    "if opt.lower()== \"y\" or opt.lower()== \"yes\":\n",
    "    person_name=raw_input(\"enter to modify:\")\n",
    "    q=\"delet customer set name='%s' where id=%s\"%(person_name,person_id)\n",
    "    cur.execute(q)\n",
    "    con.commit()\n",
    "q=\"select * from customer where id=\"+person_id\n",
    "cur.execute(q)\n",
    "row = cur.fetchall()\n",
    "print row\n"
   ]
  },
  {
   "cell_type": "code",
   "execution_count": 50,
   "metadata": {},
   "outputs": [
    {
     "name": "stdout",
     "output_type": "stream",
     "text": [
      "enter an id:12\n",
      "[(12, None, u'karthik')]\n",
      "Do you want to delete the row:(y/n)y\n",
      "[]\n"
     ]
    }
   ],
   "source": [
    "person_id = raw_input(\"enter an id:\")\n",
    "def browse(person_id):\n",
    "    q=\"select * from customer where id=\"+person_id\n",
    "    cur.execute(q)\n",
    "    row = cur.fetchall()\n",
    "    print row\n",
    "browse(person_id)\n",
    "opt = raw_input(\"Do you want to delete the row:(y/n)\")\n",
    "if opt.lower() == \"y\" or opt.lower() == \"yes\":\n",
    "    q=\"delete from customer where id=%s\"%(person_id)\n",
    "    cur.execute(q)\n",
    "    con.commit()\n",
    "browse(person_id)\n"
   ]
  },
  {
   "cell_type": "code",
   "execution_count": 59,
   "metadata": {},
   "outputs": [
    {
     "name": "stdout",
     "output_type": "stream",
     "text": [
      "enter an id:22\n",
      "[(22, None, u'mahesh')]\n",
      "Do you want to delete the row:(y/n)y\n",
      "[]\n"
     ]
    }
   ],
   "source": [
    "person_id = raw_input(\"enter an id:\")\n",
    "def browse(person_id):\n",
    "    q=\"select * from customer where id= \"+person_id\n",
    "    cur.execute(q)\n",
    "    row = cur.fetchall()\n",
    "    print row\n",
    "browse(person_id)\n",
    "opt = raw_input(\"Do you want to delete the row:(y/n)\")\n",
    "if opt.lower() == \"y\" or opt.lower() == \"yes\":\n",
    "    q=\" delete from customer where id=%s\"%(person_id)\n",
    "    cur.execute(q)\n",
    "    con.commit()\n",
    "browse(person_id)\n",
    "    "
   ]
  },
  {
   "cell_type": "code",
   "execution_count": 60,
   "metadata": {},
   "outputs": [
    {
     "name": "stdout",
     "output_type": "stream",
     "text": [
      "enter an id:18\n",
      "[(18, None, u'karthik')]\n",
      "Do you want to delete the row:(y/n)n\n"
     ]
    }
   ],
   "source": [
    "person_id = raw_input(\"enter an id:\")\n",
    "def browse(person_id):\n",
    "    q=\"select * from customer where id= \"+person_id\n",
    "    cur.execute(q)\n",
    "    row = cur.fetchall()\n",
    "    print row\n",
    "browse(person_id)\n",
    "opt = raw_input(\"Do you want to delete the row:(y/n)\")\n",
    "if opt.lower() == \"y\" or opt.lower() == \"yes\":\n",
    "    q=\" delete from customer where id=%s\"%(person_id)\n",
    "    cur.execute(q)\n",
    "    con.commit()\n",
    "def browse(person_id):\n",
    "    q=\"select * from customer where id= \"+person_id\n",
    "    cur.execute(q)\n",
    "    row = cur.fetchall()\n",
    "    print row\n",
    "    "
   ]
  },
  {
   "cell_type": "code",
   "execution_count": 61,
   "metadata": {},
   "outputs": [
    {
     "name": "stdout",
     "output_type": "stream",
     "text": [
      "enter an id:18\n",
      "[(18, None, u'karthik')]\n",
      "Do you want to delete the row:(y/n)y\n"
     ]
    }
   ],
   "source": [
    "person_id = raw_input(\"enter an id:\")\n",
    "def browse(person_id):\n",
    "    q=\"select * from customer where id= \"+person_id\n",
    "    cur.execute(q)\n",
    "    row = cur.fetchall()\n",
    "    print row\n",
    "browse(person_id)\n",
    "opt = raw_input(\"Do you want to delete the row:(y/n)\")\n",
    "if opt.lower() == \"y\" or opt.lower() == \"yes\":\n",
    "    q=\" delete from customer where id=%s\"%(person_id)\n",
    "    cur.execute(q)\n",
    "    con.commit()\n",
    "def browse(person_id):\n",
    "    q=\"select * from customer where id= \"+person_id\n",
    "    cur.execute(q)\n",
    "    row = cur.fetchall()\n",
    "    print row\n",
    "    "
   ]
  },
  {
   "cell_type": "code",
   "execution_count": 64,
   "metadata": {},
   "outputs": [
    {
     "name": "stdout",
     "output_type": "stream",
     "text": [
      "enter an id:10\n",
      "[(10, None, u'rameshhh')]\n",
      "Do you want to delete the row:(y/n)y\n",
      "[]\n"
     ]
    }
   ],
   "source": [
    "person_id = raw_input(\"enter an id:\")\n",
    "def browse(person_id):\n",
    "    q=\"select * from customer where id= \"+person_id\n",
    "    cur.execute(q)\n",
    "    row = cur.fetchall()\n",
    "    print row\n",
    "browse(person_id)\n",
    "opt = raw_input(\"Do you want to delete the row:(y/n)\")\n",
    "if opt.lower() == \"y\" or opt.lower() == \"yes\":\n",
    "    q=\" delete from customer where id=%s\"%(person_id)\n",
    "    cur.execute(q)\n",
    "    con.commit()\n",
    "def browse(person_id):\n",
    "    q=\"select * from customer where id= \"+person_id\n",
    "    cur.execute(q)\n",
    "    row = cur.fetchall()\n",
    "    print row\n",
    "browse(person_id)\n",
    "    "
   ]
  },
  {
   "cell_type": "code",
   "execution_count": 65,
   "metadata": {},
   "outputs": [
    {
     "name": "stdout",
     "output_type": "stream",
     "text": [
      "enter an id:22\n",
      "[]\n",
      "Do you want to delete the row:(y/n)y\n",
      "[]\n"
     ]
    }
   ],
   "source": [
    "person_id = raw_input(\"enter an id:\")\n",
    "def browse(person_id):\n",
    "    q=\"select * from customer where id= \"+person_id\n",
    "    cur.execute(q)\n",
    "    row = cur.fetchall()\n",
    "    print row\n",
    "browse(person_id)\n",
    "opt = raw_input(\"Do you want to delete the row:(y/n)\")\n",
    "if opt.lower() == \"y\" or opt.lower() == \"yes\":\n",
    "    q=\" delete from customer where id=%s\"%(person_id)\n",
    "    cur.execute(q)\n",
    "    con.commit()\n",
    "def browse(person_id):\n",
    "    q=\"select * from customer where id= \"+person_id\n",
    "    cur.execute(q)\n",
    "    row = cur.fetchall()\n",
    "    print row\n",
    "browse(person_id)\n",
    "    \n",
    "    "
   ]
  },
  {
   "cell_type": "code",
   "execution_count": 66,
   "metadata": {},
   "outputs": [
    {
     "name": "stdout",
     "output_type": "stream",
     "text": [
      "enter an id:8\n",
      "[(8, None, u'sandeep')]\n",
      "Do you want to delete the row:(y/n)y\n",
      "[]\n"
     ]
    }
   ],
   "source": [
    "person_id = raw_input(\"enter an id:\")\n",
    "def browse(person_id):\n",
    "    q=\"select * from customer where id= \"+person_id\n",
    "    cur.execute(q)\n",
    "    row = cur.fetchall()\n",
    "    print row\n",
    "browse(person_id)\n",
    "opt = raw_input(\"Do you want to delete the row:(y/n)\")\n",
    "if opt.lower() == \"y\" or opt.lower() == \"yes\":\n",
    "    q=\" delete from customer where id=%s\"%(person_id)\n",
    "    cur.execute(q)\n",
    "    con.commit()\n",
    "browse(person_id)                                        #compress code\n",
    "    "
   ]
  },
  {
   "cell_type": "code",
   "execution_count": 67,
   "metadata": {},
   "outputs": [
    {
     "name": "stdout",
     "output_type": "stream",
     "text": [
      "enter an id:42\n",
      "[(42, None, u'ramesh')]\n",
      "Do you want to delete the row:(y/n)yes\n",
      "[]\n"
     ]
    }
   ],
   "source": [
    "person_id = raw_input(\"enter an id:\")\n",
    "def browse(person_id):\n",
    "    q=\"select * from customer where id= \"+person_id\n",
    "    cur.execute(q)\n",
    "    row = cur.fetchall()\n",
    "    print row\n",
    "browse(person_id)\n",
    "opt = raw_input(\"Do you want to delete the row:(y/n)\")\n",
    "if opt.lower() == \"y\" or opt.lower() == \"yes\":\n",
    "    q=\" delete from customer where id=%s\"%(person_id)\n",
    "    cur.execute(q)\n",
    "    con.commit()\n",
    "browse(person_id)                                        \n",
    "    "
   ]
  },
  {
   "cell_type": "code",
   "execution_count": 68,
   "metadata": {},
   "outputs": [
    {
     "name": "stdout",
     "output_type": "stream",
     "text": [
      "enter an id:60\n",
      "[(60, None, u'prabhas')]\n",
      "Do you want to delete the row:(y/n)y\n",
      "[]\n"
     ]
    }
   ],
   "source": [
    "person_id = raw_input(\"enter an id:\")\n",
    "def browse(person_id):\n",
    "    q=\"select * from customer where id= \"+person_id\n",
    "    cur.execute(q)\n",
    "    row = cur.fetchall()\n",
    "    print row\n",
    "browse(person_id)\n",
    "opt = raw_input(\"Do you want to delete the row:(y/n)\")\n",
    "if opt.lower() == \"y\" or opt.lower() == \"yes\":\n",
    "    q=\" delete from customer where id=%s\"%(person_id)\n",
    "    cur.execute(q)\n",
    "    con.commit()\n",
    "browse(person_id)                                        \n",
    "    "
   ]
  },
  {
   "cell_type": "code",
   "execution_count": 1,
   "metadata": {},
   "outputs": [],
   "source": [
    "import psycopg2"
   ]
  },
  {
   "cell_type": "code",
   "execution_count": 1,
   "metadata": {},
   "outputs": [],
   "source": [
    "import psycopg2"
   ]
  },
  {
   "cell_type": "code",
   "execution_count": null,
   "metadata": {},
   "outputs": [],
   "source": []
  }
 ],
 "metadata": {
  "kernelspec": {
   "display_name": "Python 2",
   "language": "python",
   "name": "python2"
  },
  "language_info": {
   "codemirror_mode": {
    "name": "ipython",
    "version": 2
   },
   "file_extension": ".py",
   "mimetype": "text/x-python",
   "name": "python",
   "nbconvert_exporter": "python",
   "pygments_lexer": "ipython2",
   "version": "2.7.15rc1"
  }
 },
 "nbformat": 4,
 "nbformat_minor": 2
}
