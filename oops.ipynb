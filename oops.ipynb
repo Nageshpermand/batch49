{
 "cells": [
  {
   "cell_type": "code",
   "execution_count": 1,
   "metadata": {},
   "outputs": [
    {
     "name": "stdout",
     "output_type": "stream",
     "text": [
      "this is employee\n"
     ]
    }
   ],
   "source": [
    "def fun():\n",
    "    print\"thiis is fun\"\n",
    "class employee:\n",
    "    print \"this is employee\""
   ]
  },
  {
   "cell_type": "code",
   "execution_count": 2,
   "metadata": {},
   "outputs": [],
   "source": [
    "class Emp:\n",
    "    a=100\n",
    "    b=200"
   ]
  },
  {
   "cell_type": "code",
   "execution_count": 3,
   "metadata": {},
   "outputs": [
    {
     "name": "stdout",
     "output_type": "stream",
     "text": [
      "100 200\n"
     ]
    }
   ],
   "source": [
    "class Emp:\n",
    "    a=100\n",
    "    b=200\n",
    "    print a,b"
   ]
  },
  {
   "cell_type": "code",
   "execution_count": 4,
   "metadata": {},
   "outputs": [
    {
     "ename": "NameError",
     "evalue": "name 'a' is not defined",
     "output_type": "error",
     "traceback": [
      "\u001b[0;31m---------------------------------------------------------------------------\u001b[0m",
      "\u001b[0;31mNameError\u001b[0m                                 Traceback (most recent call last)",
      "\u001b[0;32m<ipython-input-4-ef6bbdb3952f>\u001b[0m in \u001b[0;36m<module>\u001b[0;34m()\u001b[0m\n\u001b[1;32m      2\u001b[0m     \u001b[0ma\u001b[0m\u001b[0;34m=\u001b[0m\u001b[0;36m100\u001b[0m\u001b[0;34m\u001b[0m\u001b[0m\n\u001b[1;32m      3\u001b[0m     \u001b[0mb\u001b[0m\u001b[0;34m=\u001b[0m\u001b[0;36m200\u001b[0m\u001b[0;34m\u001b[0m\u001b[0m\n\u001b[0;32m----> 4\u001b[0;31m \u001b[0;32mprint\u001b[0m \u001b[0ma\u001b[0m\u001b[0;34m,\u001b[0m\u001b[0mb\u001b[0m\u001b[0;34m\u001b[0m\u001b[0m\n\u001b[0m",
      "\u001b[0;31mNameError\u001b[0m: name 'a' is not defined"
     ]
    }
   ],
   "source": [
    "class Emp:\n",
    "    a=100\n",
    "    b=200\n",
    "print a,b"
   ]
  },
  {
   "cell_type": "code",
   "execution_count": 5,
   "metadata": {},
   "outputs": [
    {
     "name": "stdout",
     "output_type": "stream",
     "text": [
      "100 200\n"
     ]
    }
   ],
   "source": [
    "class Emp:\n",
    "    a=100\n",
    "    b=200\n",
    "print Emp.a,Emp.b"
   ]
  },
  {
   "cell_type": "code",
   "execution_count": 6,
   "metadata": {},
   "outputs": [
    {
     "name": "stdout",
     "output_type": "stream",
     "text": [
      "100 200\n"
     ]
    }
   ],
   "source": [
    "class Emp:\n",
    "    a=100\n",
    "    b=200\n",
    "    def fun(x,y):\n",
    "        print\"x=\",x,\"y=\",y\n",
    "print Emp.a,Emp.b"
   ]
  },
  {
   "cell_type": "code",
   "execution_count": 3,
   "metadata": {},
   "outputs": [
    {
     "name": "stdout",
     "output_type": "stream",
     "text": [
      "100 200\n"
     ]
    },
    {
     "ename": "TypeError",
     "evalue": "unbound method fun() must be called with Emp instance as first argument (got int instance instead)",
     "output_type": "error",
     "traceback": [
      "\u001b[0;31m---------------------------------------------------------------------------\u001b[0m",
      "\u001b[0;31mTypeError\u001b[0m                                 Traceback (most recent call last)",
      "\u001b[0;32m<ipython-input-3-985e7a0fa46b>\u001b[0m in \u001b[0;36m<module>\u001b[0;34m()\u001b[0m\n\u001b[1;32m      5\u001b[0m         \u001b[0;32mprint\u001b[0m\u001b[0;34m\"x=\"\u001b[0m\u001b[0;34m,\u001b[0m\u001b[0mx\u001b[0m\u001b[0;34m,\u001b[0m\u001b[0;34m\"y=\"\u001b[0m\u001b[0;34m,\u001b[0m\u001b[0my\u001b[0m\u001b[0;34m\u001b[0m\u001b[0m\n\u001b[1;32m      6\u001b[0m \u001b[0;32mprint\u001b[0m \u001b[0mEmp\u001b[0m\u001b[0;34m.\u001b[0m\u001b[0ma\u001b[0m\u001b[0;34m,\u001b[0m\u001b[0mEmp\u001b[0m\u001b[0;34m.\u001b[0m\u001b[0mb\u001b[0m\u001b[0;34m\u001b[0m\u001b[0m\n\u001b[0;32m----> 7\u001b[0;31m \u001b[0mEmp\u001b[0m\u001b[0;34m.\u001b[0m\u001b[0mfun\u001b[0m\u001b[0;34m(\u001b[0m\u001b[0;36m100\u001b[0m\u001b[0;34m,\u001b[0m\u001b[0;36m200\u001b[0m\u001b[0;34m)\u001b[0m\u001b[0;34m\u001b[0m\u001b[0m\n\u001b[0m",
      "\u001b[0;31mTypeError\u001b[0m: unbound method fun() must be called with Emp instance as first argument (got int instance instead)"
     ]
    }
   ],
   "source": [
    "class Emp:\n",
    "    a=100\n",
    "    b=200\n",
    "    def fun(x,y):\n",
    "        print\"x=\",x,\"y=\",y\n",
    "print Emp.a,Emp.b\n",
    "Emp.fun(100,200)"
   ]
  },
  {
   "cell_type": "code",
   "execution_count": 4,
   "metadata": {},
   "outputs": [
    {
     "name": "stdout",
     "output_type": "stream",
     "text": [
      "100 200\n",
      "x= <__main__.Emp instance at 0x7fe5fc424cf8> y= 200\n"
     ]
    }
   ],
   "source": [
    "class Emp:\n",
    "    a=100\n",
    "    b=200\n",
    "    def fun(x,y):\n",
    "        print\"x=\",x,\"y=\",y\n",
    "print Emp.a,Emp.b\n",
    "emp1=Emp()\n",
    "Emp.fun(emp1,200)  #first argument must be instance "
   ]
  },
  {
   "cell_type": "code",
   "execution_count": 1,
   "metadata": {},
   "outputs": [
    {
     "name": "stdout",
     "output_type": "stream",
     "text": [
      "100 200\n",
      "x= <__main__.Emp instance at 0x7fe5fc424dd0> y= 200\n"
     ]
    }
   ],
   "source": [
    "class Emp:\n",
    "    a=100\n",
    "    b=200\n",
    "    def fun(x,y):\n",
    "        print\"x=\",x,\"y=\",y\n",
    "print Emp.a,Emp.b\n",
    "emp2=Emp()\n",
    "Emp.fun(emp2,200)"
   ]
  },
  {
   "cell_type": "code",
   "execution_count": 8,
   "metadata": {},
   "outputs": [],
   "source": [
    "class myClass:\n",
    "    def method1(self):\n",
    "        print \"kcr\"\n",
    "        \n",
    "    def method2(self):\n",
    "        print \"software testing\" \n",
    "        "
   ]
  },
  {
   "cell_type": "code",
   "execution_count": 12,
   "metadata": {},
   "outputs": [
    {
     "name": "stdout",
     "output_type": "stream",
     "text": [
      "kcr\n"
     ]
    }
   ],
   "source": [
    "class myClass:\n",
    "    def method1(self):\n",
    "        print \"kcr\"\n",
    "        \n",
    "    def method2(self):\n",
    "        print \"software testing\" \n",
    "        \n",
    "obj = myClass\n",
    "obj1=obj()\n",
    "obj.method1(obj1)"
   ]
  },
  {
   "cell_type": "code",
   "execution_count": 13,
   "metadata": {},
   "outputs": [
    {
     "name": "stdout",
     "output_type": "stream",
     "text": [
      "kcr\n",
      "hareeshrao\n"
     ]
    }
   ],
   "source": [
    "class myClass:\n",
    "    def method1(self):\n",
    "        print \"kcr\"\n",
    "        \n",
    "    def method2(self):\n",
    "        print \"hareeshrao\" \n",
    "        \n",
    "obj = myClass\n",
    "obj1=obj()\n",
    "obj2=obj()\n",
    "obj.method1(obj1)\n",
    "obj.method2(obj2)"
   ]
  },
  {
   "cell_type": "code",
   "execution_count": 1,
   "metadata": {},
   "outputs": [
    {
     "name": "stdout",
     "output_type": "stream",
     "text": [
      "100 200\n",
      "x= <__main__.Emp instance at 0x7f6388293e60> y= 200\n"
     ]
    }
   ],
   "source": [
    "class Emp:\n",
    "    a=100\n",
    "    b=200\n",
    "    def fun(x,y):\n",
    "        print \"x=\",x,\"y=\",y\n",
    "print Emp.a,Emp.b\n",
    "emp1=Emp()\n",
    "Emp.fun(emp1,200)\n"
   ]
  },
  {
   "cell_type": "code",
   "execution_count": 4,
   "metadata": {},
   "outputs": [
    {
     "name": "stdout",
     "output_type": "stream",
     "text": [
      "100 200\n",
      "x= <__main__.Emp instance at 0x7f6388121320> y= 200\n",
      "100\n",
      "200\n"
     ]
    }
   ],
   "source": [
    "class Emp:\n",
    "    a=100\n",
    "    b=200\n",
    "    def fun(x,y):\n",
    "        print \"x=\",x,\"y=\",y\n",
    "print Emp.a,Emp.b\n",
    "emp1=Emp()\n",
    "Emp.fun(emp1,200)\n",
    "print Emp.a\n",
    "print Emp.b\n"
   ]
  },
  {
   "cell_type": "code",
   "execution_count": 5,
   "metadata": {},
   "outputs": [
    {
     "name": "stdout",
     "output_type": "stream",
     "text": [
      "100 200\n",
      "x= <__main__.Emp instance at 0x7f6388121368> y= 200\n",
      "100\n",
      "200\n"
     ]
    },
    {
     "ename": "TypeError",
     "evalue": "fun() takes exactly 2 arguments (3 given)",
     "output_type": "error",
     "traceback": [
      "\u001b[0;31m---------------------------------------------------------------------------\u001b[0m",
      "\u001b[0;31mTypeError\u001b[0m                                 Traceback (most recent call last)",
      "\u001b[0;32m<ipython-input-5-295a7e1ac1da>\u001b[0m in \u001b[0;36m<module>\u001b[0;34m()\u001b[0m\n\u001b[1;32m      9\u001b[0m \u001b[0;32mprint\u001b[0m \u001b[0mEmp\u001b[0m\u001b[0;34m.\u001b[0m\u001b[0ma\u001b[0m\u001b[0;34m\u001b[0m\u001b[0m\n\u001b[1;32m     10\u001b[0m \u001b[0;32mprint\u001b[0m \u001b[0mEmp\u001b[0m\u001b[0;34m.\u001b[0m\u001b[0mb\u001b[0m\u001b[0;34m\u001b[0m\u001b[0m\n\u001b[0;32m---> 11\u001b[0;31m \u001b[0memp1\u001b[0m\u001b[0;34m.\u001b[0m\u001b[0mfun\u001b[0m\u001b[0;34m(\u001b[0m\u001b[0;36m2000\u001b[0m\u001b[0;34m,\u001b[0m\u001b[0;36m3000\u001b[0m\u001b[0;34m)\u001b[0m\u001b[0;34m\u001b[0m\u001b[0m\n\u001b[0m",
      "\u001b[0;31mTypeError\u001b[0m: fun() takes exactly 2 arguments (3 given)"
     ]
    }
   ],
   "source": [
    "class Emp:\n",
    "    a=100\n",
    "    b=200\n",
    "    def fun(x,y):\n",
    "        print \"x=\",x,\"y=\",y\n",
    "print Emp.a,Emp.b\n",
    "emp1=Emp()\n",
    "Emp.fun(emp1,200)\n",
    "print Emp.a\n",
    "print Emp.b\n",
    "emp1.fun(2000,3000)"
   ]
  },
  {
   "cell_type": "code",
   "execution_count": 8,
   "metadata": {},
   "outputs": [
    {
     "name": "stdout",
     "output_type": "stream",
     "text": [
      "100 200\n",
      "x= <__main__.Emp instance at 0x7f6388121830> y= 200\n",
      "x= <__main__.Emp instance at 0x7f6388121830> y= 200\n",
      "100\n",
      "200\n"
     ]
    }
   ],
   "source": [
    "class Emp:                  #Emp is class object\n",
    "    a=100\n",
    "    b=200\n",
    "    def fun(x,y):\n",
    "        print \"x=\",x,\"y=\",y\n",
    "print Emp.a,Emp.b\n",
    "emp1=Emp()\n",
    "Emp.fun(emp1,200)          \n",
    "emp1.fun(200)          #emp1 is first atrribute itself\n",
    "print Emp.a\n",
    "print Emp.b\n"
   ]
  },
  {
   "cell_type": "code",
   "execution_count": 11,
   "metadata": {},
   "outputs": [
    {
     "name": "stdout",
     "output_type": "stream",
     "text": [
      "this is emp\n"
     ]
    }
   ],
   "source": [
    "def Emp():\n",
    "    print \"this is emp\"\n",
    "    return  10\n",
    "res=Emp()\n",
    "\n",
    "    "
   ]
  },
  {
   "cell_type": "code",
   "execution_count": 12,
   "metadata": {},
   "outputs": [],
   "source": [
    "class Emp:\n",
    "    \n",
    "    a=10\n",
    "    b=10\n",
    "res=Emp()"
   ]
  },
  {
   "cell_type": "code",
   "execution_count": 13,
   "metadata": {},
   "outputs": [
    {
     "name": "stdout",
     "output_type": "stream",
     "text": [
      "this is emp\n"
     ]
    }
   ],
   "source": [
    "def Emp():\n",
    "    print \"this is emp\"\n",
    "    return  10\n",
    "res=Emp()\n",
    "\n",
    "    "
   ]
  },
  {
   "cell_type": "code",
   "execution_count": 14,
   "metadata": {},
   "outputs": [
    {
     "name": "stdout",
     "output_type": "stream",
     "text": [
      "apple\n"
     ]
    }
   ],
   "source": [
    "class product:\n",
    "    name=\"apple\"\n",
    "    cost=20\n",
    "    discount=0\n",
    "mango = product()\n",
    "print mango.name"
   ]
  },
  {
   "cell_type": "code",
   "execution_count": 16,
   "metadata": {},
   "outputs": [
    {
     "name": "stdout",
     "output_type": "stream",
     "text": [
      "apple\n",
      "20\n",
      "0\n",
      "<__main__.product instance at 0x7f6388162368>\n"
     ]
    }
   ],
   "source": [
    "class product:\n",
    "    name=\"apple\"\n",
    "    cost=20\n",
    "    discount=0\n",
    "mango = product()\n",
    "print mango.name\n",
    "print mango.cost\n",
    "print mango.discount\n",
    "print mango                #name and cost disscounrts are product attributes"
   ]
  },
  {
   "cell_type": "code",
   "execution_count": 19,
   "metadata": {},
   "outputs": [
    {
     "ename": "AttributeError",
     "evalue": "product instance has no attribute 'name'",
     "output_type": "error",
     "traceback": [
      "\u001b[0;31m---------------------------------------------------------------------------\u001b[0m",
      "\u001b[0;31mAttributeError\u001b[0m                            Traceback (most recent call last)",
      "\u001b[0;32m<ipython-input-19-c58884017c60>\u001b[0m in \u001b[0;36m<module>\u001b[0;34m()\u001b[0m\n\u001b[1;32m      4\u001b[0m \u001b[0;34m\u001b[0m\u001b[0m\n\u001b[1;32m      5\u001b[0m \u001b[0mmango\u001b[0m \u001b[0;34m=\u001b[0m \u001b[0mproduct\u001b[0m\u001b[0;34m(\u001b[0m\u001b[0;34m)\u001b[0m\u001b[0;34m\u001b[0m\u001b[0m\n\u001b[0;32m----> 6\u001b[0;31m \u001b[0;32mprint\u001b[0m \u001b[0mmango\u001b[0m\u001b[0;34m.\u001b[0m\u001b[0mname\u001b[0m\u001b[0;34m\u001b[0m\u001b[0m\n\u001b[0m",
      "\u001b[0;31mAttributeError\u001b[0m: product instance has no attribute 'name'"
     ]
    }
   ],
   "source": [
    "class product:\n",
    "    warehouse=\"kp fuit market\"\n",
    "    \n",
    "    \n",
    "mango = product()\n",
    "print mango.name"
   ]
  },
  {
   "cell_type": "code",
   "execution_count": 21,
   "metadata": {},
   "outputs": [
    {
     "name": "stdout",
     "output_type": "stream",
     "text": [
      "boginapally mango 20 2 kp fuit market\n"
     ]
    }
   ],
   "source": [
    "class product:\n",
    "    warehouse=\"kp fuit market\"\n",
    "    \n",
    "mango = product()\n",
    "mango.name=\"boginapally mango\"\n",
    "mango.cost=20\n",
    "mango.discount=2\n",
    "\n",
    "print mango.name,    mango.cost,   mango.discount,   mango.warehouse\n"
   ]
  },
  {
   "cell_type": "code",
   "execution_count": 30,
   "metadata": {},
   "outputs": [
    {
     "name": "stdout",
     "output_type": "stream",
     "text": [
      "boginapally mango 20 2 kp fuit market\n"
     ]
    }
   ],
   "source": [
    "class product:\n",
    "    warehouse=\"kp fuit market\"\n",
    "    \n",
    "mango = product()\n",
    "mango.name=\"boginapally mango\"\n",
    "mango.cost=20\n",
    "mango.discount=2\n",
    "\n",
    "print mango.name,mango.cost,mango.discount,mango.warehouse\n"
   ]
  },
  {
   "cell_type": "code",
   "execution_count": 32,
   "metadata": {},
   "outputs": [
    {
     "name": "stdout",
     "output_type": "stream",
     "text": [
      "('boginapally mango', 20, 2, 'kp fuit market')\n"
     ]
    }
   ],
   "source": [
    "class product:\n",
    "    warehouse=\"kp fuit market\"\n",
    "    \n",
    "    def get(x):\n",
    "        return x.name,x.cost,x.discount,x.warehouse\n",
    "    \n",
    "mango = product()\n",
    "mango.name=\"boginapally mango\"\n",
    "mango.cost=20\n",
    "mango.discount=2\n",
    "\n",
    "#print mango.name,mango.cost,mango.discount,mango.warehouse\n",
    "print product.get(mango)\n"
   ]
  },
  {
   "cell_type": "code",
   "execution_count": 39,
   "metadata": {},
   "outputs": [],
   "source": [
    " def get():\n",
    "        name=\"apple\"\n",
    "        cost=20\n",
    "        discount=2\n",
    "        warehouse=\"kp market\"\n",
    "        return\n",
    "get()\n"
   ]
  },
  {
   "cell_type": "code",
   "execution_count": 45,
   "metadata": {},
   "outputs": [
    {
     "name": "stdout",
     "output_type": "stream",
     "text": [
      "apple 20 2 kp market\n"
     ]
    }
   ],
   "source": [
    " def get():\n",
    "        name=\"apple\"\n",
    "        cost=20\n",
    "        discount=2\n",
    "        warehouse=\"kp market\"\n",
    "        \n",
    "        print name,cost,discount,warehouse\n",
    "        \n",
    "get()\n"
   ]
  },
  {
   "cell_type": "code",
   "execution_count": 46,
   "metadata": {},
   "outputs": [],
   "source": [
    " def get():\n",
    "        name=\"apple\"\n",
    "        cost=20\n",
    "        discount=2\n",
    "        warehouse=\"kp market\"\n",
    "        return\n",
    "        print name,cost,discount,warehouse\n",
    "        \n",
    "get()\n"
   ]
  },
  {
   "cell_type": "code",
   "execution_count": 47,
   "metadata": {},
   "outputs": [
    {
     "name": "stdout",
     "output_type": "stream",
     "text": [
      "apple 20 2 kp market\n"
     ]
    }
   ],
   "source": [
    " def get():\n",
    "        name=\"apple\"\n",
    "        cost=20\n",
    "        discount=2\n",
    "        warehouse=\"kp market\"\n",
    "      \n",
    "        print name,cost,discount,warehouse\n",
    "        return       \n",
    "get()\n"
   ]
  },
  {
   "cell_type": "code",
   "execution_count": 48,
   "metadata": {},
   "outputs": [
    {
     "name": "stdout",
     "output_type": "stream",
     "text": [
      "('boginapally mango', 20, 2, 'kp fuit market')\n"
     ]
    }
   ],
   "source": [
    "class product:\n",
    "    warehouse=\"kp fuit market\"\n",
    "    \n",
    "    def get(x):\n",
    "        return x.name,x.cost,x.discount,x.warehouse\n",
    "    \n",
    "mango = product()\n",
    "mango.name=\"boginapally mango\"\n",
    "mango.cost=20\n",
    "mango.discount=2\n",
    "\n",
    "#print mango.name,mango.cost,mango.discount,mango.warehouse\n",
    "print product.get(mango)\n"
   ]
  },
  {
   "cell_type": "code",
   "execution_count": 49,
   "metadata": {},
   "outputs": [
    {
     "name": "stdout",
     "output_type": "stream",
     "text": [
      "('boginapally mango', 20, 2, 'kp fuit market')\n",
      "('orange', 40, 4, 'kp fuit market')\n"
     ]
    }
   ],
   "source": [
    "class product:\n",
    "    warehouse=\"kp fuit market\"\n",
    "    \n",
    "    def get(x):\n",
    "        return x.name,x.cost,x.discount,x.warehouse\n",
    "    \n",
    "mango = product()\n",
    "mango.name=\"boginapally mango\"\n",
    "mango.cost=20\n",
    "mango.discount=2\n",
    "\n",
    "#print mango.name,mango.cost,mango.discount,mango.warehouse\n",
    "print product.get(mango)\n",
    "\n",
    "\n",
    "orange=product()\n",
    "orange.name=\"orange\"\n",
    "orange.cost=40\n",
    "orange.discount=4\n",
    "\n",
    "print product.get(orange)"
   ]
  },
  {
   "cell_type": "code",
   "execution_count": 51,
   "metadata": {},
   "outputs": [
    {
     "name": "stdout",
     "output_type": "stream",
     "text": [
      "('boginapally mango', 20, 2, 'kp fuit market')\n",
      "('orange', 40, 4, 'kp fuit market')\n"
     ]
    }
   ],
   "source": [
    "class product:\n",
    "    warehouse=\"kp fuit market\"\n",
    "    \n",
    "    def get(x):\n",
    "        return x.name,x.cost,x.discount,x.warehouse\n",
    "    \n",
    "mango = product()\n",
    "mango.name=\"boginapally mango\"\n",
    "mango.cost=20\n",
    "mango.discount=2\n",
    "\n",
    "#print mango.name,mango.cost,mango.discount,mango.warehouse\n",
    "print product.get(mango)\n",
    "\n",
    "\n",
    "orange=product()\n",
    "orange.name=\"orange\"\n",
    "orange.cost=40\n",
    "orange.discount=4\n",
    "\n",
    "#print product.get(orange)\n",
    "print orange.get()"
   ]
  },
  {
   "cell_type": "code",
   "execution_count": 58,
   "metadata": {},
   "outputs": [
    {
     "name": "stdout",
     "output_type": "stream",
     "text": [
      "kyaathi\n",
      "maithrivanam\n"
     ]
    }
   ],
   "source": [
    "#class object\n",
    "#data object\n",
    "\n",
    "class Emp:                               # Emp is class obect and company name is class object attribute\n",
    "    companyname=\"kyaathi\"\n",
    "    companyadress=\"maithrivanam\"\n",
    "\n",
    "anil=Emp()              #first we should creat itslef emp()\n",
    "pavan=Emp()             #anil and pavan are data objects and anil.name anil.age....are dataobject attribute                \n",
    "anil.name=\"anil kumar\"\n",
    "anil.age=23\n",
    "anil.salary=80000\n",
    "pavan.name=\"pavan kumar\"\n",
    "pavan.age=24\n",
    "pavan.salary=90000\n",
    "\n",
    "print Emp.companyname\n",
    "print Emp.companyadress"
   ]
  },
  {
   "cell_type": "code",
   "execution_count": 60,
   "metadata": {},
   "outputs": [
    {
     "name": "stdout",
     "output_type": "stream",
     "text": [
      "kyaathi\n",
      "maithrivanam\n",
      "maithrivanam\n",
      "maithrivanam\n",
      "kyaathi\n",
      "kyaathi\n",
      "maithrivanam\n",
      "anil kumar\n",
      "23\n",
      "pavan kumar\n",
      "24\n"
     ]
    }
   ],
   "source": [
    "#class object\n",
    "#data object\n",
    "\n",
    "class Emp:                               # Emp is class obect and company name is class object attribute\n",
    "    companyname=\"kyaathi\"\n",
    "    companyadress=\"maithrivanam\"\n",
    "\n",
    "anil=Emp()              #first we should creat itslef emp()\n",
    "pavan=Emp()             #anil and pavan are data objects and anil.name anil.age....are dataobject attribute                \n",
    "anil.name=\"anil kumar\"\n",
    "anil.age=23\n",
    "anil.salary=80000\n",
    "pavan.name=\"pavan kumar\"\n",
    "pavan.age=24\n",
    "pavan.salary=90000\n",
    "\n",
    "print Emp.companyname\n",
    "print Emp.companyadress\n",
    "print anil.companyadress\n",
    "print pavan.companyadress\n",
    "print anil.companyname\n",
    "print pavan.companyname\n",
    "print anil.companyadress\n",
    "print anil.name\n",
    "print anil.age\n",
    "print pavan.name\n",
    "print pavan.age"
   ]
  },
  {
   "cell_type": "code",
   "execution_count": 61,
   "metadata": {},
   "outputs": [
    {
     "name": "stdout",
     "output_type": "stream",
     "text": [
      "kyaathi\n",
      "maithrivanam\n",
      "maithrivanam\n",
      "maithrivanam\n",
      "kyaathi\n",
      "kyaathi\n",
      "maithrivanam\n",
      "anil kumar\n"
     ]
    },
    {
     "ename": "AttributeError",
     "evalue": "class Emp has no attribute 'name'",
     "output_type": "error",
     "traceback": [
      "\u001b[0;31m---------------------------------------------------------------------------\u001b[0m",
      "\u001b[0;31mAttributeError\u001b[0m                            Traceback (most recent call last)",
      "\u001b[0;32m<ipython-input-61-e8aea2fb3d91>\u001b[0m in \u001b[0;36m<module>\u001b[0;34m()\u001b[0m\n\u001b[1;32m     23\u001b[0m \u001b[0;32mprint\u001b[0m \u001b[0manil\u001b[0m\u001b[0;34m.\u001b[0m\u001b[0mcompanyadress\u001b[0m\u001b[0;34m\u001b[0m\u001b[0m\n\u001b[1;32m     24\u001b[0m \u001b[0;32mprint\u001b[0m \u001b[0manil\u001b[0m\u001b[0;34m.\u001b[0m\u001b[0mname\u001b[0m\u001b[0;34m\u001b[0m\u001b[0m\n\u001b[0;32m---> 25\u001b[0;31m \u001b[0;32mprint\u001b[0m \u001b[0mEmp\u001b[0m\u001b[0;34m.\u001b[0m\u001b[0mname\u001b[0m\u001b[0;34m\u001b[0m\u001b[0m\n\u001b[0m",
      "\u001b[0;31mAttributeError\u001b[0m: class Emp has no attribute 'name'"
     ]
    }
   ],
   "source": [
    "#class object\n",
    "#data object\n",
    "\n",
    "class Emp:                               \n",
    "    companyname=\"kyaathi\"\n",
    "    companyadress=\"maithrivanam\"\n",
    "\n",
    "anil=Emp()             \n",
    "pavan=Emp()                            \n",
    "anil.name=\"anil kumar\"\n",
    "anil.age=23\n",
    "anil.salary=80000\n",
    "pavan.name=\"pavan kumar\"\n",
    "pavan.age=24\n",
    "pavan.salary=90000\n",
    "\n",
    "print Emp.companyname\n",
    "print Emp.companyadress\n",
    "print anil.companyadress\n",
    "print pavan.companyadress\n",
    "print anil.companyname\n",
    "print pavan.companyname\n",
    "print anil.companyadress\n",
    "print anil.name\n",
    "print Emp.name"
   ]
  },
  {
   "cell_type": "code",
   "execution_count": 62,
   "metadata": {},
   "outputs": [
    {
     "name": "stdout",
     "output_type": "stream",
     "text": [
      "anil kumar\n"
     ]
    },
    {
     "ename": "AttributeError",
     "evalue": "Emp instance has no attribute 'name'",
     "output_type": "error",
     "traceback": [
      "\u001b[0;31m---------------------------------------------------------------------------\u001b[0m",
      "\u001b[0;31mAttributeError\u001b[0m                            Traceback (most recent call last)",
      "\u001b[0;32m<ipython-input-62-c838f0f34ab8>\u001b[0m in \u001b[0;36m<module>\u001b[0;34m()\u001b[0m\n\u001b[1;32m      7\u001b[0m \u001b[0manil\u001b[0m\u001b[0;34m.\u001b[0m\u001b[0mname\u001b[0m\u001b[0;34m=\u001b[0m\u001b[0;34m\"anil kumar\"\u001b[0m\u001b[0;34m\u001b[0m\u001b[0m\n\u001b[1;32m      8\u001b[0m \u001b[0;32mprint\u001b[0m \u001b[0manil\u001b[0m\u001b[0;34m.\u001b[0m\u001b[0mname\u001b[0m\u001b[0;34m\u001b[0m\u001b[0m\n\u001b[0;32m----> 9\u001b[0;31m \u001b[0;32mprint\u001b[0m \u001b[0mpavan\u001b[0m\u001b[0;34m.\u001b[0m\u001b[0mname\u001b[0m\u001b[0;34m\u001b[0m\u001b[0m\n\u001b[0m",
      "\u001b[0;31mAttributeError\u001b[0m: Emp instance has no attribute 'name'"
     ]
    }
   ],
   "source": [
    "class Emp:                               \n",
    "    companyname=\"kyaathi\"\n",
    "    companyadress=\"maithrivanam\"\n",
    "\n",
    "anil=Emp()             \n",
    "pavan=Emp()                            \n",
    "anil.name=\"anil kumar\"\n",
    "print anil.name\n",
    "print pavan.name"
   ]
  },
  {
   "cell_type": "code",
   "execution_count": 64,
   "metadata": {},
   "outputs": [
    {
     "name": "stdout",
     "output_type": "stream",
     "text": [
      " anil kumar 23 80000 kyaathi maithrivanam\n",
      "None\n",
      "pavan kumar 24 90000 kyaathi maithrivanam\n",
      "None\n"
     ]
    }
   ],
   "source": [
    "class Emp:                               \n",
    "    companyname=\"kyaathi\"\n",
    "    companyadress=\"maithrivanam\"\n",
    "    def get(x):\n",
    "        print x.name,x.age,x.sal,x.companyname,x.companyadress\n",
    "\n",
    "anil=Emp()             \n",
    "pavan=Emp()                            \n",
    "anil.name=\"anil kumar\"\n",
    "anil.age=23\n",
    "anil.sal=80000\n",
    "pavan.name=\"pavan kumar\"\n",
    "pavan.age=24\n",
    "pavan.sal=90000\n",
    "\n",
    "print Emp.get(anil)\n",
    "print Emp.get(pavan)"
   ]
  },
  {
   "cell_type": "code",
   "execution_count": 66,
   "metadata": {},
   "outputs": [
    {
     "name": "stdout",
     "output_type": "stream",
     "text": [
      "anil kumar 23 80000 kyaathi maithrivanam\n",
      "None\n",
      "pavan kumar 24 90000 kyaathi maithrivanam\n",
      "None\n"
     ]
    }
   ],
   "source": [
    "class Emp:                               \n",
    "    companyname=\"kyaathi\"\n",
    "    companyadress=\"maithrivanam\"\n",
    "    def get(x):\n",
    "        print x.name,x.age,x.sal,x.companyname,x.companyadress\n",
    "anil=Emp()             \n",
    "pavan=Emp()                            \n",
    "anil.name=\"anil kumar\"\n",
    "anil.age=23\n",
    "anil.sal=80000\n",
    "pavan.name=\"pavan kumar\"\n",
    "pavan.age=24\n",
    "pavan.sal=90000\n",
    "#print Emp.get(anil)\n",
    "print anil.get()\n",
    "#print Emp.get(pavan)\n",
    "print pavan.get()"
   ]
  },
  {
   "cell_type": "code",
   "execution_count": 67,
   "metadata": {},
   "outputs": [
    {
     "name": "stdout",
     "output_type": "stream",
     "text": [
      "anil kumar 23 80000 kyaathi maithrivanam\n",
      "None\n",
      "pavan kumar 24 90000 kyaathi maithrivanam\n",
      "None\n"
     ]
    }
   ],
   "source": [
    "class Emp:                               \n",
    "    companyname=\"kyaathi\"\n",
    "    companyadress=\"maithrivanam\"\n",
    "    def get(x):\n",
    "        print x.name,x.age,x.sal,x.companyname,x.companyadress\n",
    "anil=Emp()             \n",
    "pavan=Emp()                            \n",
    "anil.name=\"anil kumar\"\n",
    "anil.age=23\n",
    "anil.sal=80000\n",
    "pavan.name=\"pavan kumar\"\n",
    "pavan.age=24\n",
    "pavan.sal=90000\n",
    "\n",
    "print anil.get()\n",
    "\n",
    "print pavan.get()"
   ]
  },
  {
   "cell_type": "code",
   "execution_count": 68,
   "metadata": {},
   "outputs": [
    {
     "name": "stdout",
     "output_type": "stream",
     "text": [
      "('anil kumar', 23, 80000, 'kyaathi', 'maithrivanam')\n",
      "('pavan kumar', 24, 90000, 'kyaathi', 'maithrivanam')\n"
     ]
    }
   ],
   "source": [
    "class Emp:                               \n",
    "    companyname=\"kyaathi\"\n",
    "    companyadress=\"maithrivanam\"\n",
    "    def set_data(self, e_name, e_age, e_sal):         #self is attribute itself\n",
    "        self.name=e_name\n",
    "        self.age=e_age\n",
    "        self.sal=e_sal\n",
    "        \n",
    "    def get(self):\n",
    "        return self.name, self.age, self.sal, self.companyname, self.companyadress\n",
    "    \n",
    "        \n",
    "anil=Emp()             \n",
    "pavan=Emp()\n",
    "\n",
    "anil.set_data(\"anil kumar\",23,80000)\n",
    "\n",
    "\"\"\"\n",
    "anil.name=\"anil kumar\"\n",
    "anil.age=23\n",
    "anil.sal=80000\n",
    "\"\"\"\n",
    "\n",
    "pavan.set_data(\"pavan kumar\",24,90000)\n",
    "\n",
    "\"\"\"\n",
    "pavan.name=\"pavan kumar\"\n",
    "pavan.age=24\n",
    "pavan.sal=90000\n",
    "\"\"\"\n",
    "\n",
    "print anil.get()\n",
    "\n",
    "print pavan.get()"
   ]
  },
  {
   "cell_type": "code",
   "execution_count": 70,
   "metadata": {},
   "outputs": [
    {
     "name": "stdout",
     "output_type": "stream",
     "text": [
      "('anil kumar', 23, 80000, 'kyaathi', 'maithrivanam')\n",
      "('pavan kumar', 24, 90000, 'kyaathi', 'maithrivanam')\n"
     ]
    }
   ],
   "source": [
    "class Emp:                               \n",
    "    companyname=\"kyaathi\"\n",
    "    companyadress=\"maithrivanam\"\n",
    "    def set_data(self, e_name, e_age, e_sal):         #self is attribute itself\n",
    "        self.name=e_name\n",
    "        self.age=e_age\n",
    "        self.sal=e_sal\n",
    "        \n",
    "    def get(self):\n",
    "        return self.name, self.age, self.sal, self.companyname, self.companyadress\n",
    "    \n",
    "        \n",
    "anil=Emp()             \n",
    "pavan=Emp()\n",
    "\n",
    "anil.set_data(\"anil kumar\",23,80000)\n",
    "pavan.set_data(\"pavan kumar\",24,90000)\n",
    "\n",
    "print anil.get()\n",
    "print pavan.get()"
   ]
  },
  {
   "cell_type": "code",
   "execution_count": 71,
   "metadata": {},
   "outputs": [
    {
     "name": "stdout",
     "output_type": "stream",
     "text": [
      "('anil kumar', 23, 80000, 'kyaathi', 'maithrivanam')\n",
      "('pavan kumar', 24, 90000, 'kyaathi', 'maithrivanam')\n"
     ]
    },
    {
     "ename": "AttributeError",
     "evalue": "Emp instance has no attribute 'name'",
     "output_type": "error",
     "traceback": [
      "\u001b[0;31m---------------------------------------------------------------------------\u001b[0m",
      "\u001b[0;31mAttributeError\u001b[0m                            Traceback (most recent call last)",
      "\u001b[0;32m<ipython-input-71-2c511eb40202>\u001b[0m in \u001b[0;36m<module>\u001b[0;34m()\u001b[0m\n\u001b[1;32m     20\u001b[0m \u001b[0;32mprint\u001b[0m \u001b[0manil\u001b[0m\u001b[0;34m.\u001b[0m\u001b[0mget\u001b[0m\u001b[0;34m(\u001b[0m\u001b[0;34m)\u001b[0m\u001b[0;34m\u001b[0m\u001b[0m\n\u001b[1;32m     21\u001b[0m \u001b[0;32mprint\u001b[0m \u001b[0mpavan\u001b[0m\u001b[0;34m.\u001b[0m\u001b[0mget\u001b[0m\u001b[0;34m(\u001b[0m\u001b[0;34m)\u001b[0m\u001b[0;34m\u001b[0m\u001b[0m\n\u001b[0;32m---> 22\u001b[0;31m \u001b[0;32mprint\u001b[0m \u001b[0mjay\u001b[0m\u001b[0;34m.\u001b[0m\u001b[0mget\u001b[0m\u001b[0;34m(\u001b[0m\u001b[0;34m)\u001b[0m\u001b[0;34m\u001b[0m\u001b[0m\n\u001b[0m",
      "\u001b[0;32m<ipython-input-71-2c511eb40202>\u001b[0m in \u001b[0;36mget\u001b[0;34m(self)\u001b[0m\n\u001b[1;32m      8\u001b[0m \u001b[0;34m\u001b[0m\u001b[0m\n\u001b[1;32m      9\u001b[0m     \u001b[0;32mdef\u001b[0m \u001b[0mget\u001b[0m\u001b[0;34m(\u001b[0m\u001b[0mself\u001b[0m\u001b[0;34m)\u001b[0m\u001b[0;34m:\u001b[0m\u001b[0;34m\u001b[0m\u001b[0m\n\u001b[0;32m---> 10\u001b[0;31m         \u001b[0;32mreturn\u001b[0m \u001b[0mself\u001b[0m\u001b[0;34m.\u001b[0m\u001b[0mname\u001b[0m\u001b[0;34m,\u001b[0m \u001b[0mself\u001b[0m\u001b[0;34m.\u001b[0m\u001b[0mage\u001b[0m\u001b[0;34m,\u001b[0m \u001b[0mself\u001b[0m\u001b[0;34m.\u001b[0m\u001b[0msal\u001b[0m\u001b[0;34m,\u001b[0m \u001b[0mself\u001b[0m\u001b[0;34m.\u001b[0m\u001b[0mcompanyname\u001b[0m\u001b[0;34m,\u001b[0m \u001b[0mself\u001b[0m\u001b[0;34m.\u001b[0m\u001b[0mcompanyadress\u001b[0m\u001b[0;34m\u001b[0m\u001b[0m\n\u001b[0m\u001b[1;32m     11\u001b[0m \u001b[0;34m\u001b[0m\u001b[0m\n\u001b[1;32m     12\u001b[0m \u001b[0;34m\u001b[0m\u001b[0m\n",
      "\u001b[0;31mAttributeError\u001b[0m: Emp instance has no attribute 'name'"
     ]
    }
   ],
   "source": [
    "class Emp:                               \n",
    "    companyname=\"kyaathi\"\n",
    "    companyadress=\"maithrivanam\"\n",
    "    def set_data(self, e_name, e_age, e_sal):         #self is attribute itself\n",
    "        self.name=e_name\n",
    "        self.age=e_age\n",
    "        self.sal=e_sal\n",
    "        \n",
    "    def get(self):\n",
    "        return self.name, self.age, self.sal, self.companyname, self.companyadress\n",
    "    \n",
    "        \n",
    "anil=Emp()             \n",
    "pavan=Emp()\n",
    "jay=Emp()\n",
    "\n",
    "anil.set_data(\"anil kumar\",23,80000)\n",
    "pavan.set_data(\"pavan kumar\",24,90000)\n",
    "\n",
    "print anil.get()\n",
    "print pavan.get()\n",
    "print jay.get()"
   ]
  },
  {
   "cell_type": "code",
   "execution_count": 74,
   "metadata": {},
   "outputs": [
    {
     "name": "stdout",
     "output_type": "stream",
     "text": [
      "this is class\n"
     ]
    }
   ],
   "source": [
    "\n",
    "class Emp:\n",
    "    print \"this is class\"\n",
    "    def get(self):\n",
    "        print \"this is get\"\n",
    "    def __init__(self):\n",
    "        print \"this is init\""
   ]
  },
  {
   "cell_type": "code",
   "execution_count": 76,
   "metadata": {},
   "outputs": [
    {
     "name": "stdout",
     "output_type": "stream",
     "text": [
      "this is class\n",
      "this is init\n"
     ]
    }
   ],
   "source": [
    "\n",
    "class Emp:\n",
    "    print \"this is class\"\n",
    "    def get(self):\n",
    "        print \"this is get\"\n",
    "    def __init__(self):\n",
    "        print \"this is init\"\n",
    "        \n",
    "anil=Emp()  \n",
    "           # when we assigning any vlaue to class it self its is first attribut and next it executs __init__() value"
   ]
  },
  {
   "cell_type": "code",
   "execution_count": 77,
   "metadata": {},
   "outputs": [
    {
     "name": "stdout",
     "output_type": "stream",
     "text": [
      "this is class\n"
     ]
    }
   ],
   "source": [
    "class Emp:\n",
    "    print \"this is class\"\n",
    "    def get(self):\n",
    "        print \"this is get\"\n",
    "    def __init_(self):\n",
    "        print \"this is init\"\n",
    "        \n",
    "anil=Emp()  "
   ]
  },
  {
   "cell_type": "code",
   "execution_count": 78,
   "metadata": {},
   "outputs": [
    {
     "name": "stdout",
     "output_type": "stream",
     "text": [
      "this is class\n"
     ]
    }
   ],
   "source": [
    "class Emp:\n",
    "    print \"this is class\"\n",
    "    def get(self):\n",
    "        print \"this is get\"\n",
    "    def __init1__(self):\n",
    "        print \"this is init\"\n",
    "        \n",
    "anil=Emp()  "
   ]
  },
  {
   "cell_type": "code",
   "execution_count": 80,
   "metadata": {},
   "outputs": [
    {
     "name": "stdout",
     "output_type": "stream",
     "text": [
      "this is class\n",
      "this is init\n",
      "this is init\n",
      "this is get\n",
      "('anil kumar', 23, 4.2, 'kyaathi', 'maithrivanam')\n",
      "this is get\n",
      "('pavan kumar', 24, 4.6, 'kyaathi', 'maithrivanam')\n"
     ]
    }
   ],
   "source": [
    "class Emp:\n",
    "    print \"this is class\"\n",
    "    companyname=\"kyaathi\"\n",
    "    companyadress=\"maithrivanam\"\n",
    "    def get(self):\n",
    "        print \"this is get\"\n",
    "        return self.name, self.age, self.height, self.companyname, self.companyadress\n",
    "    \n",
    "    def __init__(self, e_name, e_age, e_height):\n",
    "        #constructor.  To intilize data while creating an instance,\n",
    "        print \"this is init\"\n",
    "        self.name=e_name\n",
    "        self.age=e_age\n",
    "        self.height=e_height\n",
    "        \n",
    "anil=Emp(\"anil kumar\",23,4.2)\n",
    "pavan=Emp(\"pavan kumar\",24,4.6)\n",
    "\n",
    "print anil.get()\n",
    "print pavan.get()\n",
    "        \n",
    "\n",
    "    "
   ]
  },
  {
   "cell_type": "code",
   "execution_count": 81,
   "metadata": {},
   "outputs": [
    {
     "name": "stdout",
     "output_type": "stream",
     "text": [
      "this is class\n",
      "this is init\n",
      "this is init\n"
     ]
    },
    {
     "ename": "TypeError",
     "evalue": "__init__() takes exactly 4 arguments (1 given)",
     "output_type": "error",
     "traceback": [
      "\u001b[0;31m---------------------------------------------------------------------------\u001b[0m",
      "\u001b[0;31mTypeError\u001b[0m                                 Traceback (most recent call last)",
      "\u001b[0;32m<ipython-input-81-7da1f0ea883d>\u001b[0m in \u001b[0;36m<module>\u001b[0;34m()\u001b[0m\n\u001b[1;32m     16\u001b[0m \u001b[0manil\u001b[0m\u001b[0;34m=\u001b[0m\u001b[0mEmp\u001b[0m\u001b[0;34m(\u001b[0m\u001b[0;34m\"anil kumar\"\u001b[0m\u001b[0;34m,\u001b[0m\u001b[0;36m23\u001b[0m\u001b[0;34m,\u001b[0m\u001b[0;36m4.2\u001b[0m\u001b[0;34m)\u001b[0m\u001b[0;34m\u001b[0m\u001b[0m\n\u001b[1;32m     17\u001b[0m \u001b[0mpavan\u001b[0m\u001b[0;34m=\u001b[0m\u001b[0mEmp\u001b[0m\u001b[0;34m(\u001b[0m\u001b[0;34m\"pavan kumar\"\u001b[0m\u001b[0;34m,\u001b[0m\u001b[0;36m24\u001b[0m\u001b[0;34m,\u001b[0m\u001b[0;36m4.6\u001b[0m\u001b[0;34m)\u001b[0m\u001b[0;34m\u001b[0m\u001b[0m\n\u001b[0;32m---> 18\u001b[0;31m \u001b[0mjay\u001b[0m\u001b[0;34m=\u001b[0m\u001b[0mEmp\u001b[0m\u001b[0;34m(\u001b[0m\u001b[0;34m)\u001b[0m\u001b[0;34m\u001b[0m\u001b[0m\n\u001b[0m\u001b[1;32m     19\u001b[0m \u001b[0;34m\u001b[0m\u001b[0m\n\u001b[1;32m     20\u001b[0m \u001b[0;32mprint\u001b[0m \u001b[0manil\u001b[0m\u001b[0;34m.\u001b[0m\u001b[0mget\u001b[0m\u001b[0;34m(\u001b[0m\u001b[0;34m)\u001b[0m\u001b[0;34m\u001b[0m\u001b[0m\n",
      "\u001b[0;31mTypeError\u001b[0m: __init__() takes exactly 4 arguments (1 given)"
     ]
    }
   ],
   "source": [
    "class Emp:\n",
    "    print \"this is class\"\n",
    "    companyname=\"kyaathi\"\n",
    "    companyadress=\"maithrivanam\"\n",
    "    def get(self):\n",
    "        print \"this is get\"\n",
    "        return self.name, self.age, self.height, self.companyname, self.companyadress\n",
    "    \n",
    "    def __init__(self, e_name, e_age, e_height):\n",
    "        #constructor.  To intilize data while creating an instance,\n",
    "        print \"this is init\"\n",
    "        self.name=e_name\n",
    "        self.age=e_age\n",
    "        self.height=e_height\n",
    "        \n",
    "anil=Emp(\"anil kumar\",23,4.2)\n",
    "pavan=Emp(\"pavan kumar\",24,4.6)\n",
    "jay=Emp()\n",
    "\n",
    "print anil.get()\n",
    "print pavan.get()\n",
    "        \n",
    "\n",
    "    "
   ]
  },
  {
   "cell_type": "code",
   "execution_count": 82,
   "metadata": {},
   "outputs": [
    {
     "name": "stdout",
     "output_type": "stream",
     "text": [
      "this is class\n",
      "this is init\n",
      "this is init\n",
      "this is get\n",
      "('anil kumar', 23, 4.2, 'kyaathi', 'maithrivanam')\n",
      "this is get\n",
      "('pavan kumar', 24, 4.6, 'kyaathi', 'maithrivanam')\n"
     ]
    }
   ],
   "source": [
    "class Emp:\n",
    "    print \"this is class\"\n",
    "    companyname=\"kyaathi\"\n",
    "    companyadress=\"maithrivanam\"\n",
    "    def get(self):\n",
    "        print \"this is get\"\n",
    "        return self.name, self.age, self.height, self.companyname, self.companyadress\n",
    "    \n",
    "    def __init__(self, e_name, e_age, e_height):\n",
    "        #constructor.  To intilize data while creating an instance,\n",
    "        print \"this is init\"\n",
    "        self.name=e_name\n",
    "        self.age=e_age\n",
    "        self.height=e_height\n",
    "        \n",
    "anil=Emp(\"anil kumar\",23,4.2)\n",
    "pavan=Emp(\"pavan kumar\",24,4.6)\n",
    "\n",
    "print anil.get()\n",
    "print pavan.get()\n",
    "        \n",
    "\n",
    "    "
   ]
  },
  {
   "cell_type": "code",
   "execution_count": null,
   "metadata": {},
   "outputs": [],
   "source": []
  }
 ],
 "metadata": {
  "kernelspec": {
   "display_name": "Python 2",
   "language": "python",
   "name": "python2"
  },
  "language_info": {
   "codemirror_mode": {
    "name": "ipython",
    "version": 2
   },
   "file_extension": ".py",
   "mimetype": "text/x-python",
   "name": "python",
   "nbconvert_exporter": "python",
   "pygments_lexer": "ipython2",
   "version": "2.7.15rc1"
  }
 },
 "nbformat": 4,
 "nbformat_minor": 2
}
