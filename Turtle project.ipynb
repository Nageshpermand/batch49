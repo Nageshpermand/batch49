{
 "cells": [
  {
   "cell_type": "code",
   "execution_count": null,
   "metadata": {},
   "outputs": [],
   "source": [
    "from turtle import *\n",
    "from random import randint \n",
    "\n",
    "speed(0)\n",
    "penup()\n",
    "goto(-140, 140)\n",
    "\n",
    "for step in range(15)\n",
    "    write(step, align='centre')\n",
    "    right(90)\n",
    "    for num in range(8):\n",
    "        penup()\n",
    "        forward(10)\n",
    "        pendown()\n",
    "        forward(10)\n",
    "    penup()\n",
    "    backward(160)\n",
    "    left(90)\n",
    "    forward(20)\n"
   ]
  }
 ],
 "metadata": {
  "kernelspec": {
   "display_name": "Python 2",
   "language": "python",
   "name": "python2"
  },
  "language_info": {
   "codemirror_mode": {
    "name": "ipython",
    "version": 2
   },
   "file_extension": ".py",
   "mimetype": "text/x-python",
   "name": "python",
   "nbconvert_exporter": "python",
   "pygments_lexer": "ipython2",
   "version": "2.7.15rc1"
  }
 },
 "nbformat": 4,
 "nbformat_minor": 2
}
