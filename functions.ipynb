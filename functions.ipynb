{
 "cells": [
  {
   "cell_type": "code",
   "execution_count": 14,
   "metadata": {},
   "outputs": [
    {
     "name": "stdout",
     "output_type": "stream",
     "text": [
      "program is started\n",
      "othrer statement in prograamme\n",
      "progrsmme ended\n"
     ]
    }
   ],
   "source": [
    "#fun is function name and if there is no recall fun than it not print the fun loop\n",
    "print\"program is started\"\n",
    "def fun():\n",
    "    print \"this is function\"\n",
    "print \"othrer statement in prograamme\"\n",
    "print \"progrsmme ended\""
   ]
  },
  {
   "cell_type": "code",
   "execution_count": 15,
   "metadata": {},
   "outputs": [
    {
     "name": "stdout",
     "output_type": "stream",
     "text": [
      "program is started\n",
      "this is function\n",
      "othrer statement in prograamme\n",
      "progrsmme ended\n"
     ]
    }
   ],
   "source": [
    "#there is racall function so it prints function loop \n",
    "print\"program is started\"\n",
    "def fun():\n",
    "    print \"this is function\"\n",
    "fun()\n",
    "print \"othrer statement in prograamme\"\n",
    "print \"progrsmme ended\""
   ]
  },
  {
   "cell_type": "code",
   "execution_count": 16,
   "metadata": {},
   "outputs": [
    {
     "name": "stdout",
     "output_type": "stream",
     "text": [
      "program is started\n",
      "this is function\n",
      "this is fun\n",
      "progrme ended\n",
      "othrer statement in prograamme\n",
      "this is function\n",
      "this is fun\n",
      "progrme ended\n",
      "progrsmme ended\n",
      "this is function\n",
      "this is fun\n",
      "progrme ended\n"
     ]
    }
   ],
   "source": [
    "#recal func() so it prints total funtion loop when it recalls \n",
    "print\"program is started\"\n",
    "def fun():\n",
    "    print \"this is function\"\n",
    "    print \"this is fun\"\n",
    "    print\"progrme ended\"\n",
    "fun()\n",
    "print \"othrer statement in prograamme\"\n",
    "fun()                                                                                                           \n",
    "print \"progrsmme ended\"\n",
    "fun()"
   ]
  },
  {
   "cell_type": "code",
   "execution_count": 19,
   "metadata": {},
   "outputs": [
    {
     "name": "stdout",
     "output_type": "stream",
     "text": [
      "enter a value:2\n",
      "a is even number\n"
     ]
    }
   ],
   "source": [
    "#WAP for given number is  even or odd in funtion \n",
    "def fun ():\n",
    "    a = float(raw_input(\"enter a value:\"))\n",
    "    if a%2==0:\n",
    "        print \"a is even number\"\n",
    "    else:\n",
    "        print\"a is not even number\"\n",
    "fun()"
   ]
  },
  {
   "cell_type": "code",
   "execution_count": 20,
   "metadata": {},
   "outputs": [
    {
     "name": "stdout",
     "output_type": "stream",
     "text": [
      "enter a value:2\n",
      "a is even number\n",
      "1\n",
      "2\n",
      "3\n",
      "4\n",
      "5\n",
      "enter a value:3\n",
      "a is not even number\n"
     ]
    }
   ],
   "source": [
    "#WAP for givev number is even or odd in 1 to 6  using for condition\n",
    "def fun ():\n",
    "    a = float(raw_input(\"enter a value:\"))\n",
    "    if a%2==0:\n",
    "        print \"a is even number\"\n",
    "    else:\n",
    "        print\"a is not even number\"\n",
    "fun()\n",
    "for i in range(1,6):\n",
    "    print i\n",
    "fun()\n",
    "    "
   ]
  },
  {
   "cell_type": "code",
   "execution_count": 7,
   "metadata": {},
   "outputs": [
    {
     "name": "stdout",
     "output_type": "stream",
     "text": [
      "progrramme is  started\n",
      "10 20\n",
      "result= 30\n",
      "1000 2000\n",
      "result= 3000\n",
      "200 400\n",
      "result= 600\n",
      "program is end\n",
      "thank you\n"
     ]
    }
   ],
   "source": [
    "print \"progrramme is  started\"\n",
    "def fun(a,b):\n",
    "    print a,b\n",
    "    c=a+b\n",
    "    print \"result=\",c\n",
    "fun(10,20)\n",
    "fun(1000,2000)\n",
    "fun(200,400)\n",
    "print \"program is end\"\n",
    "print\"thank you\"\n"
   ]
  },
  {
   "cell_type": "code",
   "execution_count": 2,
   "metadata": {},
   "outputs": [
    {
     "name": "stdout",
     "output_type": "stream",
     "text": [
      "iteration:  1\n",
      "enter a value: 2\n",
      "enter b value: 4\n",
      "2.0+4.0=6.0\n",
      "iteration:  2\n",
      "enter a value: 4\n",
      "enter b value: 6\n",
      "4.0+6.0=10.0\n",
      "iteration:  3\n",
      "enter a value: 10\n",
      "enter b value: 12\n",
      "10.0+12.0=22.0\n"
     ]
    }
   ],
   "source": [
    "def fun():\n",
    "    a = float(raw_input(\"enter a value: \"))\n",
    "    b = float(raw_input(\"enter b value: \"))\n",
    "    print \"%s+%s=%s\"%(a,b,a+b)\n",
    "for i in range(1,4):\n",
    "    print \"iteration: \", i\n",
    "    fun()"
   ]
  },
  {
   "cell_type": "code",
   "execution_count": 3,
   "metadata": {},
   "outputs": [
    {
     "name": "stdout",
     "output_type": "stream",
     "text": [
      "iteration:  1\n",
      "enter a value: 2\n",
      "enter b value: 4\n",
      "2.0+4.0=\n",
      "\t6.0\n",
      "iteration:  2\n",
      "enter a value: 6\n",
      "enter b value: 4\n",
      "6.0+4.0=\n",
      "\t10.0\n",
      "iteration:  3\n",
      "enter a value: 6\n",
      "enter b value: 8\n",
      "6.0+8.0=\n",
      "\t14.0\n"
     ]
    }
   ],
   "source": [
    "def fun():\n",
    "    a = float(raw_input(\"enter a value: \"))\n",
    "    b = float(raw_input(\"enter b value: \"))\n",
    "    print \"%s+%s=\\n\\t%s\"%(a,b,a+b)\n",
    "for i in range(1,4):\n",
    "    print \"iteration: \", i\n",
    "    fun()"
   ]
  },
  {
   "cell_type": "code",
   "execution_count": 5,
   "metadata": {},
   "outputs": [
    {
     "name": "stdout",
     "output_type": "stream",
     "text": [
      "10+20=\n",
      "\t30\n"
     ]
    }
   ],
   "source": [
    "#this is also one of the summation operation\n",
    "a = 10\n",
    "b = 20\n",
    "print \"%s+%s=\\n\\t%s\"%(a,b,a+b)"
   ]
  },
  {
   "cell_type": "code",
   "execution_count": 6,
   "metadata": {},
   "outputs": [
    {
     "name": "stdout",
     "output_type": "stream",
     "text": [
      "iteration:  1\n",
      "enter a value: 2\n",
      "enter b value: 4\n",
      "6.0\n",
      "iteration:  2\n",
      "enter a value: 4\n",
      "enter b value: 2\n",
      "6.0\n",
      "iteration:  3\n",
      "enter a value: 4\n",
      "enter b value: 6\n",
      "10.0\n"
     ]
    }
   ],
   "source": [
    "def fun():\n",
    "    a = float(raw_input(\"enter a value: \"))\n",
    "    b = float(raw_input(\"enter b value: \"))\n",
    "    print a+b\n",
    "for i in range(1,4):\n",
    "    print \"iteration: \", i\n",
    "    fun()"
   ]
  },
  {
   "cell_type": "code",
   "execution_count": 8,
   "metadata": {},
   "outputs": [
    {
     "name": "stdout",
     "output_type": "stream",
     "text": [
      "enter a value: 2\n",
      "enter b value: 4\n",
      "6.0\n"
     ]
    }
   ],
   "source": [
    "# summation  for direct a &b valus\n",
    "def fun():\n",
    "    a = float(raw_input(\"enter a value: \"))\n",
    "    b = float(raw_input(\"enter b value: \"))\n",
    "    print a+b\n",
    "fun()\n"
   ]
  },
  {
   "cell_type": "code",
   "execution_count": 10,
   "metadata": {},
   "outputs": [
    {
     "name": "stdout",
     "output_type": "stream",
     "text": [
      "1\n",
      "enter a value: 1\n",
      "enter b value: 2\n",
      "3.0\n",
      "2\n",
      "enter a value: 2\n",
      "enter b value: 4\n",
      "6.0\n",
      "3\n",
      "enter a value: 2\n",
      "enter b value: 4\n",
      "6.0\n"
     ]
    }
   ],
   "source": [
    "#summation for a&b values, if a&b values are in 1 to 4\n",
    "def fun():\n",
    "    a = float(raw_input(\"enter a value: \"))\n",
    "    b = float(raw_input(\"enter b value: \"))\n",
    "    print a+b\n",
    "for i in range(1,4):\n",
    "    print i\n",
    "    fun()\n",
    "    "
   ]
  },
  {
   "cell_type": "code",
   "execution_count": 11,
   "metadata": {},
   "outputs": [
    {
     "name": "stdout",
     "output_type": "stream",
     "text": [
      "1\n",
      "2\n",
      "3\n",
      "enter a value: 1\n",
      "enter b value: 2\n",
      "3.0\n"
     ]
    }
   ],
   "source": [
    "def fun():\n",
    "    a = float(raw_input(\"enter a value: \"))\n",
    "    b = float(raw_input(\"enter b value: \"))\n",
    "    print a+b\n",
    "for i in range(1,4):\n",
    "    print i\n",
    "fun()\n",
    "    "
   ]
  },
  {
   "cell_type": "code",
   "execution_count": 12,
   "metadata": {},
   "outputs": [
    {
     "name": "stdout",
     "output_type": "stream",
     "text": [
      "1\n",
      "2\n",
      "3\n"
     ]
    }
   ],
   "source": [
    "for i in range(1,4):\n",
    "    print i"
   ]
  },
  {
   "cell_type": "code",
   "execution_count": 13,
   "metadata": {},
   "outputs": [
    {
     "name": "stdout",
     "output_type": "stream",
     "text": [
      "1\n",
      "2\n",
      "3\n",
      "4\n",
      "5\n",
      "6\n",
      "7\n",
      "8\n",
      "9\n"
     ]
    }
   ],
   "source": [
    "for i in range(1,10):\n",
    "    print i"
   ]
  },
  {
   "cell_type": "code",
   "execution_count": 24,
   "metadata": {},
   "outputs": [
    {
     "name": "stdout",
     "output_type": "stream",
     "text": [
      "enter a value1:1\n",
      "it is not even number\n",
      "enter a value2:2\n",
      "it is even number\n",
      "enter a value3:3\n",
      "it is not even number\n",
      "enter a value4:4\n",
      "it is even number\n",
      "enter a value5:5\n",
      "it is not even number\n"
     ]
    }
   ],
   "source": [
    "# WAP to  check the number is even or not in any range of numbers in function:\n",
    "def check_even(number):\n",
    "    if number%2==0:\n",
    "        print\"it is even number\"\n",
    "    else:\n",
    "        print\"it is not even number\"\n",
    "for i in range(1,6):\n",
    "    n = int(raw_input(\"enter a value%s:\"%i))\n",
    "    check_even(n)\n"
   ]
  },
  {
   "cell_type": "code",
   "execution_count": 5,
   "metadata": {},
   "outputs": [
    {
     "name": "stdout",
     "output_type": "stream",
     "text": [
      "enter a value1:1\n",
      "it is not even number\n",
      "enter a value2:2\n",
      "it is even number\n",
      "enter a value3:3\n",
      "it is not even number\n",
      "enter a value4:2\n",
      "it is even number\n",
      "enter a value5:1\n",
      "it is not even number\n"
     ]
    }
   ],
   "source": [
    "# WAP to  check the number is even or not in any range of numbers in function: there is what ever in the () not consider function values like name or numbbers what ever our wish\n",
    "\n",
    "def check_even(ll):\n",
    "    if ll%2==0:\n",
    "        print\"it is even number\"\n",
    "    else:\n",
    "        print\"it is not even number\"\n",
    "for i in range(1,6):\n",
    "    n = int(raw_input(\"enter a value%s:\"%i))\n",
    "    check_even(n)\n"
   ]
  },
  {
   "cell_type": "code",
   "execution_count": 7,
   "metadata": {},
   "outputs": [
    {
     "ename": "SyntaxError",
     "evalue": "invalid syntax (<ipython-input-7-02332955c0ed>, line 2)",
     "output_type": "error",
     "traceback": [
      "\u001b[0;36m  File \u001b[0;32m\"<ipython-input-7-02332955c0ed>\"\u001b[0;36m, line \u001b[0;32m2\u001b[0m\n\u001b[0;31m    if %2==0:\u001b[0m\n\u001b[0m       ^\u001b[0m\n\u001b[0;31mSyntaxError\u001b[0m\u001b[0;31m:\u001b[0m invalid syntax\n"
     ]
    }
   ],
   "source": [
    "def check_even():\n",
    "    if %2==0:\n",
    "        print\"it is even number\"\n",
    "    else:\n",
    "        print\"it is not even number\"\n",
    "for i in range(1,6):\n",
    "    n = int(raw_input(\"enter a value%s:\"%i))\n",
    "    check_even(n)\n"
   ]
  },
  {
   "cell_type": "code",
   "execution_count": 9,
   "metadata": {},
   "outputs": [
    {
     "name": "stdout",
     "output_type": "stream",
     "text": [
      "enter a value1:2\n"
     ]
    },
    {
     "ename": "TypeError",
     "evalue": "check_even() takes no arguments (1 given)",
     "output_type": "error",
     "traceback": [
      "\u001b[0;31m---------------------------------------------------------------------------\u001b[0m",
      "\u001b[0;31mTypeError\u001b[0m                                 Traceback (most recent call last)",
      "\u001b[0;32m<ipython-input-9-5cd48d13e612>\u001b[0m in \u001b[0;36m<module>\u001b[0;34m()\u001b[0m\n\u001b[1;32m      6\u001b[0m \u001b[0;32mfor\u001b[0m \u001b[0mi\u001b[0m \u001b[0;32min\u001b[0m \u001b[0mrange\u001b[0m\u001b[0;34m(\u001b[0m\u001b[0;36m1\u001b[0m\u001b[0;34m,\u001b[0m\u001b[0;36m6\u001b[0m\u001b[0;34m)\u001b[0m\u001b[0;34m:\u001b[0m\u001b[0;34m\u001b[0m\u001b[0m\n\u001b[1;32m      7\u001b[0m     \u001b[0mn\u001b[0m \u001b[0;34m=\u001b[0m \u001b[0mint\u001b[0m\u001b[0;34m(\u001b[0m\u001b[0mraw_input\u001b[0m\u001b[0;34m(\u001b[0m\u001b[0;34m\"enter a value%s:\"\u001b[0m\u001b[0;34m%\u001b[0m\u001b[0mi\u001b[0m\u001b[0;34m)\u001b[0m\u001b[0;34m)\u001b[0m\u001b[0;34m\u001b[0m\u001b[0m\n\u001b[0;32m----> 8\u001b[0;31m     \u001b[0mcheck_even\u001b[0m\u001b[0;34m(\u001b[0m\u001b[0mn\u001b[0m\u001b[0;34m)\u001b[0m\u001b[0;34m\u001b[0m\u001b[0m\n\u001b[0m",
      "\u001b[0;31mTypeError\u001b[0m: check_even() takes no arguments (1 given)"
     ]
    }
   ],
   "source": [
    "def check_even():\n",
    "    if ()%2==0:\n",
    "        print\"it is even number\"\n",
    "    else:\n",
    "        print\"it is not even number\"\n",
    "for i in range(1,6):\n",
    "    n = int(raw_input(\"enter a value%s:\"%i))\n",
    "    check_even(n)\n"
   ]
  },
  {
   "cell_type": "code",
   "execution_count": 12,
   "metadata": {},
   "outputs": [
    {
     "name": "stdout",
     "output_type": "stream",
     "text": [
      "enter a value1:2\n",
      "it is even number\n",
      "enter a value2:6\n",
      "it is even number\n",
      "enter a value3:8\n",
      "it is even number\n",
      "enter a value4:4\n",
      "it is even number\n",
      "enter a value5:2\n",
      "it is even number\n"
     ]
    }
   ],
   "source": [
    "def check_even(n):\n",
    "    if (n)%2==0:\n",
    "        print\"it is even number\"\n",
    "    else:\n",
    "        print\"it is not even number\"\n",
    "for i in range(1,6):\n",
    "    n = int(raw_input(\"enter a value%s:\"%i))\n",
    "    check_even(n)\n"
   ]
  },
  {
   "cell_type": "code",
   "execution_count": 14,
   "metadata": {},
   "outputs": [
    {
     "name": "stdout",
     "output_type": "stream",
     "text": [
      "enter a value1:2\n"
     ]
    },
    {
     "ename": "NameError",
     "evalue": "name 'b' is not defined",
     "output_type": "error",
     "traceback": [
      "\u001b[0;31m---------------------------------------------------------------------------\u001b[0m",
      "\u001b[0;31mNameError\u001b[0m                                 Traceback (most recent call last)",
      "\u001b[0;32m<ipython-input-14-1a9f05d9951a>\u001b[0m in \u001b[0;36m<module>\u001b[0;34m()\u001b[0m\n\u001b[1;32m      6\u001b[0m \u001b[0;32mfor\u001b[0m \u001b[0mi\u001b[0m \u001b[0;32min\u001b[0m \u001b[0mrange\u001b[0m\u001b[0;34m(\u001b[0m\u001b[0;36m1\u001b[0m\u001b[0;34m,\u001b[0m\u001b[0;36m6\u001b[0m\u001b[0;34m)\u001b[0m\u001b[0;34m:\u001b[0m\u001b[0;34m\u001b[0m\u001b[0m\n\u001b[1;32m      7\u001b[0m     \u001b[0mn\u001b[0m \u001b[0;34m=\u001b[0m \u001b[0mint\u001b[0m\u001b[0;34m(\u001b[0m\u001b[0mraw_input\u001b[0m\u001b[0;34m(\u001b[0m\u001b[0;34m\"enter a value%s:\"\u001b[0m\u001b[0;34m%\u001b[0m\u001b[0mi\u001b[0m\u001b[0;34m)\u001b[0m\u001b[0;34m)\u001b[0m\u001b[0;34m\u001b[0m\u001b[0m\n\u001b[0;32m----> 8\u001b[0;31m     \u001b[0mcheck_even\u001b[0m\u001b[0;34m(\u001b[0m\u001b[0mb\u001b[0m\u001b[0;34m)\u001b[0m\u001b[0;34m\u001b[0m\u001b[0m\n\u001b[0m",
      "\u001b[0;31mNameError\u001b[0m: name 'b' is not defined"
     ]
    }
   ],
   "source": [
    "def check_even(b):\n",
    "    if (b)%2==0:\n",
    "        print\"it is even number\"\n",
    "    else:\n",
    "        print\"it is not even number\"\n",
    "for i in range(1,6):\n",
    "    n = int(raw_input(\"enter a value%s:\"%i))\n",
    "    check_even(b)\n"
   ]
  },
  {
   "cell_type": "code",
   "execution_count": 15,
   "metadata": {},
   "outputs": [
    {
     "name": "stdout",
     "output_type": "stream",
     "text": [
      "enter a value1:2\n"
     ]
    },
    {
     "ename": "NameError",
     "evalue": "name 'll' is not defined",
     "output_type": "error",
     "traceback": [
      "\u001b[0;31m---------------------------------------------------------------------------\u001b[0m",
      "\u001b[0;31mNameError\u001b[0m                                 Traceback (most recent call last)",
      "\u001b[0;32m<ipython-input-15-0b25f8b31ba1>\u001b[0m in \u001b[0;36m<module>\u001b[0;34m()\u001b[0m\n\u001b[1;32m      6\u001b[0m \u001b[0;32mfor\u001b[0m \u001b[0mi\u001b[0m \u001b[0;32min\u001b[0m \u001b[0mrange\u001b[0m\u001b[0;34m(\u001b[0m\u001b[0;36m1\u001b[0m\u001b[0;34m,\u001b[0m\u001b[0;36m6\u001b[0m\u001b[0;34m)\u001b[0m\u001b[0;34m:\u001b[0m\u001b[0;34m\u001b[0m\u001b[0m\n\u001b[1;32m      7\u001b[0m     \u001b[0mn\u001b[0m \u001b[0;34m=\u001b[0m \u001b[0mint\u001b[0m\u001b[0;34m(\u001b[0m\u001b[0mraw_input\u001b[0m\u001b[0;34m(\u001b[0m\u001b[0;34m\"enter a value%s:\"\u001b[0m\u001b[0;34m%\u001b[0m\u001b[0mi\u001b[0m\u001b[0;34m)\u001b[0m\u001b[0;34m)\u001b[0m\u001b[0;34m\u001b[0m\u001b[0m\n\u001b[0;32m----> 8\u001b[0;31m     \u001b[0mcheck_even\u001b[0m\u001b[0;34m(\u001b[0m\u001b[0mll\u001b[0m\u001b[0;34m)\u001b[0m\u001b[0;34m\u001b[0m\u001b[0m\n\u001b[0m",
      "\u001b[0;31mNameError\u001b[0m: name 'll' is not defined"
     ]
    }
   ],
   "source": [
    "def check_even(ll):\n",
    "    if (ll)%2==0:\n",
    "        print\"it is even number\"\n",
    "    else:\n",
    "        print\"it is not even number\"\n",
    "for i in range(1,6):\n",
    "    n = int(raw_input(\"enter a value%s:\"%i))\n",
    "    check_even(ll)\n"
   ]
  },
  {
   "cell_type": "code",
   "execution_count": 18,
   "metadata": {},
   "outputs": [
    {
     "name": "stdout",
     "output_type": "stream",
     "text": [
      "enter a value1:2\n",
      "it is even number\n",
      "enter a value2:8\n",
      "it is even number\n",
      "enter a value3:4\n",
      "it is even number\n",
      "enter a value4:9\n",
      "it is not even number\n",
      "enter a value5:2\n",
      "it is even number\n"
     ]
    }
   ],
   "source": [
    "def check_even(number):\n",
    "    if (number)%2==0:\n",
    "        print\"it is even number\"\n",
    "    else:\n",
    "        print\"it is not even number\"\n",
    "for i in range(1,6):\n",
    "    n = int(raw_input(\"enter a value%s:\"%i))\n",
    "    check_even(n)\n"
   ]
  },
  {
   "cell_type": "code",
   "execution_count": 22,
   "metadata": {},
   "outputs": [
    {
     "data": {
      "text/plain": [
       "[0, 1, 2, 3, 4, 5, 6, 7, 8, 9]"
      ]
     },
     "execution_count": 22,
     "metadata": {},
     "output_type": "execute_result"
    }
   ],
   "source": [
    "range(10)\n",
    "#takes 1 to 10 values in lis output"
   ]
  },
  {
   "cell_type": "code",
   "execution_count": 23,
   "metadata": {},
   "outputs": [
    {
     "data": {
      "text/plain": [
       "[1, 2, 3, 4, 5, 6, 7]"
      ]
     },
     "execution_count": 23,
     "metadata": {},
     "output_type": "execute_result"
    }
   ],
   "source": [
    "range(1,8)\n",
    "#takes 1 to 8 values "
   ]
  },
  {
   "cell_type": "code",
   "execution_count": 24,
   "metadata": {},
   "outputs": [
    {
     "data": {
      "text/plain": [
       "[1, 5, 9]"
      ]
     },
     "execution_count": 24,
     "metadata": {},
     "output_type": "execute_result"
    }
   ],
   "source": [
    "range(1,10,4)\n",
    "#takes 1 t 10 values and add ech number with 4\n",
    "#it dont takes 4 value also its for add to the range values"
   ]
  },
  {
   "cell_type": "code",
   "execution_count": 25,
   "metadata": {},
   "outputs": [
    {
     "name": "stdout",
     "output_type": "stream",
     "text": [
      "1\n",
      "2\n",
      "3\n",
      "4\n",
      "5\n",
      "6\n",
      "7\n"
     ]
    }
   ],
   "source": [
    "for i in range(1,8):\n",
    "    print i\n",
    "# it prints each value single operation "
   ]
  },
  {
   "cell_type": "code",
   "execution_count": 26,
   "metadata": {},
   "outputs": [
    {
     "name": "stdout",
     "output_type": "stream",
     "text": [
      "1\n",
      "2\n",
      "3\n"
     ]
    }
   ],
   "source": [
    "for i in range (1,4):\n",
    "    print i"
   ]
  },
  {
   "cell_type": "code",
   "execution_count": 27,
   "metadata": {},
   "outputs": [
    {
     "name": "stdout",
     "output_type": "stream",
     "text": [
      "1\n"
     ]
    }
   ],
   "source": [
    "for i in range (1,4):\n",
    "    print i\n",
    "    break\n",
    "#only it prints 1 value and breaks it"
   ]
  },
  {
   "cell_type": "code",
   "execution_count": 28,
   "metadata": {},
   "outputs": [
    {
     "name": "stdout",
     "output_type": "stream",
     "text": [
      "1\n",
      "2\n",
      "3\n"
     ]
    }
   ],
   "source": [
    "for i in range (1,4):\n",
    "    print i\n",
    "    continue\n",
    "# continues in range 1 to 4"
   ]
  },
  {
   "cell_type": "code",
   "execution_count": 32,
   "metadata": {},
   "outputs": [
    {
     "ename": "SyntaxError",
     "evalue": "invalid syntax (<ipython-input-32-58a96c926353>, line 4)",
     "output_type": "error",
     "traceback": [
      "\u001b[0;36m  File \u001b[0;32m\"<ipython-input-32-58a96c926353>\"\u001b[0;36m, line \u001b[0;32m4\u001b[0m\n\u001b[0;31m    print i ,  break #break used for not execut program if i remove break than it out put shows infinity\u001b[0m\n\u001b[0m                   ^\u001b[0m\n\u001b[0;31mSyntaxError\u001b[0m\u001b[0;31m:\u001b[0m invalid syntax\n"
     ]
    }
   ],
   "source": [
    "# if using continue in while loop the i value is infinites values \n",
    "i = 0\n",
    "while (1<10):\n",
    "    print i ,  break #break used for not execut program if i remove break than it out put shows infinity\n",
    "    continue  #it cntinues loop operation so output is 0's infinity\n",
    "    i = i+1\n",
    "#if we execute it shows infinities values"
   ]
  },
  {
   "cell_type": "code",
   "execution_count": 33,
   "metadata": {},
   "outputs": [
    {
     "name": "stdout",
     "output_type": "stream",
     "text": [
      "10 20\n",
      "results= 30\n"
     ]
    }
   ],
   "source": [
    "def fun(a,b):\n",
    "    print a,b\n",
    "    c = a+b\n",
    "    print\"results=\",c\n",
    "fun(10,20)"
   ]
  },
  {
   "cell_type": "code",
   "execution_count": 37,
   "metadata": {},
   "outputs": [
    {
     "ename": "TypeError",
     "evalue": "fun() takes exactly 2 arguments (3 given)",
     "output_type": "error",
     "traceback": [
      "\u001b[0;31m---------------------------------------------------------------------------\u001b[0m",
      "\u001b[0;31mTypeError\u001b[0m                                 Traceback (most recent call last)",
      "\u001b[0;32m<ipython-input-37-d149f5b55917>\u001b[0m in \u001b[0;36m<module>\u001b[0;34m()\u001b[0m\n\u001b[1;32m      4\u001b[0m     \u001b[0mc\u001b[0m \u001b[0;34m=\u001b[0m \u001b[0ma\u001b[0m\u001b[0;34m+\u001b[0m\u001b[0mb\u001b[0m\u001b[0;34m\u001b[0m\u001b[0m\n\u001b[1;32m      5\u001b[0m     \u001b[0;32mprint\u001b[0m\u001b[0;34m\"results=\"\u001b[0m\u001b[0;34m,\u001b[0m\u001b[0mc\u001b[0m\u001b[0;34m\u001b[0m\u001b[0m\n\u001b[0;32m----> 6\u001b[0;31m \u001b[0mfun\u001b[0m\u001b[0;34m(\u001b[0m\u001b[0;36m10\u001b[0m\u001b[0;34m,\u001b[0m\u001b[0;36m20\u001b[0m\u001b[0;34m,\u001b[0m\u001b[0;36m30\u001b[0m\u001b[0;34m)\u001b[0m\u001b[0;34m\u001b[0m\u001b[0m\n\u001b[0m",
      "\u001b[0;31mTypeError\u001b[0m: fun() takes exactly 2 arguments (3 given)"
     ]
    }
   ],
   "source": [
    "#if i using 3 arguments at recall operation\n",
    "def fun(a,b):\n",
    "    print a,b\n",
    "    c = a+b\n",
    "    print\"results=\",c\n",
    "fun(10,20,30)"
   ]
  },
  {
   "cell_type": "code",
   "execution_count": 38,
   "metadata": {},
   "outputs": [
    {
     "name": "stdout",
     "output_type": "stream",
     "text": [
      "10 20\n",
      "results= 30\n"
     ]
    }
   ],
   "source": [
    "def fun(a,b,c):\n",
    "    print a,b\n",
    "    c = a+b\n",
    "    print\"results=\",c\n",
    "fun(10,20,30)"
   ]
  },
  {
   "cell_type": "code",
   "execution_count": 39,
   "metadata": {},
   "outputs": [
    {
     "name": "stdout",
     "output_type": "stream",
     "text": [
      "10 20 30\n",
      "results= 60\n"
     ]
    }
   ],
   "source": [
    "def fun(a,b,c):\n",
    "    print a,b,c\n",
    "    d = a+b+c\n",
    "    print\"results=\",d\n",
    "fun(10,20,30)"
   ]
  },
  {
   "cell_type": "code",
   "execution_count": 40,
   "metadata": {},
   "outputs": [
    {
     "name": "stdout",
     "output_type": "stream",
     "text": [
      "a=1, b=2, c=4, d=6, e=8, f=2\n",
      "23\n"
     ]
    }
   ],
   "source": [
    "def fun(a,b,c,d,e,f):\n",
    "    # 6 (a,b,c,d,e,f)are mandatory parameters\n",
    "    print\"a=%s, b=%s, c=%s, d=%s, e=%s, f=%s\"%(a,b,c,d,e,f)\n",
    "    print a+b+c+d+e+f\n",
    "fun(1,2,4,6,8,2)"
   ]
  },
  {
   "cell_type": "code",
   "execution_count": 41,
   "metadata": {},
   "outputs": [
    {
     "name": "stdout",
     "output_type": "stream",
     "text": [
      "a=1, b=2, c=4, d=6, e=8, f=2\n",
      "23\n"
     ]
    },
    {
     "ename": "TypeError",
     "evalue": "fun() takes exactly 6 arguments (2 given)",
     "output_type": "error",
     "traceback": [
      "\u001b[0;31m---------------------------------------------------------------------------\u001b[0m",
      "\u001b[0;31mTypeError\u001b[0m                                 Traceback (most recent call last)",
      "\u001b[0;32m<ipython-input-41-64a136562f69>\u001b[0m in \u001b[0;36m<module>\u001b[0;34m()\u001b[0m\n\u001b[1;32m      4\u001b[0m     \u001b[0;32mprint\u001b[0m \u001b[0ma\u001b[0m\u001b[0;34m+\u001b[0m\u001b[0mb\u001b[0m\u001b[0;34m+\u001b[0m\u001b[0mc\u001b[0m\u001b[0;34m+\u001b[0m\u001b[0md\u001b[0m\u001b[0;34m+\u001b[0m\u001b[0me\u001b[0m\u001b[0;34m+\u001b[0m\u001b[0mf\u001b[0m\u001b[0;34m\u001b[0m\u001b[0m\n\u001b[1;32m      5\u001b[0m \u001b[0mfun\u001b[0m\u001b[0;34m(\u001b[0m\u001b[0;36m1\u001b[0m\u001b[0;34m,\u001b[0m\u001b[0;36m2\u001b[0m\u001b[0;34m,\u001b[0m\u001b[0;36m4\u001b[0m\u001b[0;34m,\u001b[0m\u001b[0;36m6\u001b[0m\u001b[0;34m,\u001b[0m\u001b[0;36m8\u001b[0m\u001b[0;34m,\u001b[0m\u001b[0;36m2\u001b[0m\u001b[0;34m)\u001b[0m\u001b[0;34m\u001b[0m\u001b[0m\n\u001b[0;32m----> 6\u001b[0;31m \u001b[0mfun\u001b[0m\u001b[0;34m(\u001b[0m\u001b[0;36m1\u001b[0m\u001b[0;34m,\u001b[0m\u001b[0;36m2\u001b[0m\u001b[0;34m)\u001b[0m\u001b[0;34m\u001b[0m\u001b[0m\n\u001b[0m",
      "\u001b[0;31mTypeError\u001b[0m: fun() takes exactly 6 arguments (2 given)"
     ]
    }
   ],
   "source": [
    "def fun(a,b,c,d,e,f):\n",
    "    # 6 (a,b,c,d,e,f)are mandatory parameters\n",
    "    print\"a=%s, b=%s, c=%s, d=%s, e=%s, f=%s\"%(a,b,c,d,e,f)\n",
    "    print a+b+c+d+e+f\n",
    "fun(1,2,4,6,8,2)\n",
    "fun(1,2)   # 1,2 are lesser than mandotory parameters"
   ]
  },
  {
   "cell_type": "code",
   "execution_count": 1,
   "metadata": {},
   "outputs": [
    {
     "name": "stdout",
     "output_type": "stream",
     "text": [
      "a=1, b=2, c=4, d=6, e=8, f=2\n",
      "23\n"
     ]
    },
    {
     "ename": "TypeError",
     "evalue": "fun() takes exactly 6 arguments (2 given)",
     "output_type": "error",
     "traceback": [
      "\u001b[0;31m---------------------------------------------------------------------------\u001b[0m",
      "\u001b[0;31mTypeError\u001b[0m                                 Traceback (most recent call last)",
      "\u001b[0;32m<ipython-input-1-2f4c601539f2>\u001b[0m in \u001b[0;36m<module>\u001b[0;34m()\u001b[0m\n\u001b[1;32m      4\u001b[0m     \u001b[0;32mprint\u001b[0m \u001b[0ma\u001b[0m\u001b[0;34m+\u001b[0m\u001b[0mb\u001b[0m\u001b[0;34m+\u001b[0m\u001b[0mc\u001b[0m\u001b[0;34m+\u001b[0m\u001b[0md\u001b[0m\u001b[0;34m+\u001b[0m\u001b[0me\u001b[0m\u001b[0;34m+\u001b[0m\u001b[0mf\u001b[0m\u001b[0;34m\u001b[0m\u001b[0m\n\u001b[1;32m      5\u001b[0m \u001b[0mfun\u001b[0m\u001b[0;34m(\u001b[0m\u001b[0;36m1\u001b[0m\u001b[0;34m,\u001b[0m\u001b[0;36m2\u001b[0m\u001b[0;34m,\u001b[0m\u001b[0;36m4\u001b[0m\u001b[0;34m,\u001b[0m\u001b[0;36m6\u001b[0m\u001b[0;34m,\u001b[0m\u001b[0;36m8\u001b[0m\u001b[0;34m,\u001b[0m\u001b[0;36m2\u001b[0m\u001b[0;34m)\u001b[0m\u001b[0;34m\u001b[0m\u001b[0m\n\u001b[0;32m----> 6\u001b[0;31m \u001b[0mfun\u001b[0m\u001b[0;34m(\u001b[0m\u001b[0;36m1\u001b[0m\u001b[0;34m,\u001b[0m\u001b[0;36m2\u001b[0m\u001b[0;34m)\u001b[0m\u001b[0;34m\u001b[0m\u001b[0m\n\u001b[0m",
      "\u001b[0;31mTypeError\u001b[0m: fun() takes exactly 6 arguments (2 given)"
     ]
    }
   ],
   "source": [
    "#default parameter/arguments    #here(a,b,c,d)are arguments we should enter values for this (a,b,c,d)\n",
    "def fun(a,b,c,d,e,f):\n",
    "    print\"a=%s, b=%s, c=%s, d=%s, e=%s, f=%s\"%(a,b,c,d,e,f)\n",
    "    print a+b+c+d+e+f\n",
    "fun(1,2,4,6,8,2)\n",
    "fun(1,2)"
   ]
  },
  {
   "cell_type": "code",
   "execution_count": 3,
   "metadata": {},
   "outputs": [
    {
     "name": "stdout",
     "output_type": "stream",
     "text": [
      "a=1, b=2, c=4, d=6, e=8, f=2\n",
      "23\n",
      "a=1, b=2, c=0, d=2, e=20, f=40\n",
      "65\n"
     ]
    }
   ],
   "source": [
    "#default parameter/arguments\n",
    "def fun(a,b=10,c=0,d=2,e=20,f=40):\n",
    "    print\"a=%s, b=%s, c=%s, d=%s, e=%s, f=%s\"%(a,b,c,d,e,f)\n",
    "    print a+b+c+d+e+f\n",
    "fun(1,2,4,6,8,2)\n",
    "fun(1,2)"
   ]
  },
  {
   "cell_type": "code",
   "execution_count": 4,
   "metadata": {},
   "outputs": [
    {
     "name": "stdout",
     "output_type": "stream",
     "text": [
      "a=1, b=2, c=4, d=6, e=8, f=2\n",
      "23\n",
      "a=1, b=2, c=0, d=2, e=20, f=40\n",
      "65\n",
      "a=1, b=20, c=40, d=60, e=20, f=40\n",
      "181\n"
     ]
    }
   ],
   "source": [
    "#default parameter/arguments\n",
    "def fun(a,b=10,c=0,d=2,e=20,f=40):\n",
    "    #1 (a) is the mandotory parameter\n",
    "    #remaining 4(b,c,d,e,f) are optional parameters\n",
    "    print\"a=%s, b=%s, c=%s, d=%s, e=%s, f=%s\"%(a,b,c,d,e,f)\n",
    "    print a+b+c+d+e+f\n",
    "fun(1,2,4,6,8,2)\n",
    "fun(1,2)\n",
    "fun(1,20,40,60)"
   ]
  },
  {
   "cell_type": "code",
   "execution_count": 6,
   "metadata": {},
   "outputs": [
    {
     "ename": "TypeError",
     "evalue": "fun() takes at most 6 arguments (8 given)",
     "output_type": "error",
     "traceback": [
      "\u001b[0;31m---------------------------------------------------------------------------\u001b[0m",
      "\u001b[0;31mTypeError\u001b[0m                                 Traceback (most recent call last)",
      "\u001b[0;32m<ipython-input-6-73856c6c2494>\u001b[0m in \u001b[0;36m<module>\u001b[0;34m()\u001b[0m\n\u001b[1;32m      7\u001b[0m     \u001b[0;32mprint\u001b[0m\u001b[0;34m\"a=%s, b=%s, c=%s, d=%s, e=%s, f=%s\"\u001b[0m\u001b[0;34m%\u001b[0m\u001b[0;34m(\u001b[0m\u001b[0ma\u001b[0m\u001b[0;34m,\u001b[0m\u001b[0mb\u001b[0m\u001b[0;34m,\u001b[0m\u001b[0mc\u001b[0m\u001b[0;34m,\u001b[0m\u001b[0md\u001b[0m\u001b[0;34m,\u001b[0m\u001b[0me\u001b[0m\u001b[0;34m,\u001b[0m\u001b[0mf\u001b[0m\u001b[0;34m)\u001b[0m\u001b[0;34m\u001b[0m\u001b[0m\n\u001b[1;32m      8\u001b[0m     \u001b[0;32mprint\u001b[0m \u001b[0ma\u001b[0m\u001b[0;34m+\u001b[0m\u001b[0mb\u001b[0m\u001b[0;34m+\u001b[0m\u001b[0mc\u001b[0m\u001b[0;34m+\u001b[0m\u001b[0md\u001b[0m\u001b[0;34m+\u001b[0m\u001b[0me\u001b[0m\u001b[0;34m+\u001b[0m\u001b[0mf\u001b[0m\u001b[0;34m\u001b[0m\u001b[0m\n\u001b[0;32m----> 9\u001b[0;31m \u001b[0mfun\u001b[0m\u001b[0;34m(\u001b[0m\u001b[0;36m20\u001b[0m\u001b[0;34m,\u001b[0m\u001b[0;36m200\u001b[0m\u001b[0;34m,\u001b[0m\u001b[0;36m40\u001b[0m\u001b[0;34m,\u001b[0m\u001b[0;36m60\u001b[0m\u001b[0;34m,\u001b[0m\u001b[0;36m100\u001b[0m\u001b[0;34m,\u001b[0m\u001b[0;36m200\u001b[0m\u001b[0;34m,\u001b[0m\u001b[0;36m400\u001b[0m\u001b[0;34m,\u001b[0m\u001b[0;36m600\u001b[0m\u001b[0;34m)\u001b[0m\u001b[0;34m\u001b[0m\u001b[0m\n\u001b[0m",
      "\u001b[0;31mTypeError\u001b[0m: fun() takes at most 6 arguments (8 given)"
     ]
    }
   ],
   "source": [
    "# but there t is two disadvantagees 1.if we enter more than required arguments it is not prints\n",
    "                                   # 2. if we enter fun()with empty it does not print\n",
    "#default parameter/arguments\n",
    "def fun(a,b=10,c=0,d=2,e=20,f=40):\n",
    "    #1 (a) is the mandotory parameter\n",
    "    #remaining 4(b,c,d,e,f) are optional parameters\n",
    "    print\"a=%s, b=%s, c=%s, d=%s, e=%s, f=%s\"%(a,b,c,d,e,f)\n",
    "    print a+b+c+d+e+f\n",
    "fun(20,200,40,60,100,200,400,600)\n",
    "#fun takes most 6 arguments but we given 8 arguments"
   ]
  },
  {
   "cell_type": "code",
   "execution_count": 7,
   "metadata": {},
   "outputs": [
    {
     "ename": "TypeError",
     "evalue": "fun() takes at least 1 argument (0 given)",
     "output_type": "error",
     "traceback": [
      "\u001b[0;31m---------------------------------------------------------------------------\u001b[0m",
      "\u001b[0;31mTypeError\u001b[0m                                 Traceback (most recent call last)",
      "\u001b[0;32m<ipython-input-7-828ec2ac0242>\u001b[0m in \u001b[0;36m<module>\u001b[0;34m()\u001b[0m\n\u001b[1;32m      5\u001b[0m     \u001b[0;32mprint\u001b[0m\u001b[0;34m\"a=%s, b=%s, c=%s, d=%s, e=%s, f=%s\"\u001b[0m\u001b[0;34m%\u001b[0m\u001b[0;34m(\u001b[0m\u001b[0ma\u001b[0m\u001b[0;34m,\u001b[0m\u001b[0mb\u001b[0m\u001b[0;34m,\u001b[0m\u001b[0mc\u001b[0m\u001b[0;34m,\u001b[0m\u001b[0md\u001b[0m\u001b[0;34m,\u001b[0m\u001b[0me\u001b[0m\u001b[0;34m,\u001b[0m\u001b[0mf\u001b[0m\u001b[0;34m)\u001b[0m\u001b[0;34m\u001b[0m\u001b[0m\n\u001b[1;32m      6\u001b[0m     \u001b[0;32mprint\u001b[0m \u001b[0ma\u001b[0m\u001b[0;34m+\u001b[0m\u001b[0mb\u001b[0m\u001b[0;34m+\u001b[0m\u001b[0mc\u001b[0m\u001b[0;34m+\u001b[0m\u001b[0md\u001b[0m\u001b[0;34m+\u001b[0m\u001b[0me\u001b[0m\u001b[0;34m+\u001b[0m\u001b[0mf\u001b[0m\u001b[0;34m\u001b[0m\u001b[0m\n\u001b[0;32m----> 7\u001b[0;31m \u001b[0mfun\u001b[0m\u001b[0;34m(\u001b[0m\u001b[0;34m)\u001b[0m\u001b[0;34m\u001b[0m\u001b[0m\n\u001b[0m",
      "\u001b[0;31mTypeError\u001b[0m: fun() takes at least 1 argument (0 given)"
     ]
    }
   ],
   "source": [
    "#default parameter/arguments\n",
    "def fun(a,b=10,c=0,d=2,e=20,f=40):\n",
    "    #1 (a) is the mandotory parameter\n",
    "    #remaining 4(b,c,d,e,f) are optional parameters\n",
    "    print\"a=%s, b=%s, c=%s, d=%s, e=%s, f=%s\"%(a,b,c,d,e,f)\n",
    "    print a+b+c+d+e+f\n",
    "fun()\n",
    "#we want to type atleast one argument so it is not print"
   ]
  },
  {
   "cell_type": "code",
   "execution_count": 9,
   "metadata": {},
   "outputs": [
    {
     "name": "stdout",
     "output_type": "stream",
     "text": [
      "a=10, b=10, c=0, d=2, e=20, f=40\n",
      "82\n"
     ]
    }
   ],
   "source": [
    "#default parameter/arguments\n",
    "def fun(a,b=10,c=0,d=2,e=20,f=40):\n",
    "    #1 (a) is the mandotory parameter\n",
    "    #remaining 4(b,c,d,e,f) are optional parameters\n",
    "    print\"a=%s, b=%s, c=%s, d=%s, e=%s, f=%s\"%(a,b,c,d,e,f)\n",
    "    print a+b+c+d+e+f\n",
    "fun(10)"
   ]
  },
  {
   "cell_type": "code",
   "execution_count": 10,
   "metadata": {},
   "outputs": [
    {
     "name": "stdout",
     "output_type": "stream",
     "text": [
      "a=100, b=20000, c=400000, d=80000, e=20, f=40\n",
      "500160\n"
     ]
    }
   ],
   "source": [
    "#default parameter/arguments\n",
    "def fun(a,b=10,c=0,d=2,e=20,f=40):\n",
    "    #1 (a) is the mandotory parameter\n",
    "    #remaining 4(b,c,d,e,f) are optional parameters\n",
    "    print\"a=%s, b=%s, c=%s, d=%s, e=%s, f=%s\"%(a,b,c,d,e,f)\n",
    "    print a+b+c+d+e+f\n",
    "#keywords arguments\n",
    "fun(100,b=20000,c=400000,d=80000)"
   ]
  },
  {
   "cell_type": "code",
   "execution_count": 12,
   "metadata": {},
   "outputs": [
    {
     "name": "stdout",
     "output_type": "stream",
     "text": [
      "a=10, b=10, c=0, d=2, e=20, f=40\n",
      "82\n"
     ]
    }
   ],
   "source": [
    "#default parameter/arguments\n",
    "def fun(a,b=10,c=0,d=2,e=20,f=40):\n",
    "    #1 (a) is the mandotory parameter\n",
    "    #remaining 4(b,c,d,e,f) are optional parameters\n",
    "    print\"a=%s, b=%s, c=%s, d=%s, e=%s, f=%s\"%(a,b,c,d,e,f)\n",
    "    print a+b+c+d+e+f\n",
    "fun(a=10)"
   ]
  },
  {
   "cell_type": "code",
   "execution_count": 13,
   "metadata": {},
   "outputs": [
    {
     "ename": "SyntaxError",
     "evalue": "non-keyword arg after keyword arg (<ipython-input-13-fe90f8c818f0>, line 7)",
     "output_type": "error",
     "traceback": [
      "\u001b[0;36m  File \u001b[0;32m\"<ipython-input-13-fe90f8c818f0>\"\u001b[0;36m, line \u001b[0;32m7\u001b[0m\n\u001b[0;31m    fun(b=10,c,20,d=40,e=80,f=200)\u001b[0m\n\u001b[0;31mSyntaxError\u001b[0m\u001b[0;31m:\u001b[0m non-keyword arg after keyword arg\n"
     ]
    }
   ],
   "source": [
    "#default parameter/arguments\n",
    "def fun(a,b=10,c=0,d=2,e=20,f=40):\n",
    "    #1 (a) is the mandotory parameter\n",
    "    #remaining 4(b,c,d,e,f) are optional parameters\n",
    "    print\"a=%s, b=%s, c=%s, d=%s, e=%s, f=%s\"%(a,b,c,d,e,f)\n",
    "    print a+b+c+d+e+f\n",
    "fun(b=10,c,20,d=40,e=80,f=200)\n",
    "# therre is no value for 1(a)argument so it is not prints "
   ]
  },
  {
   "cell_type": "code",
   "execution_count": 14,
   "metadata": {},
   "outputs": [
    {
     "name": "stdout",
     "output_type": "stream",
     "text": [
      "a=0, b=10, c=0, d=2, e=20, f=40\n",
      "72\n"
     ]
    }
   ],
   "source": [
    "#default parameter/arguments\n",
    "def fun(a,b=10,c=0,d=2,e=20,f=40):\n",
    "    #1 (a) is the mandotory parameter\n",
    "    #remaining 4(b,c,d,e,f) are optional parameters\n",
    "    print\"a=%s, b=%s, c=%s, d=%s, e=%s, f=%s\"%(a,b,c,d,e,f)\n",
    "    print a+b+c+d+e+f\n",
    "fun(a=0)"
   ]
  },
  {
   "cell_type": "code",
   "execution_count": 18,
   "metadata": {},
   "outputs": [
    {
     "name": "stdout",
     "output_type": "stream",
     "text": [
      "a=20, b=40, c=40, d=40, e=40, f=40\n",
      "220\n"
     ]
    }
   ],
   "source": [
    "#default parameter/arguments\n",
    "def fun(a,b=10,c=0,d=2,e=20,f=40):\n",
    "    #1 (a) is the mandotory parameter\n",
    "    #remaining 4(b,c,d,e,f) are optional parameters\n",
    "    print\"a=%s, b=%s, c=%s, d=%s, e=%s, f=%s\"%(a,b,c,d,e,f)\n",
    "    print a+b+c+d+e+f\n",
    "fun(20,b=10+30,c=0+40,d=2+38,e=20+20,f=40)"
   ]
  },
  {
   "cell_type": "code",
   "execution_count": 1,
   "metadata": {},
   "outputs": [
    {
     "ename": "ImportError",
     "evalue": "No module named pandas",
     "output_type": "error",
     "traceback": [
      "\u001b[0;31m---------------------------------------------------------------------------\u001b[0m",
      "\u001b[0;31mImportError\u001b[0m                               Traceback (most recent call last)",
      "\u001b[0;32m<ipython-input-1-7dd3504c366f>\u001b[0m in \u001b[0;36m<module>\u001b[0;34m()\u001b[0m\n\u001b[0;32m----> 1\u001b[0;31m \u001b[0;32mimport\u001b[0m \u001b[0mpandas\u001b[0m \u001b[0;32mas\u001b[0m \u001b[0mpd\u001b[0m\u001b[0;34m\u001b[0m\u001b[0m\n\u001b[0m",
      "\u001b[0;31mImportError\u001b[0m: No module named pandas"
     ]
    }
   ],
   "source": [
    "import pandas as pd"
   ]
  },
  {
   "cell_type": "code",
   "execution_count": 2,
   "metadata": {},
   "outputs": [
    {
     "name": "stdout",
     "output_type": "stream",
     "text": [
      " this is menu \n"
     ]
    }
   ],
   "source": [
    "print \" this is menu \"\n",
    "def fun(a,b,c=0,d=10):\n",
    "    print a,b,c,d\n",
    "    print a+b+c+d\n",
    "    \n",
    "    "
   ]
  },
  {
   "cell_type": "code",
   "execution_count": 3,
   "metadata": {},
   "outputs": [
    {
     "name": "stdout",
     "output_type": "stream",
     "text": [
      " this is menu \n"
     ]
    },
    {
     "ename": "TypeError",
     "evalue": "fun() takes at least 2 arguments (0 given)",
     "output_type": "error",
     "traceback": [
      "\u001b[0;31m---------------------------------------------------------------------------\u001b[0m",
      "\u001b[0;31mTypeError\u001b[0m                                 Traceback (most recent call last)",
      "\u001b[0;32m<ipython-input-3-5225662c05b0>\u001b[0m in \u001b[0;36m<module>\u001b[0;34m()\u001b[0m\n\u001b[1;32m      4\u001b[0m     \u001b[0;32mprint\u001b[0m \u001b[0ma\u001b[0m\u001b[0;34m+\u001b[0m\u001b[0mb\u001b[0m\u001b[0;34m+\u001b[0m\u001b[0mc\u001b[0m\u001b[0;34m+\u001b[0m\u001b[0md\u001b[0m\u001b[0;34m\u001b[0m\u001b[0m\n\u001b[1;32m      5\u001b[0m \u001b[0;34m\u001b[0m\u001b[0m\n\u001b[0;32m----> 6\u001b[0;31m \u001b[0mfun\u001b[0m\u001b[0;34m(\u001b[0m\u001b[0;34m)\u001b[0m\u001b[0;34m\u001b[0m\u001b[0m\n\u001b[0m",
      "\u001b[0;31mTypeError\u001b[0m: fun() takes at least 2 arguments (0 given)"
     ]
    }
   ],
   "source": [
    "print \" this is menu \"\n",
    "def fun(a,b,c=0,d=10):\n",
    "    print a,b,c,d\n",
    "    print a+b+c+d\n",
    "    \n",
    "fun()"
   ]
  },
  {
   "cell_type": "code",
   "execution_count": 6,
   "metadata": {},
   "outputs": [
    {
     "name": "stdout",
     "output_type": "stream",
     "text": [
      " this is menu \n",
      "10 200 0 10\n",
      "220\n"
     ]
    }
   ],
   "source": [
    "print \" this is menu \"\n",
    "def fun(a,b,c=0,d=10):\n",
    "    print a,b,c,d\n",
    "    print a+b+c+d\n",
    "fun(10,200)"
   ]
  },
  {
   "cell_type": "code",
   "execution_count": 9,
   "metadata": {},
   "outputs": [
    {
     "name": "stdout",
     "output_type": "stream",
     "text": [
      " this is menu \n",
      "10 200 0 10\n",
      "220\n",
      "iteration\n",
      "10000 40000 60000 80000\n",
      "190000\n"
     ]
    }
   ],
   "source": [
    "print \" this is menu \"\n",
    "def fun(a,b,c=0,d=10):\n",
    "    print a,b,c,d\n",
    "    print a+b+c+d\n",
    "fun(10,200)\n",
    "print\"iteration\"\n",
    "fun(10000,40000,c=60000,d=80000)"
   ]
  },
  {
   "cell_type": "code",
   "execution_count": 10,
   "metadata": {},
   "outputs": [
    {
     "name": "stdout",
     "output_type": "stream",
     "text": [
      "x= 20 y= 40\n",
      "z= 60\n",
      "a= 2000\n",
      "thank you\n"
     ]
    }
   ],
   "source": [
    "a = 2000\n",
    "def fun(x,y):\n",
    "    print\"x=\",x,\"y=\",y\n",
    "    z=x+y\n",
    "    print \"z=\",z\n",
    "fun(20,40)\n",
    "print \"a=\",a\n",
    "print\"thank you\"\n",
    "    "
   ]
  },
  {
   "cell_type": "code",
   "execution_count": 11,
   "metadata": {},
   "outputs": [
    {
     "name": "stdout",
     "output_type": "stream",
     "text": [
      "x= 20 y= 40\n",
      "z= 60\n",
      "a= 2000\n",
      "out side the fun x="
     ]
    },
    {
     "ename": "NameError",
     "evalue": "name 'x' is not defined",
     "output_type": "error",
     "traceback": [
      "\u001b[0;31m---------------------------------------------------------------------------\u001b[0m",
      "\u001b[0;31mNameError\u001b[0m                                 Traceback (most recent call last)",
      "\u001b[0;32m<ipython-input-11-5519a3ab2149>\u001b[0m in \u001b[0;36m<module>\u001b[0;34m()\u001b[0m\n\u001b[1;32m      6\u001b[0m \u001b[0mfun\u001b[0m\u001b[0;34m(\u001b[0m\u001b[0;36m20\u001b[0m\u001b[0;34m,\u001b[0m\u001b[0;36m40\u001b[0m\u001b[0;34m)\u001b[0m\u001b[0;34m\u001b[0m\u001b[0m\n\u001b[1;32m      7\u001b[0m \u001b[0;32mprint\u001b[0m \u001b[0;34m\"a=\"\u001b[0m\u001b[0;34m,\u001b[0m\u001b[0ma\u001b[0m\u001b[0;34m\u001b[0m\u001b[0m\n\u001b[0;32m----> 8\u001b[0;31m \u001b[0;32mprint\u001b[0m\u001b[0;34m\"out side the fun x=\"\u001b[0m\u001b[0;34m,\u001b[0m\u001b[0mx\u001b[0m\u001b[0;34m,\u001b[0m\u001b[0;34m\"y=\"\u001b[0m\u001b[0;34m,\u001b[0m\u001b[0my\u001b[0m\u001b[0;34m,\u001b[0m\u001b[0;34m\"z=\"\u001b[0m\u001b[0;34m,\u001b[0m\u001b[0mz\u001b[0m\u001b[0;34m\u001b[0m\u001b[0m\n\u001b[0m\u001b[1;32m      9\u001b[0m \u001b[0;34m\u001b[0m\u001b[0m\n",
      "\u001b[0;31mNameError\u001b[0m: name 'x' is not defined"
     ]
    }
   ],
   "source": [
    "a = 2000\n",
    "def fun(x,y):\n",
    "    print\"x=\",x,\"y=\",y\n",
    "    z=x+y\n",
    "    print \"z=\",z\n",
    "fun(20,40)\n",
    "print \"a=\",a\n",
    "print\"out side the fun x=\",x,\"y=\",y,\"z=\",z\n",
    "#once it is comleate in the local area it removes the values so it  is not prints inner section \n",
    "#clearly ecplained in the memory organizing"
   ]
  },
  {
   "cell_type": "code",
   "execution_count": 12,
   "metadata": {},
   "outputs": [
    {
     "name": "stdout",
     "output_type": "stream",
     "text": [
      " 139807397677848\n",
      "<function fun at 0x7f2772468b18>\n",
      "<type 'function'>\n"
     ]
    }
   ],
   "source": [
    "a = 2000\n",
    "def fun(x,y):\n",
    "    print\"x=\",x,\"y=\",y\n",
    "    z=x+y\n",
    "    print \"z=\",z\n",
    "print id(fun)\n",
    "print fun\n",
    "print type(fun)\n",
    "    "
   ]
  },
  {
   "cell_type": "code",
   "execution_count": 13,
   "metadata": {},
   "outputs": [
    {
     "name": "stdout",
     "output_type": "stream",
     "text": [
      "x= 20 y= 40\n",
      "z= 60\n"
     ]
    }
   ],
   "source": [
    "a = 2000\n",
    "def fun(x,y):\n",
    "    print\"x=\",x,\"y=\",y\n",
    "    z=x+y\n",
    "    print \"z=\",z\n",
    "fun(x=20,y=40)\n",
    "print\"end of the program\"\n",
    "    "
   ]
  },
  {
   "cell_type": "code",
   "execution_count": 14,
   "metadata": {},
   "outputs": [
    {
     "ename": "TypeError",
     "evalue": "fun() got an unexpected keyword argument 'a'",
     "output_type": "error",
     "traceback": [
      "\u001b[0;31m---------------------------------------------------------------------------\u001b[0m",
      "\u001b[0;31mTypeError\u001b[0m                                 Traceback (most recent call last)",
      "\u001b[0;32m<ipython-input-14-eb76fefdba17>\u001b[0m in \u001b[0;36m<module>\u001b[0;34m()\u001b[0m\n\u001b[1;32m      4\u001b[0m     \u001b[0mz\u001b[0m\u001b[0;34m=\u001b[0m\u001b[0mx\u001b[0m\u001b[0;34m+\u001b[0m\u001b[0my\u001b[0m\u001b[0;34m\u001b[0m\u001b[0m\n\u001b[1;32m      5\u001b[0m     \u001b[0;32mprint\u001b[0m \u001b[0;34m\"z=\"\u001b[0m\u001b[0;34m,\u001b[0m\u001b[0mz\u001b[0m\u001b[0;34m\u001b[0m\u001b[0m\n\u001b[0;32m----> 6\u001b[0;31m \u001b[0mfun\u001b[0m\u001b[0;34m(\u001b[0m\u001b[0ma\u001b[0m\u001b[0;34m=\u001b[0m\u001b[0;36m20\u001b[0m\u001b[0;34m,\u001b[0m\u001b[0my\u001b[0m\u001b[0;34m=\u001b[0m\u001b[0;36m40\u001b[0m\u001b[0;34m)\u001b[0m\u001b[0;34m\u001b[0m\u001b[0m\n\u001b[0m\u001b[1;32m      7\u001b[0m \u001b[0;34m\u001b[0m\u001b[0m\n\u001b[1;32m      8\u001b[0m \u001b[0;34m\u001b[0m\u001b[0m\n",
      "\u001b[0;31mTypeError\u001b[0m: fun() got an unexpected keyword argument 'a'"
     ]
    }
   ],
   "source": [
    "a = 2000\n",
    "def fun(x,y):\n",
    "    print\"x=\",x,\"y=\",y\n",
    "    z=x+y\n",
    "    print \"z=\",z\n",
    "fun(a=20,y=40)\n",
    "\n",
    "    "
   ]
  },
  {
   "cell_type": "code",
   "execution_count": 15,
   "metadata": {},
   "outputs": [
    {
     "name": "stdout",
     "output_type": "stream",
     "text": [
      "x outside fun=  1000\n",
      "x inside fun=  10\n",
      "a inside fun=  2\n",
      "a outside fun= 2\n",
      "other statement in program\n",
      "program ended\n"
     ]
    }
   ],
   "source": [
    "x = 1000\n",
    "a = 2\n",
    "def fun(x,y):\n",
    "    print \"x inside fun= \",x\n",
    "    print \"a inside fun= \",a\n",
    "print\"x outside fun= \",x\n",
    "fun(10,20)\n",
    "print\"a outside fun=\",a\n",
    "print\"other statement in program\"\n",
    "print\"program ended\"\n",
    "# explained in memory location mapping"
   ]
  },
  {
   "cell_type": "code",
   "execution_count": 1,
   "metadata": {},
   "outputs": [
    {
     "name": "stdout",
     "output_type": "stream",
     "text": [
      "x outside fun=  1000\n",
      "x inside fun=  10\n",
      "a inside fun=  2\n",
      "a outside fun= 2\n",
      "other statement in program\n",
      "x inside fun=  40\n",
      "a inside fun=  2\n",
      "program ended\n",
      "(80, 200)\n"
     ]
    }
   ],
   "source": [
    "x = 1000\n",
    "a = 2\n",
    "def fun(x,y):\n",
    "    print \"x inside fun= \",x\n",
    "    print \"a inside fun= \",a\n",
    "print\"x outside fun= \",x\n",
    "fun(10,20)\n",
    "print\"a outside fun=\",a\n",
    "print\"other statement in program\"\n",
    "fun(40,60)\n",
    "print\"program ended\"\n",
    "print(80,200)\n",
    "# explained in memory location mapping"
   ]
  },
  {
   "cell_type": "code",
   "execution_count": 3,
   "metadata": {},
   "outputs": [],
   "source": [
    "def fun(x,y):\n",
    "    print x,y\n",
    "    z=x+y\n",
    "    z1=x-y\n",
    "    z3=x*y\n"
   ]
  },
  {
   "cell_type": "code",
   "execution_count": 4,
   "metadata": {},
   "outputs": [],
   "source": [
    "def fun(x,y):\n",
    "    print x,y\n",
    "    z=x+y\n",
    "    z1=x-y\n",
    "    z3=x*y\n",
    "f=fun"
   ]
  },
  {
   "cell_type": "code",
   "execution_count": 5,
   "metadata": {},
   "outputs": [
    {
     "name": "stdout",
     "output_type": "stream",
     "text": [
      "100 200\n"
     ]
    }
   ],
   "source": [
    "def fun(x,y):\n",
    "    print x,y\n",
    "    z=x+y\n",
    "    z1=x-y\n",
    "    z3=x*y\n",
    "f=fun\n",
    "f1=fun(100,200)"
   ]
  },
  {
   "cell_type": "code",
   "execution_count": 6,
   "metadata": {},
   "outputs": [
    {
     "name": "stdout",
     "output_type": "stream",
     "text": [
      "100 200\n",
      "f= <function fun at 0x7f21fcddff50>\n"
     ]
    }
   ],
   "source": [
    "def fun(x,y):\n",
    "    print x,y\n",
    "    z=x+y\n",
    "    z1=x-y\n",
    "    z3=x*y     #there is no print \"z =\",z, \"z1=\",z,\"z3=\",z so it is not execute in call function\n",
    "f=fun\n",
    "f1=fun(100,200)\n",
    "print\"f=\",f"
   ]
  },
  {
   "cell_type": "code",
   "execution_count": 7,
   "metadata": {},
   "outputs": [
    {
     "name": "stdout",
     "output_type": "stream",
     "text": [
      "100 200\n",
      "f= <function fun at 0x7f2201532a28>\n",
      "f1= None\n"
     ]
    }
   ],
   "source": [
    "def fun(x,y):\n",
    "    print x,y\n",
    "    z=x+y\n",
    "    z1=x-y\n",
    "    z3=x*y   \n",
    "f=fun\n",
    "f1=fun(100,200)     # there is only fun() value but there is no f1 ref value,  for that we  mention return inside the loop\n",
    "print\"f=\",f\n",
    "print\"f1=\",f1"
   ]
  },
  {
   "cell_type": "code",
   "execution_count": 8,
   "metadata": {},
   "outputs": [
    {
     "name": "stdout",
     "output_type": "stream",
     "text": [
      "100 200\n",
      "f= <function fun at 0x7f21fcddfe60>\n",
      "f1= 200\n"
     ]
    }
   ],
   "source": [
    "def fun(x,y):\n",
    "    print x,y\n",
    "    z=x+y\n",
    "    z1=x-y\n",
    "    z3=x*y\n",
    "    return 200\n",
    "f=fun\n",
    "f1=fun(100,200)\n",
    "print\"f=\",f\n",
    "print\"f1=\",f1"
   ]
  },
  {
   "cell_type": "code",
   "execution_count": 10,
   "metadata": {},
   "outputs": [
    {
     "name": "stdout",
     "output_type": "stream",
     "text": [
      "<type 'function'>\n",
      "<type 'function'>\n",
      "100 200\n",
      "f= <function fun at 0x7f21fc554b90>\n",
      "f1= 200\n",
      "400 800\n"
     ]
    }
   ],
   "source": [
    "def fun(x,y):\n",
    "    print x,y\n",
    "    z=x+y\n",
    "    z1=x-y\n",
    "    z3=x*y\n",
    "    return 200\n",
    "f=fun\n",
    "print type(f)\n",
    "print type(fun)\n",
    "f1=fun(100,200)\n",
    "print\"f=\",f\n",
    "print\"f1=\",f1\n",
    "f2=f(400,800)"
   ]
  },
  {
   "cell_type": "code",
   "execution_count": 12,
   "metadata": {},
   "outputs": [
    {
     "name": "stdout",
     "output_type": "stream",
     "text": [
      "<type 'function'>\n",
      "<type 'function'>\n",
      "1 2\n",
      "100 200\n",
      "f= <function fun at 0x7f21fc554ed8>\n",
      "f1= None\n",
      "400 800\n"
     ]
    }
   ],
   "source": [
    "def fun(x,y):\n",
    "    print x,y\n",
    "    z=x+y\n",
    "    z1=x-y\n",
    "    z3=x*y\n",
    "    \n",
    "f=fun\n",
    "print type(f)\n",
    "print type(fun)\n",
    "fun(1,2)\n",
    "f1=fun(100,200)  #if there is no  return valu then shows none\n",
    "print\"f=\",f\n",
    "print\"f1=\",f1\n",
    "f2=f(400,800)"
   ]
  },
  {
   "cell_type": "code",
   "execution_count": 13,
   "metadata": {},
   "outputs": [
    {
     "name": "stdout",
     "output_type": "stream",
     "text": [
      "<type 'function'>\n",
      "<type 'function'>\n",
      "100 200\n",
      "f= <function fun at 0x7f21fc554b18>\n",
      "f1= 800\n",
      "400 800\n"
     ]
    }
   ],
   "source": [
    "def fun(x,y):\n",
    "    print x,y\n",
    "    z=x+y\n",
    "    z1=x-y\n",
    "    z3=x*y\n",
    "    return 800\n",
    "f=fun\n",
    "print type(f)\n",
    "print type(fun)\n",
    "f1=fun(100,200)\n",
    "print\"f=\",f\n",
    "print\"f1=\",f1\n",
    "f2=f(400,800)"
   ]
  },
  {
   "cell_type": "code",
   "execution_count": 15,
   "metadata": {},
   "outputs": [
    {
     "name": "stdout",
     "output_type": "stream",
     "text": [
      "10 20\n",
      "30 -10 200\n"
     ]
    }
   ],
   "source": [
    "def fun(x,y):\n",
    "    print x,y\n",
    "    z=x+y\n",
    "    z1=x-y\n",
    "    z3=x*y\n",
    "    print z,z1,z3\n",
    "fun(10,20)"
   ]
  },
  {
   "cell_type": "code",
   "execution_count": 16,
   "metadata": {},
   "outputs": [
    {
     "name": "stdout",
     "output_type": "stream",
     "text": [
      "<type 'function'>\n",
      "<type 'function'>\n",
      "100 200\n",
      "f= <function fun at 0x7f21fc554e60>\n",
      "f1= 800\n",
      "400 800\n",
      "f2= 800\n"
     ]
    }
   ],
   "source": [
    "def fun(x,y):\n",
    "    print x,y\n",
    "    z=x+y\n",
    "    z1=x-y\n",
    "    z3=x*y\n",
    "    return 800\n",
    "f=fun\n",
    "print type(f)\n",
    "print type(fun)\n",
    "f1=fun(100,200)\n",
    "print\"f=\",f\n",
    "print\"f1=\",f1\n",
    "f2=f(400,800)\n",
    "print \"f2=\",f2 #there is f1,f2 ref values are with retur 800 values"
   ]
  },
  {
   "cell_type": "code",
   "execution_count": 17,
   "metadata": {},
   "outputs": [
    {
     "name": "stdout",
     "output_type": "stream",
     "text": [
      "10 20\n",
      "f1= None\n"
     ]
    }
   ],
   "source": [
    "def fun(x,y):\n",
    "    print x,y\n",
    "    z=x+y\n",
    "    z1=x-y\n",
    "    z3=x*y\n",
    "    \n",
    "f=fun\n",
    "f1=fun(10,20)\n",
    "print\"f1=\",f1\n"
   ]
  },
  {
   "cell_type": "code",
   "execution_count": 18,
   "metadata": {},
   "outputs": [
    {
     "name": "stdout",
     "output_type": "stream",
     "text": [
      "10 20\n",
      "f1= 30\n"
     ]
    }
   ],
   "source": [
    "def fun(x,y):\n",
    "    print x,y\n",
    "    z=x+y\n",
    "    z1=x-y\n",
    "    z3=x*y\n",
    "    return z    # there is return value z =x+y value is indicates the ref f1 value\n",
    "f=fun\n",
    "f1=fun(10,20)\n",
    "print\"f1=\",f1\n"
   ]
  },
  {
   "cell_type": "code",
   "execution_count": 20,
   "metadata": {},
   "outputs": [
    {
     "name": "stdout",
     "output_type": "stream",
     "text": [
      "10 20\n",
      "f1= -10\n"
     ]
    }
   ],
   "source": [
    "def fun(x,y):\n",
    "    print x,y\n",
    "    z=x+y\n",
    "    z1=x-y\n",
    "    z3=x*y\n",
    "    return z1    # there is return value z2 =x-y value is indicates the ref f1 value\n",
    "f=fun\n",
    "f1=fun(10,20)\n",
    "print\"f1=\",f1\n"
   ]
  },
  {
   "cell_type": "code",
   "execution_count": 21,
   "metadata": {},
   "outputs": [
    {
     "name": "stdout",
     "output_type": "stream",
     "text": [
      "10 20\n",
      "f1= 200\n"
     ]
    }
   ],
   "source": [
    "def fun(x,y):\n",
    "    print x,y\n",
    "    z=x+y\n",
    "    z1=x-y\n",
    "    z3=x*y\n",
    "    return z3    # there is return value z3 =x*y value is indicates the ref f1 value\n",
    "f=fun\n",
    "f1=fun(10,20)\n",
    "print\"f1=\",f1\n"
   ]
  },
  {
   "cell_type": "code",
   "execution_count": 22,
   "metadata": {},
   "outputs": [
    {
     "name": "stdout",
     "output_type": "stream",
     "text": [
      "10 20\n",
      "f1= (30, -10, 200)\n"
     ]
    }
   ],
   "source": [
    "def fun(x,y):\n",
    "    print x,y\n",
    "    z=x+y\n",
    "    z1=x-y\n",
    "    z3=x*y\n",
    "    return z,z1,z3    # there is return value z,z1,z3 value is indicates the ref f1 value\n",
    "f=fun\n",
    "f1=fun(10,20)\n",
    "print\"f1=\",f1\n"
   ]
  },
  {
   "cell_type": "code",
   "execution_count": 26,
   "metadata": {},
   "outputs": [
    {
     "name": "stdout",
     "output_type": "stream",
     "text": [
      "10 20\n",
      "\n"
     ]
    }
   ],
   "source": [
    "def fun(x,y):\n",
    "    print x,y\n",
    "    z=x+y\n",
    "    z1=x-y\n",
    "    z3=x*y\n",
    "    return z,z1,z3\n",
    "f=fun(10,20)\n",
    "print \"\"\n"
   ]
  },
  {
   "cell_type": "code",
   "execution_count": 27,
   "metadata": {},
   "outputs": [
    {
     "name": "stdout",
     "output_type": "stream",
     "text": [
      "10 20\n",
      "(30, -10, 200)\n",
      "\n"
     ]
    }
   ],
   "source": [
    "def fun(x,y):\n",
    "    print x,y\n",
    "    z=x+y\n",
    "    z1=x-y\n",
    "    z3=x*y\n",
    "    return z,z1,z3\n",
    "print fun(10,20)\n",
    "print \"\"\n"
   ]
  },
  {
   "cell_type": "code",
   "execution_count": 28,
   "metadata": {},
   "outputs": [],
   "source": [
    "l=list(\"python\")"
   ]
  },
  {
   "cell_type": "code",
   "execution_count": 29,
   "metadata": {},
   "outputs": [
    {
     "name": "stdout",
     "output_type": "stream",
     "text": [
      "['p', 'y', 't', 'h', 'o', 'n']\n"
     ]
    }
   ],
   "source": [
    "l=list(\"python\")\n",
    "print l"
   ]
  },
  {
   "cell_type": "code",
   "execution_count": 30,
   "metadata": {},
   "outputs": [
    {
     "name": "stdout",
     "output_type": "stream",
     "text": [
      "[10, 20, 40, 60]\n"
     ]
    }
   ],
   "source": [
    "l=[10,20,40,60]\n",
    "print l"
   ]
  },
  {
   "cell_type": "code",
   "execution_count": 31,
   "metadata": {},
   "outputs": [
    {
     "name": "stdout",
     "output_type": "stream",
     "text": [
      "4\n"
     ]
    }
   ],
   "source": [
    "l=[10,20,40,60]\n",
    "print len(l)"
   ]
  },
  {
   "cell_type": "code",
   "execution_count": 43,
   "metadata": {},
   "outputs": [
    {
     "name": "stdout",
     "output_type": "stream",
     "text": [
      "[2, 4, 4.2, 8.6]\n"
     ]
    }
   ],
   "source": [
    "l = [2,4, 4.2,8.6]       # it contains int,float\n",
    "print l"
   ]
  },
  {
   "cell_type": "code",
   "execution_count": 44,
   "metadata": {},
   "outputs": [
    {
     "name": "stdout",
     "output_type": "stream",
     "text": [
      "[2, 4, 4.2, 8.6, 'hyderabad', 'delhi', (1+2j)]\n"
     ]
    }
   ],
   "source": [
    "l = [2,4, 4.2,8.6,\"hyderabad\",\"delhi\",1+2j]\n",
    "print l"
   ]
  },
  {
   "cell_type": "code",
   "execution_count": 45,
   "metadata": {},
   "outputs": [
    {
     "name": "stdout",
     "output_type": "stream",
     "text": [
      "[2, 4, 4.2, 8.6, 'hyderabad', 'delhi', (1+2j), [10, 40, [100, 200]]]\n"
     ]
    }
   ],
   "source": [
    "l = [2,4, 4.2,8.6,\"hyderabad\",\"delhi\",1+2j,[10,40,[100,200]]] #it contains int,float,complex,strings,sublists\n",
    "print l"
   ]
  },
  {
   "cell_type": "code",
   "execution_count": 46,
   "metadata": {},
   "outputs": [
    {
     "name": "stdout",
     "output_type": "stream",
     "text": [
      "2\n",
      "4\n",
      "4.2\n",
      "8.6\n"
     ]
    }
   ],
   "source": [
    "l = [2,4, 4.2,8.6]      \n",
    "print l[0]\n",
    "print l[1]\n",
    "print l[2]\n",
    "print l[3]"
   ]
  },
  {
   "cell_type": "code",
   "execution_count": 47,
   "metadata": {},
   "outputs": [
    {
     "name": "stdout",
     "output_type": "stream",
     "text": [
      "8.6\n",
      "4.2\n",
      "4\n",
      "2\n"
     ]
    }
   ],
   "source": [
    "l = [2,4, 4.2,8.6]      \n",
    "print l[-1]\n",
    "print l[-2]\n",
    "print l[-3]\n",
    "print l[-4]"
   ]
  },
  {
   "cell_type": "code",
   "execution_count": 48,
   "metadata": {},
   "outputs": [
    {
     "ename": "IndexError",
     "evalue": "list index out of range",
     "output_type": "error",
     "traceback": [
      "\u001b[0;31m---------------------------------------------------------------------------\u001b[0m",
      "\u001b[0;31mIndexError\u001b[0m                                Traceback (most recent call last)",
      "\u001b[0;32m<ipython-input-48-5427e863ef78>\u001b[0m in \u001b[0;36m<module>\u001b[0;34m()\u001b[0m\n\u001b[1;32m      1\u001b[0m \u001b[0ml\u001b[0m \u001b[0;34m=\u001b[0m \u001b[0;34m[\u001b[0m\u001b[0;36m2\u001b[0m\u001b[0;34m,\u001b[0m\u001b[0;36m4\u001b[0m\u001b[0;34m,\u001b[0m \u001b[0;36m4.2\u001b[0m\u001b[0;34m,\u001b[0m\u001b[0;36m8.6\u001b[0m\u001b[0;34m]\u001b[0m\u001b[0;34m\u001b[0m\u001b[0m\n\u001b[0;32m----> 2\u001b[0;31m \u001b[0;32mprint\u001b[0m \u001b[0ml\u001b[0m\u001b[0;34m[\u001b[0m\u001b[0;36m4\u001b[0m\u001b[0;34m]\u001b[0m\u001b[0;34m\u001b[0m\u001b[0m\n\u001b[0m\u001b[1;32m      3\u001b[0m \u001b[0;32mprint\u001b[0m \u001b[0ml\u001b[0m\u001b[0;34m[\u001b[0m\u001b[0;34m-\u001b[0m\u001b[0;36m4\u001b[0m\u001b[0;34m]\u001b[0m\u001b[0;34m\u001b[0m\u001b[0m\n",
      "\u001b[0;31mIndexError\u001b[0m: list index out of range"
     ]
    }
   ],
   "source": [
    "l = [2,4, 4.2,8.6] \n",
    "print l[4]\n",
    "print l[-4] #there is no l[4]and l[-4] values inn list so it can't print"
   ]
  },
  {
   "cell_type": "code",
   "execution_count": 53,
   "metadata": {},
   "outputs": [
    {
     "ename": "SyntaxError",
     "evalue": "invalid syntax (<ipython-input-53-ad50bfb5daa8>, line 2)",
     "output_type": "error",
     "traceback": [
      "\u001b[0;36m  File \u001b[0;32m\"<ipython-input-53-ad50bfb5daa8>\"\u001b[0;36m, line \u001b[0;32m2\u001b[0m\n\u001b[0;31m    print [1:3]\u001b[0m\n\u001b[0m            ^\u001b[0m\n\u001b[0;31mSyntaxError\u001b[0m\u001b[0;31m:\u001b[0m invalid syntax\n"
     ]
    }
   ],
   "source": [
    "l = [10,20,40,60]\n",
    "print [1:3]"
   ]
  },
  {
   "cell_type": "code",
   "execution_count": 52,
   "metadata": {},
   "outputs": [
    {
     "name": "stdout",
     "output_type": "stream",
     "text": [
      "[20, 40]\n"
     ]
    }
   ],
   "source": [
    "l = [10,20,40,60]\n",
    "print l[1:3]"
   ]
  },
  {
   "cell_type": "code",
   "execution_count": 54,
   "metadata": {},
   "outputs": [
    {
     "name": "stdout",
     "output_type": "stream",
     "text": [
      "[20, 30, 40, 50, 60, 70]\n"
     ]
    }
   ],
   "source": [
    "l = [10,20,30,40,50,60,70,80]\n",
    "print l[1:7]                          # it can't print 7 value because it is extrem value in 1:7"
   ]
  },
  {
   "cell_type": "code",
   "execution_count": 55,
   "metadata": {},
   "outputs": [
    {
     "name": "stdout",
     "output_type": "stream",
     "text": [
      "[10, 20, 30, 40, 50, 60, 70]\n"
     ]
    }
   ],
   "source": [
    "l = [10,20,30,40,50,60,70,80]\n",
    "print l[0:7]"
   ]
  },
  {
   "cell_type": "code",
   "execution_count": 56,
   "metadata": {},
   "outputs": [
    {
     "data": {
      "text/plain": [
       "[0, 1, 2, 3, 4, 5, 6, 7, 8, 9]"
      ]
     },
     "execution_count": 56,
     "metadata": {},
     "output_type": "execute_result"
    }
   ],
   "source": [
    "range(10)"
   ]
  },
  {
   "cell_type": "code",
   "execution_count": 57,
   "metadata": {},
   "outputs": [
    {
     "name": "stdout",
     "output_type": "stream",
     "text": [
      "['mahesh babu', 'ramcharan', 'prabhas', 'ntr']\n"
     ]
    }
   ],
   "source": [
    "l = [\"mahesh babu\",\"ramcharan\",\"prabhas\",\"ntr\"]\n",
    "print l"
   ]
  },
  {
   "cell_type": "code",
   "execution_count": 58,
   "metadata": {},
   "outputs": [
    {
     "name": "stdout",
     "output_type": "stream",
     "text": [
      "['m', 'a', 'h', 'e', 's', 'h', ' ', 'b', 'a', 'b', 'u']\n"
     ]
    }
   ],
   "source": [
    "l = list(\"mahesh babu\")\n",
    "print l"
   ]
  },
  {
   "cell_type": "code",
   "execution_count": 61,
   "metadata": {},
   "outputs": [
    {
     "name": "stdout",
     "output_type": "stream",
     "text": [
      "['m', 'a', 'h', 'e', 's', 'h', ' ', 'b', 'a', 'b', 'u']\n"
     ]
    }
   ],
   "source": [
    "l = list(\"mahesh babu\")\n",
    "print l"
   ]
  },
  {
   "cell_type": "code",
   "execution_count": 62,
   "metadata": {},
   "outputs": [
    {
     "name": "stdout",
     "output_type": "stream",
     "text": [
      "mahesh babu\n"
     ]
    }
   ],
   "source": [
    "l = [\"mahesh babu\",\"ramcharan\",\"prabhas\",\"ntr\"]\n",
    "print l[0]"
   ]
  },
  {
   "cell_type": "code",
   "execution_count": 63,
   "metadata": {},
   "outputs": [
    {
     "name": "stdout",
     "output_type": "stream",
     "text": [
      "ntr\n"
     ]
    }
   ],
   "source": [
    "l = [\"mahesh babu\",\"ramcharan\",\"prabhas\",\"ntr\"]\n",
    "print l[-1]"
   ]
  },
  {
   "cell_type": "code",
   "execution_count": 66,
   "metadata": {},
   "outputs": [
    {
     "name": "stdout",
     "output_type": "stream",
     "text": [
      "['mahesh babu', 'ramcharan', 'prabhas']\n"
     ]
    }
   ],
   "source": [
    "l = [\"mahesh babu\",\"ramcharan\",\"prabhas\",\"ntr\"]\n",
    "print l[0:3]                                         # there is step value 1  itself for right side "
   ]
  },
  {
   "cell_type": "code",
   "execution_count": 65,
   "metadata": {},
   "outputs": [
    {
     "name": "stdout",
     "output_type": "stream",
     "text": [
      "['kcr', 'ntr', 'prabhas', 'ramcharan']\n"
     ]
    }
   ],
   "source": [
    "l = [\"mahesh babu\",\"ramcharan\",\"prabhas\",\"ntr\",\"kcr\",\"ktr\"]\n",
    "\n",
    "print l[4:0:-1]"
   ]
  },
  {
   "cell_type": "code",
   "execution_count": 67,
   "metadata": {},
   "outputs": [
    {
     "name": "stdout",
     "output_type": "stream",
     "text": [
      "[]\n"
     ]
    }
   ],
   "source": [
    "l = [\"mahesh babu\",\"ramcharan\",\"prabhas\",\"ntr\",\"kcr\",\"ktr\"]\n",
    "\n",
    "print l[0:4:-1]"
   ]
  },
  {
   "cell_type": "code",
   "execution_count": 68,
   "metadata": {},
   "outputs": [
    {
     "name": "stdout",
     "output_type": "stream",
     "text": [
      "['ktr', 'ntr']\n"
     ]
    }
   ],
   "source": [
    "l = [\"mahesh babu\",\"ramcharan\",\"prabhas\",\"ntr\",\"kcr\",\"ktr\"]\n",
    "\n",
    "print l[-1:-4:-2]"
   ]
  },
  {
   "cell_type": "code",
   "execution_count": 69,
   "metadata": {},
   "outputs": [
    {
     "name": "stdout",
     "output_type": "stream",
     "text": [
      "6\n"
     ]
    }
   ],
   "source": [
    "l = [\"mahesh babu\",\"ramcharan\",\"prabhas\",\"ntr\",\"kcr\",\"ktr\"]\n",
    "\n",
    "print len(l)"
   ]
  },
  {
   "cell_type": "code",
   "execution_count": 70,
   "metadata": {},
   "outputs": [
    {
     "name": "stdout",
     "output_type": "stream",
     "text": [
      "4\n"
     ]
    }
   ],
   "source": [
    "l=[1,2,3,[10,20,30,40,[100,200,400]]]\n",
    "print len(l)"
   ]
  },
  {
   "cell_type": "code",
   "execution_count": 73,
   "metadata": {},
   "outputs": [
    {
     "name": "stdout",
     "output_type": "stream",
     "text": [
      "4\n",
      "[10, 20, 30, 40, [100, 200, 400]]\n"
     ]
    }
   ],
   "source": [
    "l=[1,2,3,[10,20,30,40,[100,200,400]]]\n",
    "print len(l)\n",
    "print l[3]"
   ]
  },
  {
   "cell_type": "code",
   "execution_count": 72,
   "metadata": {},
   "outputs": [
    {
     "name": "stdout",
     "output_type": "stream",
     "text": [
      "5\n",
      "2\n"
     ]
    }
   ],
   "source": [
    "l=[1,2,3,[1000000,20000000],[10,20,30,40,[100,200,400]]]\n",
    "print len(l)\n",
    "print l[1]"
   ]
  },
  {
   "cell_type": "code",
   "execution_count": 74,
   "metadata": {},
   "outputs": [
    {
     "name": "stdout",
     "output_type": "stream",
     "text": [
      "5\n",
      "[1000000, 20000000]\n"
     ]
    }
   ],
   "source": [
    "l=[1,2,3,[1000000,20000000],[10,20,30,40,[100,200,400]]]\n",
    "print len(l)\n",
    "print l[3]"
   ]
  },
  {
   "cell_type": "code",
   "execution_count": 75,
   "metadata": {},
   "outputs": [
    {
     "name": "stdout",
     "output_type": "stream",
     "text": [
      "5\n",
      "[10, 20, 30, 40, [100, 200, 400]]\n"
     ]
    }
   ],
   "source": [
    "l=[1,2,3,[1000000,20000000],[10,20,30,40,[100,200,400]]]\n",
    "print len(l)\n",
    "print l[4]"
   ]
  },
  {
   "cell_type": "code",
   "execution_count": 77,
   "metadata": {},
   "outputs": [
    {
     "name": "stdout",
     "output_type": "stream",
     "text": [
      "5\n",
      "20\n"
     ]
    }
   ],
   "source": [
    "l=[1,2,3,[1000000,20000000],[10,20,30,40,[100,200,400]]]\n",
    "print len(l)\n",
    "print l[4][1]"
   ]
  },
  {
   "cell_type": "code",
   "execution_count": 78,
   "metadata": {},
   "outputs": [
    {
     "name": "stdout",
     "output_type": "stream",
     "text": [
      "5\n",
      "[100, 200, 400]\n"
     ]
    }
   ],
   "source": [
    "l=[1,2,3,[1000000,20000000],[10,20,30,40,[100,200,400]]]\n",
    "print len(l)\n",
    "print l[4][4]"
   ]
  },
  {
   "cell_type": "code",
   "execution_count": 79,
   "metadata": {},
   "outputs": [
    {
     "name": "stdout",
     "output_type": "stream",
     "text": [
      "5\n",
      "400\n"
     ]
    }
   ],
   "source": [
    "l=[1,2,3,[1000000,20000000],[10,20,30,40,[100,200,400]]]\n",
    "print len(l)\n",
    "print l[4][4][2]"
   ]
  },
  {
   "cell_type": "code",
   "execution_count": 81,
   "metadata": {},
   "outputs": [
    {
     "name": "stdout",
     "output_type": "stream",
     "text": [
      "6\n"
     ]
    },
    {
     "ename": "IndexError",
     "evalue": "list index out of range",
     "output_type": "error",
     "traceback": [
      "\u001b[0;31m---------------------------------------------------------------------------\u001b[0m",
      "\u001b[0;31mIndexError\u001b[0m                                Traceback (most recent call last)",
      "\u001b[0;32m<ipython-input-81-ebaa30002d78>\u001b[0m in \u001b[0;36m<module>\u001b[0;34m()\u001b[0m\n\u001b[1;32m      1\u001b[0m \u001b[0ml\u001b[0m\u001b[0;34m=\u001b[0m\u001b[0;34m[\u001b[0m\u001b[0;36m1\u001b[0m\u001b[0;34m,\u001b[0m\u001b[0;36m2\u001b[0m\u001b[0;34m,\u001b[0m\u001b[0;36m3\u001b[0m\u001b[0;34m,\u001b[0m\u001b[0;36m6\u001b[0m\u001b[0;34m,\u001b[0m\u001b[0;34m[\u001b[0m\u001b[0;36m1000000\u001b[0m\u001b[0;34m,\u001b[0m\u001b[0;36m20000000\u001b[0m\u001b[0;34m]\u001b[0m\u001b[0;34m,\u001b[0m\u001b[0;34m[\u001b[0m\u001b[0;36m10\u001b[0m\u001b[0;34m,\u001b[0m\u001b[0;36m20\u001b[0m\u001b[0;34m,\u001b[0m\u001b[0;36m30\u001b[0m\u001b[0;34m,\u001b[0m\u001b[0;36m40\u001b[0m\u001b[0;34m,\u001b[0m\u001b[0;34m[\u001b[0m\u001b[0;36m100\u001b[0m\u001b[0;34m,\u001b[0m\u001b[0;36m200\u001b[0m\u001b[0;34m,\u001b[0m\u001b[0;36m400\u001b[0m\u001b[0;34m]\u001b[0m\u001b[0;34m]\u001b[0m\u001b[0;34m]\u001b[0m\u001b[0;34m\u001b[0m\u001b[0m\n\u001b[1;32m      2\u001b[0m \u001b[0;32mprint\u001b[0m \u001b[0mlen\u001b[0m\u001b[0;34m(\u001b[0m\u001b[0ml\u001b[0m\u001b[0;34m)\u001b[0m\u001b[0;34m\u001b[0m\u001b[0m\n\u001b[0;32m----> 3\u001b[0;31m \u001b[0;32mprint\u001b[0m \u001b[0ml\u001b[0m\u001b[0;34m[\u001b[0m\u001b[0;36m4\u001b[0m\u001b[0;34m]\u001b[0m\u001b[0;34m[\u001b[0m\u001b[0;36m4\u001b[0m\u001b[0;34m]\u001b[0m\u001b[0;34m[\u001b[0m\u001b[0;36m2\u001b[0m\u001b[0;34m]\u001b[0m\u001b[0;34m\u001b[0m\u001b[0m\n\u001b[0m",
      "\u001b[0;31mIndexError\u001b[0m: list index out of range"
     ]
    }
   ],
   "source": [
    "l=[1,2,3,6,[1000000,20000000],[10,20,30,40,[100,200,400]]]\n",
    "print len(l)\n",
    "print l[4][4][2]"
   ]
  },
  {
   "cell_type": "code",
   "execution_count": 82,
   "metadata": {},
   "outputs": [
    {
     "name": "stdout",
     "output_type": "stream",
     "text": [
      "9\n",
      "[10, 20, 30, 40, [100, 200, 400]]\n"
     ]
    }
   ],
   "source": [
    "l=[1,2,3,6,8,4,10,[1000000,20000000],[10,20,30,40,[100,200,400]]]\n",
    "print len(l)\n",
    "print l[8]"
   ]
  },
  {
   "cell_type": "code",
   "execution_count": 83,
   "metadata": {},
   "outputs": [
    {
     "name": "stdout",
     "output_type": "stream",
     "text": [
      "9\n",
      "10\n"
     ]
    }
   ],
   "source": [
    "l=[1,2,3,6,8,4,10,[1000000,20000000],[10,20,30,40,[100,200,400]]]\n",
    "print len(l)\n",
    "print l[8][0]"
   ]
  },
  {
   "cell_type": "code",
   "execution_count": 85,
   "metadata": {},
   "outputs": [
    {
     "name": "stdout",
     "output_type": "stream",
     "text": [
      "9\n",
      "400\n"
     ]
    }
   ],
   "source": [
    "l=[1,2,3,6,8,4,10,[1000000,20000000],[10,20,30,40,[100,200,400]]]\n",
    "print len(l)\n",
    "print l[8][4][2]"
   ]
  },
  {
   "cell_type": "code",
   "execution_count": 86,
   "metadata": {},
   "outputs": [
    {
     "name": "stdout",
     "output_type": "stream",
     "text": [
      "9\n",
      "400\n"
     ]
    }
   ],
   "source": [
    "l=[1,2,3,6,8,4,10,[1000000,20000000],[10,20,30,40,[100,200,400]]]\n",
    "print len(l)\n",
    "print l[8][4][2]"
   ]
  },
  {
   "cell_type": "code",
   "execution_count": 87,
   "metadata": {},
   "outputs": [
    {
     "name": "stdout",
     "output_type": "stream",
     "text": [
      "dharani\n",
      "nagesh\n",
      "sruthin\n",
      "manasa\n",
      "harish\n",
      "samba\n"
     ]
    }
   ],
   "source": [
    "l=[\"dharani\",\"nagesh\",\"sruthin\",\"manasa\",\"harish\",\"samba\"]\n",
    "for i in l:\n",
    "    print i"
   ]
  },
  {
   "cell_type": "code",
   "execution_count": 52,
   "metadata": {},
   "outputs": [
    {
     "data": {
      "text/plain": [
       "False"
      ]
     },
     "execution_count": 52,
     "metadata": {},
     "output_type": "execute_result"
    }
   ],
   "source": [
    "l=[\"dharani\",\"nagesh\",\"sruthin\",\"manasa\",\"harish\",\"samba\"]\n",
    "\"harish\"==l"
   ]
  },
  {
   "cell_type": "code",
   "execution_count": 53,
   "metadata": {},
   "outputs": [
    {
     "data": {
      "text/plain": [
       "True"
      ]
     },
     "execution_count": 53,
     "metadata": {},
     "output_type": "execute_result"
    }
   ],
   "source": [
    "l=[\"dharani\",\"nagesh\",\"sruthin\",\"manasa\",\"harish\",\"samba\"]\n",
    "\"harish\"in l"
   ]
  },
  {
   "cell_type": "code",
   "execution_count": 88,
   "metadata": {},
   "outputs": [
    {
     "name": "stdout",
     "output_type": "stream",
     "text": [
      "given string is not in lisr\n",
      "given string is not in lisr\n",
      "given string is not in lisr\n",
      "given string is not in lisr\n",
      "given string is not in lisr\n",
      "given string is not in lisr\n"
     ]
    }
   ],
   "source": [
    "l=[\"dharani\",\"nagesh\",\"sruthin\",\"manasa\",\"harish\",\"samba\"]\n",
    "for i in l:\n",
    "    if l==\"harish\":\n",
    "        print \"given string is in list\"\n",
    "    else:\n",
    "        print \"given string is not in lisr\""
   ]
  },
  {
   "cell_type": "code",
   "execution_count": 89,
   "metadata": {},
   "outputs": [
    {
     "data": {
      "text/plain": [
       "True"
      ]
     },
     "execution_count": 89,
     "metadata": {},
     "output_type": "execute_result"
    }
   ],
   "source": [
    "\"harish\"==\"harish\"\n",
    "\"dharani\"==\"dharani\"\n",
    "\"samba\"==\"samba\"\n",
    "\"nagesh\"==\"nagesh\""
   ]
  },
  {
   "cell_type": "code",
   "execution_count": 90,
   "metadata": {},
   "outputs": [
    {
     "data": {
      "text/plain": [
       "False"
      ]
     },
     "execution_count": 90,
     "metadata": {},
     "output_type": "execute_result"
    }
   ],
   "source": [
    "\"harish\"==\"ajay\""
   ]
  },
  {
   "cell_type": "code",
   "execution_count": 91,
   "metadata": {},
   "outputs": [
    {
     "name": "stdout",
     "output_type": "stream",
     "text": [
      "enter string to search:harish\n",
      "the given name is not in list\n",
      "the given name is not in list\n",
      "the given name is not in list\n",
      "the given name is not in list\n",
      "the given name is in list\n",
      "the given name is not in list\n"
     ]
    }
   ],
   "source": [
    "l=[\"dharani\",\"nagesh\",\"sruthin\",\"manasa\",\"harish\",\"samba\"]\n",
    "name=raw_input(\"enter string to search:\")\n",
    "for i in l:\n",
    "    if i==name:\n",
    "        print \"the given name is in list\"\n",
    "    else:\n",
    "        print\"the given name is not in list\""
   ]
  },
  {
   "cell_type": "code",
   "execution_count": 92,
   "metadata": {},
   "outputs": [
    {
     "name": "stdout",
     "output_type": "stream",
     "text": [
      "['dharani', 'nagesh', 'sruthin', 'manasa', 'harish', 'samba']\n"
     ]
    }
   ],
   "source": [
    "l=[\"dharani\",\"nagesh\",\"sruthin\",\"manasa\",\"harish\",\"samba\"]\n",
    "print l[0:6]"
   ]
  },
  {
   "cell_type": "code",
   "execution_count": 3,
   "metadata": {},
   "outputs": [
    {
     "name": "stdout",
     "output_type": "stream",
     "text": [
      "enter string to search:harish\n"
     ]
    },
    {
     "ename": "SyntaxError",
     "evalue": "'return' outside function (<ipython-input-3-3d497e92a9dd>, line 10)",
     "output_type": "error",
     "traceback": [
      "\u001b[0;36m  File \u001b[0;32m\"<ipython-input-3-3d497e92a9dd>\"\u001b[0;36m, line \u001b[0;32m10\u001b[0m\n\u001b[0;31m    return\u001b[0m\n\u001b[0;31mSyntaxError\u001b[0m\u001b[0;31m:\u001b[0m 'return' outside function\n"
     ]
    }
   ],
   "source": [
    "l=[\"dharani\",\"nagesh\",\"sruthin\",\"manasa\",\"harish\",\"samba\"]\n",
    "name=raw_input(\"enter string to search:\")\n",
    "for i in l:\n",
    "     while l[o:6]:\n",
    "        if i==name:\n",
    "            print \"the given name is in list\"\n",
    "    \n",
    "        else:\n",
    "             print\"the given name is not in list\"\n",
    "        return"
   ]
  },
  {
   "cell_type": "code",
   "execution_count": 7,
   "metadata": {},
   "outputs": [
    {
     "ename": "SyntaxError",
     "evalue": "invalid syntax (<ipython-input-7-0b6aecc63b93>, line 8)",
     "output_type": "error",
     "traceback": [
      "\u001b[0;36m  File \u001b[0;32m\"<ipython-input-7-0b6aecc63b93>\"\u001b[0;36m, line \u001b[0;32m8\u001b[0m\n\u001b[0;31m    else:\u001b[0m\n\u001b[0m       ^\u001b[0m\n\u001b[0;31mSyntaxError\u001b[0m\u001b[0;31m:\u001b[0m invalid syntax\n"
     ]
    }
   ],
   "source": [
    "l=[\"dharani\",\"nagesh\",\"sruthin\",\"manasa\",\"harish\",\"samba\"]\n",
    "name=raw_input(\"enter string to search:\")\n",
    "for i in l:\n",
    "     while l[o:6]:\n",
    "        if i==name:\n",
    "            print \"the given name is in list\"\n",
    "        return\n",
    "        else:\n",
    "             print\"the given name is not in list\"\n",
    "        "
   ]
  },
  {
   "cell_type": "code",
   "execution_count": 13,
   "metadata": {},
   "outputs": [
    {
     "name": "stdout",
     "output_type": "stream",
     "text": [
      "enter string to search:harish\n",
      "the given name is not in list\n",
      "the given name is not in list\n",
      "the given name is not in list\n",
      "the given name is not in list\n",
      "the given name is not in list\n",
      "the given name is not in list\n"
     ]
    }
   ],
   "source": [
    "l=[\"dharani\",\"nagesh\",\"sruthin\",\"manasa\",\"harish\",\"samba\"]\n",
    "name=raw_input(\"enter string to search:\")\n",
    "for i in l[0:6]:\n",
    "        if i==l:\n",
    "            print \"the given name is in list\"\n",
    "        \n",
    "        else:\n",
    "             print\"the given name is not in list\"\n",
    "        "
   ]
  },
  {
   "cell_type": "code",
   "execution_count": 15,
   "metadata": {},
   "outputs": [
    {
     "name": "stdout",
     "output_type": "stream",
     "text": [
      "enter string to search:harish\n",
      "the given name is not in list\n"
     ]
    }
   ],
   "source": [
    "l=[\"dharani\",\"nagesh\",\"sruthin\",\"manasa\",\"harish\",\"samba\"]\n",
    "name=raw_input(\"enter string to search:\")\n",
    "for i in l[0:6]:\n",
    "        if i==l:\n",
    "            print \"the given name is in list\"\n",
    "            \n",
    "        else:\n",
    "             print\"the given name is not in list\"\n",
    "        break\n",
    "        "
   ]
  },
  {
   "cell_type": "code",
   "execution_count": 31,
   "metadata": {},
   "outputs": [
    {
     "name": "stdout",
     "output_type": "stream",
     "text": [
      "enter string to search:harish\n",
      "no string\n",
      "no string\n",
      "no string\n",
      "no string\n",
      "the given name is in list\n",
      "no string\n"
     ]
    }
   ],
   "source": [
    "l=[\"dharani\",\"nagesh\",\"sruthin\",\"manasa\",\"harish\",\"samba\"]\n",
    "name=raw_input(\"enter string to search:\")\n",
    "for i in l:\n",
    "    if i[0:6]==name:\n",
    "        print \"the given name is in list\"\n",
    "    else:\n",
    "        print\"no string\"\n",
    " \n",
    "            \n",
    "\n",
    "        "
   ]
  },
  {
   "cell_type": "code",
   "execution_count": 39,
   "metadata": {},
   "outputs": [
    {
     "name": "stdout",
     "output_type": "stream",
     "text": [
      "enter string to search:harish\n",
      "the given name is not in  string\n"
     ]
    }
   ],
   "source": [
    "l=[\"dharani\",\"nagesh\",\"sruthin\",\"manasa\",\"harish\",\"samba\"]\n",
    "name=raw_input(\"enter string to search:\")\n",
    "for i in l:\n",
    "    if i[0:6]==name:\n",
    "        print \"the given name is in list\"\n",
    "    else:\n",
    "        print\"the given name is not in  string\"\n",
    " \n",
    "    break\n",
    "    "
   ]
  },
  {
   "cell_type": "code",
   "execution_count": 55,
   "metadata": {},
   "outputs": [
    {
     "name": "stdout",
     "output_type": "stream",
     "text": [
      "enter string to search: harish\n",
      "the given name is in list\n"
     ]
    }
   ],
   "source": [
    "l=[\"dharani\",\"nagesh\",\"sruthin\",\"manasa\",\"harish\",\"samba\"]\n",
    "name=raw_input(\"enter string to search: \")\n",
    "for i in l:\n",
    "    if name in l:\n",
    "        print \"the given name is in list\"\n",
    "    else:\n",
    "        print\"the given name is not in  list\"\n",
    " \n",
    "    break\n",
    "    "
   ]
  },
  {
   "cell_type": "code",
   "execution_count": 54,
   "metadata": {},
   "outputs": [
    {
     "name": "stdout",
     "output_type": "stream",
     "text": [
      "enter string to search: kohli\n",
      "the given name is not in  list\n"
     ]
    }
   ],
   "source": [
    "l=[\"dharani\",\"nagesh\",\"sruthin\",\"manasa\",\"harish\",\"samba\"]\n",
    "name=raw_input(\"enter string to search: \")\n",
    "for i in l:\n",
    "    if name in l:\n",
    "        print \"the given name is in list\"\n",
    "    else:\n",
    "        print\"the given name is not in  list\"\n",
    " \n",
    "    break\n",
    "    "
   ]
  },
  {
   "cell_type": "code",
   "execution_count": 56,
   "metadata": {},
   "outputs": [
    {
     "name": "stdout",
     "output_type": "stream",
     "text": [
      "enter string to search: dharani\n",
      "the given name is in list\n"
     ]
    }
   ],
   "source": [
    "l=[\"dharani\",\"nagesh\",\"sruthin\",\"manasa\",\"harish\",\"samba\"]\n",
    "name=raw_input(\"enter string to search: \")\n",
    "for i in l:\n",
    "    if name in l:\n",
    "        print \"the given name is in list\"\n",
    "    else:\n",
    "        print\"the given name is not in  list\"\n",
    " \n",
    "    break\n",
    "    "
   ]
  },
  {
   "cell_type": "code",
   "execution_count": 57,
   "metadata": {},
   "outputs": [
    {
     "name": "stdout",
     "output_type": "stream",
     "text": [
      "enter string to search: dhoni\n",
      "the given name is not in  list\n"
     ]
    }
   ],
   "source": [
    "l=[\"dharani\",\"nagesh\",\"sruthin\",\"manasa\",\"harish\",\"samba\"]\n",
    "name=raw_input(\"enter string to search: \")\n",
    "for i in l:\n",
    "    if name in l:\n",
    "        print \"the given name is in list\"\n",
    "    else:\n",
    "        print\"the given name is not in  list\"\n",
    " \n",
    "    break\n",
    "    "
   ]
  },
  {
   "cell_type": "code",
   "execution_count": 59,
   "metadata": {},
   "outputs": [
    {
     "name": "stdout",
     "output_type": "stream",
     "text": [
      "enter string to search: harish\n",
      "the given name is in list\n"
     ]
    }
   ],
   "source": [
    "l=[\"dharani\",\"nagesh\",\"sruthin\",\"manasa\",\"harish\",\"samba\"]\n",
    "name=raw_input(\"enter string to search: \")\n",
    "for i in l:\n",
    "    if name in l:\n",
    "        print \"the given name is in list\"\n",
    "    else:\n",
    "        print\"the given name is not in  list\"\n",
    " \n",
    "    break\n",
    "    "
   ]
  },
  {
   "cell_type": "code",
   "execution_count": 60,
   "metadata": {},
   "outputs": [
    {
     "name": "stdout",
     "output_type": "stream",
     "text": [
      "enter string to search: kohli\n",
      "the given name is not in  list\n"
     ]
    }
   ],
   "source": [
    "l=[\"dharani\",\"nagesh\",\"sruthin\",\"manasa\",\"harish\",\"samba\"]\n",
    "name=raw_input(\"enter string to search: \")\n",
    "for i in l:\n",
    "    if name in l:\n",
    "        print \"the given name is in list\"\n",
    "    else:\n",
    "        print\"the given name is not in  list\"\n",
    " \n",
    "    break\n",
    "    "
   ]
  },
  {
   "cell_type": "code",
   "execution_count": null,
   "metadata": {},
   "outputs": [],
   "source": []
  }
 ],
 "metadata": {
  "kernelspec": {
   "display_name": "Python 2",
   "language": "python",
   "name": "python2"
  },
  "language_info": {
   "codemirror_mode": {
    "name": "ipython",
    "version": 2
   },
   "file_extension": ".py",
   "mimetype": "text/x-python",
   "name": "python",
   "nbconvert_exporter": "python",
   "pygments_lexer": "ipython2",
   "version": "2.7.15rc1"
  }
 },
 "nbformat": 4,
 "nbformat_minor": 2
}
