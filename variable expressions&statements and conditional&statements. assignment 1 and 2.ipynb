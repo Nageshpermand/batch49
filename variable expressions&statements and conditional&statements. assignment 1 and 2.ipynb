{
 "cells": [
  {
   "cell_type": "code",
   "execution_count": null,
   "metadata": {},
   "outputs": [],
   "source": [
    "# asiignments for variable expressions and statements:"
   ]
  },
  {
   "cell_type": "code",
   "execution_count": 7,
   "metadata": {},
   "outputs": [
    {
     "name": "stdout",
     "output_type": "stream",
     "text": [
      "enter the total number of people: 100\n",
      "enter the total number of buses: 2\n",
      "enter the total number of seats for bus: 50\n",
      "there is sufficient bus seats for people\n",
      "thank you\n"
     ]
    }
   ],
   "source": [
    "\"\"\" 1. Take the input from the user for(Total number of people, total number of buses, Number of seats for bus, adjust factor). Based on four inputs\n",
    "Decide whether there is sufficient buses or not and give solution for how many extra buses required.\"\"\"\n",
    "a = int(raw_input(\"enter the total number of people: \"))\n",
    "b = int(raw_input(\"enter the total number of buses: \"))\n",
    "c = int(raw_input(\"enter the total number of seats for bus: \"))\n",
    "d =(c*b)\n",
    "if a==d:\n",
    "    print \"there is sufficient bus seats for people\"\n",
    "elif a!=d:\n",
    "    print \"there is not sufficient bus seats for people\"\n",
    "print \"thank you\"\n",
    "\n"
   ]
  },
  {
   "cell_type": "code",
   "execution_count": 3,
   "metadata": {},
   "outputs": [
    {
     "name": "stdout",
     "output_type": "stream",
     "text": [
      "enter a forenheit value: 90\n",
      "the forenheit value is:  90 converted into celius:  32.2222222222\n"
     ]
    }
   ],
   "source": [
    "\"\"\" 2. take temperature from the user and convert foreign heat -> Celsius.\"\"\"\n",
    "forenheit = int(raw_input('enter a forenheit value: '))\n",
    "celsius = (forenheit-32)/1.8\n",
    "print\"the forenheit value is: \",forenheit,\"converted into celius: \",celsius\n"
   ]
  },
  {
   "cell_type": "code",
   "execution_count": 2,
   "metadata": {},
   "outputs": [
    {
     "name": "stdout",
     "output_type": "stream",
     "text": [
      "enter a value in celsius: 120\n",
      "the celsius value is:  120 converted in to forenheit:  248.0\n"
     ]
    }
   ],
   "source": [
    "\"\"\" 3. take temperature from the user and convert Celsius → foreign heat.\"\"\"\n",
    "celsius = int(raw_input(\"enter a value in celsius: \"))\n",
    "forenheit = (celsius*1.8)+32\n",
    "print\"the celsius value is: \",celsius,\"converted in to forenheit: \",forenheit"
   ]
  },
  {
   "cell_type": "code",
   "execution_count": 4,
   "metadata": {},
   "outputs": [
    {
     "name": "stdout",
     "output_type": "stream",
     "text": [
      "enter a value: 10\n",
      "enter b value: 20\n",
      "enter c value: 30\n",
      "enter d value: 40\n",
      "enter m value: 1.23\n",
      "enter b value: 0.045\n",
      "********************\n",
      "y= 98.50035\n"
     ]
    }
   ],
   "source": [
    "\"\"\" 4.  ake four number from the user\n",
    " Do the below operations\n",
    " (a+b)**2, (c+d)**3\n",
    "variance\n",
    "standard deviation: sqrt(variance):  User math module. Math.sqrt(variance)\n",
    "Regression\n",
    "\ty=mx+b\n",
    "          All a,b,c,d are consider as (x1,x2,x3,x4)\n",
    "          m=1.23\n",
    "          b=0.045\n",
    "          find out y\n",
    "          y=m*(x1+x2+x3+x4)+b\n",
    " Find the average of four numbers\n",
    "Find the sum of four numbers\"\"\"\n",
    "import math\n",
    "a = int(raw_input('enter a value: '))\n",
    "b = int(raw_input('enter b value: '))\n",
    "c = int(raw_input('enter c value: '))\n",
    "d = int(raw_input('enter d value: '))\n",
    "m = float(raw_input(\"enter m value: \"))\n",
    "b = float(raw_input(\"enter b value: \"))\n",
    "e = (a+b)**2\n",
    "f = (c+d)**2\n",
    "g = e - f\n",
    "h = g**2\n",
    "print\"*\"*20\n",
    "#y = mx+b:\n",
    "x_1 = a\n",
    "x_2=b\n",
    "x_3=c\n",
    "x_4=d\n",
    "if (x_1 == a)and(x_2 == b)and(x_3==c)and(x_4==d):\n",
    "      print \"y=\",m*(x_1+x_2+x_3+x_4)+b\n",
    "else:\n",
    "      print \"wrong inputs are enterd\"\n",
    "\n",
    "\n"
   ]
  },
  {
   "cell_type": "code",
   "execution_count": 7,
   "metadata": {},
   "outputs": [
    {
     "name": "stdout",
     "output_type": "stream",
     "text": [
      "kilometer value: 2\n",
      "enter a conversation factor is always constant: 0.621371\n",
      " kilometer value is : 2.0 , is converted into miles:  1.242742\n"
     ]
    }
   ],
   "source": [
    "\"\"\" 5. Take the distance in km\n",
    "    \tShow that in cm, meters, in milli meters, cents, feets\"\"\"\n",
    "kilometers = float(raw_input(\"kilometer value: \"))\n",
    "convertion_factor=float(raw_input(\"enter a conversation factor is always constant: \"))\n",
    "miles = kilometers*convertion_factor\n",
    "print\"kilometer value is :\",kilometers,\", is converted into miles: \",miles"
   ]
  },
  {
   "cell_type": "code",
   "execution_count": 8,
   "metadata": {},
   "outputs": [
    {
     "name": "stdout",
     "output_type": "stream",
     "text": [
      "kilometer value: 4\n",
      "kilometer value is : 4.0 , is converted into miles:  2.485484\n"
     ]
    }
   ],
   "source": [
    "kilometers = float(raw_input(\"kilometer value: \"))\n",
    "miles = kilometers*0.621371\n",
    "print\"kilometer value is :\",kilometers,\", is converted into miles: \",miles"
   ]
  },
  {
   "cell_type": "code",
   "execution_count": 11,
   "metadata": {},
   "outputs": [
    {
     "name": "stdout",
     "output_type": "stream",
     "text": [
      "kilometer value: 4\n",
      "the kilometer values is: 4.0 , in feets:  13123.36\n"
     ]
    }
   ],
   "source": [
    "#kilometers to feets:\n",
    "kilometers = float(raw_input(\"kilometer value: \"))\n",
    "feets = kilometers*3280.84\n",
    "print \"the kilometer values is:\",kilometers,\", in feets: \",feets"
   ]
  },
  {
   "cell_type": "code",
   "execution_count": 12,
   "metadata": {},
   "outputs": [
    {
     "name": "stdout",
     "output_type": "stream",
     "text": [
      "kilometer value: 8\n",
      "the kilometer value is :  8.0 , in centimeters : 800000.0\n"
     ]
    }
   ],
   "source": [
    "#kilometers to centimeters:\n",
    "kilometers = float(raw_input(\"kilometer value: \"))\n",
    "centimeters = kilometers*100000\n",
    "print \"the kilometer value is : \",kilometers,\", in centimeters :\",centimeters"
   ]
  },
  {
   "cell_type": "code",
   "execution_count": 15,
   "metadata": {},
   "outputs": [
    {
     "name": "stdout",
     "output_type": "stream",
     "text": [
      "enter a value in GB value: 4\n",
      "a GB_value is :  4 , into MB value:  4000\n"
     ]
    }
   ],
   "source": [
    "\"\"\" 6. Take the size of your hard disk in GB\n",
    "     \tShow that in MB, KB, TB, PB\"\"\"\n",
    "GB = int(raw_input(\"enter a value in GB value: \"))\n",
    "MB = GB*1000\n",
    "print\"a GB_value is : \",GB,\", into MB value: \",MB"
   ]
  },
  {
   "cell_type": "code",
   "execution_count": 16,
   "metadata": {},
   "outputs": [
    {
     "name": "stdout",
     "output_type": "stream",
     "text": [
      "enter a value in GB value: 8\n",
      "the gb value is: 8 , is in kb value:  8000000\n"
     ]
    }
   ],
   "source": [
    "# gb into kilobyte:\n",
    "GB = int(raw_input(\"enter a value in GB value: \"))\n",
    "KB = GB*1000000\n",
    "print\"the gb value is:\",GB,\", is in kb value: \",KB"
   ]
  },
  {
   "cell_type": "code",
   "execution_count": 17,
   "metadata": {},
   "outputs": [
    {
     "name": "stdout",
     "output_type": "stream",
     "text": [
      "enter a value in GB value: 4\n",
      "the gb value is : 4 , in kb value:  0.004\n"
     ]
    }
   ],
   "source": [
    "#gb into terabyte:\n",
    "GB = int(raw_input(\"enter a value in GB value: \"))\n",
    "TB = GB*0.001\n",
    "print\"the gb value is :\",GB,\", in kb value: \",TB"
   ]
  },
  {
   "cell_type": "code",
   "execution_count": 18,
   "metadata": {},
   "outputs": [
    {
     "name": "stdout",
     "output_type": "stream",
     "text": [
      "enter a value in GB value: 8\n",
      "the gb value is : 8 , in pb value:  8e-06\n"
     ]
    }
   ],
   "source": [
    "#gb into PETAbyte:\n",
    "GB = int(raw_input(\"enter a value in GB value: \"))\n",
    "PB = GB*1e-6\n",
    "print\"the gb value is :\",GB,\", in pb value: \",PB"
   ]
  },
  {
   "cell_type": "code",
   "execution_count": 20,
   "metadata": {},
   "outputs": [
    {
     "name": "stdout",
     "output_type": "stream",
     "text": [
      "enter a name:ramesh\n",
      "enter a age:20\n",
      "enter a height:4.8\n",
      "The details of the person:  name: ramesh ,    age: 20 ,   height: 4.8\n"
     ]
    }
   ],
   "source": [
    "\"\"\" 7. Take name, age, height from the user and print like below\n",
    "The details of the person: Name:name of the person, Age:age of the person, Height:height of the person\n",
    "Note: make sure that no space between : and a value and should be space after “COMA” \"\"\"\n",
    "name=str(raw_input(\"enter a name:\"))\n",
    "age=int(raw_input(\"enter a age:\"))\n",
    "height=float(raw_input(\"enter a height:\"))\n",
    "print\"The details of the person:  name:\",name,\",    age:\",age,\",   height:\",height"
   ]
  },
  {
   "cell_type": "code",
   "execution_count": 22,
   "metadata": {},
   "outputs": [
    {
     "name": "stdout",
     "output_type": "stream",
     "text": [
      "the person details are\n",
      "enter the person weight:60\n",
      "enter the person height in meters:4.8\n",
      "the person weight is: 60 , and height is: 4.8 , the body mass index value is: 2.60416666667\n"
     ]
    }
   ],
   "source": [
    "\"\"\" 8. BMI calculation: take required parameters for BMI calculation from the user and calculate BMI of the person.\"\"\"\n",
    "print \"the person details are\"\n",
    "weight=int(raw_input(\"enter the person weight:\"))\n",
    "height=float(raw_input(\"enter the person height in meters:\"))\n",
    "BMI=weight/(height)**2\n",
    "print\"the person weight is:\",weight,\", and height is:\",height,\", the body mass index value is:\",BMI"
   ]
  },
  {
   "cell_type": "code",
   "execution_count": 26,
   "metadata": {},
   "outputs": [
    {
     "name": "stdout",
     "output_type": "stream",
     "text": [
      "the person details are:\n",
      "enter the name of the person:mahesh\n",
      "enter age of the person:1.6\n",
      "enter the height of the ferson in feets:3.54\n",
      "enter the weight of the person:10.344\n",
      "name:mahesh ,  age:1.600000 ,  height:3 ,  weight:10.344000\n"
     ]
    }
   ],
   "source": [
    "\"\"\" 9.  name=\"Jayaram\"\n",
    "age=1.6\n",
    "height=3.5356234\n",
    "weight=10.343856783\n",
    "By using above inputs print the output\n",
    "Name:Jayaram, Age:1.6, Height:3.54, Weight:10.344\n",
    "Note: Use format specifiers(%s, %d, %f)\"\"\"\n",
    "print \"the person details are:\"\n",
    "name=str(raw_input(\"enter the name of the person:\"))\n",
    "age = float(raw_input(\"enter age of the person:\"))\n",
    "height= float(raw_input(\"enter the height of the ferson in feets:\"))\n",
    "weight=float(raw_input(\"enter the weight of the person:\"))\n",
    "print\"name:%s\"%name,\",  age:%f\"%age,\",  height:%d\"%height,\",  weight:%f\"%weight"
   ]
  },
  {
   "cell_type": "code",
   "execution_count": 30,
   "metadata": {},
   "outputs": [
    {
     "name": "stdout",
     "output_type": "stream",
     "text": [
      "HYDERABAD\n"
     ]
    }
   ],
   "source": [
    "\"\"\" 10. Take three small case letters from the user convert in to uppercase.\"\"\"\n",
    "\n",
    "a = \"hyderabad\"\n",
    "\n",
    "print a.upper()"
   ]
  },
  {
   "cell_type": "code",
   "execution_count": 31,
   "metadata": {},
   "outputs": [
    {
     "name": "stdout",
     "output_type": "stream",
     "text": [
      "hyderabad\n"
     ]
    }
   ],
   "source": [
    "# uppeercase into lowercase:\n",
    "b=\"HYDERABAD\"\n",
    "print a.lower()"
   ]
  },
  {
   "cell_type": "code",
   "execution_count": 11,
   "metadata": {},
   "outputs": [
    {
     "name": "stdout",
     "output_type": "stream",
     "text": [
      "enter the total number of people: 100\n",
      "enter the total number of buses: 1\n",
      "enter the total number of seats for bus: 40\n",
      "there is not sufficient bus seats for people\n",
      "thank you\n"
     ]
    }
   ],
   "source": [
    "\"\"\" 11.  Take the input from the user for(Total number of people, total number of buses, Number of seats for bus, adjust factor). Based on four inputs\n",
    "Decide whether there is sufficient buses or not and give solution for how many extra buses required.\"\"\"\n",
    "a = int(raw_input(\"enter the total number of people: \"))\n",
    "b = int(raw_input(\"enter the total number of buses: \"))\n",
    "c = int(raw_input(\"enter the total number of seats for bus: \"))\n",
    "d =(c*b)\n",
    "if a==d:\n",
    "    print \"there is sufficient bus seats for people\"\n",
    "else:\n",
    "    print \"there is not sufficient bus seats for people\"\n",
    "print \"thank you\"\n",
    "\n"
   ]
  },
  {
   "cell_type": "code",
   "execution_count": 14,
   "metadata": {},
   "outputs": [
    {
     "name": "stdout",
     "output_type": "stream",
     "text": [
      "enter a value:4\n",
      " a  is even \n"
     ]
    }
   ],
   "source": [
    "\"\"\" 12. Take number from the user decide whether it is even or odd.\"\"\"\n",
    "a = int(input('enter a value:'))\n",
    "if (a%2) == 0:\n",
    "    print \" a  is even \"\n",
    "else:\n",
    "    print \" a is odd \""
   ]
  },
  {
   "cell_type": "code",
   "execution_count": 15,
   "metadata": {},
   "outputs": [
    {
     "name": "stdout",
     "output_type": "stream",
     "text": [
      "enter a value:23\n",
      " a is odd \n"
     ]
    }
   ],
   "source": [
    "a = int(input('enter a value:'))\n",
    "if (a%2) == 0:\n",
    "    print \" a  is even \"\n",
    "else:\n",
    "    print \" a is odd \""
   ]
  },
  {
   "cell_type": "code",
   "execution_count": 16,
   "metadata": {},
   "outputs": [
    {
     "name": "stdout",
     "output_type": "stream",
     "text": [
      "enter a value:2\n",
      " a is odd \n"
     ]
    }
   ],
   "source": [
    "a = int(input('enter a value:'))\n",
    "if (a%2) != 0:\n",
    "    print \" a  is even \"\n",
    "else:\n",
    "    print \" a is odd \"        # if we using  wrong formula"
   ]
  },
  {
   "cell_type": "code",
   "execution_count": 17,
   "metadata": {},
   "outputs": [
    {
     "name": "stdout",
     "output_type": "stream",
     "text": [
      "enter a value:40\n",
      " a  is even \n"
     ]
    }
   ],
   "source": [
    "a = int(input('enter a value:'))\n",
    "if a%2 == 0:\n",
    "    print \" a  is even \"\n",
    "else:\n",
    "    print \" a is odd \""
   ]
  },
  {
   "cell_type": "code",
   "execution_count": 18,
   "metadata": {},
   "outputs": [
    {
     "name": "stdout",
     "output_type": "stream",
     "text": [
      "enter a number: 2\n",
      "number is positive \n"
     ]
    }
   ],
   "source": [
    "\"\"\" 13. take number from the user decide whether it is positive number or negative number\"\"\"\n",
    "a = int(raw_input(\"enter a number: \"))\n",
    "if a>0:\n",
    "    print \"number is positive \"\n",
    "else:\n",
    "    print \"number is negetive\""
   ]
  },
  {
   "cell_type": "code",
   "execution_count": 19,
   "metadata": {},
   "outputs": [
    {
     "name": "stdout",
     "output_type": "stream",
     "text": [
      "enter a number: 4\n",
      "number is negetive\n"
     ]
    }
   ],
   "source": [
    "a = int(raw_input(\"enter a number: \"))\n",
    "if a<0:\n",
    "    print \"number is positive \"\n",
    "else:\n",
    "    print \"number is negetive\""
   ]
  },
  {
   "cell_type": "code",
   "execution_count": 20,
   "metadata": {},
   "outputs": [
    {
     "name": "stdout",
     "output_type": "stream",
     "text": [
      "6\n"
     ]
    }
   ],
   "source": [
    "\"\"\"  14. take a string from the user print the length. if the user not given anything then show an error message\"\"\"\n",
    "a = \"mahesh\"\n",
    "print len(a)"
   ]
  },
  {
   "cell_type": "code",
   "execution_count": 22,
   "metadata": {},
   "outputs": [
    {
     "name": "stdout",
     "output_type": "stream",
     "text": [
      "1\n"
     ]
    }
   ],
   "source": [
    "a = \" \"\n",
    "print len(a)"
   ]
  },
  {
   "cell_type": "code",
   "execution_count": 23,
   "metadata": {},
   "outputs": [
    {
     "name": "stdout",
     "output_type": "stream",
     "text": [
      "60\n",
      "-20\n",
      "800\n",
      "0\n"
     ]
    }
   ],
   "source": [
    "\"\"\" 15.to perform mathematical operations. take two numbers from the user: 1. add, 2. sub, 3. mul, 4.div, 5.quit\"\"\"\n",
    "a = 20\n",
    "b = 40\n",
    "print a+b\n",
    "print a-b\n",
    "print a*b\n",
    "print a/b"
   ]
  },
  {
   "cell_type": "code",
   "execution_count": 19,
   "metadata": {},
   "outputs": [
    {
     "name": "stdout",
     "output_type": "stream",
     "text": [
      "show the menu:\n",
      "\t1. kids\n",
      "\t2. men's\n",
      "\t3. women's\n",
      "enter the kids numbers: 2\n",
      "enter the men's numbers: 4\n",
      "enter the girl's numbers: 2\n",
      "kids\n",
      "mention  error message\n",
      "mention  error message\n"
     ]
    }
   ],
   "source": [
    "\"\"\" 16.    show the menu:\n",
    "   \t\t 1. kids\n",
    "    \t\t2. Men's\n",
    "   \t\t 3. Women's\n",
    "    Show the corresponding message based on the selection. Mention error message if he enter >3.\"\"\"\n",
    "print \"show the menu:\\n\\t1. kids\\n\\t2. men's\\n\\t3. women's\"\n",
    "a = int(input(\"enter the kids numbers: \"))\n",
    "b = int(input(\"enter the men's numbers: \"))\n",
    "c = int(input(\"enter the girl's numbers: \"))\n",
    "if a<=3:\n",
    "    print \"kids\"\n",
    "else:\n",
    "    print \"mention  error message\"\n",
    "if b<=3:\n",
    "    print \"\\tmen's\"\n",
    "else:\n",
    "    print \"mention  error message\"\n",
    "if b<=3:\n",
    "    print \"women's\"\n",
    "else:\n",
    "    print \"mention  error message\"\n",
    "    "
   ]
  },
  {
   "cell_type": "code",
   "execution_count": 9,
   "metadata": {},
   "outputs": [
    {
     "name": "stdout",
     "output_type": "stream",
     "text": [
      "enter the string name: hyderabad\n",
      "enter the substring letter: d\n",
      "substring is not present in string\n"
     ]
    }
   ],
   "source": [
    "\"\"\"  17.write a program to chek given substring is there in actual string or not? (search should be case insensitive)\"\"\"\n",
    "string = raw_input(\"enter the string name: \")\n",
    "sub_string = raw_input(\"enter the substring letter: \")\n",
    "if (string.find(sub_string)==-1):\n",
    "    print \"substring present in string\"\n",
    "else: \n",
    "    print \"substring is not present in string\"\n"
   ]
  },
  {
   "cell_type": "code",
   "execution_count": 10,
   "metadata": {},
   "outputs": [
    {
     "name": "stdout",
     "output_type": "stream",
     "text": [
      "enter the string name: hyderabad\n",
      "enter the substring letter: d\n",
      "substring is  present in string\n"
     ]
    }
   ],
   "source": [
    "string = raw_input(\"enter the string name: \")\n",
    "sub_string = raw_input(\"enter the substring letter: \")\n",
    "if (string.find(sub_string)==-1):\n",
    "    print \"substring present not in string\"\n",
    "else: \n",
    "    print \"substring is  present in string\""
   ]
  },
  {
   "cell_type": "code",
   "execution_count": 13,
   "metadata": {},
   "outputs": [
    {
     "name": "stdout",
     "output_type": "stream",
     "text": [
      "enter the string name: kohli\n",
      "enter the substring letter: h\n",
      "substring is  present in string\n"
     ]
    }
   ],
   "source": [
    "string = raw_input(\"enter the string name: \")\n",
    "sub_string = raw_input(\"enter the substring letter: \")\n",
    "if (string.find(sub_string)==-1):\n",
    "    print \"substring not present in string\"\n",
    "else: \n",
    "    print \"substring is  present in string\""
   ]
  },
  {
   "cell_type": "code",
   "execution_count": 14,
   "metadata": {},
   "outputs": [
    {
     "name": "stdout",
     "output_type": "stream",
     "text": [
      "14\n"
     ]
    }
   ],
   "source": [
    "\"\"\" 18.Take three numbers from the user and decide which is big\"\"\"\n",
    "num_1 = 10\n",
    "num_2 = 12\n",
    "num_3 = 14\n",
    "if (num_1>num_2) and (num_1>num_3):\n",
    "    print num_1\n",
    "elif (num_2>num_1)and(num_2>num_3):\n",
    "    print num_2\n",
    "else:\n",
    "    print num_3"
   ]
  },
  {
   "cell_type": "code",
   "execution_count": 15,
   "metadata": {},
   "outputs": [
    {
     "name": "stdout",
     "output_type": "stream",
     "text": [
      "14\n"
     ]
    }
   ],
   "source": [
    "num_1 = 10\n",
    "num_2 = 12\n",
    "num_3 = 14\n",
    "if (num_1>num_2) and (num_1>num_3):\n",
    "    print num_1\n",
    "elif (num_2>num_1)and(num_2>num_3):\n",
    "    print num_2\n",
    "elif (num_3>num_1)and(num_3>num_2):\n",
    "    print num_3"
   ]
  },
  {
   "cell_type": "code",
   "execution_count": 19,
   "metadata": {},
   "outputs": [
    {
     "name": "stdout",
     "output_type": "stream",
     "text": [
      "enter a number: 2\n",
      "enter a number: 10.4\n",
      "enter a number: 8.2\n",
      "Big number is : \n",
      "10.4\n"
     ]
    }
   ],
   "source": [
    "a = int(raw_input('enter a number: '))\n",
    "b = float(raw_input('enter a number: '))\n",
    "c = float(raw_input('enter a number: '))\n",
    "print \"Big number is : \"\n",
    "if (a>b)and(a>c):\n",
    "    print c\n",
    "elif (b>c)and(b>a):\n",
    "    print b\n",
    "else:\n",
    "    print c\n"
   ]
  },
  {
   "cell_type": "code",
   "execution_count": 2,
   "metadata": {},
   "outputs": [
    {
     "name": "stdout",
     "output_type": "stream",
     "text": [
      "The person age: 26\n",
      "the person gender:male\n",
      "The person eligible for marriege in india \n"
     ]
    }
   ],
   "source": [
    "\"\"\"  19.     Take age and gender from the user and decide whether he is eligible for marriage in India or not. \n",
    "Age criteria: men age>22, women>18 \"\"\"\n",
    "age = int(input(\"The person age: \"))\n",
    "gender = str(raw_input(\"the person gender:\"))\n",
    "if age>=22:\n",
    "    print \"The person eligible for marriege in india \"\n",
    "else:\n",
    "    print \"The person not eligible for marriege in india\""
   ]
  },
  {
   "cell_type": "code",
   "execution_count": null,
   "metadata": {},
   "outputs": [],
   "source": [
    "age = int(input(\"The person age: \"))\n",
    "gender = str(raw_input(\"the person gender:\"))\n",
    "if age>=22:\n",
    "    print \"The person eligible for marriege in india \"\n",
    "else:\n",
    "    print \"The person not eligible for marriege in india\""
   ]
  },
  {
   "cell_type": "code",
   "execution_count": 1,
   "metadata": {},
   "outputs": [
    {
     "name": "stdout",
     "output_type": "stream",
     "text": [
      "The person age: 20\n",
      "the person gender:male\n",
      "The person not eligible for marriege in india\n"
     ]
    }
   ],
   "source": [
    "age = int(input(\"The person age: \"))\n",
    "gender = str(raw_input(\"the person gender:\"))\n",
    "if age>=22:\n",
    "    print \"The person eligible for marriege in india \"\n",
    "else:\n",
    "    print \"The person not eligible for marriege in india\"\n",
    "    "
   ]
  },
  {
   "cell_type": "code",
   "execution_count": 2,
   "metadata": {},
   "outputs": [
    {
     "name": "stdout",
     "output_type": "stream",
     "text": [
      "The person age: 24\n",
      "the person gender:male\n",
      "The person eligible for marriege in india \n"
     ]
    }
   ],
   "source": [
    "age = int(input(\"The person age: \"))\n",
    "gender = str(raw_input(\"the person gender:\"))\n",
    "if age>=22:\n",
    "    print \"The person eligible for marriege in india \"\n",
    "else:\n",
    "    print \"The person not eligible for marriege in india\""
   ]
  },
  {
   "cell_type": "code",
   "execution_count": 3,
   "metadata": {},
   "outputs": [
    {
     "name": "stdout",
     "output_type": "stream",
     "text": [
      "The person age: 40\n",
      "the person gender:male\n",
      "The person eligible for marriege in india \n"
     ]
    }
   ],
   "source": [
    "age = int(input(\"The person age: \"))\n",
    "gender = str(raw_input(\"the person gender:\"))\n",
    "if age>=22:\n",
    "    print \"The person eligible for marriege in india \"\n",
    "else:\n",
    "    print \"The person not eligible for marriege in india\""
   ]
  },
  {
   "cell_type": "code",
   "execution_count": 5,
   "metadata": {},
   "outputs": [
    {
     "name": "stdout",
     "output_type": "stream",
     "text": [
      "enter the age of the person: 20\n",
      "enter the gender of the person: male\n",
      "the person eligible for voting in india\n",
      "the person eligible for marriege in india\n",
      "the person eligible for apply driving liscene in india\n",
      "the person eligible for nominate surpench in villages in india\n"
     ]
    }
   ],
   "source": [
    "\"\"\"  20.Take an age  and gender from the user: and mention that what he/she can do in india.\"\"\"\n",
    "#The person details \n",
    "age =int(input(\"enter the age of the person: \"))\n",
    "gender =str(raw_input(\"enter the gender of the person: \"))\n",
    "if age>18:\n",
    "    print \"the person eligible for voting in india\"\n",
    "else:\n",
    "    print \"the person not eligible for voting in india\"\n",
    "if age>18:\n",
    "    print \"the person eligible for marriege in india\"\n",
    "else:\n",
    "    print\"the person not eligible for marriege in india\"\n",
    "if age>18:\n",
    "    print \"the person eligible for apply driving liscene in india\"\n",
    "else:\n",
    "    print\"the person not eligible for apply driving liscene in india\"\n",
    "if age>18:\n",
    "    print \"the person eligible for nominate surpench in villages in india\"\n",
    "else:\n",
    "    print\"the person not eligible for nominate surpench in villages in india\"\n",
    "    "
   ]
  },
  {
   "cell_type": "code",
   "execution_count": 7,
   "metadata": {},
   "outputs": [
    {
     "name": "stdout",
     "output_type": "stream",
     "text": [
      "eligibility:\n",
      "\t1 for govt job\n",
      "Enter an option: \n",
      "gender :\n",
      "1. men\n",
      "2. women\n",
      "enter the person age: 24\n",
      "enter the person gender: male\n",
      "the person eligible for govt jobs\n"
     ]
    }
   ],
   "source": [
    "\"\"\"  21. conditions\n",
    "1. Theatre: 5 for men 7 for women\n",
    "    \t2. Voting system: 18 for men and women\n",
    "    \t3. Marriage in india: 23 for men and for women >21\n",
    "    \t4. For govt jobs: (min:18, max:32)  for men and (min:18, max:34) for women\n",
    "   \t 5. For driving licence: (min:18, max:60) for men and women\n",
    "Eligibility:\n",
    "   \t1. theatre \n",
    "\t\t2.  Voting system\n",
    "\t\t3.  Marriage in india\n",
    "\t\t4.  For govt obs\n",
    "\t\t5. For driving licence:\n",
    "Enter an option:\n",
    "\tGender:\n",
    "\t\t1. men\n",
    "\t\t2. women\n",
    "Enter an option:\n",
    "Enter an age of person:\"\"\"\n",
    "print \"eligibility:\\n\\t1 for govt job\\nEnter an option: \\ngender :\\n1. men\\n2. women\"\n",
    "age = int(input('enter the person age: '))\n",
    "gender = str(raw_input(\"enter the person gender: \"))\n",
    "if (age>18) and (age<32):\n",
    "    print \"the person eligible for govt jobs\"\n",
    "else:\n",
    "    print\"the person not eligible for govt jobs\"\n"
   ]
  },
  {
   "cell_type": "code",
   "execution_count": 1,
   "metadata": {},
   "outputs": [
    {
     "name": "stdout",
     "output_type": "stream",
     "text": [
      "operating system:\n",
      "\t1.windows\n",
      "\t2.android\n",
      "\t3.mac\n",
      "enter a option: 2\n",
      "Goto second floor and buy adroid mobiles\n",
      "thank you for use our help section\n"
     ]
    }
   ],
   "source": [
    "\"\"\"  22. operating systems:\n",
    "\t1.windows\n",
    "\t2.android\n",
    "\t3.mac\n",
    "Enter an option:\n",
    "\n",
    "If the user enters 1 then show \"Goto first floor and buy windows laptop or mobile\"\n",
    "If the user enters 2 then show \"Goto second floor and buy adroid mobiles\"\n",
    "If the user enters 3 then show \"Goto third floor and buy mac laptop or iphones\"\n",
    "If the user enters other than 1 or 2 or 3 then show \"There is only three floors, please select 1 or 2 or 3\"\"\"\n",
    "\n",
    "\n",
    "print\"operating system:\\n\\t1.windows\\n\\t2.android\\n\\t3.mac\"\n",
    "\n",
    "a = int(raw_input(\"enter a option: \"))\n",
    "\n",
    "if (a>3)or(a<1):\n",
    "    print\"there are three floors please select 1 or 2 or 3\"\n",
    "if a==1:\n",
    "    print\"Goto first floor and buy windows laptop or mobile\"\n",
    "if a==2:\n",
    "    print\"Goto second floor and buy adroid mobiles\"\n",
    "if  a == 3:\n",
    "    print\"Goto third floor and buy mac laptop or iphones\"\n",
    "print\"thank you for use our help section\"\n",
    "\n",
    "\n",
    "\n"
   ]
  },
  {
   "cell_type": "code",
   "execution_count": 2,
   "metadata": {},
   "outputs": [
    {
     "name": "stdout",
     "output_type": "stream",
     "text": [
      "operating system:\n",
      "\t1.windows\n",
      "\t2.android\n",
      "\t3.mac\n",
      "enter a option: 4\n",
      "there are three floors please select 1 or 2 or 3\n",
      "thank you for use our help section\n"
     ]
    }
   ],
   "source": [
    "print\"operating system:\\n\\t1.windows\\n\\t2.android\\n\\t3.mac\"\n",
    "\n",
    "a = int(raw_input(\"enter a option: \"))\n",
    "\n",
    "if (a>3)or(a<1):\n",
    "    print\"there are three floors please select 1 or 2 or 3\"\n",
    "if a==1:\n",
    "    print\"Goto first floor and buy windows laptop or mobile\"\n",
    "if a==2:\n",
    "    print\"Goto second floor and buy adroid mobiles\"\n",
    "if  a == 3:\n",
    "    print\"Goto third floor and buy mac laptop or iphones\"\n",
    "print\"thank you for use our help section\"\n"
   ]
  },
  {
   "cell_type": "code",
   "execution_count": 11,
   "metadata": {},
   "outputs": [
    {
     "name": "stdout",
     "output_type": "stream",
     "text": [
      "enter the age value in yrs: 16\n",
      "the person is not a baby\n",
      "the person is not atoodler\n",
      "the person is not a child\n",
      "the person is a teenager\n",
      "the person is not a adult\n",
      "the person is not a old ager\n"
     ]
    }
   ],
   "source": [
    "\"\"\" 23. Given an age, figure out whether someone's a baby, toddler, child, teenager, adult or old codger.\"\"\"\n",
    "\n",
    "age =int(input(\"enter the age value in yrs: \"))\n",
    "if (age>0)and(age<2):\n",
    "    print \"the person is a baby\"\n",
    "else:\n",
    "    print\"the person is not a baby\"\n",
    "if (age>2)and(age<4):\n",
    "    print \"the person is a tooddler\"\n",
    "else:\n",
    "    print\"the person is not atoodler\"\n",
    "\n",
    "if (age>5)and(age<8):\n",
    "    print \"the person is a child\"\n",
    "else:\n",
    "    print\"the person is not a child\"\n",
    "if (age>13)and(age<19):\n",
    "    print \"the person is a teenager\"\n",
    "else:\n",
    "    print\"the person is not a teenager\"\n",
    "if (age>30)and(age<60):\n",
    "    print\"the person is a adult\"\n",
    "else:\n",
    "    print\"the person is not a adult\"\n",
    "if (age>60)==(age<80):\n",
    "    print\"the person is a old ager\"\n",
    "else:\n",
    "    print\"the person is not a old ager\"\n",
    "    "
   ]
  },
  {
   "cell_type": "code",
   "execution_count": 12,
   "metadata": {},
   "outputs": [
    {
     "name": "stdout",
     "output_type": "stream",
     "text": [
      "enter the age value in yrs: 18\n",
      "the person is a teenager\n"
     ]
    }
   ],
   "source": [
    "\n",
    "\n",
    "age =int(input(\"enter the age value in yrs: \"))\n",
    "if (age>0)and(age<2):\n",
    "    print \"the person is a baby\"\n",
    "    \n",
    "if (age>2)and(age<4):\n",
    "    print \"the person is a tooddler\"\n",
    "\n",
    "\n",
    "if (age>5)and(age<8):\n",
    "    print \"the person is a child\"\n",
    "\n",
    "if (age>13)and(age<19):\n",
    "    print \"the person is a teenager\"\n",
    "\n",
    "if (age>30)and(age<60):\n",
    "    print\"the person is a adult\"\n",
    "\n",
    "if (age>60)==(age<80):\n",
    "    print\"the person is a old ager\"\n",
    "\n",
    "    "
   ]
  },
  {
   "cell_type": "code",
   "execution_count": 17,
   "metadata": {},
   "outputs": [
    {
     "name": "stdout",
     "output_type": "stream",
     "text": [
      "enter a value:2\n",
      "enter a value:4\n",
      " a is not divisible by b\n"
     ]
    }
   ],
   "source": [
    "\"\"\"  24.Take two number a,b from the user and check whether a is divisible by b or not\"\"\"\n",
    "a = int(input(\"enter a value:\"))\n",
    "b = int(input(\"enter a value:\"))\n",
    "if a/b:\n",
    "    print \"as i divisible by b\"\n",
    "else:\n",
    "    print\" a is not divisible by b\"\n",
    "    "
   ]
  },
  {
   "cell_type": "code",
   "execution_count": 32,
   "metadata": {},
   "outputs": [
    {
     "name": "stdout",
     "output_type": "stream",
     "text": [
      "enter a value:4\n",
      "enter a value:2\n",
      "as i divisible by b\n"
     ]
    }
   ],
   "source": [
    "\n",
    "a = int(input(\"enter a value:\"))\n",
    "b = int(input(\"enter a value:\"))\n",
    "if a/b:\n",
    "    print \"as i divisible by b\"\n",
    "else:\n",
    "    print\" a is not divisible by b\"\n",
    "    "
   ]
  },
  {
   "cell_type": "code",
   "execution_count": 4,
   "metadata": {},
   "outputs": [
    {
     "name": "stdout",
     "output_type": "stream",
     "text": [
      "sachin tendulkar\n"
     ]
    }
   ],
   "source": [
    "\"\"\" 33.  Convert the total string in to lower case. Without using lower() function.\"\"\"\n",
    "str = \"SACHIN TENDULKAR\"\n",
    "print str.lower()"
   ]
  },
  {
   "cell_type": "code",
   "execution_count": null,
   "metadata": {},
   "outputs": [],
   "source": [
    "str = \"SACHIN TENDULKAR\"\n"
   ]
  },
  {
   "cell_type": "code",
   "execution_count": null,
   "metadata": {},
   "outputs": [],
   "source": [
    "\"\"\" 35. Show the below menu to the user until and until user select quit and display corresponding os message\"\"\"\n",
    "a = raw_input(\"menu:\\n\\t1.windows\\n\\t2.linux\\n\\t3.mac\\n\\t4.quiat\")"
   ]
  },
  {
   "cell_type": "code",
   "execution_count": 5,
   "metadata": {},
   "outputs": [
    {
     "name": "stdout",
     "output_type": "stream",
     "text": [
      "enter a number:7\n",
      "odd\n"
     ]
    }
   ],
   "source": [
    "a=input(\"enter a number:\")\n",
    "\n",
    "\n",
    "if a%2==0:\n",
    "    print \"even\"\n",
    "else:\n",
    "    print \"odd\""
   ]
  },
  {
   "cell_type": "code",
   "execution_count": null,
   "metadata": {},
   "outputs": [],
   "source": []
  }
 ],
 "metadata": {
  "kernelspec": {
   "display_name": "Python 2",
   "language": "python",
   "name": "python2"
  },
  "language_info": {
   "codemirror_mode": {
    "name": "ipython",
    "version": 2
   },
   "file_extension": ".py",
   "mimetype": "text/x-python",
   "name": "python",
   "nbconvert_exporter": "python",
   "pygments_lexer": "ipython2",
   "version": "2.7.15rc1"
  }
 },
 "nbformat": 4,
 "nbformat_minor": 2
}
