{
 "cells": [
  {
   "cell_type": "code",
   "execution_count": 1,
   "metadata": {},
   "outputs": [
    {
     "name": "stdout",
     "output_type": "stream",
     "text": [
      "enter a value: 4\n",
      "the number is not prime number\n"
     ]
    }
   ],
   "source": [
    "\"\"\"  25.  take a number from the user and check whether it is prime?\"\"\"\n",
    "#conditions 1.number should be greater than 2.there is no positive divisers for the number other than (1*itselfnumber):\n",
    "number = int(input(\"enter a value: \"))\n",
    "if (number>1)and(number%2==0):\n",
    "    print \"the number is not prime number\"\n",
    "        \n",
    "else:\n",
    "     print \"the number is  prime number\"\n"
   ]
  },
  {
   "cell_type": "code",
   "execution_count": 2,
   "metadata": {},
   "outputs": [
    {
     "name": "stdout",
     "output_type": "stream",
     "text": [
      "enter a value: 7\n",
      "the number is  prime number\n"
     ]
    }
   ],
   "source": [
    "number = int(input(\"enter a value: \"))\n",
    "if (number>1)and(number%2==0):\n",
    "    print \"the number is not prime number\"\n",
    "        \n",
    "else:\n",
    "     print \"the number is  prime number\"\n"
   ]
  },
  {
   "cell_type": "code",
   "execution_count": 19,
   "metadata": {},
   "outputs": [
    {
     "name": "stdout",
     "output_type": "stream",
     "text": [
      "enter a value: 29\n",
      "the number is  prime number\n"
     ]
    }
   ],
   "source": [
    "number = int(input(\"enter a value: \"))\n",
    "if (number>1)and(number%2==0):\n",
    "    print \"the number is not prime number\"\n",
    "        \n",
    "else:\n",
    "     print \"the number is  prime number\"\n"
   ]
  },
  {
   "cell_type": "code",
   "execution_count": 20,
   "metadata": {},
   "outputs": [
    {
     "name": "stdout",
     "output_type": "stream",
     "text": [
      "enter a value: 28\n",
      "the number is not prime number\n"
     ]
    }
   ],
   "source": [
    "number = int(input(\"enter a value: \"))\n",
    "if (number>1)and(number%2==0):\n",
    "    print \"the number is not prime number\"\n",
    "        \n",
    "else:\n",
    "     print \"the number is  prime number\"\n",
    "\n",
    "    "
   ]
  },
  {
   "cell_type": "code",
   "execution_count": 3,
   "metadata": {},
   "outputs": [
    {
     "name": "stdout",
     "output_type": "stream",
     "text": [
      "enter a name:hyderabad\n",
      "y\n",
      "r\n"
     ]
    }
   ],
   "source": [
    "\"\"\" 26. Take string from the user and check contains only digits or not?\"\"\"\n",
    "a=str(raw_input(\"enter a name:\"))\n",
    "print(a[1])\n",
    "print(a[4])\n"
   ]
  },
  {
   "cell_type": "code",
   "execution_count": 35,
   "metadata": {},
   "outputs": [
    {
     "name": "stdout",
     "output_type": "stream",
     "text": [
      "string does not contains  only digits\n"
     ]
    }
   ],
   "source": [
    "a = \"hyderabad122\"\n",
    "if a.isdigit()==a:\n",
    "    print \"string contains only digits\"\n",
    "else:\n",
    "    print\"string does not contains  only digits\"\n",
    "    "
   ]
  },
  {
   "cell_type": "code",
   "execution_count": 9,
   "metadata": {},
   "outputs": [
    {
     "name": "stdout",
     "output_type": "stream",
     "text": [
      "enter a string name: a\n",
      "string does not contains digits\n"
     ]
    }
   ],
   "source": [
    "a = str(raw_input(\"enter a string name: \"))\n",
    "if ord(a)>=120 and ord(a)<200:\n",
    "    print \"string contains digits\"\n",
    "else:\n",
    "    print\"string does not contains digits\"\n",
    "    "
   ]
  },
  {
   "cell_type": "code",
   "execution_count": 28,
   "metadata": {},
   "outputs": [
    {
     "name": "stdout",
     "output_type": "stream",
     "text": [
      "string contains digits\n"
     ]
    }
   ],
   "source": [
    "a = \"hyderabad\"\n",
    "for i in a:\n",
    "    if ord(i)>=100 :\n",
    "        print \"string contains digits\"\n",
    "        break\n",
    "    else:\n",
    "        print\"string does not contains digits\"\n",
    "    "
   ]
  },
  {
   "cell_type": "code",
   "execution_count": 30,
   "metadata": {},
   "outputs": [],
   "source": [
    "\"\"\" 27. take a string from the user and check contains only  alphabets or not?\"\"\"\n",
    "a = \"hyderabad\"\n",
    "if a.isalpha()==a:\n",
    "    print \"the string is only alphabets\"\n",
    "    "
   ]
  },
  {
   "cell_type": "code",
   "execution_count": 23,
   "metadata": {},
   "outputs": [
    {
     "name": "stdout",
     "output_type": "stream",
     "text": [
      "the string does not have only alphabets\n"
     ]
    }
   ],
   "source": [
    "a = \"hyderabad44\"\n",
    "if a.isalpha()!=a:\n",
    "    print \"the string does not have only alphabets\"\n",
    "else:\n",
    "    print\"the string  have alphabets\""
   ]
  },
  {
   "cell_type": "code",
   "execution_count": 25,
   "metadata": {},
   "outputs": [
    {
     "name": "stdout",
     "output_type": "stream",
     "text": [
      "the string have only  alphabets\n"
     ]
    }
   ],
   "source": [
    "a=\"hyderabad\"\n",
    "if a.isalpha()==a:\n",
    "    print \"the string   have  alphabets\"\n",
    "else:\n",
    "    print\"the string have only  alphabets\""
   ]
  },
  {
   "cell_type": "code",
   "execution_count": 13,
   "metadata": {},
   "outputs": [
    {
     "name": "stdout",
     "output_type": "stream",
     "text": [
      "the string does not have only  alphabets\n"
     ]
    }
   ],
   "source": [
    "a = \"hyderabad44\"\n",
    "if a.isalpha()!=a:\n",
    "    print \"the string does not have only  alphabets\"\n",
    "else:\n",
    "    print\"the string is only have  alphabets\""
   ]
  },
  {
   "cell_type": "code",
   "execution_count": 11,
   "metadata": {},
   "outputs": [
    {
     "name": "stdout",
     "output_type": "stream",
     "text": [
      "the string does not contain only capital letters\n"
     ]
    }
   ],
   "source": [
    "\"\"\" 28 .take a string from the user and check contains only  capital letters or not?\"\"\"\n",
    "b = \"kohli is good player\"\n",
    "if b.upper()==b:\n",
    "    print\"the string contains only capital letters\"\n",
    "else:\n",
    "    print\"the string does not contain only capital letters\""
   ]
  },
  {
   "cell_type": "code",
   "execution_count": 10,
   "metadata": {},
   "outputs": [
    {
     "name": "stdout",
     "output_type": "stream",
     "text": [
      "the string contains only CAPITAL letters\n"
     ]
    }
   ],
   "source": [
    "b = \"KOHLI IS GOOD PLAYER\"\n",
    "if b.upper()==b:\n",
    "    print\"the string contains only CAPITAL letters\"\n",
    "else:\n",
    "    print\"the string contains only small letters\""
   ]
  },
  {
   "cell_type": "code",
   "execution_count": 9,
   "metadata": {},
   "outputs": [
    {
     "name": "stdout",
     "output_type": "stream",
     "text": [
      "the string contains only small letters\n"
     ]
    }
   ],
   "source": [
    "\"\"\" 29. take a string from the user and check contains only  small letters or not?\"\"\"\n",
    "c = \"heloo world\"\n",
    "if c.lower()==c:\n",
    "    print\"the string contains only small letters\"\n",
    "else:\n",
    "    print\"the string contains only capital letters\"\n"
   ]
  },
  {
   "cell_type": "code",
   "execution_count": 8,
   "metadata": {},
   "outputs": [
    {
     "name": "stdout",
     "output_type": "stream",
     "text": [
      "True\n"
     ]
    }
   ],
   "source": [
    "z = \"hyderabad\"\n",
    "print z.lower()==z"
   ]
  },
  {
   "cell_type": "code",
   "execution_count": 3,
   "metadata": {},
   "outputs": [
    {
     "name": "stdout",
     "output_type": "stream",
     "text": [
      "True\n"
     ]
    }
   ],
   "source": [
    "z = \"HYDERABAD\"\n",
    "print z.upper()==z"
   ]
  },
  {
   "cell_type": "code",
   "execution_count": 3,
   "metadata": {},
   "outputs": [
    {
     "ename": "NameError",
     "evalue": "name 'lower' is not defined",
     "output_type": "error",
     "traceback": [
      "\u001b[0;31m---------------------------------------------------------------------------\u001b[0m",
      "\u001b[0;31mNameError\u001b[0m                                 Traceback (most recent call last)",
      "\u001b[0;32m<ipython-input-3-e9cf0b7192fb>\u001b[0m in \u001b[0;36m<module>\u001b[0;34m()\u001b[0m\n\u001b[1;32m      1\u001b[0m \u001b[0;34m\u001b[0m\u001b[0m\n\u001b[1;32m      2\u001b[0m \u001b[0mc\u001b[0m \u001b[0;34m=\u001b[0m \u001b[0;34m\"heloo world\"\u001b[0m\u001b[0;34m\u001b[0m\u001b[0m\n\u001b[0;32m----> 3\u001b[0;31m \u001b[0;32mif\u001b[0m \u001b[0mc\u001b[0m\u001b[0;34m==\u001b[0m\u001b[0mlower\u001b[0m\u001b[0;34m(\u001b[0m\u001b[0;34m)\u001b[0m\u001b[0;34m:\u001b[0m\u001b[0;34m\u001b[0m\u001b[0m\n\u001b[0m\u001b[1;32m      4\u001b[0m     \u001b[0;32mprint\u001b[0m\u001b[0;34m\"the string contains only small letters\"\u001b[0m\u001b[0;34m\u001b[0m\u001b[0m\n\u001b[1;32m      5\u001b[0m \u001b[0;32melse\u001b[0m\u001b[0;34m:\u001b[0m\u001b[0;34m\u001b[0m\u001b[0m\n",
      "\u001b[0;31mNameError\u001b[0m: name 'lower' is not defined"
     ]
    }
   ],
   "source": [
    "\n",
    "c = \"heloo world\"\n",
    "if c==lower():\n",
    "    print\"the string contains only small letters\"\n",
    "else:\n",
    "    print\"the string contains only capital letters\"\n"
   ]
  },
  {
   "cell_type": "code",
   "execution_count": 8,
   "metadata": {},
   "outputs": [
    {
     "name": "stdout",
     "output_type": "stream",
     "text": [
      " the odd numbers 1 to 20 are:\n",
      "enter the low value in odd numbers:1\n",
      "enter the upper value in odd numbers:20\n",
      "1\n",
      "3\n",
      "5\n",
      "7\n",
      "9\n",
      "11\n",
      "13\n",
      "15\n",
      "17\n",
      "19\n"
     ]
    }
   ],
   "source": [
    "\"\"\" 41. Print the first 100 odd numbers\"\"\"\n",
    "print \" the odd numbers 1 to 20 are:\"\n",
    "n = int(raw_input(\"enter the low value in odd numbers:\"))\n",
    "a = int(raw_input(\"enter the upper value in odd numbers:\"))\n",
    "\n",
    "for i in range (n,a+1):\n",
    "    if (i%2!=0):\n",
    "        print (i)\n",
    "        \n",
    "        \n",
    "        \n",
    "    "
   ]
  },
  {
   "cell_type": "code",
   "execution_count": null,
   "metadata": {},
   "outputs": [
    {
     "name": "stdout",
     "output_type": "stream",
     "text": [
      "1\n"
     ]
    }
   ],
   "source": [
    "i = 1\n",
    "while i<=10:\n",
    "    if (i%2!=0):\n",
    "        print i \n",
    "        i=i+1\n",
    "    \n",
    "    "
   ]
  },
  {
   "cell_type": "code",
   "execution_count": null,
   "metadata": {},
   "outputs": [],
   "source": [
    "a=\"welcome\"\n",
    "i = 0\n",
    "while i<4:\n",
    "    print i\n",
    "    i= i+1\n",
    "print\"thank you\""
   ]
  },
  {
   "cell_type": "code",
   "execution_count": null,
   "metadata": {},
   "outputs": [],
   "source": [
    "a=raw_input(\"enter a value: \")\n",
    "a=float(a)\n",
    "i=0\n",
    "while i<a:\n",
    "    print i\n",
    "    i= i+1\n",
    "print\"thank you\""
   ]
  },
  {
   "cell_type": "code",
   "execution_count": null,
   "metadata": {},
   "outputs": [
    {
     "name": "stdout",
     "output_type": "stream",
     "text": [
      "enter a value: 6\n",
      "1\n",
      "2\n",
      "3\n"
     ]
    }
   ],
   "source": [
    "n = raw_input('enter a value: ')\n",
    "n = float(n)\n",
    "i = 1\n",
    "while (i<=n):\n",
    "    if n%i==0:\n",
    "        print i\n",
    "        i=i+1\n",
    "    \n"
   ]
  },
  {
   "cell_type": "code",
   "execution_count": null,
   "metadata": {},
   "outputs": [],
   "source": [
    "n = raw_input('enter a value: ')\n",
    "n = float(n)\n",
    "i = 1\n",
    "while (i<=n):\n",
    "    if n%i==1:\n",
    "        print i\n",
    "        i=i+1\n",
    "    \n"
   ]
  },
  {
   "cell_type": "code",
   "execution_count": 1,
   "metadata": {},
   "outputs": [
    {
     "name": "stdout",
     "output_type": "stream",
     "text": [
      "1\n",
      "2\n",
      "3\n",
      "4\n",
      "5\n",
      "6\n",
      "7\n",
      "8\n",
      "9\n"
     ]
    }
   ],
   "source": [
    "# by using while loop only:\n",
    "i = 1\n",
    "while (i<10):\n",
    "    print (i)\n",
    "    i=i+1"
   ]
  },
  {
   "cell_type": "code",
   "execution_count": 2,
   "metadata": {},
   "outputs": [
    {
     "name": "stdout",
     "output_type": "stream",
     "text": [
      "1\n",
      "3\n",
      "5\n",
      "7\n",
      "9\n"
     ]
    }
   ],
   "source": [
    "i = 1\n",
    "while (i<10):\n",
    "    print (i)\n",
    "    i=i+2"
   ]
  },
  {
   "cell_type": "code",
   "execution_count": 10,
   "metadata": {},
   "outputs": [
    {
     "name": "stdout",
     "output_type": "stream",
     "text": [
      "1\n",
      "3\n",
      "5\n",
      "7\n",
      "9\n",
      "11\n",
      "13\n",
      "15\n",
      "17\n",
      "19\n"
     ]
    }
   ],
   "source": [
    "i = 1\n",
    "while (i<21):\n",
    "    print (i)\n",
    "    i=i+2"
   ]
  },
  {
   "cell_type": "code",
   "execution_count": 12,
   "metadata": {},
   "outputs": [
    {
     "name": "stdout",
     "output_type": "stream",
     "text": [
      "0\n",
      "2\n",
      "4\n",
      "6\n",
      "8\n",
      "10\n",
      "12\n",
      "14\n",
      "16\n",
      "18\n",
      "20\n",
      "22\n",
      "24\n",
      "26\n",
      "28\n",
      "30\n",
      "32\n",
      "34\n",
      "36\n",
      "38\n"
     ]
    }
   ],
   "source": [
    "#for evven numbers \n",
    "i = 0\n",
    "while (i<40):\n",
    "    print (i)\n",
    "    i=i+2"
   ]
  },
  {
   "cell_type": "code",
   "execution_count": 17,
   "metadata": {},
   "outputs": [
    {
     "name": "stdout",
     "output_type": "stream",
     "text": [
      "enter the lower value:0\n",
      "enter the upper value:10\n",
      "1\n",
      "2\n",
      "3\n",
      "4\n",
      "5\n",
      "6\n",
      "7\n",
      "8\n",
      "9\n",
      "10\n"
     ]
    }
   ],
   "source": [
    "# by using for i in range  condition :\n",
    "a = int(raw_input(\"enter the lower value:\"))\n",
    "b = int(raw_input(\"enter the upper value:\"))\n",
    "for i in range(a,b+1):\n",
    "    if (i != 0):\n",
    "        print i"
   ]
  },
  {
   "cell_type": "code",
   "execution_count": 3,
   "metadata": {},
   "outputs": [
    {
     "name": "stdout",
     "output_type": "stream",
     "text": [
      "please select option\n",
      "\t1.select\n",
      "\t2.quit\n",
      "enter a option: 1\n",
      "please select valid number for open menu\n"
     ]
    }
   ],
   "source": [
    "\"\"\" 35.  Show the below menu to the user until and until user select quit and display corresponding os message\n",
    "\n",
    "'''\n",
    "Menu:\n",
    "1. windows\n",
    "2. Linux\n",
    "3. Mac\n",
    "4. quit\"\"\"\n",
    "\n",
    "print\"please select option\\n\\t1.select\\n\\t2.quit\"\n",
    "\n",
    "a = int(raw_input(\"enter a option: \"))\n",
    "\n",
    "if a==1:\n",
    "    print\"please select valid number for open menu\"\n",
    "if a==2:\n",
    "    print'menu:\\n\\t1.windows\\n\\t2.linux\\n\\t3.mac\\n\\t4.linux'\n",
    "\n",
    "\n"
   ]
  },
  {
   "cell_type": "code",
   "execution_count": 4,
   "metadata": {},
   "outputs": [
    {
     "name": "stdout",
     "output_type": "stream",
     "text": [
      "please select option\n",
      "\t1.select\n",
      "\t2.quit\n",
      "enter a option: 2\n",
      "menu:\n",
      "\t1.windows\n",
      "\t2.linux\n",
      "\t3.mac\n",
      "\t4.linux\n"
     ]
    }
   ],
   "source": [
    "print\"please select option\\n\\t1.select\\n\\t2.quit\"\n",
    "\n",
    "a = int(raw_input(\"enter a option: \"))\n",
    "\n",
    "if a==1:\n",
    "    print\"please select valid number for open menu\"\n",
    "if a==2:\n",
    "    print'menu:\\n\\t1.windows\\n\\t2.linux\\n\\t3.mac\\n\\t4.linux'\n"
   ]
  },
  {
   "cell_type": "code",
   "execution_count": 8,
   "metadata": {},
   "outputs": [
    {
     "name": "stdout",
     "output_type": "stream",
     "text": [
      "minimum number 1\n"
     ]
    }
   ],
   "source": [
    "num =[1,2,3,4]\n",
    "print 'minimum number',min(num)"
   ]
  },
  {
   "cell_type": "code",
   "execution_count": 31,
   "metadata": {},
   "outputs": [
    {
     "name": "stdout",
     "output_type": "stream",
     "text": [
      "minimum number is:  1\n",
      "maximum number is:  6\n",
      "sum number is  21\n",
      "avarage number is:  3\n"
     ]
    }
   ],
   "source": [
    "\"\"\" 50.  Take some single digit numbers from the user and findout min, maximum, sum, average\"\"\"\n",
    "# by using list\n",
    "a = [1,2,3,4,5,6]\n",
    "print \"minimum number is: \",min(a)\n",
    "print \"maximum number is: \",max(a)\n",
    "print \"sum number is \",sum(a)\n",
    "print \"avarage number is: \", sum(a)/(len(a))\n"
   ]
  },
  {
   "cell_type": "code",
   "execution_count": 3,
   "metadata": {},
   "outputs": [],
   "source": [
    "\"\"\" 60. ...Take a element from the user and find out how many number of occurrences are there in given tuple\"\"\"\n",
    "#The count() method returns the number of occurrences of an element in a tuple:\n",
    "alphabets=('a', 'b', 'c', 's', 'a', 'b', 'a', 'c', 's', 'a')\n",
    "count=alphabets.count('a')"
   ]
  },
  {
   "cell_type": "code",
   "execution_count": 4,
   "metadata": {},
   "outputs": [
    {
     "name": "stdout",
     "output_type": "stream",
     "text": [
      "4\n"
     ]
    }
   ],
   "source": [
    "#The count() method returns the number of occurrences of an element in a tuple:\n",
    "alphabets=('a', 'b', 'c', 's', 'a', 'b', 'a', 'c', 's', 'a')\n",
    "count=alphabets.count('a')\n",
    "print count"
   ]
  },
  {
   "cell_type": "code",
   "execution_count": 5,
   "metadata": {},
   "outputs": [
    {
     "name": "stdout",
     "output_type": "stream",
     "text": [
      " the count of a is : 4\n"
     ]
    }
   ],
   "source": [
    "#The count() method returns the number of occurrences of an element in a tuple:\n",
    "alphabets=('a', 'b', 'c', 's', 'a', 'b', 'a', 'c', 's', 'a')\n",
    "count=alphabets.count('a')\n",
    "print \" the count of a is :\", count"
   ]
  },
  {
   "cell_type": "code",
   "execution_count": 6,
   "metadata": {},
   "outputs": [
    {
     "name": "stdout",
     "output_type": "stream",
     "text": [
      " the count of b is : 2\n"
     ]
    }
   ],
   "source": [
    "#The count() method returns the number of occurrences of an element in a tuple:\n",
    "alphabets=('a', 'b', 'c', 's', 'a', 'b', 'a', 'c', 's', 'a')\n",
    "count=alphabets.count('b')\n",
    "print \" the count of b is :\", count"
   ]
  },
  {
   "cell_type": "code",
   "execution_count": 12,
   "metadata": {},
   "outputs": [
    {
     "name": "stdout",
     "output_type": "stream",
     "text": [
      " the count of 10 is:  7\n"
     ]
    }
   ],
   "source": [
    "\"\"\" 59. Take a element from the user and find out how many times the  element occurred in given list\"\"\"\n",
    "a = [10, 20, 40, 20, 10, 30, 60, 40, 10, 40, 30, 20, 20, 10, 10, 10, 10, 20, 30, 20,30, 40 ]\n",
    "count=a.count(10)\n",
    "print \" the count of 10 is: \",count"
   ]
  },
  {
   "cell_type": "code",
   "execution_count": 13,
   "metadata": {},
   "outputs": [
    {
     "name": "stdout",
     "output_type": "stream",
     "text": [
      " the count of 20 is:  6\n"
     ]
    }
   ],
   "source": [
    "\"\"\" 59. Take a element from the user and find out how many times the  element occurred in given list\"\"\"\n",
    "a = [10, 20, 40, 20, 10, 30, 60, 40, 10, 40, 30, 20, 20, 10, 10, 10, 10, 20, 30, 20,30, 40 ]\n",
    "count=a.count(20)\n",
    "print \" the count of 20 is: \",count"
   ]
  },
  {
   "cell_type": "code",
   "execution_count": 15,
   "metadata": {},
   "outputs": [
    {
     "name": "stdout",
     "output_type": "stream",
     "text": [
      "the count of a :  4\n"
     ]
    }
   ],
   "source": [
    "\"\"\" 58.   Take a char from the user and find out how many number of occurrences are there in given string\"\"\"\n",
    "string = \"hyderabad is capital city\"\n",
    "count=string.count('a')\n",
    "print \"the count of a : \",count"
   ]
  },
  {
   "cell_type": "code",
   "execution_count": 16,
   "metadata": {},
   "outputs": [
    {
     "name": "stdout",
     "output_type": "stream",
     "text": [
      "the count of d :  2\n"
     ]
    }
   ],
   "source": [
    "string = \"hyderabad is capital city\"\n",
    "count=string.count('d')\n",
    "print \"the count of d : \",count"
   ]
  },
  {
   "cell_type": "code",
   "execution_count": 18,
   "metadata": {},
   "outputs": [
    {
     "name": "stdout",
     "output_type": "stream",
     "text": [
      "<built-in method isdigit of str object at 0x7fc10c0fc210>\n"
     ]
    }
   ],
   "source": [
    "\"\"\" 57. Take a string from the user and find out how many digits are there,\n",
    "how many special symbols are there, how many small letters are there, how many caps are there.\"\"\"\n",
    "a = \"1,2,3,4\"\n",
    "if  a.count(a) and a.isdigit:\n",
    "    print a.isdigit\n"
   ]
  },
  {
   "cell_type": "code",
   "execution_count": 4,
   "metadata": {},
   "outputs": [
    {
     "ename": "TypeError",
     "evalue": "expected a string or other character buffer object",
     "output_type": "error",
     "traceback": [
      "\u001b[0;31m---------------------------------------------------------------------------\u001b[0m",
      "\u001b[0;31mTypeError\u001b[0m                                 Traceback (most recent call last)",
      "\u001b[0;32m<ipython-input-4-97766726b2e0>\u001b[0m in \u001b[0;36m<module>\u001b[0;34m()\u001b[0m\n\u001b[1;32m      1\u001b[0m \u001b[0ma\u001b[0m \u001b[0;34m=\u001b[0m \u001b[0;34m\"1,2,3,4\"\u001b[0m\u001b[0;34m\u001b[0m\u001b[0m\n\u001b[0;32m----> 2\u001b[0;31m \u001b[0mcount\u001b[0m \u001b[0;34m=\u001b[0m \u001b[0ma\u001b[0m\u001b[0;34m.\u001b[0m\u001b[0mcount\u001b[0m\u001b[0;34m(\u001b[0m\u001b[0ma\u001b[0m\u001b[0;34m.\u001b[0m\u001b[0misdigit\u001b[0m\u001b[0;34m(\u001b[0m\u001b[0;34m)\u001b[0m\u001b[0;34m)\u001b[0m\u001b[0;34m\u001b[0m\u001b[0m\n\u001b[0m\u001b[1;32m      3\u001b[0m \u001b[0;32mprint\u001b[0m \u001b[0mcount\u001b[0m\u001b[0;34m\u001b[0m\u001b[0m\n",
      "\u001b[0;31mTypeError\u001b[0m: expected a string or other character buffer object"
     ]
    }
   ],
   "source": [
    "a = \"1,2,3,4\"\n",
    "count = a.count(a.isdigit())\n",
    "print count"
   ]
  },
  {
   "cell_type": "code",
   "execution_count": 5,
   "metadata": {},
   "outputs": [],
   "source": [
    "digit = 0"
   ]
  },
  {
   "cell_type": "code",
   "execution_count": 10,
   "metadata": {},
   "outputs": [
    {
     "ename": "TypeError",
     "evalue": "string indices must be integers, not str",
     "output_type": "error",
     "traceback": [
      "\u001b[0;31m---------------------------------------------------------------------------\u001b[0m",
      "\u001b[0;31mTypeError\u001b[0m                                 Traceback (most recent call last)",
      "\u001b[0;32m<ipython-input-10-58ab1e4ecdc4>\u001b[0m in \u001b[0;36m<module>\u001b[0;34m()\u001b[0m\n\u001b[1;32m      1\u001b[0m \u001b[0ma\u001b[0m \u001b[0;34m=\u001b[0m \u001b[0;34m\"hyderabad1234\"\u001b[0m\u001b[0;34m\u001b[0m\u001b[0m\n\u001b[1;32m      2\u001b[0m \u001b[0;32mfor\u001b[0m \u001b[0mi\u001b[0m \u001b[0;32min\u001b[0m \u001b[0ma\u001b[0m\u001b[0;34m:\u001b[0m\u001b[0;34m\u001b[0m\u001b[0m\n\u001b[0;32m----> 3\u001b[0;31m     \u001b[0;32mif\u001b[0m \u001b[0ma\u001b[0m\u001b[0;34m[\u001b[0m\u001b[0mi\u001b[0m\u001b[0;34m]\u001b[0m\u001b[0;34m.\u001b[0m\u001b[0malpha\u001b[0m\u001b[0;34m:\u001b[0m\u001b[0;34m\u001b[0m\u001b[0m\n\u001b[0m\u001b[1;32m      4\u001b[0m         \u001b[0mletters\u001b[0m \u001b[0;34m+=\u001b[0m \u001b[0;36m1\u001b[0m\u001b[0;34m\u001b[0m\u001b[0m\n",
      "\u001b[0;31mTypeError\u001b[0m: string indices must be integers, not str"
     ]
    }
   ],
   "source": [
    "a = \"hyderabad1234\"\n",
    "for i in a:\n",
    "    if a[i].alpha:\n",
    "        letters += 1"
   ]
  },
  {
   "cell_type": "code",
   "execution_count": 14,
   "metadata": {},
   "outputs": [
    {
     "name": "stdout",
     "output_type": "stream",
     "text": [
      "1\n"
     ]
    }
   ],
   "source": [
    "x=\"hyderabad1234\"\n",
    "print x.count(x)"
   ]
  },
  {
   "cell_type": "code",
   "execution_count": 23,
   "metadata": {},
   "outputs": [
    {
     "name": "stdout",
     "output_type": "stream",
     "text": [
      "True\n"
     ]
    }
   ],
   "source": [
    "x=\"hyderabad\"\n",
    "a = x.count(x)==x.isalpha()\n",
    "print a"
   ]
  },
  {
   "cell_type": "code",
   "execution_count": 29,
   "metadata": {},
   "outputs": [
    {
     "name": "stdout",
     "output_type": "stream",
     "text": [
      "entaer a string name: 1234\n",
      "the total digits in given string: 4\n"
     ]
    }
   ],
   "source": [
    "given_string=raw_input(\"entaer a string name: \")\n",
    "count=0\n",
    "for i in given_string:\n",
    "    if(i.isdigit()):\n",
    "        count=count+1\n",
    "print\"the total digits in given string:\",count"
   ]
  },
  {
   "cell_type": "code",
   "execution_count": 33,
   "metadata": {},
   "outputs": [
    {
     "name": "stdout",
     "output_type": "stream",
     "text": [
      "enter a string name:hyderabad1234\n",
      "the no.of digits in string:  4\n",
      "the no.of charecters inn string:  13\n"
     ]
    }
   ],
   "source": [
    "# for count digits and charecters in string\n",
    "string = raw_input('enter a string name:')\n",
    "count1=0\n",
    "count2=0\n",
    "for i in string:\n",
    "    if (i.isdigit()):\n",
    "        count1=count1+1\n",
    "    count2=count2+1\n",
    "print\"the no.of digits in string: \",count1\n",
    "print\"the no.of charecters inn string: \",count2"
   ]
  },
  {
   "cell_type": "code",
   "execution_count": 38,
   "metadata": {},
   "outputs": [
    {
     "name": "stdout",
     "output_type": "stream",
     "text": [
      "True\n"
     ]
    }
   ],
   "source": [
    "#for count aphbets big and small letters in string\n",
    "string=\"mahesh\"\n",
    "print string.islower()"
   ]
  },
  {
   "cell_type": "code",
   "execution_count": 39,
   "metadata": {},
   "outputs": [
    {
     "name": "stdout",
     "output_type": "stream",
     "text": [
      "False\n"
     ]
    }
   ],
   "source": [
    "string=\"mahesh\"\n",
    "print string.isupper()"
   ]
  },
  {
   "cell_type": "code",
   "execution_count": 40,
   "metadata": {},
   "outputs": [
    {
     "name": "stdout",
     "output_type": "stream",
     "text": [
      "True\n"
     ]
    }
   ],
   "source": [
    "string=\"mahesh\"\n",
    "print string.islower()"
   ]
  },
  {
   "cell_type": "code",
   "execution_count": 41,
   "metadata": {},
   "outputs": [
    {
     "name": "stdout",
     "output_type": "stream",
     "text": [
      "True\n"
     ]
    }
   ],
   "source": [
    "string=\"mahesh\"\n",
    "print string.islower()"
   ]
  },
  {
   "cell_type": "code",
   "execution_count": 44,
   "metadata": {},
   "outputs": [
    {
     "name": "stdout",
     "output_type": "stream",
     "text": [
      "enter a name: HYDerabAD\n",
      "the small letters in given string name are: 4\n"
     ]
    }
   ],
   "source": [
    "#for small letters and big letters\n",
    "string=raw_input('enter a name: ')\n",
    "count1=0\n",
    "\n",
    "for i in string:\n",
    "    if (i.islower()):\n",
    "        count1=count1+1\n",
    "print\"the small letters in given string name are:\",count1"
   ]
  },
  {
   "cell_type": "code",
   "execution_count": 50,
   "metadata": {},
   "outputs": [
    {
     "name": "stdout",
     "output_type": "stream",
     "text": [
      "enter a name: HYDERABad\n",
      "the small letters in given string name are: 2\n",
      "the big letters in given string name are: 7\n"
     ]
    }
   ],
   "source": [
    "string=raw_input('enter a name: ')\n",
    "count1=0\n",
    "count2=0\n",
    "for i in string:\n",
    "    if (i.islower()):\n",
    "        count1=count1+1\n",
    "    elif (i.isupper()):\n",
    "        count2=count2+1\n",
    "print\"the small letters in given string name are:\",count1\n",
    "print\"the big letters in given string name are:\",count2"
   ]
  },
  {
   "cell_type": "code",
   "execution_count": 56,
   "metadata": {},
   "outputs": [
    {
     "name": "stdout",
     "output_type": "stream",
     "text": [
      "the even numbers in given list are:  11\n"
     ]
    }
   ],
   "source": [
    "\"\"\" 56.   l=[1,2,3,5,7,8,9,10,11,12,13,20,22,23,24,25,26,27,20,21,22,4] find out how many even numbers are \n",
    "there and how many odd numbers are there and how many positive numbers are there and how many negative numbers\n",
    "are there and how many prime numbers are there and how many perfect numbers \n",
    "are there and how many Armstrong numbers are there and how many palindrome numbers are there.\"\"\"\n",
    "\n",
    "#for count even numbers in list:\n",
    "\n",
    "l=[1,2,3,5,7,8,9,10,11,12,13,20,22,23,24,25,26,27,20,21,22,4]\n",
    "count1=0\n",
    "for i in l:\n",
    "    if (i%2==0):\n",
    "        count1=count1+1\n",
    "print\"the even numbers in given list are: \",count1\n",
    "\n"
   ]
  },
  {
   "cell_type": "code",
   "execution_count": 63,
   "metadata": {},
   "outputs": [
    {
     "name": "stdout",
     "output_type": "stream",
     "text": [
      "the odd numbers in given list are:  19\n"
     ]
    }
   ],
   "source": [
    "#for count odd numbers in list:\n",
    "\n",
    "l=[1,2,3,5,7,8,9,10,11,12,13,20,22,23,24,25,26,27,20,21,22,4,3,9,13,19,19,19,13,21]\n",
    "count1=0\n",
    "for i in l:\n",
    "    if (i%2==1):\n",
    "        count1=count1+1\n",
    "print\"the odd numbers in given list are: \",count1"
   ]
  },
  {
   "cell_type": "code",
   "execution_count": 66,
   "metadata": {},
   "outputs": [
    {
     "name": "stdout",
     "output_type": "stream",
     "text": [
      "the negative numbers  in given list are:  0\n"
     ]
    }
   ],
   "source": [
    "# for negative numbers in list:\n",
    "l=[1,2,3,5,7,8,9,10,11,12,13,20,22,23,24,25,26,27,20,21,22,4,3,9,13,19,19,19,13,21,]\n",
    "count1=0\n",
    "for i in l:\n",
    "    if (i<0):\n",
    "        count1=count1+1\n",
    "print\"the negative numbers  in given list are: \",count1"
   ]
  },
  {
   "cell_type": "code",
   "execution_count": 67,
   "metadata": {},
   "outputs": [
    {
     "name": "stdout",
     "output_type": "stream",
     "text": [
      "the positive numbers  in given list are:  30\n"
     ]
    }
   ],
   "source": [
    "# for positive numbers in list:\n",
    "l=[1,2,3,5,7,8,9,10,11,12,13,20,22,23,24,25,26,27,20,21,22,4,3,9,13,19,19,19,13,21,]\n",
    "count1=0\n",
    "for i in l:\n",
    "    if (i>0):\n",
    "        count1=count1+1\n",
    "print\"the positive numbers  in given list are: \",count1"
   ]
  },
  {
   "cell_type": "code",
   "execution_count": 68,
   "metadata": {},
   "outputs": [
    {
     "name": "stdout",
     "output_type": "stream",
     "text": [
      "the prime numbers  in given list are:  11\n"
     ]
    }
   ],
   "source": [
    "# for prime numbers in list:\n",
    "\n",
    "l=[1,2,3,5,7,8,9,10,11,12,13,20,22,23,24,25,26,27,20,21,22,4,3,9,13,19,19,19,13,21,]\n",
    "count1=0\n",
    "for i in l:\n",
    "    if (i>1)and(i%2==0):\n",
    "        count1=count1+1\n",
    "print\"the prime numbers  in given list are: \",count1"
   ]
  },
  {
   "cell_type": "code",
   "execution_count": 103,
   "metadata": {},
   "outputs": [
    {
     "name": "stdout",
     "output_type": "stream",
     "text": [
      "the prime numbers  in given list are:  11\n"
     ]
    }
   ],
   "source": [
    "# for perfect numbers in list:\n",
    "l=[1,2,3,5,7,8,9,10,11,12,13,20,22,23,24,25,26,27,20,21,22,4,3,9,13,19,19,19,13,21,]\n",
    "sum=0\n",
    "for i in l:\n",
    "    if (i%2 == 0):\n",
    "        sum=sum+1\n",
    "print\"the prime numbers  in given list are: \",count1"
   ]
  },
  {
   "cell_type": "code",
   "execution_count": 123,
   "metadata": {},
   "outputs": [
    {
     "name": "stdout",
     "output_type": "stream",
     "text": [
      " minimum number is:  1\n",
      "maximum number is:  6\n",
      "sum number is "
     ]
    },
    {
     "ename": "TypeError",
     "evalue": "'int' object is not callable",
     "output_type": "error",
     "traceback": [
      "\u001b[0;31m---------------------------------------------------------------------------\u001b[0m",
      "\u001b[0;31mTypeError\u001b[0m                                 Traceback (most recent call last)",
      "\u001b[0;32m<ipython-input-123-d6ef4e5e6270>\u001b[0m in \u001b[0;36m<module>\u001b[0;34m()\u001b[0m\n\u001b[1;32m      3\u001b[0m \u001b[0;32mprint\u001b[0m \u001b[0;34m\"minimum number is: \"\u001b[0m\u001b[0;34m,\u001b[0m\u001b[0mmin\u001b[0m\u001b[0;34m(\u001b[0m\u001b[0ma\u001b[0m\u001b[0;34m)\u001b[0m\u001b[0;34m\u001b[0m\u001b[0m\n\u001b[1;32m      4\u001b[0m \u001b[0;32mprint\u001b[0m \u001b[0;34m\"maximum number is: \"\u001b[0m\u001b[0;34m,\u001b[0m\u001b[0mmax\u001b[0m\u001b[0;34m(\u001b[0m\u001b[0ma\u001b[0m\u001b[0;34m)\u001b[0m\u001b[0;34m\u001b[0m\u001b[0m\n\u001b[0;32m----> 5\u001b[0;31m \u001b[0;32mprint\u001b[0m \u001b[0;34m\"sum number is \"\u001b[0m\u001b[0;34m,\u001b[0m \u001b[0msum\u001b[0m\u001b[0;34m(\u001b[0m\u001b[0ma\u001b[0m\u001b[0;34m)\u001b[0m\u001b[0;34m\u001b[0m\u001b[0m\n\u001b[0m\u001b[1;32m      6\u001b[0m \u001b[0;32mprint\u001b[0m \u001b[0;34m\"avarage number is: \"\u001b[0m\u001b[0;34m,\u001b[0m \u001b[0msum\u001b[0m\u001b[0;34m(\u001b[0m\u001b[0ma\u001b[0m\u001b[0;34m)\u001b[0m\u001b[0;34m/\u001b[0m\u001b[0;34m(\u001b[0m\u001b[0mlen\u001b[0m\u001b[0;34m(\u001b[0m\u001b[0ma\u001b[0m\u001b[0;34m)\u001b[0m\u001b[0;34m)\u001b[0m\u001b[0;34m\u001b[0m\u001b[0m\n",
      "\u001b[0;31mTypeError\u001b[0m: 'int' object is not callable"
     ]
    }
   ],
   "source": [
    "\"\"\" 55.    Take numbers from the user and find out min, maximum, sum, average\"\"\"\n",
    "a = [1,2,3,4,5,6]\n",
    "print \"minimum number is: \",min(a)\n",
    "print \"maximum number is: \",max(a)\n",
    "print \"sum number is \", sum(a)\n",
    "print \"avarage number is: \", sum(a)/(len(a))\n"
   ]
  },
  {
   "cell_type": "code",
   "execution_count": 126,
   "metadata": {},
   "outputs": [
    {
     "name": "stdout",
     "output_type": "stream",
     "text": [
      " minimum number is:  1\n",
      "maximum number is:  6\n"
     ]
    }
   ],
   "source": [
    "\"\"\" 55.    Take numbers from the user and find out min, maximum, sum, average\"\"\"\n",
    "a = [1,2,3,4,5,6]\n",
    "print \"minimum number is: \",min(a)\n",
    "print \"maximum number is: \",max(a)\n",
    "\n",
    "\n"
   ]
  },
  {
   "cell_type": "code",
   "execution_count": 140,
   "metadata": {},
   "outputs": [
    {
     "name": "stdout",
     "output_type": "stream",
     "text": [
      "enter a number: 2\n",
      "enter a number: 4\n",
      "addition: 6 \n",
      "multiplication: 8 \n",
      "division: 0 \n",
      "sqrt: 16 \n",
      "pow: 16 \n",
      "substraction: -2\n"
     ]
    }
   ],
   "source": [
    "\"\"\" 54.    Take a two numbers from the user and do below menu driven operations\n",
    "1. addition\n",
    "2. multiples\n",
    "3.division\n",
    "4.sqrt\n",
    "5. pow    a**b\n",
    "6.subtraction\n",
    "After selection do the corresponding operation.\n",
    "Note: user may give int, or float numbers. You should check whether it is proper digits or not. I.e the user given string \n",
    "should be in the position to convert to float. Other wise show the “inproper string given” Error\"\"\"\n",
    "a=int(raw_input(\"enter a number: \"))\n",
    "b=int(raw_input(\"enter a number: \"))\n",
    "c=a+b\n",
    "d=a*b\n",
    "e=a/b\n",
    "f=a**2 and b**2\n",
    "g=a**b\n",
    "h=a-b\n",
    "\n",
    "print \"addition:\",c,\"\\nmultiplication:\",d,\"\\ndivision:\",e,\"\\nsqrt:\",f,\"\\npow:\",g,\"\\nsubstraction:\",h"
   ]
  },
  {
   "cell_type": "code",
   "execution_count": 154,
   "metadata": {},
   "outputs": [
    {
     "name": "stdout",
     "output_type": "stream",
     "text": [
      "enter a number: 2.2\n",
      "enter a number: 4.2\n",
      "addition: 6.4 \n",
      "multiplication: 9.24 \n",
      "division: 0.52380952381 \n",
      "sqrt: 17.64 \n",
      "pow: 27.4268075692 \n",
      "substraction: -2.0\n"
     ]
    }
   ],
   "source": [
    "a=float(raw_input(\"enter a number: \"))\n",
    "b=float(raw_input(\"enter a number: \"))\n",
    "c=a+b\n",
    "d=a*b\n",
    "e=a/b\n",
    "f=a**2 and b**2\n",
    "g=a**b\n",
    "h=a-b\n",
    "if a==float(a):\n",
    "    print \"addition:\",c,\"\\nmultiplication:\",d,\"\\ndivision:\",e,\"\\nsqrt:\",f,\"\\npow:\",g,\"\\nsubstraction:\",h"
   ]
  },
  {
   "cell_type": "code",
   "execution_count": 159,
   "metadata": {},
   "outputs": [
    {
     "name": "stdout",
     "output_type": "stream",
     "text": [
      "enter a number: 2.4\n",
      "enter a number: 4.2\n",
      "addition: 6.6 \n",
      "multiplication: 10.08 \n",
      "division: 0.571428571429 \n",
      "sqrt: 17.64 \n",
      "pow: 39.5263958022 \n",
      "substraction: -1.8\n"
     ]
    }
   ],
   "source": [
    "a=float(input(\"enter a number: \"))\n",
    "b=float(input(\"enter a number: \"))\n",
    "c=a+b\n",
    "d=a*b\n",
    "e=a/b\n",
    "f=a**2 and b**2\n",
    "g=a**b\n",
    "h=a-b\n",
    "if a==float(a):\n",
    "    print \"addition:\",c,\"\\nmultiplication:\",d,\"\\ndivision:\",e,\"\\nsqrt:\",f,\"\\npow:\",g,\"\\nsubstraction:\",h\n",
    "else:\n",
    "    print\"please enter a valid type input number\"\n",
    "    "
   ]
  },
  {
   "cell_type": "code",
   "execution_count": 21,
   "metadata": {},
   "outputs": [
    {
     "name": "stdout",
     "output_type": "stream",
     "text": [
      "True\n"
     ]
    }
   ],
   "source": [
    "\"\"\" 53. Take actual string, source string, destination string. replce first nth occurrences of source string \n",
    "with destination string of actual string\"\"\"\n",
    "a =(\"hyderabad\")\n",
    "print(a.startswith('h'))"
   ]
  },
  {
   "cell_type": "code",
   "execution_count": 22,
   "metadata": {},
   "outputs": [
    {
     "name": "stdout",
     "output_type": "stream",
     "text": [
      "True\n"
     ]
    }
   ],
   "source": [
    "a =(\"hyderabad\")\n",
    "print(a.startswith('h'))"
   ]
  },
  {
   "cell_type": "code",
   "execution_count": 25,
   "metadata": {},
   "outputs": [
    {
     "ename": "NameError",
     "evalue": "name 'h' is not defined",
     "output_type": "error",
     "traceback": [
      "\u001b[0;31m---------------------------------------------------------------------------\u001b[0m",
      "\u001b[0;31mNameError\u001b[0m                                 Traceback (most recent call last)",
      "\u001b[0;32m<ipython-input-25-2da3b1e4eafb>\u001b[0m in \u001b[0;36m<module>\u001b[0;34m()\u001b[0m\n\u001b[1;32m      1\u001b[0m \u001b[0ma\u001b[0m \u001b[0;34m=\u001b[0m\u001b[0;34m(\u001b[0m\u001b[0;34m\"hyderabad\"\u001b[0m\u001b[0;34m)\u001b[0m\u001b[0;34m\u001b[0m\u001b[0m\n\u001b[0;32m----> 2\u001b[0;31m \u001b[0;32mprint\u001b[0m\u001b[0;34m(\u001b[0m\u001b[0ma\u001b[0m\u001b[0;34m.\u001b[0m\u001b[0mreplace\u001b[0m\u001b[0;34m(\u001b[0m\u001b[0mh\u001b[0m\u001b[0;34m,\u001b[0m\u001b[0;34m[\u001b[0m\u001b[0mm\u001b[0m\u001b[0;34m]\u001b[0m\u001b[0;34m)\u001b[0m\u001b[0;34m)\u001b[0m\u001b[0;34m\u001b[0m\u001b[0m\n\u001b[0m",
      "\u001b[0;31mNameError\u001b[0m: name 'h' is not defined"
     ]
    }
   ],
   "source": [
    "a =(\"hyderabad\")\n",
    "print(a.replace(h,[m]))"
   ]
  },
  {
   "cell_type": "code",
   "execution_count": 26,
   "metadata": {},
   "outputs": [
    {
     "name": "stdout",
     "output_type": "stream",
     "text": [
      "hyderabad was capital city\n"
     ]
    }
   ],
   "source": [
    "a = \"hyderabad is capital city\"\n",
    "print a.replace(\"is\",\"was\")"
   ]
  },
  {
   "cell_type": "code",
   "execution_count": 27,
   "metadata": {},
   "outputs": [
    {
     "name": "stdout",
     "output_type": "stream",
     "text": [
      "hyderabad is big city\n"
     ]
    }
   ],
   "source": [
    "a = \"hyderabad is capital city\"\n",
    "print a.replace(\"capital\",\"big\")"
   ]
  },
  {
   "cell_type": "code",
   "execution_count": 18,
   "metadata": {},
   "outputs": [
    {
     "name": "stdout",
     "output_type": "stream",
     "text": [
      "ramesh\n",
      "raju\n",
      "mahesh\n",
      "arjun\n",
      "iteration\n",
      "ramesh\n",
      "raju\n",
      "mahesh\n",
      "arjun\n"
     ]
    }
   ],
   "source": [
    "\"\"\"\" 52. names  =\"emp1,emp2,emp3,emp4\" iterate through the employee names\"\"\"\n",
    "names = [\"ramesh\",\"raju\",\"mahesh\",\"arjun\"]\n",
    "def fun(names):\n",
    "    for i in names:\n",
    "        print i\n",
    "fun(names)\n",
    "print \"iteration\"\n",
    "fun(names)\n",
    "    \n",
    "    "
   ]
  },
  {
   "cell_type": "code",
   "execution_count": 31,
   "metadata": {},
   "outputs": [
    {
     "name": "stdout",
     "output_type": "stream",
     "text": [
      "0b1100100\n",
      "0144\n",
      "0x64\n"
     ]
    }
   ],
   "source": [
    "\"\"\" 51.    WAP> 10 -> 000010\n",
    "       \t\t100 ->  000100\n",
    "      \t\t1000 ->  001000\n",
    " \t\t 2345678  ->  2345678\"\"\"\n",
    "\n",
    "dec = 100\n",
    "print(bin(dec))\n",
    "print(oct(dec))\n",
    "print(hex(dec))"
   ]
  },
  {
   "cell_type": "code",
   "execution_count": 49,
   "metadata": {},
   "outputs": [
    {
     "data": {
      "text/plain": [
       "18"
      ]
     },
     "execution_count": 49,
     "metadata": {},
     "output_type": "execute_result"
    }
   ],
   "source": [
    "\"\"\" 49. find out nth occurrence of given substring\"\"\"\n",
    "#a simple formula, length of original string - length of last splitted part - length of substring. For example:\n",
    "\n",
    "def find_nth(string,substring,n):\n",
    "    a = string.split(substring,n+1)\n",
    "    if len(a)<=n+1:\n",
    "        return -1\n",
    "    return len(string)- len(a[-1])-len(substring)\n",
    "find_nth('hydkjsdfh hydlsfh hydjsjlf', 'hyd', 2)"
   ]
  },
  {
   "cell_type": "code",
   "execution_count": 50,
   "metadata": {},
   "outputs": [
    {
     "name": "stdout",
     "output_type": "stream",
     "text": [
      "hydarabad\n"
     ]
    }
   ],
   "source": [
    "\"\"\" 48.find out third occurrence of given substring\"\"\"\n",
    "a = (\"hydarabad\",(\"delhi\",(\"mumbai\")))\n",
    "print a[0]"
   ]
  },
  {
   "cell_type": "code",
   "execution_count": 53,
   "metadata": {},
   "outputs": [
    {
     "name": "stdout",
     "output_type": "stream",
     "text": [
      "hydarabad\n",
      "('delhi', 'mumbai')\n"
     ]
    }
   ],
   "source": [
    "a = (\"hydarabad\",(\"delhi\",(\"mumbai\")))\n",
    "print a[0]\n",
    "print a[1]"
   ]
  },
  {
   "cell_type": "code",
   "execution_count": 55,
   "metadata": {},
   "outputs": [
    {
     "name": "stdout",
     "output_type": "stream",
     "text": [
      "delhi\n"
     ]
    }
   ],
   "source": [
    "a = (\"hydarabad\",(\"delhi\",(\"mumbai\")))\n",
    "print a[1][0]"
   ]
  },
  {
   "cell_type": "code",
   "execution_count": 56,
   "metadata": {},
   "outputs": [
    {
     "name": "stdout",
     "output_type": "stream",
     "text": [
      "b\n"
     ]
    }
   ],
   "source": [
    "a = (\"hydarabad\",(\"delhi\",(\"mumbai\")))\n",
    "print a[1][1][3]"
   ]
  },
  {
   "cell_type": "code",
   "execution_count": 57,
   "metadata": {},
   "outputs": [
    {
     "name": "stdout",
     "output_type": "stream",
     "text": [
      "c value is big:  40\n"
     ]
    }
   ],
   "source": [
    "\"\"\" 47.  Write a program to find out biggest number in the given numbers\"\"\"\n",
    "a = 10\n",
    "b = 20\n",
    "c = 40\n",
    "if a>=b and a>=c:\n",
    "    print \"a value is big: \",a\n",
    "elif b>=a and b>=c:\n",
    "    print \"b value is big: \",b\n",
    "elif c>=a and c>=b:\n",
    "    print \"c value is big: \",c"
   ]
  },
  {
   "cell_type": "code",
   "execution_count": 58,
   "metadata": {},
   "outputs": [
    {
     "name": "stdout",
     "output_type": "stream",
     "text": [
      "10 40\n"
     ]
    }
   ],
   "source": [
    "\"\"\" 46. Write a program to find out big of two numbers\"\"\"\n",
    "a = 10\n",
    "b = 40\n",
    "c = 40\n",
    "if a or b >=b and a or b  >=c:\n",
    "    print a,b \n",
    "elif b or c>=a and b or c>=c:\n",
    "    print b,c\n",
    "elif c or a>=a and c or a>=b:\n",
    "    print c,a"
   ]
  },
  {
   "cell_type": "code",
   "execution_count": null,
   "metadata": {},
   "outputs": [],
   "source": []
  }
 ],
 "metadata": {
  "kernelspec": {
   "display_name": "Python 2",
   "language": "python",
   "name": "python2"
  },
  "language_info": {
   "codemirror_mode": {
    "name": "ipython",
    "version": 2
   },
   "file_extension": ".py",
   "mimetype": "text/x-python",
   "name": "python",
   "nbconvert_exporter": "python",
   "pygments_lexer": "ipython2",
   "version": "2.7.15rc1"
  }
 },
 "nbformat": 4,
 "nbformat_minor": 2
}
