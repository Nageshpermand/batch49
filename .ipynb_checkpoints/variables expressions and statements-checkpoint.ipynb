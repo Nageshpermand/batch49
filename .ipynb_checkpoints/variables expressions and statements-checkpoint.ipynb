{
 "cells": [
  {
   "cell_type": "code",
   "execution_count": 3,
   "metadata": {},
   "outputs": [
    {
     "data": {
      "text/plain": [
       "['and',\n",
       " 'as',\n",
       " 'assert',\n",
       " 'break',\n",
       " 'class',\n",
       " 'continue',\n",
       " 'def',\n",
       " 'del',\n",
       " 'elif',\n",
       " 'else',\n",
       " 'except',\n",
       " 'exec',\n",
       " 'finally',\n",
       " 'for',\n",
       " 'from',\n",
       " 'global',\n",
       " 'if',\n",
       " 'import',\n",
       " 'in',\n",
       " 'is',\n",
       " 'lambda',\n",
       " 'not',\n",
       " 'or',\n",
       " 'pass',\n",
       " 'print',\n",
       " 'raise',\n",
       " 'return',\n",
       " 'try',\n",
       " 'while',\n",
       " 'with',\n",
       " 'yield']"
      ]
     },
     "execution_count": 3,
     "metadata": {},
     "output_type": "execute_result"
    }
   ],
   "source": [
    "import keyword\n",
    "keyword.kwlist"
   ]
  },
  {
   "cell_type": "code",
   "execution_count": 4,
   "metadata": {},
   "outputs": [],
   "source": [
    "#variables names should be in small letters, it could not start with numbers \n"
   ]
  },
  {
   "cell_type": "code",
   "execution_count": 5,
   "metadata": {},
   "outputs": [
    {
     "name": "stdout",
     "output_type": "stream",
     "text": [
      "apple cost is  20\n"
     ]
    }
   ],
   "source": [
    "fruit_name = \"apple\"\n",
    "fruit_cost = 20\n",
    "print fruit_name,\"cost is \",fruit_cost"
   ]
  },
  {
   "cell_type": "code",
   "execution_count": 3,
   "metadata": {},
   "outputs": [
    {
     "name": "stdout",
     "output_type": "stream",
     "text": [
      " apple cost is  20\n"
     ]
    }
   ],
   "source": [
    "fruit_name = \"apple\"\n",
    "fruit_cost = 20\n",
    "print fruit_name,\"cost is \",+int(fruit_cost)"
   ]
  },
  {
   "cell_type": "code",
   "execution_count": 18,
   "metadata": {},
   "outputs": [
    {
     "name": "stdout",
     "output_type": "stream",
     "text": [
      "apple cost is  20\n"
     ]
    }
   ],
   "source": [
    "_fruit_name = \"apple\"\n",
    "_fruit_cost = 20\n",
    "print fruit_name,\"cost is \",+int(fruit_cost)"
   ]
  },
  {
   "cell_type": "code",
   "execution_count": 19,
   "metadata": {},
   "outputs": [
    {
     "name": "stdout",
     "output_type": "stream",
     "text": [
      "apple cost is  20\n"
     ]
    }
   ],
   "source": [
    "fruit_name1 = \"apple\"\n",
    "fruit_cost2 = 20\n",
    "print fruit_name,\"cost is \",+int(fruit_cost)"
   ]
  },
  {
   "cell_type": "code",
   "execution_count": 22,
   "metadata": {},
   "outputs": [
    {
     "ename": "SyntaxError",
     "evalue": "invalid syntax (<ipython-input-22-b516a402032c>, line 1)",
     "output_type": "error",
     "traceback": [
      "\u001b[0;36m  File \u001b[0;32m\"<ipython-input-22-b516a402032c>\"\u001b[0;36m, line \u001b[0;32m1\u001b[0m\n\u001b[0;31m    1fruit_name1 = \"apple\"\u001b[0m\n\u001b[0m               ^\u001b[0m\n\u001b[0;31mSyntaxError\u001b[0m\u001b[0;31m:\u001b[0m invalid syntax\n"
     ]
    }
   ],
   "source": [
    "1fruit_name1 = \"apple\"\n",
    "fruit_cost$ = 20\n",
    "print fruit_name,\"cost is \",+int(fruit_cost)"
   ]
  },
  {
   "cell_type": "code",
   "execution_count": 11,
   "metadata": {},
   "outputs": [
    {
     "name": "stdout",
     "output_type": "stream",
     "text": [
      "the person name is: anil     his age is:  23   his height is: 5.67895  his weight is: 70.42\n"
     ]
    }
   ],
   "source": [
    "name = \"anil\"\n",
    "age = 23\n",
    "height = 5.67895\n",
    "weight = 70.42\n",
    "print \"the person name is:\",name, \"    his age is: \",age , \"  his height is:\",height, \" his weight is:\",weight"
   ]
  },
  {
   "cell_type": "code",
   "execution_count": 8,
   "metadata": {},
   "outputs": [
    {
     "name": "stdout",
     "output_type": "stream",
     "text": [
      "the person details are: name: anil ,  weight is=70.42 ,  height is=5.67895 ,  age is = 23\n"
     ]
    }
   ],
   "source": [
    "name =\"anil\"\n",
    "age = 23\n",
    "height = 5.67895\n",
    "weight = 70.42\n",
    "print \"the person details are:\",\"name:\",name, ',  weight is='+str(weight), \",  height is=\"+str(height), \",  age is = \"+str(age)\n",
    "\n"
   ]
  },
  {
   "cell_type": "code",
   "execution_count": 16,
   "metadata": {},
   "outputs": [
    {
     "name": "stdout",
     "output_type": "stream",
     "text": [
      " the person details are weight: 70.42\n"
     ]
    }
   ],
   "source": [
    "print \"the person details are weight: \"+str(weight),"
   ]
  },
  {
   "cell_type": "code",
   "execution_count": 17,
   "metadata": {},
   "outputs": [
    {
     "name": "stdout",
     "output_type": "stream",
     "text": [
      "the person details are weight: 5.67895\n"
     ]
    }
   ],
   "source": [
    "print \"the person details are weight: \"+str(height),"
   ]
  },
  {
   "cell_type": "code",
   "execution_count": 21,
   "metadata": {},
   "outputs": [
    {
     "name": "stdout",
     "output_type": "stream",
     "text": [
      "the person name is: anil his details are:  weight is =70.42 height is=5.67895 age is = 23\n"
     ]
    }
   ],
   "source": [
    "name = \"anil\"\n",
    "age = 23\n",
    "height = 5.67895\n",
    "weight = 70.42\n",
    "print \"the person name is:\",name, \"his details are: \", 'weight is ='+str(weight),\\\n",
    "\"height is=\"+str(height), \"age is = \"+str(age)\n",
    "\n"
   ]
  },
  {
   "cell_type": "code",
   "execution_count": 22,
   "metadata": {},
   "outputs": [
    {
     "name": "stdout",
     "output_type": "stream",
     "text": [
      "sachin\n",
      " is good player\n"
     ]
    }
   ],
   "source": [
    "# special purpose symbols in strings\n",
    "a = \"sachin\\n is good player\"\n",
    "print a"
   ]
  },
  {
   "cell_type": "code",
   "execution_count": 23,
   "metadata": {},
   "outputs": [
    {
     "name": "stdout",
     "output_type": "stream",
     "text": [
      "its cool day\n",
      " in hyderabad \n"
     ]
    }
   ],
   "source": [
    "#its cool day in hyderabad\n",
    "a = \"its cool day\\n in hyderabad \"\n",
    "print a\n"
   ]
  },
  {
   "cell_type": "code",
   "execution_count": 24,
   "metadata": {
    "scrolled": true
   },
   "outputs": [
    {
     "ename": "SyntaxError",
     "evalue": "invalid syntax (<ipython-input-24-7aa74e7d06bc>, line 1)",
     "output_type": "error",
     "traceback": [
      "\u001b[0;36m  File \u001b[0;32m\"<ipython-input-24-7aa74e7d06bc>\"\u001b[0;36m, line \u001b[0;32m1\u001b[0m\n\u001b[0;31m    a = 'it's cool day in hyderabad '\u001b[0m\n\u001b[0m            ^\u001b[0m\n\u001b[0;31mSyntaxError\u001b[0m\u001b[0;31m:\u001b[0m invalid syntax\n"
     ]
    }
   ],
   "source": [
    "a = 'it's cool day in hyderabad '\n",
    "print a"
   ]
  },
  {
   "cell_type": "code",
   "execution_count": 15,
   "metadata": {},
   "outputs": [
    {
     "name": "stdout",
     "output_type": "stream",
     "text": [
      "it's cool day\n",
      " in hyderabad \n"
     ]
    }
   ],
   "source": [
    "a = \"it's cool day\\n in hyderabad \"\n",
    "print a"
   ]
  },
  {
   "cell_type": "code",
   "execution_count": 36,
   "metadata": {},
   "outputs": [
    {
     "name": "stdout",
     "output_type": "stream",
     "text": [
      "cost of products: 20\n"
     ]
    }
   ],
   "source": [
    "apple_cost = 20\n",
    "print \"cost of products:\",\"%s\"%apple_cost"
   ]
  },
  {
   "cell_type": "code",
   "execution_count": 17,
   "metadata": {},
   "outputs": [
    {
     "name": "stdout",
     "output_type": "stream",
     "text": [
      "it's cool day\t in hyder\tabad \n"
     ]
    }
   ],
   "source": [
    "a = \"it's cool day\\t in hyder\\tabad \"\n",
    "print a"
   ]
  },
  {
   "cell_type": "code",
   "execution_count": 23,
   "metadata": {},
   "outputs": [
    {
     "ename": "SyntaxError",
     "evalue": "invalid syntax (<ipython-input-23-77533729dc13>, line 1)",
     "output_type": "error",
     "traceback": [
      "\u001b[0;36m  File \u001b[0;32m\"<ipython-input-23-77533729dc13>\"\u001b[0;36m, line \u001b[0;32m1\u001b[0m\n\u001b[0;31m    a = 'it's cool day in hyderabad\u001b[0m\n\u001b[0m            ^\u001b[0m\n\u001b[0;31mSyntaxError\u001b[0m\u001b[0;31m:\u001b[0m invalid syntax\n"
     ]
    }
   ],
   "source": [
    "a = 'it's cool day in hyderabad\n",
    "print a"
   ]
  },
  {
   "cell_type": "code",
   "execution_count": 24,
   "metadata": {},
   "outputs": [
    {
     "name": "stdout",
     "output_type": "stream",
     "text": [
      "it's cool day in hyderabad\n"
     ]
    }
   ],
   "source": [
    "a = 'it\\'s cool day in hyderabad'\n",
    "print a"
   ]
  },
  {
   "cell_type": "code",
   "execution_count": 26,
   "metadata": {},
   "outputs": [
    {
     "ename": "SyntaxError",
     "evalue": "invalid syntax (<ipython-input-26-581f9029e582>, line 1)",
     "output_type": "error",
     "traceback": [
      "\u001b[0;36m  File \u001b[0;32m\"<ipython-input-26-581f9029e582>\"\u001b[0;36m, line \u001b[0;32m1\u001b[0m\n\u001b[0;31m    a = \"it's a cool day in \"hyderabad\"\u001b[0m\n\u001b[0m                                     ^\u001b[0m\n\u001b[0;31mSyntaxError\u001b[0m\u001b[0;31m:\u001b[0m invalid syntax\n"
     ]
    }
   ],
   "source": [
    "a = \"it's a cool day in \"hyderabad\"\n",
    "print a"
   ]
  },
  {
   "cell_type": "code",
   "execution_count": 27,
   "metadata": {},
   "outputs": [
    {
     "name": "stdout",
     "output_type": "stream",
     "text": [
      "it's a cool day in \"hyderabad\"\n"
     ]
    }
   ],
   "source": [
    "a = \"it's a cool day in \\\"hyderabad\\\"\"d\n",
    "print a"
   ]
  },
  {
   "cell_type": "code",
   "execution_count": 29,
   "metadata": {},
   "outputs": [
    {
     "name": "stdout",
     "output_type": "stream",
     "text": [
      "it's a cool day in 'hyderabad'\n"
     ]
    }
   ],
   "source": [
    "a = 'it\\'s a cool day in \\'hyderabad\\''\n",
    "print a"
   ]
  },
  {
   "cell_type": "code",
   "execution_count": 32,
   "metadata": {},
   "outputs": [
    {
     "name": "stdout",
     "output_type": "stream",
     "text": [
      "%s,%d,%r,%f,%o,%x\n"
     ]
    }
   ],
   "source": [
    "#formate specifiers \n",
    "# fromat specifiers: %s, %d, %o, %f, %r, %x\n",
    "print \"%s,%d,%r,%f,%o,%x\""
   ]
  },
  {
   "cell_type": "code",
   "execution_count": 31,
   "metadata": {},
   "outputs": [
    {
     "name": "stdout",
     "output_type": "stream",
     "text": [
      "2322\n"
     ]
    }
   ],
   "source": [
    "print \"%o\"%1234"
   ]
  },
  {
   "cell_type": "code",
   "execution_count": 32,
   "metadata": {},
   "outputs": [
    {
     "name": "stdout",
     "output_type": "stream",
     "text": [
      "02322\n"
     ]
    }
   ],
   "source": [
    "print oct(1234)"
   ]
  },
  {
   "cell_type": "code",
   "execution_count": 14,
   "metadata": {},
   "outputs": [
    {
     "name": "stdout",
     "output_type": "stream",
     "text": [
      "the person details:10.24\n"
     ]
    }
   ],
   "source": [
    "height = 10.24\n",
    "print \"the person details:%s\"%height"
   ]
  },
  {
   "cell_type": "code",
   "execution_count": 38,
   "metadata": {},
   "outputs": [
    {
     "name": "stdout",
     "output_type": "stream",
     "text": [
      "the person details:10.240000\n"
     ]
    }
   ],
   "source": [
    "print \"the person details:%f\"%height"
   ]
  },
  {
   "cell_type": "code",
   "execution_count": 39,
   "metadata": {},
   "outputs": [
    {
     "name": "stdout",
     "output_type": "stream",
     "text": [
      "the person details:10.24\n"
     ]
    }
   ],
   "source": [
    "print \"the person details:%s\"%height"
   ]
  },
  {
   "cell_type": "code",
   "execution_count": 39,
   "metadata": {},
   "outputs": [
    {
     "name": "stdout",
     "output_type": "stream",
     "text": [
      "the cost of product: 40\n"
     ]
    }
   ],
   "source": [
    "#cost of product\n",
    "product_cost = 40\n",
    "s1 = \"the cost of product: \" + str(product_cost)\n",
    "print s1"
   ]
  },
  {
   "cell_type": "code",
   "execution_count": 47,
   "metadata": {},
   "outputs": [
    {
     "name": "stdout",
     "output_type": "stream",
     "text": [
      "the cost of product: 40\n"
     ]
    }
   ],
   "source": [
    "#cost of product in percentail \n",
    "product_cost = 40\n",
    "s1 = \"the cost of product: %s\"%product_cost\n",
    "print s1"
   ]
  },
  {
   "cell_type": "code",
   "execution_count": 2,
   "metadata": {},
   "outputs": [
    {
     "name": "stdout",
     "output_type": "stream",
     "text": [
      "The detailes of person:  name: mahesh ,   age: 22 ,  height: 5.8\n"
     ]
    }
   ],
   "source": [
    "name =  'mahesh'\n",
    "age = 22\n",
    "height = 5.8\n",
    "\n",
    "print \"The detailes of person: \", \"name:\",name,\",   age:\",age, \",  height:\",height"
   ]
  },
  {
   "cell_type": "code",
   "execution_count": 2,
   "metadata": {},
   "outputs": [
    {
     "name": "stdout",
     "output_type": "stream",
     "text": [
      "enter the weight of the person: 40\n",
      "enter the height of the person: 4.10\n",
      "2.37953599048\n"
     ]
    }
   ],
   "source": [
    "name = \"mahesh\"\n",
    "weight = int(input(\"enter the weight of the person: \"))\n",
    "height = float(input(\"enter the height of the person: \"))\n",
    "bmi = weight/(height*height)\n",
    "print bmi\n",
    "\n"
   ]
  },
  {
   "cell_type": "code",
   "execution_count": 3,
   "metadata": {},
   "outputs": [
    {
     "name": "stdout",
     "output_type": "stream",
     "text": [
      "enter the weight of the person: 60\n",
      "enter the height of the person: 6.0\n",
      "mahesh's body_mass_index is: 1.66666666667\n"
     ]
    }
   ],
   "source": [
    "name = \"mahesh\"\n",
    "weight = int(input(\"enter the weight of the person: \"))\n",
    "height = float(input(\"enter the height of the person: \"))\n",
    "bmi = weight/(height*height)\n",
    "print \"mahesh's body_mass_index is:\",bmi\n",
    "\n"
   ]
  },
  {
   "cell_type": "code",
   "execution_count": 11,
   "metadata": {},
   "outputs": [
    {
     "name": "stdout",
     "output_type": "stream",
     "text": [
      "the person details are:   name: Jayaram ,  age:1.6 ,  height:3.5356234 ,  weight:10.343856783\n",
      "The person details are:   name: Jayaram ,  age:1.6 ,  height:3.535623 ,  weight:10.343856783\n"
     ]
    }
   ],
   "source": [
    "name=\"Jayaram\"\n",
    "age=1.6\n",
    "height=3.5356234\n",
    "weight=10.343856783\n",
    "print \"the person details are: \",\" name:\",name,\",  age:\"+str(age),\",  height:\"+str(height),\",  weight:\"+str(weight)\n",
    "\n",
    "print \"The person details are: \",\" name:\",name,\",  age:%s\"%age,\",  height:%f\"%height,\",  weight:%s\"%weight"
   ]
  },
  {
   "cell_type": "code",
   "execution_count": 16,
   "metadata": {},
   "outputs": [
    {
     "name": "stdout",
     "output_type": "stream",
     "text": [
      "KOHLI IS GOOD PLAYER\n"
     ]
    }
   ],
   "source": [
    "a = \"kohli is good player\"\n",
    "print a.upper()"
   ]
  },
  {
   "cell_type": "code",
   "execution_count": null,
   "metadata": {},
   "outputs": [],
   "source": []
  }
 ],
 "metadata": {
  "kernelspec": {
   "display_name": "Python 2",
   "language": "python",
   "name": "python2"
  },
  "language_info": {
   "codemirror_mode": {
    "name": "ipython",
    "version": 2
   },
   "file_extension": ".py",
   "mimetype": "text/x-python",
   "name": "python",
   "nbconvert_exporter": "python",
   "pygments_lexer": "ipython2",
   "version": "2.7.15rc1"
  }
 },
 "nbformat": 4,
 "nbformat_minor": 2
}
