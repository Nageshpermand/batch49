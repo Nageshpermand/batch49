{
 "cells": [
  {
   "cell_type": "code",
   "execution_count": 1,
   "metadata": {},
   "outputs": [
    {
     "data": {
      "text/plain": [
       "False"
      ]
     },
     "execution_count": 1,
     "metadata": {},
     "output_type": "execute_result"
    }
   ],
   "source": [
    "\"20\">\"3\""
   ]
  },
  {
   "cell_type": "code",
   "execution_count": 2,
   "metadata": {},
   "outputs": [
    {
     "data": {
      "text/plain": [
       "False"
      ]
     },
     "execution_count": 2,
     "metadata": {},
     "output_type": "execute_result"
    }
   ],
   "source": [
    "\"20\">\"2000000\""
   ]
  },
  {
   "cell_type": "code",
   "execution_count": 6,
   "metadata": {},
   "outputs": [
    {
     "name": "stdout",
     "output_type": "stream",
     "text": [
      "<type 'bool'>\n"
     ]
    }
   ],
   "source": [
    "a =True\n",
    "print type(a)"
   ]
  },
  {
   "cell_type": "code",
   "execution_count": 9,
   "metadata": {},
   "outputs": [
    {
     "name": "stdout",
     "output_type": "stream",
     "text": [
      "sachin is if good player\n"
     ]
    }
   ],
   "source": [
    "if True:\n",
    "    print(\"sachin is if good player\")"
   ]
  },
  {
   "cell_type": "code",
   "execution_count": 11,
   "metadata": {},
   "outputs": [],
   "source": [
    "if False:\n",
    "    print(\"sachin is if good player\")"
   ]
  },
  {
   "cell_type": "code",
   "execution_count": 12,
   "metadata": {},
   "outputs": [
    {
     "name": "stdout",
     "output_type": "stream",
     "text": [
      "enter a value: 20\n",
      "enter a value: 40\n",
      "False\n",
      "b is big\n",
      "thank you\n"
     ]
    }
   ],
   "source": [
    "a = raw_input(\"enter a value: \")\n",
    "b = raw_input(\"enter a value: \")\n",
    "print a>b\n",
    "if a>b:\n",
    "      print \"a is big\"\n",
    "else:\n",
    "      print \"b is big\"\n",
    "print\"thank you\"\n"
   ]
  },
  {
   "cell_type": "code",
   "execution_count": 13,
   "metadata": {},
   "outputs": [
    {
     "name": "stdout",
     "output_type": "stream",
     "text": [
      "enter a value: 40\n",
      "enter a value: 20\n",
      "True\n",
      "a is big\n",
      "thank you\n"
     ]
    }
   ],
   "source": [
    "a = raw_input(\"enter a value: \")\n",
    "b = raw_input(\"enter a value: \")\n",
    "print a>b\n",
    "if a>b:\n",
    "      print \"a is big\"\n",
    "else:\n",
    "      print \"b is big\"\n",
    "print\"thank you\"\n"
   ]
  },
  {
   "cell_type": "code",
   "execution_count": 15,
   "metadata": {},
   "outputs": [
    {
     "name": "stdout",
     "output_type": "stream",
     "text": [
      "enter a value: 20\n",
      "enter a value: 40\n",
      "False\n",
      "b is big\n",
      "thank you\n"
     ]
    }
   ],
   "source": [
    "a = raw_input(\"enter a value: \")\n",
    "b = raw_input(\"enter a value: \")\n",
    "print a>b\n",
    "if a>b:\n",
    "      print \"a is big\"\n",
    "else:\n",
    "      print \"b is big\"\n",
    "print\"thank you\"\n"
   ]
  },
  {
   "cell_type": "code",
   "execution_count": 20,
   "metadata": {},
   "outputs": [
    {
     "name": "stdout",
     "output_type": "stream",
     "text": [
      "enter a value: 40000\n",
      "enter a value: 4\n"
     ]
    },
    {
     "ename": "NameError",
     "evalue": "name 'floar' is not defined",
     "output_type": "error",
     "traceback": [
      "\u001b[0;31m---------------------------------------------------------------------------\u001b[0m",
      "\u001b[0;31mNameError\u001b[0m                                 Traceback (most recent call last)",
      "\u001b[0;32m<ipython-input-20-d5dee03f23c6>\u001b[0m in \u001b[0;36m<module>\u001b[0;34m()\u001b[0m\n\u001b[1;32m      2\u001b[0m \u001b[0mb\u001b[0m \u001b[0;34m=\u001b[0m \u001b[0mraw_input\u001b[0m\u001b[0;34m(\u001b[0m\u001b[0;34m\"enter a value: \"\u001b[0m\u001b[0;34m)\u001b[0m\u001b[0;34m\u001b[0m\u001b[0m\n\u001b[1;32m      3\u001b[0m \u001b[0ma\u001b[0m \u001b[0;34m=\u001b[0m \u001b[0mfloat\u001b[0m\u001b[0;34m(\u001b[0m\u001b[0ma\u001b[0m\u001b[0;34m)\u001b[0m\u001b[0;34m\u001b[0m\u001b[0m\n\u001b[0;32m----> 4\u001b[0;31m \u001b[0mb\u001b[0m \u001b[0;34m=\u001b[0m \u001b[0mfloar\u001b[0m\u001b[0;34m(\u001b[0m\u001b[0mb\u001b[0m\u001b[0;34m)\u001b[0m\u001b[0;34m\u001b[0m\u001b[0m\n\u001b[0m\u001b[1;32m      5\u001b[0m \u001b[0;32mprint\u001b[0m \u001b[0ma\u001b[0m\u001b[0;34m>\u001b[0m\u001b[0mb\u001b[0m\u001b[0;34m\u001b[0m\u001b[0m\n\u001b[1;32m      6\u001b[0m \u001b[0;32mif\u001b[0m \u001b[0ma\u001b[0m\u001b[0;34m>\u001b[0m\u001b[0mb\u001b[0m\u001b[0;34m:\u001b[0m\u001b[0;34m\u001b[0m\u001b[0m\n",
      "\u001b[0;31mNameError\u001b[0m: name 'floar' is not defined"
     ]
    }
   ],
   "source": [
    "a = raw_input(\"enter a value: \")\n",
    "b = raw_input(\"enter a value: \")\n",
    "a = float(a)\n",
    "b = floar(b)\n",
    "print a>b\n",
    "if a>b:\n",
    "      print \"a is big\"\n",
    "else:\n",
    "      print \"b is big\"\n",
    "print\"thank you\"\n"
   ]
  },
  {
   "cell_type": "code",
   "execution_count": 28,
   "metadata": {},
   "outputs": [
    {
     "ename": "SyntaxError",
     "evalue": "invalid syntax (<ipython-input-28-68fe494a0173>, line 8)",
     "output_type": "error",
     "traceback": [
      "\u001b[0;36m  File \u001b[0;32m\"<ipython-input-28-68fe494a0173>\"\u001b[0;36m, line \u001b[0;32m8\u001b[0m\n\u001b[0;31m    else\u001b[0m\n\u001b[0m         ^\u001b[0m\n\u001b[0;31mSyntaxError\u001b[0m\u001b[0;31m:\u001b[0m invalid syntax\n"
     ]
    }
   ],
   "source": [
    "\n",
    "a = raw_input(\"enter a person age: \")\n",
    "b = raw_input(\"enter a minimum age:\")\n",
    "a = float(a)\n",
    "b = float(b)\n",
    "if a>b:\n",
    "       print \"a>b\"\n",
    "else \n",
    "        print \"b>a\"\n",
    "        "
   ]
  },
  {
   "cell_type": "code",
   "execution_count": 32,
   "metadata": {},
   "outputs": [
    {
     "name": "stdout",
     "output_type": "stream",
     "text": [
      "enter a value:20\n",
      "enter a value:40\n",
      "enter a value:60\n",
      "c is big\n"
     ]
    }
   ],
   "source": [
    "a = raw_input(\"enter a value:\")\n",
    "b = raw_input(\"enter a value:\")\n",
    "c = raw_input(\"enter a value:\")\n",
    "a = float(a)\n",
    "b = float(b)\n",
    "c = float(c)\n",
    "if a>b:\n",
    "    if a>c:\n",
    "        print\"a is big\"\n",
    "if b>a:\n",
    "    if b>c:\n",
    "        print\"b is big\"\n",
    "if c>a:\n",
    "    if c>b:\n",
    "        print \"c is big\""
   ]
  },
  {
   "cell_type": "code",
   "execution_count": 8,
   "metadata": {},
   "outputs": [
    {
     "name": "stdout",
     "output_type": "stream",
     "text": [
      "enter a value:2.4\n",
      "enter a value:2.4\n",
      "enter a value:2.4\n",
      "all are equal\n",
      "thank you\n"
     ]
    }
   ],
   "source": [
    "a = raw_input(\"enter a value:\")\n",
    "b = raw_input(\"enter a value:\")\n",
    "c = raw_input(\"enter a value:\")\n",
    "a = float(a)\n",
    "b = float(b)\n",
    "c = float(c) \n",
    "if a==b and a==c:\n",
    "    print \"all are equal\"\n",
    "else:\n",
    "    if a==b and a==c:\n",
    "        print \"a is big\"\n",
    "    elif b==a and b==c:\n",
    "        print \"b is big\"\n",
    "    elif c==a and c==b:\n",
    "        print \"c is big\"\n",
    "print \"thank you\"\n"
   ]
  },
  {
   "cell_type": "code",
   "execution_count": 10,
   "metadata": {},
   "outputs": [
    {
     "name": "stdout",
     "output_type": "stream",
     "text": [
      "enter a value:2.4\n",
      "enter a value:2.4\n",
      "enter a value:4.6\n",
      "c is big\n",
      "thank you\n"
     ]
    }
   ],
   "source": [
    "a = raw_input(\"enter a value:\")\n",
    "b = raw_input(\"enter a value:\")\n",
    "c = raw_input(\"enter a value:\")\n",
    "a = float(a)\n",
    "b = float(b)\n",
    "c = float(c) \n",
    "if a==b and a==c:\n",
    "    print \"all are equal\"\n",
    "else:\n",
    "    if a>b and a>c:\n",
    "        print \"a is big\"\n",
    "    elif b>a and b>c:\n",
    "        print \"b is big\"\n",
    "    elif c>a and c>b:\n",
    "        print \"c is big\"\n",
    "print \"thank you\"\n"
   ]
  },
  {
   "cell_type": "code",
   "execution_count": 11,
   "metadata": {},
   "outputs": [
    {
     "name": "stdout",
     "output_type": "stream",
     "text": [
      "enter a value:2\n",
      "enter a value:4\n",
      "enter a value:4\n",
      "thank you\n"
     ]
    }
   ],
   "source": [
    "a = raw_input(\"enter a value:\")\n",
    "b = raw_input(\"enter a value:\")\n",
    "c = raw_input(\"enter a value:\")\n",
    "a = float(a)\n",
    "b = float(b)\n",
    "c = float(c) \n",
    "if a==b and a==c:\n",
    "    print \"all are equal\"\n",
    "else:\n",
    "    if a>b and a>c:\n",
    "        print \"a is big\"\n",
    "    elif b>a and b>c:\n",
    "        print \"b is big\"\n",
    "    elif c>a and c>b:\n",
    "        print \"c is big\"\n",
    "print \"thank you\"\n"
   ]
  },
  {
   "cell_type": "code",
   "execution_count": 12,
   "metadata": {},
   "outputs": [
    {
     "name": "stdout",
     "output_type": "stream",
     "text": [
      "enter a value:2.2\n",
      "enter a value:4.6\n",
      "enter a value:4.6\n",
      "thank you\n"
     ]
    }
   ],
   "source": [
    "a = raw_input(\"enter a value:\")\n",
    "b = raw_input(\"enter a value:\")\n",
    "c = raw_input(\"enter a value:\")\n",
    "a = float(a)\n",
    "b = float(b)\n",
    "c = float(c) \n",
    "if a==b and a==c:\n",
    "    print \"all are equal\"\n",
    "else:\n",
    "    if a>b and a>c:\n",
    "        print \"a is big\"\n",
    "    elif b>a and b>c:\n",
    "        print \"b is big\"\n",
    "    elif c>a and c>b:\n",
    "        print \"c is big\"\n",
    "print \"thank you\"\n"
   ]
  },
  {
   "cell_type": "code",
   "execution_count": 13,
   "metadata": {},
   "outputs": [
    {
     "name": "stdout",
     "output_type": "stream",
     "text": [
      "enter a value:2.2\n",
      "enter a value:2.2\n",
      "enter a value:4.2\n",
      "c is big\n",
      "thank you\n"
     ]
    }
   ],
   "source": [
    "a = raw_input(\"enter a value:\")\n",
    "b = raw_input(\"enter a value:\")\n",
    "c = raw_input(\"enter a value:\")\n",
    "a = float(a)\n",
    "b = float(b)\n",
    "c = float(c) \n",
    "if a==b and a==c:\n",
    "    print \"all are equal\"\n",
    "else:\n",
    "    if a>b and a>c:\n",
    "        print \"a is big\"\n",
    "    elif b>a and b>c:\n",
    "        print \"b is big\"\n",
    "    elif c>a and c>b:\n",
    "        print \"c is big\"\n",
    "print \"thank you\"\n"
   ]
  },
  {
   "cell_type": "code",
   "execution_count": 15,
   "metadata": {},
   "outputs": [
    {
     "name": "stdout",
     "output_type": "stream",
     "text": [
      "enter a value:2\n",
      "enter a value:4\n",
      "enter a value:2\n",
      "b is big\n",
      "thank you\n"
     ]
    }
   ],
   "source": [
    "a = raw_input(\"enter a value:\")\n",
    "b = raw_input(\"enter a value:\")\n",
    "c = raw_input(\"enter a value:\")\n",
    "a = float(a)\n",
    "b = float(b)\n",
    "c = float(c) \n",
    "if a==b and a==c:\n",
    "    print \"all are equal\"\n",
    "else:\n",
    "    if a>b and a>c:\n",
    "        print \"a is big\"\n",
    "    elif b>a and b>c:\n",
    "        print \"b is big\"\n",
    "    elif c>a and c>b:\n",
    "        print \"c is big\"\n",
    "print \"thank you\"\n"
   ]
  },
  {
   "cell_type": "code",
   "execution_count": 16,
   "metadata": {},
   "outputs": [
    {
     "name": "stdout",
     "output_type": "stream",
     "text": [
      "enter a value:4\n",
      "enter a value:8\n",
      "enter a value:4\n",
      "b is big\n",
      "thank you\n"
     ]
    }
   ],
   "source": [
    "a = raw_input(\"enter a value:\")\n",
    "b = raw_input(\"enter a value:\")\n",
    "c = raw_input(\"enter a value:\")\n",
    "a = float(a)\n",
    "b = float(b)\n",
    "c = float(c) \n",
    "if a==b and a==c:\n",
    "    print \"all are equal\"\n",
    "else:\n",
    "    if a>b and a>c:\n",
    "        print \"a is big\"\n",
    "    elif b>a and b>c:\n",
    "        print \"b is big\"\n",
    "    elif c>a and c>b:\n",
    "        print \"c is big\"\n",
    "print \"thank you\"\n"
   ]
  },
  {
   "cell_type": "code",
   "execution_count": 17,
   "metadata": {},
   "outputs": [
    {
     "name": "stdout",
     "output_type": "stream",
     "text": [
      "True\n"
     ]
    }
   ],
   "source": [
    "name = \" kohli is good player\"\n",
    "print \"good\" in name"
   ]
  },
  {
   "cell_type": "code",
   "execution_count": 19,
   "metadata": {},
   "outputs": [
    {
     "name": "stdout",
     "output_type": "stream",
     "text": [
      "False\n"
     ]
    }
   ],
   "source": [
    "name = \" kohli is good player\"\n",
    "print \"c\" in name"
   ]
  },
  {
   "cell_type": "code",
   "execution_count": 20,
   "metadata": {},
   "outputs": [
    {
     "name": "stdout",
     "output_type": "stream",
     "text": [
      "False\n"
     ]
    }
   ],
   "source": [
    "name = \" kohli is good player\"\n",
    "print \"modi\" in name"
   ]
  },
  {
   "cell_type": "code",
   "execution_count": 21,
   "metadata": {},
   "outputs": [
    {
     "name": "stdout",
     "output_type": "stream",
     "text": [
      "True\n"
     ]
    }
   ],
   "source": [
    "name = \" kohli is good player\"\n",
    "print \"g\" in name"
   ]
  },
  {
   "cell_type": "code",
   "execution_count": 25,
   "metadata": {},
   "outputs": [
    {
     "name": "stdout",
     "output_type": "stream",
     "text": [
      "operating syatems:\n",
      "\t1.windows\n",
      "\t2.os\n",
      "\t3.mac\n",
      "\tenter a option: 1\n"
     ]
    }
   ],
   "source": [
    "opt = raw_input(\"operating syatems:\\n\\t1.windows\\n\\t2.os\\n\\t3.mac\\n\\tenter a option: \")"
   ]
  },
  {
   "cell_type": "code",
   "execution_count": 33,
   "metadata": {},
   "outputs": [
    {
     "name": "stdout",
     "output_type": "stream",
     "text": [
      "operating systems:\n",
      "\t1.windows\n",
      "\t2.linux\n",
      "\t3.mac\n",
      "\tenter a option2\n",
      "go to secound floor and buy  linux gadgets\n",
      " thank you\n"
     ]
    }
   ],
   "source": [
    "opt= raw_input(\"operating systems:\\n\\t1.windows\\n\\t2.linux\\n\\t3.mac\\n\\tenter a option\")\n",
    "if opt == \"1\":\n",
    "    print \"go to first floor and buy windows gadgets\"\n",
    "if opt == \"2\":\n",
    "    print\"go to secound floor and buy  linux gadgets\"\n",
    "if opt ==\"3\":\n",
    "    print\"go to third floor and  buy mac gadgets\"\n",
    "print \" thank you\""
   ]
  },
  {
   "cell_type": "code",
   "execution_count": 34,
   "metadata": {},
   "outputs": [
    {
     "name": "stdout",
     "output_type": "stream",
     "text": [
      "operating systems:\n",
      "\t1.windows\n",
      "\t2.linux\n",
      "\t3.mac\n",
      "\tenter a option1\n",
      "go to first floor and buy windows gadgets\n",
      " thank you\n"
     ]
    }
   ],
   "source": [
    "opt= raw_input(\"operating systems:\\n\\t1.windows\\n\\t2.linux\\n\\t3.mac\\n\\tenter a option\")\n",
    "if opt == \"1\":\n",
    "    print \"go to first floor and buy windows gadgets\"\n",
    "if opt == \"2\":\n",
    "    print\"go to secound floor and buy  linux gadgets\"\n",
    "if opt ==\"3\":\n",
    "    print\"go to third floor and  buy mac gadgets\"\n",
    "print \" thank you\""
   ]
  },
  {
   "cell_type": "code",
   "execution_count": 35,
   "metadata": {},
   "outputs": [
    {
     "name": "stdout",
     "output_type": "stream",
     "text": [
      "operating systems:\n",
      "\t1.windows\n",
      "\t2.linux\n",
      "\t3.mac\n",
      "\tenter a option6\n",
      "there is only 3 floors so select 1 or 2 or 3\n",
      " thank you\n"
     ]
    }
   ],
   "source": [
    "opt= raw_input(\"operating systems:\\n\\t1.windows\\n\\t2.linux\\n\\t3.mac\\n\\tenter a option\")\n",
    "if opt == \"1\":\n",
    "    print \"go to first floor and buy windows gadgets\"\n",
    "if opt == \"2\":\n",
    "    print\"go to secound floor and buy  linux gadgets\"\n",
    "if opt ==\"3\":\n",
    "    print\"go to third floor and  buy mac gadgets\"\n",
    "else:\n",
    "    print\"there is only 3 floors so select 1 or 2 or 3\"\n",
    "print \" thank you\""
   ]
  },
  {
   "cell_type": "code",
   "execution_count": 36,
   "metadata": {},
   "outputs": [
    {
     "name": "stdout",
     "output_type": "stream",
     "text": [
      "operating systems:\n",
      "\t1.windows\n",
      "\t2.linux\n",
      "\t3.mac\n",
      "\tenter a option3\n",
      "go to third floor and  buy mac gadgets\n",
      " thank you\n"
     ]
    }
   ],
   "source": [
    "opt= raw_input(\"operating systems:\\n\\t1.windows\\n\\t2.linux\\n\\t3.mac\\n\\tenter a option\")\n",
    "if opt == \"1\":\n",
    "    print \"go to first floor and buy windows gadgets\"\n",
    "if opt == \"2\":\n",
    "    print\"go to secound floor and buy  linux gadgets\"\n",
    "if opt ==\"3\":\n",
    "    print\"go to third floor and  buy mac gadgets\"\n",
    "else:\n",
    "    print\"there is only 3 floors so select 1 or 2 or 3\"\n",
    "print \" thank you\""
   ]
  },
  {
   "cell_type": "code",
   "execution_count": 37,
   "metadata": {},
   "outputs": [
    {
     "name": "stdout",
     "output_type": "stream",
     "text": [
      "operating systems:\n",
      "\t1.windows\n",
      "\t2.linux\n",
      "\t3.mac\n",
      "\tenter a option2\n",
      "go to secound floor and buy  linux gadgets\n",
      "there is only 3 floors so select 1 or 2 or 3\n",
      " thank you\n"
     ]
    }
   ],
   "source": [
    "opt= raw_input(\"operating systems:\\n\\t1.windows\\n\\t2.linux\\n\\t3.mac\\n\\tenter a option\")\n",
    "if opt == \"1\":\n",
    "    print \"go to first floor and buy windows gadgets\"\n",
    "if opt == \"2\":\n",
    "    print\"go to secound floor and buy  linux gadgets\"\n",
    "if opt ==\"3\":\n",
    "    print\"go to third floor and  buy mac gadgets\"\n",
    "else:\n",
    "    print\"there is only 3 floors so select 1 or 2 or 3\"\n",
    "print \" thank you\""
   ]
  },
  {
   "cell_type": "code",
   "execution_count": 38,
   "metadata": {},
   "outputs": [
    {
     "name": "stdout",
     "output_type": "stream",
     "text": [
      "operating systems:\n",
      "\t1.windows\n",
      "\t2.linux\n",
      "\t3.mac\n",
      "\tenter a option3\n",
      "go to third floor and  buy mac gadgets\n",
      " thank you\n"
     ]
    }
   ],
   "source": [
    "opt= raw_input(\"operating systems:\\n\\t1.windows\\n\\t2.linux\\n\\t3.mac\\n\\tenter a option\")\n",
    "if opt == \"1\":\n",
    "    print \"go to first floor and buy windows gadgets\"\n",
    "if opt == \"2\":\n",
    "    print\"go to secound floor and buy  linux gadgets\"\n",
    "if opt ==\"3\":\n",
    "    print\"go to third floor and  buy mac gadgets\"\n",
    "else:\n",
    "    print\"there is only 3 floors so select 1 or 2 or 3\"\n",
    "print \" thank you\""
   ]
  },
  {
   "cell_type": "code",
   "execution_count": 39,
   "metadata": {},
   "outputs": [
    {
     "name": "stdout",
     "output_type": "stream",
     "text": [
      "operating systems:\n",
      "\t1.windows\n",
      "\t2.linux\n",
      "\t3.mac\n",
      "\tenter a option1\n",
      "go to first floor and buy windows gadgets\n",
      "there is only 3 floors so select 1 or 2 or 3\n",
      " thank you\n"
     ]
    }
   ],
   "source": [
    "opt= raw_input(\"operating systems:\\n\\t1.windows\\n\\t2.linux\\n\\t3.mac\\n\\tenter a option\")\n",
    "if opt == \"1\":\n",
    "    print \"go to first floor and buy windows gadgets\"\n",
    "if opt == \"2\":\n",
    "    print\"go to secound floor and buy  linux gadgets\"\n",
    "if opt ==\"3\":\n",
    "    print\"go to third floor and  buy mac gadgets\"\n",
    "else:\n",
    "    print\"there is only 3 floors so select 1 or 2 or 3\"\n",
    "print \" thank you\""
   ]
  },
  {
   "cell_type": "code",
   "execution_count": 40,
   "metadata": {},
   "outputs": [
    {
     "name": "stdout",
     "output_type": "stream",
     "text": [
      "operating systems:\n",
      "\t1.windows\n",
      "\t2.linux\n",
      "\t3.mac\n",
      "\tenter a option1\n",
      "go to first floor and buy windows gadgets\n",
      " thank you\n"
     ]
    }
   ],
   "source": [
    "opt= raw_input(\"operating systems:\\n\\t1.windows\\n\\t2.linux\\n\\t3.mac\\n\\tenter a option\")\n",
    "if opt == \"1\":\n",
    "    print \"go to first floor and buy windows gadgets\"\n",
    "elif opt == \"2\":\n",
    "    print\"go to secound floor and buy  linux gadgets\"\n",
    "elif opt ==\"3\":\n",
    "    print\"go to third floor and  buy mac gadgets\"\n",
    "else:\n",
    "    print\"there is only 3 floors so select 1 or 2 or 3\"\n",
    "print \" thank you\""
   ]
  },
  {
   "cell_type": "code",
   "execution_count": 41,
   "metadata": {},
   "outputs": [
    {
     "name": "stdout",
     "output_type": "stream",
     "text": [
      "operating systems:\n",
      "\t1.windows\n",
      "\t2.linux\n",
      "\t3.mac\n",
      "\tenter a option2\n",
      "go to secound floor and buy  linux gadgets\n",
      " thank you\n"
     ]
    }
   ],
   "source": [
    "opt= raw_input(\"operating systems:\\n\\t1.windows\\n\\t2.linux\\n\\t3.mac\\n\\tenter a option\")\n",
    "if opt == \"1\":\n",
    "    print \"go to first floor and buy windows gadgets\"\n",
    "elif opt == \"2\":\n",
    "    print\"go to secound floor and buy  linux gadgets\"\n",
    "elif opt ==\"3\":\n",
    "    print\"go to third floor and  buy mac gadgets\"\n",
    "else:\n",
    "    print\"there is only 3 floors so select 1 or 2 or 3\"\n",
    "print \" thank you\""
   ]
  },
  {
   "cell_type": "code",
   "execution_count": null,
   "metadata": {},
   "outputs": [],
   "source": []
  }
 ],
 "metadata": {
  "kernelspec": {
   "display_name": "Python 2",
   "language": "python",
   "name": "python2"
  },
  "language_info": {
   "codemirror_mode": {
    "name": "ipython",
    "version": 2
   },
   "file_extension": ".py",
   "mimetype": "text/x-python",
   "name": "python",
   "nbconvert_exporter": "python",
   "pygments_lexer": "ipython2",
   "version": "2.7.15rc1"
  }
 },
 "nbformat": 4,
 "nbformat_minor": 2
}
