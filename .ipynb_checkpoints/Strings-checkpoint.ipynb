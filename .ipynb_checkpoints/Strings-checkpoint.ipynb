{
 "cells": [
  {
   "cell_type": "code",
   "execution_count": 1,
   "metadata": {},
   "outputs": [
    {
     "data": {
      "text/plain": [
       "'y'"
      ]
     },
     "execution_count": 1,
     "metadata": {},
     "output_type": "execute_result"
    }
   ],
   "source": [
    "a = \"python programmin\"\n",
    "a[1]"
   ]
  },
  {
   "cell_type": "code",
   "execution_count": 2,
   "metadata": {},
   "outputs": [
    {
     "data": {
      "text/plain": [
       "'t'"
      ]
     },
     "execution_count": 2,
     "metadata": {},
     "output_type": "execute_result"
    }
   ],
   "source": [
    "a[2]"
   ]
  },
  {
   "cell_type": "code",
   "execution_count": 3,
   "metadata": {},
   "outputs": [
    {
     "data": {
      "text/plain": [
       "'n'"
      ]
     },
     "execution_count": 3,
     "metadata": {},
     "output_type": "execute_result"
    }
   ],
   "source": [
    "a[-1]"
   ]
  },
  {
   "cell_type": "code",
   "execution_count": 4,
   "metadata": {},
   "outputs": [
    {
     "data": {
      "text/plain": [
       "'m'"
      ]
     },
     "execution_count": 4,
     "metadata": {},
     "output_type": "execute_result"
    }
   ],
   "source": [
    "a[-3]"
   ]
  },
  {
   "cell_type": "code",
   "execution_count": 5,
   "metadata": {},
   "outputs": [
    {
     "name": "stdout",
     "output_type": "stream",
     "text": [
      "17\n"
     ]
    }
   ],
   "source": [
    "print len(a)"
   ]
  },
  {
   "cell_type": "code",
   "execution_count": 6,
   "metadata": {},
   "outputs": [
    {
     "data": {
      "text/plain": [
       "'m'"
      ]
     },
     "execution_count": 6,
     "metadata": {},
     "output_type": "execute_result"
    }
   ],
   "source": [
    "a = \"python programming\"\n",
    "a[13]"
   ]
  },
  {
   "cell_type": "code",
   "execution_count": 8,
   "metadata": {},
   "outputs": [
    {
     "ename": "IndexError",
     "evalue": "string index out of range",
     "output_type": "error",
     "traceback": [
      "\u001b[0;31m---------------------------------------------------------------------------\u001b[0m",
      "\u001b[0;31mIndexError\u001b[0m                                Traceback (most recent call last)",
      "\u001b[0;32m<ipython-input-8-e2681fd04bfe>\u001b[0m in \u001b[0;36m<module>\u001b[0;34m()\u001b[0m\n\u001b[1;32m      1\u001b[0m \u001b[0ma\u001b[0m \u001b[0;34m=\u001b[0m \u001b[0;34m\"python programming\"\u001b[0m\u001b[0;34m\u001b[0m\u001b[0m\n\u001b[0;32m----> 2\u001b[0;31m \u001b[0ma\u001b[0m\u001b[0;34m[\u001b[0m\u001b[0;36m18\u001b[0m\u001b[0;34m]\u001b[0m\u001b[0;34m\u001b[0m\u001b[0m\n\u001b[0m",
      "\u001b[0;31mIndexError\u001b[0m: string index out of range"
     ]
    }
   ],
   "source": [
    "a = \"python programming\"\n",
    "a[18]"
   ]
  },
  {
   "cell_type": "code",
   "execution_count": 11,
   "metadata": {},
   "outputs": [
    {
     "name": "stdout",
     "output_type": "stream",
     "text": [
      "pyth\n"
     ]
    }
   ],
   "source": [
    "a = \"python programming\"\n",
    "print a[0]+a[1]+a[2]+a[3]"
   ]
  },
  {
   "cell_type": "code",
   "execution_count": 12,
   "metadata": {},
   "outputs": [
    {
     "name": "stdout",
     "output_type": "stream",
     "text": [
      "hon p\n"
     ]
    }
   ],
   "source": [
    "a = \"python programming\"\n",
    "print a[3:8]"
   ]
  },
  {
   "cell_type": "code",
   "execution_count": 13,
   "metadata": {},
   "outputs": [
    {
     "name": "stdout",
     "output_type": "stream",
     "text": [
      "python p\n"
     ]
    }
   ],
   "source": [
    "a = \"python programming\"\n",
    "print a[:8]"
   ]
  },
  {
   "cell_type": "code",
   "execution_count": 14,
   "metadata": {},
   "outputs": [
    {
     "name": "stdout",
     "output_type": "stream",
     "text": [
      "hon programming\n"
     ]
    }
   ],
   "source": [
    "a = \"python programming\"\n",
    "print a[3:]"
   ]
  },
  {
   "cell_type": "code",
   "execution_count": 15,
   "metadata": {},
   "outputs": [
    {
     "name": "stdout",
     "output_type": "stream",
     "text": [
      "python programming\n"
     ]
    }
   ],
   "source": [
    "a = \"python programming\"\n",
    "print a[:]"
   ]
  },
  {
   "cell_type": "code",
   "execution_count": 16,
   "metadata": {},
   "outputs": [
    {
     "name": "stdout",
     "output_type": "stream",
     "text": [
      "yhnp\n"
     ]
    }
   ],
   "source": [
    "a = \"python programming\"\n",
    "print a[1:8:2]"
   ]
  },
  {
   "cell_type": "code",
   "execution_count": 17,
   "metadata": {},
   "outputs": [
    {
     "name": "stdout",
     "output_type": "stream",
     "text": [
      "pto rgamn\n"
     ]
    }
   ],
   "source": [
    "a = \"python programming\"\n",
    "print a[::2]"
   ]
  },
  {
   "cell_type": "code",
   "execution_count": 19,
   "metadata": {},
   "outputs": [
    {
     "name": "stdout",
     "output_type": "stream",
     "text": [
      "yop\n"
     ]
    }
   ],
   "source": [
    "a = \"python programming\"\n",
    "print a[1:8:3]"
   ]
  },
  {
   "cell_type": "code",
   "execution_count": 20,
   "metadata": {},
   "outputs": [
    {
     "name": "stdout",
     "output_type": "stream",
     "text": [
      "y\n"
     ]
    }
   ],
   "source": [
    "a = \"python programming\"\n",
    "print a[1:8:30]"
   ]
  },
  {
   "cell_type": "code",
   "execution_count": 22,
   "metadata": {},
   "outputs": [
    {
     "name": "stdout",
     "output_type": "stream",
     "text": [
      "\n"
     ]
    }
   ],
   "source": [
    "a = \"python programming\"\n",
    "print a[2:4:-1]"
   ]
  },
  {
   "cell_type": "code",
   "execution_count": 23,
   "metadata": {},
   "outputs": [
    {
     "name": "stdout",
     "output_type": "stream",
     "text": [
      "\n"
     ]
    }
   ],
   "source": [
    "a = \"python programming\"\n",
    "print a[30:40]"
   ]
  },
  {
   "cell_type": "code",
   "execution_count": 24,
   "metadata": {},
   "outputs": [
    {
     "ename": "NameError",
     "evalue": "name 's' is not defined",
     "output_type": "error",
     "traceback": [
      "\u001b[0;31m---------------------------------------------------------------------------\u001b[0m",
      "\u001b[0;31mNameError\u001b[0m                                 Traceback (most recent call last)",
      "\u001b[0;32m<ipython-input-24-5ce8778ff461>\u001b[0m in \u001b[0;36m<module>\u001b[0;34m()\u001b[0m\n\u001b[0;32m----> 1\u001b[0;31m \u001b[0ms\u001b[0m\u001b[0;34m[\u001b[0m\u001b[0;36m30\u001b[0m\u001b[0;34m]\u001b[0m\u001b[0;34m\u001b[0m\u001b[0m\n\u001b[0m",
      "\u001b[0;31mNameError\u001b[0m: name 's' is not defined"
     ]
    }
   ],
   "source": [
    "s[30]"
   ]
  },
  {
   "cell_type": "code",
   "execution_count": 25,
   "metadata": {},
   "outputs": [
    {
     "name": "stdout",
     "output_type": "stream",
     "text": [
      "\n"
     ]
    }
   ],
   "source": [
    "a = \"python programming\"\n",
    "print a[2:4:-1]"
   ]
  },
  {
   "cell_type": "code",
   "execution_count": 26,
   "metadata": {},
   "outputs": [
    {
     "name": "stdout",
     "output_type": "stream",
     "text": [
      "\n"
     ]
    }
   ],
   "source": [
    "a = \"python programming\"\n",
    "print a[-1:-10:2]"
   ]
  },
  {
   "cell_type": "code",
   "execution_count": 27,
   "metadata": {},
   "outputs": [
    {
     "name": "stdout",
     "output_type": "stream",
     "text": [
      "gimro\n"
     ]
    }
   ],
   "source": [
    "a = \"python programming\"\n",
    "print a[-1:-10:-2]"
   ]
  },
  {
   "cell_type": "code",
   "execution_count": 28,
   "metadata": {},
   "outputs": [
    {
     "name": "stdout",
     "output_type": "stream",
     "text": [
      "\n"
     ]
    }
   ],
   "source": [
    "a = \"python programming\"\n",
    "print a[8:2]"
   ]
  },
  {
   "cell_type": "code",
   "execution_count": 29,
   "metadata": {},
   "outputs": [
    {
     "name": "stdout",
     "output_type": "stream",
     "text": [
      "r o\n"
     ]
    }
   ],
   "source": [
    "a = \"python programming\"\n",
    "print a[8:2:-2]"
   ]
  },
  {
   "cell_type": "code",
   "execution_count": 30,
   "metadata": {},
   "outputs": [
    {
     "name": "stdout",
     "output_type": "stream",
     "text": [
      "margorp noh\n"
     ]
    }
   ],
   "source": [
    "a = \"python programming\"\n",
    "print a[13:2:-1]"
   ]
  },
  {
   "cell_type": "code",
   "execution_count": 31,
   "metadata": {},
   "outputs": [
    {
     "name": "stdout",
     "output_type": "stream",
     "text": [
      "mon\n"
     ]
    }
   ],
   "source": [
    "a = \"python programming\"\n",
    "print a[13:2:-4]"
   ]
  },
  {
   "cell_type": "code",
   "execution_count": 32,
   "metadata": {},
   "outputs": [
    {
     "name": "stdout",
     "output_type": "stream",
     "text": [
      "gnimmargorp nohtyp\n"
     ]
    }
   ],
   "source": [
    "a = \"python programming\"\n",
    "print a[::-1]"
   ]
  },
  {
   "cell_type": "code",
   "execution_count": 33,
   "metadata": {},
   "outputs": [
    {
     "name": "stdout",
     "output_type": "stream",
     "text": [
      " programmi\n"
     ]
    }
   ],
   "source": [
    "a = \"python programming\"\n",
    "print a[6:-2]"
   ]
  },
  {
   "cell_type": "code",
   "execution_count": 34,
   "metadata": {},
   "outputs": [
    {
     "name": "stdout",
     "output_type": "stream",
     "text": [
      "\n"
     ]
    }
   ],
   "source": [
    "a = \"python programming\"\n",
    "print a[6:-2:-1]"
   ]
  },
  {
   "cell_type": "code",
   "execution_count": 35,
   "metadata": {},
   "outputs": [
    {
     "name": "stdout",
     "output_type": "stream",
     "text": [
      "thon programmi\n"
     ]
    }
   ],
   "source": [
    "a = \"python programming\"\n",
    "print a[2:-2]"
   ]
  },
  {
   "cell_type": "code",
   "execution_count": 36,
   "metadata": {},
   "outputs": [
    {
     "name": "stdout",
     "output_type": "stream",
     "text": [
      "rogrammin\n"
     ]
    }
   ],
   "source": [
    "a = \"python programming\"\n",
    "print a[8:-1]"
   ]
  },
  {
   "cell_type": "code",
   "execution_count": 37,
   "metadata": {},
   "outputs": [
    {
     "name": "stdout",
     "output_type": "stream",
     "text": [
      "rgamn\n"
     ]
    }
   ],
   "source": [
    "a = \"python programming\"\n",
    "print a[8:-1:2]"
   ]
  },
  {
   "cell_type": "code",
   "execution_count": 38,
   "metadata": {},
   "outputs": [
    {
     "name": "stdout",
     "output_type": "stream",
     "text": [
      "\n"
     ]
    }
   ],
   "source": [
    "a = \"python programming\"\n",
    "print a[8:-1:-2]"
   ]
  },
  {
   "cell_type": "code",
   "execution_count": 39,
   "metadata": {},
   "outputs": [
    {
     "name": "stdout",
     "output_type": "stream",
     "text": [
      "\n"
     ]
    }
   ],
   "source": [
    "a = \"python programming\"\n",
    "print a[-8:-1:-2]"
   ]
  },
  {
   "cell_type": "code",
   "execution_count": 40,
   "metadata": {},
   "outputs": [
    {
     "name": "stdout",
     "output_type": "stream",
     "text": [
      "grammi\n"
     ]
    }
   ],
   "source": [
    "a = \"python programming\"\n",
    "print a[-8:-1:-2]"
   ]
  },
  {
   "cell_type": "code",
   "execution_count": 41,
   "metadata": {},
   "outputs": [
    {
     "name": "stdout",
     "output_type": "stream",
     "text": [
      "gr o\n"
     ]
    }
   ],
   "source": [
    "a = \"python programming\"\n",
    "print a[-8:2:-2]"
   ]
  },
  {
   "cell_type": "code",
   "execution_count": 42,
   "metadata": {},
   "outputs": [
    {
     "name": "stdout",
     "output_type": "stream",
     "text": [
      "pyth\n"
     ]
    }
   ],
   "source": [
    "a = \"python programming\"\n",
    "print a[0:4]"
   ]
  },
  {
   "cell_type": "code",
   "execution_count": 43,
   "metadata": {},
   "outputs": [
    {
     "name": "stdout",
     "output_type": "stream",
     "text": [
      "\n"
     ]
    }
   ],
   "source": [
    "a = \"python programming\"\n",
    "print a[-1:-6]"
   ]
  },
  {
   "cell_type": "code",
   "execution_count": 44,
   "metadata": {},
   "outputs": [
    {
     "name": "stdout",
     "output_type": "stream",
     "text": [
      "pythn programming\n"
     ]
    }
   ],
   "source": [
    "a = \"python programming\"\n",
    "print a[0:4]+a[5:]"
   ]
  },
  {
   "cell_type": "code",
   "execution_count": 45,
   "metadata": {},
   "outputs": [
    {
     "name": "stdout",
     "output_type": "stream",
     "text": [
      "gnimmargorp nohtyp\n"
     ]
    }
   ],
   "source": [
    "a = \"python programming\"\n",
    "print a[::-1]"
   ]
  },
  {
   "cell_type": "code",
   "execution_count": 47,
   "metadata": {},
   "outputs": [
    {
     "name": "stdout",
     "output_type": "stream",
     "text": [
      "gimropnhy\n"
     ]
    }
   ],
   "source": [
    "# starts from -1 value\n",
    "a = \"python programming\"\n",
    "print a[::-2]"
   ]
  },
  {
   "cell_type": "code",
   "execution_count": 48,
   "metadata": {},
   "outputs": [
    {
     "name": "stdout",
     "output_type": "stream",
     "text": [
      "gmony\n"
     ]
    }
   ],
   "source": [
    "a = \"python programming\"\n",
    "print a[::-4]"
   ]
  },
  {
   "cell_type": "code",
   "execution_count": 50,
   "metadata": {},
   "outputs": [
    {
     "name": "stdout",
     "output_type": "stream",
     "text": [
      "gnimmargorp noh\n"
     ]
    }
   ],
   "source": [
    "a = \"python programming\"\n",
    "print a[:2:-1]"
   ]
  },
  {
   "cell_type": "code",
   "execution_count": 51,
   "metadata": {},
   "outputs": [
    {
     "name": "stdout",
     "output_type": "stream",
     "text": [
      "go\n"
     ]
    }
   ],
   "source": [
    "a = \"python programming\"\n",
    "print a[::-13]"
   ]
  },
  {
   "cell_type": "code",
   "execution_count": 52,
   "metadata": {},
   "outputs": [
    {
     "name": "stdout",
     "output_type": "stream",
     "text": [
      "gmony\n"
     ]
    }
   ],
   "source": [
    "a = \"python programming\"\n",
    "print a[::-4]"
   ]
  },
  {
   "cell_type": "code",
   "execution_count": 53,
   "metadata": {},
   "outputs": [
    {
     "name": "stdout",
     "output_type": "stream",
     "text": [
      "gimropnhy\n"
     ]
    }
   ],
   "source": [
    "a = \"python programming\"\n",
    "print a[::-2]"
   ]
  },
  {
   "cell_type": "code",
   "execution_count": 1,
   "metadata": {},
   "outputs": [
    {
     "name": "stdout",
     "output_type": "stream",
     "text": [
      "\n"
     ]
    }
   ],
   "source": [
    "a = \"python programming\"\n",
    "print a[1:13:-1]"
   ]
  },
  {
   "cell_type": "code",
   "execution_count": 2,
   "metadata": {},
   "outputs": [
    {
     "name": "stdout",
     "output_type": "stream",
     "text": [
      "margorp noht\n"
     ]
    }
   ],
   "source": [
    "a = \"python programming\"\n",
    "print a[13:1:-1]"
   ]
  },
  {
   "cell_type": "code",
   "execution_count": 4,
   "metadata": {},
   "outputs": [
    {
     "name": "stdout",
     "output_type": "stream",
     "text": [
      "\n"
     ]
    }
   ],
   "source": [
    "a = \"python programming\"\n",
    "print a[-1:-10:2]"
   ]
  },
  {
   "cell_type": "code",
   "execution_count": 3,
   "metadata": {},
   "outputs": [
    {
     "name": "stdout",
     "output_type": "stream",
     "text": [
      "HYDARABAD IS CAPITAL\n"
     ]
    }
   ],
   "source": [
    " a=\"hydarabad is Capital\"\n",
    "print a.upper()"
   ]
  },
  {
   "cell_type": "code",
   "execution_count": 4,
   "metadata": {},
   "outputs": [
    {
     "name": "stdout",
     "output_type": "stream",
     "text": [
      "<built-in method isupper of str object at 0x7f16000876c0>\n"
     ]
    }
   ],
   "source": [
    "a =\"1234\"\n",
    "print a.isupper"
   ]
  },
  {
   "cell_type": "code",
   "execution_count": 5,
   "metadata": {},
   "outputs": [
    {
     "name": "stdout",
     "output_type": "stream",
     "text": [
      "True\n"
     ]
    }
   ],
   "source": [
    "a =\"AB1234\"\n",
    "print a.isupper()"
   ]
  },
  {
   "cell_type": "code",
   "execution_count": 6,
   "metadata": {},
   "outputs": [
    {
     "name": "stdout",
     "output_type": "stream",
     "text": [
      "False\n"
     ]
    }
   ],
   "source": [
    "a =\"\"\n",
    "print a.isupper()"
   ]
  },
  {
   "cell_type": "code",
   "execution_count": 8,
   "metadata": {},
   "outputs": [
    {
     "name": "stdout",
     "output_type": "stream",
     "text": [
      "Hyderabad Is Capital City\n"
     ]
    }
   ],
   "source": [
    "a = \"hyderabad is capital city\"\n",
    "print a.title()"
   ]
  },
  {
   "cell_type": "code",
   "execution_count": 9,
   "metadata": {},
   "outputs": [
    {
     "name": "stdout",
     "output_type": "stream",
     "text": [
      "Hyderabad Is Capital City\n"
     ]
    }
   ],
   "source": [
    "a = \"hyderabad is caPital cITY\"\n",
    "print a.title()"
   ]
  },
  {
   "cell_type": "code",
   "execution_count": 10,
   "metadata": {},
   "outputs": [
    {
     "name": "stdout",
     "output_type": "stream",
     "text": [
      "@#Hyderabad Is Cap#Ital Ci&Ty\n"
     ]
    }
   ],
   "source": [
    "a = \"@#hyderabad is caP#ital cI&TY\"\n",
    "print a.title()\n"
   ]
  },
  {
   "cell_type": "code",
   "execution_count": 11,
   "metadata": {},
   "outputs": [
    {
     "name": "stdout",
     "output_type": "stream",
     "text": [
      "30\n"
     ]
    }
   ],
   "source": [
    "a = \"@#hyderabad is caP#ital cI&TY\"\n",
    "print a.count(\"\")\n"
   ]
  },
  {
   "cell_type": "code",
   "execution_count": 13,
   "metadata": {},
   "outputs": [
    {
     "name": "stdout",
     "output_type": "stream",
     "text": [
      "hy@hy#hyhhyyhydhyehyrhyahybhyahydhy hyihyshy hychyahyPhy#hyihythyahylhy hychyIhy&hyThyYhy\n"
     ]
    }
   ],
   "source": [
    "a = \"@#hyderabad is caP#ital cI&TY\"\n",
    "print a.replace(\"\",\"hy\")\n"
   ]
  },
  {
   "cell_type": "code",
   "execution_count": 1,
   "metadata": {},
   "outputs": [
    {
     "name": "stdout",
     "output_type": "stream",
     "text": [
      "HYDERABAD\n"
     ]
    }
   ],
   "source": [
    "#take the string from user and check whether it contains atleast one cpital letter or not\n",
    "a = \"HYDERABAD\"\n",
    "print a.upper()"
   ]
  },
  {
   "cell_type": "code",
   "execution_count": 2,
   "metadata": {},
   "outputs": [
    {
     "name": "stdout",
     "output_type": "stream",
     "text": [
      "True\n"
     ]
    }
   ],
   "source": [
    "print a.isupper()"
   ]
  },
  {
   "cell_type": "code",
   "execution_count": 3,
   "metadata": {},
   "outputs": [
    {
     "name": "stdout",
     "output_type": "stream",
     "text": [
      "hyderabad\n",
      "False\n"
     ]
    }
   ],
   "source": [
    "print a.lower()\n",
    "print a.islower()"
   ]
  },
  {
   "cell_type": "code",
   "execution_count": 4,
   "metadata": {},
   "outputs": [
    {
     "name": "stdout",
     "output_type": "stream",
     "text": [
      "True\n"
     ]
    }
   ],
   "source": [
    "a =\"HYDERABAD1234\"\n",
    "print a.isupper()"
   ]
  },
  {
   "cell_type": "code",
   "execution_count": 6,
   "metadata": {},
   "outputs": [
    {
     "name": "stdout",
     "output_type": "stream",
     "text": [
      "False\n"
     ]
    }
   ],
   "source": [
    "a =\"1234\"\n",
    "print a.isupper()"
   ]
  },
  {
   "cell_type": "code",
   "execution_count": 7,
   "metadata": {},
   "outputs": [
    {
     "name": "stdout",
     "output_type": "stream",
     "text": [
      "False\n"
     ]
    }
   ],
   "source": [
    "a = \"hyderabad1234\"\n",
    "print a.isupper()"
   ]
  },
  {
   "cell_type": "code",
   "execution_count": 8,
   "metadata": {},
   "outputs": [],
   "source": [
    "a.isupper?"
   ]
  },
  {
   "cell_type": "code",
   "execution_count": 9,
   "metadata": {},
   "outputs": [
    {
     "name": "stdout",
     "output_type": "stream",
     "text": [
      "h\n",
      "y\n",
      "d\n",
      "e\n",
      "r\n",
      "a\n",
      "b\n",
      "a\n",
      "d\n",
      " \n",
      "i\n",
      "s\n",
      " \n",
      "B\n",
      "I\n",
      "G\n",
      " \n",
      "c\n",
      "i\n",
      "t\n",
      "y\n"
     ]
    }
   ],
   "source": [
    "a = \"hyderabad is BIG city\"\n",
    "for char in a:\n",
    "    print char"
   ]
  },
  {
   "cell_type": "code",
   "execution_count": 13,
   "metadata": {},
   "outputs": [
    {
     "name": "stdout",
     "output_type": "stream",
     "text": [
      "h\n",
      "y\n",
      "d\n",
      "e\n",
      "r\n",
      "a\n",
      "b\n",
      "a\n",
      "d\n"
     ]
    }
   ],
   "source": [
    "a = \"hyderabad\"\n",
    "for char in a:\n",
    "        print char\n",
    "      "
   ]
  },
  {
   "cell_type": "code",
   "execution_count": 14,
   "metadata": {},
   "outputs": [
    {
     "name": "stdout",
     "output_type": "stream",
     "text": [
      "False\n"
     ]
    }
   ],
   "source": [
    "a =(\"1234abc\")\n",
    "print a.isupper()"
   ]
  },
  {
   "cell_type": "code",
   "execution_count": 15,
   "metadata": {},
   "outputs": [
    {
     "name": "stdout",
     "output_type": "stream",
     "text": [
      "False\n"
     ]
    }
   ],
   "source": [
    "a =(\"1234@#$\")\n",
    "print a.isupper()"
   ]
  },
  {
   "cell_type": "code",
   "execution_count": 16,
   "metadata": {},
   "outputs": [
    {
     "name": "stdout",
     "output_type": "stream",
     "text": [
      "True\n"
     ]
    }
   ],
   "source": [
    "a =(\"1234@#$ABC\")\n",
    "print a.isupper()"
   ]
  },
  {
   "cell_type": "code",
   "execution_count": 17,
   "metadata": {},
   "outputs": [
    {
     "name": "stdout",
     "output_type": "stream",
     "text": [
      "False\n"
     ]
    }
   ],
   "source": [
    "a =(\"1234@#$Abc\")\n",
    "print a.isupper()"
   ]
  },
  {
   "cell_type": "code",
   "execution_count": 18,
   "metadata": {},
   "outputs": [
    {
     "name": "stdout",
     "output_type": "stream",
     "text": [
      "True\n"
     ]
    }
   ],
   "source": [
    "a =(\"@#$ABC\")\n",
    "print a.isupper()"
   ]
  },
  {
   "cell_type": "code",
   "execution_count": 19,
   "metadata": {},
   "outputs": [],
   "source": [
    "a.isupper?"
   ]
  },
  {
   "cell_type": "code",
   "execution_count": 20,
   "metadata": {},
   "outputs": [
    {
     "name": "stdout",
     "output_type": "stream",
     "text": [
      "False\n"
     ]
    }
   ],
   "source": [
    "a =\"hyderabad\"\n",
    "print a.isupper()"
   ]
  },
  {
   "cell_type": "code",
   "execution_count": 23,
   "metadata": {},
   "outputs": [],
   "source": [
    "a.isupper?"
   ]
  },
  {
   "cell_type": "code",
   "execution_count": 24,
   "metadata": {},
   "outputs": [
    {
     "data": {
      "text/plain": [
       "False"
      ]
     },
     "execution_count": 24,
     "metadata": {},
     "output_type": "execute_result"
    }
   ],
   "source": [
    "a=\" \"\n",
    "a.isupper()"
   ]
  },
  {
   "cell_type": "code",
   "execution_count": 25,
   "metadata": {},
   "outputs": [
    {
     "data": {
      "text/plain": [
       "False"
      ]
     },
     "execution_count": 25,
     "metadata": {},
     "output_type": "execute_result"
    }
   ],
   "source": [
    "a=\"\"\n",
    "a.isupper()"
   ]
  },
  {
   "cell_type": "code",
   "execution_count": 40,
   "metadata": {},
   "outputs": [],
   "source": [
    "a = \" hyderabad is capital city\"\n",
    "a.title?"
   ]
  },
  {
   "cell_type": "code",
   "execution_count": 43,
   "metadata": {},
   "outputs": [],
   "source": [
    "a.title?"
   ]
  },
  {
   "cell_type": "code",
   "execution_count": 44,
   "metadata": {},
   "outputs": [
    {
     "data": {
      "text/plain": [
       "' Hyderabad Is Capital City'"
      ]
     },
     "execution_count": 44,
     "metadata": {},
     "output_type": "execute_result"
    }
   ],
   "source": [
    "a.title()"
   ]
  },
  {
   "cell_type": "code",
   "execution_count": 45,
   "metadata": {},
   "outputs": [
    {
     "data": {
      "text/plain": [
       "' Hyderabad Is Capital City@#$'"
      ]
     },
     "execution_count": 45,
     "metadata": {},
     "output_type": "execute_result"
    }
   ],
   "source": [
    "a = \" hyderabad is capITal cITy@#$\"\n",
    "a.title()"
   ]
  },
  {
   "cell_type": "code",
   "execution_count": 46,
   "metadata": {},
   "outputs": [
    {
     "data": {
      "text/plain": [
       "' Hyderabad Is Capital City'"
      ]
     },
     "execution_count": 46,
     "metadata": {},
     "output_type": "execute_result"
    }
   ],
   "source": [
    "a = \" hyderabad is capital CITY\"\n",
    "a.title()"
   ]
  },
  {
   "cell_type": "code",
   "execution_count": 47,
   "metadata": {},
   "outputs": [
    {
     "data": {
      "text/plain": [
       "'#$Hyderabad Is Capital City'"
      ]
     },
     "execution_count": 47,
     "metadata": {},
     "output_type": "execute_result"
    }
   ],
   "source": [
    "a = \"#$hyderabad is capital CITY\"\n",
    "a.title()"
   ]
  },
  {
   "cell_type": "code",
   "execution_count": 50,
   "metadata": {},
   "outputs": [
    {
     "data": {
      "text/plain": [
       "'#$Hyder%Abad Is Cap2Ital City'"
      ]
     },
     "execution_count": 50,
     "metadata": {},
     "output_type": "execute_result"
    }
   ],
   "source": [
    "a = \"#$hyder%abad is cap2ital CITY\"   #it takes capital letter after any special char and numbers\n",
    "a.title()"
   ]
  },
  {
   "cell_type": "code",
   "execution_count": 51,
   "metadata": {},
   "outputs": [],
   "source": [
    "a = \"hyderabad is capital city and hyderabad is metro city\"\n",
    "a.count?"
   ]
  },
  {
   "cell_type": "code",
   "execution_count": 53,
   "metadata": {},
   "outputs": [
    {
     "data": {
      "text/plain": [
       "2"
      ]
     },
     "execution_count": 53,
     "metadata": {},
     "output_type": "execute_result"
    }
   ],
   "source": [
    "a.count(\"is\")"
   ]
  },
  {
   "cell_type": "code",
   "execution_count": 54,
   "metadata": {},
   "outputs": [
    {
     "name": "stdout",
     "output_type": "stream",
     "text": [
      "2\n"
     ]
    }
   ],
   "source": [
    "print a.count('hyderabad')"
   ]
  },
  {
   "cell_type": "code",
   "execution_count": 59,
   "metadata": {},
   "outputs": [
    {
     "name": "stdout",
     "output_type": "stream",
     "text": [
      "4\n"
     ]
    }
   ],
   "source": [
    "print a.count('t')"
   ]
  },
  {
   "cell_type": "code",
   "execution_count": 60,
   "metadata": {},
   "outputs": [
    {
     "name": "stdout",
     "output_type": "stream",
     "text": [
      "7\n"
     ]
    }
   ],
   "source": [
    "print a.count('a')"
   ]
  },
  {
   "cell_type": "code",
   "execution_count": 61,
   "metadata": {},
   "outputs": [
    {
     "name": "stdout",
     "output_type": "stream",
     "text": [
      "0\n"
     ]
    }
   ],
   "source": [
    "print a.count('IS')"
   ]
  },
  {
   "cell_type": "code",
   "execution_count": 62,
   "metadata": {},
   "outputs": [],
   "source": [
    "print a.swapcase?"
   ]
  },
  {
   "cell_type": "code",
   "execution_count": 63,
   "metadata": {},
   "outputs": [
    {
     "name": "stdout",
     "output_type": "stream",
     "text": [
      "HYDERABAD IS CAPITAL CITY AND HYDERABAD IS METRO CITY\n"
     ]
    }
   ],
   "source": [
    "print a.swapcase()"
   ]
  },
  {
   "cell_type": "code",
   "execution_count": 65,
   "metadata": {},
   "outputs": [
    {
     "name": "stdout",
     "output_type": "stream",
     "text": [
      "HYDERABAD is capital CITY\n"
     ]
    }
   ],
   "source": [
    "s = \"hyderabad IS CAPITAL city\"\n",
    "print s.swapcase()                #return as string and write lower into upper and viceversa"
   ]
  },
  {
   "cell_type": "code",
   "execution_count": 67,
   "metadata": {},
   "outputs": [
    {
     "name": "stdout",
     "output_type": "stream",
     "text": [
      "@#HYDERABAD is capital CITY1234\n"
     ]
    }
   ],
   "source": [
    "s = \"@#hyderabad IS CAPITAL city1234\"\n",
    "print s.swapcase()           "
   ]
  },
  {
   "cell_type": "code",
   "execution_count": 68,
   "metadata": {},
   "outputs": [
    {
     "name": "stdout",
     "output_type": "stream",
     "text": [
      "1234\n"
     ]
    }
   ],
   "source": [
    "s = \"1234\"\n",
    "print s.swapcase()           "
   ]
  },
  {
   "cell_type": "code",
   "execution_count": 69,
   "metadata": {},
   "outputs": [
    {
     "name": "stdout",
     "output_type": "stream",
     "text": [
      "@#$%\n"
     ]
    }
   ],
   "source": [
    "s = \"@#$%\"\n",
    "print s.swapcase()           "
   ]
  },
  {
   "cell_type": "code",
   "execution_count": 73,
   "metadata": {},
   "outputs": [
    {
     "name": "stdout",
     "output_type": "stream",
     "text": [
      "enter a substring for count in string: capital\n",
      "1\n"
     ]
    }
   ],
   "source": [
    "s = \"hyderabad is capital and metro city\"\n",
    "sub=raw_input(\"enter a substring for count in string: \")\n",
    "print s.count(sub)"
   ]
  },
  {
   "cell_type": "code",
   "execution_count": 74,
   "metadata": {},
   "outputs": [
    {
     "name": "stdout",
     "output_type": "stream",
     "text": [
      "enter a substring for count in string: hyderabad\n",
      "2\n"
     ]
    }
   ],
   "source": [
    "s = \"hyderabad is capital and hyderabad metro city\"\n",
    "sub=raw_input(\"enter a substring for count in string: \")\n",
    "print s.count(sub)"
   ]
  },
  {
   "cell_type": "code",
   "execution_count": 75,
   "metadata": {},
   "outputs": [
    {
     "name": "stdout",
     "output_type": "stream",
     "text": [
      "enter a substring for count in string: hyderabad\n",
      "2\n"
     ]
    }
   ],
   "source": [
    "s = \"hyderabad is capital and hyderabad metro city\"\n",
    "sub=raw_input(\"enter a substring for count in string: \")\n",
    "s_l=s.lower()\n",
    "sub_l=sub.lower()\n",
    "print s_l.count(sub_l)"
   ]
  },
  {
   "cell_type": "code",
   "execution_count": 76,
   "metadata": {},
   "outputs": [
    {
     "name": "stdout",
     "output_type": "stream",
     "text": [
      "enter a substring for count in string: HYDERABAD\n",
      "2\n"
     ]
    }
   ],
   "source": [
    "# if input is in big letters it converts into small letters\n",
    "s = \"hyderabad is capital and hyderabad metro city\"\n",
    "sub=raw_input(\"enter a substring for count in string: \")\n",
    "s_l=s.lower()\n",
    "sub_l=sub.lower()\n",
    "print s_l.count(sub_l)"
   ]
  },
  {
   "cell_type": "code",
   "execution_count": 77,
   "metadata": {},
   "outputs": [
    {
     "name": "stdout",
     "output_type": "stream",
     "text": [
      "enter a substring for count in string: HYDERABAD\n",
      "0\n"
     ]
    }
   ],
   "source": [
    "#if ther is withous convert s.lower() and sub.lower()\n",
    "s = \"hyderabad is capital and hyderabad metro city\"\n",
    "sub=raw_input(\"enter a substring for count in string: \")\n",
    "print s.count(sub)\n"
   ]
  },
  {
   "cell_type": "code",
   "execution_count": 78,
   "metadata": {},
   "outputs": [
    {
     "name": "stdout",
     "output_type": "stream",
     "text": [
      "enter a substring for count in string: HYDERABAD\n",
      "2\n"
     ]
    }
   ],
   "source": [
    "# if input is in big letters it converts into small letters\n",
    "s = \"hyderabad is capital and hyderabad metro city\"\n",
    "sub=raw_input(\"enter a substring for count in string: \")\n",
    "s_l=s.lower()\n",
    "sub_l=sub.lower()\n",
    "print s_l.count(sub_l)"
   ]
  },
  {
   "cell_type": "code",
   "execution_count": 80,
   "metadata": {},
   "outputs": [
    {
     "name": "stdout",
     "output_type": "stream",
     "text": [
      "enter a substring for count in string: HYDERABAD\n",
      "hyderabad is capital and hyderabad metro city\n",
      "hyderabad\n",
      "2\n"
     ]
    }
   ],
   "source": [
    "# if input is in big letters it converts into small letters\n",
    "s = \"hyderabad is capital and hyderabad metro city\"\n",
    "sub=raw_input(\"enter a substring for count in string: \")\n",
    "s_l=s.lower()\n",
    "sub_l=sub.lower()\n",
    "print s\n",
    "print sub_l\n",
    "print s_l.count(sub_l)"
   ]
  },
  {
   "cell_type": "code",
   "execution_count": 81,
   "metadata": {},
   "outputs": [
    {
     "name": "stdout",
     "output_type": "stream",
     "text": [
      "45\n"
     ]
    }
   ],
   "source": [
    "s = \"hyderabad  is capital and hyderabad metro city\"\n",
    "print len(s)"
   ]
  },
  {
   "cell_type": "code",
   "execution_count": 93,
   "metadata": {},
   "outputs": [
    {
     "name": "stdout",
     "output_type": "stream",
     "text": [
      "1\n"
     ]
    }
   ],
   "source": [
    "print len(\" \")"
   ]
  },
  {
   "cell_type": "code",
   "execution_count": 88,
   "metadata": {},
   "outputs": [
    {
     "name": "stdout",
     "output_type": "stream",
     "text": [
      "45\n"
     ]
    }
   ],
   "source": [
    "print len(s)"
   ]
  },
  {
   "cell_type": "code",
   "execution_count": 91,
   "metadata": {},
   "outputs": [
    {
     "name": "stdout",
     "output_type": "stream",
     "text": [
      "46\n"
     ]
    }
   ],
   "source": [
    "print s.count(\"\")"
   ]
  },
  {
   "cell_type": "code",
   "execution_count": 92,
   "metadata": {},
   "outputs": [],
   "source": [
    "# in the above observe len(s) and s.count(\"\")"
   ]
  },
  {
   "cell_type": "code",
   "execution_count": 1,
   "metadata": {},
   "outputs": [
    {
     "name": "stdout",
     "output_type": "stream",
     "text": [
      "20\n"
     ]
    }
   ],
   "source": [
    "a = \"hyderabadcapitalcity\"\n",
    "print len(a)"
   ]
  },
  {
   "cell_type": "code",
   "execution_count": 2,
   "metadata": {},
   "outputs": [
    {
     "name": "stdout",
     "output_type": "stream",
     "text": [
      "HYDERABADcapitalcity\n"
     ]
    }
   ],
   "source": [
    "print a.replace(\"hyderabad\",\"HYDERABAD\")"
   ]
  },
  {
   "cell_type": "code",
   "execution_count": 3,
   "metadata": {},
   "outputs": [
    {
     "name": "stdout",
     "output_type": "stream",
     "text": [
      "  capitalcity\n"
     ]
    }
   ],
   "source": [
    "a = \"hyderabad capitalcity\"\n",
    "print a.replace(\"hyderabad\",\" \")"
   ]
  },
  {
   "cell_type": "code",
   "execution_count": 4,
   "metadata": {},
   "outputs": [
    {
     "name": "stdout",
     "output_type": "stream",
     "text": [
      " capitalcity\n"
     ]
    }
   ],
   "source": [
    "a = \"hyderabad capitalcity\"\n",
    "print a.replace(\"hyderabad\",\"\")"
   ]
  },
  {
   "cell_type": "code",
   "execution_count": 6,
   "metadata": {},
   "outputs": [
    {
     "name": "stdout",
     "output_type": "stream",
     "text": [
      "hyderabadhhyderabadyhyderabaddhyderabadehyderabadrhyderabadahyderabadbhyderabadahyderabaddhyderabad hyderabadchyderabadahyderabadphyderabadihyderabadthyderabadahyderabadlhyderabadchyderabadihyderabadthyderabadyhyderabad\n"
     ]
    }
   ],
   "source": [
    "print a.replace(\"\",\"hyderabad\")\n",
    "# ech char is replce with full string before charector and after charector"
   ]
  },
  {
   "cell_type": "code",
   "execution_count": 9,
   "metadata": {},
   "outputs": [
    {
     "name": "stdout",
     "output_type": "stream",
     "text": [
      "hyderabad\n"
     ]
    }
   ],
   "source": [
    "a = \"hyde bad\"\n",
    "print a.replace(\" \",\"ra\")"
   ]
  },
  {
   "cell_type": "code",
   "execution_count": 10,
   "metadata": {},
   "outputs": [
    {
     "name": "stdout",
     "output_type": "stream",
     "text": [
      "hyderabadhhyderabadyhyderabaddhyderabadehyderabadrhyderabadahyderabadbhyderabadahyderabaddhyderabad\n"
     ]
    }
   ],
   "source": [
    "a = \"hyderabad\"\n",
    "print a.replace(\"\",\"hyderabad\")"
   ]
  },
  {
   "cell_type": "code",
   "execution_count": 12,
   "metadata": {},
   "outputs": [
    {
     "name": "stdout",
     "output_type": "stream",
     "text": [
      "False\n"
     ]
    }
   ],
   "source": [
    "# hear \"\" and \" \" are not equal\n",
    "print \"\"==\" \""
   ]
  },
  {
   "cell_type": "code",
   "execution_count": 13,
   "metadata": {},
   "outputs": [
    {
     "name": "stdout",
     "output_type": "stream",
     "text": [
      "enter a substring for count in string: HYDERABAD\n",
      "hyderabad is capital and hyderabad metro city\n",
      "hyderabad\n",
      "2\n"
     ]
    }
   ],
   "source": [
    "s = \"hyderabad is capital and hyderabad metro city\"\n",
    "sub=raw_input(\"enter a substring for count in string: \")\n",
    "s_l=s.lower()\n",
    "sub_l=sub.lower()\n",
    "print s\n",
    "print sub_l\n",
    "print s_l.count(sub_l)"
   ]
  },
  {
   "cell_type": "code",
   "execution_count": 14,
   "metadata": {},
   "outputs": [
    {
     "name": "stdout",
     "output_type": "stream",
     "text": [
      "enter a substring for count in string: \n",
      "hyderabad is capital and hyderabad metro city\n",
      "\n",
      "46\n"
     ]
    }
   ],
   "source": [
    "s = \"hyderabad is capital and hyderabad metro city\"\n",
    "sub=raw_input(\"enter a substring for count in string: \")\n",
    "s_l=s.lower()\n",
    "sub_l=sub.lower()\n",
    "print s\n",
    "print sub_l\n",
    "print s_l.count(sub_l)\n"
   ]
  },
  {
   "cell_type": "code",
   "execution_count": 15,
   "metadata": {},
   "outputs": [
    {
     "name": "stdout",
     "output_type": "stream",
     "text": [
      "enter a substring for count in string: \"\"\n",
      "hyderabad is capital and hyderabad metro city\n",
      "\"\"\n",
      "0\n"
     ]
    }
   ],
   "source": [
    "s = \"hyderabad is capital and hyderabad metro city\"\n",
    "sub=raw_input(\"enter a substring for count in string: \")\n",
    "s_l=s.lower()\n",
    "sub_l=sub.lower()\n",
    "print s\n",
    "print sub_l\n",
    "print s_l.count(sub_l)\n"
   ]
  },
  {
   "cell_type": "code",
   "execution_count": 16,
   "metadata": {},
   "outputs": [
    {
     "name": "stdout",
     "output_type": "stream",
     "text": [
      "enter a substring for count in string: hyderabad\n",
      "hyderabad is capital and hyderabad metro city\n",
      "hyderabad\n",
      "2\n"
     ]
    }
   ],
   "source": [
    "s = \"hyderabad is capital and hyderabad metro city\"\n",
    "sub=raw_input(\"enter a substring for count in string: \")\n",
    "s_l=s.lower()\n",
    "sub_l=sub.lower()\n",
    "print s\n",
    "print sub_l\n",
    "print s_l.count(sub_l)\n"
   ]
  },
  {
   "cell_type": "code",
   "execution_count": 17,
   "metadata": {},
   "outputs": [
    {
     "name": "stdout",
     "output_type": "stream",
     "text": [
      "enter a substring for count in string: is\n",
      "hyderabad is capital and hyderabad metro city\n",
      "is\n",
      "1\n"
     ]
    }
   ],
   "source": [
    "s = \"hyderabad is capital and hyderabad metro city\"\n",
    "sub=raw_input(\"enter a substring for count in string: \")\n",
    "s_l=s.lower()\n",
    "sub_l=sub.lower()\n",
    "print s\n",
    "print sub_l\n",
    "print s_l.count(sub_l)\n"
   ]
  },
  {
   "cell_type": "code",
   "execution_count": 19,
   "metadata": {},
   "outputs": [
    {
     "name": "stdout",
     "output_type": "stream",
     "text": [
      "enter a substring for count in string: b\n",
      "hyderabad is capital and hyderabad metro city\n",
      "b\n",
      "2\n"
     ]
    }
   ],
   "source": [
    "s = \"hyderabad is capital and hyderabad metro city\"\n",
    "sub=raw_input(\"enter a substring for count in string: \")\n",
    "s_l=s.lower()\n",
    "sub_l=sub.lower()\n",
    "print s\n",
    "print sub_l\n",
    "print s_l.count(sub_l)\n"
   ]
  },
  {
   "cell_type": "code",
   "execution_count": 20,
   "metadata": {},
   "outputs": [
    {
     "name": "stdout",
     "output_type": "stream",
     "text": [
      "enter a substring for count in string: \n",
      "hyderabad is capital and hyderabad metro city\n",
      "\n",
      "46\n"
     ]
    }
   ],
   "source": [
    "s = \"hyderabad is capital and hyderabad metro city\"\n",
    "sub=raw_input(\"enter a substring for count in string: \")\n",
    "s_l=s.lower()\n",
    "sub_l=sub.lower()\n",
    "print s\n",
    "print sub_l\n",
    "print s_l.count(sub_l)\n",
    "# there if raw_input is not entered"
   ]
  },
  {
   "cell_type": "code",
   "execution_count": 23,
   "metadata": {},
   "outputs": [
    {
     "name": "stdout",
     "output_type": "stream",
     "text": [
      "hhhyhdhehrhahbhahdh hihsh hchahphihthahlh hahnhdh hhhyhdhehrhahbhahdh hmhehthrhoh hchihthyh\n"
     ]
    }
   ],
   "source": [
    "s = \"hyderabad is capital and hyderabad metro city\"\n",
    "print s.replace(\"\",\"h\")"
   ]
  },
  {
   "cell_type": "code",
   "execution_count": 24,
   "metadata": {},
   "outputs": [
    {
     "name": "stdout",
     "output_type": "stream",
     "text": [
      "enter a substring for count in string: hyderabad\n",
      "2\n"
     ]
    }
   ],
   "source": [
    "s = \"hyderabad is capital and hyderabad metro city\"\n",
    "sub=raw_input(\"enter a substring for count in string: \")\n",
    "s_l=s.lower()\n",
    "sub_l=sub.lower()\n",
    "if sub_l==\"\":\n",
    "    print \"please give valid string :atleast one charecter\"\n",
    "else:\n",
    "    print  s_l.count(sub_l)\n"
   ]
  },
  {
   "cell_type": "code",
   "execution_count": 25,
   "metadata": {},
   "outputs": [
    {
     "name": "stdout",
     "output_type": "stream",
     "text": [
      "enter a substring for count in string: \"\"\n",
      "0\n"
     ]
    }
   ],
   "source": [
    "s = \"hyderabad is capital and hyderabad metro city\"\n",
    "sub=raw_input(\"enter a substring for count in string: \")\n",
    "s_l=s.lower()\n",
    "sub_l=sub.lower()\n",
    "if sub_l==\"\":\n",
    "    print \"please give valid string :atleast one charecter\"\n",
    "else:\n",
    "    print  s_l.count(sub_l)\n"
   ]
  },
  {
   "cell_type": "code",
   "execution_count": 26,
   "metadata": {},
   "outputs": [
    {
     "name": "stdout",
     "output_type": "stream",
     "text": [
      "enter a substring for count in string: \n",
      "please give valid string :atleast one charecter\n"
     ]
    }
   ],
   "source": [
    "s = \"hyderabad is capital and hyderabad metro city\"\n",
    "sub=raw_input(\"enter a substring for count in string: \")\n",
    "s_l=s.lower()\n",
    "sub_l=sub.lower()\n",
    "if sub_l==\"\":\n",
    "    print \"please give valid string :atleast one charecter\"\n",
    "else:\n",
    "    print  s_l.count(sub_l)\n",
    "# hear \"\" means  the raw_input is empty"
   ]
  },
  {
   "cell_type": "code",
   "execution_count": 27,
   "metadata": {},
   "outputs": [
    {
     "name": "stdout",
     "output_type": "stream",
     "text": [
      "enter a substring for count in string: is\n",
      "1\n"
     ]
    }
   ],
   "source": [
    "s = \"hyderabad is capital and hyderabad metro city\"\n",
    "sub=raw_input(\"enter a substring for count in string: \")\n",
    "s_l=s.lower()\n",
    "sub_l=sub.lower()\n",
    "if sub_l==\"\":\n",
    "    print \"please give valid string :atleast one charecter\"\n",
    "else:\n",
    "    print  s_l.count(sub_l)\n"
   ]
  },
  {
   "cell_type": "code",
   "execution_count": 28,
   "metadata": {},
   "outputs": [
    {
     "name": "stdout",
     "output_type": "stream",
     "text": [
      "enter a substring for count in string: b\n",
      "2\n"
     ]
    }
   ],
   "source": [
    "s = \"hyderabad is capital and hyderabad metro city\"\n",
    "sub=raw_input(\"enter a substring for count in string: \")\n",
    "s_l=s.lower()\n",
    "sub_l=sub.lower()\n",
    "if sub_l==\"\":\n",
    "    print \"please give valid string :atleast one charecter\"\n",
    "else:\n",
    "    print  s_l.count(sub_l)\n"
   ]
  },
  {
   "cell_type": "code",
   "execution_count": 29,
   "metadata": {},
   "outputs": [
    {
     "name": "stdout",
     "output_type": "stream",
     "text": [
      "enter a substring for count in string: d\n",
      "5\n"
     ]
    }
   ],
   "source": [
    "s = \"hyderabad is capital and hyderabad metro city\"\n",
    "sub=raw_input(\"enter a substring for count in string: \")\n",
    "s_l=s.lower()\n",
    "sub_l=sub.lower()\n",
    "if sub_l==\"\":\n",
    "    print \"please give valid string :atleast one charecter\"\n",
    "else:\n",
    "    print  s_l.count(sub_l)\n"
   ]
  },
  {
   "cell_type": "code",
   "execution_count": 30,
   "metadata": {},
   "outputs": [
    {
     "name": "stdout",
     "output_type": "stream",
     "text": [
      "enter a substring for count in string: a\n",
      "7\n"
     ]
    }
   ],
   "source": [
    "s = \"hyderabad is capital and hyderabad metro city\"\n",
    "sub=raw_input(\"enter a substring for count in string: \")\n",
    "s_l=s.lower()\n",
    "sub_l=sub.lower()\n",
    "if sub_l==\"\":\n",
    "    print \"please give valid string :atleast one charecter\"\n",
    "else:\n",
    "    print  s_l.count(sub_l)\n"
   ]
  },
  {
   "cell_type": "code",
   "execution_count": 31,
   "metadata": {},
   "outputs": [
    {
     "name": "stdout",
     "output_type": "stream",
     "text": [
      "enter a substring for count in string: h\n",
      "2\n"
     ]
    }
   ],
   "source": [
    "s = \"hyderabad is capital and hyderabad metro city\"\n",
    "sub=raw_input(\"enter a substring for count in string: \")\n",
    "s_l=s.lower()\n",
    "sub_l=sub.lower()\n",
    "if sub_l==\"\":\n",
    "    print \"please give valid string :atleast one charecter\"\n",
    "else:\n",
    "    print  s_l.count(sub_l)\n"
   ]
  },
  {
   "cell_type": "code",
   "execution_count": 32,
   "metadata": {},
   "outputs": [
    {
     "name": "stdout",
     "output_type": "stream",
     "text": [
      "enter a substring for count in string: \n",
      "please give valid string :atleast one charecter\n"
     ]
    }
   ],
   "source": [
    "s = \"hyderabad is capital and hyderabad metro city\"\n",
    "sub=raw_input(\"enter a substring for count in string: \")\n",
    "s_l=s.lower()\n",
    "sub_l=sub.lower()\n",
    "if sub_l==\"\":\n",
    "    print \"please give valid string :atleast one charecter\"\n",
    "else:\n",
    "    print  s_l.count(sub_l)\n"
   ]
  },
  {
   "cell_type": "code",
   "execution_count": 33,
   "metadata": {},
   "outputs": [
    {
     "name": "stdout",
     "output_type": "stream",
     "text": [
      "enter a substring for count in string: \n",
      "please give valid string :atleast one charecter\n"
     ]
    }
   ],
   "source": [
    "s = \"hyderabad is capital and hyderabad metro city\"\n",
    "sub=raw_input(\"enter a substring for count in string: \")\n",
    "s_l=s.lower()\n",
    "sub_l=sub.lower()\n",
    "if sub_l==\"\":\n",
    "    print \"please give valid string :atleast one charecter\"\n",
    "else:\n",
    "    print  s_l.count(sub_l)\n"
   ]
  },
  {
   "cell_type": "code",
   "execution_count": 34,
   "metadata": {},
   "outputs": [
    {
     "name": "stdout",
     "output_type": "stream",
     "text": [
      "enter a substring for count in string: \n",
      "please give valid string :atleast one charecter\n"
     ]
    }
   ],
   "source": [
    "s = \"hyderabad is capital and hyderabad metro city\"\n",
    "sub=raw_input(\"enter a substring for count in string: \")\n",
    "s_l=s.lower()\n",
    "sub_l=sub.lower()\n",
    "if sub_l==\"\":\n",
    "    print \"please give valid string :atleast one charecter\"\n",
    "else:\n",
    "    print  s_l.count(sub_l)\n"
   ]
  },
  {
   "cell_type": "code",
   "execution_count": 35,
   "metadata": {},
   "outputs": [
    {
     "name": "stdout",
     "output_type": "stream",
     "text": [
      "enter a substring for count in string: \n",
      "please give valid string :atleast one charecter\n"
     ]
    }
   ],
   "source": [
    "s = \"hyderabad is capital and hyderabad metro city\"\n",
    "sub=raw_input(\"enter a substring for count in string: \")\n",
    "s_l=s.lower()\n",
    "sub_l=sub.lower()\n",
    "if sub_l==\"\":\n",
    "    print \"please give valid string :atleast one charecter\"\n",
    "else:\n",
    "    print  s_l.count(sub_l)\n"
   ]
  },
  {
   "cell_type": "code",
   "execution_count": 36,
   "metadata": {},
   "outputs": [
    {
     "data": {
      "text/plain": [
       "1"
      ]
     },
     "execution_count": 36,
     "metadata": {},
     "output_type": "execute_result"
    }
   ],
   "source": [
    "len(\" \")"
   ]
  },
  {
   "cell_type": "code",
   "execution_count": 37,
   "metadata": {},
   "outputs": [
    {
     "data": {
      "text/plain": [
       "4"
      ]
     },
     "execution_count": 37,
     "metadata": {},
     "output_type": "execute_result"
    }
   ],
   "source": [
    "len(\"    \")"
   ]
  },
  {
   "cell_type": "code",
   "execution_count": 38,
   "metadata": {},
   "outputs": [
    {
     "data": {
      "text/plain": [
       "0"
      ]
     },
     "execution_count": 38,
     "metadata": {},
     "output_type": "execute_result"
    }
   ],
   "source": [
    "len(\"\")"
   ]
  },
  {
   "cell_type": "code",
   "execution_count": 40,
   "metadata": {},
   "outputs": [
    {
     "data": {
      "text/plain": [
       "False"
      ]
     },
     "execution_count": 40,
     "metadata": {},
     "output_type": "execute_result"
    }
   ],
   "source": [
    "bool(\"\")"
   ]
  },
  {
   "cell_type": "code",
   "execution_count": 41,
   "metadata": {},
   "outputs": [
    {
     "data": {
      "text/plain": [
       "True"
      ]
     },
     "execution_count": 41,
     "metadata": {},
     "output_type": "execute_result"
    }
   ],
   "source": [
    "bool(\" \")"
   ]
  },
  {
   "cell_type": "code",
   "execution_count": 42,
   "metadata": {},
   "outputs": [
    {
     "data": {
      "text/plain": [
       "True"
      ]
     },
     "execution_count": 42,
     "metadata": {},
     "output_type": "execute_result"
    }
   ],
   "source": [
    "bool(\"kjhfdkjas\")"
   ]
  },
  {
   "cell_type": "code",
   "execution_count": 43,
   "metadata": {},
   "outputs": [
    {
     "name": "stdout",
     "output_type": "stream",
     "text": [
      "enter a substring for count in string: hyderabad\n",
      "2\n"
     ]
    }
   ],
   "source": [
    "#we can also write using boolean operation \n",
    "s = \"hyderabad is capital and hyderabad metro city\"\n",
    "sub=raw_input(\"enter a substring for count in string: \")\n",
    "s_l=s.lower()\n",
    "sub_l=sub.lower()\n",
    "if bool(sub_l):\n",
    "    print  s_l.count(sub_l)\n",
    "else:\n",
    "    print \"please give valid string :atleast one charecter\"\n",
    "\n"
   ]
  },
  {
   "cell_type": "code",
   "execution_count": 44,
   "metadata": {},
   "outputs": [
    {
     "name": "stdout",
     "output_type": "stream",
     "text": [
      "enter a substring for count in string: \n",
      "please give valid string :atleast one charecter\n"
     ]
    }
   ],
   "source": [
    "s = \"hyderabad is capital and hyderabad metro city\"\n",
    "sub=raw_input(\"enter a substring for count in string: \")\n",
    "s_l=s.lower()\n",
    "sub_l=sub.lower()\n",
    "if bool(sub_l):\n",
    "    print  s_l.count(sub_l)\n",
    "else:\n",
    "    print \"please give valid string :atleast one charecter\""
   ]
  },
  {
   "cell_type": "code",
   "execution_count": 45,
   "metadata": {},
   "outputs": [
    {
     "name": "stdout",
     "output_type": "stream",
     "text": [
      "enter a substring for count in string: hyderabad\n",
      "2\n"
     ]
    }
   ],
   "source": [
    "#and also we can write direct:\n",
    "s = \"hyderabad is capital and hyderabad metro city\"\n",
    "sub=raw_input(\"enter a substring for count in string: \")\n",
    "s_l=s.lower()\n",
    "sub_l=sub.lower()\n",
    "if (sub_l):\n",
    "    print  s_l.count(sub_l)\n",
    "else:\n",
    "    print \"please give valid string :atleast one charecter\""
   ]
  },
  {
   "cell_type": "code",
   "execution_count": 46,
   "metadata": {},
   "outputs": [
    {
     "name": "stdout",
     "output_type": "stream",
     "text": [
      "enter a substring for count in string: \n",
      "please give valid string :atleast one charecter\n"
     ]
    }
   ],
   "source": [
    "s = \"hyderabad is capital and hyderabad metro city\"\n",
    "sub=raw_input(\"enter a substring for count in string: \")\n",
    "s_l=s.lower()\n",
    "sub_l=sub.lower()\n",
    "if (sub_l):\n",
    "    print  s_l.count(sub_l)\n",
    "else:\n",
    "    print \"please give valid string :atleast one charecter\""
   ]
  },
  {
   "cell_type": "code",
   "execution_count": 47,
   "metadata": {},
   "outputs": [
    {
     "name": "stdout",
     "output_type": "stream",
     "text": [
      "enter a substring for count in string: jskdafhkdjl\n",
      "0\n"
     ]
    }
   ],
   "source": [
    "s = \"hyderabad is capital and hyderabad metro city\"\n",
    "sub=raw_input(\"enter a substring for count in string: \")\n",
    "s_l=s.lower()\n",
    "sub_l=sub.lower()\n",
    "if (sub_l):\n",
    "    print  s_l.count(sub_l)\n",
    "else:\n",
    "    print \"please give valid string :atleast one charecter\""
   ]
  },
  {
   "cell_type": "code",
   "execution_count": 48,
   "metadata": {},
   "outputs": [
    {
     "name": "stdout",
     "output_type": "stream",
     "text": [
      "enter a substring for count in string: hjkfhdlkajhlkja\n",
      "0\n"
     ]
    }
   ],
   "source": [
    "s = \"hyderabad is capital and hyderabad metro city\"\n",
    "sub=raw_input(\"enter a substring for count in string: \")\n",
    "s_l=s.lower()\n",
    "sub_l=sub.lower()\n",
    "if (sub_l):\n",
    "    print  s_l.count(sub_l)\n",
    "else:\n",
    "    print \"please give valid string :atleast one charecter\""
   ]
  },
  {
   "cell_type": "code",
   "execution_count": 49,
   "metadata": {},
   "outputs": [
    {
     "name": "stdout",
     "output_type": "stream",
     "text": [
      "l contain an elements\n"
     ]
    }
   ],
   "source": [
    "l = [10,20,30,40]\n",
    "if l:\n",
    "    print\"l contain an elements\"\n",
    "else:\n",
    "    print\"l doesnot contain an elements\" "
   ]
  },
  {
   "cell_type": "code",
   "execution_count": 50,
   "metadata": {},
   "outputs": [
    {
     "name": "stdout",
     "output_type": "stream",
     "text": [
      "l doesnot contain an elements\n"
     ]
    }
   ],
   "source": [
    "l=[]\n",
    "if l:\n",
    "    print\"l contain an elements\"\n",
    "else:\n",
    "    print\"l doesnot contain an elements\" "
   ]
  },
  {
   "cell_type": "code",
   "execution_count": 52,
   "metadata": {},
   "outputs": [
    {
     "name": "stdout",
     "output_type": "stream",
     "text": [
      "Hyderabada is capital and metro city\n"
     ]
    }
   ],
   "source": [
    "a = \"hyderabada is capital and metro city\"\n",
    "print a.capitalize()"
   ]
  },
  {
   "cell_type": "code",
   "execution_count": 53,
   "metadata": {},
   "outputs": [
    {
     "name": "stdout",
     "output_type": "stream",
     "text": [
      "Hyderabada is capital and metro city\n"
     ]
    }
   ],
   "source": [
    "a = \"hyderabada is CAPITAL and metro city\"\n",
    "print a.capitalize()"
   ]
  },
  {
   "cell_type": "code",
   "execution_count": 54,
   "metadata": {},
   "outputs": [
    {
     "name": "stdout",
     "output_type": "stream",
     "text": [
      "Hyderabada is capital1234 and metro city\n"
     ]
    }
   ],
   "source": [
    "a = \"hyderabada is capital1234 and metro city\"\n",
    "print a.capitalize()"
   ]
  },
  {
   "cell_type": "code",
   "execution_count": 55,
   "metadata": {},
   "outputs": [
    {
     "name": "stdout",
     "output_type": "stream",
     "text": [
      "@#$%&&hyderabada is capital and metro city\n"
     ]
    }
   ],
   "source": [
    "a = \"@#$%&&hyderabada is capital and metro city\"\n",
    "print a.capitalize()"
   ]
  },
  {
   "cell_type": "code",
   "execution_count": 4,
   "metadata": {},
   "outputs": [
    {
     "data": {
      "text/plain": [
       "'HYDERBAD'"
      ]
     },
     "execution_count": 4,
     "metadata": {},
     "output_type": "execute_result"
    }
   ],
   "source": [
    "a = \"hyderBad\"\n",
    "a.upper()\n",
    "    "
   ]
  },
  {
   "cell_type": "code",
   "execution_count": 5,
   "metadata": {},
   "outputs": [
    {
     "data": {
      "text/plain": [
       "False"
      ]
     },
     "execution_count": 5,
     "metadata": {},
     "output_type": "execute_result"
    }
   ],
   "source": [
    "a.isupper()"
   ]
  },
  {
   "cell_type": "code",
   "execution_count": 12,
   "metadata": {},
   "outputs": [],
   "source": [
    "for char in a:\n",
    "    if  char == a.upper():\n",
    "        print char"
   ]
  },
  {
   "cell_type": "code",
   "execution_count": 14,
   "metadata": {},
   "outputs": [
    {
     "name": "stdout",
     "output_type": "stream",
     "text": [
      "B\n"
     ]
    }
   ],
   "source": [
    "a = \"hyderBad\"\n",
    "for i in a:\n",
    "    if i.isupper():\n",
    "        print i"
   ]
  },
  {
   "cell_type": "code",
   "execution_count": 36,
   "metadata": {},
   "outputs": [
    {
     "name": "stdout",
     "output_type": "stream",
     "text": [
      " the capital letters are in given string: H\n",
      "the capital letters are in given string: B\n"
     ]
    }
   ],
   "source": [
    "#take the string from user and check whether it contains atleast one cpital letter or not\n",
    "a = \"HyderBad\"\n",
    "for i in a:\n",
    "    \n",
    "    if i.isupper():\n",
    "        print \"the capital letters are in given string:\",i\n",
    "    \n",
    "        "
   ]
  },
  {
   "cell_type": "code",
   "execution_count": 27,
   "metadata": {},
   "outputs": [
    {
     "name": "stdout",
     "output_type": "stream",
     "text": [
      "the capital letters are in given string: H\n",
      "the capital letters are in given string: B\n"
     ]
    }
   ],
   "source": [
    "a = \"HyderBad\"\n",
    "for i in a:\n",
    "    \n",
    "    if i.isupper():\n",
    "        print \"the capital letters are in given string:\",i\n",
    "        "
   ]
  },
  {
   "cell_type": "code",
   "execution_count": 31,
   "metadata": {},
   "outputs": [
    {
     "name": "stdout",
     "output_type": "stream",
     "text": [
      "the capital letters are in given string: b\n"
     ]
    }
   ],
   "source": [
    "a = \"HYDERbAD\"\n",
    "for i in a:\n",
    "    \n",
    "    if i.islower():\n",
    "        print \"the capital letters are in given string:\",i\n",
    "        "
   ]
  },
  {
   "cell_type": "code",
   "execution_count": 55,
   "metadata": {},
   "outputs": [
    {
     "name": "stdout",
     "output_type": "stream",
     "text": [
      "hyderabad is capital city \n"
     ]
    }
   ],
   "source": [
    "a = \"hyderabad is capital city\"\n",
    "print a.center(26)"
   ]
  },
  {
   "cell_type": "code",
   "execution_count": 57,
   "metadata": {},
   "outputs": [
    {
     "name": "stdout",
     "output_type": "stream",
     "text": [
      "25\n"
     ]
    }
   ],
   "source": [
    "a = \"hyderabad is capital city\"\n",
    "print len(a)"
   ]
  },
  {
   "cell_type": "code",
   "execution_count": 58,
   "metadata": {},
   "outputs": [],
   "source": [
    "# padding in done in a a.centre()  with the length of the string  incluede space is default using"
   ]
  },
  {
   "cell_type": "code",
   "execution_count": 62,
   "metadata": {},
   "outputs": [
    {
     "name": "stdout",
     "output_type": "stream",
     "text": [
      "9\n",
      "hyderabad\n"
     ]
    }
   ],
   "source": [
    "a = \"hyderabad\"\n",
    "print len(a)\n",
    "print a"
   ]
  },
  {
   "cell_type": "code",
   "execution_count": 64,
   "metadata": {},
   "outputs": [
    {
     "name": "stdout",
     "output_type": "stream",
     "text": [
      "hyderabad \n",
      " hyderabad \n",
      " hyderabad  \n",
      "  hyderabad  \n",
      "  hyderabad   \n",
      "   hyderabad   \n",
      "   hyderabad    \n",
      "    hyderabad    \n",
      "    hyderabad     \n"
     ]
    }
   ],
   "source": [
    "print a.center(10)\n",
    "print a.center(11)\n",
    "print a.center(12)\n",
    "print a.center(13)\n",
    "print a.center(14)\n",
    "print a.center(15)\n",
    "print a.center(16)\n",
    "print a.center(17)\n",
    "print a.center(18)"
   ]
  },
  {
   "cell_type": "code",
   "execution_count": 67,
   "metadata": {},
   "outputs": [
    {
     "name": "stdout",
     "output_type": "stream",
     "text": [
      "                         hyderabad                          \n",
      "                                   hyderabad                                    \n"
     ]
    }
   ],
   "source": [
    "print a.center(60)\n",
    "print a.center(80)"
   ]
  },
  {
   "cell_type": "code",
   "execution_count": 71,
   "metadata": {},
   "outputs": [
    {
     "name": "stdout",
     "output_type": "stream",
     "text": [
      "                         hyderabad                          \n",
      "                                   hyderabad                                    \n"
     ]
    }
   ],
   "source": [
    "print a.center(60)\n",
    "print a.center(80)"
   ]
  },
  {
   "cell_type": "code",
   "execution_count": 72,
   "metadata": {},
   "outputs": [
    {
     "name": "stdout",
     "output_type": "stream",
     "text": [
      "        1234        \n"
     ]
    }
   ],
   "source": [
    "s = \"1234\"\n",
    "print s.center(20)"
   ]
  },
  {
   "cell_type": "code",
   "execution_count": 73,
   "metadata": {},
   "outputs": [
    {
     "name": "stdout",
     "output_type": "stream",
     "text": [
      "       @#$%@@       \n"
     ]
    }
   ],
   "source": [
    "s = \"@#$%@@\"\n",
    "print s.center(20)"
   ]
  },
  {
   "cell_type": "code",
   "execution_count": 74,
   "metadata": {},
   "outputs": [
    {
     "name": "stdout",
     "output_type": "stream",
     "text": [
      "               hyderabad                \n"
     ]
    }
   ],
   "source": [
    "s = \"hyderabad\"\n",
    "print s.center(40)"
   ]
  },
  {
   "cell_type": "code",
   "execution_count": 75,
   "metadata": {},
   "outputs": [
    {
     "name": "stdout",
     "output_type": "stream",
     "text": [
      "                         hyderabad                          \n"
     ]
    }
   ],
   "source": [
    "s = \"hyderabad\"\n",
    "print s.center(60)"
   ]
  },
  {
   "cell_type": "code",
   "execution_count": 79,
   "metadata": {},
   "outputs": [
    {
     "data": {
      "text/plain": [
       "True"
      ]
     },
     "execution_count": 79,
     "metadata": {},
     "output_type": "execute_result"
    }
   ],
   "source": [
    "s.endswith('d')"
   ]
  },
  {
   "cell_type": "code",
   "execution_count": 80,
   "metadata": {},
   "outputs": [
    {
     "data": {
      "text/plain": [
       "False"
      ]
     },
     "execution_count": 80,
     "metadata": {},
     "output_type": "execute_result"
    }
   ],
   "source": [
    "s.endswith('k')"
   ]
  },
  {
   "cell_type": "code",
   "execution_count": 81,
   "metadata": {},
   "outputs": [
    {
     "name": "stdout",
     "output_type": "stream",
     "text": [
      "True\n"
     ]
    }
   ],
   "source": [
    "s = \"hyderabad is capital city\"\n",
    "print s.endswith('city')"
   ]
  },
  {
   "cell_type": "code",
   "execution_count": 83,
   "metadata": {},
   "outputs": [
    {
     "name": "stdout",
     "output_type": "stream",
     "text": [
      "True\n"
     ]
    }
   ],
   "source": [
    "s = \"hyderabad is capital city\"\n",
    "print s.endswith('capital city')"
   ]
  },
  {
   "cell_type": "code",
   "execution_count": 85,
   "metadata": {},
   "outputs": [
    {
     "name": "stdout",
     "output_type": "stream",
     "text": [
      "False\n"
     ]
    }
   ],
   "source": [
    "s = \"hyderabad is capital city\"\n",
    "print s.endswith(' ')"
   ]
  },
  {
   "cell_type": "code",
   "execution_count": 86,
   "metadata": {},
   "outputs": [
    {
     "name": "stdout",
     "output_type": "stream",
     "text": [
      "True\n"
     ]
    }
   ],
   "source": [
    "s = \"hyderabad is capital city\"\n",
    "print s.endswith('')"
   ]
  },
  {
   "cell_type": "code",
   "execution_count": 87,
   "metadata": {},
   "outputs": [
    {
     "name": "stdout",
     "output_type": "stream",
     "text": [
      "hyderabad       is      capital city\n"
     ]
    }
   ],
   "source": [
    "s = \"hyderabad\\tis\\tcapital\\tcity\"\n",
    "print s.expandtabs()"
   ]
  },
  {
   "cell_type": "code",
   "execution_count": 88,
   "metadata": {},
   "outputs": [
    {
     "name": "stdout",
     "output_type": "stream",
     "text": [
      "hyderabad       is      capital city\n"
     ]
    }
   ],
   "source": [
    "s = \"hyderabad\\tis\\tcapital\\tcity\"\n",
    "print s.expandtabs()"
   ]
  },
  {
   "cell_type": "code",
   "execution_count": 5,
   "metadata": {},
   "outputs": [
    {
     "name": "stdout",
     "output_type": "stream",
     "text": [
      "1,2,3,4\n"
     ]
    }
   ],
   "source": [
    "s = ['1','2','3','4']\n",
    "seperator = ','\n",
    "print seperator.join(s)"
   ]
  },
  {
   "cell_type": "code",
   "execution_count": 4,
   "metadata": {},
   "outputs": [
    {
     "name": "stdout",
     "output_type": "stream",
     "text": [
      "['1', '2', '3', '4']\n"
     ]
    }
   ],
   "source": [
    "s = ['1','2','3','4']\n",
    "print s"
   ]
  },
  {
   "cell_type": "code",
   "execution_count": 6,
   "metadata": {},
   "outputs": [
    {
     "name": "stdout",
     "output_type": "stream",
     "text": [
      "1,2,3,4\n"
     ]
    }
   ],
   "source": [
    "s = ['1','2','3','4']\n",
    "seperator = ','\n",
    "print seperator.join(s)"
   ]
  },
  {
   "cell_type": "code",
   "execution_count": 7,
   "metadata": {},
   "outputs": [
    {
     "name": "stdout",
     "output_type": "stream",
     "text": [
      "ramesh,mahesh,ajay,harish\n"
     ]
    }
   ],
   "source": [
    "s =[\"ramesh\",\"mahesh\",\"ajay\",\"harish\"]\n",
    "a=','\n",
    "print a.join(s)"
   ]
  },
  {
   "cell_type": "code",
   "execution_count": 9,
   "metadata": {},
   "outputs": [
    {
     "name": "stdout",
     "output_type": "stream",
     "text": [
      "rameshandmaheshandajayandharish\n"
     ]
    }
   ],
   "source": [
    "s =[\"ramesh\",  \"mahesh\",  \"ajay\",  \"harish\"]\n",
    "a='and'\n",
    "print a.join(s)"
   ]
  },
  {
   "cell_type": "code",
   "execution_count": 10,
   "metadata": {},
   "outputs": [
    {
     "name": "stdout",
     "output_type": "stream",
     "text": [
      "hy de ra bad\n"
     ]
    }
   ],
   "source": [
    "s = \"hy\",\"de\",\"ra\",\"bad\"\n",
    "a = \" \"\n",
    "print a.join(s)"
   ]
  },
  {
   "cell_type": "code",
   "execution_count": 11,
   "metadata": {},
   "outputs": [
    {
     "name": "stdout",
     "output_type": "stream",
     "text": [
      "ramesh and mahesh and ajay and harish\n"
     ]
    }
   ],
   "source": [
    "s = 'ramesh','and','mahesh','and','ajay','and','harish'\n",
    "a = \" \"\n",
    "print a.join(s)\n"
   ]
  },
  {
   "cell_type": "code",
   "execution_count": 12,
   "metadata": {},
   "outputs": [
    {
     "name": "stdout",
     "output_type": "stream",
     "text": [
      "rameshandmaheshandajayandharish\n"
     ]
    }
   ],
   "source": [
    "s = 'ramesh','and','mahesh','and','ajay','and','harish'\n",
    "a = \"\"\n",
    "print a.join(s)\n"
   ]
  },
  {
   "cell_type": "code",
   "execution_count": 13,
   "metadata": {},
   "outputs": [
    {
     "name": "stdout",
     "output_type": "stream",
     "text": [
      "ramesh and mahesh and ajay and harish\n"
     ]
    }
   ],
   "source": [
    "s = 'ramesh','and','mahesh','and','ajay','and','harish'\n",
    "a = \" \"\n",
    "print a.join(s)\n"
   ]
  },
  {
   "cell_type": "code",
   "execution_count": 14,
   "metadata": {},
   "outputs": [
    {
     "name": "stdout",
     "output_type": "stream",
     "text": [
      "ramesh and mahesh and ajay and harish\n"
     ]
    }
   ],
   "source": [
    "s = 'ramesh','and','mahesh','and','ajay','and','harish'\n",
    "a = \" \"\n",
    "print a.join(s)\n"
   ]
  },
  {
   "cell_type": "code",
   "execution_count": 20,
   "metadata": {},
   "outputs": [
    {
     "data": {
      "text/plain": [
       "2"
      ]
     },
     "execution_count": 20,
     "metadata": {},
     "output_type": "execute_result"
    }
   ],
   "source": [
    "a = [1,2,3,4,1,2,3,4,1]\n",
    "a.index(3)\n"
   ]
  },
  {
   "cell_type": "code",
   "execution_count": 6,
   "metadata": {},
   "outputs": [
    {
     "name": "stdout",
     "output_type": "stream",
     "text": [
      "0\n"
     ]
    }
   ],
   "source": [
    "s = \"python program\"\n",
    "print s.find(\"python\")\n"
   ]
  },
  {
   "cell_type": "code",
   "execution_count": 9,
   "metadata": {},
   "outputs": [
    {
     "name": "stdout",
     "output_type": "stream",
     "text": [
      "name:apple, cost_price:45.672345\n"
     ]
    }
   ],
   "source": [
    "name = \"apple\"\n",
    "cost_price=45.672345\n",
    "print \"name:{0}, cost_price:{1}\".format(name,cost_price)"
   ]
  },
  {
   "cell_type": "code",
   "execution_count": 12,
   "metadata": {},
   "outputs": [
    {
     "name": "stdout",
     "output_type": "stream",
     "text": [
      "name:apple, cost_price:45.6723\n"
     ]
    }
   ],
   "source": [
    "name = \"apple\"\n",
    "cost_price=45.672345\n",
    "print \"name:{0}, cost_price:{1:.4f}\".format(name,cost_price)"
   ]
  },
  {
   "cell_type": "code",
   "execution_count": 22,
   "metadata": {},
   "outputs": [
    {
     "name": "stdout",
     "output_type": "stream",
     "text": [
      "True\n"
     ]
    }
   ],
   "source": [
    "a = \"apple\"\n",
    "print a.isalnum()"
   ]
  },
  {
   "cell_type": "code",
   "execution_count": 23,
   "metadata": {},
   "outputs": [
    {
     "name": "stdout",
     "output_type": "stream",
     "text": [
      "False\n"
     ]
    }
   ],
   "source": [
    "a = \"1,2,3,4\"\n",
    "print a.isalnum()"
   ]
  },
  {
   "cell_type": "code",
   "execution_count": 24,
   "metadata": {},
   "outputs": [
    {
     "name": "stdout",
     "output_type": "stream",
     "text": [
      "True\n"
     ]
    }
   ],
   "source": [
    "a = \"apple1234\"\n",
    "print a.isalnum()"
   ]
  },
  {
   "cell_type": "code",
   "execution_count": 25,
   "metadata": {},
   "outputs": [
    {
     "name": "stdout",
     "output_type": "stream",
     "text": [
      "False\n"
     ]
    }
   ],
   "source": [
    "a=\"@#$\"\n",
    "print a.isalnum()"
   ]
  },
  {
   "cell_type": "code",
   "execution_count": 27,
   "metadata": {},
   "outputs": [
    {
     "name": "stdout",
     "output_type": "stream",
     "text": [
      "string contains allnum\n"
     ]
    }
   ],
   "source": [
    "a = \"apple1234\"\n",
    "if  a.isalnum():\n",
    "    print \"string contains allnum\"\n",
    "else:\n",
    "    print \"string doesnot contains alnum\""
   ]
  },
  {
   "cell_type": "code",
   "execution_count": 28,
   "metadata": {},
   "outputs": [
    {
     "name": "stdout",
     "output_type": "stream",
     "text": [
      "enter a string: hyderabad\n",
      "yes\n"
     ]
    }
   ],
   "source": [
    "a = raw_input(\"enter a string: \")\n",
    "if  a.isalnum():\n",
    "    print \"yes\"\n",
    "else:\n",
    "    print \"no\""
   ]
  },
  {
   "cell_type": "code",
   "execution_count": 29,
   "metadata": {},
   "outputs": [
    {
     "name": "stdout",
     "output_type": "stream",
     "text": [
      "True\n"
     ]
    }
   ],
   "source": [
    "a = \"hyderabad\"\n",
    "print a.isalnum()"
   ]
  },
  {
   "cell_type": "code",
   "execution_count": 1,
   "metadata": {},
   "outputs": [
    {
     "name": "stdout",
     "output_type": "stream",
     "text": [
      "4\n"
     ]
    }
   ],
   "source": [
    "l = [10, 20, 30, 40]\n",
    "print len(l)"
   ]
  },
  {
   "cell_type": "code",
   "execution_count": 2,
   "metadata": {},
   "outputs": [
    {
     "name": "stdout",
     "output_type": "stream",
     "text": [
      "list conntains an elements\n"
     ]
    }
   ],
   "source": [
    "l = [10, 20, 30, 40]\n",
    "if l:\n",
    "    print \"list conntains an elements\"\n",
    "else:\n",
    "    print \"list doesnot contains elements\""
   ]
  },
  {
   "cell_type": "code",
   "execution_count": 3,
   "metadata": {},
   "outputs": [
    {
     "name": "stdout",
     "output_type": "stream",
     "text": [
      "list doesnot contains elements\n"
     ]
    }
   ],
   "source": [
    "l = []\n",
    "if l:\n",
    "    print \"list conntains an elements\"\n",
    "else:\n",
    "    print \"list doesnot contains elements\""
   ]
  },
  {
   "cell_type": "code",
   "execution_count": 4,
   "metadata": {},
   "outputs": [
    {
     "name": "stdout",
     "output_type": "stream",
     "text": [
      "Python is pure object oriented languege\n"
     ]
    }
   ],
   "source": [
    "s = \"python is pure object oriented languege\"\n",
    "print s.capitalize()"
   ]
  },
  {
   "cell_type": "code",
   "execution_count": 5,
   "metadata": {},
   "outputs": [
    {
     "name": "stdout",
     "output_type": "stream",
     "text": [
      "Python is pure object oriented languege\n"
     ]
    }
   ],
   "source": [
    "s = \"python is pure object oriented LANGUEGE\"\n",
    "print s.capitalize()"
   ]
  },
  {
   "cell_type": "code",
   "execution_count": 6,
   "metadata": {},
   "outputs": [
    {
     "name": "stdout",
     "output_type": "stream",
     "text": [
      "@#$#python is pure object oriented languege\n"
     ]
    }
   ],
   "source": [
    "s = \"@#$#python is pure object oriented languege\"\n",
    "print s.capitalize()"
   ]
  },
  {
   "cell_type": "code",
   "execution_count": 11,
   "metadata": {},
   "outputs": [
    {
     "name": "stdout",
     "output_type": "stream",
     "text": [
      "14\n",
      "                                 python program                                 \n"
     ]
    }
   ],
   "source": [
    "s =\"python program\"\n",
    "print len(s)\n",
    "print s.center(80)"
   ]
  },
  {
   "cell_type": "code",
   "execution_count": 12,
   "metadata": {},
   "outputs": [
    {
     "name": "stdout",
     "output_type": "stream",
     "text": [
      "14\n",
      "                                      python program                                      \n"
     ]
    }
   ],
   "source": [
    "s =\"python program\"\n",
    "print len(s)\n",
    "print s.center(90)"
   ]
  },
  {
   "cell_type": "code",
   "execution_count": 16,
   "metadata": {},
   "outputs": [
    {
     "name": "stdout",
     "output_type": "stream",
     "text": [
      "14\n",
      "                                      python program                                      \n",
      "****************************************************************************python program\n",
      "python program$$$$$$$$$$$$$$$$$$$$$$$$$$$$$$$$$$$$$$$$$$$$$$$$$$$$$$$$$$$$$$$$$$$$$$$$$$$$\n"
     ]
    }
   ],
   "source": [
    "s =\"python program\"\n",
    "print len(s)\n",
    "print s.center(90)\n",
    "print s.rjust(90,'*')\n",
    "print s.ljust(90,'$')"
   ]
  },
  {
   "cell_type": "code",
   "execution_count": 17,
   "metadata": {},
   "outputs": [
    {
     "name": "stdout",
     "output_type": "stream",
     "text": [
      "14\n",
      "                                      python program                                      \n",
      "                                                                            python program\n",
      "python program                                                                            \n"
     ]
    }
   ],
   "source": [
    "s =\"python program\"\n",
    "print len(s)\n",
    "print s.center(90)\n",
    "print s.rjust(90)\n",
    "print s.ljust(90)"
   ]
  },
  {
   "cell_type": "code",
   "execution_count": 18,
   "metadata": {},
   "outputs": [
    {
     "name": "stdout",
     "output_type": "stream",
     "text": [
      "14\n",
      "                                      python program                                      \n",
      "python program\n",
      "python program\n"
     ]
    }
   ],
   "source": [
    "s =\"python program\"\n",
    "print len(s)\n",
    "print s.center(90)\n",
    "print s.rjust(14,'*')\n",
    "print s.ljust(14,'$')"
   ]
  },
  {
   "cell_type": "code",
   "execution_count": 19,
   "metadata": {},
   "outputs": [
    {
     "name": "stdout",
     "output_type": "stream",
     "text": [
      "14\n",
      "                                      python program                                      \n",
      "****python program\n",
      "python program$$$$\n"
     ]
    }
   ],
   "source": [
    "s =\"python program\"\n",
    "print len(s)\n",
    "print s.center(90)\n",
    "print s.rjust(18,'*')\n",
    "print s.ljust(18,'$')"
   ]
  },
  {
   "cell_type": "code",
   "execution_count": 38,
   "metadata": {},
   "outputs": [
    {
     "name": "stdout",
     "output_type": "stream",
     "text": [
      "cHdkMWtkO2FzbA==\n",
      "\n"
     ]
    }
   ],
   "source": [
    "p=\"pwd1kd;asl\"\n",
    "print p.encode(\"base64\")      # converts binary ASCII into  radix 6"
   ]
  },
  {
   "cell_type": "code",
   "execution_count": 43,
   "metadata": {},
   "outputs": [
    {
     "name": "stdout",
     "output_type": "stream",
     "text": [
      "aHlkZXJhYmFk\n",
      "\n"
     ]
    }
   ],
   "source": [
    "p=\"hyderabad\"\n",
    "print p.encode(\"base64\")      # converts binary ASCII into  radix 6"
   ]
  },
  {
   "cell_type": "code",
   "execution_count": 44,
   "metadata": {},
   "outputs": [
    {
     "name": "stdout",
     "output_type": "stream",
     "text": [
      "hyderabad\n"
     ]
    }
   ],
   "source": [
    "p=\"hyderabad\"\n",
    "p_en= p.encode(\"base64\")     # converts binary ASCII into  radix 6\n",
    "print p_en.decode(\"base64\")"
   ]
  },
  {
   "cell_type": "code",
   "execution_count": 45,
   "metadata": {},
   "outputs": [
    {
     "name": "stdout",
     "output_type": "stream",
     "text": [
      "1234hy%er@#@% is $@pit@l $ity\n"
     ]
    }
   ],
   "source": [
    "s =\"1234hyderabad is capital city\"\n",
    "from string import maketrans\n",
    "table = maketrans(\"abcd\",\"@#$%\")\n",
    "print s.translate(table)"
   ]
  },
  {
   "cell_type": "code",
   "execution_count": 48,
   "metadata": {},
   "outputs": [
    {
     "name": "stdout",
     "output_type": "stream",
     "text": [
      "1234hyder&b&d is c&pit&l city\n"
     ]
    }
   ],
   "source": [
    "s =\"1234hyderabad is capital city\"\n",
    "from string import maketrans\n",
    "table = maketrans(\"a\",\"&\")\n",
    "print s.translate(table)"
   ]
  },
  {
   "cell_type": "code",
   "execution_count": 50,
   "metadata": {},
   "outputs": [
    {
     "name": "stdout",
     "output_type": "stream",
     "text": [
      "1234hyder&b&d is c&pit&l city\n"
     ]
    }
   ],
   "source": [
    "s =\"1234hyderabad is capital city\"\n",
    "from string import maketrans\n",
    "table = maketrans(\"a\",\"&\")\n",
    "print s.translate(table)"
   ]
  },
  {
   "cell_type": "code",
   "execution_count": 51,
   "metadata": {},
   "outputs": [
    {
     "name": "stdout",
     "output_type": "stream",
     "text": [
      "1234hy.er&@&. is !&pit&l !ity\n"
     ]
    }
   ],
   "source": [
    "s =\"1234hyderabad is capital city\"\n",
    "from string import maketrans\n",
    "table = maketrans(\"abcd\",\"&@!.\")\n",
    "print s.translate(table)"
   ]
  },
  {
   "cell_type": "code",
   "execution_count": 54,
   "metadata": {},
   "outputs": [
    {
     "name": "stdout",
     "output_type": "stream",
     "text": [
      "1234hyderabad is capital city\n"
     ]
    }
   ],
   "source": [
    "s =\"1234hyderabad is capital city\"\n",
    "from string import maketrans\n",
    "table = maketrans(\"abcd\",\"&@!.\")\n",
    "dec_table=maketrans(\"&@!.\",\"abcd\")\n",
    "s_e=s.translate(table)\n",
    "print s_e.translate(dec_table)"
   ]
  },
  {
   "cell_type": "code",
   "execution_count": 56,
   "metadata": {},
   "outputs": [
    {
     "name": "stdout",
     "output_type": "stream",
     "text": [
      "True\n"
     ]
    }
   ],
   "source": [
    "s =\"1234hyderabad is capital city\"\n",
    "print s.startswith('12')"
   ]
  },
  {
   "cell_type": "code",
   "execution_count": 57,
   "metadata": {},
   "outputs": [
    {
     "name": "stdout",
     "output_type": "stream",
     "text": [
      "True\n"
     ]
    }
   ],
   "source": [
    "s =\"1234hyderabad is capital city\"\n",
    "print s.endswith('city')"
   ]
  },
  {
   "cell_type": "code",
   "execution_count": 58,
   "metadata": {},
   "outputs": [
    {
     "name": "stdout",
     "output_type": "stream",
     "text": [
      "False\n",
      "False\n"
     ]
    }
   ],
   "source": [
    "s =\"1234hyderabad is capital city\"\n",
    "print s.startswith('ty')\n",
    "print s.endswith('12')\n"
   ]
  },
  {
   "cell_type": "code",
   "execution_count": 59,
   "metadata": {},
   "outputs": [
    {
     "name": "stdout",
     "output_type": "stream",
     "text": [
      "True\n"
     ]
    }
   ],
   "source": [
    "s =\"1234hyderabad is capital city\"\n",
    "print s[3:].startswith('4')"
   ]
  },
  {
   "cell_type": "code",
   "execution_count": 60,
   "metadata": {},
   "outputs": [
    {
     "name": "stdout",
     "output_type": "stream",
     "text": [
      "False\n",
      "False\n"
     ]
    }
   ],
   "source": [
    "s =\"1234hyderabad is capital city\"\n",
    "print s.startswith(\" \")\n",
    "print s.endswith(\" \")"
   ]
  },
  {
   "cell_type": "code",
   "execution_count": 61,
   "metadata": {},
   "outputs": [
    {
     "name": "stdout",
     "output_type": "stream",
     "text": [
      "True\n",
      "True\n"
     ]
    }
   ],
   "source": [
    "s =\"1234hyderabad is capital city\"\n",
    "print s.startswith(\"\")\n",
    "print s.endswith(\"\")             #because each charecter is belongs in function"
   ]
  },
  {
   "cell_type": "code",
   "execution_count": 63,
   "metadata": {},
   "outputs": [
    {
     "name": "stdout",
     "output_type": "stream",
     "text": [
      "0\n"
     ]
    }
   ],
   "source": [
    "s =\"hyderabad is capital city\"\n",
    "print s.find('hyderabad')    #find only starting charecter in string"
   ]
  },
  {
   "cell_type": "code",
   "execution_count": 64,
   "metadata": {},
   "outputs": [
    {
     "name": "stdout",
     "output_type": "stream",
     "text": [
      "13\n"
     ]
    }
   ],
   "source": [
    "s =\"hyderabad is capital city\"\n",
    "print s.find('capital')    #find only starting charecter in string"
   ]
  },
  {
   "cell_type": "code",
   "execution_count": 65,
   "metadata": {},
   "outputs": [
    {
     "name": "stdout",
     "output_type": "stream",
     "text": [
      "21\n"
     ]
    }
   ],
   "source": [
    "s =\"hyderabad is capital city\"\n",
    "print s.find('city')    #find only starting charecter in string"
   ]
  },
  {
   "cell_type": "code",
   "execution_count": 66,
   "metadata": {},
   "outputs": [
    {
     "name": "stdout",
     "output_type": "stream",
     "text": [
      "10\n"
     ]
    }
   ],
   "source": [
    "s =\"hyderabad is capital city\"\n",
    "print s.find('is')    #find only starting charecter in string"
   ]
  },
  {
   "cell_type": "code",
   "execution_count": 67,
   "metadata": {},
   "outputs": [
    {
     "name": "stdout",
     "output_type": "stream",
     "text": [
      "13\n"
     ]
    }
   ],
   "source": [
    "s =\"hyderabad is capital city\"\n",
    "print s.find('c')    #find only starting charecter in string"
   ]
  },
  {
   "cell_type": "code",
   "execution_count": 68,
   "metadata": {},
   "outputs": [
    {
     "name": "stdout",
     "output_type": "stream",
     "text": [
      "21\n"
     ]
    }
   ],
   "source": [
    "s =\"hyderabad is capital city\"\n",
    "print s.find('city')    #find only starting charecter in string"
   ]
  },
  {
   "cell_type": "code",
   "execution_count": 70,
   "metadata": {},
   "outputs": [
    {
     "name": "stdout",
     "output_type": "stream",
     "text": [
      "0\n"
     ]
    }
   ],
   "source": [
    "s =\"hyderabad is capital city\"\n",
    "print s.find('hyderabad')    #find only starting charecter in string"
   ]
  },
  {
   "cell_type": "code",
   "execution_count": 71,
   "metadata": {},
   "outputs": [
    {
     "name": "stdout",
     "output_type": "stream",
     "text": [
      "13\n"
     ]
    }
   ],
   "source": [
    "s =\"hyderabad is capital city\"\n",
    "print s.find('capital')    #find only starting charecter in string"
   ]
  },
  {
   "cell_type": "code",
   "execution_count": 72,
   "metadata": {},
   "outputs": [
    {
     "name": "stdout",
     "output_type": "stream",
     "text": [
      "-1\n"
     ]
    }
   ],
   "source": [
    "s =\"hyderabad is capital city\"\n",
    "print s.find('delhi')    # if there is mismatch charecter or word is menntion it shows -1"
   ]
  },
  {
   "cell_type": "code",
   "execution_count": 74,
   "metadata": {},
   "outputs": [
    {
     "name": "stdout",
     "output_type": "stream",
     "text": [
      "-1\n"
     ]
    }
   ],
   "source": [
    "s =\"hyderabad is capital city\"\n",
    "print s.find('mumbai')    # if there is mismatch charecter or word is menntion it shows -1"
   ]
  },
  {
   "cell_type": "code",
   "execution_count": 75,
   "metadata": {},
   "outputs": [
    {
     "name": "stdout",
     "output_type": "stream",
     "text": [
      "13\n",
      "13\n"
     ]
    }
   ],
   "source": [
    "s =\"hyderabad is capital city\"\n",
    "print s.find('capital')\n",
    "print s.index('capital')"
   ]
  },
  {
   "cell_type": "code",
   "execution_count": 76,
   "metadata": {},
   "outputs": [
    {
     "name": "stdout",
     "output_type": "stream",
     "text": [
      "-1\n"
     ]
    },
    {
     "ename": "ValueError",
     "evalue": "substring not found",
     "output_type": "error",
     "traceback": [
      "\u001b[0;31m---------------------------------------------------------------------------\u001b[0m",
      "\u001b[0;31mValueError\u001b[0m                                Traceback (most recent call last)",
      "\u001b[0;32m<ipython-input-76-438314370d4b>\u001b[0m in \u001b[0;36m<module>\u001b[0;34m()\u001b[0m\n\u001b[1;32m      1\u001b[0m \u001b[0ms\u001b[0m \u001b[0;34m=\u001b[0m\u001b[0;34m\"hyderabad is capital city\"\u001b[0m\u001b[0;34m\u001b[0m\u001b[0m\n\u001b[1;32m      2\u001b[0m \u001b[0;32mprint\u001b[0m \u001b[0ms\u001b[0m\u001b[0;34m.\u001b[0m\u001b[0mfind\u001b[0m\u001b[0;34m(\u001b[0m\u001b[0;34m'delhi'\u001b[0m\u001b[0;34m)\u001b[0m   \u001b[0;31m# it shows -1\u001b[0m\u001b[0;34m\u001b[0m\u001b[0m\n\u001b[0;32m----> 3\u001b[0;31m \u001b[0;32mprint\u001b[0m \u001b[0ms\u001b[0m\u001b[0;34m.\u001b[0m\u001b[0mindex\u001b[0m\u001b[0;34m(\u001b[0m\u001b[0;34m'delhi'\u001b[0m\u001b[0;34m)\u001b[0m  \u001b[0;31m#it shows  error\u001b[0m\u001b[0;34m\u001b[0m\u001b[0m\n\u001b[0m",
      "\u001b[0;31mValueError\u001b[0m: substring not found"
     ]
    }
   ],
   "source": [
    "s =\"hyderabad is capital city\"\n",
    "print s.find('delhi')   # it shows -1\n",
    "print s.index('delhi')  #it shows  valueError"
   ]
  },
  {
   "cell_type": "code",
   "execution_count": 78,
   "metadata": {},
   "outputs": [
    {
     "name": "stdout",
     "output_type": "stream",
     "text": [
      "0\n"
     ]
    }
   ],
   "source": [
    "s =\"hyderabad is capital city, hyderabad is big city,hyderabad\"\n",
    "print s.find('hyderabad') #its only consider firs word"
   ]
  },
  {
   "cell_type": "code",
   "execution_count": 80,
   "metadata": {},
   "outputs": [
    {
     "name": "stdout",
     "output_type": "stream",
     "text": [
      "0\n",
      "0\n"
     ]
    }
   ],
   "source": [
    "s =\"hyderabad is capital city, hyderabad is big city,hyderabad\"\n",
    "print s.find('hyderabad')      #its only consider firs word\n",
    "print s.index('hyderabad')"
   ]
  },
  {
   "cell_type": "code",
   "execution_count": 81,
   "metadata": {},
   "outputs": [
    {
     "name": "stdout",
     "output_type": "stream",
     "text": [
      "58\n",
      "0\n",
      "0\n",
      "49\n"
     ]
    }
   ],
   "source": [
    "s =\"hyderabad is capital city, hyderabad is big city,hyderabad\"\n",
    "print len(s)\n",
    "print s.find('hyderabad')      #its only consider firs word in string\n",
    "print s.index('hyderabad')\n",
    "print s.rfind('hyderabad')     # its only consider last word in string"
   ]
  },
  {
   "cell_type": "code",
   "execution_count": 82,
   "metadata": {},
   "outputs": [
    {
     "name": "stdout",
     "output_type": "stream",
     "text": [
      "58\n",
      "0\n",
      "0\n",
      "49\n",
      "49\n"
     ]
    }
   ],
   "source": [
    "s =\"hyderabad is capital city, hyderabad is big city,hyderabad\"\n",
    "print len(s)\n",
    "print s.find('hyderabad')      #its only consider firs word in string\n",
    "print s.index('hyderabad')\n",
    "print s.rfind('hyderabad')     # its only consider last word in string\n",
    "print s.rindex('hyderabad')"
   ]
  },
  {
   "cell_type": "code",
   "execution_count": 86,
   "metadata": {},
   "outputs": [
    {
     "name": "stdout",
     "output_type": "stream",
     "text": [
      "name:harish, age:20, height:4.1\n"
     ]
    }
   ],
   "source": [
    "a = \"harish\"\n",
    "age = 20\n",
    "height = 4.10\n",
    "\n",
    "# i want  print like name:harish, age:20, height:4.10\n",
    "\n",
    "print \"name:%s, age:%s, height:%s\"%(a,age,height)"
   ]
  },
  {
   "cell_type": "code",
   "execution_count": 87,
   "metadata": {},
   "outputs": [
    {
     "name": "stdout",
     "output_type": "stream",
     "text": [
      "name:harish, age:20, height:4.100000\n"
     ]
    }
   ],
   "source": [
    "a = \"harish\"\n",
    "age = 20\n",
    "height = 4.10\n",
    "\n",
    "# i want  print like name:harish, age:20, height:4.10\n",
    "\n",
    "print \"name:%s, age:%s, height:%f\"%(a,age,height)"
   ]
  },
  {
   "cell_type": "code",
   "execution_count": 90,
   "metadata": {},
   "outputs": [
    {
     "name": "stdout",
     "output_type": "stream",
     "text": [
      "name:harish, age:20, height:4.100000\n",
      "a:harish\n"
     ]
    }
   ],
   "source": [
    "a = \"harish\"\n",
    "age = 20\n",
    "height = 4.10\n",
    "\n",
    "# i want  print like name:harish, age:20, height:4.10\n",
    "\n",
    "print \"name:%s, age:%s, height:%f\"%(a,age,height)\n",
    "\n",
    "# i want print in strinng formate\n",
    "\n",
    "print \"a:{0}\".format(a)"
   ]
  },
  {
   "cell_type": "code",
   "execution_count": 91,
   "metadata": {},
   "outputs": [
    {
     "name": "stdout",
     "output_type": "stream",
     "text": [
      "name:harish, age:20, height:4.100000\n",
      "a:harish, age:20\n"
     ]
    }
   ],
   "source": [
    "a = \"harish\"\n",
    "age = 20\n",
    "height = 4.10\n",
    "\n",
    "# i want  print like name:harish, age:20, height:4.10\n",
    "\n",
    "print \"name:%s, age:%s, height:%f\"%(a,age,height)\n",
    "\n",
    "# i want print in strinng formate\n",
    "\n",
    "print \"a:{0}, age:{1}\".format(a,age)"
   ]
  },
  {
   "cell_type": "code",
   "execution_count": 94,
   "metadata": {},
   "outputs": [
    {
     "name": "stdout",
     "output_type": "stream",
     "text": [
      "a:harish, age:20, height:4.100000\n",
      "a:harish, age:20, height:4.1\n"
     ]
    }
   ],
   "source": [
    "a = \"harish\"\n",
    "age = 20\n",
    "height = 4.10\n",
    "\n",
    "# i want  print like name:harish, age:20, height:4.10\n",
    "\n",
    "print \"a:%s, age:%s, height:%f\"%(a,age,height)\n",
    "\n",
    "# i want print in strinng formate\n",
    "\n",
    "print \"a:{0}, age:{1}, height:{2}\".format(a,age,height)"
   ]
  },
  {
   "cell_type": "code",
   "execution_count": 95,
   "metadata": {},
   "outputs": [
    {
     "name": "stdout",
     "output_type": "stream",
     "text": [
      "a:harish, age:20, height:4.10\n",
      "a:harish, age:20, height:4.10\n"
     ]
    }
   ],
   "source": [
    "a = \"harish\"\n",
    "age = 20\n",
    "height = 4.10\n",
    "\n",
    "# i want  print like name:harish, age:20, height:4.10\n",
    "\n",
    "print \"a:%s, age:%s, height:%.2f\"%(a,age,height)\n",
    "\n",
    "# i want print in strinng formate\n",
    "\n",
    "print \"a:{0}, age:{1}, height:{2:.2f}\".format(a,age,height)"
   ]
  },
  {
   "cell_type": "code",
   "execution_count": 96,
   "metadata": {},
   "outputs": [
    {
     "name": "stdout",
     "output_type": "stream",
     "text": [
      "a:harish, age:20, height:4.1012\n",
      "a:harish, age:20, height:4.1012\n"
     ]
    }
   ],
   "source": [
    "a = \"harish\"\n",
    "age = 20\n",
    "height = 4.10124689\n",
    "\n",
    "# i want  print like name:harish, age:20, height:4.10\n",
    "\n",
    "print \"a:%s, age:%s, height:%.4f\"%(a,age,height)\n",
    "\n",
    "# i want print in strinng formate\n",
    "\n",
    "print \"a:{0}, age:{1}, height:{2:.4f}\".format(a,age,height)"
   ]
  },
  {
   "cell_type": "code",
   "execution_count": 97,
   "metadata": {},
   "outputs": [
    {
     "name": "stdout",
     "output_type": "stream",
     "text": [
      "name:apple, cost_price:45.672345\n"
     ]
    }
   ],
   "source": [
    "name = \"apple\"\n",
    "cost_price=45.672345\n",
    "print \"name:{0}, cost_price:{1}\".format(name,cost_price)"
   ]
  },
  {
   "cell_type": "code",
   "execution_count": 98,
   "metadata": {},
   "outputs": [
    {
     "name": "stdout",
     "output_type": "stream",
     "text": [
      "name:apple, cost_price:45.6723\n"
     ]
    }
   ],
   "source": [
    "name = \"apple\"\n",
    "cost_price=45.672345\n",
    "print \"name:{0}, cost_price:{1:.4f}\".format(name,cost_price)"
   ]
  },
  {
   "cell_type": "code",
   "execution_count": 99,
   "metadata": {},
   "outputs": [
    {
     "name": "stdout",
     "output_type": "stream",
     "text": [
      "40\n"
     ]
    }
   ],
   "source": [
    "print \"%d\"%(40.87689)\n"
   ]
  },
  {
   "cell_type": "code",
   "execution_count": 100,
   "metadata": {},
   "outputs": [
    {
     "name": "stdout",
     "output_type": "stream",
     "text": [
      "40.876890\n"
     ]
    }
   ],
   "source": [
    "print \"%f\"%(40.87689)\n"
   ]
  },
  {
   "cell_type": "code",
   "execution_count": 102,
   "metadata": {},
   "outputs": [
    {
     "ename": "ValueError",
     "evalue": "unsupported format character 'b' (0x62) at index 1",
     "output_type": "error",
     "traceback": [
      "\u001b[0;31m---------------------------------------------------------------------------\u001b[0m",
      "\u001b[0;31mValueError\u001b[0m                                Traceback (most recent call last)",
      "\u001b[0;32m<ipython-input-102-39b971d1350b>\u001b[0m in \u001b[0;36m<module>\u001b[0;34m()\u001b[0m\n\u001b[0;32m----> 1\u001b[0;31m \u001b[0;32mprint\u001b[0m \u001b[0;34m\"%b\"\u001b[0m\u001b[0;34m%\u001b[0m\u001b[0;34m(\u001b[0m\u001b[0;36m40.87689\u001b[0m\u001b[0;34m)\u001b[0m \u001b[0;31m# it doesnot convert into binary\u001b[0m\u001b[0;34m\u001b[0m\u001b[0m\n\u001b[0m",
      "\u001b[0;31mValueError\u001b[0m: unsupported format character 'b' (0x62) at index 1"
     ]
    }
   ],
   "source": [
    "print \"%b\"%(40.87689) # it doesnot convert into binary\n"
   ]
  },
  {
   "cell_type": "code",
   "execution_count": 103,
   "metadata": {},
   "outputs": [
    {
     "name": "stdout",
     "output_type": "stream",
     "text": [
      "40\n"
     ]
    }
   ],
   "source": [
    "print \"{0}\".format(40)"
   ]
  },
  {
   "cell_type": "code",
   "execution_count": 105,
   "metadata": {},
   "outputs": [
    {
     "name": "stdout",
     "output_type": "stream",
     "text": [
      "40.000000\n"
     ]
    }
   ],
   "source": [
    "print \"{0:f}\".format(40)"
   ]
  },
  {
   "cell_type": "code",
   "execution_count": 106,
   "metadata": {},
   "outputs": [
    {
     "name": "stdout",
     "output_type": "stream",
     "text": [
      "40.000000\n"
     ]
    }
   ],
   "source": [
    "print \"{0:2f}\".format(40)"
   ]
  },
  {
   "cell_type": "code",
   "execution_count": 107,
   "metadata": {},
   "outputs": [
    {
     "name": "stdout",
     "output_type": "stream",
     "text": [
      "40.00\n"
     ]
    }
   ],
   "source": [
    "print \"{0:.2f}\".format(40)"
   ]
  },
  {
   "cell_type": "code",
   "execution_count": 108,
   "metadata": {},
   "outputs": [
    {
     "name": "stdout",
     "output_type": "stream",
     "text": [
      "40.0000\n"
     ]
    }
   ],
   "source": [
    "print \"{0:.4f}\".format(40)"
   ]
  },
  {
   "cell_type": "code",
   "execution_count": 110,
   "metadata": {},
   "outputs": [
    {
     "name": "stdout",
     "output_type": "stream",
     "text": [
      "101000\n"
     ]
    }
   ],
   "source": [
    "print \"{0:b}\".format(40)    # in formate specifiers there is possible to convert digit into binarycode"
   ]
  },
  {
   "cell_type": "code",
   "execution_count": 116,
   "metadata": {},
   "outputs": [
    {
     "ename": "TypeError",
     "evalue": "not enough arguments for format string",
     "output_type": "error",
     "traceback": [
      "\u001b[0;31m---------------------------------------------------------------------------\u001b[0m",
      "\u001b[0;31mTypeError\u001b[0m                                 Traceback (most recent call last)",
      "\u001b[0;32m<ipython-input-116-0b7eb72ddfbd>\u001b[0m in \u001b[0;36m<module>\u001b[0;34m()\u001b[0m\n\u001b[1;32m      1\u001b[0m \u001b[0mname\u001b[0m\u001b[0;34m=\u001b[0m\u001b[0;34m\"harish\"\u001b[0m\u001b[0;34m\u001b[0m\u001b[0m\n\u001b[0;32m----> 2\u001b[0;31m \u001b[0;32mprint\u001b[0m\u001b[0;34m\"%s is good boy, %s is student, %s isfrom hyderabad, %s is mba student\"\u001b[0m\u001b[0;34m%\u001b[0m\u001b[0;34m(\u001b[0m\u001b[0mname\u001b[0m\u001b[0;34m,\u001b[0m\u001b[0mname\u001b[0m\u001b[0;34m,\u001b[0m\u001b[0mname\u001b[0m\u001b[0;34m)\u001b[0m\u001b[0;34m\u001b[0m\u001b[0m\n\u001b[0m",
      "\u001b[0;31mTypeError\u001b[0m: not enough arguments for format string"
     ]
    }
   ],
   "source": [
    "name=\"harish\"\n",
    "print\"%s is good boy, %s is student, %s isfrom hyderabad, %s is mba student\"%(name,name,name)"
   ]
  },
  {
   "cell_type": "code",
   "execution_count": 120,
   "metadata": {},
   "outputs": [
    {
     "name": "stdout",
     "output_type": "stream",
     "text": [
      "harish is is good boy, harish is is player, harish is is writer, harish issportman\n"
     ]
    }
   ],
   "source": [
    "name=\"harish is\"\n",
    "print \"%s is good boy, %s is player, %s is writer, %ssportman\"%(name,name,name,name)"
   ]
  },
  {
   "cell_type": "code",
   "execution_count": 121,
   "metadata": {},
   "outputs": [
    {
     "ename": "TypeError",
     "evalue": "not enough arguments for format string",
     "output_type": "error",
     "traceback": [
      "\u001b[0;31m---------------------------------------------------------------------------\u001b[0m",
      "\u001b[0;31mTypeError\u001b[0m                                 Traceback (most recent call last)",
      "\u001b[0;32m<ipython-input-121-97a6bb2be2d9>\u001b[0m in \u001b[0;36m<module>\u001b[0;34m()\u001b[0m\n\u001b[1;32m      1\u001b[0m \u001b[0mname\u001b[0m\u001b[0;34m=\u001b[0m\u001b[0;34m\"harish is\"\u001b[0m\u001b[0;34m\u001b[0m\u001b[0m\n\u001b[0;32m----> 2\u001b[0;31m \u001b[0;32mprint\u001b[0m \u001b[0;34m\"%s is good boy, %s is player, %s is writer, %ssportman\"\u001b[0m\u001b[0;34m%\u001b[0m\u001b[0;34m(\u001b[0m\u001b[0mname\u001b[0m\u001b[0;34m,\u001b[0m\u001b[0mname\u001b[0m\u001b[0;34m,\u001b[0m\u001b[0;34m)\u001b[0m\u001b[0;34m\u001b[0m\u001b[0m\n\u001b[0m",
      "\u001b[0;31mTypeError\u001b[0m: not enough arguments for format string"
     ]
    }
   ],
   "source": [
    "name=\"harish is\"\n",
    "print \"%s is good boy, %s is player, %s is writer, %ssportman\"%(name,name,)"
   ]
  },
  {
   "cell_type": "code",
   "execution_count": 123,
   "metadata": {},
   "outputs": [
    {
     "name": "stdout",
     "output_type": "stream",
     "text": [
      "harish is is good boy, harish is is player, harish is is writer, harish is is sportman\n"
     ]
    }
   ],
   "source": [
    "# in above there is more times to write %s so instead o that we can write in format:\n",
    "name=\"harish is\"\n",
    "print \"{0} is good boy, {0} is player, {0} is writer, {0} is sportman\".format(name)"
   ]
  },
  {
   "cell_type": "code",
   "execution_count": 124,
   "metadata": {},
   "outputs": [
    {
     "name": "stdout",
     "output_type": "stream",
     "text": [
      "True\n"
     ]
    }
   ],
   "source": [
    "a = \"abcd\"\n",
    "print a.isalnum()"
   ]
  },
  {
   "cell_type": "code",
   "execution_count": 125,
   "metadata": {},
   "outputs": [
    {
     "name": "stdout",
     "output_type": "stream",
     "text": [
      "True\n"
     ]
    }
   ],
   "source": [
    "a = \"abcd1234\"\n",
    "print a.isalnum()"
   ]
  },
  {
   "cell_type": "code",
   "execution_count": 126,
   "metadata": {},
   "outputs": [
    {
     "name": "stdout",
     "output_type": "stream",
     "text": [
      "True\n"
     ]
    }
   ],
   "source": [
    "a = \"1234\"\n",
    "print a.isalnum()"
   ]
  },
  {
   "cell_type": "code",
   "execution_count": 127,
   "metadata": {},
   "outputs": [
    {
     "name": "stdout",
     "output_type": "stream",
     "text": [
      "False\n"
     ]
    }
   ],
   "source": [
    "a = \"@#$%\"\n",
    "print a.isalnum()"
   ]
  },
  {
   "cell_type": "code",
   "execution_count": 128,
   "metadata": {},
   "outputs": [
    {
     "name": "stdout",
     "output_type": "stream",
     "text": [
      "entera string: abcd\n",
      "no\n"
     ]
    }
   ],
   "source": [
    "#if special symbols are consider:\n",
    "a = raw_input(\"entera string: \")\n",
    "if a.isalnum():\n",
    "    print \"no\"\n",
    "else:\n",
    "    print \"yes\"\n",
    "    \n"
   ]
  },
  {
   "cell_type": "code",
   "execution_count": 129,
   "metadata": {},
   "outputs": [
    {
     "name": "stdout",
     "output_type": "stream",
     "text": [
      "entera string: !@#$\n",
      "yes\n"
     ]
    }
   ],
   "source": [
    "a = raw_input(\"entera string: \")\n",
    "if a.isalnum():\n",
    "    print \"no\"\n",
    "else:\n",
    "    print \"yes\"\n",
    "    "
   ]
  },
  {
   "cell_type": "code",
   "execution_count": 130,
   "metadata": {},
   "outputs": [
    {
     "name": "stdout",
     "output_type": "stream",
     "text": [
      "entera string: \n",
      "yes\n"
     ]
    }
   ],
   "source": [
    "# if there is no any string:\n",
    "a = raw_input(\"entera string: \")\n",
    "if a.isalnum():\n",
    "    print \"no\"\n",
    "else:\n",
    "    print \"yes\"\n",
    "    "
   ]
  },
  {
   "cell_type": "code",
   "execution_count": 131,
   "metadata": {},
   "outputs": [
    {
     "name": "stdout",
     "output_type": "stream",
     "text": [
      "entera string: \n",
      "please enter a valid string: i.e expecting atleast one charecter\n"
     ]
    }
   ],
   "source": [
    "# if there is no any string:\n",
    "a = raw_input(\"entera string: \")\n",
    "if a:\n",
    "    if a.isalnum():\n",
    "        print \"no\"\n",
    "    else:\n",
    "        print \"yes\"\n",
    "else:\n",
    "    print \"please enter a valid string: i.e expecting atleast one charecter\"\n",
    "    "
   ]
  },
  {
   "cell_type": "code",
   "execution_count": 133,
   "metadata": {},
   "outputs": [
    {
     "data": {
      "text/plain": [
       "bool"
      ]
     },
     "execution_count": 133,
     "metadata": {},
     "output_type": "execute_result"
    }
   ],
   "source": [
    " type(a.isalnum())"
   ]
  },
  {
   "cell_type": "code",
   "execution_count": 134,
   "metadata": {},
   "outputs": [
    {
     "name": "stdout",
     "output_type": "stream",
     "text": [
      "<type 'bool'>\n"
     ]
    }
   ],
   "source": [
    " print type(a.isalnum())"
   ]
  },
  {
   "cell_type": "code",
   "execution_count": 135,
   "metadata": {},
   "outputs": [
    {
     "data": {
      "text/plain": [
       "False"
      ]
     },
     "execution_count": 135,
     "metadata": {},
     "output_type": "execute_result"
    }
   ],
   "source": [
    "\"True\"==True"
   ]
  },
  {
   "cell_type": "code",
   "execution_count": 136,
   "metadata": {},
   "outputs": [
    {
     "name": "stdout",
     "output_type": "stream",
     "text": [
      "entera string: \n",
      "please enter a valid string: i.e expecting atleast one charecter\n"
     ]
    }
   ],
   "source": [
    "# if there is no any string:\n",
    "a = raw_input(\"entera string: \")\n",
    "if a:\n",
    "    if a.isalnum():\n",
    "        print \"no\"\n",
    "    else:\n",
    "        print \"yes\"\n",
    "else:\n",
    "    print \"please enter a valid string: i.e expecting atleast one charecter\"\n",
    "    "
   ]
  },
  {
   "cell_type": "code",
   "execution_count": 137,
   "metadata": {},
   "outputs": [
    {
     "name": "stdout",
     "output_type": "stream",
     "text": [
      "entera string: abcd1234\n",
      "no\n"
     ]
    }
   ],
   "source": [
    "# if there is no any string:\n",
    "a = raw_input(\"entera string: \")\n",
    "if a:\n",
    "    if a.isalnum():\n",
    "        print \"no\"\n",
    "    else:\n",
    "        print \"yes\"\n",
    "else:\n",
    "    print \"please enter a valid string: i.e expecting atleast one charecter\"\n",
    "    "
   ]
  },
  {
   "cell_type": "code",
   "execution_count": 138,
   "metadata": {},
   "outputs": [
    {
     "name": "stdout",
     "output_type": "stream",
     "text": [
      "entera string: 1234\n",
      "no\n"
     ]
    }
   ],
   "source": [
    "# if there is no any string:\n",
    "a = raw_input(\"entera string: \")\n",
    "if a:\n",
    "    if a.isalnum():\n",
    "        print \"no\"\n",
    "    else:\n",
    "        print \"yes\"\n",
    "else:\n",
    "    print \"please enter a valid string: i.e expecting atleast one charecter\"\n",
    "    "
   ]
  },
  {
   "cell_type": "code",
   "execution_count": 139,
   "metadata": {},
   "outputs": [
    {
     "name": "stdout",
     "output_type": "stream",
     "text": [
      "entera string: \n",
      "please enter a valid string: i.e expecting atleast one charecter\n"
     ]
    }
   ],
   "source": [
    "# if there is no any string:\n",
    "a = raw_input(\"entera string: \")\n",
    "if a:\n",
    "    if a.isalnum():\n",
    "        print \"no\"\n",
    "    else:\n",
    "        print \"yes\"\n",
    "else:\n",
    "    print \"please enter a valid string: i.e expecting atleast one charecter\"\n",
    "    "
   ]
  },
  {
   "cell_type": "code",
   "execution_count": 140,
   "metadata": {},
   "outputs": [
    {
     "name": "stdout",
     "output_type": "stream",
     "text": [
      "entera string: !@#$\n",
      "yes\n"
     ]
    }
   ],
   "source": [
    "# if there is no any string:\n",
    "a = raw_input(\"entera string: \")\n",
    "if a:\n",
    "    if a.isalnum():\n",
    "        print \"no\"\n",
    "    else:\n",
    "        print \"yes\"\n",
    "else:\n",
    "    print \"please enter a valid string: i.e expecting atleast one charecter\"\n",
    "    "
   ]
  },
  {
   "cell_type": "code",
   "execution_count": 1,
   "metadata": {},
   "outputs": [
    {
     "name": "stdout",
     "output_type": "stream",
     "text": [
      ".programiz.com\n"
     ]
    }
   ],
   "source": [
    "a  = \"www.programiz.com\"\n",
    "print a.lstrip('w')"
   ]
  },
  {
   "cell_type": "code",
   "execution_count": 2,
   "metadata": {},
   "outputs": [
    {
     "name": "stdout",
     "output_type": "stream",
     "text": [
      "programizcom\n"
     ]
    }
   ],
   "source": [
    "a  = \"wwwprogramizcom\"\n",
    "print a.lstrip('w')"
   ]
  },
  {
   "cell_type": "code",
   "execution_count": 11,
   "metadata": {},
   "outputs": [
    {
     "name": "stdout",
     "output_type": "stream",
     "text": [
      " tttt.iscapitalcitythisisbigcity\n"
     ]
    }
   ],
   "source": [
    "a = \" tttt.iscapitalcitythisisbigcity\"\n",
    "print a.lstrip('t')"
   ]
  },
  {
   "cell_type": "code",
   "execution_count": 13,
   "metadata": {},
   "outputs": [
    {
     "data": {
      "text/plain": [
       "(' ', 't', 'ttt.iscapitalcitythisisbigcity')"
      ]
     },
     "execution_count": 13,
     "metadata": {},
     "output_type": "execute_result"
    }
   ],
   "source": [
    "a.partition('t')"
   ]
  },
  {
   "cell_type": "code",
   "execution_count": 17,
   "metadata": {},
   "outputs": [
    {
     "name": "stdout",
     "output_type": "stream",
     "text": [
      "YWE=\n",
      "\n"
     ]
    }
   ],
   "source": [
    "a = \"aa\"\n",
    "print a.encode('base64')"
   ]
  },
  {
   "cell_type": "code",
   "execution_count": 21,
   "metadata": {},
   "outputs": [],
   "source": [
    "import base64"
   ]
  },
  {
   "cell_type": "code",
   "execution_count": 22,
   "metadata": {},
   "outputs": [],
   "source": [
    "import base64"
   ]
  },
  {
   "cell_type": "code",
   "execution_count": 24,
   "metadata": {},
   "outputs": [
    {
     "ename": "SyntaxError",
     "evalue": "invalid syntax (<ipython-input-24-cee255ac7a76>, line 1)",
     "output_type": "error",
     "traceback": [
      "\u001b[0;36m  File \u001b[0;32m\"<ipython-input-24-cee255ac7a76>\"\u001b[0;36m, line \u001b[0;32m1\u001b[0m\n\u001b[0;31m    plain import base64 image = open('deer.gif', 'rb') #open binary file in read mode\u001b[0m\n\u001b[0m               ^\u001b[0m\n\u001b[0;31mSyntaxError\u001b[0m\u001b[0;31m:\u001b[0m invalid syntax\n"
     ]
    }
   ],
   "source": [
    "plain import base64 image = open('deer.gif', 'rb') #open binary file in read mode \n",
    "image_read = image.read() image_64_encode = base64.encodestring(image_read) \n",
    "print image_64_encode"
   ]
  },
  {
   "cell_type": "code",
   "execution_count": 1,
   "metadata": {},
   "outputs": [
    {
     "name": "stdout",
     "output_type": "stream",
     "text": [
      "True\n"
     ]
    }
   ],
   "source": [
    "a = \"1234\"\n",
    "print a.isdigit()"
   ]
  },
  {
   "cell_type": "code",
   "execution_count": 1,
   "metadata": {},
   "outputs": [
    {
     "name": "stdout",
     "output_type": "stream",
     "text": [
      "<built-in method isdigit of str object at 0x7fd0981c8f60>\n"
     ]
    }
   ],
   "source": [
    "a =  \"a123\"\n",
    "print a.isdigit"
   ]
  },
  {
   "cell_type": "code",
   "execution_count": 2,
   "metadata": {},
   "outputs": [
    {
     "name": "stdout",
     "output_type": "stream",
     "text": [
      "True\n"
     ]
    }
   ],
   "source": [
    "a = \"hyderabad\"\n",
    "print a.isalpha()"
   ]
  },
  {
   "cell_type": "code",
   "execution_count": 3,
   "metadata": {},
   "outputs": [
    {
     "name": "stdout",
     "output_type": "stream",
     "text": [
      "False\n"
     ]
    }
   ],
   "source": [
    "a = \"hyderabad1234\"\n",
    "print a.isalpha()"
   ]
  },
  {
   "cell_type": "code",
   "execution_count": 4,
   "metadata": {},
   "outputs": [
    {
     "name": "stdout",
     "output_type": "stream",
     "text": [
      "False\n"
     ]
    }
   ],
   "source": [
    "a = \"hyderabad@#$\"\n",
    "print a.isalpha()"
   ]
  },
  {
   "cell_type": "code",
   "execution_count": 5,
   "metadata": {},
   "outputs": [
    {
     "name": "stdout",
     "output_type": "stream",
     "text": [
      "False\n"
     ]
    }
   ],
   "source": [
    "a = \"\"\n",
    "print a.isalpha()"
   ]
  },
  {
   "cell_type": "code",
   "execution_count": 6,
   "metadata": {},
   "outputs": [
    {
     "name": "stdout",
     "output_type": "stream",
     "text": [
      "False\n"
     ]
    }
   ],
   "source": [
    "a = \"1234\"\n",
    "print a.isalpha()"
   ]
  },
  {
   "cell_type": "code",
   "execution_count": 7,
   "metadata": {},
   "outputs": [
    {
     "name": "stdout",
     "output_type": "stream",
     "text": [
      "True\n"
     ]
    }
   ],
   "source": [
    "a = \"HYDERABAD\"\n",
    "print a.isalpha()"
   ]
  },
  {
   "cell_type": "code",
   "execution_count": 9,
   "metadata": {},
   "outputs": [
    {
     "name": "stdout",
     "output_type": "stream",
     "text": [
      "False\n"
     ]
    }
   ],
   "source": [
    "a = \"1234\"\n",
    "print a.isalpha()"
   ]
  },
  {
   "cell_type": "code",
   "execution_count": 10,
   "metadata": {},
   "outputs": [
    {
     "name": "stdout",
     "output_type": "stream",
     "text": [
      "False\n"
     ]
    }
   ],
   "source": [
    "a = \"12.34\"\n",
    "print a.isalpha()     #it is false because there is no alphabets"
   ]
  },
  {
   "cell_type": "code",
   "execution_count": 11,
   "metadata": {},
   "outputs": [
    {
     "name": "stdout",
     "output_type": "stream",
     "text": [
      "False\n"
     ]
    }
   ],
   "source": [
    "a = \"12.34\"\n",
    "print a.isdigit()     #it is false because string in digits and flote type"
   ]
  },
  {
   "cell_type": "code",
   "execution_count": 12,
   "metadata": {},
   "outputs": [
    {
     "name": "stdout",
     "output_type": "stream",
     "text": [
      "True\n"
     ]
    }
   ],
   "source": [
    "a=\"1234\"\n",
    "print a.isdigit()"
   ]
  },
  {
   "cell_type": "code",
   "execution_count": 13,
   "metadata": {},
   "outputs": [
    {
     "name": "stdout",
     "output_type": "stream",
     "text": [
      "False\n"
     ]
    }
   ],
   "source": [
    "a=\"abcd\"\n",
    "print a.isdigit()"
   ]
  },
  {
   "cell_type": "code",
   "execution_count": 14,
   "metadata": {},
   "outputs": [
    {
     "name": "stdout",
     "output_type": "stream",
     "text": [
      "False\n"
     ]
    }
   ],
   "source": [
    "a=\"@#$%\"\n",
    "print a.isdigit()"
   ]
  },
  {
   "cell_type": "code",
   "execution_count": 15,
   "metadata": {},
   "outputs": [
    {
     "name": "stdout",
     "output_type": "stream",
     "text": [
      "False\n"
     ]
    }
   ],
   "source": [
    "a=\"1234@#$%\"\n",
    "print a.isdigit()"
   ]
  },
  {
   "cell_type": "code",
   "execution_count": 16,
   "metadata": {},
   "outputs": [
    {
     "name": "stdout",
     "output_type": "stream",
     "text": [
      "True\n"
     ]
    }
   ],
   "source": [
    "a = \"abcd\"\n",
    "print a.islower()"
   ]
  },
  {
   "cell_type": "code",
   "execution_count": 17,
   "metadata": {},
   "outputs": [
    {
     "name": "stdout",
     "output_type": "stream",
     "text": [
      "True\n"
     ]
    }
   ],
   "source": [
    "a = \"abcd1234\"\n",
    "print a.islower()       #it does not consider digits it consider only alphabets"
   ]
  },
  {
   "cell_type": "code",
   "execution_count": 18,
   "metadata": {},
   "outputs": [
    {
     "name": "stdout",
     "output_type": "stream",
     "text": [
      "True\n"
     ]
    }
   ],
   "source": [
    "a = \"abcd!@#$\"\n",
    "print a.islower()  "
   ]
  },
  {
   "cell_type": "code",
   "execution_count": 19,
   "metadata": {},
   "outputs": [
    {
     "name": "stdout",
     "output_type": "stream",
     "text": [
      "False\n"
     ]
    }
   ],
   "source": [
    "a = \"1234!@#$\"\n",
    "print a.islower()   # it should contain atleast one alphabet charecter"
   ]
  },
  {
   "cell_type": "code",
   "execution_count": 21,
   "metadata": {},
   "outputs": [
    {
     "name": "stdout",
     "output_type": "stream",
     "text": [
      "True\n"
     ]
    }
   ],
   "source": [
    "a = \"a1234!@#$\"\n",
    "print a.islower()  # it consider only alphabet so it is in lowercase so it is true"
   ]
  },
  {
   "cell_type": "code",
   "execution_count": 22,
   "metadata": {},
   "outputs": [
    {
     "name": "stdout",
     "output_type": "stream",
     "text": [
      "False\n"
     ]
    }
   ],
   "source": [
    "a = \"A1234!@#$\"\n",
    "print a.islower() # the alphabet charecter only in uppercase"
   ]
  },
  {
   "cell_type": "code",
   "execution_count": 23,
   "metadata": {},
   "outputs": [
    {
     "name": "stdout",
     "output_type": "stream",
     "text": [
      "False\n"
     ]
    }
   ],
   "source": [
    "a = \"1234\"\n",
    "print a.islower() "
   ]
  },
  {
   "cell_type": "code",
   "execution_count": 24,
   "metadata": {},
   "outputs": [
    {
     "name": "stdout",
     "output_type": "stream",
     "text": [
      "False\n"
     ]
    }
   ],
   "source": [
    "s  = \"kohli is good player\"\n",
    "print s.isspace()"
   ]
  },
  {
   "cell_type": "code",
   "execution_count": 25,
   "metadata": {},
   "outputs": [
    {
     "name": "stdout",
     "output_type": "stream",
     "text": [
      "True\n"
     ]
    }
   ],
   "source": [
    "s = \"              \"\n",
    "print s.isspace()"
   ]
  },
  {
   "cell_type": "code",
   "execution_count": 26,
   "metadata": {},
   "outputs": [
    {
     "name": "stdout",
     "output_type": "stream",
     "text": [
      "False\n"
     ]
    }
   ],
   "source": [
    "s  = \"    kohli is good player  \"\n",
    "print s.isspace()"
   ]
  },
  {
   "cell_type": "code",
   "execution_count": 27,
   "metadata": {},
   "outputs": [
    {
     "name": "stdout",
     "output_type": "stream",
     "text": [
      "False\n"
     ]
    }
   ],
   "source": [
    "s  = \"\"\n",
    "print s.isspace()"
   ]
  },
  {
   "cell_type": "code",
   "execution_count": 28,
   "metadata": {},
   "outputs": [
    {
     "name": "stdout",
     "output_type": "stream",
     "text": [
      "True\n"
     ]
    }
   ],
   "source": [
    "s  = \"  \"\n",
    "print s.isspace()"
   ]
  },
  {
   "cell_type": "code",
   "execution_count": 29,
   "metadata": {},
   "outputs": [
    {
     "name": "stdout",
     "output_type": "stream",
     "text": [
      "False\n"
     ]
    }
   ],
   "source": [
    "s = \"Abc\"\n",
    "print s.islower()"
   ]
  },
  {
   "cell_type": "code",
   "execution_count": 30,
   "metadata": {},
   "outputs": [
    {
     "name": "stdout",
     "output_type": "stream",
     "text": [
      "False\n"
     ]
    }
   ],
   "source": [
    "s = \"ABC\"\n",
    "print s.islower()"
   ]
  },
  {
   "cell_type": "code",
   "execution_count": 31,
   "metadata": {},
   "outputs": [
    {
     "name": "stdout",
     "output_type": "stream",
     "text": [
      "False\n"
     ]
    }
   ],
   "source": [
    "s = \"Abc\"\n",
    "print s.isupper()"
   ]
  },
  {
   "cell_type": "code",
   "execution_count": 32,
   "metadata": {},
   "outputs": [
    {
     "name": "stdout",
     "output_type": "stream",
     "text": [
      "True\n"
     ]
    }
   ],
   "source": [
    "s = \"ABC\"\n",
    "print s.isupper()"
   ]
  },
  {
   "cell_type": "code",
   "execution_count": 33,
   "metadata": {},
   "outputs": [
    {
     "name": "stdout",
     "output_type": "stream",
     "text": [
      "True\n"
     ]
    }
   ],
   "source": [
    "s  = \"  \"\n",
    "print s.isspace()"
   ]
  },
  {
   "cell_type": "code",
   "execution_count": 34,
   "metadata": {},
   "outputs": [
    {
     "name": "stdout",
     "output_type": "stream",
     "text": [
      "False\n"
     ]
    }
   ],
   "source": [
    "s  = \"       1 \"\n",
    "print s.isspace()"
   ]
  },
  {
   "cell_type": "code",
   "execution_count": 35,
   "metadata": {},
   "outputs": [
    {
     "name": "stdout",
     "output_type": "stream",
     "text": [
      "False\n"
     ]
    }
   ],
   "source": [
    "s  = \"            a \"\n",
    "print s.isspace()"
   ]
  },
  {
   "cell_type": "code",
   "execution_count": 36,
   "metadata": {},
   "outputs": [
    {
     "name": "stdout",
     "output_type": "stream",
     "text": [
      "False\n"
     ]
    }
   ],
   "source": [
    "s  = \"      @#  \"\n",
    "print s.isspace()"
   ]
  },
  {
   "cell_type": "code",
   "execution_count": 37,
   "metadata": {},
   "outputs": [
    {
     "name": "stdout",
     "output_type": "stream",
     "text": [
      "Python Program\n"
     ]
    }
   ],
   "source": [
    "s = \"python program\"\n",
    "print s.title()              # it converts  first letter of the word is makes capital"
   ]
  },
  {
   "cell_type": "code",
   "execution_count": 38,
   "metadata": {},
   "outputs": [
    {
     "name": "stdout",
     "output_type": "stream",
     "text": [
      "Python Program\n"
     ]
    }
   ],
   "source": [
    "s = \"Python Program\"\n",
    "print s.title()"
   ]
  },
  {
   "cell_type": "code",
   "execution_count": 39,
   "metadata": {},
   "outputs": [
    {
     "name": "stdout",
     "output_type": "stream",
     "text": [
      "True\n"
     ]
    }
   ],
   "source": [
    "s = \"Python Program\"\n",
    "print s.istitle()"
   ]
  },
  {
   "cell_type": "code",
   "execution_count": 40,
   "metadata": {},
   "outputs": [
    {
     "name": "stdout",
     "output_type": "stream",
     "text": [
      "Py1Thon Pro#Gram\n"
     ]
    }
   ],
   "source": [
    "s = \"py1thon pro#gram\"\n",
    "print s.title()  #itconverts firstletter ofthe word and nextletter after the specialsymbol and number makes capital letter."
   ]
  },
  {
   "cell_type": "code",
   "execution_count": 41,
   "metadata": {},
   "outputs": [
    {
     "name": "stdout",
     "output_type": "stream",
     "text": [
      "False\n"
     ]
    }
   ],
   "source": [
    "s = \"py1thon pro#gram\"\n",
    "print s.istitle()"
   ]
  },
  {
   "cell_type": "code",
   "execution_count": 42,
   "metadata": {},
   "outputs": [
    {
     "name": "stdout",
     "output_type": "stream",
     "text": [
      "True\n"
     ]
    }
   ],
   "source": [
    "s = \"Py1Thon Pro#Gram\"\n",
    "print s.istitle()"
   ]
  },
  {
   "cell_type": "code",
   "execution_count": 43,
   "metadata": {},
   "outputs": [
    {
     "name": "stdout",
     "output_type": "stream",
     "text": [
      "a\n",
      "n\n",
      "i\n",
      "l\n",
      " \n",
      "k\n",
      "u\n",
      "m\n",
      "a\n",
      "r\n",
      ",\n",
      " \n",
      "h\n",
      "a\n",
      "r\n",
      "i\n",
      "s\n",
      "h\n",
      ",\n",
      " \n",
      "a\n",
      "j\n",
      "a\n",
      "y\n",
      " \n",
      "k\n",
      "u\n",
      "m\n",
      "a\n",
      "r\n",
      ",\n",
      " \n",
      " \n",
      "m\n",
      "a\n",
      "h\n",
      "e\n",
      "s\n",
      "h\n",
      " \n",
      "b\n",
      "a\n",
      "b\n",
      "u\n"
     ]
    }
   ],
   "source": [
    "s = \"anil kumar, harish, ajay kumar,  mahesh babu\"\n",
    "for i in s:\n",
    "    print i"
   ]
  },
  {
   "cell_type": "code",
   "execution_count": 44,
   "metadata": {},
   "outputs": [],
   "source": [
    "s = \"anil kumar, harish, ajay kumar,  mahesh babu\"\n",
    "l = list(s)"
   ]
  },
  {
   "cell_type": "code",
   "execution_count": 45,
   "metadata": {},
   "outputs": [
    {
     "name": "stdout",
     "output_type": "stream",
     "text": [
      "['a', 'n', 'i', 'l', ' ', 'k', 'u', 'm', 'a', 'r', ',', ' ', 'h', 'a', 'r', 'i', 's', 'h', ',', ' ', 'a', 'j', 'a', 'y', ' ', 'k', 'u', 'm', 'a', 'r', ',', ' ', ' ', 'm', 'a', 'h', 'e', 's', 'h', ' ', 'b', 'a', 'b', 'u']\n"
     ]
    }
   ],
   "source": [
    "s = \"anil kumar, harish, ajay kumar,  mahesh babu\"\n",
    "l = list(s)\n",
    "print l"
   ]
  },
  {
   "cell_type": "code",
   "execution_count": 46,
   "metadata": {},
   "outputs": [
    {
     "name": "stdout",
     "output_type": "stream",
     "text": [
      "['anil kumar', ' harish', ' ajay kumar', '  mahesh babu']\n"
     ]
    }
   ],
   "source": [
    "s = \"anil kumar, harish, ajay kumar,  mahesh babu\"\n",
    "\n",
    "print s.split(',')"
   ]
  },
  {
   "cell_type": "code",
   "execution_count": 47,
   "metadata": {},
   "outputs": [],
   "source": [
    "s.split?"
   ]
  },
  {
   "cell_type": "code",
   "execution_count": 48,
   "metadata": {},
   "outputs": [
    {
     "name": "stdout",
     "output_type": "stream",
     "text": [
      "['anil kumar', ' harish', ' ajay kumar', '  mahesh babu']\n"
     ]
    }
   ],
   "source": [
    "s = \"anil kumar, harish, ajay kumar,  mahesh babu\"\n",
    "\n",
    "print s.split(',')      # (',') hear coma is not coma it is split function charecter"
   ]
  },
  {
   "cell_type": "code",
   "execution_count": 49,
   "metadata": {},
   "outputs": [
    {
     "name": "stdout",
     "output_type": "stream",
     "text": [
      "['anil kumar:', ' harish:', ' ajay kumar:', '  mahesh babu:']\n"
     ]
    }
   ],
   "source": [
    "s = \"anil kumar:, harish:, ajay kumar:,  mahesh babu:\"\n",
    "\n",
    "print s.split(',')"
   ]
  },
  {
   "cell_type": "code",
   "execution_count": 50,
   "metadata": {},
   "outputs": [
    {
     "name": "stdout",
     "output_type": "stream",
     "text": [
      "['anil kumar', ', harish', ', ajay kumar', ',  mahesh babu', '']\n"
     ]
    }
   ],
   "source": [
    "s = \"anil kumar:, harish:, ajay kumar:,  mahesh babu:\"\n",
    "\n",
    "print s.split(':')"
   ]
  },
  {
   "cell_type": "code",
   "execution_count": 51,
   "metadata": {},
   "outputs": [
    {
     "name": "stdout",
     "output_type": "stream",
     "text": [
      "['anil kumar', ', harish', ', ajay kumar', ',  mahesh babu', '']\n"
     ]
    }
   ],
   "source": [
    "s = \"anil kumar@, harish@, ajay kumar@,  mahesh babu@\"\n",
    "\n",
    "print s.split('@')"
   ]
  },
  {
   "cell_type": "code",
   "execution_count": 54,
   "metadata": {},
   "outputs": [
    {
     "name": "stdout",
     "output_type": "stream",
     "text": [
      "['anil kumar', ' , harish', ', ajay kumar', ',  mahesh babu', '']\n"
     ]
    }
   ],
   "source": [
    "s = \"anil kumar;, harish;, ajay kumar;,  mahesh babu;\"\n",
    "\n",
    "l = s.split(';')\n",
    "print l"
   ]
  },
  {
   "cell_type": "code",
   "execution_count": 55,
   "metadata": {},
   "outputs": [],
   "source": [
    "s = \"anil kumar, harish, ajay kumar, mahesh babu;\"\n",
    "\n",
    "l = s.split(',')\n"
   ]
  },
  {
   "cell_type": "code",
   "execution_count": 56,
   "metadata": {},
   "outputs": [
    {
     "name": "stdout",
     "output_type": "stream",
     "text": [
      "['anil kumar', ' harish', ' ajay kumar', ' mahesh babu;']\n"
     ]
    }
   ],
   "source": [
    "s = \"anil kumar, harish, ajay kumar, mahesh babu\"\n",
    "\n",
    "l = s.split(',')\n",
    "print l"
   ]
  },
  {
   "cell_type": "code",
   "execution_count": 57,
   "metadata": {},
   "outputs": [
    {
     "name": "stdout",
     "output_type": "stream",
     "text": [
      "['anil kumar', ' harish', ' ajay kumar', ' mahesh babu']\n"
     ]
    }
   ],
   "source": [
    "s = \"anil kumar, harish, ajay kumar, mahesh babu\"\n",
    "\n",
    "l = s.split(',')\n",
    "print l"
   ]
  },
  {
   "cell_type": "code",
   "execution_count": 58,
   "metadata": {},
   "outputs": [
    {
     "name": "stdout",
     "output_type": "stream",
     "text": [
      "['anil kumar; harish; ajay kumar; mahesh babu']\n"
     ]
    }
   ],
   "source": [
    "s = \"anil kumar; harish; ajay kumar; mahesh babu\"\n",
    "\n",
    "l = s.split(',')\n",
    "print l                         # there is no split "
   ]
  },
  {
   "cell_type": "code",
   "execution_count": 60,
   "metadata": {},
   "outputs": [
    {
     "name": "stdout",
     "output_type": "stream",
     "text": [
      "['anil kumar', ' harish', ' ajay kumar', ' mahesh babu']\n"
     ]
    }
   ],
   "source": [
    "s = \"anil kumar; harish; ajay kumar; mahesh babu\"\n",
    "\n",
    "l = s.split(';')\n",
    "print l                         # there is  split beacause there is perfect matching ';' in above list\n",
    "                                #split is indicates with coma whwre split function is done"
   ]
  },
  {
   "cell_type": "code",
   "execution_count": 61,
   "metadata": {},
   "outputs": [
    {
     "name": "stdout",
     "output_type": "stream",
     "text": [
      "anil kumar\n",
      " harish\n",
      " ajay kumar\n",
      " mahesh babu\n"
     ]
    }
   ],
   "source": [
    "s = \"anil kumar; harish; ajay kumar; mahesh babu\"\n",
    "\n",
    "l = s.split(';')\n",
    "for i in l:\n",
    "    print i"
   ]
  },
  {
   "cell_type": "code",
   "execution_count": 63,
   "metadata": {},
   "outputs": [
    {
     "name": "stdout",
     "output_type": "stream",
     "text": [
      "['a']\n"
     ]
    }
   ],
   "source": [
    "s = \"anil kumar; harish; ajay kumar; mahesh babu\"\n",
    "\n",
    "l = s[0:1].split(';')\n",
    "print l"
   ]
  },
  {
   "cell_type": "code",
   "execution_count": 64,
   "metadata": {},
   "outputs": [
    {
     "name": "stdout",
     "output_type": "stream",
     "text": [
      "['anil']\n"
     ]
    }
   ],
   "source": [
    "s = \"anil kumar; harish; ajay kumar; mahesh babu\"\n",
    "\n",
    "l = s[0:4].split(';')\n",
    "print l"
   ]
  },
  {
   "cell_type": "code",
   "execution_count": 65,
   "metadata": {},
   "outputs": [
    {
     "name": "stdout",
     "output_type": "stream",
     "text": [
      "['anil kumar']\n"
     ]
    }
   ],
   "source": [
    "s = \"anil kumar; harish; ajay kumar; mahesh babu\"\n",
    "\n",
    "l = s[0:10].split(';')\n",
    "print l"
   ]
  },
  {
   "cell_type": "code",
   "execution_count": 66,
   "metadata": {},
   "outputs": [
    {
     "name": "stdout",
     "output_type": "stream",
     "text": [
      "['anil kumar', ' harish']\n"
     ]
    }
   ],
   "source": [
    "s = \"anil kumar; harish; ajay kumar; mahesh babu\"\n",
    "\n",
    "l = s.split(';') [:2]\n",
    "print l                                   # iam looking for only last names takes split function"
   ]
  },
  {
   "cell_type": "code",
   "execution_count": 67,
   "metadata": {},
   "outputs": [
    {
     "name": "stdout",
     "output_type": "stream",
     "text": [
      "['anil kumar; harish; ajay kumar; mahesh babu']\n"
     ]
    }
   ],
   "source": [
    "s = \"anil kumar; harish; ajay kumar; mahesh babu\"\n",
    "\n",
    "l = s.split('\\n')                         \n",
    "print l                                   # there is no matching in split function and in string function"
   ]
  },
  {
   "cell_type": "code",
   "execution_count": 68,
   "metadata": {},
   "outputs": [
    {
     "name": "stdout",
     "output_type": "stream",
     "text": [
      "['anil kumar', ' harish', ' ajay kumar; mahesh babu']\n"
     ]
    }
   ],
   "source": [
    "s = \"anil kumar; harish; ajay kumar; mahesh babu\"\n",
    "\n",
    "l = s.split(';',2)\n",
    "print l                                         # iam looking for only first two names takes split function"
   ]
  },
  {
   "cell_type": "code",
   "execution_count": 69,
   "metadata": {},
   "outputs": [
    {
     "name": "stdout",
     "output_type": "stream",
     "text": [
      "['anil kumar', ' harish', ' ajay kumar', ' mahesh babu']\n"
     ]
    }
   ],
   "source": [
    "s = \"anil kumar; harish; ajay kumar; mahesh babu\"\n",
    "\n",
    "l = s.split(';',-2)\n",
    "print l                # iam looking for only last names takes split function but all names takes aplit function"
   ]
  },
  {
   "cell_type": "code",
   "execution_count": 70,
   "metadata": {},
   "outputs": [
    {
     "name": "stdout",
     "output_type": "stream",
     "text": [
      "['anil kumar; harish; ajay kumar; mahesh babu']\n"
     ]
    }
   ],
   "source": [
    "s = \"anil kumar; harish; ajay kumar; mahesh babu\"\n",
    "\n",
    "l = s.split(';',0)\n",
    "print l                # iam looking for only last names takes split function but all names takes split function"
   ]
  },
  {
   "cell_type": "code",
   "execution_count": 72,
   "metadata": {},
   "outputs": [
    {
     "name": "stdout",
     "output_type": "stream",
     "text": [
      "['ubab hseham ', 'ramuk yaja ', 'hsirah ', 'ramuk lina']\n"
     ]
    }
   ],
   "source": [
    "s = \"anil kumar; harish; ajay kumar; mahesh babu\"\n",
    "s1 =s[::-1]\n",
    "\n",
    "l = s1.split(';')\n",
    "print l                # iam looking for only last names takes split function but all names takes aplit function"
   ]
  },
  {
   "cell_type": "code",
   "execution_count": 73,
   "metadata": {},
   "outputs": [
    {
     "name": "stdout",
     "output_type": "stream",
     "text": [
      "['ubab hseham ', 'ramuk yaja ', 'hsirah ;ramuk lina']\n"
     ]
    }
   ],
   "source": [
    "s = \"anil kumar; harish; ajay kumar; mahesh babu\"\n",
    "s1 =s[::-1]\n",
    "\n",
    "l = s1.split(';',2)\n",
    "print l                # iam looking for only last names takes split function but all names takes aplit function"
   ]
  },
  {
   "cell_type": "code",
   "execution_count": 74,
   "metadata": {},
   "outputs": [
    {
     "name": "stdout",
     "output_type": "stream",
     "text": [
      "['anil kumar', ' harish', ' ajay kumar; mahesh babu']\n",
      "['anil kumar; harish', ' ajay kumar', ' mahesh babu']\n"
     ]
    }
   ],
   "source": [
    " # iam looking for only last names takes split function but all names takes split function\n",
    "# so there is special string is s.rsplit()\n",
    "s = \"anil kumar; harish; ajay kumar; mahesh babu\"\n",
    "\n",
    "print s.split(';',2)\n",
    "print s.rsplit(';',2)      #there is only two names are splitts from right to left names"
   ]
  },
  {
   "cell_type": "code",
   "execution_count": 75,
   "metadata": {},
   "outputs": [
    {
     "name": "stdout",
     "output_type": "stream",
     "text": [
      "jlksgj;lk@jlj@l@kjslk@jk@kjns@n\n"
     ]
    }
   ],
   "source": [
    "a = \"jlksgj;lkajljalakjslkajkakjnsan\"\n",
    "print a.replace('a','@')"
   ]
  },
  {
   "cell_type": "code",
   "execution_count": 76,
   "metadata": {},
   "outputs": [
    {
     "name": "stdout",
     "output_type": "stream",
     "text": [
      "jlksgj;lk2jlj2l2kjslk2jk2kjns2n\n"
     ]
    }
   ],
   "source": [
    "a = \"jlksgj;lkajljalakjslkajkakjnsan\"\n",
    "print a.replace('a','2')"
   ]
  },
  {
   "cell_type": "code",
   "execution_count": 77,
   "metadata": {},
   "outputs": [
    {
     "name": "stdout",
     "output_type": "stream",
     "text": [
      "jlksgj;lkAjljAlAkjslkAjkAkjnsAn\n"
     ]
    }
   ],
   "source": [
    "a = \"jlksgj;lkajljalakjslkajkakjnsan\"\n",
    "print a.replace('a','A')"
   ]
  },
  {
   "cell_type": "code",
   "execution_count": 78,
   "metadata": {},
   "outputs": [
    {
     "name": "stdout",
     "output_type": "stream",
     "text": [
      "jlksgj;lkcjljclckjslkcjkckjnscn\n"
     ]
    }
   ],
   "source": [
    "a = \"jlksgj;lkajljalakjslkajkakjnsan\"\n",
    "print a.replace('a','c')"
   ]
  },
  {
   "cell_type": "code",
   "execution_count": 81,
   "metadata": {},
   "outputs": [
    {
     "name": "stdout",
     "output_type": "stream",
     "text": [
      "AbcdAbcdabcdabcdabcdabcd\n"
     ]
    }
   ],
   "source": [
    "a = \"abcdabcdabcdabcdabcdabcd\"\n",
    "print a.replace('a','A',2)     # hear 2 indicates only first two letters are replaced"
   ]
  },
  {
   "cell_type": "code",
   "execution_count": 82,
   "metadata": {},
   "outputs": [
    {
     "name": "stdout",
     "output_type": "stream",
     "text": [
      "AbcdAbcdAbcdAbcdAbcdAbcd\n"
     ]
    }
   ],
   "source": [
    "a = \"abcdabcdabcdabcdabcdabcd\"\n",
    "print a.replace('a','A',-2)     # hear -2 doesnot replaced only last two letters, replaced all a letters"
   ]
  },
  {
   "cell_type": "code",
   "execution_count": 83,
   "metadata": {},
   "outputs": [
    {
     "name": "stdout",
     "output_type": "stream",
     "text": [
      "['anil kumar', ' harish', ' ajay kumar', ' mahesh babu']\n"
     ]
    }
   ],
   "source": [
    "s = \"anil kumar\\n harish\\n ajay kumar\\n mahesh babu\"\n",
    "print s.split('\\n')"
   ]
  },
  {
   "cell_type": "code",
   "execution_count": 85,
   "metadata": {},
   "outputs": [
    {
     "name": "stdout",
     "output_type": "stream",
     "text": [
      "['anil kumar', ' harish', ' ajay kumar', ' mahesh babu']\n",
      "['anil kumar', ' harish', ' ajay kumar', ' mahesh babu']\n"
     ]
    }
   ],
   "source": [
    "s = \"anil kumar\\n harish\\n ajay kumar\\n mahesh babu\"\n",
    "print s.split('\\n')\n",
    "print s.splitlines()"
   ]
  },
  {
   "cell_type": "code",
   "execution_count": 87,
   "metadata": {},
   "outputs": [
    {
     "name": "stdout",
     "output_type": "stream",
     "text": [
      "['anil', 'kumar', 'harish', 'ajay', 'kumar', 'mahesh', 'babu']\n",
      "['anil kumar', ' harish', ' ajay kumar', ' mahesh babu']\n"
     ]
    }
   ],
   "source": [
    "s = \"anil kumar\\n harish\\n ajay kumar\\n mahesh babu\"\n",
    "print s.split()\n",
    "print s.splitlines()               # observe the difference between split and splitlines"
   ]
  },
  {
   "cell_type": "code",
   "execution_count": 88,
   "metadata": {},
   "outputs": [
    {
     "name": "stdout",
     "output_type": "stream",
     "text": [
      "['anil', 'kumar', 'harish', 'ajay', 'kumar', 'mahesh', 'babu']\n",
      "['anil kumar\\n', ' harish\\n', ' ajay kumar\\n', ' mahesh babu']\n"
     ]
    }
   ],
   "source": [
    "s = \"anil kumar\\n harish\\n ajay kumar\\n mahesh babu\"\n",
    "print s.split()\n",
    "print s.splitlines(True)               # observe the difference between split and splitlines"
   ]
  },
  {
   "cell_type": "code",
   "execution_count": 89,
   "metadata": {},
   "outputs": [
    {
     "name": "stdout",
     "output_type": "stream",
     "text": [
      "['anil kumar', ' harish', ' ajay kumar', ' mahesh babu']\n"
     ]
    },
    {
     "ename": "TypeError",
     "evalue": "an integer is required",
     "output_type": "error",
     "traceback": [
      "\u001b[0;31m---------------------------------------------------------------------------\u001b[0m",
      "\u001b[0;31mTypeError\u001b[0m                                 Traceback (most recent call last)",
      "\u001b[0;32m<ipython-input-89-912308da5dc0>\u001b[0m in \u001b[0;36m<module>\u001b[0;34m()\u001b[0m\n\u001b[1;32m      1\u001b[0m \u001b[0ms\u001b[0m \u001b[0;34m=\u001b[0m \u001b[0;34m\"anil kumar\\n harish\\n ajay kumar\\n mahesh babu\"\u001b[0m\u001b[0;34m\u001b[0m\u001b[0m\n\u001b[1;32m      2\u001b[0m \u001b[0;32mprint\u001b[0m \u001b[0ms\u001b[0m\u001b[0;34m.\u001b[0m\u001b[0msplit\u001b[0m\u001b[0;34m(\u001b[0m\u001b[0;34m'\\n'\u001b[0m\u001b[0;34m)\u001b[0m\u001b[0;34m\u001b[0m\u001b[0m\n\u001b[0;32m----> 3\u001b[0;31m \u001b[0;32mprint\u001b[0m \u001b[0ms\u001b[0m\u001b[0;34m.\u001b[0m\u001b[0msplitlines\u001b[0m\u001b[0;34m(\u001b[0m\u001b[0;34m'\\n'\u001b[0m\u001b[0;34m)\u001b[0m               \u001b[0;31m# observe the difference between split and splitlines\u001b[0m\u001b[0;34m\u001b[0m\u001b[0m\n\u001b[0m",
      "\u001b[0;31mTypeError\u001b[0m: an integer is required"
     ]
    }
   ],
   "source": [
    "s = \"anil kumar\\n harish\\n ajay kumar\\n mahesh babu\"\n",
    "print s.split('\\n')\n",
    "print s.splitlines('\\n')               # observe the difference between split and splitlines"
   ]
  },
  {
   "cell_type": "code",
   "execution_count": 90,
   "metadata": {},
   "outputs": [
    {
     "name": "stdout",
     "output_type": "stream",
     "text": [
      "harishmaheshrameshajaypawanprabhas\n"
     ]
    }
   ],
   "source": [
    "l = ['harish', 'mahesh', 'ramesh', 'ajay', 'pawan', 'prabhas']\n",
    "print \"\".join(l)"
   ]
  },
  {
   "cell_type": "code",
   "execution_count": 92,
   "metadata": {},
   "outputs": [
    {
     "name": "stdout",
     "output_type": "stream",
     "text": [
      "harish; mahesh; ramesh; ajay; pawan; prabhas\n"
     ]
    }
   ],
   "source": [
    "l = ['harish', 'mahesh', 'ramesh', 'ajay', 'pawan', 'prabhas']\n",
    "print \"; \".join(l)"
   ]
  },
  {
   "cell_type": "code",
   "execution_count": 93,
   "metadata": {},
   "outputs": [
    {
     "name": "stdout",
     "output_type": "stream",
     "text": [
      "harish, mahesh, ramesh, ajay, pawan, prabhas\n"
     ]
    }
   ],
   "source": [
    "l = ['harish', 'mahesh', 'ramesh', 'ajay', 'pawan', 'prabhas']\n",
    "print \", \".join(l)"
   ]
  },
  {
   "cell_type": "code",
   "execution_count": 94,
   "metadata": {},
   "outputs": [
    {
     "name": "stdout",
     "output_type": "stream",
     "text": [
      "    hyderabad   \n",
      "hyderabad\n"
     ]
    }
   ],
   "source": [
    "s = \"    hyderabad   \"\n",
    "print s\n",
    "print s.strip()"
   ]
  },
  {
   "cell_type": "code",
   "execution_count": 95,
   "metadata": {},
   "outputs": [
    {
     "name": "stdout",
     "output_type": "stream",
     "text": [
      "    user name   \n",
      "user name\n"
     ]
    }
   ],
   "source": [
    "s = \"    user name   \"\n",
    "print s\n",
    "print s.strip()"
   ]
  },
  {
   "cell_type": "code",
   "execution_count": 97,
   "metadata": {},
   "outputs": [
    {
     "name": "stdout",
     "output_type": "stream",
     "text": [
      "@#$user!@#$name\n",
      "#$user!@#$name\n"
     ]
    }
   ],
   "source": [
    "s = \"@#$user!@#$name\"\n",
    "print s\n",
    "print s.strip('@')   # it strip the charecter"
   ]
  },
  {
   "cell_type": "code",
   "execution_count": 98,
   "metadata": {},
   "outputs": [
    {
     "name": "stdout",
     "output_type": "stream",
     "text": [
      "@#$user!@#$name\n",
      "$user!@#$name\n"
     ]
    }
   ],
   "source": [
    "s = \"@#$user!@#$name\"\n",
    "print s\n",
    "print s.strip('@#')   \n",
    "# actually in any strip function string takes all substring chars to perform string function but in s.strip string function\n",
    "#no need to individual substrng chrs it consider also group of given chars in funtion string"
   ]
  },
  {
   "cell_type": "code",
   "execution_count": 101,
   "metadata": {},
   "outputs": [
    {
     "name": "stdout",
     "output_type": "stream",
     "text": [
      "@#$user@#$name@#$\n",
      "user@#$name\n",
      "@#$user@#$name\n",
      "user@#$name@#$\n"
     ]
    }
   ],
   "source": [
    "s = \"@#$user@#$name@#$\"\n",
    "print s\n",
    "print s.strip('@#$')    # @#$ strips first and last in string\n",
    "print s.rstrip('@#$')   # @#$ strips last (right to left ) in string\n",
    "print s.lstrip('@#$')   # @#$ strips first (left to right ) in string\n"
   ]
  },
  {
   "cell_type": "code",
   "execution_count": 102,
   "metadata": {},
   "outputs": [
    {
     "name": "stdout",
     "output_type": "stream",
     "text": [
      "['harish', ' mahesh', ' ramesh', '  ajay', ' pawan', ' prabhas']\n",
      "('harish', ';', ' mahesh; ramesh;  ajay; pawan; prabhas')\n"
     ]
    }
   ],
   "source": [
    "s = \"harish; mahesh; ramesh;  ajay; pawan; prabhas\"\n",
    "print s.split(';')\n",
    "print s.partition(';')   # partion makes result in tuple ( only three elements ):\n",
    "                         # hear three partions are 1. 'harish'   2.';'   3.remaining all chars 'mahesh; ramessh.......'"
   ]
  },
  {
   "cell_type": "code",
   "execution_count": 103,
   "metadata": {},
   "outputs": [
    {
     "name": "stdout",
     "output_type": "stream",
     "text": [
      "['harish', ' mahesh', ' ramesh', '  ajay', ' pawan', ' prabhas']\n"
     ]
    }
   ],
   "source": [
    "s = \"harish; mahesh; ramesh;  ajay; pawan; prabhas\"\n",
    "print s.rsplit(';')                                  # it takes all splits\n"
   ]
  },
  {
   "cell_type": "code",
   "execution_count": 104,
   "metadata": {},
   "outputs": [
    {
     "name": "stdout",
     "output_type": "stream",
     "text": [
      "['harish; mahesh; ramesh', '  ajay', ' pawan', ' prabhas']\n"
     ]
    }
   ],
   "source": [
    "s = \"harish; mahesh; ramesh;  ajay; pawan; prabhas\"\n",
    "print s.rsplit(';',3)                                  # it takes left to right three splits, remaining are same\n"
   ]
  },
  {
   "cell_type": "code",
   "execution_count": 105,
   "metadata": {},
   "outputs": [
    {
     "name": "stdout",
     "output_type": "stream",
     "text": [
      "['harish; mahesh; ramesh;  ajay', ' pawan', ' prabhas']\n"
     ]
    }
   ],
   "source": [
    "s = \"harish; mahesh; ramesh;  ajay; pawan; prabhas\"\n",
    "print s.rsplit(';',2)                                  # it takes left to right two splits, remaining are same\n"
   ]
  },
  {
   "cell_type": "code",
   "execution_count": 107,
   "metadata": {},
   "outputs": [
    {
     "name": "stdout",
     "output_type": "stream",
     "text": [
      "['harish', ' mahesh', ' ramesh', '  ajay', ' pawan', ' prabhas']\n"
     ]
    }
   ],
   "source": [
    "s = \"harish; mahesh; ramesh;  ajay; pawan; prabhas\"\n",
    "print s.split(';')                    # by default it takes right to left all splits\n"
   ]
  },
  {
   "cell_type": "code",
   "execution_count": 108,
   "metadata": {},
   "outputs": [
    {
     "name": "stdout",
     "output_type": "stream",
     "text": [
      "['harish', ' mahesh', ' ramesh;  ajay; pawan; prabhas']\n"
     ]
    }
   ],
   "source": [
    "s = \"harish; mahesh; ramesh;  ajay; pawan; prabhas\"\n",
    "print s.split(';',2)                    # by default it takes right to left only two substrings splits\n"
   ]
  },
  {
   "cell_type": "code",
   "execution_count": 109,
   "metadata": {},
   "outputs": [
    {
     "name": "stdout",
     "output_type": "stream",
     "text": [
      "['harish', ' mahesh', ' ramesh', '  ajay', ' pawan', ' prabhas']\n"
     ]
    }
   ],
   "source": [
    "s = \"harish; mahesh; ramesh;  ajay; pawan; prabhas\"\n",
    "print s.split(';')\n"
   ]
  },
  {
   "cell_type": "code",
   "execution_count": 110,
   "metadata": {},
   "outputs": [
    {
     "name": "stdout",
     "output_type": "stream",
     "text": [
      "['harish', ' mahesh', ' ramesh', '  ajay', ' pawan', ' prabhas']\n"
     ]
    }
   ],
   "source": [
    "s = \"harish; mahesh; ramesh;  ajay; pawan; prabhas\"\n",
    "print s.split(';')\n"
   ]
  },
  {
   "cell_type": "code",
   "execution_count": 111,
   "metadata": {},
   "outputs": [],
   "source": [
    "s = \"python programming\"\n",
    "print s.zfill?"
   ]
  },
  {
   "cell_type": "code",
   "execution_count": null,
   "metadata": {},
   "outputs": [],
   "source": [
    "print s.zfill"
   ]
  },
  {
   "cell_type": "code",
   "execution_count": 112,
   "metadata": {},
   "outputs": [
    {
     "name": "stdout",
     "output_type": "stream",
     "text": [
      "python programming\n"
     ]
    }
   ],
   "source": [
    "s = \"python programming\"\n",
    "print s.zfill(0)"
   ]
  },
  {
   "cell_type": "code",
   "execution_count": 113,
   "metadata": {},
   "outputs": [
    {
     "name": "stdout",
     "output_type": "stream",
     "text": [
      "python programming\n"
     ]
    }
   ],
   "source": [
    "s = \"python programming\"\n",
    "print s.zfill(12)"
   ]
  },
  {
   "cell_type": "code",
   "execution_count": 114,
   "metadata": {},
   "outputs": [
    {
     "name": "stdout",
     "output_type": "stream",
     "text": [
      "00python programming\n"
     ]
    }
   ],
   "source": [
    "s = \"python programming\"\n",
    "print s.zfill(20)"
   ]
  },
  {
   "cell_type": "code",
   "execution_count": 115,
   "metadata": {},
   "outputs": [
    {
     "name": "stdout",
     "output_type": "stream",
     "text": [
      "18\n"
     ]
    }
   ],
   "source": [
    "s = \"python programming\"\n",
    "print len(s)"
   ]
  },
  {
   "cell_type": "code",
   "execution_count": 116,
   "metadata": {},
   "outputs": [
    {
     "name": "stdout",
     "output_type": "stream",
     "text": [
      "18\n",
      "python programming\n"
     ]
    }
   ],
   "source": [
    "s = \"python programming\"\n",
    "print len(s)\n",
    "print s.zfill(18)"
   ]
  },
  {
   "cell_type": "code",
   "execution_count": 119,
   "metadata": {},
   "outputs": [
    {
     "name": "stdout",
     "output_type": "stream",
     "text": [
      "18\n",
      "python programming\n",
      "0python programming\n",
      "00python programming\n",
      "000python programming\n",
      "0000python programming\n",
      "00000python programming\n",
      "000000python programming\n",
      "0000000python programming\n",
      "00000000python programming\n",
      "000000000python programming\n",
      "0000000000python programming\n"
     ]
    }
   ],
   "source": [
    "s = \"python programming\"\n",
    "print len(s)\n",
    "print s.zfill(18)\n",
    "print s.zfill(19)\n",
    "print s.zfill(20)\n",
    "print s.zfill(21)\n",
    "print s.zfill(22)\n",
    "print s.zfill(23)\n",
    "print s.zfill(24)\n",
    "print s.zfill(25)\n",
    "print s.zfill(26)\n",
    "print s.zfill(27)\n",
    "print s.zfill(28)\n"
   ]
  },
  {
   "cell_type": "code",
   "execution_count": 120,
   "metadata": {},
   "outputs": [
    {
     "name": "stdout",
     "output_type": "stream",
     "text": [
      "18\n",
      "000000000000000000000000000000000000000000python programming\n"
     ]
    }
   ],
   "source": [
    "s = \"python programming\"\n",
    "print len(s)\n",
    "print s.zfill(60)"
   ]
  },
  {
   "cell_type": "code",
   "execution_count": 124,
   "metadata": {},
   "outputs": [
    {
     "name": "stdout",
     "output_type": "stream",
     "text": [
      "18\n",
      "00python programming\n"
     ]
    }
   ],
   "source": [
    "s = \"python programming\"\n",
    "print len(s)\n",
    "print s.zfill(20)"
   ]
  },
  {
   "cell_type": "code",
   "execution_count": null,
   "metadata": {},
   "outputs": [],
   "source": [
    "s = \"python programming\"\n",
    "print len(s)\n",
    "print s.zfill(20)          # first we campare the length of the string\n",
    "                           # if we give s.zfill value lessthan its length value it  shows same output \n",
    "                           # if we give s.zfill value morethan its length value it adds zeros from left of the string \n",
    "                           #s.zfill is string filled with zeros"
   ]
  }
 ],
 "metadata": {
  "kernelspec": {
   "display_name": "Python 2",
   "language": "python",
   "name": "python2"
  },
  "language_info": {
   "codemirror_mode": {
    "name": "ipython",
    "version": 2
   },
   "file_extension": ".py",
   "mimetype": "text/x-python",
   "name": "python",
   "nbconvert_exporter": "python",
   "pygments_lexer": "ipython2",
   "version": "2.7.15rc1"
  }
 },
 "nbformat": 4,
 "nbformat_minor": 2
}
