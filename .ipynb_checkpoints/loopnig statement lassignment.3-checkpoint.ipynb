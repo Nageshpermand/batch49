{
 "cells": [
  {
   "cell_type": "code",
   "execution_count": 1,
   "metadata": {},
   "outputs": [
    {
     "name": "stdout",
     "output_type": "stream",
     "text": [
      "enter a value: 4\n",
      "the number is not prime number\n"
     ]
    }
   ],
   "source": [
    "\"\"\"  21.  take a number from the user and check whether it is prime?\"\"\"\n",
    "#conditions 1.number should be greater than 2.there is no positive divisers for the number other than (1*itselfnumber):\n",
    "number = int(input(\"enter a value: \"))\n",
    "if (number>1)and(number%2==0):\n",
    "    print \"the number is not prime number\"\n",
    "        \n",
    "else:\n",
    "     print \"the number is  prime number\"\n"
   ]
  },
  {
   "cell_type": "code",
   "execution_count": 2,
   "metadata": {},
   "outputs": [
    {
     "name": "stdout",
     "output_type": "stream",
     "text": [
      "enter a value: 7\n",
      "the number is  prime number\n"
     ]
    }
   ],
   "source": [
    "number = int(input(\"enter a value: \"))\n",
    "if (number>1)and(number%2==0):\n",
    "    print \"the number is not prime number\"\n",
    "        \n",
    "else:\n",
    "     print \"the number is  prime number\"\n"
   ]
  },
  {
   "cell_type": "code",
   "execution_count": 3,
   "metadata": {},
   "outputs": [
    {
     "name": "stdout",
     "output_type": "stream",
     "text": [
      "enter a name:hyderabad\n",
      "y\n",
      "r\n"
     ]
    }
   ],
   "source": [
    "\"\"\" 22. Take string from the user and check contains only digits or not?\"\"\"\n",
    "a=str(raw_input(\"enter a name:\"))\n",
    "print(a[1])\n",
    "print(a[4])\n"
   ]
  },
  {
   "cell_type": "code",
   "execution_count": 6,
   "metadata": {},
   "outputs": [
    {
     "name": "stdout",
     "output_type": "stream",
     "text": [
      "2\n"
     ]
    }
   ],
   "source": [
    "a=\"hyderabad\"\n",
    "print(a.count('d'))\n"
   ]
  },
  {
   "cell_type": "code",
   "execution_count": 7,
   "metadata": {},
   "outputs": [
    {
     "name": "stdout",
     "output_type": "stream",
     "text": [
      "1\n"
     ]
    }
   ],
   "source": [
    "a=\"hyderabad\"\n",
    "print(a.count('b'))\n"
   ]
  },
  {
   "cell_type": "code",
   "execution_count": 1,
   "metadata": {},
   "outputs": [],
   "source": [
    "a = \"hyderabad\""
   ]
  },
  {
   "cell_type": "code",
   "execution_count": 3,
   "metadata": {},
   "outputs": [
    {
     "ename": "NameError",
     "evalue": "name 'd' is not defined",
     "output_type": "error",
     "traceback": [
      "\u001b[0;31m---------------------------------------------------------------------------\u001b[0m",
      "\u001b[0;31mNameError\u001b[0m                                 Traceback (most recent call last)",
      "\u001b[0;32m<ipython-input-3-bfe2a138431f>\u001b[0m in \u001b[0;36m<module>\u001b[0;34m()\u001b[0m\n\u001b[0;32m----> 1\u001b[0;31m \u001b[0mord\u001b[0m\u001b[0;34m(\u001b[0m\u001b[0md\u001b[0m\u001b[0;34m)\u001b[0m\u001b[0;34m\u001b[0m\u001b[0m\n\u001b[0m",
      "\u001b[0;31mNameError\u001b[0m: name 'd' is not defined"
     ]
    }
   ],
   "source": [
    "ord(d)"
   ]
  },
  {
   "cell_type": "code",
   "execution_count": 4,
   "metadata": {},
   "outputs": [
    {
     "data": {
      "text/plain": [
       "100"
      ]
     },
     "execution_count": 4,
     "metadata": {},
     "output_type": "execute_result"
    }
   ],
   "source": [
    "ord(\"d\")"
   ]
  },
  {
   "cell_type": "code",
   "execution_count": 5,
   "metadata": {},
   "outputs": [
    {
     "data": {
      "text/plain": [
       "98"
      ]
     },
     "execution_count": 5,
     "metadata": {},
     "output_type": "execute_result"
    }
   ],
   "source": [
    "ord(\"b\")"
   ]
  },
  {
   "cell_type": "code",
   "execution_count": 6,
   "metadata": {},
   "outputs": [
    {
     "ename": "NameError",
     "evalue": "name 'd' is not defined",
     "output_type": "error",
     "traceback": [
      "\u001b[0;31m---------------------------------------------------------------------------\u001b[0m",
      "\u001b[0;31mNameError\u001b[0m                                 Traceback (most recent call last)",
      "\u001b[0;32m<ipython-input-6-efa568b82b2d>\u001b[0m in \u001b[0;36m<module>\u001b[0;34m()\u001b[0m\n\u001b[1;32m      1\u001b[0m \u001b[0ma\u001b[0m \u001b[0;34m=\u001b[0m \u001b[0;34m\"hyderabad\"\u001b[0m\u001b[0;34m\u001b[0m\u001b[0m\n\u001b[0;32m----> 2\u001b[0;31m \u001b[0;32mif\u001b[0m \u001b[0mord\u001b[0m\u001b[0;34m(\u001b[0m\u001b[0md\u001b[0m\u001b[0;34m)\u001b[0m\u001b[0;34m>=\u001b[0m\u001b[0;36m120\u001b[0m \u001b[0;32mand\u001b[0m \u001b[0mord\u001b[0m\u001b[0;34m(\u001b[0m\u001b[0mb\u001b[0m\u001b[0;34m)\u001b[0m\u001b[0;34m<\u001b[0m\u001b[0;36m200\u001b[0m\u001b[0;34m:\u001b[0m\u001b[0;34m\u001b[0m\u001b[0m\n\u001b[0m\u001b[1;32m      3\u001b[0m     \u001b[0;32mprint\u001b[0m \u001b[0;34m\"string contains digits\"\u001b[0m\u001b[0;34m\u001b[0m\u001b[0m\n\u001b[1;32m      4\u001b[0m \u001b[0;32melse\u001b[0m\u001b[0;34m:\u001b[0m\u001b[0;34m\u001b[0m\u001b[0m\n\u001b[1;32m      5\u001b[0m     \u001b[0;32mprint\u001b[0m\u001b[0;34m\"string does not contains digits\"\u001b[0m\u001b[0;34m\u001b[0m\u001b[0m\n",
      "\u001b[0;31mNameError\u001b[0m: name 'd' is not defined"
     ]
    }
   ],
   "source": [
    "a = \"hyderabad\"\n",
    "if ord(d)>=120 and ord(b)<200:\n",
    "    print \"string contains digits\"\n",
    "else:\n",
    "    print\"string does not contains digits\"\n",
    "    "
   ]
  },
  {
   "cell_type": "code",
   "execution_count": 9,
   "metadata": {},
   "outputs": [
    {
     "name": "stdout",
     "output_type": "stream",
     "text": [
      "enter a string name: a\n",
      "string does not contains digits\n"
     ]
    }
   ],
   "source": [
    "a = str(raw_input(\"enter a string name: \"))\n",
    "if ord(a)>=120 and ord(a)<200:\n",
    "    print \"string contains digits\"\n",
    "else:\n",
    "    print\"string does not contains digits\"\n",
    "    "
   ]
  },
  {
   "cell_type": "code",
   "execution_count": 17,
   "metadata": {},
   "outputs": [
    {
     "ename": "TypeError",
     "evalue": "ord() expected a character, but string of length 9 found",
     "output_type": "error",
     "traceback": [
      "\u001b[0;31m---------------------------------------------------------------------------\u001b[0m",
      "\u001b[0;31mTypeError\u001b[0m                                 Traceback (most recent call last)",
      "\u001b[0;32m<ipython-input-17-4b3fbd3b4df0>\u001b[0m in \u001b[0;36m<module>\u001b[0;34m()\u001b[0m\n\u001b[1;32m      1\u001b[0m \u001b[0ma\u001b[0m \u001b[0;34m=\u001b[0m \u001b[0;34m\"hyderabad\"\u001b[0m\u001b[0;34m\u001b[0m\u001b[0m\n\u001b[1;32m      2\u001b[0m \u001b[0;32mfor\u001b[0m \u001b[0mi\u001b[0m \u001b[0;32min\u001b[0m \u001b[0ma\u001b[0m\u001b[0;34m:\u001b[0m\u001b[0;34m\u001b[0m\u001b[0m\n\u001b[0;32m----> 3\u001b[0;31m     \u001b[0;32mif\u001b[0m \u001b[0mord\u001b[0m\u001b[0;34m(\u001b[0m\u001b[0ma\u001b[0m\u001b[0;34m)\u001b[0m\u001b[0;34m>=\u001b[0m\u001b[0;36m20\u001b[0m \u001b[0;34m:\u001b[0m\u001b[0;34m\u001b[0m\u001b[0m\n\u001b[0m\u001b[1;32m      4\u001b[0m         \u001b[0;32mprint\u001b[0m \u001b[0;34m\"string contains digits\"\u001b[0m\u001b[0;34m\u001b[0m\u001b[0m\n\u001b[1;32m      5\u001b[0m     \u001b[0;32melse\u001b[0m\u001b[0;34m:\u001b[0m\u001b[0;34m\u001b[0m\u001b[0m\n",
      "\u001b[0;31mTypeError\u001b[0m: ord() expected a character, but string of length 9 found"
     ]
    }
   ],
   "source": [
    "a = \"hyderabad\"\n",
    "for i in a:\n",
    "    if ord(a)>=20 :\n",
    "        print \"string contains digits\"\n",
    "    else:\n",
    "        print\"string does not contains digits\"\n",
    "    "
   ]
  },
  {
   "cell_type": "code",
   "execution_count": 5,
   "metadata": {},
   "outputs": [
    {
     "name": "stdout",
     "output_type": "stream",
     "text": [
      "string contains digits\n",
      "string contains digits\n",
      "string contains digits\n",
      "string contains digits\n",
      "string contains digits\n",
      "string contains digits\n",
      "string contains digits\n",
      "string contains digits\n",
      "string contains digits\n",
      "string contains digits\n",
      "string contains digits\n",
      "string contains digits\n",
      "string contains digits\n",
      "string contains digits\n",
      "string contains digits\n",
      "string contains digits\n"
     ]
    }
   ],
   "source": [
    "a = \"hyderabad1234678\"\n",
    "for i in a:\n",
    "    if ord(i)>=20 :\n",
    "        print \"string contains digits\"\n",
    "    else:\n",
    "        print\"string does not contains digits\"\n",
    "    "
   ]
  },
  {
   "cell_type": "code",
   "execution_count": 7,
   "metadata": {},
   "outputs": [
    {
     "name": "stdout",
     "output_type": "stream",
     "text": [
      "the string is only alphabets\n"
     ]
    }
   ],
   "source": [
    "\"\"\" 23.take a string from the user and check contains only  alphabets or not?\"\"\"\n",
    "a = \"hyderabad\"\n",
    "if (a.isalpha()==True):\n",
    "    print \"the string is only alphabets\""
   ]
  },
  {
   "cell_type": "code",
   "execution_count": 8,
   "metadata": {},
   "outputs": [],
   "source": [
    "a = \"hyderabad44\"\n",
    "if (a.isalpha()==True):\n",
    "    print \"the string is only alphabets\""
   ]
  },
  {
   "cell_type": "code",
   "execution_count": 9,
   "metadata": {},
   "outputs": [
    {
     "name": "stdout",
     "output_type": "stream",
     "text": [
      "the string does not have alphabets\n"
     ]
    }
   ],
   "source": [
    "a = \"hyderabad44\"\n",
    "if (a.isalpha()==True):\n",
    "    print \"the string is only alphabets\"\n",
    "else:\n",
    "    print\"the string does not have alphabets\""
   ]
  },
  {
   "cell_type": "code",
   "execution_count": 12,
   "metadata": {},
   "outputs": [
    {
     "name": "stdout",
     "output_type": "stream",
     "text": [
      "the string does not have only  alphabets\n"
     ]
    }
   ],
   "source": [
    "a = \"hyderabad44\"\n",
    "if (a.isalpha()==False):\n",
    "    print \"the string does not have only  alphabets\"\n",
    "else:\n",
    "    print\"the string is only have  alphabets\""
   ]
  },
  {
   "cell_type": "code",
   "execution_count": 13,
   "metadata": {},
   "outputs": [
    {
     "name": "stdout",
     "output_type": "stream",
     "text": [
      "the string does not contain only capital letters\n"
     ]
    }
   ],
   "source": [
    "\"\"\" 25 .take a string from the user and check contains only  capital letters or not?\"\"\"\n",
    "b = \"kohli is good player\"\n",
    "if (b.upper()==True):\n",
    "    print\"the string contains only capital letters\"\n",
    "else:\n",
    "    print\"the string does not contain only capital letters\""
   ]
  },
  {
   "cell_type": "code",
   "execution_count": 30,
   "metadata": {},
   "outputs": [
    {
     "name": "stdout",
     "output_type": "stream",
     "text": [
      "the string contains only small letters\n"
     ]
    }
   ],
   "source": [
    "b = \"KOHLI IS GOOD PLAYER\"\n",
    "if b.upper()==True:\n",
    "    print\"the string contains only CAPITAL letters\"\n",
    "else:\n",
    "    print\"the string contains only small letters\""
   ]
  },
  {
   "cell_type": "code",
   "execution_count": 33,
   "metadata": {},
   "outputs": [
    {
     "name": "stdout",
     "output_type": "stream",
     "text": [
      "the string contains only capital letters\n"
     ]
    }
   ],
   "source": [
    "\"\"\" 26. take a string from the user and check contains only  small letters or not?\"\"\"\n",
    "c = \"heloo world\"\n",
    "if (c.lower())==True:\n",
    "    print\"the string contains only small letters\"\n",
    "else:\n",
    "    print\"the string contains only capital letters\"\n"
   ]
  },
  {
   "cell_type": "code",
   "execution_count": 34,
   "metadata": {},
   "outputs": [
    {
     "name": "stdout",
     "output_type": "stream",
     "text": [
      "the string contains only capital letters\n"
     ]
    }
   ],
   "source": [
    "\n",
    "c = \"heloo world\"\n",
    "if (c.lower())==True:\n",
    "    print\"the string contains only small letters\"\n",
    "else:\n",
    "    print\"the string contains only capital letters\"\n"
   ]
  },
  {
   "cell_type": "code",
   "execution_count": null,
   "metadata": {},
   "outputs": [],
   "source": []
  }
 ],
 "metadata": {
  "kernelspec": {
   "display_name": "Python 2",
   "language": "python",
   "name": "python2"
  },
  "language_info": {
   "codemirror_mode": {
    "name": "ipython",
    "version": 2
   },
   "file_extension": ".py",
   "mimetype": "text/x-python",
   "name": "python",
   "nbconvert_exporter": "python",
   "pygments_lexer": "ipython2",
   "version": "2.7.15rc1"
  }
 },
 "nbformat": 4,
 "nbformat_minor": 2
}
