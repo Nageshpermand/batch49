{
 "cells": [
  {
   "cell_type": "code",
   "execution_count": 1,
   "metadata": {},
   "outputs": [],
   "source": [
    "f=open(\"data.csv\",\"w\")"
   ]
  },
  {
   "cell_type": "code",
   "execution_count": 2,
   "metadata": {},
   "outputs": [],
   "source": [
    "f.write(\"some data\")"
   ]
  },
  {
   "cell_type": "code",
   "execution_count": 3,
   "metadata": {},
   "outputs": [
    {
     "ename": "NameError",
     "evalue": "name 'close' is not defined",
     "output_type": "error",
     "traceback": [
      "\u001b[0;31m---------------------------------------------------------------------------\u001b[0m",
      "\u001b[0;31mNameError\u001b[0m                                 Traceback (most recent call last)",
      "\u001b[0;32m<ipython-input-3-a53a3be94d2f>\u001b[0m in \u001b[0;36m<module>\u001b[0;34m()\u001b[0m\n\u001b[0;32m----> 1\u001b[0;31m \u001b[0mf\u001b[0m\u001b[0;34m,\u001b[0m\u001b[0mclose\u001b[0m\u001b[0;34m(\u001b[0m\u001b[0;34m)\u001b[0m\u001b[0;34m\u001b[0m\u001b[0m\n\u001b[0m",
      "\u001b[0;31mNameError\u001b[0m: name 'close' is not defined"
     ]
    }
   ],
   "source": [
    "f,close()"
   ]
  },
  {
   "cell_type": "code",
   "execution_count": 4,
   "metadata": {},
   "outputs": [],
   "source": [
    "f.close()"
   ]
  },
  {
   "cell_type": "code",
   "execution_count": 5,
   "metadata": {},
   "outputs": [
    {
     "ename": "ValueError",
     "evalue": "I/O operation on closed file",
     "output_type": "error",
     "traceback": [
      "\u001b[0;31m---------------------------------------------------------------------------\u001b[0m",
      "\u001b[0;31mValueError\u001b[0m                                Traceback (most recent call last)",
      "\u001b[0;32m<ipython-input-5-807774dcd52a>\u001b[0m in \u001b[0;36m<module>\u001b[0;34m()\u001b[0m\n\u001b[0;32m----> 1\u001b[0;31m \u001b[0mf\u001b[0m\u001b[0;34m.\u001b[0m\u001b[0mwrite\u001b[0m\u001b[0;34m(\u001b[0m\u001b[0;34m\"some more date\"\u001b[0m\u001b[0;34m)\u001b[0m\u001b[0;34m\u001b[0m\u001b[0m\n\u001b[0m",
      "\u001b[0;31mValueError\u001b[0m: I/O operation on closed file"
     ]
    }
   ],
   "source": [
    "f.write(\"some more date\")   "
   ]
  },
  {
   "cell_type": "code",
   "execution_count": 7,
   "metadata": {},
   "outputs": [],
   "source": [
    "f=open(\"data.csv\",\"w\")    #if there is any related folder it will permently removes"
   ]
  },
  {
   "cell_type": "code",
   "execution_count": 8,
   "metadata": {},
   "outputs": [],
   "source": [
    "f=open(\"data.csv\",\"w\")\n",
    "f.write(\"some data\\n python is  pure object oriented programe\")\n",
    "f.write(\"\\nPython is one of those rare languages which can claim to be both simple and powerful.\")\n",
    "f.close()"
   ]
  },
  {
   "cell_type": "code",
   "execution_count": 9,
   "metadata": {},
   "outputs": [],
   "source": [
    "f=open(\"data.csv\",\"a\")\n",
    "f.write(\"\\n wriring data in append mode\")\n",
    "f.close()"
   ]
  },
  {
   "cell_type": "code",
   "execution_count": 10,
   "metadata": {},
   "outputs": [
    {
     "name": "stdout",
     "output_type": "stream",
     "text": [
      "some data\n",
      " python is  pure object oriented programe\n",
      "Python is one of those rare languages which can claim to be both simple and powerful.\n",
      " wriring data in append mode\n"
     ]
    }
   ],
   "source": [
    "f=open(\"data.csv\",\"r\")\n",
    "data = f.read()\n",
    "print data"
   ]
  },
  {
   "cell_type": "code",
   "execution_count": 11,
   "metadata": {},
   "outputs": [
    {
     "name": "stdout",
     "output_type": "stream",
     "text": [
      "['some data\\n', ' python is  pure object oriented programe\\n', 'Python is one of those rare languages which can claim to be both simple and powerful.\\n', ' wriring data in append mode']\n"
     ]
    }
   ],
   "source": [
    "f=open(\"data.csv\",\"r\")\n",
    "data = f.readlines()\n",
    "print data"
   ]
  },
  {
   "cell_type": "code",
   "execution_count": 12,
   "metadata": {},
   "outputs": [
    {
     "name": "stdout",
     "output_type": "stream",
     "text": [
      "some data\n",
      "\n",
      " python is  pure object oriented programe\n",
      "\n"
     ]
    }
   ],
   "source": [
    "f=open(\"data.csv\",\"r\")\n",
    "print f.readline()\n",
    "print f.readline()"
   ]
  },
  {
   "cell_type": "code",
   "execution_count": 4,
   "metadata": {},
   "outputs": [
    {
     "name": "stdout",
     "output_type": "stream",
     "text": [
      "<open file 'kcr.jpg', mode 'wb' at 0x7f95ddacbf60>\n"
     ]
    }
   ],
   "source": [
    "f=open(\"kcr.jpg\",\"wb\")\n",
    "\n",
    "print f"
   ]
  },
  {
   "cell_type": "code",
   "execution_count": 1,
   "metadata": {},
   "outputs": [
    {
     "name": "stdout",
     "output_type": "stream",
     "text": [
      "<built-in method read of file object at 0x7f7bc7222f60>\n"
     ]
    }
   ],
   "source": [
    "f=open(\"kcr.jpg\",\"rb\")\n",
    "data = f.read\n",
    "print data"
   ]
  },
  {
   "cell_type": "code",
   "execution_count": 2,
   "metadata": {},
   "outputs": [
    {
     "ename": "NameError",
     "evalue": "name 'kcr' is not defined",
     "output_type": "error",
     "traceback": [
      "\u001b[0;31m---------------------------------------------------------------------------\u001b[0m",
      "\u001b[0;31mNameError\u001b[0m                                 Traceback (most recent call last)",
      "\u001b[0;32m<ipython-input-2-42327543fde8>\u001b[0m in \u001b[0;36m<module>\u001b[0;34m()\u001b[0m\n\u001b[0;32m----> 1\u001b[0;31m \u001b[0mimg\u001b[0m \u001b[0;34m=\u001b[0m \u001b[0mkcr\u001b[0m\u001b[0;34m.\u001b[0m\u001b[0mjpg\u001b[0m\u001b[0;34m\u001b[0m\u001b[0m\n\u001b[0m\u001b[1;32m      2\u001b[0m \u001b[0mgray_img\u001b[0m \u001b[0;34m=\u001b[0m \u001b[0mcv2\u001b[0m\u001b[0;34m.\u001b[0m\u001b[0mcvtColor\u001b[0m\u001b[0;34m(\u001b[0m\u001b[0mimg\u001b[0m\u001b[0;34m,\u001b[0m \u001b[0mcv2\u001b[0m\u001b[0;34m.\u001b[0m\u001b[0mCOLOR_BGR2GRAY\u001b[0m\u001b[0;34m)\u001b[0m\u001b[0;34m\u001b[0m\u001b[0m\n",
      "\u001b[0;31mNameError\u001b[0m: name 'kcr' is not defined"
     ]
    }
   ],
   "source": [
    "img = kcr.jpg\n",
    "gray_img = cv2.cvtColor(img, cv2.COLOR_BGR2GRAY)"
   ]
  },
  {
   "cell_type": "code",
   "execution_count": null,
   "metadata": {},
   "outputs": [],
   "source": []
  },
  {
   "cell_type": "code",
   "execution_count": null,
   "metadata": {},
   "outputs": [],
   "source": []
  },
  {
   "cell_type": "code",
   "execution_count": null,
   "metadata": {},
   "outputs": [],
   "source": []
  },
  {
   "cell_type": "code",
   "execution_count": null,
   "metadata": {},
   "outputs": [],
   "source": []
  },
  {
   "cell_type": "code",
   "execution_count": null,
   "metadata": {},
   "outputs": [],
   "source": []
  },
  {
   "cell_type": "code",
   "execution_count": null,
   "metadata": {},
   "outputs": [],
   "source": []
  },
  {
   "cell_type": "code",
   "execution_count": null,
   "metadata": {},
   "outputs": [],
   "source": []
  },
  {
   "cell_type": "code",
   "execution_count": null,
   "metadata": {},
   "outputs": [],
   "source": []
  },
  {
   "cell_type": "code",
   "execution_count": null,
   "metadata": {},
   "outputs": [],
   "source": []
  },
  {
   "cell_type": "code",
   "execution_count": null,
   "metadata": {},
   "outputs": [],
   "source": []
  },
  {
   "cell_type": "code",
   "execution_count": null,
   "metadata": {},
   "outputs": [],
   "source": []
  },
  {
   "cell_type": "code",
   "execution_count": null,
   "metadata": {},
   "outputs": [],
   "source": []
  },
  {
   "cell_type": "code",
   "execution_count": null,
   "metadata": {},
   "outputs": [],
   "source": []
  },
  {
   "cell_type": "code",
   "execution_count": null,
   "metadata": {},
   "outputs": [],
   "source": []
  },
  {
   "cell_type": "code",
   "execution_count": null,
   "metadata": {},
   "outputs": [],
   "source": []
  },
  {
   "cell_type": "code",
   "execution_count": null,
   "metadata": {},
   "outputs": [],
   "source": []
  },
  {
   "cell_type": "code",
   "execution_count": null,
   "metadata": {},
   "outputs": [],
   "source": []
  },
  {
   "cell_type": "code",
   "execution_count": null,
   "metadata": {},
   "outputs": [],
   "source": []
  },
  {
   "cell_type": "code",
   "execution_count": null,
   "metadata": {},
   "outputs": [],
   "source": []
  },
  {
   "cell_type": "code",
   "execution_count": null,
   "metadata": {},
   "outputs": [],
   "source": []
  },
  {
   "cell_type": "code",
   "execution_count": null,
   "metadata": {},
   "outputs": [],
   "source": []
  },
  {
   "cell_type": "code",
   "execution_count": null,
   "metadata": {},
   "outputs": [],
   "source": []
  },
  {
   "cell_type": "code",
   "execution_count": null,
   "metadata": {},
   "outputs": [],
   "source": []
  },
  {
   "cell_type": "code",
   "execution_count": null,
   "metadata": {},
   "outputs": [],
   "source": []
  },
  {
   "cell_type": "code",
   "execution_count": null,
   "metadata": {},
   "outputs": [],
   "source": []
  },
  {
   "cell_type": "code",
   "execution_count": null,
   "metadata": {},
   "outputs": [],
   "source": []
  },
  {
   "cell_type": "code",
   "execution_count": null,
   "metadata": {},
   "outputs": [],
   "source": []
  },
  {
   "cell_type": "code",
   "execution_count": null,
   "metadata": {},
   "outputs": [],
   "source": []
  },
  {
   "cell_type": "code",
   "execution_count": null,
   "metadata": {},
   "outputs": [],
   "source": []
  },
  {
   "cell_type": "code",
   "execution_count": null,
   "metadata": {},
   "outputs": [],
   "source": []
  },
  {
   "cell_type": "code",
   "execution_count": null,
   "metadata": {},
   "outputs": [],
   "source": []
  },
  {
   "cell_type": "code",
   "execution_count": null,
   "metadata": {},
   "outputs": [],
   "source": []
  },
  {
   "cell_type": "code",
   "execution_count": null,
   "metadata": {},
   "outputs": [],
   "source": []
  },
  {
   "cell_type": "code",
   "execution_count": null,
   "metadata": {},
   "outputs": [],
   "source": []
  },
  {
   "cell_type": "code",
   "execution_count": null,
   "metadata": {},
   "outputs": [],
   "source": []
  },
  {
   "cell_type": "code",
   "execution_count": null,
   "metadata": {},
   "outputs": [],
   "source": []
  },
  {
   "cell_type": "code",
   "execution_count": null,
   "metadata": {},
   "outputs": [],
   "source": []
  },
  {
   "cell_type": "code",
   "execution_count": null,
   "metadata": {},
   "outputs": [],
   "source": []
  },
  {
   "cell_type": "code",
   "execution_count": 2,
   "metadata": {},
   "outputs": [
    {
     "ename": "ImportError",
     "evalue": "No module named yaml",
     "output_type": "error",
     "traceback": [
      "\u001b[0;31m---------------------------------------------------------------------------\u001b[0m",
      "\u001b[0;31mImportError\u001b[0m                               Traceback (most recent call last)",
      "\u001b[0;32m<ipython-input-2-e8b13124da93>\u001b[0m in \u001b[0;36m<module>\u001b[0;34m()\u001b[0m\n\u001b[0;32m----> 1\u001b[0;31m \u001b[0;32mimport\u001b[0m \u001b[0myaml\u001b[0m\u001b[0;34m\u001b[0m\u001b[0m\n\u001b[0m\u001b[1;32m      2\u001b[0m \u001b[0;34m\u001b[0m\u001b[0m\n\u001b[1;32m      3\u001b[0m \u001b[0;34m\u001b[0m\u001b[0m\n\u001b[1;32m      4\u001b[0m \u001b[0;34m\u001b[0m\u001b[0m\n\u001b[1;32m      5\u001b[0m \u001b[0;34m\u001b[0m\u001b[0m\n",
      "\u001b[0;31mImportError\u001b[0m: No module named yaml"
     ]
    }
   ],
   "source": [
    "import yaml\n",
    "\n",
    "\n",
    "\n",
    "\n"
   ]
  },
  {
   "cell_type": "code",
   "execution_count": 3,
   "metadata": {},
   "outputs": [
    {
     "name": "stdout",
     "output_type": "stream",
     "text": [
      "enter user name:ejkg\n",
      "enter password:a;kla\n"
     ]
    },
    {
     "ename": "IOError",
     "evalue": "[Errno 2] No such file or directory: 'user.csv'",
     "output_type": "error",
     "traceback": [
      "\u001b[0;31m---------------------------------------------------------------------------\u001b[0m",
      "\u001b[0;31mIOError\u001b[0m                                   Traceback (most recent call last)",
      "\u001b[0;32m<ipython-input-3-b170c01f7bb5>\u001b[0m in \u001b[0;36m<module>\u001b[0;34m()\u001b[0m\n\u001b[1;32m      1\u001b[0m \u001b[0musername\u001b[0m \u001b[0;34m=\u001b[0m \u001b[0mraw_input\u001b[0m\u001b[0;34m(\u001b[0m\u001b[0;34m\"enter user name:\"\u001b[0m\u001b[0;34m)\u001b[0m\u001b[0;34m\u001b[0m\u001b[0m\n\u001b[1;32m      2\u001b[0m \u001b[0mpassword\u001b[0m \u001b[0;34m=\u001b[0m \u001b[0mraw_input\u001b[0m\u001b[0;34m(\u001b[0m\u001b[0;34m\"enter password:\"\u001b[0m\u001b[0;34m)\u001b[0m\u001b[0;34m\u001b[0m\u001b[0m\n\u001b[0;32m----> 3\u001b[0;31m \u001b[0mf\u001b[0m \u001b[0;34m=\u001b[0m \u001b[0mopen\u001b[0m\u001b[0;34m(\u001b[0m\u001b[0;34m\"user.csv\"\u001b[0m\u001b[0;34m,\u001b[0m\u001b[0;34m)\u001b[0m\u001b[0;34m\u001b[0m\u001b[0m\n\u001b[0m",
      "\u001b[0;31mIOError\u001b[0m: [Errno 2] No such file or directory: 'user.csv'"
     ]
    }
   ],
   "source": [
    "username = raw_input(\"enter user name:\")\n",
    "password = raw_input(\"enter password:\")\n",
    "f = open(\"user.csv\",)"
   ]
  },
  {
   "cell_type": "code",
   "execution_count": 4,
   "metadata": {},
   "outputs": [
    {
     "ename": "ImportError",
     "evalue": "No module named yaml",
     "output_type": "error",
     "traceback": [
      "\u001b[0;31m---------------------------------------------------------------------------\u001b[0m",
      "\u001b[0;31mImportError\u001b[0m                               Traceback (most recent call last)",
      "\u001b[0;32m<ipython-input-4-38c9922a026e>\u001b[0m in \u001b[0;36m<module>\u001b[0;34m()\u001b[0m\n\u001b[0;32m----> 1\u001b[0;31m \u001b[0;32mimport\u001b[0m \u001b[0myaml\u001b[0m\u001b[0;34m\u001b[0m\u001b[0m\n\u001b[0m",
      "\u001b[0;31mImportError\u001b[0m: No module named yaml"
     ]
    }
   ],
   "source": [
    "import yaml\n"
   ]
  },
  {
   "cell_type": "code",
   "execution_count": 5,
   "metadata": {},
   "outputs": [],
   "source": [
    "username = raw_input(\"enter user name:\")\n",
    "password = raw_input(\"enter password:\")\n",
    "f = open(\"user.csv\",'w')\n",
    "data1="
   ]
  },
  {
   "cell_type": "code",
   "execution_count": 6,
   "metadata": {},
   "outputs": [],
   "source": [
    "f=open(\"data.csv1\",\"w\")\n",
    "f.write(\"some data\")\n",
    "f.close()"
   ]
  },
  {
   "cell_type": "code",
   "execution_count": 9,
   "metadata": {},
   "outputs": [],
   "source": [
    "f=open(\"data.csv1\",\"r\")\n",
    "f.read()\n",
    "f.close()"
   ]
  },
  {
   "cell_type": "code",
   "execution_count": 11,
   "metadata": {},
   "outputs": [
    {
     "name": "stdout",
     "output_type": "stream",
     "text": [
      "{\n",
      "    \"glossary\": {\n",
      "        \"title\": \"example glossary\",\n",
      "\t\t\"GlossDiv\": {\n",
      "            \"title\": \"S\",\n",
      "\t\t\t\"GlossList\": {\n",
      "                \"GlossEntry\": {\n",
      "                    \"ID\": \"SGML\",\n",
      "\t\t\t\t\t\"SortAs\": \"SGML\",\n",
      "\t\t\t\t\t\"GlossTerm\": \"Standard Generalized Markup Language\",\n",
      "\t\t\t\t\t\"Acronym\": \"SGML\",\n",
      "\t\t\t\t\t\"Abbrev\": \"ISO 8879:1986\",\n",
      "\t\t\t\t\t\"GlossDef\": {\n",
      "                        \"para\": \"A meta-markup language, used to create markup languages such as DocBook.\",\n",
      "\t\t\t\t\t\t\"GlossSeeAlso\": [\"GML\", \"XML\"]\n",
      "                    },\n",
      "\t\t\t\t\t\"GlossSee\": \"markup\"\n",
      "                }\n",
      "            }\n",
      "        }\n",
      "    }\n",
      "}\n",
      "\n"
     ]
    }
   ],
   "source": [
    "import json\n",
    "f=open(\"data.json\",\"r\")\n",
    "data=f.read()\n",
    "print data\n",
    "\n",
    "f.close()"
   ]
  },
  {
   "cell_type": "code",
   "execution_count": 17,
   "metadata": {},
   "outputs": [
    {
     "name": "stdout",
     "output_type": "stream",
     "text": [
      "{\n",
      "    \"glossary\": {\n",
      "        \"title\": \"example glossary\",\n",
      "\t\t\"GlossDiv\": {\n",
      "            \"title\": \"S\",\n",
      "\t\t\t\"GlossList\": {\n",
      "                \"GlossEntry\": {\n",
      "                    \"ID\": \"SGML\",\n",
      "\t\t\t\t\t\"SortAs\": \"SGML\",\n",
      "\t\t\t\t\t\"GlossTerm\": \"Standard Generalized Markup Language\",\n",
      "\t\t\t\t\t\"Acronym\": \"SGML\",\n",
      "\t\t\t\t\t\"Abbrev\": \"ISO 8879:1986\",\n",
      "\t\t\t\t\t\"GlossDef\": {\n",
      "                        \"para\": \"A meta-markup language, used to create markup languages such as DocBook.\",\n",
      "\t\t\t\t\t\t\"GlossSeeAlso\": [\"GML\", \"XML\"]\n",
      "                    },\n",
      "\t\t\t\t\t\"GlossSee\": \"markup\"\n",
      "                }\n",
      "            }\n",
      "        }\n",
      "    }\n",
      "}\n",
      "\n",
      "itle\": \"ex\n"
     ]
    }
   ],
   "source": [
    "import json\n",
    "f=open(\"data.json\",\"r\")\n",
    "data=f.read()\n",
    "print data\n",
    "\n",
    "print data[30:40]\n",
    "f.close()"
   ]
  },
  {
   "cell_type": "code",
   "execution_count": 23,
   "metadata": {},
   "outputs": [
    {
     "name": "stdout",
     "output_type": "stream",
     "text": [
      "{u'glossary': {u'GlossDiv': {u'GlossList': {u'GlossEntry': {u'GlossDef': {u'GlossSeeAlso': [u'GML', u'XML'], u'para': u'A meta-markup language, used to create markup languages such as DocBook.'}, u'GlossSee': u'markup', u'Acronym': u'SGML', u'GlossTerm': u'Standard Generalized Markup Language', u'Abbrev': u'ISO 8879:1986', u'SortAs': u'SGML', u'ID': u'SGML'}}, u'title': u'S'}, u'title': u'example glossary'}}\n",
      "<type 'dict'>\n",
      "{u'GlossDiv': {u'GlossList': {u'GlossEntry': {u'GlossDef': {u'GlossSeeAlso': [u'GML', u'XML'], u'para': u'A meta-markup language, used to create markup languages such as DocBook.'}, u'GlossSee': u'markup', u'Acronym': u'SGML', u'GlossTerm': u'Standard Generalized Markup Language', u'Abbrev': u'ISO 8879:1986', u'SortAs': u'SGML', u'ID': u'SGML'}}, u'title': u'S'}, u'title': u'example glossary'}\n"
     ]
    }
   ],
   "source": [
    "import json\n",
    "f=open(\"data.json\",\"r\")\n",
    "data=json.load(f)\n",
    "print data\n",
    "print type(data)\n",
    "print data[\"glossary\"]\n",
    "\n",
    "f.close()"
   ]
  },
  {
   "cell_type": "code",
   "execution_count": 1,
   "metadata": {},
   "outputs": [
    {
     "name": "stdout",
     "output_type": "stream",
     "text": [
      "<open file 'data.csv', mode 'r' at 0x7fb278d26f60>\n"
     ]
    }
   ],
   "source": [
    "f=open(\"data.csv\",\"r\")\n",
    "print f"
   ]
  },
  {
   "cell_type": "code",
   "execution_count": 2,
   "metadata": {},
   "outputs": [
    {
     "name": "stdout",
     "output_type": "stream",
     "text": [
      "some data\n",
      " python is  pure object oriented programe\n",
      "Python is one of those rare languages which can claim to be both simple and powerful.\n",
      " wriring data in append mode\n"
     ]
    }
   ],
   "source": [
    "f=open(\"data.csv\",\"r\")\n",
    "print f.read()"
   ]
  },
  {
   "cell_type": "code",
   "execution_count": 3,
   "metadata": {},
   "outputs": [
    {
     "name": "stdout",
     "output_type": "stream",
     "text": [
      "some data\n",
      "\n"
     ]
    }
   ],
   "source": [
    "f=open(\"data.csv\",\"r\")\n",
    "print f.readline()"
   ]
  },
  {
   "cell_type": "code",
   "execution_count": 4,
   "metadata": {},
   "outputs": [
    {
     "name": "stdout",
     "output_type": "stream",
     "text": [
      "['some data\\n', ' python is  pure object oriented programe\\n', 'Python is one of those rare languages which can claim to be both simple and powerful.\\n', ' wriring data in append mode']\n"
     ]
    }
   ],
   "source": [
    "f=open(\"data.csv\",\"r\")\n",
    "print f.readlines()"
   ]
  },
  {
   "cell_type": "code",
   "execution_count": 7,
   "metadata": {},
   "outputs": [
    {
     "name": "stdout",
     "output_type": "stream",
     "text": [
      "\n"
     ]
    }
   ],
   "source": [
    "f=open(\"kcr.jpg\",\"rb\")\n",
    "data=f.read()\n",
    "print data"
   ]
  },
  {
   "cell_type": "code",
   "execution_count": 8,
   "metadata": {},
   "outputs": [
    {
     "name": "stdout",
     "output_type": "stream",
     "text": [
      "\n"
     ]
    }
   ],
   "source": [
    "f=open(\"mutable.jpg\",\"rb\")\n",
    "data=f.read()\n",
    "print data"
   ]
  },
  {
   "cell_type": "code",
   "execution_count": 9,
   "metadata": {},
   "outputs": [
    {
     "name": "stdout",
     "output_type": "stream",
     "text": [
      "����\u0000\u0010JFIF\u0000\u0001\u0001\u0000\u0000\u0001\u0000\u0001\u0000\u0000��\u0000C\u0000\r",
      "\t\n",
      "\u000b",
      "\n",
      "\b\r",
      "\u000b",
      "\n",
      "\u000b",
      "\u000e\u000e\r",
      "\u000f\u0013 \u0015\u0013\u0012\u0012\u0013'\u001c",
      "\u001e",
      "\u0017 .)10.)-,3:J>36F7,-@WAFLNRSR2>ZaZP`JQRO��\u0000C\u0001\u000e\u000e\u000e\u0013\u0011\u0013&\u0015\u0015&O5-5OOOOOOOOOOOOOOOOOOOOOOOOOOOOOOOOOOOOOOOOOOOOOOOOOO��\u0000\u0011\b\u0002X\u0003 \u0003\u0001\"\u0000\u0002\u0011\u0001\u0003\u0011\u0001��\u0000\u001f\u0000\u0000\u0001\u0005\u0001\u0001\u0001\u0001\u0001\u0001\u0000\u0000\u0000\u0000\u0000\u0000\u0000\u0000\u0001\u0002\u0003\u0004\u0005\u0006\u0007\b\t\n",
      "\u000b",
      "��\u0000�\u0010\u0000\u0002\u0001\u0003\u0003\u0002\u0004\u0003\u0005\u0005\u0004\u0004\u0000\u0000\u0001}\u0001\u0002\u0003\u0000\u0004\u0011\u0005\u0012!1A\u0006\u0013Qa\u0007\"q\u00142���\b#B��\u0015R��$3br�\t\n",
      "\u0016\u0017\u0018\u0019\u001a%&'()*456789:CDEFGHIJSTUVWXYZcdefghijstuvwxyz���������������������������������������������������������������������������\u0000\u001f\u0001\u0000\u0003\u0001\u0001\u0001\u0001\u0001\u0001\u0001\u0001\u0001\u0000\u0000\u0000\u0000\u0000\u0000\u0001\u0002\u0003\u0004\u0005\u0006\u0007\b\t\n",
      "\u000b",
      "��\u0000�\u0011\u0000\u0002\u0001\u0002\u0004\u0004\u0003\u0004\u0007\u0005\u0004\u0004\u0000\u0001\u0002w\u0000\u0001\u0002\u0003\u0011\u0004\u0005!1\u0006\u0012AQ\u0007aq\u0013\"2�\b\u0014B����\t#3R�\u0015br�\n",
      "\u0016$4�%�\u0017\u0018\u0019\u001a&'()*56789:CDEFGHIJSTUVWXYZcdefghijstuvwxyz��������������������������������������������������������������������������\u0000\f",
      "\u0003\u0001\u0000\u0002\u0011\u0003\u0011\u0000?\u0000��(��\n",
      "(��\n",
      "(��\n",
      "(��\n",
      "(��\n",
      "(��\n",
      "(��\n",
      "(��\n",
      "(��\n",
      "(��\n",
      "(��\n",
      "(��\n",
      "(��\n",
      "(��\n",
      "(��\n",
      "(��\n",
      "(��\n",
      "(��\n",
      "(��\n",
      "(��\n",
      "(��\n",
      "(��\n",
      "(��\n",
      "(��\n",
      "(��\n",
      "(��\n",
      "(��\n",
      "(��\n",
      "(��\n",
      "(��\n",
      "(��\n",
      "(��\n",
      "(��\n",
      "(��\n",
      "(��\n",
      "(��\n",
      "(��\n",
      "(��\n",
      "(��\n",
      "(��\n",
      "(��\n",
      "(��\n",
      "(��\n",
      "(��\n",
      "(��\n",
      "(��\n",
      "(��\n",
      "(��\n",
      "(��\n",
      "(��\n",
      "(��\n",
      "(��\n",
      "(��\n",
      "(��\n",
      "(��\n",
      "(��\n",
      "(��\n",
      "(��\n",
      "(��\n",
      "(��\n",
      "(��\n",
      "(��\n",
      "(��\n",
      "(��\n",
      "(��\n",
      "(��\n",
      "(��\n",
      "(��\n",
      "(��\n",
      "(��\n",
      "(��\n",
      "(��\n",
      "(��\n",
      "(��\n",
      "(��\n",
      "(��\n",
      "(��\n",
      "(��\n",
      "(��\n",
      "(��\n",
      "(��\n",
      "(��\n",
      "(��\n",
      "(��\n",
      "(��\n",
      "(��\n",
      "(��\n",
      "(��\n",
      "(��\n",
      "(��\n",
      "(��\n",
      "(��\n",
      "(��\n",
      "(��\n",
      "(��\n",
      "(��\n",
      "(��\n",
      "(��\n",
      "(��\n",
      "(��\n",
      "(��\n",
      "(��\n",
      "(��\n",
      "(��\n",
      "(��\n",
      "(��\n",
      "(��\n",
      "(���oOӮᴻ�U�|�H��>�u��9�\r",
      "\u001a*�\u001a���ij�hI�Rʲ��\u0018`:ಁW�\u0000��(\u0000��\t\u0000d�(\u0000��]^��[\u000f\"y�Ă0aM�2>�z/�Y�\u0002�(�\u0002�(�\u0002�(�\u0002�(�\u0002�(�\u0002�(�\u0002�(�\u0002�(�\u0002�(�\u0002�(�\u0002�(�\u0002�(�\u0002�(�\u0002�(�\u0002�(�\u0002�(�\u0002�(�\u0002�(�\u0002�(�\u0002�(�\u0002�(�\u0002�(�\u0002�(�\u0002�(�\u0002�(�\u0002�(�\u0002�(�\u0002�(�\u0002�(�\u0002�(�\u0002�(�\u0002�(�\u0002�(�\u0002�(�\u0002�(�\u0002�(�\u0002�(�\u0002�(�\u0002�(�\u0002�(�\u0002�(�\u0002�(�\u0002�(�\u0002�(�\u0002�(�\u0002�\u001f\u0016���^\u00196�(�m��QO�:�\u000e?*�\u0013Y�.�\u001d",
      "_O� ��\u0003`Y�\u001e",
      "ܾ��\u0003��zQ�0���\u001fS�T�o�`�\u0014�\u0018�)\f",
      "�q$\u001f����\u001c",
      "b���S��hW:���.a�l@�q�x����\u001d",
      "\u00015�luI�m���0B��0ڔ�� d�<\u0002s��yṮ��A~��Q]}�]�\t�ݻ���.3�P�_���.�#��5K�J\u001d",
      ",\\#Y��\u001bD!*�m\f",
      "w�9� q���Mg�_�\u000b",
      "�N~�<\u0016�5ϗ���č���pO~��4\u000b",
      "��Y���\\�5�_���\u0007W`1�A?)�֋�\u000eK��/��N[;��򤑣\u0012��9���9$���O�\u0006W��Z��Э�o#i..d�)\u0006�\u0010\u0002T�2\u000fL�\u0002�u���l�[j���vi\u0017��*�\f",
      "�a�9\u0006���\u0019.�h�\t\u0012��o9n\u001e",
      "0���\u001c",
      "�\u0003\u0018�1���\u0016�W\u0017\u001a��6�\u001a���\u0003iU�#�?�t�v�o�#�I��n3R���-4!\u0005�2�]�\u0004��R̬3��\u0000鎙��\u0010^��Χg\u0005���a�0cE,��$���8\u0018\u001e",
      "�\r",
      "�宛\u0014��e�n\u0012}�\u0000f��\u0006\u0000��\u0007�V\u000e���\u0013�v\u0017+\f",
      "�H�p�\u0016�r�u�\f",
      "\b=�ս[����IZ$s���V��N�f�\u001b��'��\"-��A;�O\u001d",
      "���\u0006����_L���O��&�R��C�p@�S$��\u0006�-��d�7r3ż�#g$��\u001d",
      "O�W,4�m5�GR{��_\bǔ\"۳`��q�_JK�����ݺZ�\u0000��E\u0014P ��(\u0000��(\u0000��(\u0000��(\u0000��(\u0000��(\u0000��(\u0000��(\u0000��(\u0000��(\u0000��(\u0000��(\u0000��(\u0000��(\u0000��(\u0000��(\u0000��(\u0000��(\u0000��(\u0000��(\u0000��(\u0000��(\u0000��(\u0000��(\u0000��(\u0000��(\u0000��(\u0000��(\u0000��(\u0000��(\u0000��(\u0000��(\u0000��(\u0000��(\u0000��(\u0000��(\u0000��(\u0000��(\u0000��(\u0000��(\u0000��(\u0000��(\u0000��(\u0000��(\u0000��(\u0000��(\u0000��(\u0000��(\u0000��(\u0000��(\u0000��(\u0000��(\u0000��(\u0000��(\u0000��(\u0000��(\u0000��(\u0000��(\u0000��(\u0000��(\u0000��(\u0000��(\u0000��(\u0000��(\u0000��(\u0000��(\u0000��(\u0000��(\u0000��(\u0000��(\u0000��(\u0000��(\u0000��(\u0000��(\u0000��(\u0000��(\u0000��(\u0000��(\u0000��(\u0000��(\u0000��(\u0000��(\u0000��(\u0000��(\u0000��(\u0000��(\u0000��(\u0000��(\u0000��(\u0000��(\u0000��(\u0000��(\u0000��(\u0000��(\u0000��(\u0000��(\u0000��(\u0000��(\u0000��(\u0000��(\u0000��(\u0000��(\u0000��(\u0000��(\u0000��(\u0000��(\u0000��(\u0000��(\u0000��(\u0000��(\u0000��(\u0000��(\u0000��(\u0000��(\u0000��(\u0000��(\u0000��(\u0000��(\u0000��(\u0000��(\u0000��(\u0000��(\u0000��(\u0000��(\u0000��(\u0000��(\u0000��(\u0000��(\u0000��(\u0000��(\u0000��(\u0000��(\u0000��(\u0000��(\u0000��(\u0000��(\u0000��(\u0000��(\u0000��(\u0000��(\u0000��(\u0000��(\u0000��(\u0000��(\u0000��(\u0000��(\u0000��(\u0000��(\u0000��(\u0000��(\u0000��(\u0000��(\u0000��(\u0000��(\u0000��(\u0000��(\u0000��(\u0000��(\u0000��(\u0000��(\u0000��(\u0000��(\u0000��(\u0000��(\u0000��(\u0000��(\u0000��(\u0000��(\u0000��(\u0000��(\u0000��(\u0000��(\u0000��(\u0000��(\u0000��(\u0000��(\u0000��(\u0000��(\u0000��(\u0000��(\u0000��(\u0000��(\u0000��(\u0000��(\u0000��(\u0000��(\u0000��(\u0000��(\u0000��(\u0000��(\u0000��(\u0000��(\u0000��(\u0000��(\u0000��(\u0000��(\u0000��(\u0000��(\u0000��(\u0000��(\u0000��(\u0000��(\u0000��(\u0000��(\u0000��(\u0000��(\u0000��(\u0000��(\u0000��(\u0000��(\u0000��(\u0000��(\u0000��(\u0000��(\u0000��(\u0000��(\u0000��(\u0000��(\u0000��(\u0000��(\u0000��(\u0000��(\u0000��(\u0000��(\u0000��(\u0000��(\u0000��(\u0000��(\u0000��(\u0000��(\u0000��(\u0000��(\u0000��(\u0000��(\u0000��(\u0000��(\u0000��(\u0000��(\u0000��(\u0000��(\u0000��(\u0000��(\u0000��(\u0000��(\u0000��(\u0000��(\u0000��(\u0000��(\u0000��(\u0000��(\u0000��(\u0000��(\u0000��(\u0000��(\u0000��(\u0000��(\u0000��(\u0000��(\u0000��(\u0000��(\u0000��(\u0000��(\u0000��(\u0000��(\u0000��(\u0000��(\u0000��(\u0000��(\u0000��(\u0000��(\u0000��(\u0000��(\u0000��(\u0000��(\u0000��(\u0000��(\u0000��(\u0000��(\u0000��(\u0000��(\u0000��(\u0000��(\u0000��(\u0000��(\u0000��(\u0000��(\u0000��(\u0000��(\u0000��(\u0000��(\u0000��(\u0000��(\u0000��(\u0000��(\u0000��(\u0000��(\u0000��(\u0000��(\u0000��(\u0000��(\u0000��(\u0000��(\u0000��(\u0000��(\u0000��(\u0000��(\u0000��(\u0000��(\u0000��(\u0000��(\u0000��(\u0000��(\u0000��(\u0000��(\u0000��(\u0000��(\u0000��(\u0000��(\u0000��(\u0000��(\u0000��\u0010�*A\u001e",
      "Դ\u0000QHH\u0004\u0002FOAK@\u0005\u0014Q@\u0005\u0014Q@\u0005\u0014Q@\u0005\u0014Q@\u0005\u0014Q@\u0005\u0014Q@\u0005\u0014Q@\u0005\u0014Q@\u0005\u0014Q@\u0005\u0014Q@\u0005\u0014Q@\u0005\u0014Q@\u0005\u0014Q@\u0005\u0014Q@\u0005\u0014Q@\u0005\u0014Q@\u0005\u0014Q@\u0005\u0014Q@\u0005\u0014Q@\u0005\u0014Q@\u0005\u0014Q@\u0005\u0014Q@\u0005\u0014Q@\u0005\u0014Q@\u0005\u0014Q@\u0005\u0014Q@\u0005\u0014Q@\u0005\u0014Q@\u0005\u0014Q@\u0011\\��j����\u0011F\t,Ǡ\u0000rMT�[ӧ�K\u001c",
      "ϴ�`\u0001�uc �T\u00022H������D��\f",
      "��'�U�i\f",
      "h�����\u0003Ӑs�b���P��/�%�\u0004�2Ͳ�.\u0003\u0002I\u0012\u0004\u0004\u001d",
      "ǰ�\u0018�8�_�٥.��E\u001425�+:�E�'b�~�\u0000\u0019��:�-+�P��C�J�)���\"����܀�М�:f��Yϥ�>�c�{��$l���`m힙�F�p�Og3C�yo�ߘ�w�x}��\u0007#\u0019�\u000b",
      "��\u0001��[���R܋x�\u0006FgE�N\u000b",
      "/�\u0000�\u0004�J�=kO��+X�f�`�\u001e",
      "\"}�\u0014���\u0007ֲ�\u0000��E�m����Qkq4���捕�\u0001v�\u0010\b�u��g�J.D\u0011F,���$i�ݖ��d��6q�\u000eX㠥w�,��\r",
      "N���[�6eh��\u0005XoL�r�0ç#֬�\"E\u0013K+�\"\u0002��p\u0000\u001d",
      "�c�zeՒB�pi�����S�Q�' m��\u0004���b��ZM͒��4�T>3��8���K}F�\u0000k�fPӔh�Y�є�\u0017\u0000���\u0006;�=g[\u0010hڅƟ\"\u001b�4\f",
      "��\u001b\u0002��8<�4۽?TԴ�KǴ��\u0019c�/$�#20o� \u0010\u000e1�ަ�մ;�B\u001d",
      "NPm����-�<�ؠ\u0012rNܓϧj\u0007\u001b]\\�\u0006� �u\u000b",
      "k��`��\u0006���ľ����\u0018�Z�U��\u0019�bJ������;v�9�=:sX��\r",
      "����ʵ��>��+�e-\u0011$�\u001b~�ݎ*it��ַ��i��v��\u0013>S��NX(9����\u0018����\u000b",
      "�^�{�;x|�~�d\u0001�\u000e\u0014�\f",
      "\u000f\u0019\u0007<{w��լe�(�|��1\u0012�\u0004�u�q��3�R��/n��.\\��eI�Y�\u000b",
      " \u0003�8�w�}�+m\u0016�m��k����ۑюe\\�|�\u001e",
      "y=(\u0003KO�l�,�)ZU\u00006�-���8$`�\u000fJ5=N-7��X�ss0�v)8'''\u001e",
      "��^\u001e",
      "���t[{;�(�\u0016A1�e9$�\u0003֍j���Y=��̵�I���C\u0000\b# \u001c",
      "u��\u000b",
      "�SK��Y���Vo��m\u0011X�!��An@c�M\\MsM�W�'bѱF���0 \u0015�1�$q�沆���!O�wk}��kcf�����=�͡_>�w\u0011kQ3j\u0006�\u0010Ita�\u001d",
      "���q�\u0016��\u0000���~�_?�\u0006��\u0016\u000e��~|�#aF\u000f�c;v�9�=:sN\u001a���\u0014�M�N\u0018�\u0015\u0019��_�\f",
      "�z�{����\u0003[ŧ۟<<�B�U�i\u001f|.s�\u001e",
      "����=3B��٭'��H�,мfFUdy7�\u000eӂ:c\u0007�G���\u001a�\u001d",
      "��S�-�.6y�n�� p�\u000e\u000f�����cp�Ha\u0013\u0010Gc����\u0019��\u001e",
      "\u001b;�����&2pr�����Y�x�;]J�z\u001a\u0018��G��[�\u001d",
      "�-\u0011�\u001b\u0004����$�2w\f",
      "��pMJ���l���a[v�3��\u001c",
      "8\u001b���p#�\u001d",
      ":V���mm2ϙe�a\u0010\u0019$s� �\n",
      "�/�Q����K\u000402�*\u0014)�9\n",
      "��\\��\u001f�q@\u0019�jڬ��\u00106j�i�\u0000lF11\bxʑ����?\u001a}��w�F�cH\"�,��\"U,\u0019�R@\u0018#\u0000c�=}��]\u001e",
      "�\u001d",
      "\u001d",
      "b�4v�\u0000fS�?\u0011�\u0000w���\"h�tqđ��\"��R��>_e'9#�\u0000͏�\u0013����(���мCi.&\u00000L�\u0007#8�T�jZ��{[+hg���6�`\u0005vl�\u0006\\\u0015\u0018\u001c",
      "\u001f��i,�\u0018�\u0004)\u0003+ĸ�\n",
      "�#�P]i\u0016\u0017wkw<$�\u0017ae��r�0\u0004\u0006\u001e",
      "�4\u0001Uuy?����H\u0015��%Б:�����po�=�l\u0013�O\u001c",
      "z�Q�Z\t��-��<�\u000b",
      "�P�ې����U�Ut(�\u0015a�\u000fq@\u001c",
      "�ׯ6M��v]=�\u0011�[a*z\u0002O̽9\u0018�ZV�yq���؀��It�%*W'\u0005NI�׏�J�\u001d",
      "ң@�\u0004�D-\u0000\u001fh��Y�{���ڬ��Y�ܥ�1��8D\n",
      "L�p��0N?\u001e",
      "�\u0000��̶zE��\u001b\f",
      "�@�(pH%A<�JʟZ��K�U���z�S���<��e�9�xe@�ȥYOB\u000f\u0004U\u0004�t���`�\u000f\u0007�ش�I���'8�\f",
      "��5\u0018��2-�u�>�\u0016�`\u0014�o��܌U���\u001b�a�\b�a���h\u0001\u0005�$��'\u0018��\u0000�W�G�W��\u0012~��\\4�����\u0013��Qǡi�+\u0004�L�>Ac<��v\\��\u001d",
      "�(\u0002�> {�\f",
      "6�d��VM�\"�\u0016�\f",
      "C#0���Ӛ��Q���\r",
      "6�\u0018 �hd�l��0Q�\u001b�A��Nj�Ƌ�\\�Y�,L�M�c�\f",
      "\u0006\u0001\u000e\u000e��\u001d",
      "i_F� �YZ�>[���3�,\u000eN{��@\u0015<\u001a1�k\u0011�0\u001b�O�j����\u0010��Z;��$R�\u0000��\u0000�r���ޭYY����mi\u001f�\n",
      "gj�'\u0019�%͕�ԱK2\u001f2\u001c",
      "�n�U�=FA\u0007\u0007Ҁ9���Ե�&x�\b/\u0015/ vt.�FU$\u0000A##�{��[y\u0017L�����Y�b�����I7\u0014�;\u000f_Z�:U��1\tCn\u0018DQ�\n",
      "��܃����U_K��\u000b",
      "3��\u0015����\u0015�g܅H`F\u0007,Nrs@\u0014�\\� �mF��?����\u00180\u00049�\u0017�\u001c",
      "�\u001e",
      "�\u001d",
      ":S�۝Z�L�A=����\bo�@�\b$��A����m\u000b",
      "L��Hb��ԊP��ΡOP\u0003\u0012\u0014\u001fA�\u0013C�R�K!\u0003\u0018$�`һ\u001c",
      "\u0003�\u0003\u0013���\u0007�\u0000�uY�[\u001a}ח\u000e��L�6'\u001b2v�p\u00186~S�\u0007z�l�;H\u0007\u001c",
      "\u00123U\u0013L�ID�\u001d",
      "�_�\u001b�v\u0001��8'\u0019�\\# �Z\u0000�닻{\u000b",
      "+�[I.�/��i���\n",
      "d��Cr\u0006с�U�֯�NԮ��1�\u001bdɱ��UU����98�z{֊hzrA\u0004+\u0014�;y��>O��'=y�:�].�Y�H2�m�@f\u000b",
      "&:nPp\u0011@\u0018����\u0003T�\u0004�1X,R\u0005tm�+����\u001f|\u001f�ii��2j��\u0017^K\u0018\u0012)\u0011�R�>�\b$�6���O��t����л}�(���7�����b����\u001b�n�G\u0013ʊ��F9\u000b",
      "�pN;�΀+���i�<ז�\u001bI\u0016�,��������kS�\u001a�~��\u0000ٱ���y����{��y�V�����j��h^\u0017��\u000eW89\u001c",
      "�\u000fZ�>���\u001b�:'o�\"�?�oQ�u��@\u0015?�o�.d�\r",
      "�=�\u0017>L��\u0007h\u0003sgw\u0004g�Ӝu犭��@���(���v�l�H\u0001���g�9��a����݈\u0018L�w\u001f5��\u001d",
      "\u000b",
      ".p�z�M!�4�L2`�}����\u0000��;���(\u0003:\u001d",
      "r�\u0006� ��&�턡\bM�\u0018�;wg88�}���뚂��U���MAl�ʶ�\u00197�\u0003<\u001c",
      "c#?�j�\u001bO&V01if\u0017\f",
      "�k�H\u00067\u0003���c�qJ�E�� �7��ԉX\u001f3�ă�~��\f",
      "��5+k�t��jn$�\u001aђ6\n",
      "�N�\u0004\u0016��H<v5v-��9�̐�ګ�21Pۈ�Rp8\u001d",
      "����}T\\�%��m���2_�\u0000\u0012�\u001c",
      "q����*ZH5io^d(�,I\u0018L\u0015\u0000�s�'�P\u0005�(��\n",
      "(��\n",
      "(��\n",
      "(��\n",
      "(��\n",
      "(��\n",
      "(��\n",
      "(��\n",
      "(��\n",
      "(��\n",
      "(��\n",
      "(��\n",
      "(��\n",
      "(��\n",
      "(��\n",
      "(��\n",
      "(��\n",
      "(��\n",
      "(��\n",
      "(��\n",
      "(��\n",
      "(��\n",
      "�5-N�\u0000��ѹ�$3�l\u0017�\u000b",
      "͛��\u001d",
      "T��\u0000���s�\u0015�\u000f\u0005�k$R)WF\u0019\f",
      "\u000fj\u0000z2�+�\u0006V\u0019\u0004\u001c",
      "�)k���o\u0006_%�봚\u0015����M�\u001f�f�����\u0010A\u0019\u0007 �\u0001E\u0014P\u0001E\u0014P\u0001E\u0014P\u0001E\u0014P\u0001E\u0014P\u0001E\u0014P\u0001E\u0014P\u0001E\u0014P\u0001E\u0014P\u0001E\u0014P\u0001E\u0014P\u0001E\u0014P\u0001E\u0014P\u0001E\u0014P\u0001E\u0014P\u0001E\u0014P\u0001E\u0014P\u0001E\u0014P\u0001E\u0014P\u0001E\u0014P\u0001E\u0014P\u0001E\u0014P\u0001E\u0014P\u0001E\u0014P\u0001E\u0014P\u0001E\u0014P\u0001E\u0014P\u0001E\u0014P\u0001E\u0014P\u0001E\u0014P\u0001E\u0014P\u0001E\u0014P\u0001E\u0014P\u0001E\u0014P\u0001E\u0014P\u0001E\u0014P\u0001E\u0014P\u0001E\u0014P\u0001E\u0014P\u0001E\u0014P\u0001E\u0014P\u0001E\u0014P\u0001E\u0014P\u0001E\u0014P\u0001E\u0015\f",
      "�Vг$�\u0011#*\u0019\bg\u0000�\u001f����\t��C,sB��ȡ���0=\b�i�����D�5���\u0014\u000f��\u0003袊\u0000(��\u0000(��\u0000������[[��X%]��Њ�뻏\n",
      "_ǣ겴�\\Ͷ���\u0000��\u0013����궣ak���g{\u0010�\tF\u0019O�\u001e",
      "��,�\\��u��F=\u0003[��\u0004�i���\u0000-\u0007��c����Y@\u0005\u0014Q@\u0005\u0014Q@\u0005\u0014Q@\u0005\u0014Q@\u0005\u0014Q@\u0005\u0014Q@\u0005\u0014Q@\u0005\u0014Q@\u0005\u0014Q@\u0005\u0014Q@\u0005\u0014Q@\u0005\u0014Q@\u0005\u0014Q@\u0005\u0014Q@\u0005\u0014Q@\u0005\u0014Q@\u0005\u0014Q@\u0005\u0014Q@\u0005\u0014Q@\u0005\u0014Q@\u0005\u0014Q@\u0005\u0014Q@\u0005\u0014Q@\u0005\u0014Q@\u0005\u0014Q@\u0005\u0014Q@\u0005\u0014Q@\u0005\u0014Q@\u0005\u0014Q@\u0005\u0014Q@\u0005\u0014Q@\u0005\u0014Q@\u0005\u0014Q@\u0005\u0014Q@\u0005\u0014Q@\u0005\u0014Q@\u0005\u0014Q@\u0005\u0014Q@\u0005\u0014Q@\u0005\u0014Q@\u0005\u0014Q@\u0011�Ha��UB�\u0010�Qհ:W8ڽ���f��;�6M)��\b\u000f�r\b�\u0005�\u0010s��OPAeil�=��\u0011<�22F\u0014���Z]ƙ�y}kp#���E6�-����6@\ba��\u001d",
      "�\u000f�W���渵��)\u0000����H�<���w��ww�N�ѥ��D�%��� ��#\u00000�#\u001c",
      "�\r",
      ":�J���\u0005#򔈗�O�:{P�\u0000�����\t�����Yj:��%�h�Q.��E�48��\u0013�\u0003Ƿ��T���8�H��h�;��m�Q���8�A�[\r",
      "]n��_�%��-��0�19\u00078\u001d",
      "}+BK\u001b9e2�i\u0003�P�]�\u0004�?ßOj$�����k�\u0004��\u0000�#�MZ���6�it\u0003�i��.\u0001<e��0\u0000��\u00156�yuj|Os\u001d",
      "��n\"1�*�@\n",
      "\u0003��5�\u001d",
      "'L`���B\u0015<�\u0006\u0005�?�8��K&��K�Ͱ�}�\u0011�B�*:\u0003�A�T��`�F%ޫ|m���ɗMo��QHp\u00100-���$pEW�5]N#�O\u001d",
      "�D,���\t�\b��ܬH�>�>�ӵ��H�5�%�\u0000�c\u0019\u0000t��K��Lf2��9�\u001e",
      "n���黎q�I\u0001j�\u0000\u0000\u0000\u0006\u0000�\u0005\u0014\b(��\u0000(��\u0000���v�Ɵ%��{�~�uSف�Ebh��ޗ�/���7LG�\u0015��\\���\u0000l~�Ϩ��oG������R9�\u001c",
      "��Fã)�h\u0003B��\r",
      "b�\u000b",
      "Ӡk�\u0006�\u0018�\u0013�[����\u0000k�WK@\u0005\u0014Q@\u0005\u0014Q@\u0005\u0014Q@\u0005\u0014Q@\bHPK\u0010\u0000�ڪ����*Ě��H�\u0005A2�I�03�*��\n",
      "H\u0004�t\u001d",
      "듵�/`�������+�,�\u0006@̹~�8?{<�:���\u001d",
      "B�&�{o�y�w���:�^��\r",
      "F��I���\u0012A*�c�\u000ey�s�/P1�{\u0012I�~�Wz\u001c",
      "G�ׯ�\u0007K�9\u0006Ŋ�\u0000m��\u0005��W����օ����o�\u0006���:\u0016��H!����\"�P���.3�A�$zS�Q�y�\u0005��i����T�#�\u0003=���J�\u001a)\u0000�b��Kv�<�)-���\u001d",
      "i���H�m�[�Vw����}�ӭ\u0011����\u00007�\u0003_��tr�60N�M{m\u001c",
      "�v�<�\u0018�@\t�5�[��\u0019��s5��-<S#�@s�<�\f",
      "W$�\u0017?Z��[\\O{\u0005\u0014Q@\u0005\u0014Q@\u0005\u0014Q@\u0005\u0014Q@\u0005\u0014Q@\u0005\u0014Q@\u0005\u0014Q@\u0005\u0014Q@\u0005\u0014Q@\u0005\u0014Q@\u0005\u0014Q@\u0005\u0014Q@\u0005\u0014Q@\u0005\u0014Q@\u0005\u0014Q@\u0005\u0014Q@\u0005\u0014Q@\u0005\u0014Q@\u0005\u0014Q@\u0005\u0014Q@\u0005\u0014Q@\u0005\u0014Q@\u0005\u0014Q@\u0005\u0014Q@\u00052y����E�(Գ�\u001c",
      "\u0005\u0003�>��V0�ZMń��Ip�Xpy\u0004���)=�\u001a�Q��݅��Y��\t�C\",��G�GR\u000b",
      "(\u0007�h�'c��X�V�g�-�K�����\u001f�0U��\u001d",
      "�\u001d",
      "GO҆�5\b�9e�\u000f�oY���m�v\u0004vۅ8ݑ��>��{W\u0015�S����_S�C�.\u0012��=Gɉ���2�i\u001bp~��\\��S�_��]@Ckb�͵`V,�qe��\u0003�+�]�\u0000Z\\|��h�\u001b+�F�N��>ֆ\t\"3�nP`)\\��\f",
      "�q���C�^�w�i��\u001c",
      "�it��\u0015���\u0018eJ`�����O���t�QX67:��j/���\u0010.�<�@PƎT�q�q\u0000���u�t��P���gi-���q)v*��\u0007��q�mB�AԵ�k�,�K.�r�P�g\u00047\u001b�@'�1�L�R�[ҵ�\"��᷀��\u0015Ibb�Kdg\u001f68�CRލ��)-lΞ��;�Hnaϗ2,����2*Z����B}>\r",
      "?M\u0013��i�8h�G.�q�y��/ny5�i�u&�\u0003�ı]\u0014\u001e",
      "j)�\r",
      "�\u0015rVl��\u0015��j:ݥ�ǥ�\u001f�0�\f",
      "���!�d��a��\u001c",
      "��\u000f�\u0015�\u0000Л�\u0000�8�\u001d",
      "=\u0015�m���������\u0014m���������\u0014\u0001��\\��ߊ�\u0000�M�\u0000ʜ_�G�ߊ�\u0000�M�\u0000ʜ_�@\u001d",
      "=\u0015�m���������\u0014m���������\u0014\u0001��\\��ߊ�\u0000�M�\u0000ʜ_�G�ߊ�\u0000�M�\u0000ʜ_�@\u001d",
      "=\u0015�m���������\u0014m���������\u0014\u0001��\\��ߊ�\u0000�M�\u0000ʜ_�G�ߊ�\u0000�M�\u0000ʜ_�@\u001d",
      "=\u0015�m���������\u0014m���������\u0014\u0001��_��i4M\u001e",
      "]E-��C��e�pH\u001c",
      "\u001c",
      "\u001fZ�G�u����T�?��\bYe�bM���p�=\t9���\u0010�K�>��\u0000��!�]�[�ٚ�T���l�\u001f���d�o1K\u0001��*�q�����E�M�.�<�2j-<�\u0004�`��\f",
      "9�v\u00008�x���Yk��J@>ͮ\u0001*��)\u0018\u0012��y\u001e",
      "��\u0000���Kk��ޟ���eӚm���eIc���s���t��+N�;�����e��P\t$U�\u001d",
      "��W\u001d",
      "}�-S�S��\u001a\\�i\t�����6J���V��mh5h/��+W\u0013�m0ZŴH:�o��:d�Ⅸڷ���gMEGp�-��\n",
      "�!*=N8�[D}6�K�o��V�Q\tm��$��ܮ:��pz`v�}���[Y�!ԥ�4i%h��\u00100H\u001e",
      "��˧�<\u001f��V����D`��\u0000-\u001e",
      "C&�V=H���{U}N[{�\bk77�Y�#�dr��\u001e",
      "$\u0001Tw\u0003n8���o���-Q�C�\u0015�܈�k�b\u000b",
      "�J��XfS\f",
      "�&d�=�U�m�\u0000��\u0015��KA\u0019,X�\u0007%v�ǧj\u0016�$}\u0015�lx���k�ԣ?ҏ�O\u0018\u001e",
      "�\u001a�_���@\u001d",
      "=\u0015�}��g������4}��Ǧ��/�w4\u0001��\\Ǜ���B_���?�n�\u001d",
      "Q�\u0000m��\u000e���<�\u001c",
      "��:\n",
      "�\u0012SGټnz�::� s@\u001b���1\\��VV�;\u001c",
      "��\u0012�'��5f������ִ��Z�G�g�\u000f_\u0011�/��\u001f�@\u001d",
      "=\u0015�dx���dK�Ӑ�\u0000Z?��P~�\u0000�\\�\u0000��D?�\u0000t�W1�\u0000\b��\u000f��}��i\u0018��\u0011�d��\u0016��\u0011 �\u000e���?�\u0016�O��^��\u0015\u001fҏ�D����N�~���(\u0003��r]v���^�8\u001a��W_)��\"��\u001d",
      "��<\u0012\u0006\u000fOz�M���_Gt��u���W\u0017;�l�9\\s�?QK�\u0000\b��/���c}#<�\u0018�˻�l�\u000f��&��V�W:���\u0000m�\u0002ܥ��w6�o�23a�nz\u000e���o�\u001b�\u0012X\u0001<k\u0014�W�\u001a-�n�˞�\u0000��\u0003�Z���Ksz���g���m��\r",
      "©PT�\u000fL\u001f\u0016�֗�7��\u0005�%��d�\u0010��\u0002\u000es����OK����\u0000�\u000e�ח�\u00132?\u0011��G��f���}��<i�x_0��Iǧ\u0018�EKq�\u001d",
      "B-#W�\u000b",
      "jd���:\u0003\u001ba�(9�����j��K?�O\u000e�\u0014�q=�]<�\n",
      "'�H��\u0002��\u001e",
      "�~���\\&�\u0002jF+[���G���\\����1�м�\u0000��������t��|_��%µ�\u0011��=�\u0003\u0006<\u001c",
      "��89���̷Ҥ��n5$�\u001b.cE�#\u001f$� \u0010��s�\u001f�i�K�(��\u0000(��\u0000(��\u0000(��\u0000(��\u0000(��\u0000(��\u0000(��\u0000(��\u0000(��\u0000(��\u0000(��\u0000(��\u0000(��\u0000(��\u0000(��\u0000(��\u0000*��a\u001e",
      "�a%��K\u0012�R\u001e",
      "&\u0001Ԃ\b �y�\u0015n�\u0000͋F�_Cyuuqy<\b�\u0013O�\t��@U\u0003$w4�4\u000b",
      "H#H\u0012I��r���1\u00065l�c��\u001e",
      "pN+V�\u0000ú�ɼ\u000fqv��H%�\u0014�\u0004�1�\u000e3�\u0007|U�m&+}N��\\O#�\"���J�A\u0003\u001f.{���E\u001e",
      "As#N���C=�ۂLv�K�(��яsԚ4�\u000f[i΢\u001b�Ƿ��Em$��3�1�;d�V�\u0014\u0000VD>\u001d",
      "���[�g�H��{U��,��n3�g\u001e",
      "կE\u001e",
      "`e6�hM�,������۫\r",
      "�ǯl��\u0011�eχmg���;��aw\u001f�q\u001c",
      ".\u0002J1�H �㌌V�\u0014�;���\u0016���kw}k%�\"\u000f2\u0019�d�tV�9�k�\n",
      "[���\bD\u0018\u0019$��I�}�J)�AE\u0014P\u0001E\u0014P\u0001E\u0014P\u0001E\u0014P\u0001E\u0014P\u0001E\u0014P\u0001E\u0014P\u0001E\u0014P\u0001P]��^��^��q\u001e",
      "s�XÏ���P\u0005[m7O��͵���Lctq*�zd\n",
      "�ek�=��j�j|��l�\u0006�I���,\u00008㯭iQ@\u0010�Kcu��o\u0011�۳�(7���\\Smll싛;H-����\u0018M��\u001d",
      "j�\"��ʰa�d\u001c",
      "�\u0002�\u0011YY�q%�6�G<�~D�\u0006�\u001c",
      "���\u0000�l�\u0012��%�\u000b",
      ";\u001c",
      "�\u0004`1?^��t�>i�ylm^f\u0018i\u001a\u0015,G��j�\u0014\u0001^]>�i�k;y&��H�)d�\u001c",
      "dU�(�\u0002�(�\u0002�(�\u0002�(�\u0002�(�\u0002�(�\u0002�(�\u0002�(�\u0002�(�\u0002�(�\u0002�(�\u0002�(�\u0002�(�\u0002�(�\u0002�(�\u0002�(�\u0002�(�\u0002�(�\u0002�(�\u0002�(�\u0002�(�\u0002�(�\u0002�(�\u0002�(�\u0002�(�\u0002�(�\u0002�(�\u0002�(�\u0002�(�\u0002�(�\u0002�(�\u0002�(�\u0002�(�\u0002�(�\u0002�(�\u0002�(�\u0002�(�\u0002�(�\u0002�(�\u0002�(�\u0002�(�\u0002�(�\u0002�(�\u0002�(�\u0002�(�\u0002�(�\u0002�+�����oF��\u0010ڔ�2��m\u0013����(\u0001��w�j\u0007��\u001f|]\u0011��v9[T?�9�?����m\u001fM���H�1ՎK\u0013Չ�&���k]\u0013O[[PY��,����1��\u001a\u0000(��\u0000(��\u0000(��\u0000(��\u0000(��\u0000(��\u0000(��\u0000(��\u0000(��\u0000(��\u0000(��\u0000(��\u0000(��\u0000(��\u0000(��\u0000(��\u0000(��\u0000(��\u0000(��\u0000(��\u0000(��\u0000(��\u0000(��\u0000(��\u0000(��\u0000(��\u0000(��\u0000(��\u0000(��\u0000(��\u0000(��\u0000(��\u0000(��\u0000(��\u0000(��\u0000(��\u0000(��\u0000(��\u0000(��\u0000(��\u0000(��\u0000(��\u0000(��\u0000(��\u0000(��\u0000(��\u0000(��\u0000(��|G��e$Zf�\u0018�����\u0010���\u0007�@\f",
      "�\u000e�q\u001d",
      "�h�\u001a�ڵ��O+l���?�F[�F(٥�S����y��'�S<=�E��9y\r",
      "����sr�\u0000zV�\u0000\u000fAZ�\u0000QE\u0014\u0000QE\u0014\u0000QE\u0014\u0000QE\u0014\u0000QE\u0014\u0000QE\u0014\u0000QE\u0014\u0000QE\u0014\u0000QE\u0014\u0000QE\u0014\u0000QE\u0014\u0000QE\u0014\u0000QE\u0014\u0000QE\u0014\u0000QE\u0014\u0000QE\u0014\u0000QE\u0014\u0000QE\u0014\u0000QE\u0014\u0000QE\u0014\u0000QE\u0014\u0000QE\u0014\u0000QE\u0014\u0000QE\u0014\u0000QE\u0014\u0000QE\u0014\u0000QE\u0014\u0000QE\u0014\u0000QE\u0014\u0000QE\u0014\u0000QE\u0014\u0000QE\u0014\u0000QE\u0014\u0000QE\u0014\u0000QE\u0014\u0000QE\u0014\u0000QE\u0014\u0000QE\u0014\u0000QE\u0014\u0000QE\u0014\u0000QE\u0014\u0000QE\u0014\u0000QE\u0014\u0000QE\u0014\u0000QE\u0014\u0000QE\u0014\u0000QE\u0014\u0000QEc��]M\u001e",
      "\b�#s�ܝ�������(�h\u0001�#�N�\"����Z���on?�6�Q�{�|;�\r",
      "&9nn��V�tw\\ܷV?�_E\u001e",
      "��\u000ehO��u\r",
      "JQs�]s<ݔq}\u0014V�\u0000\u0014QE\u0000\u0014QE\u0000\u0014QE\u0000\u0014QE\u0000\u0014QE\u0000\u0014QE\u0000\u0014QE\u0000\u0014QE\u0000\u0014QE\u0000\u0014QE\u0000\u0014QE\u0000\u0014QE\u0000\u0014QE\u0000\u0014QE\u0000\u0014QE\u0000\u0014QE\u0000\u0014QE\u0000\u0014QE\u0000\u0014QE\u0000\u0014QE\u0000\u0014QE\u0000\u0014QE\u0000\u0014QE\u0000\u0014QE\u0000\u0014QE\u0000\u0014QE\u0000\u0014QE\u0000\u0014QE\u0000\u0014QE\u0000\u0014QE\u0000\u0014QE\u0000\u0014QE\u0000\u0014QE\u0000\u0014QE\u0000\u0014QE\u0000\u0014QE\u0000\u0014QE\u0000\u0014QE\u0000\u0014QE\u0000\u0014QE\u0000\u0014QE\u0000\u0014QE\u0000\u0014QE\u0000\u0014QE\u0000\u0014QE\u0000\u0014QE\u0000\u0014QE\u0000\u0014QE\u0000ex�\\�D�V(��L�-���J�����O\u000e�s[�&���ϫ܏��݁{F�ާ�l�gm%�WrA\u001b\\B�c��ܠ����\u0000��(\u0000��(\u0000��(\u0000��(\u0000��(\u0000��(\u0000��(\u0000��(\u0000��(\u0000��(\u0000��(\u0000��(\u0000��(\u0000��(\u0000��(\u0000��(\u0000��(\u0000��(\u0000��(\u0000��(\u0000��(\u0000��(\u0000��(\u0000��(\u0000��(\u0000��(\u0000��(\u0000��(\u0000��(\u0000��(\u0000��(\u0000��(\u0000��(\u0000��(\u0000��(\u0000��(\u0000��(\u0000��(\u0000��(\u0000��(\u0000��(\u0000��(\u0000��(\u0000��(\u0000��(\u0000��(\u0000��(\u0000��(\u00035��1\\�\\0\"c\u0001&'�����\u0000�z��\u0013X��=�3��6\u0018�?����Fs�zt�$��\u0006�e\u001fe��z?x�p\u00158��~_��<�Z�w�3@��\\��v���^?,.\u000b",
      "\u0005��\u0003�^����\u0000�����it���\u0000�h�\u0000jA,�F��\u0003\u0015��++o�h?tv ���[MoN��(��\u000b",
      "4��\u001e",
      "ce\u000f��\t\u0018$zu��\u001d",
      "\u000b",
      "Q�:R��\n",
      "�\\O#\u0015���}������)�n�jt_4�\u0011`f�v��;�/={�\u0006�ѱ\n",
      "��p\u0006x\u0019�u<L'���\u001d",
      "-/\u0016b�af�+�`\u000e�{\u0003����+��tMF�M I�V�OY�����\u001c",
      "m��h�\u0006���ZAo1�%.Q�-�;\u0017\u000b",
      "�\u0000\f",
      "�w\u001d",
      "ju�lZ�8\u0004�\u0000<��yF\n",
      "�z���#\u0007���X�f��ZI�\u0019~�E����+\u001c",
      "�������R�5ݓ��-=��Gxn�\u00136\t$\u00021���9�چ\r",
      "#J\u001d",
      "_O�\u0013\u001d",
      "��\u0011\u0019�0*\n",
      "\u0003����=�V��^��b��=���7D�۷\u0001ߨǵdI�R�2��[\u0007���e�$f%�\u0006\u000e\u0001Q�G��\u001d",
      "�V��R:�z��LZ}��)\u0019�wn�2��j\u0016����\u0000�\u0007k^_�M����\u001b+\t�V1!�r\u0014���88�5KY�[�&�(\u0010���*�\u0006y��\u00141 �T���+�Dr3�g\u0001�\u0015��Kc\u0000�1�u\u001e",
      "��j�3]��r��$��<�\u0004\u001c",
      "g�:c\u001c",
      "����t���.%6�2[�J'\r",
      ":�h\t\u0003+�\bnG\u0007w\u001e",
      "�#i����Лq#\u0013\f",
      "�;Z\u001f�������#=(].\u0006����ڒ��Ē3*eN�+�\u0006�\t\u0018<g���[ӑY���4���\f",
      "�՗��\f",
      "����\u001d",
      "\n",
      "�\u0005��h�\u001a\r",
      "�\u0018���\u0000k\u0012q�`\u0011�n��R�隙��үd�ض�o\u001c",
      "�n,�n�H m�\u0004�ږ�\u001d",
      "�˗\u001a݌\u0011����+_�\u0014X�&?Q��?��R�;�ݢV�dl���\u0007�n8\u001d",
      "y8\u001c",
      "VZ�z��O���{��c��f���*8��t�蚄w\u0002Y �.\u0016[x�&,�Y@F�;~`A�q���~�\u0005�~_�N�\u0010FA�5��\u001e",
      "!6��+h�f�x��X�R\u001c",
      "�����\u0000��y\u0017dj�p\u0000�b��SC�.\u001fU\u0016�إ���d���M�\u0004\u0005?��GP^f�k:{G;��E�*J\u001e",
      "6FR���\u0000��c\u001d",
      "jͭ�\u0017j�\u0003�\u0011�G\u0005H*è �+\u0016�K�M�si%�f���26HO�\t���\u001e",
      "\b�\u0015oC��l\u001e",
      "�\u0000�\u0002\u001d",
      "�7&t�ܶ2�\b9\u0003���څ�~\u001f�F˗���\u0002#u!A+��\b[s\u001e",
      "��֪�K�\u0004�i!L�F\f",
      "N\u0018I�Ҹ�>�UO\u0015�\"��!�\r",
      "��\u0019P�\u001e",
      "\u001b�G>�w%�ݡ��d�#��K�UTM�\u0003���z\n",
      "\u0016���\u000f��4���\bL�;,`)wh�\b�t�q��\u001d",
      "q֖�Y��K\u000b",
      "��leV�\u0013���t\u001d",
      "��>��q�]4z��RBm�BX���\"�\u0015�1��dr+.��\u0017�[�9\u0014\u0018VKi�)&1�T��Ż\f",
      "�\u0003��.�רX��tخ$�K��È���m-�8�\u0018\u0004�J�֝\u001d",
      "���pR8\u0002�KF��o�H�p}j��v���S��B�ѧ�ؒ�\u0018&ߘc\u001fΨ\\�T�\r",
      "M@�V��\u0014\u0019��k!9�+����\u0015��5�2?;̝��G�\f",
      "\u0012\u0002��c���t��>��j:-���f?�\u0001�Z�\f",
      "{�o��`I�z|ߥt\u0010�XP8\u0001��pr3@�Y�K(�M�N\u0004�E�����2\u0014�`\u0012;TI�i�p�-�o3\u00189�\u0007��\u0001��5���:����\u001e",
      "��K�n �#)ULe\b\n",
      "Fx?7'�3�\u000fPۏ�_�\u000b",
      "}��c}�O���Oz#��\u0000���~ᴿ��sT�|���u2�-�&6#\u0004�\u0003t��kf��е(ෳW�k{k�\u0000�$��\u001d",
      "�yb�v�9c�k��m�v@�С6���p�<�d�_%vD�\u000b",
      "�;r\u0001\u0019ǽF�Ŵ~a������2\u0018cb\u0015�0�y瞼\u000eE`YJ\u001fU����h��L-��,���/a9�O,\u00079��B�[-f��Q}p�Bѱ%\u000e�\n",
      "N@�\u0015\u0006���\u0000�O�!e{]MV�-��.ےO,�\u001b\u0012[\u001b�\u0006>n9�5\u0012�:{Gq�]]�Tfl)�d\u0001��psTotk�-�������vyRpDs\u0016\u0004?@q����{�\\\\�\u0012�\r",
      "��ѫ�r[�D`��\u001bH_�\u001e",
      "��})��\u0003��ީ��e\u001d",
      "ɷi��H�\u0011��\u001d",
      "�B��\u0002Gj�\u0010u�\u0016G��@f�2}q\\����w� {W�.ḃ|��U1� )\u0019��ܞ�u��Ɗk�k�,\u000b",
      "p���\u000ebp�A�%��}��h�5���m��/����������ߧ�t�-���o}\n",
      "M�ج�\u001bO���!����\u0000�݌g<c=x�����B&o��ڏݷ���=8�ץf��p4󥼑\u001bAw���'�\u000b",
      "�y�q�g<g=;T�z��*���u?�+\u0017m�\u001c",
      "��c\u0000��'�t����\u001f�\u001d",
      "����\u0002�>\"�u���a\u000b",
      "r�˺&;�v\u0018\u001e",
      "Ǌ�-sM�c)p߼���\u0018�\u0011&3��\u0019S�\\W?�[O������fք�!\u0019\r",
      "���\u001e",
      "٫�\u001a\u0015��ױ4\u001fjk���e�L*lۻ\u0019�9�:�\u001d",
      "R���̓���.ϯ�D�\u0018��|˿�\u001d",
      "����F3�;u�6w�Oywo,+\u0019�e\n",
      "�巆\u0019\u0004�0}���8��\u0005�[u��uC|\u0017{\u0005*A\u0005s��>���nm[S��\"�h�3��\u0018���G#�qB���Pf�\u0014Q@��(�\u0002�(�\u0002�(�\u0002�(�\u0002�(�\u0002�(�\u0002�(�\u0002�(�\u0002�(�\u0002�(�\u0002�(�\u0002�(�\u0002�(�\u0002�(�\u0002�(�\u0002�(�\u0002�(�\u0002�(�\u0002�(�\u0002�(�\u0002�(�\u0002�(�\u0002�(�\u0002�(�\u0002�(�\u0002�(�\u0002�(�\u0002�(�\u0002�(�\u0002�(�\u0002�(�\u0002�(�\u0002�(�\u0002�(�\u0002�(�\u0002�(�\u0002�(�\u0002�(�\u0002�(�\u0002�(�\u0002�(�\u0002�(�\u0002�(�\u0002�(�\u0002�(�\u0002�(�\u0002�(�\u0002�(�\u0002�(�\u0002�(�\u0002�(�\u0002�(�\u0002�(�\u0002�(�\u0002�(�\u0002�(�\u0002�(�\u0002�(�\u0002�(�\u0002�(�\u0002�(�\u0002�(�\u0002�(�\u0002�(�\u0002�(�\u0002�(�\u0002�(�\u0002�(�\u0002�(�\u0002�(�\u0002�(�\u0002�(�\u0002�(�\u0002�(�\u0002�(�\u0002�(�\u0002�(�\u0002�(�\u0002�(�\u0002�(�\u0002�(�\u0002�(�\u0002�(�\u0002�(�\u0002�(�\u0002�(�\u0002�(�\u0002�(�\u0002�(�\u0002�(�\u0002�(�\u0002�(�\u0002�(�\u0002�(�\u0002�(�\u0002�(�\u0002�(�\u0002�(�\u0002�(�\u0002�(�\u0002�(�\u0002�(�\u0002�(�\u0002�(�\u0002�(�\u0002�(�\u0002�(�\u0002�(�\u0002�(�\u0002�(�\u0002�(�\u0002�(�\u0002�(�\u0002�(�\u0002�(�\u0002�(�\u0002�(�\u0002�(�\u0002�(�\u0002�(�\u0002�(�\u0002�(�\u0002�(�\u0002�(�\u0002�(�\u0002�(�\u0002�(�\u0002�(�\u0002�(�\u0002�(�\u0002�(�\u0002�(�\u0002�(�\u0002�(�\u0002�(�\u0002�(�\u0002�(�\u0002�(�\u0002�(�\u0002�(�\u0002�(�\u0002�(�\u0002�(�\u0002�(�\u0002�(�\u0002�(�\u0002�(�\u0002�(�\u0002�(�\u0002�(�\u0002�(�\u0002�(�\u0002�(�\u0002�(�\u0002�(�\u0002�(�\u0002�(�\u0002�(�\u0002�(�\u0002�(�\u0002�(�\u0002�(�\u0002�(�\u0002�(�\u0002�(�\u0002�(�\u0002�(�\u0002�(�\u0002�(�\u0002�(�\u0002�(�\u0002�(�\u0002�(�\u0002�(�\u0002�(�\u0002�(�\u0002�(�\u0002�(�\u0002�(�\u0002�(�\u0002�(�\u0002�(�\u0002�(�\u0002�(�\u0002�(�\u0002�(�\u0002�(�\u0002�(�\u0002�(�\u0002�(�\u0002�(�\u0002�(�\u0002�(�\u0002�(�\u0002�(�\u0002�(�\u0002�(�\u0002�(�\u0002�(�\u0002�(�\u0002�(�\u0002�(�\u0002�(�\u0002�(�\u0002�(�\u0002�(�\u0002�(�\u0002�(�\u0002�(�\u0002�(�\u0002�(�\u0002�(�\u0002�(�\u0002�(�\u0002�(�\u0002�(�\u0002�(�\u0002�(�\u0002�(�\u0002�(�\u0002�(�\u0002�(�\u0002�(�\u0002�(�\u0002�(�\u0002�(�\u0002�(�\u0002�(�\u0002�(�\u0002�(�\u0002�(�\u0002�(�\u0002�(�\u0002�(�\u0002�(�\u0002�(�\u0002�(�\u0002�(�\u0002�(�\u0002�(�\u0002�(�\u0002�(�\u0002�(�\u0002�(�\u0002�(�\u0002�(�\u0002�(�\u0002�(�\u0002�(�\u0002�(�\u0002�(�\u0002�(�\u0002�(�\u0002�(�\u0002�(�\u0002�(�\u0002�(�\u0002�(�\u0002�(�\u0002�(�\u0002�(�\u0002�(�\u0002�(�\u0002�(�\u0002�(�\u0002�(�\u0002�(�\u0002�(�\u0002�(�\u0002�(�\u0002�(�\u0002�(�\u0002�(�\u0002�(�\u0002�(�\u0002�(�\u0002�(�\u0002�(�\u0002�(�\u0002�(�\u0002�(�\u0002�(�\u0002�(�\u0002�(�\u0002�(�\u0002�(�\u0002�(�\u0002�(�\u0002�(�\u0002�(�\u0002�(�\u0002�(�\u0002�(�\u0002�(�\u0002�(�\u0002�(�\u0002�(�\u0002�(�\u0002�(�\u0002�(�\u0002�(�\u0002�(�\u0002�(�\u0002�(�\u0002�(�\u0002�(�\u0002�(�\u0002�(�\u0002�(�\u0002�(�\u0002�(�\u0002�(�\u0002�(�\u0002�(�\u0002�(�\u0002�(�\u0002�(�\u0002�(�\u0002�(�\u0002�(�\u0002�(�\u0002�(�\u0002�(�\u0002�(�\u0002�(�\u0002�(�\u0002�(�\u0002�(�\u0002�(�\u0002�(�\u0002�(�\u0002�(�\u0002�(�\u0002�(�\u0002�(�\u0002�(�\u0002�(�\u0002�(�\u0002�(�\u0002�(�\u0002�(�\u0002�(�\u0002�(�\u0002�(�\u0002�(�\u0002�(�\u0002�(�\u0002�(�\u0002�(�\u0002�(�\u0002�(�\u0002�(�\u0002�(�\u0002�(�\u0002�(�\u0002�(�\u0002�(�\u0002�(�\u0002�(�\u0002�(�\u0002�(�\u0002�(�\u0002�(�\u0002�(�\u0002�(�\u0002�(�\u0002�(�\u0002�(�\u0002�(�\u0002�(�\u0002�(�\u0002�(�\u0002�(�\u0002�(�\u0002�(�\u0002�(�\u0002�(�\u0002�(�\u0002�(�\u0002�(�\u0002�(�\u0002�(�\u0002�(�\u0002�(�\u0002�(�\u0002�(�\u0002�(�\u0002�(�\u0002�(�\u0002�(�\u0002�(�\u0002�(�\u0002�(�\u0002�(�\u0002�(�\u0002�(�\u0002�(�\u0002�(�\u0002�(�\u0002�(�\u0002�(�\u0002�(�\u0002�(�\u0002�(�\u0002�(�\u0002�(�\u0002�(�\u0002�(�\u0002�(�\u0002�(�\u0002�(�\u0002�(�\u0002�(�\u0002�(�\u0002�(�\u0002�(�\u0002�(�\u0002�(�\u0002�(�\u0002�(�\u0002�(�\u0002�(�\u0002�(�\u0002�(�\u0002�(�\u0002�(�\u0002�(�\u0002�(�\u0002�(�\u0002�(�\u0002�(�\u0002�(�\u0002�(�\u0002�(�\u0002�(�\u0002�(�\u0002�(�\u0002�(�\u0002�(�\u0002�(�\u0002�(�\u0002�(�\u0002�(�\u0002�(�\u0002�(�\u0002�(�\u0002�(�\u0002�(�\u0002�(�\u0002�(�\u0002�(�\u0002�(�\u0002�(�\u0002�(�\u0002�(�\u0002�(�\u0002�(�\u0002�(�\u0002�(�\u0002�(�\u0002�(�\u0002�(�\u0002�(�\u0002�(�\u0002�(�\u0002�(�\u0002�(�\u0002�(�\u0002�(�\u0002�(�\u0002�(�\u0002�(�\u0002�(�\u0002�(�\u0002�(�\u0002�(�\u0002�(�\u0002�(�\u0002�(�\u0002�(�\u0002�(�\u0002�(�\u0002�(�\u0002�(�\u0002�(�\u0002�(�\u0002�(�\u0002�(�\u0002�(�\u0002�(�\u0002�(�\u0002�(�\u0002�(�\u0002�(�\u0002�(�\u0002�(�\u0002�(�\u0002�(�\u0002�(�\u0002�(�\u0002�(�\u0002�(�\u0002�(�\u0002�(�\u0002�(�\u0002�(�\u0002�(�\u0002�(�\u0002�(�\u0002�(�\u0002�(�\u0002�(�\u0002�(�\u0002�(�\u0002�(�\u0002�(�\u0002�(�\u0002�(�\u0002�(�\u0002�(�\u0002�(�\u0002�(�\u0002�(�\u0002�(�\u0002�(�\u0002�(�\u0002�(�\u0002�(�\u0002�(�\u0002�(�\u0002�(�\u0002�(�\u0002�(�\u0002�(�\u0002�(�\u0002�(�\u0002�(�\u0002�(�\u0002�(�\u0002�(�\u0002�(�\u0002�(�\u0002�(�\u0002�(�\u0002�(�\u0002�(�\u0002�(�\u0002�(�\u0002�(�\u0002�(�\u0002�(�\u0002�(�\u0002�(�\u0002�(�\u0002�(�\u0002�(�\u0002�(�\u0002�(�\u0002�(�\u0002�(�\u0002�(�\u0002�(�\u0002�(�\u0002�(�\u0002�(�\u0002�(�\u0002�(�\u0002�(�\u0002�(�\u0002�(�\u0002�(�\u0002�(�\u0002�(�\u0002�(�\u0002�(�\u0002�(�\u0002�(�\u0002�(�\u0002�(�\u0002�(�\u0002�(�\u0002�(�\u0002�(�\u0002�(�\u0002�(�\u0002�(�\u0002�(�\u0002�(�\u0002�(�\u0002�(�\u0002�(�\u0002�(�\u0002�(�\u0002�(�\u0002�(�\u0002�(�\u0002�(�\u0002�(�\u0002�(�\u0002�(�\u0002�(�\u0002�(�\u0002�(�\u0002�(�\u0002�(�\u0002�(�\u0002�(�\u0002�(�\u0002�(�\u0002�(�\u0002�(�\u0002�(�\u0002�(�\u0002�(�\u0002�(�\u0002�(�\u0002�(�\u0002�(�\u0002�(�\u0002�(�\u0002�(�\u0002�(�\u0002�(�\u0002�(�\u0002�(�\u0002�(�\u0002�(�\u0002�(�\u0002�(�\u0002�(�\u0002�(�\u0002�(�\u0002�(�\u0002�(�\u0002�(�\u0002�(�\u0002�(�\u0002�(�\u0002�(�\u0002�(�\u0002�(�\u0002�(�\u0002�(�\u0002�(�\u0002�(�\u0002�(�\u0002�(�\u0002�(�\u0002�(�\u0002�(�\u0002�(�\u0002�(�\u0002�(�\u0002�(�\u0002�(�\u0002�(�\u0002�(�\u0002�(�\u0002�(�\u0002�(�\u0002�(�\u0002�(�\u0002�(�\u0002�(�\u0002�(�\u0002�(�\u0002�(�\u0002�(�\u0002�(�\u0002�(�\u0002�(�\u0002�(�\u0002�(�\u0002�(�\u0002�(�\u0002�(�\u0002�(�\u0002�(�\u0002�(�\u0002�(�\u0002�(�\u0002�(�\u0002�(�\u0002�(�\u0002�(�\u0002�(�\u0002�(�\u0002�(�\u0002�(�\u0002�(�\u0002�(�\u0002�(�\u0002�(�\u0002�(�\u0002�(�\u0002�(�\u0002�(�\u0002�(�\u0002�(�\u0002�(�\u0002�(�\u0002�(�\u0002�(�\u0002�(�\u0002�(�\u0002�(�\u0002�(�\u0002�(�\u0002�(�\u0002�(�\u0002�(�\u0002�(�\u0002�(�\u0002�(�\u0002�(�\u0002�(�\u0002�(�\u0002�(�\u0002�(�\u0002�(�\u0002�(�\u0002�(�\u0002�(�\u0002�(�\u0002�(�\u0002�(�\u0002�(�\u0002�(�\u0002�(�\u0002�(�\u0002�(�\u0002�(�\u0002�(�\u0002�(�\u0002�(�\u0002�(�\u0002�(�\u0002�(�\u0002�(�\u0002�(�\u0002�(�\u0002�(�\u0002�(�\u0002�(�\u0002�(�\u0002�(�\u0002�(�\u0002�(�\u0002�(�\u0002�(�\u0002�(�\u0002�(�\u0002�(�\u0002�(�\u0002�(�\u0002�(�\u0002�(�\u0002�(�\u0002�(�\u0002�(�\u0002�(�\u0002�(�\u0002�(�\u0002�(�\u0002�(�\u0002�(�\u0002�(�\u0002�(�\u0002�(�\u0002�(�\u0002�(�\u0002�(�\u0002�(�\u0002�(�\u0002�(�\u0002�(�\u0002�(�\u0002�(�\u0002�(�\u0002�(�\u0002�(�\u0002�(�\u0002�(�\u0002�(�\u0002�(�\u0002�(�\u0002�(�\u0002�(�\u0002�(�\u0002�(�\u0002�(�\u0002�(�\u0002�(�\u0002�(�\u0002�(�\u0002�(�\u0002�(�\u0002�(�\u0002�(�\u0002�(�\u0002�(�\u0002�(�\u0002�(�\u0002�(�\u0002�(�\u0002�(�\u0002�(�\u0002�(�\u0002�(�\u0002�(�\u0002�(�\u0002�(�\u0002�(�\u0002�(�\u0002�(�\u0002�(�\u0002�(�\u0002�(�\u0002�(�\u0002�(�\u0002�(�\u0002�(�\u0002�(�\u0002�(�\u0002�(�\u0002�(�\u0002�(�\u0002�(�\u0002�(�\u0002�(�\u0002�(�\u0002�(�\u0002�(�\u0002�(�\u0002�(�\u0002�(�\u0002�(�\u0002�(�\u0002�(�\u0002�(�\u0002�(�\u0002�(�\u0002�(�\u0002�(�\u0002�(�\u0002�(�\u0002�(�\u0002�(�\u0002�(�\u0002�(�\u0002�(�\u0002�(�\u0002�(�\u0002�(�\u0002�(�\u0002�(�\u0002�(�\u0002�(�\u0002�(�\u0002�(�\u000f��\n"
     ]
    }
   ],
   "source": [
    "f=open(\"Execution.jpg\",\"rb\")\n",
    "data=f.read()\n",
    "print data"
   ]
  },
  {
   "cell_type": "code",
   "execution_count": 10,
   "metadata": {},
   "outputs": [
    {
     "name": "stdout",
     "output_type": "stream",
     "text": [
      "some data\n",
      " python is  pure object oriented programe\n",
      "Python is one of those rare languages which can claim to be both simple and powerful.\n",
      " wriring data in append mode\n"
     ]
    }
   ],
   "source": [
    "f=open(\"data.csv\",\"r\")\n",
    "data=f.read()\n",
    "print data"
   ]
  },
  {
   "cell_type": "code",
   "execution_count": null,
   "metadata": {},
   "outputs": [],
   "source": []
  }
 ],
 "metadata": {
  "kernelspec": {
   "display_name": "Python 2",
   "language": "python",
   "name": "python2"
  },
  "language_info": {
   "codemirror_mode": {
    "name": "ipython",
    "version": 2
   },
   "file_extension": ".py",
   "mimetype": "text/x-python",
   "name": "python",
   "nbconvert_exporter": "python",
   "pygments_lexer": "ipython2",
   "version": "2.7.15rc1"
  }
 },
 "nbformat": 4,
 "nbformat_minor": 2
}
