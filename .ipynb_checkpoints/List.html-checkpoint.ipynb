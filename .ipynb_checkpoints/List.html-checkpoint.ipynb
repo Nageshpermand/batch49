{
 "cells": [
  {
   "cell_type": "code",
   "execution_count": 1,
   "metadata": {},
   "outputs": [],
   "source": [
    "l = [10,20.24,40],\"1234\",[100,200,300,400]"
   ]
  },
  {
   "cell_type": "code",
   "execution_count": 2,
   "metadata": {},
   "outputs": [
    {
     "data": {
      "text/plain": [
       "['a', 'b', 'c', 'd', 'e']"
      ]
     },
     "execution_count": 2,
     "metadata": {},
     "output_type": "execute_result"
    }
   ],
   "source": [
    "l=[\"a\",\"b\",\"c\",\"d\"]\n",
    "l+[\"e\"]"
   ]
  },
  {
   "cell_type": "code",
   "execution_count": 3,
   "metadata": {},
   "outputs": [
    {
     "name": "stdout",
     "output_type": "stream",
     "text": [
      "l1= None\n"
     ]
    }
   ],
   "source": [
    "l=[\"a\",\"b\",\"c\",\"d\"]\n",
    "l1 = l.append(l)                       #l1 is reference it is not object so it shows none \n",
    "print \"l1=\",l1"
   ]
  },
  {
   "cell_type": "code",
   "execution_count": 4,
   "metadata": {},
   "outputs": [
    {
     "name": "stdout",
     "output_type": "stream",
     "text": [
      "l1= None\n"
     ]
    }
   ],
   "source": [
    "l=[\"a\",\"b\",\"c\",\"d\"]\n",
    "l1 = l.append(\"e\")                       #l1 is reference it is not object so it shows none \n",
    "print \"l1=\",l1"
   ]
  },
  {
   "cell_type": "code",
   "execution_count": 5,
   "metadata": {},
   "outputs": [
    {
     "name": "stdout",
     "output_type": "stream",
     "text": [
      "None\n"
     ]
    }
   ],
   "source": [
    "l=[\"a\",\"b\",\"c\",\"d\"]\n",
    "print l.append(\"e\")         #l.append() is reference it is not object so it shows none \n",
    "\n"
   ]
  },
  {
   "cell_type": "code",
   "execution_count": 7,
   "metadata": {},
   "outputs": [
    {
     "name": "stdout",
     "output_type": "stream",
     "text": [
      "None\n"
     ]
    }
   ],
   "source": [
    "l=[\"a\",\"b\",\"c\",\"d\"]\n",
    "l1 = l.append(\"e\")            #l1 is reference it is not object so it shows none \n",
    "print l1"
   ]
  },
  {
   "cell_type": "code",
   "execution_count": 8,
   "metadata": {},
   "outputs": [
    {
     "name": "stdout",
     "output_type": "stream",
     "text": [
      "kyderabad\n"
     ]
    }
   ],
   "source": [
    "s = \"hyderabad\"\n",
    "s1=s.replace('h','k')\n",
    "print s1"
   ]
  },
  {
   "cell_type": "code",
   "execution_count": 11,
   "metadata": {},
   "outputs": [
    {
     "ename": "AttributeError",
     "evalue": "'str' object has no attribute 'append'",
     "output_type": "error",
     "traceback": [
      "\u001b[0;31m---------------------------------------------------------------------------\u001b[0m",
      "\u001b[0;31mAttributeError\u001b[0m                            Traceback (most recent call last)",
      "\u001b[0;32m<ipython-input-11-6cc39c84f24d>\u001b[0m in \u001b[0;36m<module>\u001b[0;34m()\u001b[0m\n\u001b[1;32m      1\u001b[0m \u001b[0ms\u001b[0m\u001b[0;34m=\u001b[0m\u001b[0;34m\"hyderabad\"\u001b[0m\u001b[0;34m\u001b[0m\u001b[0m\n\u001b[0;32m----> 2\u001b[0;31m \u001b[0;32mprint\u001b[0m \u001b[0ms\u001b[0m\u001b[0;34m.\u001b[0m\u001b[0mappend\u001b[0m\u001b[0;34m(\u001b[0m\u001b[0;34m'city'\u001b[0m\u001b[0;34m)\u001b[0m\u001b[0;34m\u001b[0m\u001b[0m\n\u001b[0m",
      "\u001b[0;31mAttributeError\u001b[0m: 'str' object has no attribute 'append'"
     ]
    }
   ],
   "source": [
    "s=\"hyderabad\"                       # append.()it does not takes for strings\n",
    "print s.append('city')"
   ]
  },
  {
   "cell_type": "code",
   "execution_count": 12,
   "metadata": {},
   "outputs": [
    {
     "name": "stdout",
     "output_type": "stream",
     "text": [
      "hyderabad\n",
      "kyderabad\n"
     ]
    }
   ],
   "source": [
    "s = \"hyderabad\"\n",
    "s1=s.replace('h','k')\n",
    "print s\n",
    "print s1"
   ]
  },
  {
   "cell_type": "code",
   "execution_count": 13,
   "metadata": {},
   "outputs": [
    {
     "name": "stdout",
     "output_type": "stream",
     "text": [
      "['a', 'b', 'c', 'd', 'e']\n",
      "None\n"
     ]
    }
   ],
   "source": [
    "l=[\"a\",\"b\",\"c\",\"d\"]\n",
    "l1= l.append(\"e\")     #l1 is reference it is not object so it shows none \n",
    "print l               #it is object so it takes reference also so merging \"e\" value\n",
    "print l1"
   ]
  },
  {
   "cell_type": "code",
   "execution_count": 14,
   "metadata": {},
   "outputs": [
    {
     "name": "stdout",
     "output_type": "stream",
     "text": [
      "None\n"
     ]
    }
   ],
   "source": [
    "l1 = [\"a\",\"b\"]\n",
    "l2 = [\"c\",\"d\"]\n",
    "l3=l1.append(l2)\n",
    "print l3"
   ]
  },
  {
   "cell_type": "code",
   "execution_count": 16,
   "metadata": {},
   "outputs": [
    {
     "name": "stdout",
     "output_type": "stream",
     "text": [
      "['a', 'b', ['c', 'd']]\n",
      "['c', 'd']\n"
     ]
    }
   ],
   "source": [
    "l1 = [\"a\",\"b\"]\n",
    "l2 = [\"c\",\"d\"]\n",
    "l3= l1.append(l2)           #l3 is reference so it shows reference\n",
    "print l1                    #l1 in (l1.append(l2)) is an object so it is printing with append l2 in l1\n",
    "print l2"
   ]
  },
  {
   "cell_type": "code",
   "execution_count": 17,
   "metadata": {},
   "outputs": [
    {
     "name": "stdout",
     "output_type": "stream",
     "text": [
      "python\n",
      "xyz\n"
     ]
    }
   ],
   "source": [
    "s = \"python\"\n",
    "print s\n",
    "s=\"xyz\"\n",
    "print s"
   ]
  },
  {
   "cell_type": "code",
   "execution_count": 18,
   "metadata": {},
   "outputs": [
    {
     "ename": "TypeError",
     "evalue": "'str' object does not support item assignment",
     "output_type": "error",
     "traceback": [
      "\u001b[0;31m---------------------------------------------------------------------------\u001b[0m",
      "\u001b[0;31mTypeError\u001b[0m                                 Traceback (most recent call last)",
      "\u001b[0;32m<ipython-input-18-dc70a133faed>\u001b[0m in \u001b[0;36m<module>\u001b[0;34m()\u001b[0m\n\u001b[1;32m      1\u001b[0m \u001b[0ms\u001b[0m \u001b[0;34m=\u001b[0m \u001b[0;34m\"python\"\u001b[0m\u001b[0;34m\u001b[0m\u001b[0m\n\u001b[0;32m----> 2\u001b[0;31m \u001b[0ms\u001b[0m\u001b[0;34m[\u001b[0m\u001b[0;36m0\u001b[0m\u001b[0;34m]\u001b[0m\u001b[0;34m=\u001b[0m\u001b[0;34m\"z\"\u001b[0m\u001b[0;34m\u001b[0m\u001b[0m\n\u001b[0m\u001b[1;32m      3\u001b[0m \u001b[0;32mprint\u001b[0m \u001b[0ms\u001b[0m\u001b[0;34m\u001b[0m\u001b[0m\n",
      "\u001b[0;31mTypeError\u001b[0m: 'str' object does not support item assignment"
     ]
    }
   ],
   "source": [
    "s = \"python\"\n",
    "s[0]=\"z\"   #string deos not supports its assignment \n",
    "print s    # but supports in list"
   ]
  },
  {
   "cell_type": "code",
   "execution_count": 57,
   "metadata": {},
   "outputs": [
    {
     "name": "stdout",
     "output_type": "stream",
     "text": [
      "['z']\n"
     ]
    }
   ],
   "source": [
    "s = [\"python\"]\n",
    "s[0]=\"z\"   \n",
    "print s    # supports in list"
   ]
  },
  {
   "cell_type": "code",
   "execution_count": 19,
   "metadata": {},
   "outputs": [
    {
     "name": "stdout",
     "output_type": "stream",
     "text": [
      "['a', 'b', 'c', 'd', 'e']\n",
      "None\n"
     ]
    }
   ],
   "source": [
    "l=[\"a\",\"b\",\"c\",\"d\"]\n",
    "l1= l.append(\"e\")     #l1 is reference it is not object so it shows none \n",
    "print l               #it is object so it takes reference also so merging \"e\" value\n",
    "print l1"
   ]
  },
  {
   "cell_type": "code",
   "execution_count": 21,
   "metadata": {},
   "outputs": [
    {
     "name": "stdout",
     "output_type": "stream",
     "text": [
      "100\n"
     ]
    }
   ],
   "source": [
    "def fun(a):\n",
    "    c=a+10\n",
    "    d=a+20\n",
    "    e=a+80\n",
    "    return a+60   # the function loop takes only return value and remaining above activitys doesnot matter,\n",
    "f=fun\n",
    "f1=fun(40)\n",
    "print f1"
   ]
  },
  {
   "cell_type": "code",
   "execution_count": 23,
   "metadata": {},
   "outputs": [
    {
     "name": "stdout",
     "output_type": "stream",
     "text": [
      "<function fun at 0x7f74baf84ed8>\n",
      "f1=  100\n"
     ]
    }
   ],
   "source": [
    "def fun(a):\n",
    "    c=a+10\n",
    "    d=a+20\n",
    "    e=a+80\n",
    "    return a+60   # the function loop takes only return value and remaining above activitys doesnot matter,\n",
    "f=fun\n",
    "f1=fun(40)\n",
    "print f\n",
    "print \"f1= \",f1"
   ]
  },
  {
   "cell_type": "code",
   "execution_count": 6,
   "metadata": {},
   "outputs": [
    {
     "name": "stdout",
     "output_type": "stream",
     "text": [
      "<function fun at 0x7f4aec1dff50>\n",
      "f1=  None\n"
     ]
    }
   ],
   "source": [
    "def fun(a):\n",
    "    c=a+10\n",
    "    d=a+20\n",
    "    e=a+80\n",
    "f=fun\n",
    "f1=fun(40)\n",
    "print f\n",
    "print \"f1= \",f1"
   ]
  },
  {
   "cell_type": "code",
   "execution_count": 7,
   "metadata": {},
   "outputs": [
    {
     "name": "stdout",
     "output_type": "stream",
     "text": [
      "50 60 120\n",
      "<function fun at 0x7f4aec1dfed8>\n",
      "f1=  None\n"
     ]
    }
   ],
   "source": [
    "def fun(a):\n",
    "    c=a+10\n",
    "    d=a+20\n",
    "    e=a+80\n",
    "    print c,d,e\n",
    "f=fun\n",
    "f1=fun(40)\n",
    "print f\n",
    "print \"f1= \",f1"
   ]
  },
  {
   "cell_type": "code",
   "execution_count": 8,
   "metadata": {},
   "outputs": [
    {
     "name": "stdout",
     "output_type": "stream",
     "text": [
      "['a', 'b', 'c', 'd', 'e']\n",
      "None\n"
     ]
    }
   ],
   "source": [
    "l=[\"a\",\"b\",\"c\",\"d\"]\n",
    "l1= l.append(\"e\")     \n",
    "print l               \n",
    "print l1"
   ]
  },
  {
   "cell_type": "code",
   "execution_count": 10,
   "metadata": {},
   "outputs": [
    {
     "name": "stdout",
     "output_type": "stream",
     "text": [
      "l1=  ['a', 'b', 'c', 'd'] id(l1)=  139959799615072\n",
      "['a', 'b', 'c', 'd', 'e', 'e']\n",
      "None\n"
     ]
    }
   ],
   "source": [
    "l1=[\"a\",\"b\",\"c\",\"d\"]\n",
    "print \"l1= \",l1,   \"id(l1)= \",id(l1)\n",
    "l1= l.append(\"e\")     \n",
    "print l               \n",
    "print l1"
   ]
  },
  {
   "cell_type": "code",
   "execution_count": 11,
   "metadata": {},
   "outputs": [
    {
     "name": "stdout",
     "output_type": "stream",
     "text": [
      "l1=  ['a', 'b', 'c', 'd'] id(l1)=  139959765373296\n",
      "l1=  ['a', 'b', 'c', 'd', 10] id(l1)=  139959765373296\n",
      "l2=  None\n"
     ]
    }
   ],
   "source": [
    "l1=[\"a\",\"b\",\"c\",\"d\"]\n",
    "print \"l1= \",l1,   \"id(l1)= \",id(l1)\n",
    "l2= l1.append(10)                  \n",
    "print \"l1= \",l1,   \"id(l1)= \",id(l1)\n",
    "print\"l2= \",l2"
   ]
  },
  {
   "cell_type": "code",
   "execution_count": 12,
   "metadata": {},
   "outputs": [
    {
     "name": "stdout",
     "output_type": "stream",
     "text": [
      "['a', 'b', 'c', 'd', 10]\n"
     ]
    }
   ],
   "source": [
    "l1=[\"a\",\"b\",\"c\",\"d\"]\n",
    "l1.append(10)\n",
    "print l1               # there is no assigned reference value "
   ]
  },
  {
   "cell_type": "code",
   "execution_count": 15,
   "metadata": {},
   "outputs": [
    {
     "name": "stdout",
     "output_type": "stream",
     "text": [
      "['a', 'b', 'c', 'd', 'e']\n"
     ]
    }
   ],
   "source": [
    "l1=[\"a\",\"b\",\"c\",\"d\"]\n",
    "l1.append(\"e\")\n",
    "print l1               # there is no assigned reference value "
   ]
  },
  {
   "cell_type": "code",
   "execution_count": 14,
   "metadata": {},
   "outputs": [
    {
     "name": "stdout",
     "output_type": "stream",
     "text": [
      "['a', 'b', 'c', 'd', 'e']\n"
     ]
    }
   ],
   "source": [
    "l1=[\"a\",\"b\",\"c\",\"d\"]\n",
    "l1.extend(\"e\")\n",
    "print l1        "
   ]
  },
  {
   "cell_type": "code",
   "execution_count": 18,
   "metadata": {},
   "outputs": [
    {
     "name": "stdout",
     "output_type": "stream",
     "text": [
      "l1=  ['a', 'b', 'c', 'd', 'python'] 5\n"
     ]
    }
   ],
   "source": [
    "l1=[\"a\",\"b\",\"c\",\"d\"]\n",
    "l1.append(\"python\")\n",
    "print \"l1= \", l1  , len(l1)"
   ]
  },
  {
   "cell_type": "code",
   "execution_count": 19,
   "metadata": {},
   "outputs": [
    {
     "name": "stdout",
     "output_type": "stream",
     "text": [
      "l1=  ['a', 'b', 'c', 'd', '10'] 5\n"
     ]
    }
   ],
   "source": [
    "l1=[\"a\",\"b\",\"c\",\"d\"]\n",
    "l1.append(\"10\")\n",
    "print \"l1= \", l1  , len(l1)"
   ]
  },
  {
   "cell_type": "code",
   "execution_count": 27,
   "metadata": {},
   "outputs": [
    {
     "ename": "TypeError",
     "evalue": "'int' object is not iterable",
     "output_type": "error",
     "traceback": [
      "\u001b[0;31m---------------------------------------------------------------------------\u001b[0m",
      "\u001b[0;31mTypeError\u001b[0m                                 Traceback (most recent call last)",
      "\u001b[0;32m<ipython-input-27-5c73010b60da>\u001b[0m in \u001b[0;36m<module>\u001b[0;34m()\u001b[0m\n\u001b[1;32m      1\u001b[0m \u001b[0ml1\u001b[0m\u001b[0;34m=\u001b[0m\u001b[0;34m[\u001b[0m\u001b[0;34m\"a\"\u001b[0m\u001b[0;34m,\u001b[0m\u001b[0;34m\"b\"\u001b[0m\u001b[0;34m,\u001b[0m\u001b[0;34m\"c\"\u001b[0m\u001b[0;34m,\u001b[0m\u001b[0;34m\"d\"\u001b[0m\u001b[0;34m]\u001b[0m\u001b[0;34m\u001b[0m\u001b[0m\n\u001b[0;32m----> 2\u001b[0;31m \u001b[0ml1\u001b[0m\u001b[0;34m.\u001b[0m\u001b[0mextend\u001b[0m\u001b[0;34m(\u001b[0m\u001b[0;36m10\u001b[0m\u001b[0;34m)\u001b[0m                  \u001b[0;31m# the int value not extend with string value\u001b[0m\u001b[0;34m\u001b[0m\u001b[0m\n\u001b[0m\u001b[1;32m      3\u001b[0m \u001b[0;32mprint\u001b[0m \u001b[0;34m\"l1= \"\u001b[0m\u001b[0;34m,\u001b[0m \u001b[0ml1\u001b[0m  \u001b[0;34m,\u001b[0m \u001b[0mlen\u001b[0m\u001b[0;34m(\u001b[0m\u001b[0ml1\u001b[0m\u001b[0;34m)\u001b[0m    \u001b[0;31m#it cant iterate every value in integer\u001b[0m\u001b[0;34m\u001b[0m\u001b[0m\n",
      "\u001b[0;31mTypeError\u001b[0m: 'int' object is not iterable"
     ]
    }
   ],
   "source": [
    "l1=[\"a\",\"b\",\"c\",\"d\"]\n",
    "l1.extend(10)                  # the int value not extend with string value\n",
    "print \"l1= \", l1  , len(l1)    #it cant iterate every value in integer"
   ]
  },
  {
   "cell_type": "code",
   "execution_count": 22,
   "metadata": {},
   "outputs": [
    {
     "name": "stdout",
     "output_type": "stream",
     "text": [
      "l1=  ['a', 'b', 'c', 'd', '10'] 5\n"
     ]
    }
   ],
   "source": [
    "l1=[\"a\",\"b\",\"c\",\"d\"]\n",
    "l1.append(\"10\")                 # it prints iterate every string in list\n",
    "print \"l1= \", l1  , len(l1)"
   ]
  },
  {
   "cell_type": "code",
   "execution_count": 23,
   "metadata": {},
   "outputs": [
    {
     "name": "stdout",
     "output_type": "stream",
     "text": [
      "l1=  ['a', 'b', 'c', 'd', '1', '0'] 6\n"
     ]
    }
   ],
   "source": [
    "l1=[\"a\",\"b\",\"c\",\"d\"]\n",
    "l1.extend(\"10\")                  # it prints iterate every value\n",
    "print \"l1= \", l1  , len(l1)"
   ]
  },
  {
   "cell_type": "code",
   "execution_count": 26,
   "metadata": {},
   "outputs": [
    {
     "ename": "TypeError",
     "evalue": "'int' object is not iterable",
     "output_type": "error",
     "traceback": [
      "\u001b[0;31m---------------------------------------------------------------------------\u001b[0m",
      "\u001b[0;31mTypeError\u001b[0m                                 Traceback (most recent call last)",
      "\u001b[0;32m<ipython-input-26-02e456374b41>\u001b[0m in \u001b[0;36m<module>\u001b[0;34m()\u001b[0m\n\u001b[0;32m----> 1\u001b[0;31m \u001b[0;32mfor\u001b[0m \u001b[0mi\u001b[0m \u001b[0;32min\u001b[0m \u001b[0;36m10\u001b[0m\u001b[0;34m:\u001b[0m\u001b[0;34m\u001b[0m\u001b[0m\n\u001b[0m\u001b[1;32m      2\u001b[0m     \u001b[0;32mprint\u001b[0m \u001b[0mi\u001b[0m\u001b[0;34m\u001b[0m\u001b[0m\n",
      "\u001b[0;31mTypeError\u001b[0m: 'int' object is not iterable"
     ]
    }
   ],
   "source": [
    "for i in 10:\n",
    "    print i                 #it cant iterate every value in integer"
   ]
  },
  {
   "cell_type": "code",
   "execution_count": 28,
   "metadata": {},
   "outputs": [
    {
     "name": "stdout",
     "output_type": "stream",
     "text": [
      "l1=  ['a', 'b', 'c', 'd', '1', '0'] 6\n"
     ]
    }
   ],
   "source": [
    "l1=[\"a\",\"b\",\"c\",\"d\"]\n",
    "l1.extend(\"10\")             \n",
    "print \"l1= \", l1,len(l1)"
   ]
  },
  {
   "cell_type": "code",
   "execution_count": 30,
   "metadata": {},
   "outputs": [
    {
     "name": "stdout",
     "output_type": "stream",
     "text": [
      "l1=  ['a', 'b', 'c', 'd', {'k3': 'v3', 'k2': 'v2', 'k1': 'v1'}]\n"
     ]
    }
   ],
   "source": [
    "l1=[\"a\",\"b\",\"c\",\"d\"]\n",
    "l1.append({\"k1\":\"v1\",\"k2\":\"v2\",\"k3\":\"v3\"})    # in append the total dictinory as like single value mergedwith l1 insidelist\n",
    "print\"l1= \", l1"
   ]
  },
  {
   "cell_type": "code",
   "execution_count": 34,
   "metadata": {},
   "outputs": [
    {
     "name": "stdout",
     "output_type": "stream",
     "text": [
      "l1=  ['a', 'b', 'c', 'd', {'k3': 'v3', 'k2': 'v2', 'k1': 'v1'}] 5\n"
     ]
    }
   ],
   "source": [
    "l1=[\"a\",\"b\",\"c\",\"d\"]\n",
    "l1.append({\"k1\":\"v1\",\"k2\":\"v2\",\"k3\":\"v3\"})    # in append the total dictinory as like single value mergedwith l1 insidelist\n",
    "print\"l1= \", l1,len(l1)"
   ]
  },
  {
   "cell_type": "code",
   "execution_count": 36,
   "metadata": {},
   "outputs": [
    {
     "name": "stdout",
     "output_type": "stream",
     "text": [
      "l1=  ['a', 'b', 'c', 'd', 'k3', 'k2', 'k1']\n"
     ]
    }
   ],
   "source": [
    "l1=[\"a\",\"b\",\"c\",\"d\"]\n",
    "l1.extend({\"k1\":\"v1\",\"k2\":\"v2\",\"k3\":\"v3\"})    # in extend the dictinory assigned values only  merged with l1 inside list\n",
    "print\"l1= \", l1,"
   ]
  },
  {
   "cell_type": "code",
   "execution_count": 37,
   "metadata": {},
   "outputs": [
    {
     "name": "stdout",
     "output_type": "stream",
     "text": [
      "l1=  ['a', 'b', 'c', 'd', 'k3', 'k2', 'k1'] 7\n"
     ]
    }
   ],
   "source": [
    "l1=[\"a\",\"b\",\"c\",\"d\"]\n",
    "l1.extend({\"k1\":\"v1\",\"k2\":\"v2\",\"k3\":\"v3\"})    # in extend the dictinory assigned values only  merged with l1 inside list\n",
    "print\"l1= \", l1,len(l1)"
   ]
  },
  {
   "cell_type": "code",
   "execution_count": 38,
   "metadata": {},
   "outputs": [
    {
     "name": "stdout",
     "output_type": "stream",
     "text": [
      "k3\n",
      "k2\n",
      "k1\n"
     ]
    }
   ],
   "source": [
    "for i in {\"k1\":\"v1\",\"k2\":\"v2\",\"k3\":\"v3\"}:\n",
    "    print i"
   ]
  },
  {
   "cell_type": "code",
   "execution_count": 66,
   "metadata": {},
   "outputs": [],
   "source": [
    "l1 =[\"c\",\"cpp\",\"java\",]\n",
    "l2 =[\"php\",\"python\",\"goo\"]\n"
   ]
  },
  {
   "cell_type": "code",
   "execution_count": 47,
   "metadata": {},
   "outputs": [
    {
     "name": "stdout",
     "output_type": "stream",
     "text": [
      "['c', 'cpp', 'java', 'php', 'python', 'goo']\n"
     ]
    }
   ],
   "source": [
    "l1 =[\"c\",\"cpp\",\"java\",]\n",
    "l2 =[\"php\",\"python\",\"goo\"]\n",
    "print l1+l2"
   ]
  },
  {
   "cell_type": "code",
   "execution_count": 50,
   "metadata": {},
   "outputs": [
    {
     "name": "stdout",
     "output_type": "stream",
     "text": [
      "['c', 'cpp', 'java']\n",
      "['php', 'python', 'goo']\n",
      "['c', 'cpp', 'java', 'php', 'python', 'goo']\n"
     ]
    }
   ],
   "source": [
    "l1 =[\"c\",\"cpp\",\"java\",]\n",
    "l2 =[\"php\",\"python\",\"goo\"]\n",
    "l3 = l1+l2\n",
    "print l1\n",
    "print l2\n",
    "print l3"
   ]
  },
  {
   "cell_type": "code",
   "execution_count": 51,
   "metadata": {},
   "outputs": [
    {
     "name": "stdout",
     "output_type": "stream",
     "text": [
      "['c', 'cpp', 'java', ['php', 'python', 'goo']]\n",
      "['php', 'python', 'goo']\n",
      "None\n"
     ]
    }
   ],
   "source": [
    "l1 =[\"c\",\"cpp\",\"java\",]\n",
    "l2 =[\"php\",\"python\",\"goo\"]\n",
    "l3 = l1.append(l2)\n",
    "print l1\n",
    "print l2\n",
    "print l3"
   ]
  },
  {
   "cell_type": "code",
   "execution_count": 52,
   "metadata": {},
   "outputs": [
    {
     "name": "stdout",
     "output_type": "stream",
     "text": [
      "['c', 'cpp', 'java', 'php', 'python', 'goo']\n",
      "['php', 'python', 'goo']\n",
      "None\n"
     ]
    }
   ],
   "source": [
    "l1 =[\"c\",\"cpp\",\"java\",]\n",
    "l2 =[\"php\",\"python\",\"goo\"]\n",
    "l3 = l1.extend(l2)\n",
    "print l1\n",
    "print l2\n",
    "print l3"
   ]
  },
  {
   "cell_type": "code",
   "execution_count": 53,
   "metadata": {},
   "outputs": [
    {
     "name": "stdout",
     "output_type": "stream",
     "text": [
      "['c', 'cpp', 'java']\n",
      "['php', 'python', 'goo', 'c', 'cpp', 'java']\n",
      "None\n"
     ]
    }
   ],
   "source": [
    "l1 =[\"c\",\"cpp\",\"java\",]\n",
    "l2 =[\"php\",\"python\",\"goo\"]\n",
    "l3 = l2.extend(l1)\n",
    "print l1\n",
    "print l2\n",
    "print l3"
   ]
  },
  {
   "cell_type": "code",
   "execution_count": 55,
   "metadata": {},
   "outputs": [
    {
     "name": "stdout",
     "output_type": "stream",
     "text": [
      "l1=  ['c', 'cpp', 'python']\n"
     ]
    }
   ],
   "source": [
    "l1 =[\"c\",\"cpp\",\"java\",]\n",
    "\n",
    "l1[2]=\"python\"            # list supports its asssigned values \n",
    "print \"l1= \",l1"
   ]
  },
  {
   "cell_type": "code",
   "execution_count": 60,
   "metadata": {},
   "outputs": [
    {
     "name": "stdout",
     "output_type": "stream",
     "text": [
      "['python', 'cpp', 'java']\n"
     ]
    }
   ],
   "source": [
    "l1 =[\"c\",\"cpp\",\"java\",]\n",
    "l1[0]=\"python\"\n",
    "print  l1\n"
   ]
  },
  {
   "cell_type": "code",
   "execution_count": 62,
   "metadata": {},
   "outputs": [
    {
     "name": "stdout",
     "output_type": "stream",
     "text": [
      "l2= ['c', 'cpp', 'python']\n",
      "l1= ['c', 'cpp', 'python']\n"
     ]
    }
   ],
   "source": [
    "l1 =[\"c\",\"cpp\",\"java\",]\n",
    "l2 = l1                  #l1=l2 so those are same values\n",
    "l1[2]=\"python\"\n",
    "print \"l2=\",l2\n",
    "print\"l1=\",l1"
   ]
  },
  {
   "cell_type": "code",
   "execution_count": 63,
   "metadata": {},
   "outputs": [
    {
     "name": "stdout",
     "output_type": "stream",
     "text": [
      "['c', 'cpp', 'java']\n"
     ]
    }
   ],
   "source": [
    "l1 =[\"c\",\"cpp\",\"java\",]\n",
    "l2 = l1[:]\n",
    "print l2"
   ]
  },
  {
   "cell_type": "code",
   "execution_count": 65,
   "metadata": {},
   "outputs": [
    {
     "name": "stdout",
     "output_type": "stream",
     "text": [
      "l2= ['c', 'cpp', 'java']\n",
      "l1= ['c', 'cpp', 'python']\n"
     ]
    }
   ],
   "source": [
    "l1 =[\"c\",\"cpp\",\"java\",]\n",
    "l2 = l1[:]\n",
    "l1[2]=\"python\"\n",
    "\n",
    "print\"l2=\", l2\n",
    "print\"l1=\",l1"
   ]
  },
  {
   "cell_type": "code",
   "execution_count": null,
   "metadata": {},
   "outputs": [],
   "source": [
    "l1 = [1000,200,3000]\n",
    "l2 = l1\n",
    "l1[2]=4000\n",
    "print \"l2=\",l2\n",
    "print \"l1=\",l1\n"
   ]
  },
  {
   "cell_type": "code",
   "execution_count": null,
   "metadata": {},
   "outputs": [],
   "source": [
    "l1 = [1000,200,3000]\n",
    "l2 = l1[:]\n",
    "l1[2]=4000\n",
    "print \"l2=\",l2\n",
    "print \"l1=\",l1\n"
   ]
  },
  {
   "cell_type": "code",
   "execution_count": null,
   "metadata": {},
   "outputs": [],
   "source": [
    "l1 = [1000,200,3000]\n",
    "l2 = [1000,200,3000]\n",
    "l1[2]=4000\n",
    "print \"l2=\",l2\n",
    "print \"l1=\",l1\n"
   ]
  }
 ],
 "metadata": {
  "kernelspec": {
   "display_name": "Python 2",
   "language": "python",
   "name": "python2"
  },
  "language_info": {
   "codemirror_mode": {
    "name": "ipython",
    "version": 2
   },
   "file_extension": ".py",
   "mimetype": "text/x-python",
   "name": "python",
   "nbconvert_exporter": "python",
   "pygments_lexer": "ipython2",
   "version": "2.7.15rc1"
  }
 },
 "nbformat": 4,
 "nbformat_minor": 2
}
