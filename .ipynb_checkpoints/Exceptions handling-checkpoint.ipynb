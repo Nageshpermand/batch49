{
 "cells": [
  {
   "cell_type": "code",
   "execution_count": 1,
   "metadata": {},
   "outputs": [
    {
     "name": "stdout",
     "output_type": "stream",
     "text": [
      "10 20.0\n",
      "result=  0.5\n"
     ]
    }
   ],
   "source": [
    "a=10\n",
    "b=20.0\n",
    "print a,b\n",
    "result=a/b\n",
    "print \"result= \",result"
   ]
  },
  {
   "cell_type": "code",
   "execution_count": 2,
   "metadata": {},
   "outputs": [
    {
     "name": "stdout",
     "output_type": "stream",
     "text": [
      "10 20.0\n",
      "result=  0.5\n"
     ]
    }
   ],
   "source": [
    "a=10\n",
    "b=20.0\n",
    "print a,b\n",
    "result=a/b\n",
    "print \"result= \",result"
   ]
  },
  {
   "cell_type": "code",
   "execution_count": 3,
   "metadata": {},
   "outputs": [
    {
     "ename": "SyntaxError",
     "evalue": "invalid syntax (<ipython-input-3-6bb6d79ffb96>, line 5)",
     "output_type": "error",
     "traceback": [
      "\u001b[0;36m  File \u001b[0;32m\"<ipython-input-3-6bb6d79ffb96>\"\u001b[0;36m, line \u001b[0;32m5\u001b[0m\n\u001b[0;31m    print \"result= \"result\u001b[0m\n\u001b[0m                         ^\u001b[0m\n\u001b[0;31mSyntaxError\u001b[0m\u001b[0;31m:\u001b[0m invalid syntax\n"
     ]
    }
   ],
   "source": [
    "a=10\n",
    "b=20.0\n",
    "print a,b\n",
    "result=a/b\n",
    "print \"result= \"result"
   ]
  },
  {
   "cell_type": "code",
   "execution_count": 4,
   "metadata": {},
   "outputs": [
    {
     "name": "stdout",
     "output_type": "stream",
     "text": [
      "10 0.0\n"
     ]
    },
    {
     "ename": "ZeroDivisionError",
     "evalue": "float division by zero",
     "output_type": "error",
     "traceback": [
      "\u001b[0;31m---------------------------------------------------------------------------\u001b[0m",
      "\u001b[0;31mZeroDivisionError\u001b[0m                         Traceback (most recent call last)",
      "\u001b[0;32m<ipython-input-4-7252d22cb744>\u001b[0m in \u001b[0;36m<module>\u001b[0;34m()\u001b[0m\n\u001b[1;32m      2\u001b[0m \u001b[0mb\u001b[0m\u001b[0;34m=\u001b[0m\u001b[0;36m0.0\u001b[0m\u001b[0;34m\u001b[0m\u001b[0m\n\u001b[1;32m      3\u001b[0m \u001b[0;32mprint\u001b[0m \u001b[0ma\u001b[0m\u001b[0;34m,\u001b[0m\u001b[0mb\u001b[0m\u001b[0;34m\u001b[0m\u001b[0m\n\u001b[0;32m----> 4\u001b[0;31m \u001b[0mresult\u001b[0m\u001b[0;34m=\u001b[0m\u001b[0ma\u001b[0m\u001b[0;34m/\u001b[0m\u001b[0mb\u001b[0m\u001b[0;34m\u001b[0m\u001b[0m\n\u001b[0m\u001b[1;32m      5\u001b[0m \u001b[0;32mprint\u001b[0m \u001b[0;34m\"result= \"\u001b[0m\u001b[0;34m,\u001b[0m\u001b[0mresult\u001b[0m\u001b[0;34m\u001b[0m\u001b[0m\n",
      "\u001b[0;31mZeroDivisionError\u001b[0m: float division by zero"
     ]
    }
   ],
   "source": [
    "a=10\n",
    "b=0.0\n",
    "print a,b\n",
    "result=a/b\n",
    "print \"result= \",result"
   ]
  },
  {
   "cell_type": "code",
   "execution_count": 5,
   "metadata": {},
   "outputs": [
    {
     "name": "stdout",
     "output_type": "stream",
     "text": [
      "enter a number.1: 12\n",
      "enter a number.2: 34\n",
      "before conversation: n1=12, n2=34\n",
      "before conversation: n1=12, n2=34\n",
      "result=  0\n",
      "other statement inn program\n",
      "thankypou\n"
     ]
    }
   ],
   "source": [
    "n1=raw_input(\"enter a number.1: \")\n",
    "n2=raw_input(\"enter a number.2: \")\n",
    "print \"before conversation: n1=%s, n2=%s\"%(n1,n2)\n",
    "n1=int(n1)\n",
    "n2=int(n2)\n",
    "print \"before conversation: n1=%s, n2=%s\"%(n1,n2)\n",
    "result=n1/n2\n",
    "print \"result= \",result\n",
    "print \"other statement inn program\"\n",
    "print \"thankypou\"\n"
   ]
  },
  {
   "cell_type": "code",
   "execution_count": 6,
   "metadata": {},
   "outputs": [
    {
     "name": "stdout",
     "output_type": "stream",
     "text": [
      "enter a number.1: n1\n",
      "enter a number.2: n2\n",
      "before conversation: n1=n1, n2=n2\n"
     ]
    },
    {
     "ename": "ValueError",
     "evalue": "invalid literal for int() with base 10: 'n1'",
     "output_type": "error",
     "traceback": [
      "\u001b[0;31m---------------------------------------------------------------------------\u001b[0m",
      "\u001b[0;31mValueError\u001b[0m                                Traceback (most recent call last)",
      "\u001b[0;32m<ipython-input-6-0eaa185979ed>\u001b[0m in \u001b[0;36m<module>\u001b[0;34m()\u001b[0m\n\u001b[1;32m      2\u001b[0m \u001b[0mn2\u001b[0m\u001b[0;34m=\u001b[0m\u001b[0mraw_input\u001b[0m\u001b[0;34m(\u001b[0m\u001b[0;34m\"enter a number.2: \"\u001b[0m\u001b[0;34m)\u001b[0m\u001b[0;34m\u001b[0m\u001b[0m\n\u001b[1;32m      3\u001b[0m \u001b[0;32mprint\u001b[0m \u001b[0;34m\"before conversation: n1=%s, n2=%s\"\u001b[0m\u001b[0;34m%\u001b[0m\u001b[0;34m(\u001b[0m\u001b[0mn1\u001b[0m\u001b[0;34m,\u001b[0m\u001b[0mn2\u001b[0m\u001b[0;34m)\u001b[0m\u001b[0;34m\u001b[0m\u001b[0m\n\u001b[0;32m----> 4\u001b[0;31m \u001b[0mn1\u001b[0m\u001b[0;34m=\u001b[0m\u001b[0mint\u001b[0m\u001b[0;34m(\u001b[0m\u001b[0mn1\u001b[0m\u001b[0;34m)\u001b[0m\u001b[0;34m\u001b[0m\u001b[0m\n\u001b[0m\u001b[1;32m      5\u001b[0m \u001b[0mn2\u001b[0m\u001b[0;34m=\u001b[0m\u001b[0mint\u001b[0m\u001b[0;34m(\u001b[0m\u001b[0mn2\u001b[0m\u001b[0;34m)\u001b[0m\u001b[0;34m\u001b[0m\u001b[0m\n\u001b[1;32m      6\u001b[0m \u001b[0;32mprint\u001b[0m \u001b[0;34m\"before conversation: n1=%s, n2=%s\"\u001b[0m\u001b[0;34m%\u001b[0m\u001b[0;34m(\u001b[0m\u001b[0mn1\u001b[0m\u001b[0;34m,\u001b[0m\u001b[0mn2\u001b[0m\u001b[0;34m)\u001b[0m\u001b[0;34m\u001b[0m\u001b[0m\n",
      "\u001b[0;31mValueError\u001b[0m: invalid literal for int() with base 10: 'n1'"
     ]
    }
   ],
   "source": [
    "n1=raw_input(\"enter a number.1: \")\n",
    "n2=raw_input(\"enter a number.2: \")\n",
    "print \"before conversation: n1=%s, n2=%s\"%(n1,n2)\n",
    "n1=int(n1)\n",
    "n2=int(n2)\n",
    "print \"before conversation: n1=%s, n2=%s\"%(n1,n2)\n",
    "result=n1/n2\n",
    "print \"result= \",result\n",
    "print \"other statement inn program\"\n",
    "print \"thankypou\"\n",
    "                                          #value error in syntax compiling"
   ]
  },
  {
   "cell_type": "code",
   "execution_count": 7,
   "metadata": {},
   "outputs": [
    {
     "name": "stdout",
     "output_type": "stream",
     "text": [
      "enter a number.1: 12\n",
      "enter a number.2: 0\n",
      "before conversation: n1=12, n2=0\n",
      "before conversation: n1=12, n2=0\n"
     ]
    },
    {
     "ename": "ZeroDivisionError",
     "evalue": "integer division or modulo by zero",
     "output_type": "error",
     "traceback": [
      "\u001b[0;31m---------------------------------------------------------------------------\u001b[0m",
      "\u001b[0;31mZeroDivisionError\u001b[0m                         Traceback (most recent call last)",
      "\u001b[0;32m<ipython-input-7-0eaa185979ed>\u001b[0m in \u001b[0;36m<module>\u001b[0;34m()\u001b[0m\n\u001b[1;32m      5\u001b[0m \u001b[0mn2\u001b[0m\u001b[0;34m=\u001b[0m\u001b[0mint\u001b[0m\u001b[0;34m(\u001b[0m\u001b[0mn2\u001b[0m\u001b[0;34m)\u001b[0m\u001b[0;34m\u001b[0m\u001b[0m\n\u001b[1;32m      6\u001b[0m \u001b[0;32mprint\u001b[0m \u001b[0;34m\"before conversation: n1=%s, n2=%s\"\u001b[0m\u001b[0;34m%\u001b[0m\u001b[0;34m(\u001b[0m\u001b[0mn1\u001b[0m\u001b[0;34m,\u001b[0m\u001b[0mn2\u001b[0m\u001b[0;34m)\u001b[0m\u001b[0;34m\u001b[0m\u001b[0m\n\u001b[0;32m----> 7\u001b[0;31m \u001b[0mresult\u001b[0m\u001b[0;34m=\u001b[0m\u001b[0mn1\u001b[0m\u001b[0;34m/\u001b[0m\u001b[0mn2\u001b[0m\u001b[0;34m\u001b[0m\u001b[0m\n\u001b[0m\u001b[1;32m      8\u001b[0m \u001b[0;32mprint\u001b[0m \u001b[0;34m\"result= \"\u001b[0m\u001b[0;34m,\u001b[0m\u001b[0mresult\u001b[0m\u001b[0;34m\u001b[0m\u001b[0m\n\u001b[1;32m      9\u001b[0m \u001b[0;32mprint\u001b[0m \u001b[0;34m\"other statement inn program\"\u001b[0m\u001b[0;34m\u001b[0m\u001b[0m\n",
      "\u001b[0;31mZeroDivisionError\u001b[0m: integer division or modulo by zero"
     ]
    }
   ],
   "source": [
    "n1=raw_input(\"enter a number.1: \")\n",
    "n2=raw_input(\"enter a number.2: \")\n",
    "print \"before conversation: n1=%s, n2=%s\"%(n1,n2)\n",
    "n1=int(n1)\n",
    "n2=int(n2)\n",
    "print \"before conversation: n1=%s, n2=%s\"%(n1,n2)\n",
    "result=n1/n2\n",
    "print \"result= \",result\n",
    "print \"other statement inn program\"\n",
    "print \"thankypou\"\n",
    "                                      #zerodivisionerror in runprogram"
   ]
  },
  {
   "cell_type": "code",
   "execution_count": 8,
   "metadata": {},
   "outputs": [
    {
     "name": "stdout",
     "output_type": "stream",
     "text": [
      "enter a number.1: 12\n",
      "enter a number.2: 6\n",
      "before conversation: n1=12, n2=6\n",
      "before conversation: n1=12, n2=6\n",
      "result=  2\n",
      "other statement inn program\n",
      "thankypou\n"
     ]
    }
   ],
   "source": [
    "try:\n",
    "    n1=raw_input(\"enter a number.1: \")\n",
    "    n2=raw_input(\"enter a number.2: \")\n",
    "    print \"before conversation: n1=%s, n2=%s\"%(n1,n2)\n",
    "    n1=int(n1)\n",
    "    n2=int(n2)\n",
    "    print \"before conversation: n1=%s, n2=%s\"%(n1,n2)\n",
    "    result=n1/n2\n",
    "    print \"result= \",result\n",
    "    print \"other statement inn program\"\n",
    "    print \"thankypou\"\n",
    "except:\n",
    "    print \"something went wrong\""
   ]
  },
  {
   "cell_type": "code",
   "execution_count": 9,
   "metadata": {},
   "outputs": [
    {
     "name": "stdout",
     "output_type": "stream",
     "text": [
      "enter a number.1: 1.2\n",
      "enter a number.2: 30\n",
      "before conversation: n1=1.2, n2=30\n",
      "something went wrong\n"
     ]
    }
   ],
   "source": [
    "try:\n",
    "    n1=raw_input(\"enter a number.1: \")\n",
    "    n2=raw_input(\"enter a number.2: \")\n",
    "    print \"before conversation: n1=%s, n2=%s\"%(n1,n2)\n",
    "    n1=int(n1)\n",
    "    n2=int(n2)\n",
    "    print \"before conversation: n1=%s, n2=%s\"%(n1,n2)\n",
    "    result=n1/n2\n",
    "    print \"result= \",result\n",
    "    print \"other statement inn program\"\n",
    "    print \"thankypou\"\n",
    "except:\n",
    "    print \"something went wrong\""
   ]
  },
  {
   "cell_type": "code",
   "execution_count": 10,
   "metadata": {},
   "outputs": [
    {
     "name": "stdout",
     "output_type": "stream",
     "text": [
      "enter a number.1: 1.2\n",
      "enter a number.2: 30\n",
      "before conversation: n1=1.2, n2=30\n"
     ]
    },
    {
     "ename": "ValueError",
     "evalue": "invalid literal for int() with base 10: '1.2'",
     "output_type": "error",
     "traceback": [
      "\u001b[0;31m---------------------------------------------------------------------------\u001b[0m",
      "\u001b[0;31mValueError\u001b[0m                                Traceback (most recent call last)",
      "\u001b[0;32m<ipython-input-10-323c2cd2abcc>\u001b[0m in \u001b[0;36m<module>\u001b[0;34m()\u001b[0m\n\u001b[1;32m      2\u001b[0m \u001b[0mn2\u001b[0m\u001b[0;34m=\u001b[0m\u001b[0mraw_input\u001b[0m\u001b[0;34m(\u001b[0m\u001b[0;34m\"enter a number.2: \"\u001b[0m\u001b[0;34m)\u001b[0m\u001b[0;34m\u001b[0m\u001b[0m\n\u001b[1;32m      3\u001b[0m \u001b[0;32mprint\u001b[0m \u001b[0;34m\"before conversation: n1=%s, n2=%s\"\u001b[0m\u001b[0;34m%\u001b[0m\u001b[0;34m(\u001b[0m\u001b[0mn1\u001b[0m\u001b[0;34m,\u001b[0m\u001b[0mn2\u001b[0m\u001b[0;34m)\u001b[0m\u001b[0;34m\u001b[0m\u001b[0m\n\u001b[0;32m----> 4\u001b[0;31m \u001b[0mn1\u001b[0m\u001b[0;34m=\u001b[0m\u001b[0mint\u001b[0m\u001b[0;34m(\u001b[0m\u001b[0mn1\u001b[0m\u001b[0;34m)\u001b[0m\u001b[0;34m\u001b[0m\u001b[0m\n\u001b[0m\u001b[1;32m      5\u001b[0m \u001b[0mn2\u001b[0m\u001b[0;34m=\u001b[0m\u001b[0mint\u001b[0m\u001b[0;34m(\u001b[0m\u001b[0mn2\u001b[0m\u001b[0;34m)\u001b[0m\u001b[0;34m\u001b[0m\u001b[0m\n\u001b[1;32m      6\u001b[0m \u001b[0;32mprint\u001b[0m \u001b[0;34m\"before conversation: n1=%s, n2=%s\"\u001b[0m\u001b[0;34m%\u001b[0m\u001b[0;34m(\u001b[0m\u001b[0mn1\u001b[0m\u001b[0;34m,\u001b[0m\u001b[0mn2\u001b[0m\u001b[0;34m)\u001b[0m\u001b[0;34m\u001b[0m\u001b[0m\n",
      "\u001b[0;31mValueError\u001b[0m: invalid literal for int() with base 10: '1.2'"
     ]
    }
   ],
   "source": [
    "n1=raw_input(\"enter a number.1: \")\n",
    "n2=raw_input(\"enter a number.2: \")\n",
    "print \"before conversation: n1=%s, n2=%s\"%(n1,n2)\n",
    "n1=int(n1)\n",
    "n2=int(n2)\n",
    "print \"before conversation: n1=%s, n2=%s\"%(n1,n2)\n",
    "result=n1/n2\n",
    "print \"result= \",result\n",
    "print \"other statement inn program\"\n",
    "print \"thankyou\"\n"
   ]
  },
  {
   "cell_type": "code",
   "execution_count": 11,
   "metadata": {},
   "outputs": [
    {
     "name": "stdout",
     "output_type": "stream",
     "text": [
      "enter a number.1: 12\n",
      "enter a number.2: 6\n",
      "before conversation: n1=12, n2=6\n",
      "before conversation: n1=12, n2=6\n",
      "result=  2\n",
      "other statement inn program\n",
      "thankyou\n"
     ]
    }
   ],
   "source": [
    "n1=raw_input(\"enter a number.1: \")\n",
    "n2=raw_input(\"enter a number.2: \")\n",
    "print \"before conversation: n1=%s, n2=%s\"%(n1,n2)\n",
    "n1=int(n1)\n",
    "n2=int(n2)\n",
    "print \"before conversation: n1=%s, n2=%s\"%(n1,n2)\n",
    "result=n1/n2\n",
    "print \"result= \",result\n",
    "print \"other statement inn program\"\n",
    "print \"thankyou\"\n"
   ]
  },
  {
   "cell_type": "code",
   "execution_count": 14,
   "metadata": {},
   "outputs": [
    {
     "name": "stdout",
     "output_type": "stream",
     "text": [
      "enter a number.1: 40.2\n",
      "enter a number.2: 2.2\n",
      "before conversation: n1=40.2, n2=2.2\n",
      "before conversation: n1=40.2, n2=2.2\n",
      "result=  18.2727272727\n",
      "other statement inn program\n",
      "thankyou\n"
     ]
    }
   ],
   "source": [
    "n1=raw_input(\"enter a number.1: \")\n",
    "n2=raw_input(\"enter a number.2: \")\n",
    "print \"before conversation: n1=%s, n2=%s\"%(n1,n2)\n",
    "n1=float(n1)\n",
    "n2=float(n2)\n",
    "print \"before conversation: n1=%s, n2=%s\"%(n1,n2)\n",
    "result=n1/n2\n",
    "print \"result= \",result\n",
    "print \"other statement inn program\"\n",
    "print \"thankyou\"\n"
   ]
  },
  {
   "cell_type": "code",
   "execution_count": 15,
   "metadata": {},
   "outputs": [
    {
     "name": "stdout",
     "output_type": "stream",
     "text": [
      "enter a number.1: 12\n",
      "enter a number.2: 0\n",
      "before conversation: n1=12, n2=0\n",
      "before conversation: n1=12.0, n2=0.0\n"
     ]
    },
    {
     "ename": "ZeroDivisionError",
     "evalue": "float division by zero",
     "output_type": "error",
     "traceback": [
      "\u001b[0;31m---------------------------------------------------------------------------\u001b[0m",
      "\u001b[0;31mZeroDivisionError\u001b[0m                         Traceback (most recent call last)",
      "\u001b[0;32m<ipython-input-15-eed2fe1c2bab>\u001b[0m in \u001b[0;36m<module>\u001b[0;34m()\u001b[0m\n\u001b[1;32m      5\u001b[0m \u001b[0mn2\u001b[0m\u001b[0;34m=\u001b[0m\u001b[0mfloat\u001b[0m\u001b[0;34m(\u001b[0m\u001b[0mn2\u001b[0m\u001b[0;34m)\u001b[0m\u001b[0;34m\u001b[0m\u001b[0m\n\u001b[1;32m      6\u001b[0m \u001b[0;32mprint\u001b[0m \u001b[0;34m\"before conversation: n1=%s, n2=%s\"\u001b[0m\u001b[0;34m%\u001b[0m\u001b[0;34m(\u001b[0m\u001b[0mn1\u001b[0m\u001b[0;34m,\u001b[0m\u001b[0mn2\u001b[0m\u001b[0;34m)\u001b[0m\u001b[0;34m\u001b[0m\u001b[0m\n\u001b[0;32m----> 7\u001b[0;31m \u001b[0mresult\u001b[0m\u001b[0;34m=\u001b[0m\u001b[0mn1\u001b[0m\u001b[0;34m/\u001b[0m\u001b[0mn2\u001b[0m\u001b[0;34m\u001b[0m\u001b[0m\n\u001b[0m\u001b[1;32m      8\u001b[0m \u001b[0;32mprint\u001b[0m \u001b[0;34m\"result= \"\u001b[0m\u001b[0;34m,\u001b[0m\u001b[0mresult\u001b[0m\u001b[0;34m\u001b[0m\u001b[0m\n\u001b[1;32m      9\u001b[0m \u001b[0;32mprint\u001b[0m \u001b[0;34m\"other statement inn program\"\u001b[0m\u001b[0;34m\u001b[0m\u001b[0m\n",
      "\u001b[0;31mZeroDivisionError\u001b[0m: float division by zero"
     ]
    }
   ],
   "source": [
    "n1=raw_input(\"enter a number.1: \")\n",
    "n2=raw_input(\"enter a number.2: \")\n",
    "print \"before conversation: n1=%s, n2=%s\"%(n1,n2)\n",
    "n1=float(n1)\n",
    "n2=float(n2)\n",
    "print \"before conversation: n1=%s, n2=%s\"%(n1,n2)\n",
    "result=n1/n2\n",
    "print \"result= \",result\n",
    "print \"other statement inn program\"\n",
    "print \"thankyou\"\n"
   ]
  },
  {
   "cell_type": "code",
   "execution_count": 16,
   "metadata": {},
   "outputs": [
    {
     "name": "stdout",
     "output_type": "stream",
     "text": [
      "enter a number.1: 12\n",
      "enter a number.2: 6\n",
      "before conversation: n1=12, n2=6\n",
      "before conversation: n1=12.0, n2=6.0\n",
      "result=  2.0\n",
      "other statement inn program\n",
      "thankyou\n"
     ]
    }
   ],
   "source": [
    "n1=raw_input(\"enter a number.1: \")\n",
    "n2=raw_input(\"enter a number.2: \")\n",
    "print \"before conversation: n1=%s, n2=%s\"%(n1,n2)\n",
    "n1=float(n1)\n",
    "n2=float(n2)\n",
    "print \"before conversation: n1=%s, n2=%s\"%(n1,n2)\n",
    "result=n1/n2\n",
    "print \"result= \",result\n",
    "print \"other statement inn program\"\n",
    "print \"thankyou\"\n"
   ]
  },
  {
   "cell_type": "code",
   "execution_count": 17,
   "metadata": {},
   "outputs": [
    {
     "name": "stdout",
     "output_type": "stream",
     "text": [
      "enter a number.1: 12\n",
      "enter a number.2: sdfga\n",
      "before conversation: n1=12, n2=sdfga\n"
     ]
    },
    {
     "ename": "ValueError",
     "evalue": "could not convert string to float: sdfga",
     "output_type": "error",
     "traceback": [
      "\u001b[0;31m---------------------------------------------------------------------------\u001b[0m",
      "\u001b[0;31mValueError\u001b[0m                                Traceback (most recent call last)",
      "\u001b[0;32m<ipython-input-17-eed2fe1c2bab>\u001b[0m in \u001b[0;36m<module>\u001b[0;34m()\u001b[0m\n\u001b[1;32m      3\u001b[0m \u001b[0;32mprint\u001b[0m \u001b[0;34m\"before conversation: n1=%s, n2=%s\"\u001b[0m\u001b[0;34m%\u001b[0m\u001b[0;34m(\u001b[0m\u001b[0mn1\u001b[0m\u001b[0;34m,\u001b[0m\u001b[0mn2\u001b[0m\u001b[0;34m)\u001b[0m\u001b[0;34m\u001b[0m\u001b[0m\n\u001b[1;32m      4\u001b[0m \u001b[0mn1\u001b[0m\u001b[0;34m=\u001b[0m\u001b[0mfloat\u001b[0m\u001b[0;34m(\u001b[0m\u001b[0mn1\u001b[0m\u001b[0;34m)\u001b[0m\u001b[0;34m\u001b[0m\u001b[0m\n\u001b[0;32m----> 5\u001b[0;31m \u001b[0mn2\u001b[0m\u001b[0;34m=\u001b[0m\u001b[0mfloat\u001b[0m\u001b[0;34m(\u001b[0m\u001b[0mn2\u001b[0m\u001b[0;34m)\u001b[0m\u001b[0;34m\u001b[0m\u001b[0m\n\u001b[0m\u001b[1;32m      6\u001b[0m \u001b[0;32mprint\u001b[0m \u001b[0;34m\"before conversation: n1=%s, n2=%s\"\u001b[0m\u001b[0;34m%\u001b[0m\u001b[0;34m(\u001b[0m\u001b[0mn1\u001b[0m\u001b[0;34m,\u001b[0m\u001b[0mn2\u001b[0m\u001b[0;34m)\u001b[0m\u001b[0;34m\u001b[0m\u001b[0m\n\u001b[1;32m      7\u001b[0m \u001b[0mresult\u001b[0m\u001b[0;34m=\u001b[0m\u001b[0mn1\u001b[0m\u001b[0;34m/\u001b[0m\u001b[0mn2\u001b[0m\u001b[0;34m\u001b[0m\u001b[0m\n",
      "\u001b[0;31mValueError\u001b[0m: could not convert string to float: sdfga"
     ]
    }
   ],
   "source": [
    "n1=raw_input(\"enter a number.1: \")\n",
    "n2=raw_input(\"enter a number.2: \")\n",
    "print \"before conversation: n1=%s, n2=%s\"%(n1,n2)\n",
    "n1=float(n1)\n",
    "n2=float(n2)\n",
    "print \"before conversation: n1=%s, n2=%s\"%(n1,n2)\n",
    "result=n1/n2\n",
    "print \"result= \",result\n",
    "print \"other statement inn program\"\n",
    "print \"thankyou\"\n"
   ]
  },
  {
   "cell_type": "code",
   "execution_count": 18,
   "metadata": {},
   "outputs": [
    {
     "name": "stdout",
     "output_type": "stream",
     "text": [
      "enter a number.1: 12\n",
      "enter a number.2: sdfgs\n",
      "before conversation: n1=12, n2=sdfgs\n",
      "something went wrong\n"
     ]
    }
   ],
   "source": [
    "try:\n",
    "    n1=raw_input(\"enter a number.1: \")\n",
    "    n2=raw_input(\"enter a number.2: \")\n",
    "    print \"before conversation: n1=%s, n2=%s\"%(n1,n2)    #this is not necessery in try line\n",
    "    n1=float(n1)\n",
    "    n2=float(n2)\n",
    "    print \"before conversation: n1=%s, n2=%s\"%(n1,n2)\n",
    "    result=n1/n2\n",
    "    print \"result= \",result\n",
    "    print \"other statement inn program\"\n",
    "    print \"thankyou\"\n",
    "except:\n",
    "    print\"something went wrong\"\n"
   ]
  },
  {
   "cell_type": "code",
   "execution_count": 19,
   "metadata": {},
   "outputs": [
    {
     "name": "stdout",
     "output_type": "stream",
     "text": [
      "enter a number.1: 12\n",
      "enter a number.2: 6\n",
      "before conversation: n1=12, n2=6\n",
      "before conversation: n1=12.0, n2=6.0\n",
      "result=  2.0\n",
      "other statement inn program\n",
      "thankyou\n"
     ]
    }
   ],
   "source": [
    "n1=raw_input(\"enter a number.1: \")\n",
    "n2=raw_input(\"enter a number.2: \")\n",
    "print \"before conversation: n1=%s, n2=%s\"%(n1,n2)\n",
    "try:\n",
    "    n1=float(n1)\n",
    "    n2=float(n2)\n",
    "    print \"before conversation: n1=%s, n2=%s\"%(n1,n2)\n",
    "    result=n1/n2\n",
    "    print \"result= \",result\n",
    "except:\n",
    "    print\"something went wrong\"\n",
    "print \"other statement inn program\"\n",
    "print \"thankyou\""
   ]
  },
  {
   "cell_type": "code",
   "execution_count": 20,
   "metadata": {},
   "outputs": [
    {
     "name": "stdout",
     "output_type": "stream",
     "text": [
      "enter a number.1: 12\n",
      "enter a number.2: sdfghj\n",
      "before conversation: n1=12, n2=sdfghj\n",
      "something went wrong\n",
      "other statement inn program\n",
      "thankyou\n"
     ]
    }
   ],
   "source": [
    "n1=raw_input(\"enter a number.1: \")\n",
    "n2=raw_input(\"enter a number.2: \")\n",
    "print \"before conversation: n1=%s, n2=%s\"%(n1,n2)\n",
    "try:\n",
    "    n1=float(n1)\n",
    "    n2=float(n2)\n",
    "    print \"before conversation: n1=%s, n2=%s\"%(n1,n2)\n",
    "    result=n1/n2\n",
    "    print \"result= \",result\n",
    "except:\n",
    "    print\"something went wrong\"\n",
    "print \"other statement inn program\"\n",
    "print \"thankyou\""
   ]
  },
  {
   "cell_type": "code",
   "execution_count": 21,
   "metadata": {},
   "outputs": [
    {
     "name": "stdout",
     "output_type": "stream",
     "text": [
      "enter a number.1: 12\n",
      "enter a number.2: 6\n",
      "before conversation: n1=12, n2=6\n",
      "before conversation: n1=12.0, n2=6.0\n",
      "result=  2.0\n",
      "other statement inn program\n",
      "thankyou\n"
     ]
    }
   ],
   "source": [
    "n1=raw_input(\"enter a number.1: \")\n",
    "n2=raw_input(\"enter a number.2: \")\n",
    "print \"before conversation: n1=%s, n2=%s\"%(n1,n2)\n",
    "try:\n",
    "    n1=float(n1)\n",
    "    n2=float(n2)\n",
    "    print \"before conversation: n1=%s, n2=%s\"%(n1,n2)\n",
    "    result=n1/n2\n",
    "    print \"result= \",result\n",
    "except:\n",
    "    print\"something went wrong\"\n",
    "print \"other statement inn program\"\n",
    "print \"thankyou\""
   ]
  },
  {
   "cell_type": "code",
   "execution_count": 22,
   "metadata": {},
   "outputs": [
    {
     "name": "stdout",
     "output_type": "stream",
     "text": [
      "enter a number.1: 12.0\n",
      "enter a number.2: 0.3\n",
      "before conversation: n1=12.0, n2=0.3\n",
      "before conversation: n1=12.0, n2=0.3\n",
      "result=  40.0\n",
      "other statement inn program\n",
      "thankyou\n"
     ]
    }
   ],
   "source": [
    "n1=raw_input(\"enter a number.1: \")\n",
    "n2=raw_input(\"enter a number.2: \")\n",
    "print \"before conversation: n1=%s, n2=%s\"%(n1,n2)\n",
    "try:\n",
    "    n1=float(n1)\n",
    "    n2=float(n2)\n",
    "    print \"before conversation: n1=%s, n2=%s\"%(n1,n2)\n",
    "    result=n1/n2\n",
    "    print \"result= \",result\n",
    "except:\n",
    "    print\"something went wrong\"\n",
    "print \"other statement inn program\"\n",
    "print \"thankyou\"\n"
   ]
  },
  {
   "cell_type": "code",
   "execution_count": 23,
   "metadata": {},
   "outputs": [
    {
     "name": "stdout",
     "output_type": "stream",
     "text": [
      "enter a number.1: 12\n",
      "enter a number.2: 2\n",
      "before conversation: n1=12, n2=2\n",
      "before conversation: n1=12.0, n2=2.0\n",
      "result=  6.0\n",
      "other statement inn program\n",
      "thankyou\n"
     ]
    }
   ],
   "source": [
    "n1=raw_input(\"enter a number.1: \")\n",
    "n2=raw_input(\"enter a number.2: \")\n",
    "print \"before conversation: n1=%s, n2=%s\"%(n1,n2)\n",
    "try:\n",
    "    n1=float(n1)\n",
    "    n2=float(n2)\n",
    "    print \"before conversation: n1=%s, n2=%s\"%(n1,n2)\n",
    "    result=n1/n2\n",
    "    print \"result= \",result\n",
    "except:\n",
    "    print\"something went wrong\"\n",
    "print \"other statement inn program\"\n",
    "print \"thankyou\"\n"
   ]
  },
  {
   "cell_type": "code",
   "execution_count": 24,
   "metadata": {},
   "outputs": [
    {
     "name": "stdout",
     "output_type": "stream",
     "text": [
      "enter a number.1: 12\n",
      "enter a number.2: 4\n",
      "before conversation: n1=12, n2=4\n",
      "before conversation: n1=12.0, n2=4.0\n",
      "result=  3.0\n",
      "other statement inn program\n",
      "thankyou\n"
     ]
    }
   ],
   "source": [
    "n1=raw_input(\"enter a number.1: \")\n",
    "n2=raw_input(\"enter a number.2: \")\n",
    "print \"before conversation: n1=%s, n2=%s\"%(n1,n2)\n",
    "try:\n",
    "    n1=float(n1)\n",
    "    n2=float(n2)\n",
    "    print \"before conversation: n1=%s, n2=%s\"%(n1,n2)\n",
    "    result=n1/n2\n",
    "    print \"result= \",result\n",
    "except:\n",
    "    print\"something went wrong\"\n",
    "print \"other statement inn program\"\n",
    "print \"thankyou\"\n",
    "\n"
   ]
  },
  {
   "cell_type": "code",
   "execution_count": 25,
   "metadata": {},
   "outputs": [
    {
     "name": "stdout",
     "output_type": "stream",
     "text": [
      "enter a number.1: 12\n",
      "enter a number.2: 2\n",
      "before conversation: n1=12, n2=2\n",
      "before conversation: n1=12.0, n2=2.0\n",
      "result=  6.0\n",
      "other statement inn program\n",
      "thankyou\n"
     ]
    }
   ],
   "source": [
    "n1=raw_input(\"enter a number.1: \")\n",
    "n2=raw_input(\"enter a number.2: \")\n",
    "print \"before conversation: n1=%s, n2=%s\"%(n1,n2)\n",
    "try:\n",
    "    n1=float(n1)\n",
    "    n2=float(n2)\n",
    "    print \"before conversation: n1=%s, n2=%s\"%(n1,n2)\n",
    "    result=n1/n2\n",
    "    print \"result= \",result\n",
    "except:\n",
    "    print\"something went wrong\"\n",
    "print \"other statement inn program\"\n",
    "print \"thankyou\"\n"
   ]
  },
  {
   "cell_type": "code",
   "execution_count": 26,
   "metadata": {},
   "outputs": [
    {
     "name": "stdout",
     "output_type": "stream",
     "text": [
      "enter a number.1: 12\n",
      "enter a number.2: sdfgd\n",
      "before conversation: n1=12, n2=sdfgd\n",
      "something went wrong\n",
      "other statement inn program\n",
      "thankyou\n"
     ]
    }
   ],
   "source": [
    "n1=raw_input(\"enter a number.1: \")\n",
    "n2=raw_input(\"enter a number.2: \")\n",
    "print \"before conversation: n1=%s, n2=%s\"%(n1,n2)\n",
    "try:\n",
    "    n1=float(n1)\n",
    "    n2=float(n2)\n",
    "    print \"before conversation: n1=%s, n2=%s\"%(n1,n2)\n",
    "    result=n1/n2\n",
    "    print \"result= \",result\n",
    "except:\n",
    "    print\"something went wrong\"\n",
    "print \"other statement inn program\"\n",
    "print \"thankyou\"\n"
   ]
  },
  {
   "cell_type": "code",
   "execution_count": 27,
   "metadata": {},
   "outputs": [
    {
     "name": "stdout",
     "output_type": "stream",
     "text": [
      "enter a number.1: jnak\n",
      "enter a number.2: kjadsfa\n",
      "before conversation: n1=jnak, n2=kjadsfa\n",
      "something went wrong\n",
      "other statement inn program\n",
      "thankyou\n"
     ]
    }
   ],
   "source": [
    "n1=raw_input(\"enter a number.1: \")\n",
    "n2=raw_input(\"enter a number.2: \")\n",
    "print \"before conversation: n1=%s, n2=%s\"%(n1,n2)\n",
    "try:\n",
    "    n1=float(n1)\n",
    "    n2=float(n2)\n",
    "    print \"before conversation: n1=%s, n2=%s\"%(n1,n2)\n",
    "    result=n1/n2\n",
    "    print \"result= \",result\n",
    "except:\n",
    "    print\"something went wrong\"\n",
    "print \"other statement inn program\"\n",
    "print \"thankyou\"\n"
   ]
  },
  {
   "cell_type": "code",
   "execution_count": 28,
   "metadata": {},
   "outputs": [
    {
     "name": "stdout",
     "output_type": "stream",
     "text": [
      "enter a number.1: 12\n",
      "enter a number.2: 6\n",
      "before conversation: n1=12, n2=6\n",
      "before conversation: n1=12.0, n2=6.0\n",
      "result=  2.0\n",
      "other statement inn program\n",
      "thankyou\n"
     ]
    }
   ],
   "source": [
    "n1=raw_input(\"enter a number.1: \")\n",
    "n2=raw_input(\"enter a number.2: \")\n",
    "print \"before conversation: n1=%s, n2=%s\"%(n1,n2)\n",
    "try:\n",
    "    n1=float(n1)\n",
    "    n2=float(n2)\n",
    "    print \"before conversation: n1=%s, n2=%s\"%(n1,n2)\n",
    "    result=n1/n2\n",
    "    print \"result= \",result\n",
    "except:\n",
    "    print\"something went wrong\"\n",
    "print \"other statement inn program\"\n",
    "print \"thankyou\"\n"
   ]
  },
  {
   "cell_type": "code",
   "execution_count": null,
   "metadata": {},
   "outputs": [],
   "source": []
  }
 ],
 "metadata": {
  "kernelspec": {
   "display_name": "Python 2",
   "language": "python",
   "name": "python2"
  },
  "language_info": {
   "codemirror_mode": {
    "name": "ipython",
    "version": 2
   },
   "file_extension": ".py",
   "mimetype": "text/x-python",
   "name": "python",
   "nbconvert_exporter": "python",
   "pygments_lexer": "ipython2",
   "version": "2.7.15rc1"
  }
 },
 "nbformat": 4,
 "nbformat_minor": 2
}
