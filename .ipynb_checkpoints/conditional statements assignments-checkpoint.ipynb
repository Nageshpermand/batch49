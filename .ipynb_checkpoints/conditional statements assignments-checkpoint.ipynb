{
 "cells": [
  {
   "cell_type": "code",
   "execution_count": 7,
   "metadata": {},
   "outputs": [
    {
     "name": "stdout",
     "output_type": "stream",
     "text": [
      "enter the total number of people: 100\n",
      "enter the total number of buses: 2\n",
      "enter the total number of seats for bus: 50\n",
      "there is sufficient bus seats for people\n",
      "thank you\n"
     ]
    }
   ],
   "source": [
    "\"\"\" 1. Take the input from the user for(Total number of people, total number of buses, Number of seats for bus, adjust factor). Based on four inputs\n",
    "Decide whether there is sufficient buses or not and give solution for how many extra buses required.\"\"\"\n",
    "a = int(raw_input(\"enter the total number of people: \"))\n",
    "b = int(raw_input(\"enter the total number of buses: \"))\n",
    "c = int(raw_input(\"enter the total number of seats for bus: \"))\n",
    "d =(c*b)\n",
    "if a==d:\n",
    "    print \"there is sufficient bus seats for people\"\n",
    "elif a!=d:\n",
    "    print \"there is not sufficient bus seats for people\"\n",
    "print \"thank you\"\n",
    "\n"
   ]
  },
  {
   "cell_type": "code",
   "execution_count": 11,
   "metadata": {},
   "outputs": [
    {
     "name": "stdout",
     "output_type": "stream",
     "text": [
      "enter the total number of people: 100\n",
      "enter the total number of buses: 1\n",
      "enter the total number of seats for bus: 40\n",
      "there is not sufficient bus seats for people\n",
      "thank you\n"
     ]
    }
   ],
   "source": [
    "a = int(raw_input(\"enter the total number of people: \"))\n",
    "b = int(raw_input(\"enter the total number of buses: \"))\n",
    "c = int(raw_input(\"enter the total number of seats for bus: \"))\n",
    "d =(c*b)\n",
    "if a==d:\n",
    "    print \"there is sufficient bus seats for people\"\n",
    "else:\n",
    "    print \"there is not sufficient bus seats for people\"\n",
    "print \"thank you\"\n",
    "\n"
   ]
  },
  {
   "cell_type": "code",
   "execution_count": 14,
   "metadata": {},
   "outputs": [
    {
     "name": "stdout",
     "output_type": "stream",
     "text": [
      "enter a value:4\n",
      " a  is even \n"
     ]
    }
   ],
   "source": [
    "\"\"\" 2. Take number from the user decide whether it is even or odd.\"\"\"\n",
    "a = int(input('enter a value:'))\n",
    "if (a%2) == 0:\n",
    "    print \" a  is even \"\n",
    "else:\n",
    "    print \" a is odd \""
   ]
  },
  {
   "cell_type": "code",
   "execution_count": 15,
   "metadata": {},
   "outputs": [
    {
     "name": "stdout",
     "output_type": "stream",
     "text": [
      "enter a value:23\n",
      " a is odd \n"
     ]
    }
   ],
   "source": [
    "a = int(input('enter a value:'))\n",
    "if (a%2) == 0:\n",
    "    print \" a  is even \"\n",
    "else:\n",
    "    print \" a is odd \""
   ]
  },
  {
   "cell_type": "code",
   "execution_count": 16,
   "metadata": {},
   "outputs": [
    {
     "name": "stdout",
     "output_type": "stream",
     "text": [
      "enter a value:2\n",
      " a is odd \n"
     ]
    }
   ],
   "source": [
    "a = int(input('enter a value:'))\n",
    "if (a%2) != 0:\n",
    "    print \" a  is even \"\n",
    "else:\n",
    "    print \" a is odd \"        # if we using  wrong formula"
   ]
  },
  {
   "cell_type": "code",
   "execution_count": 17,
   "metadata": {},
   "outputs": [
    {
     "name": "stdout",
     "output_type": "stream",
     "text": [
      "enter a value:40\n",
      " a  is even \n"
     ]
    }
   ],
   "source": [
    "a = int(input('enter a value:'))\n",
    "if (a%2) == 0:\n",
    "    print \" a  is even \"\n",
    "else:\n",
    "    print \" a is odd \""
   ]
  },
  {
   "cell_type": "code",
   "execution_count": 18,
   "metadata": {},
   "outputs": [
    {
     "name": "stdout",
     "output_type": "stream",
     "text": [
      "enter a number: 2\n",
      "number is positive \n"
     ]
    }
   ],
   "source": [
    "\"\"\" 3. take number from the user decide whether it is positive number or negative number\"\"\"\n",
    "a = int(raw_input(\"enter a number: \"))\n",
    "if a>0:\n",
    "    print \"number is positive \"\n",
    "else:\n",
    "    print \"number is negetive\""
   ]
  },
  {
   "cell_type": "code",
   "execution_count": 19,
   "metadata": {},
   "outputs": [
    {
     "name": "stdout",
     "output_type": "stream",
     "text": [
      "enter a number: 4\n",
      "number is negetive\n"
     ]
    }
   ],
   "source": [
    "a = int(raw_input(\"enter a number: \"))\n",
    "if a<0:\n",
    "    print \"number is positive \"\n",
    "else:\n",
    "    print \"number is negetive\""
   ]
  },
  {
   "cell_type": "code",
   "execution_count": 20,
   "metadata": {},
   "outputs": [
    {
     "name": "stdout",
     "output_type": "stream",
     "text": [
      "6\n"
     ]
    }
   ],
   "source": [
    "\"\"\"4. take a string from the user print the length. if the user not given anything then show an error message\"\"\"\n",
    "a = \"mahesh\"\n",
    "print len(a)"
   ]
  },
  {
   "cell_type": "code",
   "execution_count": 22,
   "metadata": {},
   "outputs": [
    {
     "name": "stdout",
     "output_type": "stream",
     "text": [
      "1\n"
     ]
    }
   ],
   "source": [
    "a = \" \"\n",
    "print len(a)"
   ]
  },
  {
   "cell_type": "code",
   "execution_count": 23,
   "metadata": {},
   "outputs": [
    {
     "name": "stdout",
     "output_type": "stream",
     "text": [
      "60\n",
      "-20\n",
      "800\n",
      "0\n"
     ]
    }
   ],
   "source": [
    "\"\"\"5.to perform mathematical operations. take two numbers from the user: 1. add, 2. sub, 3. mul, 4.div, 5.quit\"\"\"\n",
    "a = 20\n",
    "b = 40\n",
    "print a+b\n",
    "print a-b\n",
    "print a*b\n",
    "print a/b"
   ]
  },
  {
   "cell_type": "code",
   "execution_count": 19,
   "metadata": {},
   "outputs": [
    {
     "name": "stdout",
     "output_type": "stream",
     "text": [
      "show the menu:\n",
      "\t1. kids\n",
      "\t2. men's\n",
      "\t3. women's\n",
      "enter the kids numbers: 2\n",
      "enter the men's numbers: 4\n",
      "enter the girl's numbers: 2\n",
      "kids\n",
      "mention  error message\n",
      "mention  error message\n"
     ]
    }
   ],
   "source": [
    "\"\"\" 6.    show the menu:\n",
    "   \t\t 1. kids\n",
    "    \t\t2. Men's\n",
    "   \t\t 3. Women's\n",
    "    Show the corresponding message based on the selection. Mention error message if he enter >3.\"\"\"\n",
    "print \"show the menu:\\n\\t1. kids\\n\\t2. men's\\n\\t3. women's\"\n",
    "a = int(input(\"enter the kids numbers: \"))\n",
    "b = int(input(\"enter the men's numbers: \"))\n",
    "c = int(input(\"enter the girl's numbers: \"))\n",
    "if a<=3:\n",
    "    print \"kids\"\n",
    "else:\n",
    "    print \"mention  error message\"\n",
    "if b<=3:\n",
    "    print \"\\tmen's\"\n",
    "else:\n",
    "    print \"mention  error message\"\n",
    "if b<=3:\n",
    "    print \"women's\"\n",
    "else:\n",
    "    print \"mention  error message\"\n",
    "    "
   ]
  },
  {
   "cell_type": "code",
   "execution_count": 9,
   "metadata": {},
   "outputs": [
    {
     "name": "stdout",
     "output_type": "stream",
     "text": [
      "enter the string name: hyderabad\n",
      "enter the substring letter: d\n",
      "substring is not present in string\n"
     ]
    }
   ],
   "source": [
    "\"\"\"7.write a program to chek given substring is there in actual string or not? (search should be case insensitive)\"\"\"\n",
    "string = raw_input(\"enter the string name: \")\n",
    "sub_string = raw_input(\"enter the substring letter: \")\n",
    "if (string.find(sub_string)==-1):\n",
    "    print \"substring present in string\"\n",
    "else: \n",
    "    print \"substring is not present in string\"\n"
   ]
  },
  {
   "cell_type": "code",
   "execution_count": 10,
   "metadata": {},
   "outputs": [
    {
     "name": "stdout",
     "output_type": "stream",
     "text": [
      "enter the string name: hyderabad\n",
      "enter the substring letter: d\n",
      "substring is  present in string\n"
     ]
    }
   ],
   "source": [
    "string = raw_input(\"enter the string name: \")\n",
    "sub_string = raw_input(\"enter the substring letter: \")\n",
    "if (string.find(sub_string)==-1):\n",
    "    print \"substring present not in string\"\n",
    "else: \n",
    "    print \"substring is  present in string\""
   ]
  },
  {
   "cell_type": "code",
   "execution_count": 13,
   "metadata": {},
   "outputs": [
    {
     "name": "stdout",
     "output_type": "stream",
     "text": [
      "enter the string name: kohli\n",
      "enter the substring letter: h\n",
      "substring is  present in string\n"
     ]
    }
   ],
   "source": [
    "string = raw_input(\"enter the string name: \")\n",
    "sub_string = raw_input(\"enter the substring letter: \")\n",
    "if (string.find(sub_string)==-1):\n",
    "    print \"substring not present in string\"\n",
    "else: \n",
    "    print \"substring is  present in string\""
   ]
  },
  {
   "cell_type": "code",
   "execution_count": 14,
   "metadata": {},
   "outputs": [
    {
     "name": "stdout",
     "output_type": "stream",
     "text": [
      "14\n"
     ]
    }
   ],
   "source": [
    "\"\"\"8.Take three numbers from the user and decide which is big\"\"\"\n",
    "num_1 = 10\n",
    "num_2 = 12\n",
    "num_3 = 14\n",
    "if (num_1>num_2) and (num_1>num_3):\n",
    "    print num_1\n",
    "elif (num_2>num_1)and(num_2>num_3):\n",
    "    print num_2\n",
    "else:\n",
    "    print num_3"
   ]
  },
  {
   "cell_type": "code",
   "execution_count": 15,
   "metadata": {},
   "outputs": [
    {
     "name": "stdout",
     "output_type": "stream",
     "text": [
      "14\n"
     ]
    }
   ],
   "source": [
    "num_1 = 10\n",
    "num_2 = 12\n",
    "num_3 = 14\n",
    "if (num_1>num_2) and (num_1>num_3):\n",
    "    print num_1\n",
    "elif (num_2>num_1)and(num_2>num_3):\n",
    "    print num_2\n",
    "elif (num_3>num_1)and(num_3>num_2):\n",
    "    print num_3"
   ]
  },
  {
   "cell_type": "code",
   "execution_count": 19,
   "metadata": {},
   "outputs": [
    {
     "name": "stdout",
     "output_type": "stream",
     "text": [
      "enter a number: 2\n",
      "enter a number: 10.4\n",
      "enter a number: 8.2\n",
      "Big number is : \n",
      "10.4\n"
     ]
    }
   ],
   "source": [
    "a = int(raw_input('enter a number: '))\n",
    "b = float(raw_input('enter a number: '))\n",
    "c = float(raw_input('enter a number: '))\n",
    "print \"Big number is : \"\n",
    "if (a>b)and(a>c):\n",
    "    print c\n",
    "elif (b>c)and(b>a):\n",
    "    print b\n",
    "else:\n",
    "    print c\n"
   ]
  },
  {
   "cell_type": "code",
   "execution_count": 2,
   "metadata": {},
   "outputs": [
    {
     "name": "stdout",
     "output_type": "stream",
     "text": [
      "The person age: 26\n",
      "the person gender:male\n",
      "The person eligible for marriege in india \n"
     ]
    }
   ],
   "source": [
    "\"\"\"9.     Take age and gender from the user and decide whether he is eligible for marriage in India or not. \n",
    "Age criteria: men age>22, women>18 \"\"\"\n",
    "age = int(input(\"The person age: \"))\n",
    "gender = str(raw_input(\"the person gender:\"))\n",
    "if age>=22:\n",
    "    print \"The person eligible for marriege in india \"\n",
    "else:\n",
    "    print \"The person not eligible for marriege in india\""
   ]
  },
  {
   "cell_type": "code",
   "execution_count": null,
   "metadata": {},
   "outputs": [],
   "source": [
    "age = int(input(\"The person age: \"))\n",
    "gender = str(raw_input(\"the person gender:\"))\n",
    "if age>=22:\n",
    "    print \"The person eligible for marriege in india \"\n",
    "else:\n",
    "    print \"The person not eligible for marriege in india\""
   ]
  },
  {
   "cell_type": "code",
   "execution_count": 1,
   "metadata": {},
   "outputs": [
    {
     "name": "stdout",
     "output_type": "stream",
     "text": [
      "The person age: 20\n",
      "the person gender:male\n",
      "The person not eligible for marriege in india\n"
     ]
    }
   ],
   "source": [
    "age = int(input(\"The person age: \"))\n",
    "gender = str(raw_input(\"the person gender:\"))\n",
    "if age>=22:\n",
    "    print \"The person eligible for marriege in india \"\n",
    "else:\n",
    "    print \"The person not eligible for marriege in india\"\n",
    "    "
   ]
  },
  {
   "cell_type": "code",
   "execution_count": 2,
   "metadata": {},
   "outputs": [
    {
     "name": "stdout",
     "output_type": "stream",
     "text": [
      "The person age: 24\n",
      "the person gender:male\n",
      "The person eligible for marriege in india \n"
     ]
    }
   ],
   "source": [
    "age = int(input(\"The person age: \"))\n",
    "gender = str(raw_input(\"the person gender:\"))\n",
    "if age>=22:\n",
    "    print \"The person eligible for marriege in india \"\n",
    "else:\n",
    "    print \"The person not eligible for marriege in india\""
   ]
  },
  {
   "cell_type": "code",
   "execution_count": 3,
   "metadata": {},
   "outputs": [
    {
     "name": "stdout",
     "output_type": "stream",
     "text": [
      "The person age: 40\n",
      "the person gender:male\n",
      "The person eligible for marriege in india \n"
     ]
    }
   ],
   "source": [
    "age = int(input(\"The person age: \"))\n",
    "gender = str(raw_input(\"the person gender:\"))\n",
    "if age>=22:\n",
    "    print \"The person eligible for marriege in india \"\n",
    "else:\n",
    "    print \"The person not eligible for marriege in india\""
   ]
  },
  {
   "cell_type": "code",
   "execution_count": 5,
   "metadata": {},
   "outputs": [
    {
     "name": "stdout",
     "output_type": "stream",
     "text": [
      "enter the age of the person: 20\n",
      "enter the gender of the person: male\n",
      "the person eligible for voting in india\n",
      "the person eligible for marriege in india\n",
      "the person eligible for apply driving liscene in india\n",
      "the person eligible for nominate surpench in villages in india\n"
     ]
    }
   ],
   "source": [
    "\"\"\"Take an age  and gender from the user: and mention that what he/she can do in india.\"\"\"\n",
    "#The person details \n",
    "age =int(input(\"enter the age of the person: \"))\n",
    "gender =str(raw_input(\"enter the gender of the person: \"))\n",
    "if age>18:\n",
    "    print \"the person eligible for voting in india\"\n",
    "else:\n",
    "    print \"the person not eligible for voting in india\"\n",
    "if age>18:\n",
    "    print \"the person eligible for marriege in india\"\n",
    "else:\n",
    "    print\"the person not eligible for marriege in india\"\n",
    "if age>18:\n",
    "    print \"the person eligible for apply driving liscene in india\"\n",
    "else:\n",
    "    print\"the person not eligible for apply driving liscene in india\"\n",
    "if age>18:\n",
    "    print \"the person eligible for nominate surpench in villages in india\"\n",
    "else:\n",
    "    print\"the person not eligible for nominate surpench in villages in india\"\n",
    "    "
   ]
  },
  {
   "cell_type": "code",
   "execution_count": 7,
   "metadata": {},
   "outputs": [
    {
     "name": "stdout",
     "output_type": "stream",
     "text": [
      "eligibility:\n",
      "\t1 for govt job\n",
      "Enter an option: \n",
      "gender :\n",
      "1. men\n",
      "2. women\n",
      "enter the person age: 24\n",
      "enter the person gender: male\n",
      "the person eligible for govt jobs\n"
     ]
    }
   ],
   "source": [
    "\"\"\"    17. conditions\n",
    "1. Theatre: 5 for men 7 for women\n",
    "    \t2. Voting system: 18 for men and women\n",
    "    \t3. Marriage in india: 23 for men and for women >21\n",
    "    \t4. For govt jobs: (min:18, max:32)  for men and (min:18, max:34) for women\n",
    "   \t 5. For driving licence: (min:18, max:60) for men and women\n",
    "Eligibility:\n",
    "   \t1. theatre \n",
    "\t\t2.  Voting system\n",
    "\t\t3.  Marriage in india\n",
    "\t\t4.  For govt obs\n",
    "\t\t5. For driving licence:\n",
    "Enter an option:\n",
    "\tGender:\n",
    "\t\t1. men\n",
    "\t\t2. women\n",
    "Enter an option:\n",
    "Enter an age of person:\"\"\"\n",
    "print \"eligibility:\\n\\t1 for govt job\\nEnter an option: \\ngender :\\n1. men\\n2. women\"\n",
    "age = int(input('enter the person age: '))\n",
    "gender = str(raw_input(\"enter the person gender: \"))\n",
    "if (age>18) and (age<32):\n",
    "    print \"the person eligible for govt jobs\"\n",
    "else:\n",
    "    print\"the person not eligible for govt jobs\"\n"
   ]
  },
  {
   "cell_type": "code",
   "execution_count": 1,
   "metadata": {},
   "outputs": [
    {
     "name": "stdout",
     "output_type": "stream",
     "text": [
      "operating system:\n",
      "\t1.windows\n",
      "\t2.android\n",
      "\t3.mac\n",
      "enter a option: 2\n",
      "Goto second floor and buy adroid mobiles\n",
      "thank you for use our help section\n"
     ]
    }
   ],
   "source": [
    "\"\"\"operating systems:\n",
    "\t1.windows\n",
    "\t2.android\n",
    "\t3.mac\n",
    "Enter an option:\n",
    "\n",
    "If the user enters 1 then show \"Goto first floor and buy windows laptop or mobile\"\n",
    "If the user enters 2 then show \"Goto second floor and buy adroid mobiles\"\n",
    "If the user enters 3 then show \"Goto third floor and buy mac laptop or iphones\"\n",
    "If the user enters other than 1 or 2 or 3 then show \"There is only three floors, please select 1 or 2 or 3\"\"\"\n",
    "\n",
    "\n",
    "print\"operating system:\\n\\t1.windows\\n\\t2.android\\n\\t3.mac\"\n",
    "\n",
    "a = int(raw_input(\"enter a option: \"))\n",
    "\n",
    "if (a>3)or(a<1):\n",
    "    print\"there are three floors please select 1 or 2 or 3\"\n",
    "if a==1:\n",
    "    print\"Goto first floor and buy windows laptop or mobile\"\n",
    "if a==2:\n",
    "    print\"Goto second floor and buy adroid mobiles\"\n",
    "if  a == 3:\n",
    "    print\"Goto third floor and buy mac laptop or iphones\"\n",
    "print\"thank you for use our help section\"\n",
    "\n",
    "\n",
    "\n"
   ]
  },
  {
   "cell_type": "code",
   "execution_count": 2,
   "metadata": {},
   "outputs": [
    {
     "name": "stdout",
     "output_type": "stream",
     "text": [
      "operating system:\n",
      "\t1.windows\n",
      "\t2.android\n",
      "\t3.mac\n",
      "enter a option: 4\n",
      "there are three floors please select 1 or 2 or 3\n",
      "thank you for use our help section\n"
     ]
    }
   ],
   "source": [
    "print\"operating system:\\n\\t1.windows\\n\\t2.android\\n\\t3.mac\"\n",
    "\n",
    "a = int(raw_input(\"enter a option: \"))\n",
    "\n",
    "if (a>3)or(a<1):\n",
    "    print\"there are three floors please select 1 or 2 or 3\"\n",
    "if a==1:\n",
    "    print\"Goto first floor and buy windows laptop or mobile\"\n",
    "if a==2:\n",
    "    print\"Goto second floor and buy adroid mobiles\"\n",
    "if  a == 3:\n",
    "    print\"Goto third floor and buy mac laptop or iphones\"\n",
    "print\"thank you for use our help section\"\n"
   ]
  },
  {
   "cell_type": "code",
   "execution_count": 11,
   "metadata": {},
   "outputs": [
    {
     "name": "stdout",
     "output_type": "stream",
     "text": [
      "enter the age value in yrs: 16\n",
      "the person is not a baby\n",
      "the person is not atoodler\n",
      "the person is not a child\n",
      "the person is a teenager\n",
      "the person is not a adult\n",
      "the person is not a old ager\n"
     ]
    }
   ],
   "source": [
    "\"\"\"Given an age, figure out whether someone's a baby, toddler, child, teenager, adult or old codger.\"\"\"\n",
    "\n",
    "age =int(input(\"enter the age value in yrs: \"))\n",
    "if (age>0)and(age<2):\n",
    "    print \"the person is a baby\"\n",
    "else:\n",
    "    print\"the person is not a baby\"\n",
    "if (age>2)and(age<4):\n",
    "    print \"the person is a tooddler\"\n",
    "else:\n",
    "    print\"the person is not atoodler\"\n",
    "\n",
    "if (age>5)and(age<8):\n",
    "    print \"the person is a child\"\n",
    "else:\n",
    "    print\"the person is not a child\"\n",
    "if (age>13)and(age<19):\n",
    "    print \"the person is a teenager\"\n",
    "else:\n",
    "    print\"the person is not a teenager\"\n",
    "if (age>30)and(age<60):\n",
    "    print\"the person is a adult\"\n",
    "else:\n",
    "    print\"the person is not a adult\"\n",
    "if (age>60)==(age<80):\n",
    "    print\"the person is a old ager\"\n",
    "else:\n",
    "    print\"the person is not a old ager\"\n",
    "    "
   ]
  },
  {
   "cell_type": "code",
   "execution_count": 12,
   "metadata": {},
   "outputs": [
    {
     "name": "stdout",
     "output_type": "stream",
     "text": [
      "enter the age value in yrs: 18\n",
      "the person is a teenager\n"
     ]
    }
   ],
   "source": [
    "\n",
    "\n",
    "age =int(input(\"enter the age value in yrs: \"))\n",
    "if (age>0)and(age<2):\n",
    "    print \"the person is a baby\"\n",
    "    \n",
    "if (age>2)and(age<4):\n",
    "    print \"the person is a tooddler\"\n",
    "\n",
    "\n",
    "if (age>5)and(age<8):\n",
    "    print \"the person is a child\"\n",
    "\n",
    "if (age>13)and(age<19):\n",
    "    print \"the person is a teenager\"\n",
    "\n",
    "if (age>30)and(age<60):\n",
    "    print\"the person is a adult\"\n",
    "\n",
    "if (age>60)==(age<80):\n",
    "    print\"the person is a old ager\"\n",
    "\n",
    "    "
   ]
  },
  {
   "cell_type": "code",
   "execution_count": 17,
   "metadata": {},
   "outputs": [
    {
     "name": "stdout",
     "output_type": "stream",
     "text": [
      "enter a value:2\n",
      "enter a value:4\n",
      " a is not divisible by b\n"
     ]
    }
   ],
   "source": [
    "\"\"\"Take two number a,b from the user and check whether a is divisible by b or not\"\"\"\n",
    "a = int(input(\"enter a value:\"))\n",
    "b = int(input(\"enter a value:\"))\n",
    "if a/b:\n",
    "    print \"as i divisible by b\"\n",
    "else:\n",
    "    print\" a is not divisible by b\"\n",
    "    "
   ]
  },
  {
   "cell_type": "code",
   "execution_count": 18,
   "metadata": {},
   "outputs": [
    {
     "name": "stdout",
     "output_type": "stream",
     "text": [
      "enter a value:4\n",
      "enter a value:2\n",
      "as i divisible by b\n"
     ]
    }
   ],
   "source": [
    "\n",
    "a = int(input(\"enter a value:\"))\n",
    "b = int(input(\"enter a value:\"))\n",
    "if a/b:\n",
    "    print \"as i divisible by b\"\n",
    "else:\n",
    "    print\" a is not divisible by b\"\n",
    "    "
   ]
  },
  {
   "cell_type": "code",
   "execution_count": null,
   "metadata": {},
   "outputs": [],
   "source": []
  }
 ],
 "metadata": {
  "kernelspec": {
   "display_name": "Python 2",
   "language": "python",
   "name": "python2"
  },
  "language_info": {
   "codemirror_mode": {
    "name": "ipython",
    "version": 2
   },
   "file_extension": ".py",
   "mimetype": "text/x-python",
   "name": "python",
   "nbconvert_exporter": "python",
   "pygments_lexer": "ipython2",
   "version": "2.7.15rc1"
  }
 },
 "nbformat": 4,
 "nbformat_minor": 2
}
