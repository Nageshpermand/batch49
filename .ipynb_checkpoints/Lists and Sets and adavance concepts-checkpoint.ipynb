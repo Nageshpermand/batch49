{
 "cells": [
  {
   "cell_type": "code",
   "execution_count": 1,
   "metadata": {},
   "outputs": [],
   "source": [
    "l = [10,20.24,40],\"1234\",[100,200,300,400]"
   ]
  },
  {
   "cell_type": "code",
   "execution_count": 2,
   "metadata": {},
   "outputs": [
    {
     "data": {
      "text/plain": [
       "['a', 'b', 'c', 'd', 'e']"
      ]
     },
     "execution_count": 2,
     "metadata": {},
     "output_type": "execute_result"
    }
   ],
   "source": [
    "l=[\"a\",\"b\",\"c\",\"d\"]\n",
    "l+[\"e\"]"
   ]
  },
  {
   "cell_type": "code",
   "execution_count": 3,
   "metadata": {},
   "outputs": [
    {
     "name": "stdout",
     "output_type": "stream",
     "text": [
      "l1= None\n"
     ]
    }
   ],
   "source": [
    "l=[\"a\",\"b\",\"c\",\"d\"]\n",
    "l1 = l.append(l)                       #l1 is reference it is not object so it shows none \n",
    "print \"l1=\",l1"
   ]
  },
  {
   "cell_type": "code",
   "execution_count": 4,
   "metadata": {},
   "outputs": [
    {
     "name": "stdout",
     "output_type": "stream",
     "text": [
      "l1= None\n"
     ]
    }
   ],
   "source": [
    "l=[\"a\",\"b\",\"c\",\"d\"]\n",
    "l1 = l.append(\"e\")                       #l1 is reference it is not object so it shows none \n",
    "print \"l1=\",l1"
   ]
  },
  {
   "cell_type": "code",
   "execution_count": 5,
   "metadata": {},
   "outputs": [
    {
     "name": "stdout",
     "output_type": "stream",
     "text": [
      "None\n"
     ]
    }
   ],
   "source": [
    "l=[\"a\",\"b\",\"c\",\"d\"]\n",
    "print l.append(\"e\")         #l.append() is reference it is not object so it shows none \n",
    "\n"
   ]
  },
  {
   "cell_type": "code",
   "execution_count": 7,
   "metadata": {},
   "outputs": [
    {
     "name": "stdout",
     "output_type": "stream",
     "text": [
      "None\n"
     ]
    }
   ],
   "source": [
    "l=[\"a\",\"b\",\"c\",\"d\"]\n",
    "l1 = l.append(\"e\")            #l1 is reference it is not object so it shows none \n",
    "print l1"
   ]
  },
  {
   "cell_type": "code",
   "execution_count": 8,
   "metadata": {},
   "outputs": [
    {
     "name": "stdout",
     "output_type": "stream",
     "text": [
      "kyderabad\n"
     ]
    }
   ],
   "source": [
    "s = \"hyderabad\"\n",
    "s1=s.replace('h','k')\n",
    "print s1"
   ]
  },
  {
   "cell_type": "code",
   "execution_count": 11,
   "metadata": {},
   "outputs": [
    {
     "ename": "AttributeError",
     "evalue": "'str' object has no attribute 'append'",
     "output_type": "error",
     "traceback": [
      "\u001b[0;31m---------------------------------------------------------------------------\u001b[0m",
      "\u001b[0;31mAttributeError\u001b[0m                            Traceback (most recent call last)",
      "\u001b[0;32m<ipython-input-11-6cc39c84f24d>\u001b[0m in \u001b[0;36m<module>\u001b[0;34m()\u001b[0m\n\u001b[1;32m      1\u001b[0m \u001b[0ms\u001b[0m\u001b[0;34m=\u001b[0m\u001b[0;34m\"hyderabad\"\u001b[0m\u001b[0;34m\u001b[0m\u001b[0m\n\u001b[0;32m----> 2\u001b[0;31m \u001b[0;32mprint\u001b[0m \u001b[0ms\u001b[0m\u001b[0;34m.\u001b[0m\u001b[0mappend\u001b[0m\u001b[0;34m(\u001b[0m\u001b[0;34m'city'\u001b[0m\u001b[0;34m)\u001b[0m\u001b[0;34m\u001b[0m\u001b[0m\n\u001b[0m",
      "\u001b[0;31mAttributeError\u001b[0m: 'str' object has no attribute 'append'"
     ]
    }
   ],
   "source": [
    "s=\"hyderabad\"                       # append.()it does not takes for strings\n",
    "print s.append('city')"
   ]
  },
  {
   "cell_type": "code",
   "execution_count": 12,
   "metadata": {},
   "outputs": [
    {
     "name": "stdout",
     "output_type": "stream",
     "text": [
      "hyderabad\n",
      "kyderabad\n"
     ]
    }
   ],
   "source": [
    "s = \"hyderabad\"\n",
    "s1=s.replace('h','k')\n",
    "print s\n",
    "print s1"
   ]
  },
  {
   "cell_type": "code",
   "execution_count": 13,
   "metadata": {},
   "outputs": [
    {
     "name": "stdout",
     "output_type": "stream",
     "text": [
      "['a', 'b', 'c', 'd', 'e']\n",
      "None\n"
     ]
    }
   ],
   "source": [
    "l=[\"a\",\"b\",\"c\",\"d\"]\n",
    "l1= l.append(\"e\")     #l1 is reference it is not object so it shows none \n",
    "print l               #it is object so it takes reference also so merging \"e\" value\n",
    "print l1"
   ]
  },
  {
   "cell_type": "code",
   "execution_count": 14,
   "metadata": {},
   "outputs": [
    {
     "name": "stdout",
     "output_type": "stream",
     "text": [
      "None\n"
     ]
    }
   ],
   "source": [
    "l1 = [\"a\",\"b\"]\n",
    "l2 = [\"c\",\"d\"]\n",
    "l3=l1.append(l2)\n",
    "print l3"
   ]
  },
  {
   "cell_type": "code",
   "execution_count": 16,
   "metadata": {},
   "outputs": [
    {
     "name": "stdout",
     "output_type": "stream",
     "text": [
      "['a', 'b', ['c', 'd']]\n",
      "['c', 'd']\n"
     ]
    }
   ],
   "source": [
    "l1 = [\"a\",\"b\"]\n",
    "l2 = [\"c\",\"d\"]\n",
    "l3= l1.append(l2)           #l3 is reference so it shows reference\n",
    "print l1                    #l1 in (l1.append(l2)) is an object so it is printing with append l2 in l1\n",
    "print l2"
   ]
  },
  {
   "cell_type": "code",
   "execution_count": 17,
   "metadata": {},
   "outputs": [
    {
     "name": "stdout",
     "output_type": "stream",
     "text": [
      "python\n",
      "xyz\n"
     ]
    }
   ],
   "source": [
    "s = \"python\"\n",
    "print s\n",
    "s=\"xyz\"\n",
    "print s"
   ]
  },
  {
   "cell_type": "code",
   "execution_count": 18,
   "metadata": {},
   "outputs": [
    {
     "ename": "TypeError",
     "evalue": "'str' object does not support item assignment",
     "output_type": "error",
     "traceback": [
      "\u001b[0;31m---------------------------------------------------------------------------\u001b[0m",
      "\u001b[0;31mTypeError\u001b[0m                                 Traceback (most recent call last)",
      "\u001b[0;32m<ipython-input-18-dc70a133faed>\u001b[0m in \u001b[0;36m<module>\u001b[0;34m()\u001b[0m\n\u001b[1;32m      1\u001b[0m \u001b[0ms\u001b[0m \u001b[0;34m=\u001b[0m \u001b[0;34m\"python\"\u001b[0m\u001b[0;34m\u001b[0m\u001b[0m\n\u001b[0;32m----> 2\u001b[0;31m \u001b[0ms\u001b[0m\u001b[0;34m[\u001b[0m\u001b[0;36m0\u001b[0m\u001b[0;34m]\u001b[0m\u001b[0;34m=\u001b[0m\u001b[0;34m\"z\"\u001b[0m\u001b[0;34m\u001b[0m\u001b[0m\n\u001b[0m\u001b[1;32m      3\u001b[0m \u001b[0;32mprint\u001b[0m \u001b[0ms\u001b[0m\u001b[0;34m\u001b[0m\u001b[0m\n",
      "\u001b[0;31mTypeError\u001b[0m: 'str' object does not support item assignment"
     ]
    }
   ],
   "source": [
    "s = \"python\"\n",
    "s[0]=\"z\"   #string deos not supports its assignment \n",
    "print s    # but supports in list"
   ]
  },
  {
   "cell_type": "code",
   "execution_count": 57,
   "metadata": {},
   "outputs": [
    {
     "name": "stdout",
     "output_type": "stream",
     "text": [
      "['z']\n"
     ]
    }
   ],
   "source": [
    "s = [\"python\"]\n",
    "s[0]=\"z\"   \n",
    "print s    # supports in list"
   ]
  },
  {
   "cell_type": "code",
   "execution_count": 19,
   "metadata": {},
   "outputs": [
    {
     "name": "stdout",
     "output_type": "stream",
     "text": [
      "['a', 'b', 'c', 'd', 'e']\n",
      "None\n"
     ]
    }
   ],
   "source": [
    "l=[\"a\",\"b\",\"c\",\"d\"]\n",
    "l1= l.append(\"e\")     #l1 is reference it is not object so it shows none \n",
    "print l               #it is object so it takes reference also so merging \"e\" value\n",
    "print l1"
   ]
  },
  {
   "cell_type": "code",
   "execution_count": 21,
   "metadata": {},
   "outputs": [
    {
     "name": "stdout",
     "output_type": "stream",
     "text": [
      "100\n"
     ]
    }
   ],
   "source": [
    "def fun(a):\n",
    "    c=a+10\n",
    "    d=a+20\n",
    "    e=a+80\n",
    "    return a+60   # the function loop takes only return value and remaining above activitys doesnot matter,\n",
    "f=fun\n",
    "f1=fun(40)\n",
    "print f1"
   ]
  },
  {
   "cell_type": "code",
   "execution_count": 23,
   "metadata": {},
   "outputs": [
    {
     "name": "stdout",
     "output_type": "stream",
     "text": [
      "<function fun at 0x7f74baf84ed8>\n",
      "f1=  100\n"
     ]
    }
   ],
   "source": [
    "def fun(a):\n",
    "    c=a+10\n",
    "    d=a+20\n",
    "    e=a+80\n",
    "    return a+60   # the function loop takes only return value and remaining above activitys doesnot matter,\n",
    "f=fun\n",
    "f1=fun(40)\n",
    "print f\n",
    "print \"f1= \",f1"
   ]
  },
  {
   "cell_type": "code",
   "execution_count": 6,
   "metadata": {},
   "outputs": [
    {
     "name": "stdout",
     "output_type": "stream",
     "text": [
      "<function fun at 0x7f4aec1dff50>\n",
      "f1=  None\n"
     ]
    }
   ],
   "source": [
    "def fun(a):\n",
    "    c=a+10\n",
    "    d=a+20\n",
    "    e=a+80\n",
    "f=fun\n",
    "f1=fun(40)\n",
    "print f\n",
    "print \"f1= \",f1"
   ]
  },
  {
   "cell_type": "code",
   "execution_count": 7,
   "metadata": {},
   "outputs": [
    {
     "name": "stdout",
     "output_type": "stream",
     "text": [
      "50 60 120\n",
      "<function fun at 0x7f4aec1dfed8>\n",
      "f1=  None\n"
     ]
    }
   ],
   "source": [
    "def fun(a):\n",
    "    c=a+10\n",
    "    d=a+20\n",
    "    e=a+80\n",
    "    print c,d,e\n",
    "f=fun\n",
    "f1=fun(40)\n",
    "print f\n",
    "print \"f1= \",f1"
   ]
  },
  {
   "cell_type": "code",
   "execution_count": 8,
   "metadata": {},
   "outputs": [
    {
     "name": "stdout",
     "output_type": "stream",
     "text": [
      "['a', 'b', 'c', 'd', 'e']\n",
      "None\n"
     ]
    }
   ],
   "source": [
    "l=[\"a\",\"b\",\"c\",\"d\"]\n",
    "l1= l.append(\"e\")     \n",
    "print l               \n",
    "print l1"
   ]
  },
  {
   "cell_type": "code",
   "execution_count": 10,
   "metadata": {},
   "outputs": [
    {
     "name": "stdout",
     "output_type": "stream",
     "text": [
      "l1=  ['a', 'b', 'c', 'd'] id(l1)=  139959799615072\n",
      "['a', 'b', 'c', 'd', 'e', 'e']\n",
      "None\n"
     ]
    }
   ],
   "source": [
    "l1=[\"a\",\"b\",\"c\",\"d\"]\n",
    "print \"l1= \",l1,   \"id(l1)= \",id(l1)\n",
    "l1= l.append(\"e\")     \n",
    "print l               \n",
    "print l1"
   ]
  },
  {
   "cell_type": "code",
   "execution_count": 11,
   "metadata": {},
   "outputs": [
    {
     "name": "stdout",
     "output_type": "stream",
     "text": [
      "l1=  ['a', 'b', 'c', 'd'] id(l1)=  139959765373296\n",
      "l1=  ['a', 'b', 'c', 'd', 10] id(l1)=  139959765373296\n",
      "l2=  None\n"
     ]
    }
   ],
   "source": [
    "l1=[\"a\",\"b\",\"c\",\"d\"]\n",
    "print \"l1= \",l1,   \"id(l1)= \",id(l1)\n",
    "l2= l1.append(10)                  \n",
    "print \"l1= \",l1,   \"id(l1)= \",id(l1)\n",
    "print\"l2= \",l2"
   ]
  },
  {
   "cell_type": "code",
   "execution_count": 12,
   "metadata": {},
   "outputs": [
    {
     "name": "stdout",
     "output_type": "stream",
     "text": [
      "['a', 'b', 'c', 'd', 10]\n"
     ]
    }
   ],
   "source": [
    "l1=[\"a\",\"b\",\"c\",\"d\"]\n",
    "l1.append(10)\n",
    "print l1               # there is no assigned reference value "
   ]
  },
  {
   "cell_type": "code",
   "execution_count": 15,
   "metadata": {},
   "outputs": [
    {
     "name": "stdout",
     "output_type": "stream",
     "text": [
      "['a', 'b', 'c', 'd', 'e']\n"
     ]
    }
   ],
   "source": [
    "l1=[\"a\",\"b\",\"c\",\"d\"]\n",
    "l1.append(\"e\")\n",
    "print l1               # there is no assigned reference value "
   ]
  },
  {
   "cell_type": "code",
   "execution_count": 14,
   "metadata": {},
   "outputs": [
    {
     "name": "stdout",
     "output_type": "stream",
     "text": [
      "['a', 'b', 'c', 'd', 'e']\n"
     ]
    }
   ],
   "source": [
    "l1=[\"a\",\"b\",\"c\",\"d\"]\n",
    "l1.extend(\"e\")\n",
    "print l1        "
   ]
  },
  {
   "cell_type": "code",
   "execution_count": 18,
   "metadata": {},
   "outputs": [
    {
     "name": "stdout",
     "output_type": "stream",
     "text": [
      "l1=  ['a', 'b', 'c', 'd', 'python'] 5\n"
     ]
    }
   ],
   "source": [
    "l1=[\"a\",\"b\",\"c\",\"d\"]\n",
    "l1.append(\"python\")\n",
    "print \"l1= \", l1  , len(l1)"
   ]
  },
  {
   "cell_type": "code",
   "execution_count": 19,
   "metadata": {},
   "outputs": [
    {
     "name": "stdout",
     "output_type": "stream",
     "text": [
      "l1=  ['a', 'b', 'c', 'd', '10'] 5\n"
     ]
    }
   ],
   "source": [
    "l1=[\"a\",\"b\",\"c\",\"d\"]\n",
    "l1.append(\"10\")\n",
    "print \"l1= \", l1  , len(l1)"
   ]
  },
  {
   "cell_type": "code",
   "execution_count": 27,
   "metadata": {},
   "outputs": [
    {
     "ename": "TypeError",
     "evalue": "'int' object is not iterable",
     "output_type": "error",
     "traceback": [
      "\u001b[0;31m---------------------------------------------------------------------------\u001b[0m",
      "\u001b[0;31mTypeError\u001b[0m                                 Traceback (most recent call last)",
      "\u001b[0;32m<ipython-input-27-5c73010b60da>\u001b[0m in \u001b[0;36m<module>\u001b[0;34m()\u001b[0m\n\u001b[1;32m      1\u001b[0m \u001b[0ml1\u001b[0m\u001b[0;34m=\u001b[0m\u001b[0;34m[\u001b[0m\u001b[0;34m\"a\"\u001b[0m\u001b[0;34m,\u001b[0m\u001b[0;34m\"b\"\u001b[0m\u001b[0;34m,\u001b[0m\u001b[0;34m\"c\"\u001b[0m\u001b[0;34m,\u001b[0m\u001b[0;34m\"d\"\u001b[0m\u001b[0;34m]\u001b[0m\u001b[0;34m\u001b[0m\u001b[0m\n\u001b[0;32m----> 2\u001b[0;31m \u001b[0ml1\u001b[0m\u001b[0;34m.\u001b[0m\u001b[0mextend\u001b[0m\u001b[0;34m(\u001b[0m\u001b[0;36m10\u001b[0m\u001b[0;34m)\u001b[0m                  \u001b[0;31m# the int value not extend with string value\u001b[0m\u001b[0;34m\u001b[0m\u001b[0m\n\u001b[0m\u001b[1;32m      3\u001b[0m \u001b[0;32mprint\u001b[0m \u001b[0;34m\"l1= \"\u001b[0m\u001b[0;34m,\u001b[0m \u001b[0ml1\u001b[0m  \u001b[0;34m,\u001b[0m \u001b[0mlen\u001b[0m\u001b[0;34m(\u001b[0m\u001b[0ml1\u001b[0m\u001b[0;34m)\u001b[0m    \u001b[0;31m#it cant iterate every value in integer\u001b[0m\u001b[0;34m\u001b[0m\u001b[0m\n",
      "\u001b[0;31mTypeError\u001b[0m: 'int' object is not iterable"
     ]
    }
   ],
   "source": [
    "l1=[\"a\",\"b\",\"c\",\"d\"]\n",
    "l1.extend(10)                  # the int value not extend with string value\n",
    "print \"l1= \", l1  , len(l1)    #it cant iterate every value in integer"
   ]
  },
  {
   "cell_type": "code",
   "execution_count": 22,
   "metadata": {},
   "outputs": [
    {
     "name": "stdout",
     "output_type": "stream",
     "text": [
      "l1=  ['a', 'b', 'c', 'd', '10'] 5\n"
     ]
    }
   ],
   "source": [
    "l1=[\"a\",\"b\",\"c\",\"d\"]\n",
    "l1.append(\"10\")                 # it prints iterate every string in list\n",
    "print \"l1= \", l1  , len(l1)"
   ]
  },
  {
   "cell_type": "code",
   "execution_count": 23,
   "metadata": {},
   "outputs": [
    {
     "name": "stdout",
     "output_type": "stream",
     "text": [
      "l1=  ['a', 'b', 'c', 'd', '1', '0'] 6\n"
     ]
    }
   ],
   "source": [
    "l1=[\"a\",\"b\",\"c\",\"d\"]\n",
    "l1.extend(\"10\")                  # it prints iterate every value\n",
    "print \"l1= \", l1  , len(l1)"
   ]
  },
  {
   "cell_type": "code",
   "execution_count": 26,
   "metadata": {},
   "outputs": [
    {
     "ename": "TypeError",
     "evalue": "'int' object is not iterable",
     "output_type": "error",
     "traceback": [
      "\u001b[0;31m---------------------------------------------------------------------------\u001b[0m",
      "\u001b[0;31mTypeError\u001b[0m                                 Traceback (most recent call last)",
      "\u001b[0;32m<ipython-input-26-02e456374b41>\u001b[0m in \u001b[0;36m<module>\u001b[0;34m()\u001b[0m\n\u001b[0;32m----> 1\u001b[0;31m \u001b[0;32mfor\u001b[0m \u001b[0mi\u001b[0m \u001b[0;32min\u001b[0m \u001b[0;36m10\u001b[0m\u001b[0;34m:\u001b[0m\u001b[0;34m\u001b[0m\u001b[0m\n\u001b[0m\u001b[1;32m      2\u001b[0m     \u001b[0;32mprint\u001b[0m \u001b[0mi\u001b[0m\u001b[0;34m\u001b[0m\u001b[0m\n",
      "\u001b[0;31mTypeError\u001b[0m: 'int' object is not iterable"
     ]
    }
   ],
   "source": [
    "for i in 10:\n",
    "    print i                 #it cant iterate every value in integer"
   ]
  },
  {
   "cell_type": "code",
   "execution_count": 28,
   "metadata": {},
   "outputs": [
    {
     "name": "stdout",
     "output_type": "stream",
     "text": [
      "l1=  ['a', 'b', 'c', 'd', '1', '0'] 6\n"
     ]
    }
   ],
   "source": [
    "l1=[\"a\",\"b\",\"c\",\"d\"]\n",
    "l1.extend(\"10\")             \n",
    "print \"l1= \", l1,len(l1)"
   ]
  },
  {
   "cell_type": "code",
   "execution_count": 30,
   "metadata": {},
   "outputs": [
    {
     "name": "stdout",
     "output_type": "stream",
     "text": [
      "l1=  ['a', 'b', 'c', 'd', {'k3': 'v3', 'k2': 'v2', 'k1': 'v1'}]\n"
     ]
    }
   ],
   "source": [
    "l1=[\"a\",\"b\",\"c\",\"d\"]\n",
    "l1.append({\"k1\":\"v1\",\"k2\":\"v2\",\"k3\":\"v3\"})    # in append the total dictinory as like single value mergedwith l1 insidelist\n",
    "print\"l1= \", l1"
   ]
  },
  {
   "cell_type": "code",
   "execution_count": 34,
   "metadata": {},
   "outputs": [
    {
     "name": "stdout",
     "output_type": "stream",
     "text": [
      "l1=  ['a', 'b', 'c', 'd', {'k3': 'v3', 'k2': 'v2', 'k1': 'v1'}] 5\n"
     ]
    }
   ],
   "source": [
    "l1=[\"a\",\"b\",\"c\",\"d\"]\n",
    "l1.append({\"k1\":\"v1\",\"k2\":\"v2\",\"k3\":\"v3\"})    # in append the total dictinory as like single value mergedwith l1 insidelist\n",
    "print\"l1= \", l1,len(l1)"
   ]
  },
  {
   "cell_type": "code",
   "execution_count": 36,
   "metadata": {},
   "outputs": [
    {
     "name": "stdout",
     "output_type": "stream",
     "text": [
      "l1=  ['a', 'b', 'c', 'd', 'k3', 'k2', 'k1']\n"
     ]
    }
   ],
   "source": [
    "l1=[\"a\",\"b\",\"c\",\"d\"]\n",
    "l1.extend({\"k1\":\"v1\",\"k2\":\"v2\",\"k3\":\"v3\"})    # in extend the dictinory assigned values only  merged with l1 inside list\n",
    "print\"l1= \", l1,"
   ]
  },
  {
   "cell_type": "code",
   "execution_count": 37,
   "metadata": {},
   "outputs": [
    {
     "name": "stdout",
     "output_type": "stream",
     "text": [
      "l1=  ['a', 'b', 'c', 'd', 'k3', 'k2', 'k1'] 7\n"
     ]
    }
   ],
   "source": [
    "l1=[\"a\",\"b\",\"c\",\"d\"]\n",
    "l1.extend({\"k1\":\"v1\",\"k2\":\"v2\",\"k3\":\"v3\"})    # in extend the dictinory assigned values only  merged with l1 inside list\n",
    "print\"l1= \", l1,len(l1)"
   ]
  },
  {
   "cell_type": "code",
   "execution_count": 38,
   "metadata": {},
   "outputs": [
    {
     "name": "stdout",
     "output_type": "stream",
     "text": [
      "k3\n",
      "k2\n",
      "k1\n"
     ]
    }
   ],
   "source": [
    "for i in {\"k1\":\"v1\",\"k2\":\"v2\",\"k3\":\"v3\"}:\n",
    "    print i"
   ]
  },
  {
   "cell_type": "code",
   "execution_count": 66,
   "metadata": {},
   "outputs": [],
   "source": [
    "l1 =[\"c\",\"cpp\",\"java\",]\n",
    "l2 =[\"php\",\"python\",\"goo\"]\n"
   ]
  },
  {
   "cell_type": "code",
   "execution_count": 47,
   "metadata": {},
   "outputs": [
    {
     "name": "stdout",
     "output_type": "stream",
     "text": [
      "['c', 'cpp', 'java', 'php', 'python', 'goo']\n"
     ]
    }
   ],
   "source": [
    "l1 =[\"c\",\"cpp\",\"java\",]\n",
    "l2 =[\"php\",\"python\",\"goo\"]\n",
    "print l1+l2"
   ]
  },
  {
   "cell_type": "code",
   "execution_count": 50,
   "metadata": {},
   "outputs": [
    {
     "name": "stdout",
     "output_type": "stream",
     "text": [
      "['c', 'cpp', 'java']\n",
      "['php', 'python', 'goo']\n",
      "['c', 'cpp', 'java', 'php', 'python', 'goo']\n"
     ]
    }
   ],
   "source": [
    "l1 =[\"c\",\"cpp\",\"java\",]\n",
    "l2 =[\"php\",\"python\",\"goo\"]\n",
    "l3 = l1+l2\n",
    "print l1\n",
    "print l2\n",
    "print l3"
   ]
  },
  {
   "cell_type": "code",
   "execution_count": 51,
   "metadata": {},
   "outputs": [
    {
     "name": "stdout",
     "output_type": "stream",
     "text": [
      "['c', 'cpp', 'java', ['php', 'python', 'goo']]\n",
      "['php', 'python', 'goo']\n",
      "None\n"
     ]
    }
   ],
   "source": [
    "l1 =[\"c\",\"cpp\",\"java\",]\n",
    "l2 =[\"php\",\"python\",\"goo\"]\n",
    "l3 = l1.append(l2)\n",
    "print l1\n",
    "print l2\n",
    "print l3"
   ]
  },
  {
   "cell_type": "code",
   "execution_count": 52,
   "metadata": {},
   "outputs": [
    {
     "name": "stdout",
     "output_type": "stream",
     "text": [
      "['c', 'cpp', 'java', 'php', 'python', 'goo']\n",
      "['php', 'python', 'goo']\n",
      "None\n"
     ]
    }
   ],
   "source": [
    "l1 =[\"c\",\"cpp\",\"java\",]\n",
    "l2 =[\"php\",\"python\",\"goo\"]\n",
    "l3 = l1.extend(l2)\n",
    "print l1\n",
    "print l2\n",
    "print l3"
   ]
  },
  {
   "cell_type": "code",
   "execution_count": 53,
   "metadata": {},
   "outputs": [
    {
     "name": "stdout",
     "output_type": "stream",
     "text": [
      "['c', 'cpp', 'java']\n",
      "['php', 'python', 'goo', 'c', 'cpp', 'java']\n",
      "None\n"
     ]
    }
   ],
   "source": [
    "l1 =[\"c\",\"cpp\",\"java\",]\n",
    "l2 =[\"php\",\"python\",\"goo\"]\n",
    "l3 = l2.extend(l1)\n",
    "print l1\n",
    "print l2\n",
    "print l3"
   ]
  },
  {
   "cell_type": "code",
   "execution_count": 55,
   "metadata": {},
   "outputs": [
    {
     "name": "stdout",
     "output_type": "stream",
     "text": [
      "l1=  ['c', 'cpp', 'python']\n"
     ]
    }
   ],
   "source": [
    "l1 =[\"c\",\"cpp\",\"java\",]\n",
    "\n",
    "l1[2]=\"python\"            # list supports its asssigned values \n",
    "print \"l1= \",l1"
   ]
  },
  {
   "cell_type": "code",
   "execution_count": 60,
   "metadata": {},
   "outputs": [
    {
     "name": "stdout",
     "output_type": "stream",
     "text": [
      "['python', 'cpp', 'java']\n"
     ]
    }
   ],
   "source": [
    "l1 =[\"c\",\"cpp\",\"java\",]\n",
    "l1[0]=\"python\"\n",
    "print  l1\n"
   ]
  },
  {
   "cell_type": "code",
   "execution_count": 62,
   "metadata": {},
   "outputs": [
    {
     "name": "stdout",
     "output_type": "stream",
     "text": [
      "l2= ['c', 'cpp', 'python']\n",
      "l1= ['c', 'cpp', 'python']\n"
     ]
    }
   ],
   "source": [
    "l1 =[\"c\",\"cpp\",\"java\",]\n",
    "l2 = l1                  #l1=l2 so those are same values\n",
    "l1[2]=\"python\"\n",
    "print \"l2=\",l2\n",
    "print\"l1=\",l1"
   ]
  },
  {
   "cell_type": "code",
   "execution_count": 63,
   "metadata": {},
   "outputs": [
    {
     "name": "stdout",
     "output_type": "stream",
     "text": [
      "['c', 'cpp', 'java']\n"
     ]
    }
   ],
   "source": [
    "l1 =[\"c\",\"cpp\",\"java\",]\n",
    "l2 = l1[:]\n",
    "print l2"
   ]
  },
  {
   "cell_type": "code",
   "execution_count": 65,
   "metadata": {},
   "outputs": [
    {
     "name": "stdout",
     "output_type": "stream",
     "text": [
      "l2= ['c', 'cpp', 'java']\n",
      "l1= ['c', 'cpp', 'python']\n"
     ]
    }
   ],
   "source": [
    "l1 =[\"c\",\"cpp\",\"java\",]\n",
    "l2 = l1[:]\n",
    "l1[2]=\"python\"\n",
    "\n",
    "print\"l2=\", l2\n",
    "print\"l1=\",l1"
   ]
  },
  {
   "cell_type": "code",
   "execution_count": 1,
   "metadata": {},
   "outputs": [
    {
     "name": "stdout",
     "output_type": "stream",
     "text": [
      "l2= [1000, 200, 4000]\n",
      "l1= [1000, 200, 4000]\n"
     ]
    }
   ],
   "source": [
    "l1 = [1000,200,3000]\n",
    "l2 = l1\n",
    "l1[2]=4000\n",
    "print \"l2=\",l2\n",
    "print \"l1=\",l1\n"
   ]
  },
  {
   "cell_type": "code",
   "execution_count": 2,
   "metadata": {},
   "outputs": [
    {
     "name": "stdout",
     "output_type": "stream",
     "text": [
      "l2= [1000, 200, 3000]\n",
      "l1= [1000, 200, 4000]\n"
     ]
    }
   ],
   "source": [
    "l1 = [1000,200,3000]\n",
    "l2 = l1[:]\n",
    "l1[2]=4000\n",
    "print \"l2=\",l2\n",
    "print \"l1=\",l1\n"
   ]
  },
  {
   "cell_type": "code",
   "execution_count": 3,
   "metadata": {},
   "outputs": [
    {
     "name": "stdout",
     "output_type": "stream",
     "text": [
      "l2= [1000, 2000, 3000]\n",
      "l1= [1000, 2000, 4000]\n"
     ]
    }
   ],
   "source": [
    "l1 = [1000,2000,3000]\n",
    "l2 = [1000,2000,3000]\n",
    "l1[2]=4000\n",
    "print \"l2=\",l2\n",
    "print \"l1=\",l1\n"
   ]
  },
  {
   "cell_type": "code",
   "execution_count": 1,
   "metadata": {},
   "outputs": [
    {
     "name": "stdout",
     "output_type": "stream",
     "text": [
      "<built-in method count of list object at 0x7f49b00a8050>\n"
     ]
    }
   ],
   "source": [
    "l = [\"python\",\"cpp\",'java']\n",
    "print l.count    "
   ]
  },
  {
   "cell_type": "code",
   "execution_count": 2,
   "metadata": {},
   "outputs": [
    {
     "name": "stdout",
     "output_type": "stream",
     "text": [
      "1\n"
     ]
    }
   ],
   "source": [
    "l = [\"a\",\"b\",\"c\",\"A\"]\n",
    "print l.count  ('a')  "
   ]
  },
  {
   "cell_type": "code",
   "execution_count": 3,
   "metadata": {},
   "outputs": [
    {
     "name": "stdout",
     "output_type": "stream",
     "text": [
      "1\n"
     ]
    }
   ],
   "source": [
    "l = [\"a\",\"b\",\"c\",\"A\"]\n",
    "for i in l:\n",
    "    if i==\"A\":\n",
    "        print l.count(\"a\")"
   ]
  },
  {
   "cell_type": "code",
   "execution_count": 4,
   "metadata": {},
   "outputs": [
    {
     "name": "stdout",
     "output_type": "stream",
     "text": [
      "1\n"
     ]
    }
   ],
   "source": [
    " l = [\"a\",\"b\",\"c\",\"A\"]\n",
    "for i in l:\n",
    "    if i==\"A\":\n",
    "        print l.count()"
   ]
  },
  {
   "cell_type": "code",
   "execution_count": 14,
   "metadata": {},
   "outputs": [
    {
     "name": "stdout",
     "output_type": "stream",
     "text": [
      "1\n"
     ]
    }
   ],
   "source": [
    " l = [\"a\",\"b\",\"c\",\"A\"]\n",
    "for i in l:\n",
    "    if  i==\"A\":\n",
    "        print l.count(\"a\")"
   ]
  },
  {
   "cell_type": "code",
   "execution_count": 1,
   "metadata": {},
   "outputs": [],
   "source": [
    "#provide case insensitive count for list"
   ]
  },
  {
   "cell_type": "code",
   "execution_count": 2,
   "metadata": {},
   "outputs": [
    {
     "name": "stdout",
     "output_type": "stream",
     "text": [
      "0\n"
     ]
    }
   ],
   "source": [
    "l = [\"python\",\"cpp\",\"python\",\"program\"]\n",
    "print l.index(\"python\")\n"
   ]
  },
  {
   "cell_type": "code",
   "execution_count": 3,
   "metadata": {},
   "outputs": [
    {
     "ename": "ValueError",
     "evalue": "'PYTHON' is not in list",
     "output_type": "error",
     "traceback": [
      "\u001b[0;31m---------------------------------------------------------------------------\u001b[0m",
      "\u001b[0;31mValueError\u001b[0m                                Traceback (most recent call last)",
      "\u001b[0;32m<ipython-input-3-95232fc114c5>\u001b[0m in \u001b[0;36m<module>\u001b[0;34m()\u001b[0m\n\u001b[1;32m      1\u001b[0m \u001b[0ml\u001b[0m \u001b[0;34m=\u001b[0m \u001b[0;34m[\u001b[0m\u001b[0;34m\"python\"\u001b[0m\u001b[0;34m,\u001b[0m\u001b[0;34m\"cpp\"\u001b[0m\u001b[0;34m,\u001b[0m\u001b[0;34m\"python\"\u001b[0m\u001b[0;34m,\u001b[0m\u001b[0;34m\"program\"\u001b[0m\u001b[0;34m]\u001b[0m\u001b[0;34m\u001b[0m\u001b[0m\n\u001b[0;32m----> 2\u001b[0;31m \u001b[0;32mprint\u001b[0m \u001b[0ml\u001b[0m\u001b[0;34m.\u001b[0m\u001b[0mindex\u001b[0m\u001b[0;34m(\u001b[0m\u001b[0;34m\"PYTHON\"\u001b[0m\u001b[0;34m)\u001b[0m\u001b[0;34m\u001b[0m\u001b[0m\n\u001b[0m",
      "\u001b[0;31mValueError\u001b[0m: 'PYTHON' is not in list"
     ]
    }
   ],
   "source": [
    "l = [\"python\",\"cpp\",\"python\",\"program\"]\n",
    "print l.index(\"PYTHON\")"
   ]
  },
  {
   "cell_type": "code",
   "execution_count": 4,
   "metadata": {},
   "outputs": [
    {
     "ename": "AttributeError",
     "evalue": "'list' object has no attribute 'find'",
     "output_type": "error",
     "traceback": [
      "\u001b[0;31m---------------------------------------------------------------------------\u001b[0m",
      "\u001b[0;31mAttributeError\u001b[0m                            Traceback (most recent call last)",
      "\u001b[0;32m<ipython-input-4-58911fd331fb>\u001b[0m in \u001b[0;36m<module>\u001b[0;34m()\u001b[0m\n\u001b[1;32m      1\u001b[0m \u001b[0ml\u001b[0m \u001b[0;34m=\u001b[0m \u001b[0;34m[\u001b[0m\u001b[0;34m\"python\"\u001b[0m\u001b[0;34m,\u001b[0m\u001b[0;34m\"cpp\"\u001b[0m\u001b[0;34m,\u001b[0m\u001b[0;34m\"python\"\u001b[0m\u001b[0;34m,\u001b[0m\u001b[0;34m\"program\"\u001b[0m\u001b[0;34m]\u001b[0m\u001b[0;34m\u001b[0m\u001b[0m\n\u001b[0;32m----> 2\u001b[0;31m \u001b[0;32mprint\u001b[0m \u001b[0ml\u001b[0m\u001b[0;34m.\u001b[0m\u001b[0mfind\u001b[0m\u001b[0;34m(\u001b[0m\u001b[0;34m\"PYTHON\"\u001b[0m\u001b[0;34m)\u001b[0m\u001b[0;34m\u001b[0m\u001b[0m\n\u001b[0m",
      "\u001b[0;31mAttributeError\u001b[0m: 'list' object has no attribute 'find'"
     ]
    }
   ],
   "source": [
    "l = [\"python\",\"cpp\",\"python\",\"program\"]\n",
    "print l.find(\"PYTHON\")"
   ]
  },
  {
   "cell_type": "code",
   "execution_count": 5,
   "metadata": {},
   "outputs": [
    {
     "name": "stdout",
     "output_type": "stream",
     "text": [
      "0\n"
     ]
    }
   ],
   "source": [
    "l = [\"python\",\"cpp\",\"python\",\"program\"]\n",
    "print l.index(\"python\")"
   ]
  },
  {
   "cell_type": "code",
   "execution_count": 6,
   "metadata": {},
   "outputs": [
    {
     "ename": "AttributeError",
     "evalue": "'list' object has no attribute 'find'",
     "output_type": "error",
     "traceback": [
      "\u001b[0;31m---------------------------------------------------------------------------\u001b[0m",
      "\u001b[0;31mAttributeError\u001b[0m                            Traceback (most recent call last)",
      "\u001b[0;32m<ipython-input-6-a9fcd3e2773e>\u001b[0m in \u001b[0;36m<module>\u001b[0;34m()\u001b[0m\n\u001b[1;32m      1\u001b[0m \u001b[0ml\u001b[0m \u001b[0;34m=\u001b[0m \u001b[0;34m[\u001b[0m\u001b[0;34m\"python\"\u001b[0m\u001b[0;34m,\u001b[0m\u001b[0;34m\"cpp\"\u001b[0m\u001b[0;34m,\u001b[0m\u001b[0;34m\"python\"\u001b[0m\u001b[0;34m,\u001b[0m\u001b[0;34m\"program\"\u001b[0m\u001b[0;34m]\u001b[0m\u001b[0;34m\u001b[0m\u001b[0m\n\u001b[0;32m----> 2\u001b[0;31m \u001b[0;32mprint\u001b[0m \u001b[0ml\u001b[0m\u001b[0;34m.\u001b[0m\u001b[0mfind\u001b[0m\u001b[0;34m(\u001b[0m\u001b[0;34m\"python\"\u001b[0m\u001b[0;34m)\u001b[0m\u001b[0;34m\u001b[0m\u001b[0m\n\u001b[0m",
      "\u001b[0;31mAttributeError\u001b[0m: 'list' object has no attribute 'find'"
     ]
    }
   ],
   "source": [
    "l = [\"python\",\"cpp\",\"python\",\"program\"]\n",
    "print l.find(\"python\")"
   ]
  },
  {
   "cell_type": "code",
   "execution_count": 9,
   "metadata": {},
   "outputs": [
    {
     "name": "stdout",
     "output_type": "stream",
     "text": [
      "None\n"
     ]
    }
   ],
   "source": [
    "l = [\"python\",\"cpp\",\"python\",\"program\"]\n",
    "l2 =l.insert(2,\"java\")\n",
    "print l2"
   ]
  },
  {
   "cell_type": "code",
   "execution_count": 10,
   "metadata": {},
   "outputs": [
    {
     "name": "stdout",
     "output_type": "stream",
     "text": [
      "['python', 'cpp', 'java', 'python', 'program']\n"
     ]
    }
   ],
   "source": [
    "l = [\"python\",\"cpp\",\"python\",\"program\"]\n",
    "l2 =l.insert(2,\"java\")\n",
    "print l"
   ]
  },
  {
   "cell_type": "code",
   "execution_count": 11,
   "metadata": {},
   "outputs": [
    {
     "name": "stdout",
     "output_type": "stream",
     "text": [
      "['python', 'cpp', 'python', 'program', 'java']\n"
     ]
    }
   ],
   "source": [
    "l = [\"python\",\"cpp\",\"python\",\"program\"]\n",
    "l2 =l.insert(20,\"java\")\n",
    "print l                                       # it insert lat value"
   ]
  },
  {
   "cell_type": "code",
   "execution_count": 12,
   "metadata": {},
   "outputs": [
    {
     "name": "stdout",
     "output_type": "stream",
     "text": [
      "['python', 'cpp', 'python', 'program', 'java']\n"
     ]
    }
   ],
   "source": [
    "l = [\"python\",\"cpp\",\"python\",\"program\"]\n",
    "l2 =l.insert(200,\"java\")\n",
    "print l                                       # it insert lat value"
   ]
  },
  {
   "cell_type": "code",
   "execution_count": 13,
   "metadata": {},
   "outputs": [
    {
     "name": "stdout",
     "output_type": "stream",
     "text": [
      "['java', 'python', 'cpp', 'python', 'program']\n"
     ]
    }
   ],
   "source": [
    "l = [\"python\",\"cpp\",\"python\",\"program\"]\n",
    "l2 =l.insert(0,\"java\")\n",
    "print l                                       # it insert lat value"
   ]
  },
  {
   "cell_type": "code",
   "execution_count": 14,
   "metadata": {},
   "outputs": [
    {
     "name": "stdout",
     "output_type": "stream",
     "text": [
      "['python', 'java', 'cpp', 'python', 'program']\n"
     ]
    }
   ],
   "source": [
    "l = [\"python\",\"cpp\",\"python\",\"program\"]\n",
    "l2 =l.insert(1,\"java\")\n",
    "print l                                       # it insert lat value"
   ]
  },
  {
   "cell_type": "code",
   "execution_count": 15,
   "metadata": {},
   "outputs": [
    {
     "name": "stdout",
     "output_type": "stream",
     "text": [
      "['python', 'cpp', 'java', 'python', 'program']\n"
     ]
    }
   ],
   "source": [
    "l = [\"python\",\"cpp\",\"python\",\"program\"]\n",
    "l2 =l.insert(2,\"java\")\n",
    "print l                                       # it insert lat value"
   ]
  },
  {
   "cell_type": "code",
   "execution_count": 16,
   "metadata": {},
   "outputs": [
    {
     "name": "stdout",
     "output_type": "stream",
     "text": [
      "['python', 'cpp', 'python', 'program', 'java']\n"
     ]
    },
    {
     "ename": "IndexError",
     "evalue": "list index out of range",
     "output_type": "error",
     "traceback": [
      "\u001b[0;31m---------------------------------------------------------------------------\u001b[0m",
      "\u001b[0;31mIndexError\u001b[0m                                Traceback (most recent call last)",
      "\u001b[0;32m<ipython-input-16-0d4aa7674e49>\u001b[0m in \u001b[0;36m<module>\u001b[0;34m()\u001b[0m\n\u001b[1;32m      2\u001b[0m \u001b[0ml\u001b[0m\u001b[0;34m.\u001b[0m\u001b[0minsert\u001b[0m\u001b[0;34m(\u001b[0m\u001b[0;36m20\u001b[0m\u001b[0;34m,\u001b[0m\u001b[0;34m\"java\"\u001b[0m\u001b[0;34m)\u001b[0m\u001b[0;34m\u001b[0m\u001b[0m\n\u001b[1;32m      3\u001b[0m \u001b[0;32mprint\u001b[0m \u001b[0ml\u001b[0m\u001b[0;34m\u001b[0m\u001b[0m\n\u001b[0;32m----> 4\u001b[0;31m \u001b[0;32mprint\u001b[0m \u001b[0ml\u001b[0m\u001b[0;34m[\u001b[0m\u001b[0;36m20\u001b[0m\u001b[0;34m]\u001b[0m\u001b[0;34m\u001b[0m\u001b[0m\n\u001b[0m",
      "\u001b[0;31mIndexError\u001b[0m: list index out of range"
     ]
    }
   ],
   "source": [
    "l = [\"python\",\"cpp\",\"python\",\"program\"]\n",
    "l.insert(20,\"java\")\n",
    "print l \n",
    "print l[20]             #it not prints value of 20 position in list of insert function but it prints in index function\n"
   ]
  },
  {
   "cell_type": "code",
   "execution_count": 19,
   "metadata": {},
   "outputs": [
    {
     "name": "stdout",
     "output_type": "stream",
     "text": [
      "['python', 'cpp', 'python', 'program', 'java']\n"
     ]
    },
    {
     "ename": "IndexError",
     "evalue": "list index out of range",
     "output_type": "error",
     "traceback": [
      "\u001b[0;31m---------------------------------------------------------------------------\u001b[0m",
      "\u001b[0;31mIndexError\u001b[0m                                Traceback (most recent call last)",
      "\u001b[0;32m<ipython-input-19-6d835cc2b2b8>\u001b[0m in \u001b[0;36m<module>\u001b[0;34m()\u001b[0m\n\u001b[1;32m      2\u001b[0m \u001b[0ml\u001b[0m\u001b[0;34m.\u001b[0m\u001b[0minsert\u001b[0m\u001b[0;34m(\u001b[0m\u001b[0;36m20\u001b[0m\u001b[0;34m,\u001b[0m\u001b[0;34m\"java\"\u001b[0m\u001b[0;34m)\u001b[0m\u001b[0;34m\u001b[0m\u001b[0m\n\u001b[1;32m      3\u001b[0m \u001b[0;32mprint\u001b[0m \u001b[0ml\u001b[0m\u001b[0;34m\u001b[0m\u001b[0m\n\u001b[0;32m----> 4\u001b[0;31m \u001b[0;32mprint\u001b[0m \u001b[0ml\u001b[0m\u001b[0;34m[\u001b[0m\u001b[0;36m20\u001b[0m\u001b[0;34m]\u001b[0m\u001b[0;34m\u001b[0m\u001b[0m\n\u001b[0m\u001b[1;32m      5\u001b[0m \u001b[0;31m#it not prints value of 20 position in list of insert function but it prints its position in index function\u001b[0m\u001b[0;34m\u001b[0m\u001b[0;34m\u001b[0m\u001b[0m\n",
      "\u001b[0;31mIndexError\u001b[0m: list index out of range"
     ]
    }
   ],
   "source": [
    "l = [\"python\",\"cpp\",\"python\",\"program\"]\n",
    "l.insert(20,\"java\")\n",
    "print l \n",
    "print l[20] \n",
    "#it not prints value of 20 position in list of insert function but it prints its position in index function\n"
   ]
  },
  {
   "cell_type": "code",
   "execution_count": 21,
   "metadata": {},
   "outputs": [
    {
     "name": "stdout",
     "output_type": "stream",
     "text": [
      "['python', 'cpp', 'python', 'program', 'java']\n",
      "4\n"
     ]
    }
   ],
   "source": [
    "l = [\"python\",\"cpp\",\"python\",\"program\"]\n",
    "l.insert(20,\"java\")\n",
    "print l \n",
    "print l.index(\"java\")\n",
    "#it not prints value of 20 position in list of insert function but it prints its position in index function\n"
   ]
  },
  {
   "cell_type": "code",
   "execution_count": 23,
   "metadata": {},
   "outputs": [
    {
     "name": "stdout",
     "output_type": "stream",
     "text": [
      "['python', 'cpp', 'program']\n",
      "python\n"
     ]
    }
   ],
   "source": [
    "l = [\"python\",\"cpp\",\"python\",\"program\"]\n",
    "l1=l.pop(2)\n",
    "print l\n",
    "print l1     # hear l1 is not none type it is also object type"
   ]
  },
  {
   "cell_type": "code",
   "execution_count": 25,
   "metadata": {},
   "outputs": [
    {
     "name": "stdout",
     "output_type": "stream",
     "text": [
      "program\n",
      "['python', 'cpp', 'python']\n"
     ]
    }
   ],
   "source": [
    "l = [\"python\",\"cpp\",\"python\",\"program\"]\n",
    "l1=l.pop()\n",
    "print l1    #by default if ther i sno such argument then it removes last element from list and prints\n",
    "print l    # hear l1 is not none type it is also object type"
   ]
  },
  {
   "cell_type": "code",
   "execution_count": 27,
   "metadata": {},
   "outputs": [
    {
     "ename": "TypeError",
     "evalue": "an integer is required",
     "output_type": "error",
     "traceback": [
      "\u001b[0;31m---------------------------------------------------------------------------\u001b[0m",
      "\u001b[0;31mTypeError\u001b[0m                                 Traceback (most recent call last)",
      "\u001b[0;32m<ipython-input-27-c19db0e2b45e>\u001b[0m in \u001b[0;36m<module>\u001b[0;34m()\u001b[0m\n\u001b[1;32m      1\u001b[0m \u001b[0ml\u001b[0m \u001b[0;34m=\u001b[0m \u001b[0;34m[\u001b[0m\u001b[0;34m\"python\"\u001b[0m\u001b[0;34m,\u001b[0m\u001b[0;34m\"cpp\"\u001b[0m\u001b[0;34m,\u001b[0m\u001b[0;34m\"python\"\u001b[0m\u001b[0;34m,\u001b[0m\u001b[0;34m\"program\"\u001b[0m\u001b[0;34m]\u001b[0m\u001b[0;34m\u001b[0m\u001b[0m\n\u001b[0;32m----> 2\u001b[0;31m \u001b[0ml1\u001b[0m\u001b[0;34m=\u001b[0m\u001b[0ml\u001b[0m\u001b[0;34m.\u001b[0m\u001b[0mpop\u001b[0m\u001b[0;34m(\u001b[0m\u001b[0;34m\"python\"\u001b[0m\u001b[0;34m)\u001b[0m\u001b[0;34m\u001b[0m\u001b[0m\n\u001b[0m",
      "\u001b[0;31mTypeError\u001b[0m: an integer is required"
     ]
    }
   ],
   "source": [
    "l = [\"python\",\"cpp\",\"python\",\"program\"]\n",
    "l1=l.pop(\"python\")                            "
   ]
  },
  {
   "cell_type": "code",
   "execution_count": 35,
   "metadata": {},
   "outputs": [
    {
     "name": "stdout",
     "output_type": "stream",
     "text": [
      "python\n",
      "['python', 'cpp', 'program']\n"
     ]
    }
   ],
   "source": [
    "l = [\"python\",\"cpp\",\"python\",\"program\"]\n",
    "l1=l.pop(2)\n",
    "print l1\n",
    "print l"
   ]
  },
  {
   "cell_type": "code",
   "execution_count": 34,
   "metadata": {},
   "outputs": [
    {
     "name": "stdout",
     "output_type": "stream",
     "text": [
      "python\n",
      "['cpp', 'python', 'program']\n"
     ]
    }
   ],
   "source": [
    "l = [\"python\",\"cpp\",\"python\",\"program\"]\n",
    "l1=l.pop(0)\n",
    "print l1\n",
    "print l"
   ]
  },
  {
   "cell_type": "code",
   "execution_count": 36,
   "metadata": {},
   "outputs": [
    {
     "name": "stdout",
     "output_type": "stream",
     "text": [
      "cpp\n",
      "['python', 'python', 'program']\n"
     ]
    }
   ],
   "source": [
    "l = [\"python\",\"cpp\",\"python\",\"program\"]\n",
    "l1=l.pop(1)\n",
    "print l1\n",
    "print l"
   ]
  },
  {
   "cell_type": "code",
   "execution_count": 37,
   "metadata": {},
   "outputs": [
    {
     "name": "stdout",
     "output_type": "stream",
     "text": [
      "program\n",
      "['python', 'cpp', 'python']\n"
     ]
    }
   ],
   "source": [
    "l = [\"python\",\"cpp\",\"python\",\"program\"]\n",
    "l1=l.pop(3)\n",
    "print l1\n",
    "print l"
   ]
  },
  {
   "cell_type": "code",
   "execution_count": 26,
   "metadata": {},
   "outputs": [
    {
     "ename": "IndexError",
     "evalue": "pop index out of range",
     "output_type": "error",
     "traceback": [
      "\u001b[0;31m---------------------------------------------------------------------------\u001b[0m",
      "\u001b[0;31mIndexError\u001b[0m                                Traceback (most recent call last)",
      "\u001b[0;32m<ipython-input-26-6c950a21bbe8>\u001b[0m in \u001b[0;36m<module>\u001b[0;34m()\u001b[0m\n\u001b[1;32m      1\u001b[0m \u001b[0ml\u001b[0m \u001b[0;34m=\u001b[0m \u001b[0;34m[\u001b[0m\u001b[0;34m\"python\"\u001b[0m\u001b[0;34m,\u001b[0m\u001b[0;34m\"cpp\"\u001b[0m\u001b[0;34m,\u001b[0m\u001b[0;34m\"python\"\u001b[0m\u001b[0;34m,\u001b[0m\u001b[0;34m\"program\"\u001b[0m\u001b[0;34m]\u001b[0m\u001b[0;34m\u001b[0m\u001b[0m\n\u001b[0;32m----> 2\u001b[0;31m \u001b[0ml1\u001b[0m\u001b[0;34m=\u001b[0m\u001b[0ml\u001b[0m\u001b[0;34m.\u001b[0m\u001b[0mpop\u001b[0m\u001b[0;34m(\u001b[0m\u001b[0;36m20\u001b[0m\u001b[0;34m)\u001b[0m\u001b[0;34m\u001b[0m\u001b[0m\n\u001b[0m\u001b[1;32m      3\u001b[0m \u001b[0;32mprint\u001b[0m \u001b[0ml1\u001b[0m\u001b[0;34m\u001b[0m\u001b[0m\n\u001b[1;32m      4\u001b[0m \u001b[0;32mprint\u001b[0m \u001b[0ml\u001b[0m\u001b[0;34m\u001b[0m\u001b[0m\n",
      "\u001b[0;31mIndexError\u001b[0m: pop index out of range"
     ]
    }
   ],
   "source": [
    "l = [\"python\",\"cpp\",\"python\",\"program\"]\n",
    "l1=l.pop(20)\n",
    "print l1    \n",
    "print l    "
   ]
  },
  {
   "cell_type": "code",
   "execution_count": 38,
   "metadata": {},
   "outputs": [
    {
     "ename": "ValueError",
     "evalue": "list.remove(x): x not in list",
     "output_type": "error",
     "traceback": [
      "\u001b[0;31m---------------------------------------------------------------------------\u001b[0m",
      "\u001b[0;31mValueError\u001b[0m                                Traceback (most recent call last)",
      "\u001b[0;32m<ipython-input-38-1641adec2ca1>\u001b[0m in \u001b[0;36m<module>\u001b[0;34m()\u001b[0m\n\u001b[1;32m      1\u001b[0m \u001b[0ml\u001b[0m \u001b[0;34m=\u001b[0m \u001b[0;34m[\u001b[0m\u001b[0;34m\"python\"\u001b[0m\u001b[0;34m,\u001b[0m\u001b[0;34m\"cpp\"\u001b[0m\u001b[0;34m,\u001b[0m\u001b[0;34m\"python\"\u001b[0m\u001b[0;34m,\u001b[0m\u001b[0;34m\"program\"\u001b[0m\u001b[0;34m]\u001b[0m\u001b[0;34m\u001b[0m\u001b[0m\n\u001b[0;32m----> 2\u001b[0;31m \u001b[0ml1\u001b[0m\u001b[0;34m=\u001b[0m\u001b[0ml\u001b[0m\u001b[0;34m.\u001b[0m\u001b[0mremove\u001b[0m\u001b[0;34m(\u001b[0m\u001b[0;36m2\u001b[0m\u001b[0;34m)\u001b[0m\u001b[0;34m\u001b[0m\u001b[0m\n\u001b[0m\u001b[1;32m      3\u001b[0m \u001b[0;32mprint\u001b[0m \u001b[0ml1\u001b[0m\u001b[0;34m\u001b[0m\u001b[0m\n\u001b[1;32m      4\u001b[0m \u001b[0;32mprint\u001b[0m \u001b[0ml\u001b[0m\u001b[0;34m\u001b[0m\u001b[0m\n",
      "\u001b[0;31mValueError\u001b[0m: list.remove(x): x not in list"
     ]
    }
   ],
   "source": [
    "l = [\"python\",\"cpp\",\"python\",\"program\"]\n",
    "l1=l.remove(2)\n",
    "print l1    \n",
    "print l    "
   ]
  },
  {
   "cell_type": "code",
   "execution_count": 39,
   "metadata": {},
   "outputs": [
    {
     "name": "stdout",
     "output_type": "stream",
     "text": [
      "None\n",
      "['cpp', 'python', 'program']\n"
     ]
    }
   ],
   "source": [
    "l = [\"python\",\"cpp\",\"python\",\"program\"]\n",
    "l1=l.remove(\"python\")\n",
    "print l1    \n",
    "print l    "
   ]
  },
  {
   "cell_type": "code",
   "execution_count": 40,
   "metadata": {},
   "outputs": [
    {
     "name": "stdout",
     "output_type": "stream",
     "text": [
      "None\n",
      "['python', 'python', 'program']\n"
     ]
    }
   ],
   "source": [
    "l = [\"python\",\"cpp\",\"python\",\"program\"]\n",
    "l1=l.remove(\"cpp\")\n",
    "print l1    \n",
    "print l    "
   ]
  },
  {
   "cell_type": "code",
   "execution_count": 41,
   "metadata": {},
   "outputs": [],
   "source": [
    "#wap remove all occurences  of given element from list"
   ]
  },
  {
   "cell_type": "code",
   "execution_count": 42,
   "metadata": {},
   "outputs": [
    {
     "name": "stdout",
     "output_type": "stream",
     "text": [
      "None\n"
     ]
    }
   ],
   "source": [
    "l = [\"python\",\"cpp\",\"python\",\"program\"]\n",
    "l1=l.reverse()\n",
    "print l1"
   ]
  },
  {
   "cell_type": "code",
   "execution_count": 43,
   "metadata": {},
   "outputs": [
    {
     "name": "stdout",
     "output_type": "stream",
     "text": [
      "['program', 'python', 'cpp', 'python']\n"
     ]
    }
   ],
   "source": [
    "l = [\"python\",\"cpp\",\"python\",\"program\"]\n",
    "l1=l.reverse()\n",
    "print l"
   ]
  },
  {
   "cell_type": "code",
   "execution_count": 48,
   "metadata": {},
   "outputs": [
    {
     "name": "stdout",
     "output_type": "stream",
     "text": [
      "None\n"
     ]
    }
   ],
   "source": [
    "l = [\"python\",\"cpp\",\"python\",\"program\"]\n",
    "l=l.reverse()   #None\n",
    "print l"
   ]
  },
  {
   "cell_type": "code",
   "execution_count": 49,
   "metadata": {},
   "outputs": [
    {
     "name": "stdout",
     "output_type": "stream",
     "text": [
      "None\n"
     ]
    }
   ],
   "source": [
    "l = [\"python\",\"cpp\",\"python\",\"program\"]\n",
    "l1=l.reverse()   #None\n",
    "print l1"
   ]
  },
  {
   "cell_type": "code",
   "execution_count": 50,
   "metadata": {},
   "outputs": [
    {
     "name": "stdout",
     "output_type": "stream",
     "text": [
      "None\n"
     ]
    }
   ],
   "source": [
    "l = [\"python\",\"cpp\",\"python\",\"program\"]\n",
    "l1=l.sort()   #None\n",
    "print l1"
   ]
  },
  {
   "cell_type": "code",
   "execution_count": 52,
   "metadata": {},
   "outputs": [
    {
     "name": "stdout",
     "output_type": "stream",
     "text": [
      "['cpp', 'program', 'python', 'python']\n"
     ]
    }
   ],
   "source": [
    "l = [\"python\",\"cpp\",\"python\",\"program\"]\n",
    "l1=l.sort()   \n",
    "print l                 #alphabet orderwise"
   ]
  },
  {
   "cell_type": "code",
   "execution_count": 53,
   "metadata": {},
   "outputs": [
    {
     "name": "stdout",
     "output_type": "stream",
     "text": [
      "None\n"
     ]
    }
   ],
   "source": [
    "l = [-10,40,60,-20,0,90,2,6]\n",
    "l1= l.sort()\n",
    "print l1"
   ]
  },
  {
   "cell_type": "code",
   "execution_count": 1,
   "metadata": {},
   "outputs": [
    {
     "name": "stdout",
     "output_type": "stream",
     "text": [
      "[-20, -10, 0, 2, 6, 40, 60, 90]\n"
     ]
    }
   ],
   "source": [
    "l = [-10,40,60,-20,0,90,2,6]\n",
    "l1= l.sort()\n",
    "print l                            #numbers orderwise"
   ]
  },
  {
   "cell_type": "code",
   "execution_count": 4,
   "metadata": {},
   "outputs": [
    {
     "name": "stdout",
     "output_type": "stream",
     "text": [
      "[90, 60, 40, 6, 2, 0, -10, -20]\n"
     ]
    }
   ],
   "source": [
    "l = [-10,40,60,-20,0,90,2,6]\n",
    "l1= l.sort(reverse=True)\n",
    "print l                            #numbers orderwise"
   ]
  },
  {
   "cell_type": "code",
   "execution_count": 5,
   "metadata": {},
   "outputs": [
    {
     "name": "stdout",
     "output_type": "stream",
     "text": [
      "90\n"
     ]
    }
   ],
   "source": [
    "l = [-10,40,60,-20,0,90,2,6]\n",
    "l1= l.sort(reverse=True)\n",
    "print l[0]"
   ]
  },
  {
   "cell_type": "code",
   "execution_count": 6,
   "metadata": {},
   "outputs": [
    {
     "name": "stdout",
     "output_type": "stream",
     "text": [
      "60\n"
     ]
    }
   ],
   "source": [
    "l = [-10,40,60,-20,0,90,2,6]\n",
    "l1= l.sort(reverse=True)\n",
    "print l[1]"
   ]
  },
  {
   "cell_type": "code",
   "execution_count": 7,
   "metadata": {},
   "outputs": [
    {
     "name": "stdout",
     "output_type": "stream",
     "text": [
      "90\n"
     ]
    }
   ],
   "source": [
    "l = [-10,40,60,-20,0,90,2,6,90]\n",
    "l1= l.sort(reverse=True)\n",
    "print l[1]"
   ]
  },
  {
   "cell_type": "code",
   "execution_count": 8,
   "metadata": {},
   "outputs": [],
   "source": [
    "# wap to find out nth max from the list,take the list from the user(as coma seperated values)"
   ]
  },
  {
   "cell_type": "code",
   "execution_count": 9,
   "metadata": {},
   "outputs": [
    {
     "name": "stdout",
     "output_type": "stream",
     "text": [
      "[6, 16, 30, 100]\n"
     ]
    }
   ],
   "source": [
    "l = [16,6,30,100]\n",
    "l.sort()\n",
    "print l"
   ]
  },
  {
   "cell_type": "code",
   "execution_count": 10,
   "metadata": {},
   "outputs": [
    {
     "ename": "TypeError",
     "evalue": "int() argument must be a string or a number, not 'list'",
     "output_type": "error",
     "traceback": [
      "\u001b[0;31m---------------------------------------------------------------------------\u001b[0m",
      "\u001b[0;31mTypeError\u001b[0m                                 Traceback (most recent call last)",
      "\u001b[0;32m<ipython-input-10-22450b129187>\u001b[0m in \u001b[0;36m<module>\u001b[0;34m()\u001b[0m\n\u001b[1;32m      1\u001b[0m \u001b[0ml\u001b[0m \u001b[0;34m=\u001b[0m \u001b[0;34m[\u001b[0m\u001b[0;36m16\u001b[0m\u001b[0;34m,\u001b[0m\u001b[0;36m6\u001b[0m\u001b[0;34m,\u001b[0m\u001b[0;36m30\u001b[0m\u001b[0;34m,\u001b[0m\u001b[0;36m100\u001b[0m\u001b[0;34m]\u001b[0m\u001b[0;34m\u001b[0m\u001b[0m\n\u001b[1;32m      2\u001b[0m \u001b[0;31m#[6, 16, 30, 100]\u001b[0m\u001b[0;34m\u001b[0m\u001b[0;34m\u001b[0m\u001b[0m\n\u001b[0;32m----> 3\u001b[0;31m \u001b[0;32mprint\u001b[0m \u001b[0mint\u001b[0m\u001b[0;34m(\u001b[0m\u001b[0ml\u001b[0m\u001b[0;34m)\u001b[0m\u001b[0;34m\u001b[0m\u001b[0m\n\u001b[0m",
      "\u001b[0;31mTypeError\u001b[0m: int() argument must be a string or a number, not 'list'"
     ]
    }
   ],
   "source": [
    "l = [16,6,30,100]\n",
    "#[6, 16, 30, 100]\n",
    "print int(l)"
   ]
  },
  {
   "cell_type": "code",
   "execution_count": 11,
   "metadata": {},
   "outputs": [
    {
     "data": {
      "text/plain": [
       "12"
      ]
     },
     "execution_count": 11,
     "metadata": {},
     "output_type": "execute_result"
    }
   ],
   "source": [
    "int(\"12\")\n"
   ]
  },
  {
   "cell_type": "code",
   "execution_count": 13,
   "metadata": {},
   "outputs": [
    {
     "ename": "ValueError",
     "evalue": "invalid literal for int() with base 10: 'hyderabad'",
     "output_type": "error",
     "traceback": [
      "\u001b[0;31m---------------------------------------------------------------------------\u001b[0m",
      "\u001b[0;31mValueError\u001b[0m                                Traceback (most recent call last)",
      "\u001b[0;32m<ipython-input-13-0c34e28796fc>\u001b[0m in \u001b[0;36m<module>\u001b[0;34m()\u001b[0m\n\u001b[0;32m----> 1\u001b[0;31m \u001b[0mint\u001b[0m\u001b[0;34m(\u001b[0m\u001b[0;34m\"hyderabad\"\u001b[0m\u001b[0;34m)\u001b[0m\u001b[0;34m\u001b[0m\u001b[0m\n\u001b[0m",
      "\u001b[0;31mValueError\u001b[0m: invalid literal for int() with base 10: 'hyderabad'"
     ]
    }
   ],
   "source": [
    "int(\"hyderabad\")"
   ]
  },
  {
   "cell_type": "code",
   "execution_count": 14,
   "metadata": {},
   "outputs": [
    {
     "data": {
      "text/plain": [
       "12"
      ]
     },
     "execution_count": 14,
     "metadata": {},
     "output_type": "execute_result"
    }
   ],
   "source": [
    "int(12.4)"
   ]
  },
  {
   "cell_type": "code",
   "execution_count": 15,
   "metadata": {},
   "outputs": [
    {
     "name": "stdout",
     "output_type": "stream",
     "text": [
      "[16, 6, 30, 100]\n"
     ]
    }
   ],
   "source": [
    "l = [16,6,30,100]\n",
    "#[6, 16, 30, 100]\n",
    "res=[]\n",
    "for i in l:\n",
    "    p=int(i)\n",
    "    res.append(p)\n",
    "print res"
   ]
  },
  {
   "cell_type": "code",
   "execution_count": 16,
   "metadata": {},
   "outputs": [
    {
     "name": "stdout",
     "output_type": "stream",
     "text": [
      "None\n"
     ]
    }
   ],
   "source": [
    "l = [16,6,30,100]\n",
    "#[6, 16, 30, 100]\n",
    "res=[]\n",
    "for i in l:\n",
    "    p=int(i)\n",
    "    res.append(p)\n",
    "print res.sort()"
   ]
  },
  {
   "cell_type": "code",
   "execution_count": 17,
   "metadata": {},
   "outputs": [
    {
     "name": "stdout",
     "output_type": "stream",
     "text": [
      "[6, 16, 30, 100]\n"
     ]
    }
   ],
   "source": [
    "l = [16,6,30,100]\n",
    "#[6, 16, 30, 100]\n",
    "res=[]\n",
    "for i in l:\n",
    "    p=int(i)\n",
    "    res.append(p)\n",
    "res.sort()\n",
    "print res"
   ]
  },
  {
   "cell_type": "code",
   "execution_count": 18,
   "metadata": {},
   "outputs": [
    {
     "name": "stdout",
     "output_type": "stream",
     "text": [
      "enter coma seperated elements: 10,20,40,60\n",
      "enter wich max: 3\n"
     ]
    }
   ],
   "source": [
    "# provide case insenstive count for list\n",
    "#wap remove all occurences of given element from list\n",
    "#wap to find out nth max from list,take the list from user(as coma sepersted values)\n",
    "s = raw_input(\"enter coma seperated elements: \")\n",
    "n = raw_input(\"enter wich max: \")\n"
   ]
  },
  {
   "cell_type": "code",
   "execution_count": 20,
   "metadata": {},
   "outputs": [
    {
     "name": "stdout",
     "output_type": "stream",
     "text": [
      "enter coma seperated elements: 10,20,40,60\n",
      "10,20,40,60\n"
     ]
    }
   ],
   "source": [
    "# provide case insenstive count for list\n",
    "#wap remove all occurences of given element from list\n",
    "#wap to find out nth max from list,take the list from user(as coma sepersted values)\n",
    "s = raw_input(\"enter coma seperated elements: \")\n",
    "print s\n",
    "\n"
   ]
  },
  {
   "cell_type": "code",
   "execution_count": 21,
   "metadata": {},
   "outputs": [
    {
     "name": "stdout",
     "output_type": "stream",
     "text": [
      "1\n"
     ]
    }
   ],
   "source": [
    "l = (\"a\",\"b\",\"c\",\"A\")\n",
    "print l.count(\"a\")"
   ]
  },
  {
   "cell_type": "code",
   "execution_count": 23,
   "metadata": {},
   "outputs": [
    {
     "ename": "AttributeError",
     "evalue": "'tuple' object has no attribute 'remove'",
     "output_type": "error",
     "traceback": [
      "\u001b[0;31m---------------------------------------------------------------------------\u001b[0m",
      "\u001b[0;31mAttributeError\u001b[0m                            Traceback (most recent call last)",
      "\u001b[0;32m<ipython-input-23-d6c3f700c4c9>\u001b[0m in \u001b[0;36m<module>\u001b[0;34m()\u001b[0m\n\u001b[1;32m      1\u001b[0m \u001b[0ml\u001b[0m\u001b[0;34m=\u001b[0m\u001b[0;34m(\u001b[0m\u001b[0;36m1\u001b[0m\u001b[0;34m,\u001b[0m\u001b[0;36m2\u001b[0m\u001b[0;34m,\u001b[0m\u001b[0;36m3\u001b[0m\u001b[0;34m,\u001b[0m\u001b[0;36m4\u001b[0m\u001b[0;34m,\u001b[0m\u001b[0;36m1\u001b[0m\u001b[0;34m,\u001b[0m\u001b[0;36m2\u001b[0m\u001b[0;34m,\u001b[0m\u001b[0;36m3\u001b[0m\u001b[0;34m,\u001b[0m\u001b[0;36m4\u001b[0m\u001b[0;34m,\u001b[0m\u001b[0;36m1\u001b[0m\u001b[0;34m,\u001b[0m\u001b[0;36m2\u001b[0m\u001b[0;34m,\u001b[0m\u001b[0;36m3\u001b[0m\u001b[0;34m,\u001b[0m\u001b[0;36m4\u001b[0m\u001b[0;34m)\u001b[0m\u001b[0;34m\u001b[0m\u001b[0m\n\u001b[0;32m----> 2\u001b[0;31m \u001b[0;32mprint\u001b[0m \u001b[0ml\u001b[0m\u001b[0;34m.\u001b[0m\u001b[0mremove\u001b[0m\u001b[0;34m(\u001b[0m\u001b[0;36m1\u001b[0m\u001b[0;34m)\u001b[0m\u001b[0;34m\u001b[0m\u001b[0m\n\u001b[0m",
      "\u001b[0;31mAttributeError\u001b[0m: 'tuple' object has no attribute 'remove'"
     ]
    }
   ],
   "source": [
    "l=(1,2,3,4,1,2,3,4,1,2,3,4)\n",
    "print l.remove(1)"
   ]
  },
  {
   "cell_type": "code",
   "execution_count": 25,
   "metadata": {},
   "outputs": [
    {
     "name": "stdout",
     "output_type": "stream",
     "text": [
      "[2, 3, 4, 1, 2, 3, 4, 1, 2, 3, 4]\n"
     ]
    }
   ],
   "source": [
    "l=[1,2,3,4,1,2,3,4,1,2,3,4]\n",
    "l.remove(1)\n",
    "print l"
   ]
  },
  {
   "cell_type": "code",
   "execution_count": 27,
   "metadata": {},
   "outputs": [
    {
     "data": {
      "text/plain": [
       "1"
      ]
     },
     "execution_count": 27,
     "metadata": {},
     "output_type": "execute_result"
    }
   ],
   "source": [
    "# provide case insensitive count for list\n",
    "l=[\"python\",\"PYTHon\",\"cpp\",\"java\",\"PYTHON\"]\n",
    "l.count('python')"
   ]
  },
  {
   "cell_type": "code",
   "execution_count": 28,
   "metadata": {},
   "outputs": [
    {
     "name": "stdout",
     "output_type": "stream",
     "text": [
      "element to count: 12\n"
     ]
    },
    {
     "ename": "AttributeError",
     "evalue": "'list' object has no attribute 'upper'",
     "output_type": "error",
     "traceback": [
      "\u001b[0;31m---------------------------------------------------------------------------\u001b[0m",
      "\u001b[0;31mAttributeError\u001b[0m                            Traceback (most recent call last)",
      "\u001b[0;32m<ipython-input-28-13c099666ff8>\u001b[0m in \u001b[0;36m<module>\u001b[0;34m()\u001b[0m\n\u001b[1;32m      2\u001b[0m \u001b[0ml\u001b[0m\u001b[0;34m=\u001b[0m\u001b[0;34m[\u001b[0m\u001b[0;34m\"python\"\u001b[0m\u001b[0;34m,\u001b[0m\u001b[0;34m\"PYTHon\"\u001b[0m\u001b[0;34m,\u001b[0m\u001b[0;34m\"cpp\"\u001b[0m\u001b[0;34m,\u001b[0m\u001b[0;34m\"java\"\u001b[0m\u001b[0;34m,\u001b[0m\u001b[0;34m\"PYTHON\"\u001b[0m\u001b[0;34m]\u001b[0m\u001b[0;34m\u001b[0m\u001b[0m\n\u001b[1;32m      3\u001b[0m \u001b[0mele\u001b[0m\u001b[0;34m=\u001b[0m\u001b[0mraw_input\u001b[0m\u001b[0;34m(\u001b[0m\u001b[0;34m\"element to count: \"\u001b[0m\u001b[0;34m)\u001b[0m\u001b[0;34m\u001b[0m\u001b[0m\n\u001b[0;32m----> 4\u001b[0;31m \u001b[0ml\u001b[0m\u001b[0;34m.\u001b[0m\u001b[0mupper\u001b[0m\u001b[0;34m\u001b[0m\u001b[0m\n\u001b[0m",
      "\u001b[0;31mAttributeError\u001b[0m: 'list' object has no attribute 'upper'"
     ]
    }
   ],
   "source": [
    "# provide case insensitive count for list\n",
    "l=[\"python\",\"PYTHon\",\"cpp\",\"java\",\"PYTHON\"]\n",
    "ele=raw_input(\"element to count: \")\n",
    "l.upper"
   ]
  },
  {
   "cell_type": "code",
   "execution_count": 30,
   "metadata": {},
   "outputs": [
    {
     "name": "stdout",
     "output_type": "stream",
     "text": [
      "element to count: 12\n",
      "['PYTHON', 'PYTHON', 'CPP', 'JAVA', 'PYTHON']\n"
     ]
    }
   ],
   "source": [
    "# provide case insensitive count for list\n",
    "l=[\"python\",\"PYTHon\",\"cpp\",\"java\",\"PYTHON\"]\n",
    "ele=raw_input(\"element to count: \")\n",
    "res=[]\n",
    "for i in l:\n",
    "    res.append(i.upper())\n",
    "print res"
   ]
  },
  {
   "cell_type": "code",
   "execution_count": 31,
   "metadata": {},
   "outputs": [
    {
     "name": "stdout",
     "output_type": "stream",
     "text": [
      "element to count: python\n",
      "3\n"
     ]
    }
   ],
   "source": [
    "# provide case insensitive count for list\n",
    "l=[\"python\",\"PYTHon\",\"cpp\",\"java\",\"PYTHON\"]\n",
    "ele=raw_input(\"element to count: \")\n",
    "ele_u=ele.upper()\n",
    "\n",
    "res=[]\n",
    "for i in l:\n",
    "    res.append(i.upper())\n",
    "print res.count(ele_u)"
   ]
  },
  {
   "cell_type": "code",
   "execution_count": 32,
   "metadata": {},
   "outputs": [
    {
     "name": "stdout",
     "output_type": "stream",
     "text": [
      "enter a num:2\n"
     ]
    },
    {
     "ename": "TypeError",
     "evalue": "not all arguments converted during string formatting",
     "output_type": "error",
     "traceback": [
      "\u001b[0;31m---------------------------------------------------------------------------\u001b[0m",
      "\u001b[0;31mTypeError\u001b[0m                                 Traceback (most recent call last)",
      "\u001b[0;32m<ipython-input-32-d5ad0e985d4f>\u001b[0m in \u001b[0;36m<module>\u001b[0;34m()\u001b[0m\n\u001b[1;32m      1\u001b[0m \u001b[0mn\u001b[0m \u001b[0;34m=\u001b[0m \u001b[0mraw_input\u001b[0m\u001b[0;34m(\u001b[0m\u001b[0;34m\"enter a num:\"\u001b[0m\u001b[0;34m)\u001b[0m\u001b[0;34m\u001b[0m\u001b[0m\n\u001b[0;32m----> 2\u001b[0;31m \u001b[0;32mif\u001b[0m \u001b[0mn\u001b[0m\u001b[0;34m%\u001b[0m\u001b[0;36m2\u001b[0m\u001b[0;34m==\u001b[0m\u001b[0;36m0\u001b[0m\u001b[0;34m:\u001b[0m\u001b[0;34m\u001b[0m\u001b[0m\n\u001b[0m\u001b[1;32m      3\u001b[0m     \u001b[0;32mprint\u001b[0m \u001b[0;34m\"even\"\u001b[0m\u001b[0;34m\u001b[0m\u001b[0m\n\u001b[1;32m      4\u001b[0m \u001b[0;32melse\u001b[0m\u001b[0;34m:\u001b[0m\u001b[0;34m\u001b[0m\u001b[0m\n\u001b[1;32m      5\u001b[0m     \u001b[0;32mprint\u001b[0m \u001b[0;34m\"odd\"\u001b[0m\u001b[0;34m\u001b[0m\u001b[0m\n",
      "\u001b[0;31mTypeError\u001b[0m: not all arguments converted during string formatting"
     ]
    }
   ],
   "source": [
    "n = raw_input(\"enter a num:\")\n",
    "if n%2==0:\n",
    "    print \"even\"\n",
    "else:\n",
    "    print \"odd\""
   ]
  },
  {
   "cell_type": "code",
   "execution_count": 33,
   "metadata": {},
   "outputs": [
    {
     "name": "stdout",
     "output_type": "stream",
     "text": [
      "enter a num:2\n",
      "even\n"
     ]
    }
   ],
   "source": [
    "n = raw_input(\"enter a num:\")\n",
    "if int(n)%2==0:\n",
    "    print \"even\"\n",
    "else:\n",
    "    print \"odd\""
   ]
  },
  {
   "cell_type": "code",
   "execution_count": 34,
   "metadata": {},
   "outputs": [
    {
     "name": "stdout",
     "output_type": "stream",
     "text": [
      "enter a num:9\n",
      "odd\n"
     ]
    }
   ],
   "source": [
    "n = raw_input(\"enter a num:\")\n",
    "if int(n)%2==0:\n",
    "    print \"even\"\n",
    "else:\n",
    "    print \"odd\"\n",
    "    "
   ]
  },
  {
   "cell_type": "code",
   "execution_count": 37,
   "metadata": {},
   "outputs": [
    {
     "name": "stdout",
     "output_type": "stream",
     "text": [
      "enter a num:4\n",
      "even\n"
     ]
    }
   ],
   "source": [
    "#compress code\n",
    "n = raw_input(\"enter a num:\")\n",
    "res= \"even\" if int(n)%2==0 else \"odd\"\n",
    "print res"
   ]
  },
  {
   "cell_type": "code",
   "execution_count": 38,
   "metadata": {},
   "outputs": [
    {
     "name": "stdout",
     "output_type": "stream",
     "text": [
      "enter a num:9\n",
      "odd\n"
     ]
    }
   ],
   "source": [
    "#compress code\n",
    "n = raw_input(\"enter a num:\")\n",
    "res= \"even\" if int(n)%2==0 else \"odd\"\n",
    "print res"
   ]
  },
  {
   "cell_type": "code",
   "execution_count": 39,
   "metadata": {},
   "outputs": [
    {
     "name": "stdout",
     "output_type": "stream",
     "text": [
      "enter a num:12\n",
      "even\n"
     ]
    }
   ],
   "source": [
    "#compress code\n",
    "n = raw_input(\"enter a num:\")\n",
    "print \"even\" if int(n)%2==0 else \"odd\"\n"
   ]
  },
  {
   "cell_type": "code",
   "execution_count": 40,
   "metadata": {},
   "outputs": [
    {
     "name": "stdout",
     "output_type": "stream",
     "text": [
      "enter a num:29\n",
      "odd\n"
     ]
    }
   ],
   "source": [
    "#compress code\n",
    "n = raw_input(\"enter a num:\")\n",
    "print \"even\" if int(n)%2==0 else \"odd\"\n"
   ]
  },
  {
   "cell_type": "code",
   "execution_count": 41,
   "metadata": {},
   "outputs": [
    {
     "name": "stdout",
     "output_type": "stream",
     "text": [
      "enter a num:10,20,40\n"
     ]
    },
    {
     "ename": "ValueError",
     "evalue": "invalid literal for int() with base 10: '10,20,40'",
     "output_type": "error",
     "traceback": [
      "\u001b[0;31m---------------------------------------------------------------------------\u001b[0m",
      "\u001b[0;31mValueError\u001b[0m                                Traceback (most recent call last)",
      "\u001b[0;32m<ipython-input-41-06e888add3d9>\u001b[0m in \u001b[0;36m<module>\u001b[0;34m()\u001b[0m\n\u001b[1;32m      1\u001b[0m \u001b[0;31m#compress code\u001b[0m\u001b[0;34m\u001b[0m\u001b[0;34m\u001b[0m\u001b[0m\n\u001b[1;32m      2\u001b[0m \u001b[0mn\u001b[0m \u001b[0;34m=\u001b[0m \u001b[0mraw_input\u001b[0m\u001b[0;34m(\u001b[0m\u001b[0;34m\"enter a num:\"\u001b[0m\u001b[0;34m)\u001b[0m\u001b[0;34m\u001b[0m\u001b[0m\n\u001b[0;32m----> 3\u001b[0;31m \u001b[0;32mprint\u001b[0m \u001b[0;34m\"even\"\u001b[0m \u001b[0;32mif\u001b[0m \u001b[0mint\u001b[0m\u001b[0;34m(\u001b[0m\u001b[0mn\u001b[0m\u001b[0;34m)\u001b[0m\u001b[0;34m%\u001b[0m\u001b[0;36m2\u001b[0m\u001b[0;34m==\u001b[0m\u001b[0;36m0\u001b[0m \u001b[0;32melse\u001b[0m \u001b[0;34m\"odd\"\u001b[0m\u001b[0;34m\u001b[0m\u001b[0m\n\u001b[0m",
      "\u001b[0;31mValueError\u001b[0m: invalid literal for int() with base 10: '10,20,40'"
     ]
    }
   ],
   "source": [
    "#compress code\n",
    "n = raw_input(\"enter a num:\")\n",
    "print \"even\" if int(n)%2==0 else \"odd\"\n"
   ]
  },
  {
   "cell_type": "code",
   "execution_count": 42,
   "metadata": {},
   "outputs": [
    {
     "name": "stdout",
     "output_type": "stream",
     "text": [
      "enter a num:10,20,30,40\n"
     ]
    },
    {
     "ename": "ValueError",
     "evalue": "invalid literal for int() with base 10: '10,20,30,40'",
     "output_type": "error",
     "traceback": [
      "\u001b[0;31m---------------------------------------------------------------------------\u001b[0m",
      "\u001b[0;31mValueError\u001b[0m                                Traceback (most recent call last)",
      "\u001b[0;32m<ipython-input-42-dd08beb2c359>\u001b[0m in \u001b[0;36m<module>\u001b[0;34m()\u001b[0m\n\u001b[1;32m      1\u001b[0m \u001b[0mn\u001b[0m \u001b[0;34m=\u001b[0m \u001b[0mraw_input\u001b[0m\u001b[0;34m(\u001b[0m\u001b[0;34m\"enter a num:\"\u001b[0m\u001b[0;34m)\u001b[0m\u001b[0;34m\u001b[0m\u001b[0m\n\u001b[1;32m      2\u001b[0m \u001b[0;32mfor\u001b[0m \u001b[0mi\u001b[0m \u001b[0;32min\u001b[0m \u001b[0mn\u001b[0m\u001b[0;34m.\u001b[0m\u001b[0msplit\u001b[0m\u001b[0;34m(\u001b[0m\u001b[0;34m\",\"\u001b[0m\u001b[0;34m)\u001b[0m\u001b[0;34m:\u001b[0m\u001b[0;34m\u001b[0m\u001b[0m\n\u001b[0;32m----> 3\u001b[0;31m     \u001b[0;32mprint\u001b[0m \u001b[0;34m\"even\"\u001b[0m \u001b[0;32mif\u001b[0m \u001b[0mint\u001b[0m\u001b[0;34m(\u001b[0m\u001b[0mn\u001b[0m\u001b[0;34m)\u001b[0m\u001b[0;34m%\u001b[0m\u001b[0;36m2\u001b[0m\u001b[0;34m==\u001b[0m\u001b[0;36m0\u001b[0m \u001b[0;32melse\u001b[0m \u001b[0;34m\"odd\"\u001b[0m\u001b[0;34m\u001b[0m\u001b[0m\n\u001b[0m",
      "\u001b[0;31mValueError\u001b[0m: invalid literal for int() with base 10: '10,20,30,40'"
     ]
    }
   ],
   "source": [
    "n = raw_input(\"enter a num:\")\n",
    "for i in n.split(\",\"):\n",
    "    print \"even\" if int(n)%2==0 else \"odd\""
   ]
  },
  {
   "cell_type": "code",
   "execution_count": 45,
   "metadata": {},
   "outputs": [
    {
     "name": "stdout",
     "output_type": "stream",
     "text": [
      "enter a num:10,20,30,13,19\n",
      "even\n",
      "even\n",
      "even\n",
      "odd\n",
      "odd\n"
     ]
    }
   ],
   "source": [
    "n = raw_input(\"enter a num:\")\n",
    "for i in n.split(\",\"):\n",
    "    print \"even\" if int(i)%2==0 else \"odd\""
   ]
  },
  {
   "cell_type": "code",
   "execution_count": 47,
   "metadata": {},
   "outputs": [
    {
     "name": "stdout",
     "output_type": "stream",
     "text": [
      "enter a num:10,20,30,40\n",
      "['10', '20', '30', '40']\n"
     ]
    }
   ],
   "source": [
    "n = raw_input(\"enter a num:\")\n",
    "print n.split(\",\")"
   ]
  },
  {
   "cell_type": "code",
   "execution_count": 48,
   "metadata": {},
   "outputs": [
    {
     "name": "stdout",
     "output_type": "stream",
     "text": [
      "enter an element seperated by coma:10;20;30;40\n",
      "1\n",
      "0\n",
      ";\n",
      "2\n",
      "0\n",
      ";\n",
      "3\n",
      "0\n",
      ";\n",
      "4\n",
      "0\n"
     ]
    }
   ],
   "source": [
    "n = raw_input(\"enter an element seperated by coma:\")\n",
    "for i in n:\n",
    "    print i"
   ]
  },
  {
   "cell_type": "code",
   "execution_count": 49,
   "metadata": {},
   "outputs": [
    {
     "name": "stdout",
     "output_type": "stream",
     "text": [
      "enter an element seperated by coma:220,20,40,199\n",
      "220\n",
      "20\n",
      "40\n",
      "199\n"
     ]
    }
   ],
   "source": [
    "n = raw_input(\"enter an element seperated by coma:\")\n",
    "for i in n.split(\",\"):\n",
    "    print i"
   ]
  },
  {
   "cell_type": "code",
   "execution_count": 51,
   "metadata": {},
   "outputs": [
    {
     "name": "stdout",
     "output_type": "stream",
     "text": [
      "enter an element seperated by coma:10\n",
      "positive\n"
     ]
    }
   ],
   "source": [
    "n = raw_input(\"enter an element seperated by coma:\")\n",
    "for i in n.split(\",\"):\n",
    "    print \"positive\" if i>0 else\"negetive\""
   ]
  },
  {
   "cell_type": "code",
   "execution_count": 52,
   "metadata": {},
   "outputs": [
    {
     "name": "stdout",
     "output_type": "stream",
     "text": [
      "enter an element seperated by coma:-10\n",
      "positive\n"
     ]
    }
   ],
   "source": [
    "n = raw_input(\"enter an element seperated by coma:\")\n",
    "for i in n.split(\",\"):\n",
    "    print \"positive\" if i>0 else\"negetive\""
   ]
  },
  {
   "cell_type": "code",
   "execution_count": 53,
   "metadata": {},
   "outputs": [
    {
     "name": "stdout",
     "output_type": "stream",
     "text": [
      "enter an element seperated by coma:10,20,-20,40,-60\n",
      "positive\n",
      "positive\n",
      "negetive\n",
      "positive\n",
      "negetive\n"
     ]
    }
   ],
   "source": [
    "n = raw_input(\"enter an element seperated by coma:\")\n",
    "for i in n.split(\",\"):\n",
    "    print \"positive\" if int(i)>0 else\"negetive\""
   ]
  },
  {
   "cell_type": "code",
   "execution_count": 54,
   "metadata": {},
   "outputs": [
    {
     "data": {
      "text/plain": [
       "True"
      ]
     },
     "execution_count": 54,
     "metadata": {},
     "output_type": "execute_result"
    }
   ],
   "source": [
    "\"10\">0"
   ]
  },
  {
   "cell_type": "code",
   "execution_count": 55,
   "metadata": {},
   "outputs": [
    {
     "data": {
      "text/plain": [
       "True"
      ]
     },
     "execution_count": 55,
     "metadata": {},
     "output_type": "execute_result"
    }
   ],
   "source": [
    "\"-10\">0\n"
   ]
  },
  {
   "cell_type": "code",
   "execution_count": 56,
   "metadata": {},
   "outputs": [
    {
     "data": {
      "text/plain": [
       "True"
      ]
     },
     "execution_count": 56,
     "metadata": {},
     "output_type": "execute_result"
    }
   ],
   "source": [
    "10>0"
   ]
  },
  {
   "cell_type": "code",
   "execution_count": 57,
   "metadata": {},
   "outputs": [
    {
     "data": {
      "text/plain": [
       "False"
      ]
     },
     "execution_count": 57,
     "metadata": {},
     "output_type": "execute_result"
    }
   ],
   "source": [
    "-10>0"
   ]
  },
  {
   "cell_type": "code",
   "execution_count": 1,
   "metadata": {},
   "outputs": [
    {
     "name": "stdout",
     "output_type": "stream",
     "text": [
      "enter an element seperated by coma:10,20,40,60\n"
     ]
    },
    {
     "ename": "ValueError",
     "evalue": "invalid literal for int() with base 10: '10,20,40,60'",
     "output_type": "error",
     "traceback": [
      "\u001b[0;31m---------------------------------------------------------------------------\u001b[0m",
      "\u001b[0;31mValueError\u001b[0m                                Traceback (most recent call last)",
      "\u001b[0;32m<ipython-input-1-9730f66035bd>\u001b[0m in \u001b[0;36m<module>\u001b[0;34m()\u001b[0m\n\u001b[1;32m      1\u001b[0m \u001b[0mn\u001b[0m \u001b[0;34m=\u001b[0m \u001b[0mraw_input\u001b[0m\u001b[0;34m(\u001b[0m\u001b[0;34m\"enter an element seperated by coma:\"\u001b[0m\u001b[0;34m)\u001b[0m\u001b[0;34m\u001b[0m\u001b[0m\n\u001b[1;32m      2\u001b[0m \u001b[0;32mfor\u001b[0m \u001b[0mi\u001b[0m \u001b[0;32min\u001b[0m \u001b[0mn\u001b[0m\u001b[0;34m.\u001b[0m\u001b[0msplit\u001b[0m\u001b[0;34m(\u001b[0m\u001b[0;34m\";\"\u001b[0m\u001b[0;34m)\u001b[0m\u001b[0;34m:\u001b[0m\u001b[0;34m\u001b[0m\u001b[0m\n\u001b[0;32m----> 3\u001b[0;31m     \u001b[0;32mprint\u001b[0m \u001b[0;34m\"positive\"\u001b[0m \u001b[0;32mif\u001b[0m \u001b[0mint\u001b[0m\u001b[0;34m(\u001b[0m\u001b[0mi\u001b[0m\u001b[0;34m)\u001b[0m\u001b[0;34m>\u001b[0m\u001b[0;36m0\u001b[0m \u001b[0;32melse\u001b[0m\u001b[0;34m\"negetive\"\u001b[0m\u001b[0;34m\u001b[0m\u001b[0m\n\u001b[0m",
      "\u001b[0;31mValueError\u001b[0m: invalid literal for int() with base 10: '10,20,40,60'"
     ]
    }
   ],
   "source": [
    "n = raw_input(\"enter an element seperated by coma:\")\n",
    "for i in n.split(\";\"):\n",
    "    print \"positive\" if int(i)>0 else\"negetive\""
   ]
  },
  {
   "cell_type": "code",
   "execution_count": 3,
   "metadata": {},
   "outputs": [
    {
     "name": "stdout",
     "output_type": "stream",
     "text": [
      "enter an element seperated by coma:10;20;40;60\n",
      "positive\n",
      "positive\n",
      "positive\n",
      "positive\n"
     ]
    }
   ],
   "source": [
    "n = raw_input(\"enter an element seperated by coma:\")\n",
    "for i in n.split(\";\"):\n",
    "    print \"positive\" if int(i)>0 else\"negetive\""
   ]
  },
  {
   "cell_type": "code",
   "execution_count": 5,
   "metadata": {},
   "outputs": [
    {
     "name": "stdout",
     "output_type": "stream",
     "text": [
      "enter an element seperated by coma:10,-20,-40,20,40\n",
      "['positive', 'negetive', 'negetive', 'positive', 'positive']\n"
     ]
    }
   ],
   "source": [
    "n = raw_input(\"enter an element seperated by coma:\")\n",
    "res=[]\n",
    "for i in n.split(\",\"):\n",
    "    r1=\"positive\" if int(i)>0 else\"negetive\"\n",
    "    res.append(r1)\n",
    "print res"
   ]
  },
  {
   "cell_type": "code",
   "execution_count": 7,
   "metadata": {},
   "outputs": [
    {
     "name": "stdout",
     "output_type": "stream",
     "text": [
      "enter an element seperated by coma:10,-20,-40,20,40\n",
      "['positive', 'negetive', 'negetive', 'positive', 'positive']\n"
     ]
    }
   ],
   "source": [
    "# compress code\n",
    "n = raw_input(\"enter an element seperated by coma:\")\n",
    "res=[]\n",
    "for i in n.split(\",\"):\n",
    "    res.append(\"positive\" if int(i)>0 else\"negetive\")\n",
    "    \n",
    "print res"
   ]
  },
  {
   "cell_type": "code",
   "execution_count": 8,
   "metadata": {},
   "outputs": [
    {
     "name": "stdout",
     "output_type": "stream",
     "text": [
      "enter an element seperated by coma:10,-20,-40,20,40\n",
      "None\n",
      "None\n",
      "None\n",
      "None\n",
      "None\n"
     ]
    }
   ],
   "source": [
    "# compress code\n",
    "n = raw_input(\"enter an element seperated by coma:\")\n",
    "res=[]\n",
    "for i in n.split(\",\"):\n",
    "     print res.append(\"positive\" if int(i)>0 else\"negetive\")\n",
    "    \n"
   ]
  },
  {
   "cell_type": "code",
   "execution_count": 12,
   "metadata": {},
   "outputs": [
    {
     "name": "stdout",
     "output_type": "stream",
     "text": [
      "enter an element seperated by coma:10,-20,-40,20,40\n",
      "['positive', 'negetive', 'negetive', 'positive', 'positive']\n"
     ]
    }
   ],
   "source": [
    "# compress code\n",
    "n = raw_input(\"enter an element seperated by coma:\")\n",
    "res=[]\n",
    "for i in n.split(\",\"):\n",
    "    res.append(\"positive\" if int(i)>0 else\"negetive\")\n",
    "    \n",
    "print res"
   ]
  },
  {
   "cell_type": "code",
   "execution_count": 11,
   "metadata": {},
   "outputs": [
    {
     "name": "stdout",
     "output_type": "stream",
     "text": [
      "enter an element seperated by coma:10,-20,-40,20,40\n",
      "['positive', 'negetive', 'negetive', 'positive', 'positive']\n"
     ]
    }
   ],
   "source": [
    "# compress code\n",
    "n = raw_input(\"enter an element seperated by coma:\")\n",
    "print [\"positive\" if int(i)>0 else\"negetive\" for i in n.split(\",\")]\n",
    "    \n"
   ]
  },
  {
   "cell_type": "code",
   "execution_count": 13,
   "metadata": {},
   "outputs": [
    {
     "name": "stdout",
     "output_type": "stream",
     "text": [
      "[22, 44, 66]\n"
     ]
    }
   ],
   "source": [
    "l=[12,34,56]\n",
    "#[22,44,66]\n",
    "res=[]\n",
    "for i in l:\n",
    "    res.append(i+10)\n",
    "print res"
   ]
  },
  {
   "cell_type": "code",
   "execution_count": 14,
   "metadata": {},
   "outputs": [
    {
     "name": "stdout",
     "output_type": "stream",
     "text": [
      "[12, 34, 56]\n"
     ]
    }
   ],
   "source": [
    "l=[12,34,56]\n",
    "#[22,44,66]\n",
    "print [i for i in l]\n"
   ]
  },
  {
   "cell_type": "code",
   "execution_count": 15,
   "metadata": {},
   "outputs": [
    {
     "name": "stdout",
     "output_type": "stream",
     "text": [
      "[22, 44, 66]\n"
     ]
    }
   ],
   "source": [
    "l=[12,34,56]\n",
    "#[22,44,66]\n",
    "print [i+10 for i in l]\n"
   ]
  },
  {
   "cell_type": "code",
   "execution_count": 1,
   "metadata": {},
   "outputs": [
    {
     "name": "stdout",
     "output_type": "stream",
     "text": [
      "enter element for semicolon seperateed: -12;36;90;900000\n"
     ]
    },
    {
     "ename": "TypeError",
     "evalue": "cannot concatenate 'str' and 'int' objects",
     "output_type": "error",
     "traceback": [
      "\u001b[0;31m---------------------------------------------------------------------------\u001b[0m",
      "\u001b[0;31mTypeError\u001b[0m                                 Traceback (most recent call last)",
      "\u001b[0;32m<ipython-input-1-183845423182>\u001b[0m in \u001b[0;36m<module>\u001b[0;34m()\u001b[0m\n\u001b[1;32m      1\u001b[0m \u001b[0;31m#-12;36;54;90;900000\u001b[0m\u001b[0;34m\u001b[0m\u001b[0;34m\u001b[0m\u001b[0m\n\u001b[1;32m      2\u001b[0m \u001b[0mn\u001b[0m\u001b[0;34m=\u001b[0m\u001b[0mraw_input\u001b[0m\u001b[0;34m(\u001b[0m\u001b[0;34m\"enter element for semicolon seperateed: \"\u001b[0m\u001b[0;34m)\u001b[0m\u001b[0;34m\u001b[0m\u001b[0m\n\u001b[0;32m----> 3\u001b[0;31m \u001b[0;32mprint\u001b[0m \u001b[0;34m[\u001b[0m\u001b[0mi\u001b[0m\u001b[0;34m+\u001b[0m\u001b[0;36m10\u001b[0m \u001b[0;32mfor\u001b[0m \u001b[0mi\u001b[0m \u001b[0;32min\u001b[0m \u001b[0mn\u001b[0m\u001b[0;34m.\u001b[0m\u001b[0msplit\u001b[0m\u001b[0;34m(\u001b[0m\u001b[0;34m\";\"\u001b[0m\u001b[0;34m)\u001b[0m\u001b[0;34m]\u001b[0m\u001b[0;34m\u001b[0m\u001b[0m\n\u001b[0m",
      "\u001b[0;31mTypeError\u001b[0m: cannot concatenate 'str' and 'int' objects"
     ]
    }
   ],
   "source": [
    "#-12;36;54;90;900000\n",
    "n=raw_input(\"enter element for semicolon seperateed: \")\n",
    "print [i+10 for i in n.split(\";\")]"
   ]
  },
  {
   "cell_type": "code",
   "execution_count": 3,
   "metadata": {},
   "outputs": [
    {
     "name": "stdout",
     "output_type": "stream",
     "text": [
      "enter element for semicolon seperateed: -12;36;54;90;900000\n",
      "[-2, 46, 64, 100, 900010]\n"
     ]
    }
   ],
   "source": [
    "#-12;36;54;90;900000\n",
    "n=raw_input(\"enter element for semicolon seperateed: \")\n",
    "print [int(i)+10 for i in n.split(\";\")]"
   ]
  },
  {
   "cell_type": "code",
   "execution_count": 5,
   "metadata": {},
   "outputs": [
    {
     "name": "stdout",
     "output_type": "stream",
     "text": [
      "enter element for semicolon seperateed: -12;36;54;90;900000;rty;wert\n"
     ]
    },
    {
     "ename": "ValueError",
     "evalue": "invalid literal for int() with base 10: 'rty'",
     "output_type": "error",
     "traceback": [
      "\u001b[0;31m---------------------------------------------------------------------------\u001b[0m",
      "\u001b[0;31mValueError\u001b[0m                                Traceback (most recent call last)",
      "\u001b[0;32m<ipython-input-5-8c96d11482e0>\u001b[0m in \u001b[0;36m<module>\u001b[0;34m()\u001b[0m\n\u001b[1;32m      1\u001b[0m \u001b[0;31m#-12;36;54;90;900000\u001b[0m\u001b[0;34m\u001b[0m\u001b[0;34m\u001b[0m\u001b[0m\n\u001b[1;32m      2\u001b[0m \u001b[0mn\u001b[0m\u001b[0;34m=\u001b[0m\u001b[0mraw_input\u001b[0m\u001b[0;34m(\u001b[0m\u001b[0;34m\"enter element for semicolon seperateed: \"\u001b[0m\u001b[0;34m)\u001b[0m\u001b[0;34m\u001b[0m\u001b[0m\n\u001b[0;32m----> 3\u001b[0;31m \u001b[0;32mprint\u001b[0m \u001b[0;34m[\u001b[0m\u001b[0mint\u001b[0m\u001b[0;34m(\u001b[0m\u001b[0mi\u001b[0m\u001b[0;34m)\u001b[0m\u001b[0;34m+\u001b[0m\u001b[0;36m10\u001b[0m \u001b[0;32mfor\u001b[0m \u001b[0mi\u001b[0m \u001b[0;32min\u001b[0m \u001b[0mn\u001b[0m\u001b[0;34m.\u001b[0m\u001b[0msplit\u001b[0m\u001b[0;34m(\u001b[0m\u001b[0;34m\";\"\u001b[0m\u001b[0;34m)\u001b[0m\u001b[0;34m]\u001b[0m\u001b[0;34m\u001b[0m\u001b[0m\n\u001b[0m",
      "\u001b[0;31mValueError\u001b[0m: invalid literal for int() with base 10: 'rty'"
     ]
    }
   ],
   "source": [
    "#-12;36;54;90;900000\n",
    "n=raw_input(\"enter element for semicolon seperateed: \")\n",
    "print [int(i)+10 for i in n.split(\";\")]"
   ]
  },
  {
   "cell_type": "code",
   "execution_count": 6,
   "metadata": {},
   "outputs": [
    {
     "ename": "TypeError",
     "evalue": "cannot concatenate 'str' and 'int' objects",
     "output_type": "error",
     "traceback": [
      "\u001b[0;31m---------------------------------------------------------------------------\u001b[0m",
      "\u001b[0;31mTypeError\u001b[0m                                 Traceback (most recent call last)",
      "\u001b[0;32m<ipython-input-6-533a820206ae>\u001b[0m in \u001b[0;36m<module>\u001b[0;34m()\u001b[0m\n\u001b[1;32m      1\u001b[0m \u001b[0ml\u001b[0m\u001b[0;34m=\u001b[0m\u001b[0;34m[\u001b[0m\u001b[0;36m10\u001b[0m\u001b[0;34m,\u001b[0m\u001b[0;36m20\u001b[0m\u001b[0;34m,\u001b[0m\u001b[0;36m30\u001b[0m\u001b[0;34m,\u001b[0m\u001b[0;34m\"wer\"\u001b[0m\u001b[0;34m,\u001b[0m\u001b[0;34m[\u001b[0m\u001b[0;36m10\u001b[0m\u001b[0;34m,\u001b[0m\u001b[0;36m20\u001b[0m\u001b[0;34m,\u001b[0m\u001b[0;36m30\u001b[0m\u001b[0;34m]\u001b[0m\u001b[0;34m]\u001b[0m\u001b[0;34m\u001b[0m\u001b[0m\n\u001b[0;32m----> 2\u001b[0;31m \u001b[0;32mprint\u001b[0m \u001b[0;34m[\u001b[0m\u001b[0mi\u001b[0m\u001b[0;34m+\u001b[0m\u001b[0;36m10\u001b[0m \u001b[0;32mfor\u001b[0m \u001b[0mi\u001b[0m \u001b[0;32min\u001b[0m \u001b[0ml\u001b[0m\u001b[0;34m]\u001b[0m\u001b[0;34m\u001b[0m\u001b[0m\n\u001b[0m",
      "\u001b[0;31mTypeError\u001b[0m: cannot concatenate 'str' and 'int' objects"
     ]
    }
   ],
   "source": [
    "l=[10,20,30,\"wer\",[10,20,30]]\n",
    "print [i+10 for i in l]         # hear it does not print for strings inn list\n",
    "                                #instead of that we are using isintance(i,int)"
   ]
  },
  {
   "cell_type": "code",
   "execution_count": 7,
   "metadata": {},
   "outputs": [
    {
     "name": "stdout",
     "output_type": "stream",
     "text": [
      "[20, 30, 40, 0, 0]\n"
     ]
    }
   ],
   "source": [
    "l=[10,20,30,\"wer\",[10,20,30]]\n",
    "print [i+10  if isinstance(i,int) else 0 for i in l]"
   ]
  },
  {
   "cell_type": "code",
   "execution_count": 8,
   "metadata": {},
   "outputs": [
    {
     "name": "stdout",
     "output_type": "stream",
     "text": [
      "[20, 30, 40, 10, 10]\n"
     ]
    }
   ],
   "source": [
    "l=[10,20,30,\"wer\",[10,20,30]]\n",
    "print [i+10  if isinstance(i,int) else 0+10 for i in l]"
   ]
  },
  {
   "cell_type": "code",
   "execution_count": 9,
   "metadata": {},
   "outputs": [
    {
     "ename": "SyntaxError",
     "evalue": "invalid syntax (<ipython-input-9-9163f675a364>, line 2)",
     "output_type": "error",
     "traceback": [
      "\u001b[0;36m  File \u001b[0;32m\"<ipython-input-9-9163f675a364>\"\u001b[0;36m, line \u001b[0;32m2\u001b[0m\n\u001b[0;31m    print [i+10  if isinstance(i,int)  for i in l]\u001b[0m\n\u001b[0m                                         ^\u001b[0m\n\u001b[0;31mSyntaxError\u001b[0m\u001b[0;31m:\u001b[0m invalid syntax\n"
     ]
    }
   ],
   "source": [
    "l=[10,20,30,\"wer\",[10,20,30]]\n",
    "print [i+10  if isinstance(i,int)  for i in l]"
   ]
  },
  {
   "cell_type": "code",
   "execution_count": 10,
   "metadata": {},
   "outputs": [
    {
     "ename": "SyntaxError",
     "evalue": "invalid syntax (<ipython-input-10-3e3febab71b6>, line 1)",
     "output_type": "error",
     "traceback": [
      "\u001b[0;36m  File \u001b[0;32m\"<ipython-input-10-3e3febab71b6>\"\u001b[0;36m, line \u001b[0;32m1\u001b[0m\n\u001b[0;31m    a=0 if True\u001b[0m\n\u001b[0m               ^\u001b[0m\n\u001b[0;31mSyntaxError\u001b[0m\u001b[0;31m:\u001b[0m invalid syntax\n"
     ]
    }
   ],
   "source": [
    "a=0 if True\n",
    "      print a"
   ]
  },
  {
   "cell_type": "code",
   "execution_count": 11,
   "metadata": {},
   "outputs": [
    {
     "ename": "SyntaxError",
     "evalue": "invalid syntax (<ipython-input-11-61515cc33d24>, line 1)",
     "output_type": "error",
     "traceback": [
      "\u001b[0;36m  File \u001b[0;32m\"<ipython-input-11-61515cc33d24>\"\u001b[0;36m, line \u001b[0;32m1\u001b[0m\n\u001b[0;31m    a=0 if True:\u001b[0m\n\u001b[0m               ^\u001b[0m\n\u001b[0;31mSyntaxError\u001b[0m\u001b[0;31m:\u001b[0m invalid syntax\n"
     ]
    }
   ],
   "source": [
    "a=0 if True:\n",
    "      print a"
   ]
  },
  {
   "cell_type": "code",
   "execution_count": 12,
   "metadata": {},
   "outputs": [
    {
     "name": "stdout",
     "output_type": "stream",
     "text": [
      "True\n"
     ]
    }
   ],
   "source": [
    "print isinstance(10,int)"
   ]
  },
  {
   "cell_type": "code",
   "execution_count": 13,
   "metadata": {},
   "outputs": [
    {
     "name": "stdout",
     "output_type": "stream",
     "text": [
      "False\n"
     ]
    }
   ],
   "source": [
    "print isinstance(10,str)"
   ]
  },
  {
   "cell_type": "code",
   "execution_count": 14,
   "metadata": {},
   "outputs": [
    {
     "name": "stdout",
     "output_type": "stream",
     "text": [
      "True\n"
     ]
    }
   ],
   "source": [
    "print isinstance(\"10\",str)"
   ]
  },
  {
   "cell_type": "code",
   "execution_count": 15,
   "metadata": {},
   "outputs": [
    {
     "name": "stdout",
     "output_type": "stream",
     "text": [
      "True\n"
     ]
    }
   ],
   "source": [
    "print isinstance(10,int)"
   ]
  },
  {
   "cell_type": "code",
   "execution_count": 16,
   "metadata": {},
   "outputs": [
    {
     "name": "stdout",
     "output_type": "stream",
     "text": [
      "False\n"
     ]
    }
   ],
   "source": [
    "print isinstance(10.4,int)"
   ]
  },
  {
   "cell_type": "code",
   "execution_count": 17,
   "metadata": {},
   "outputs": [
    {
     "name": "stdout",
     "output_type": "stream",
     "text": [
      "True\n"
     ]
    }
   ],
   "source": [
    "print isinstance(10.4,float)"
   ]
  },
  {
   "cell_type": "code",
   "execution_count": 18,
   "metadata": {},
   "outputs": [
    {
     "name": "stdout",
     "output_type": "stream",
     "text": [
      "True\n"
     ]
    }
   ],
   "source": [
    "print isinstance(10.4,float)"
   ]
  },
  {
   "cell_type": "code",
   "execution_count": 19,
   "metadata": {},
   "outputs": [
    {
     "name": "stdout",
     "output_type": "stream",
     "text": [
      "True\n"
     ]
    }
   ],
   "source": [
    "print isinstance(10.4,float)"
   ]
  },
  {
   "cell_type": "code",
   "execution_count": 20,
   "metadata": {},
   "outputs": [
    {
     "name": "stdout",
     "output_type": "stream",
     "text": [
      "[20, 30, 40, 0, 0]\n"
     ]
    }
   ],
   "source": [
    "l=[10,20,30,\"wer\",[10,20,30]]\n",
    "print [i+10  if isinstance(i,int) else 0 for i in l]"
   ]
  },
  {
   "cell_type": "code",
   "execution_count": 21,
   "metadata": {},
   "outputs": [
    {
     "name": "stdout",
     "output_type": "stream",
     "text": [
      "20\n",
      "30\n",
      "40\n",
      "0\n",
      "0\n"
     ]
    }
   ],
   "source": [
    "l=[10,20,30,\"wer\",[10,20,30]]\n",
    "for i in l:\n",
    "    if isinstance(i,int):\n",
    "        print i+10\n",
    "    else:\n",
    "        print 0"
   ]
  },
  {
   "cell_type": "code",
   "execution_count": 35,
   "metadata": {},
   "outputs": [
    {
     "name": "stdout",
     "output_type": "stream",
     "text": [
      "[20, 30, 40, 0, 0]\n"
     ]
    }
   ],
   "source": [
    "l=[10,20,30,\"wer\",[10,20,30]]\n",
    "res=[]\n",
    "for i in l:\n",
    "    if isinstance(i,int):\n",
    "        res.append(i+10)\n",
    "    else:\n",
    "        res.append(0)\n",
    "print res"
   ]
  },
  {
   "cell_type": "code",
   "execution_count": 30,
   "metadata": {},
   "outputs": [
    {
     "name": "stdout",
     "output_type": "stream",
     "text": [
      "[20, 30, 40, 0, 0]\n"
     ]
    }
   ],
   "source": [
    "l=[10,20,30,\"wer\",[10,20,30]]\n",
    "print [i+10  if isinstance(i,int) else 0 for i in l]"
   ]
  },
  {
   "cell_type": "code",
   "execution_count": 31,
   "metadata": {},
   "outputs": [
    {
     "name": "stdout",
     "output_type": "stream",
     "text": [
      "[20, 30, 40]\n"
     ]
    }
   ],
   "source": [
    "l=[10,20,30,\"wer\",[10,20,30]]\n",
    "print [i+10 for i in l  if isinstance(i,int) ]"
   ]
  },
  {
   "cell_type": "code",
   "execution_count": 36,
   "metadata": {},
   "outputs": [
    {
     "name": "stdout",
     "output_type": "stream",
     "text": [
      "['even', 'even', 'even', 'even']\n"
     ]
    }
   ],
   "source": [
    "l=[10,20,-30,40,\"wer\",1+2j]\n",
    "print[\"even\" if i%2==0 else \"odd\"for i in l if isinstance(i,int)]"
   ]
  },
  {
   "cell_type": "code",
   "execution_count": 38,
   "metadata": {},
   "outputs": [
    {
     "name": "stdout",
     "output_type": "stream",
     "text": [
      "['even', 'odd', 'even', 'odd']\n"
     ]
    }
   ],
   "source": [
    "l=[10,31,-30,93,\"wer\",1+2j]\n",
    "print[\"even\" if i%2==0 else \"odd\"for i in l if isinstance(i,int)]"
   ]
  },
  {
   "cell_type": "code",
   "execution_count": 39,
   "metadata": {},
   "outputs": [
    {
     "name": "stdout",
     "output_type": "stream",
     "text": [
      "None\n",
      "None\n",
      "None\n",
      "None\n",
      "['even', 'odd', 'even', 'odd']\n"
     ]
    }
   ],
   "source": [
    "l=[10,31,-30,93,\"wer\",1+2j]\n",
    "res=[]\n",
    "for i in l:\n",
    "     if isinstance(i,int):\n",
    "            if i%2==0:\n",
    "                print res.append(\"even\")\n",
    "            else:\n",
    "                 print res.append(\"odd\")\n",
    "print res"
   ]
  },
  {
   "cell_type": "code",
   "execution_count": 40,
   "metadata": {},
   "outputs": [
    {
     "name": "stdout",
     "output_type": "stream",
     "text": [
      "['even', 'odd', 'even', 'odd']\n"
     ]
    }
   ],
   "source": [
    "l=[10,31,-30,93,\"wer\",1+2j]\n",
    "res=[]\n",
    "for i in l:\n",
    "     if isinstance(i,int):\n",
    "            if i%2==0:\n",
    "                 res.append(\"even\")\n",
    "            else:\n",
    "                  res.append(\"odd\")\n",
    "print res"
   ]
  },
  {
   "cell_type": "code",
   "execution_count": 41,
   "metadata": {},
   "outputs": [
    {
     "name": "stdout",
     "output_type": "stream",
     "text": [
      "['even', 'odd', 'even', 'odd']\n"
     ]
    }
   ],
   "source": [
    "#compress the above code\n",
    "l=[10,31,-30,93,\"wer\",1+2j]\n",
    "print[\"even\" if i%2==0 else \"odd\"for i in l if isinstance(i,int)]"
   ]
  },
  {
   "cell_type": "code",
   "execution_count": 42,
   "metadata": {},
   "outputs": [
    {
     "name": "stdout",
     "output_type": "stream",
     "text": [
      "[10, 20, 30, 40, 50, 60, 2, 3, 5, 7, 11, 13]\n"
     ]
    }
   ],
   "source": [
    "even_numbers=[10,20,30,40,50,60]\n",
    "prime_numbers=[2,3,5,7,11,13]\n",
    "#10,2,20,3,30,5,40,7,50,11,60,13\n",
    "print even_numbers+prime_numbers"
   ]
  },
  {
   "cell_type": "code",
   "execution_count": 43,
   "metadata": {},
   "outputs": [
    {
     "name": "stdout",
     "output_type": "stream",
     "text": [
      "[10, 2, 20, 3, 30, 5, 40, 7, 50, 11, 60, 13]\n"
     ]
    }
   ],
   "source": [
    "even_numbers=[10,20,30,40,50,60]\n",
    "prime_numbers=[2,3,5,7,11,13]\n",
    "res=[]\n",
    "for i in range(6):\n",
    "    res.append(even_numbers[i])\n",
    "    res.append(prime_numbers[i])\n",
    "print res"
   ]
  },
  {
   "cell_type": "code",
   "execution_count": 44,
   "metadata": {},
   "outputs": [
    {
     "name": "stdout",
     "output_type": "stream",
     "text": [
      "(0, 10)\n",
      "(1, 20)\n",
      "(2, 30)\n",
      "(3, 40)\n",
      "(4, 50)\n",
      "(5, 60)\n"
     ]
    }
   ],
   "source": [
    "even_numbers=[10,20,30,40,50,60]\n",
    "prime_numbers=[2,3,5,7,11,13]\n",
    "for i in enumerate(even_numbers):\n",
    "    print i"
   ]
  },
  {
   "cell_type": "code",
   "execution_count": 45,
   "metadata": {},
   "outputs": [
    {
     "name": "stdout",
     "output_type": "stream",
     "text": [
      "0\n",
      "10\n"
     ]
    }
   ],
   "source": [
    "ind,val=(0,10)\n",
    "print ind\n",
    "print val"
   ]
  },
  {
   "cell_type": "code",
   "execution_count": 46,
   "metadata": {},
   "outputs": [
    {
     "name": "stdout",
     "output_type": "stream",
     "text": [
      "0 10\n",
      "1 20\n",
      "2 30\n",
      "3 40\n",
      "4 50\n",
      "5 60\n"
     ]
    }
   ],
   "source": [
    "even_numbers=[10,20,30,40,50,60]\n",
    "prime_numbers=[2,3,5,7,11,13]\n",
    "for ind,val in enumerate(even_numbers):\n",
    "    print ind,val"
   ]
  },
  {
   "cell_type": "code",
   "execution_count": 47,
   "metadata": {},
   "outputs": [
    {
     "name": "stdout",
     "output_type": "stream",
     "text": [
      "2 10\n",
      "3 20\n",
      "5 30\n",
      "7 40\n",
      "11 50\n",
      "13 60\n"
     ]
    }
   ],
   "source": [
    "even_numbers=[10,20,30,40,50,60]\n",
    "prime_numbers=[2,3,5,7,11,13]\n",
    "for ind,val in enumerate(even_numbers):\n",
    "    print prime_numbers[ind],val"
   ]
  },
  {
   "cell_type": "code",
   "execution_count": 48,
   "metadata": {},
   "outputs": [
    {
     "name": "stdout",
     "output_type": "stream",
     "text": [
      "[2, 10, 3, 20, 5, 30, 7, 40, 11, 50, 13, 60]\n"
     ]
    }
   ],
   "source": [
    "even_numbers=[10,20,30,40,50,60]\n",
    "prime_numbers=[2,3,5,7,11,13]\n",
    "res=[]\n",
    "for ind,val in enumerate(even_numbers):\n",
    "    res.extend([prime_numbers[ind],val])\n",
    "print res"
   ]
  },
  {
   "cell_type": "code",
   "execution_count": 49,
   "metadata": {},
   "outputs": [
    {
     "name": "stdout",
     "output_type": "stream",
     "text": [
      "[(10, 2), (20, 3), (30, 5), (40, 7), (50, 11), (60, 13)]\n"
     ]
    }
   ],
   "source": [
    "even_numbers=[10,20,30,40,50,60]\n",
    "prime_numbers=[2,3,5,7,11,13]\n",
    "print zip(even_numbers,prime_numbers)      #prints in tuple within list"
   ]
  },
  {
   "cell_type": "code",
   "execution_count": 50,
   "metadata": {},
   "outputs": [
    {
     "name": "stdout",
     "output_type": "stream",
     "text": [
      "[(10, 2, 1), (20, 3, 3), (30, 5, 5), (40, 7, 7), (50, 11, 9), (60, 13, 11)]\n"
     ]
    }
   ],
   "source": [
    "even_numbers=[10,20,30,40,50,60]\n",
    "prime_numbers=[2,3,5,7,11,13]\n",
    "odd_numbers=[1,3,5,7,9,11]\n",
    "print zip(even_numbers,prime_numbers,odd_numbers)      #prints in tuple within list"
   ]
  },
  {
   "cell_type": "code",
   "execution_count": 52,
   "metadata": {},
   "outputs": [
    {
     "name": "stdout",
     "output_type": "stream",
     "text": [
      "[10, 2, 20, 3, 30, 5, 40, 7, 50, 11, 60, 13]\n"
     ]
    }
   ],
   "source": [
    "even_numbers=[10,20,30,40,50,60]\n",
    "prime_numbers=[2,3,5,7,11,13]\n",
    "res=[]\n",
    "for e1,p1 in zip(even_numbers,prime_numbers):\n",
    "     res.extend((e1,p1))\n",
    "print res"
   ]
  },
  {
   "cell_type": "code",
   "execution_count": 53,
   "metadata": {},
   "outputs": [
    {
     "name": "stdout",
     "output_type": "stream",
     "text": [
      "[10, 2, 20, 3, 30, 5, 40, 7, 50, 11, 60, 13]\n"
     ]
    }
   ],
   "source": [
    "#compress above code \n",
    "even_numbers=[10,20,30,40,50,60]\n",
    "prime_numbers=[2,3,5,7,11,13]\n",
    "res=[]\n",
    "[res.extend((e1,p1))for e1,p1, in zip(even_numbers,prime_numbers)]\n",
    "print res"
   ]
  },
  {
   "cell_type": "code",
   "execution_count": 57,
   "metadata": {},
   "outputs": [
    {
     "name": "stdout",
     "output_type": "stream",
     "text": [
      "[(10, 2), (20, 3), (30, 5), (40, 7), (50, 11), (60, 13)]\n"
     ]
    }
   ],
   "source": [
    "#compress above code \n",
    "even_numbers=[10,20,30,40,50,60]\n",
    "prime_numbers=[2,3,5,7,11,13]\n",
    "\n",
    "print [(e1,p1)for e1,p1, in zip(even_numbers,prime_numbers)]\n"
   ]
  },
  {
   "cell_type": "code",
   "execution_count": 59,
   "metadata": {},
   "outputs": [
    {
     "data": {
      "text/plain": [
       "30"
      ]
     },
     "execution_count": 59,
     "metadata": {},
     "output_type": "execute_result"
    }
   ],
   "source": [
    "def fun(x,y):\n",
    "    return x+y\n",
    "fun(10,20)"
   ]
  },
  {
   "cell_type": "code",
   "execution_count": 60,
   "metadata": {},
   "outputs": [
    {
     "data": {
      "text/plain": [
       "30"
      ]
     },
     "execution_count": 60,
     "metadata": {},
     "output_type": "execute_result"
    }
   ],
   "source": [
    "f=lambda x,y:x+y             #lambda is directly function\n",
    "f(10,20)"
   ]
  },
  {
   "cell_type": "code",
   "execution_count": 61,
   "metadata": {},
   "outputs": [
    {
     "name": "stdout",
     "output_type": "stream",
     "text": [
      "even\n",
      "even\n",
      "even\n"
     ]
    }
   ],
   "source": [
    "#compressing code in three steps\n",
    "def f(x):\n",
    "    if x%2==0:\n",
    "        return \"even\"\n",
    "    else:\n",
    "        return \"odd\"\n",
    "        \n",
    "def f1(x):\n",
    "    return \"even\" if x%2==0 else \"odd\"\n",
    "\n",
    "f2= lambda x:  \"even\" if x%2==0 else \"odd\"\n",
    "print f(10)\n",
    "print f1(10)\n",
    "print f2(10)\n",
    "\n"
   ]
  },
  {
   "cell_type": "code",
   "execution_count": 64,
   "metadata": {},
   "outputs": [
    {
     "name": "stdout",
     "output_type": "stream",
     "text": [
      "even\n",
      "even\n",
      "even\n",
      "even\n"
     ]
    }
   ],
   "source": [
    "def f1(x):\n",
    "    return \"even\" if x%2==0 else \"odd\"\n",
    "l=[10,20,30,40]\n",
    "for i in l:\n",
    "    print f1(i)"
   ]
  },
  {
   "cell_type": "code",
   "execution_count": 65,
   "metadata": {},
   "outputs": [
    {
     "name": "stdout",
     "output_type": "stream",
     "text": [
      "['even', 'even', 'even', 'even']\n"
     ]
    }
   ],
   "source": [
    "def f1(x):\n",
    "    return \"even\" if x%2==0 else \"odd\"\n",
    "l=[10,20,30,40]\n",
    "res=[]\n",
    "for i in l:\n",
    "    res.append(f1(i))\n",
    "print res"
   ]
  },
  {
   "cell_type": "code",
   "execution_count": 66,
   "metadata": {},
   "outputs": [
    {
     "name": "stdout",
     "output_type": "stream",
     "text": [
      "['even', 'even', 'even', 'even']\n"
     ]
    }
   ],
   "source": [
    "#copmress code\n",
    "def f1(x):\n",
    "    return \"even\" if x%2==0 else \"odd\"\n",
    "l=[10,20,30,40]\n",
    "\n",
    "print [f1(i)for i in l]"
   ]
  },
  {
   "cell_type": "code",
   "execution_count": 67,
   "metadata": {},
   "outputs": [
    {
     "name": "stdout",
     "output_type": "stream",
     "text": [
      "['even', 'even', 'even', 'even']\n"
     ]
    }
   ],
   "source": [
    "#copmress code\n",
    "f1=lambda x: \"even\" if x%2==0 else \"odd\"\n",
    "l=[10,20,30,40]\n",
    "\n",
    "print [f1(i)for i in l]"
   ]
  },
  {
   "cell_type": "code",
   "execution_count": 69,
   "metadata": {},
   "outputs": [
    {
     "name": "stdout",
     "output_type": "stream",
     "text": [
      "['even', 'even', 'even', 'even']\n"
     ]
    }
   ],
   "source": [
    "#f1=lambda x: \"even\" if x%2==0 else \"odd\"\n",
    "def f(x):\n",
    "    if x%2==0:\n",
    "        return \"even\"\n",
    "    else:\n",
    "        return \"odd\"\n",
    "l=[10,20,30,40]\n",
    "print map(f,l)"
   ]
  },
  {
   "cell_type": "code",
   "execution_count": 70,
   "metadata": {},
   "outputs": [
    {
     "name": "stdout",
     "output_type": "stream",
     "text": [
      "[10, 10, 10, 10]\n"
     ]
    }
   ],
   "source": [
    "#f1=lambda x: \"even\" if x%2==0 else \"odd\"\n",
    "def f(x):\n",
    "    if x%2==0:\n",
    "        return 10\n",
    "l=[10,20,30,40]\n",
    "print map(f,l)"
   ]
  },
  {
   "cell_type": "code",
   "execution_count": 73,
   "metadata": {},
   "outputs": [
    {
     "name": "stdout",
     "output_type": "stream",
     "text": [
      "['even', 'even', None, 'even', None, 'even']\n"
     ]
    }
   ],
   "source": [
    "#f1=lambda x: \"even\" if x%2==0 else \"odd\"\n",
    "def f(x):\n",
    "    if x%2==0:\n",
    "        return \"even\"\n",
    "\n",
    "l=[10,20,21,30,31,40]\n",
    "print map(f,l)"
   ]
  },
  {
   "cell_type": "code",
   "execution_count": 74,
   "metadata": {},
   "outputs": [
    {
     "name": "stdout",
     "output_type": "stream",
     "text": [
      "[12, 34, 68]\n"
     ]
    }
   ],
   "source": [
    "l=[12,21,34,41,68,91]\n",
    "#[12,34,68]\n",
    "print [i for i in l if i%2==0]"
   ]
  },
  {
   "cell_type": "code",
   "execution_count": 79,
   "metadata": {},
   "outputs": [
    {
     "name": "stdout",
     "output_type": "stream",
     "text": [
      "[12, None, 34, None, 68, None]\n"
     ]
    }
   ],
   "source": [
    "l=[12,21,34,41,68,91]\n",
    "def fun(x):\n",
    "    if x%2==0:\n",
    "        return x\n",
    "print map(fun,l)"
   ]
  },
  {
   "cell_type": "code",
   "execution_count": 80,
   "metadata": {},
   "outputs": [
    {
     "name": "stdout",
     "output_type": "stream",
     "text": [
      "[12, None, 34, None, 68, None]\n"
     ]
    }
   ],
   "source": [
    "l=[12,21,34,41,68,91]\n",
    "def fun(x):\n",
    "    y=x+20\n",
    "    z=x+40            #it dont care about above if condition \n",
    "    if x%2==0:\n",
    "        return x\n",
    "print map(fun,l)"
   ]
  },
  {
   "cell_type": "code",
   "execution_count": 81,
   "metadata": {},
   "outputs": [
    {
     "name": "stdout",
     "output_type": "stream",
     "text": [
      "[12, 34, 68]\n"
     ]
    }
   ],
   "source": [
    "l=[12,21,34,41,68,91]\n",
    "def fun(x):\n",
    "    y=x+20\n",
    "    z=x+40          \n",
    "    if x%2==0:\n",
    "        return x\n",
    "print filter(fun,l)"
   ]
  },
  {
   "cell_type": "code",
   "execution_count": 82,
   "metadata": {},
   "outputs": [
    {
     "name": "stdout",
     "output_type": "stream",
     "text": [
      "[True, True, True, True, True, True, True, True, True, True]\n",
      "[0, 1, 2, 3, 4, 5, 6, 7, 8, 9]\n"
     ]
    }
   ],
   "source": [
    "def fun(x):\n",
    "    return True\n",
    "print map(fun,range(10))\n",
    "print filter(fun,range(10))"
   ]
  },
  {
   "cell_type": "code",
   "execution_count": 83,
   "metadata": {},
   "outputs": [
    {
     "name": "stdout",
     "output_type": "stream",
     "text": [
      "[True, True, True, True, True, True]\n",
      "[10, 23, 40, 89, 60, 80]\n"
     ]
    }
   ],
   "source": [
    "def fun(x):\n",
    "    return True\n",
    "print map(fun,[10,23,40,89,60,80])\n",
    "print filter(fun,[10,23,40,89,60,80])"
   ]
  },
  {
   "cell_type": "code",
   "execution_count": 84,
   "metadata": {},
   "outputs": [
    {
     "name": "stdout",
     "output_type": "stream",
     "text": [
      "[False, False, False, False, False, False]\n",
      "[]\n"
     ]
    }
   ],
   "source": [
    "def fun(x):\n",
    "    return False\n",
    "print map(fun,[10,23,40,89,60,80])\n",
    "print filter(fun,[10,23,40,89,60,80])"
   ]
  },
  {
   "cell_type": "code",
   "execution_count": 85,
   "metadata": {},
   "outputs": [
    {
     "name": "stdout",
     "output_type": "stream",
     "text": [
      "['even', 'odd', 'even', 'odd', 'even', 'even']\n",
      "[10, 23, 40, 89, 60, 80]\n"
     ]
    }
   ],
   "source": [
    "def fun(x):\n",
    "    if x%2==0:\n",
    "        return \"even\"\n",
    "    else:\n",
    "        return \"odd\"\n",
    "print map(fun,[10,23,40,89,60,80])\n",
    "print filter(fun,[10,23,40,89,60,80])"
   ]
  },
  {
   "cell_type": "code",
   "execution_count": 86,
   "metadata": {},
   "outputs": [
    {
     "data": {
      "text/plain": [
       "False"
      ]
     },
     "execution_count": 86,
     "metadata": {},
     "output_type": "execute_result"
    }
   ],
   "source": [
    "bool(\"\")"
   ]
  },
  {
   "cell_type": "code",
   "execution_count": 87,
   "metadata": {},
   "outputs": [
    {
     "data": {
      "text/plain": [
       "True"
      ]
     },
     "execution_count": 87,
     "metadata": {},
     "output_type": "execute_result"
    }
   ],
   "source": [
    "bool(\"True\")"
   ]
  },
  {
   "cell_type": "code",
   "execution_count": 88,
   "metadata": {},
   "outputs": [
    {
     "data": {
      "text/plain": [
       "True"
      ]
     },
     "execution_count": 88,
     "metadata": {},
     "output_type": "execute_result"
    }
   ],
   "source": [
    "bool(\"False\")"
   ]
  },
  {
   "cell_type": "code",
   "execution_count": 89,
   "metadata": {},
   "outputs": [
    {
     "data": {
      "text/plain": [
       "True"
      ]
     },
     "execution_count": 89,
     "metadata": {},
     "output_type": "execute_result"
    }
   ],
   "source": [
    "bool(\"even\")"
   ]
  },
  {
   "cell_type": "code",
   "execution_count": 90,
   "metadata": {},
   "outputs": [
    {
     "data": {
      "text/plain": [
       "True"
      ]
     },
     "execution_count": 90,
     "metadata": {},
     "output_type": "execute_result"
    }
   ],
   "source": [
    "bool(\"odd\")"
   ]
  },
  {
   "cell_type": "code",
   "execution_count": 91,
   "metadata": {},
   "outputs": [
    {
     "name": "stdout",
     "output_type": "stream",
     "text": [
      "['even', 'odd', 'even', 'odd', 'even', 'even']\n",
      "[10, 23, 40, 89, 60, 80]\n"
     ]
    }
   ],
   "source": [
    "def fun(x):\n",
    "    if x%2==0:\n",
    "        return \"even\"\n",
    "    else:\n",
    "        return \"odd\"\n",
    "print map(fun,[10,23,40,89,60,80])\n",
    "print filter(fun,[10,23,40,89,60,80])"
   ]
  },
  {
   "cell_type": "code",
   "execution_count": 92,
   "metadata": {},
   "outputs": [
    {
     "name": "stdout",
     "output_type": "stream",
     "text": [
      "[1, 0, 1, 0, 1, 1]\n",
      "[10, 40, 60, 80]\n"
     ]
    }
   ],
   "source": [
    "def fun(x):\n",
    "    if x%2==0:\n",
    "        return 1\n",
    "    else:\n",
    "        return 0\n",
    "print map(fun,[10,23,40,89,60,80])\n",
    "print filter(fun,[10,23,40,89,60,80])"
   ]
  },
  {
   "cell_type": "code",
   "execution_count": 94,
   "metadata": {},
   "outputs": [
    {
     "name": "stdout",
     "output_type": "stream",
     "text": [
      "<type 'int'>\n"
     ]
    }
   ],
   "source": [
    "a=(10)\n",
    "print type(a)"
   ]
  },
  {
   "cell_type": "code",
   "execution_count": 96,
   "metadata": {},
   "outputs": [
    {
     "name": "stdout",
     "output_type": "stream",
     "text": [
      "<type 'tuple'>\n"
     ]
    }
   ],
   "source": [
    "a=(10,)\n",
    "print type(a)"
   ]
  },
  {
   "cell_type": "code",
   "execution_count": 97,
   "metadata": {},
   "outputs": [
    {
     "name": "stdout",
     "output_type": "stream",
     "text": [
      "[10, 20, 10, 20, 30, 200, 300]\n",
      "[10, 20, 10, 20, 200, 300]\n"
     ]
    }
   ],
   "source": [
    "#provide case insensitive count for list\n",
    "#wap to remove all occurences of given element from list\n",
    "#wap find out nth max from list,take the list from user(a coma seperated values)\n",
    "#wap to remove all occurences of given element from list\n",
    "l=[10,20,30,10,20,30,200,300]\n",
    "while l.count(30)>0:\n",
    "    l.remove(30)\n",
    "    print l"
   ]
  },
  {
   "cell_type": "code",
   "execution_count": 98,
   "metadata": {},
   "outputs": [
    {
     "name": "stdout",
     "output_type": "stream",
     "text": [
      "40\n"
     ]
    }
   ],
   "source": [
    "#wap find out nth max from list,take the list from user(a coma seperated values)\n",
    "l=[10,20,30,40,40,40,30,40,40,40,40]\n",
    "l.sort()\n",
    "print l[-2]"
   ]
  },
  {
   "cell_type": "code",
   "execution_count": 102,
   "metadata": {},
   "outputs": [
    {
     "name": "stdout",
     "output_type": "stream",
     "text": [
      "set([40, 10, 20, 30])\n"
     ]
    }
   ],
   "source": [
    "l=[10,20,30,40,40,40,30,40,40,40,40]\n",
    "l1=set(l)\n",
    "print l1"
   ]
  },
  {
   "cell_type": "code",
   "execution_count": 103,
   "metadata": {},
   "outputs": [
    {
     "name": "stdout",
     "output_type": "stream",
     "text": [
      "10\n"
     ]
    },
    {
     "ename": "TypeError",
     "evalue": "'set' object does not support indexing",
     "output_type": "error",
     "traceback": [
      "\u001b[0;31m---------------------------------------------------------------------------\u001b[0m",
      "\u001b[0;31mTypeError\u001b[0m                                 Traceback (most recent call last)",
      "\u001b[0;32m<ipython-input-103-ef3a4739ca1a>\u001b[0m in \u001b[0;36m<module>\u001b[0;34m()\u001b[0m\n\u001b[1;32m      2\u001b[0m \u001b[0ml1\u001b[0m\u001b[0;34m=\u001b[0m\u001b[0mset\u001b[0m\u001b[0;34m(\u001b[0m\u001b[0ml\u001b[0m\u001b[0;34m)\u001b[0m\u001b[0;34m\u001b[0m\u001b[0m\n\u001b[1;32m      3\u001b[0m \u001b[0;32mprint\u001b[0m \u001b[0ml\u001b[0m\u001b[0;34m[\u001b[0m\u001b[0;36m0\u001b[0m\u001b[0;34m]\u001b[0m\u001b[0;34m\u001b[0m\u001b[0m\n\u001b[0;32m----> 4\u001b[0;31m \u001b[0;32mprint\u001b[0m \u001b[0ml1\u001b[0m\u001b[0;34m[\u001b[0m\u001b[0;36m0\u001b[0m\u001b[0;34m]\u001b[0m\u001b[0;34m\u001b[0m\u001b[0m\n\u001b[0m",
      "\u001b[0;31mTypeError\u001b[0m: 'set' object does not support indexing"
     ]
    }
   ],
   "source": [
    "l=[10,20,30,40,40,40,30,40,40,40,40]\n",
    "l1=set(l)\n",
    "print l[0]\n",
    "print l1[0]"
   ]
  },
  {
   "cell_type": "code",
   "execution_count": 104,
   "metadata": {},
   "outputs": [
    {
     "name": "stdout",
     "output_type": "stream",
     "text": [
      "10\n",
      "20\n",
      "30\n",
      "40\n",
      "40\n",
      "40\n",
      "30\n",
      "40\n",
      "40\n",
      "40\n",
      "40\n"
     ]
    }
   ],
   "source": [
    "l=[10,20,30,40,40,40,30,40,40,40,40]\n",
    "l1=set(l)\n",
    "for i in l:\n",
    "    print i"
   ]
  },
  {
   "cell_type": "code",
   "execution_count": 105,
   "metadata": {},
   "outputs": [
    {
     "name": "stdout",
     "output_type": "stream",
     "text": [
      "40\n",
      "10\n",
      "20\n",
      "30\n"
     ]
    }
   ],
   "source": [
    "l=[10,20,30,40,40,40,30,40,40,40,40]\n",
    "l1=set(l)\n",
    "for i in l1:\n",
    "    print i"
   ]
  },
  {
   "cell_type": "code",
   "execution_count": 106,
   "metadata": {},
   "outputs": [
    {
     "name": "stdout",
     "output_type": "stream",
     "text": [
      "[40, 10, 20, 30]\n"
     ]
    }
   ],
   "source": [
    "l=[10,20,30,40,40,40,30,40,40,40,40]\n",
    "l1=set(l)\n",
    "l2=list(l1)\n",
    "print l2"
   ]
  },
  {
   "cell_type": "code",
   "execution_count": 107,
   "metadata": {},
   "outputs": [
    {
     "name": "stdout",
     "output_type": "stream",
     "text": [
      "30\n"
     ]
    }
   ],
   "source": [
    "l=[10,20,30,40,40,40,30,40,40,40,40]\n",
    "l1=set(l)\n",
    "l2=list(l1)\n",
    "l2.sort()\n",
    "print l2[-2]"
   ]
  },
  {
   "cell_type": "code",
   "execution_count": 108,
   "metadata": {},
   "outputs": [
    {
     "name": "stdout",
     "output_type": "stream",
     "text": [
      "20\n"
     ]
    }
   ],
   "source": [
    "l=[10,20,30,40,40,40,30,40,40,40,40]\n",
    "l1=set(l)\n",
    "l2=list(l1)\n",
    "l2.sort()\n",
    "print l2[-3]"
   ]
  },
  {
   "cell_type": "code",
   "execution_count": 109,
   "metadata": {},
   "outputs": [
    {
     "name": "stdout",
     "output_type": "stream",
     "text": [
      "20\n"
     ]
    }
   ],
   "source": [
    "l=[10,20,30,40,40,40,30,40,40,40,40]\n",
    "l1=list(set(l))\n",
    "\n",
    "l.sort()\n",
    "print l2[-3]"
   ]
  },
  {
   "cell_type": "code",
   "execution_count": 110,
   "metadata": {},
   "outputs": [
    {
     "name": "stdout",
     "output_type": "stream",
     "text": [
      "30\n"
     ]
    }
   ],
   "source": [
    "l=[10,20,30,40,40,40,30,40,40,40,40]\n",
    "max_ele=max(l)\n",
    "while l.count(max_ele)>0:\n",
    "    l.remove(max_ele)\n",
    "print max(l)"
   ]
  },
  {
   "cell_type": "code",
   "execution_count": 2,
   "metadata": {},
   "outputs": [
    {
     "name": "stdout",
     "output_type": "stream",
     "text": [
      "enter nth max: 1\n",
      "40\n"
     ]
    }
   ],
   "source": [
    "l=[10,20,30,40,40,40,30,40,40,40,40]\n",
    "n=int(raw_input(\"enter nth max: \"))\n",
    "for i in range(1,n):\n",
    "    max_ele=max(l)\n",
    "    while l.count(max_ele)>0:\n",
    "        l.remove(max_ele)\n",
    "print max(l)"
   ]
  },
  {
   "cell_type": "code",
   "execution_count": 5,
   "metadata": {},
   "outputs": [
    {
     "name": "stdout",
     "output_type": "stream",
     "text": [
      "enter nth max: 2\n",
      "30\n"
     ]
    }
   ],
   "source": [
    "l=[10,20,30,40,40,40,30,40,40,40,40]\n",
    "n=int(raw_input(\"enter nth max: \"))\n",
    "for i in range(1,n):\n",
    "    max_ele=max(l)\n",
    "    while l.count(max_ele)>0:\n",
    "        l.remove(max_ele)\n",
    "print max(l)"
   ]
  },
  {
   "cell_type": "code",
   "execution_count": 6,
   "metadata": {},
   "outputs": [
    {
     "name": "stdout",
     "output_type": "stream",
     "text": [
      "enter nth max: 3\n",
      "20\n"
     ]
    }
   ],
   "source": [
    "l=[10,20,30,40,40,40,30,40,40,40,40]\n",
    "n=int(raw_input(\"enter nth max: \"))\n",
    "for i in range(1,n):\n",
    "    max_ele=max(l)\n",
    "    while l.count(max_ele)>0:\n",
    "        l.remove(max_ele)\n",
    "print max(l)"
   ]
  },
  {
   "cell_type": "code",
   "execution_count": 7,
   "metadata": {},
   "outputs": [
    {
     "name": "stdout",
     "output_type": "stream",
     "text": [
      "enter nth max: 4\n",
      "10\n"
     ]
    }
   ],
   "source": [
    "l=[10,20,30,40,40,40,30,40,40,40,40]\n",
    "n=int(raw_input(\"enter nth max: \"))\n",
    "for i in range(1,n):\n",
    "    max_ele=max(l)\n",
    "    while l.count(max_ele)>0:\n",
    "        l.remove(max_ele)\n",
    "print max(l)"
   ]
  },
  {
   "cell_type": "code",
   "execution_count": 10,
   "metadata": {},
   "outputs": [
    {
     "ename": "TypeError",
     "evalue": "'NoneType' object has no attribute '__getitem__'",
     "output_type": "error",
     "traceback": [
      "\u001b[0;31m---------------------------------------------------------------------------\u001b[0m",
      "\u001b[0;31mTypeError\u001b[0m                                 Traceback (most recent call last)",
      "\u001b[0;32m<ipython-input-10-4d1b5dfd18b8>\u001b[0m in \u001b[0;36m<module>\u001b[0;34m()\u001b[0m\n\u001b[1;32m      1\u001b[0m \u001b[0ml\u001b[0m\u001b[0;34m=\u001b[0m\u001b[0;34m[\u001b[0m\u001b[0;36m10\u001b[0m\u001b[0;34m,\u001b[0m\u001b[0;36m20\u001b[0m\u001b[0;34m,\u001b[0m\u001b[0;36m30\u001b[0m\u001b[0;34m,\u001b[0m\u001b[0;36m40\u001b[0m\u001b[0;34m,\u001b[0m\u001b[0;36m40\u001b[0m\u001b[0;34m,\u001b[0m\u001b[0;36m40\u001b[0m\u001b[0;34m,\u001b[0m\u001b[0;36m30\u001b[0m\u001b[0;34m,\u001b[0m\u001b[0;36m40\u001b[0m\u001b[0;34m,\u001b[0m\u001b[0;36m40\u001b[0m\u001b[0;34m,\u001b[0m\u001b[0;36m40\u001b[0m\u001b[0;34m,\u001b[0m\u001b[0;36m40\u001b[0m\u001b[0;34m]\u001b[0m\u001b[0;34m\u001b[0m\u001b[0m\n\u001b[1;32m      2\u001b[0m \u001b[0ml1\u001b[0m\u001b[0;34m=\u001b[0m\u001b[0ml\u001b[0m\u001b[0;34m.\u001b[0m\u001b[0msort\u001b[0m\u001b[0;34m(\u001b[0m\u001b[0;34m)\u001b[0m\u001b[0;34m\u001b[0m\u001b[0m\n\u001b[0;32m----> 3\u001b[0;31m \u001b[0;32mprint\u001b[0m \u001b[0ml1\u001b[0m\u001b[0;34m[\u001b[0m\u001b[0;34m-\u001b[0m\u001b[0;36m2\u001b[0m\u001b[0;34m]\u001b[0m\u001b[0;34m\u001b[0m\u001b[0m\n\u001b[0m",
      "\u001b[0;31mTypeError\u001b[0m: 'NoneType' object has no attribute '__getitem__'"
     ]
    }
   ],
   "source": [
    "l=[10,20,30,40,40,40,30,40,40,40,40]\n",
    "l1=l.sort()\n",
    "print l1[-2]"
   ]
  },
  {
   "cell_type": "code",
   "execution_count": 11,
   "metadata": {},
   "outputs": [
    {
     "name": "stdout",
     "output_type": "stream",
     "text": [
      "40\n"
     ]
    }
   ],
   "source": [
    "l=[10,20,30,40,40,40,30,40,40,40,40]\n",
    "l1=l.sort()\n",
    "print l[-2]"
   ]
  },
  {
   "cell_type": "code",
   "execution_count": 12,
   "metadata": {},
   "outputs": [
    {
     "name": "stdout",
     "output_type": "stream",
     "text": [
      "[1, 2, 3, 4, 5, 6, 7, 8, 6, 7, 8, 9, 10]\n"
     ]
    }
   ],
   "source": [
    "l1=[1,2,3,4,5,6,7,8]\n",
    "l2=[6,7,8,9,10]\n",
    "#[1,2,3,4,5,6,7,8,9,10]\n",
    "#[6,7,8]\n",
    "# l1 difference l2=[1,2,3,4,5]\n",
    "#l2 difference l1=[9,10]\n",
    "print l1+l2"
   ]
  },
  {
   "cell_type": "code",
   "execution_count": 15,
   "metadata": {},
   "outputs": [
    {
     "name": "stdout",
     "output_type": "stream",
     "text": [
      "[1, 2, 3, 4, 5, 6, 7, 8, 6, 7, 8, 9, 10]\n",
      "set([1, 2, 3, 4, 5, 6, 7, 8, 9, 10])\n",
      "[6, 7, 8]\n"
     ]
    }
   ],
   "source": [
    "l1=[1,2,3,4,5,6,7,8]\n",
    "l2=[6,7,8,9,10]\n",
    "#[1,2,3,4,5,6,7,8,9,10]\n",
    "#[6,7,8]\n",
    "# l1 difference l2=[1,2,3,4,5]\n",
    "#l2 difference l1=[9,10]\n",
    "print l1+l2\n",
    "print set(l1+l2)\n",
    "print [i for i in l1 if i in l2]"
   ]
  },
  {
   "cell_type": "code",
   "execution_count": 16,
   "metadata": {},
   "outputs": [
    {
     "name": "stdout",
     "output_type": "stream",
     "text": [
      "[1, 2, 3, 4, 5, 6, 7, 8, 6, 7, 8, 9, 10]\n",
      "set([1, 2, 3, 4, 5, 6, 7, 8, 9, 10])\n",
      "[6, 7, 8]\n",
      "[1, 2, 3, 4, 5]\n"
     ]
    }
   ],
   "source": [
    "l1=[1,2,3,4,5,6,7,8]\n",
    "l2=[6,7,8,9,10]\n",
    "#[1,2,3,4,5,6,7,8,9,10]\n",
    "#[6,7,8]\n",
    "# l1 difference l2=[1,2,3,4,5]\n",
    "#l2 difference l1=[9,10]\n",
    "print l1+l2\n",
    "print set(l1+l2)\n",
    "print [i for i in l1 if i in l2]\n",
    "print [i for i in l1 if i not in l2]"
   ]
  },
  {
   "cell_type": "code",
   "execution_count": 17,
   "metadata": {},
   "outputs": [
    {
     "name": "stdout",
     "output_type": "stream",
     "text": [
      "[1, 2, 3, 4, 5, 6, 7, 8, 6, 7, 8, 9, 10]\n",
      "set([1, 2, 3, 4, 5, 6, 7, 8, 9, 10])\n",
      "[6, 7, 8]\n",
      "[1, 2, 3, 4, 5]\n",
      "[9, 10]\n"
     ]
    }
   ],
   "source": [
    "l1=[1,2,3,4,5,6,7,8]\n",
    "l2=[6,7,8,9,10]\n",
    "#[1,2,3,4,5,6,7,8,9,10]\n",
    "#[6,7,8]\n",
    "# l1 difference l2=[1,2,3,4,5]\n",
    "#l2 difference l1=[9,10]\n",
    "print l1+l2\n",
    "print set(l1+l2)\n",
    "print [i for i in l1 if i in l2]\n",
    "print [i for i in l1 if i not in l2]\n",
    "print [i for i in l2 if i not in l1]"
   ]
  },
  {
   "cell_type": "code",
   "execution_count": 18,
   "metadata": {},
   "outputs": [
    {
     "name": "stdout",
     "output_type": "stream",
     "text": [
      "[40, 10, 20, 30]\n"
     ]
    }
   ],
   "source": [
    "s={10,20,30,40}\n",
    "l=list(s)\n",
    "print l"
   ]
  },
  {
   "cell_type": "code",
   "execution_count": 21,
   "metadata": {},
   "outputs": [
    {
     "name": "stdout",
     "output_type": "stream",
     "text": [
      "set([1, 2, 3, 4, 5, 6, 7, 8])\n",
      "set([8, 9, 6, 7])\n"
     ]
    }
   ],
   "source": [
    "l1=[1,2,3,4,5,6,7,8]\n",
    "l2=[6,7,8,9]\n",
    "s1=set(l1)\n",
    "s2=set(l2)\n",
    "print s1\n",
    "print s2"
   ]
  },
  {
   "cell_type": "code",
   "execution_count": 22,
   "metadata": {},
   "outputs": [],
   "source": [
    "l1=[1,2,3,4,5,6,7,8]\n",
    "l2=[6,7,8,9]\n",
    "s1=set(l1)\n",
    "s2=set(l2)\n"
   ]
  },
  {
   "cell_type": "code",
   "execution_count": 23,
   "metadata": {},
   "outputs": [
    {
     "data": {
      "text/plain": [
       "{1, 2, 3, 4, 5, 6, 7, 8, 9}"
      ]
     },
     "execution_count": 23,
     "metadata": {},
     "output_type": "execute_result"
    }
   ],
   "source": [
    "s1.union(s2)"
   ]
  },
  {
   "cell_type": "code",
   "execution_count": 24,
   "metadata": {},
   "outputs": [
    {
     "data": {
      "text/plain": [
       "{6, 7, 8}"
      ]
     },
     "execution_count": 24,
     "metadata": {},
     "output_type": "execute_result"
    }
   ],
   "source": [
    "s1.intersection(s2)"
   ]
  },
  {
   "cell_type": "code",
   "execution_count": 25,
   "metadata": {},
   "outputs": [
    {
     "data": {
      "text/plain": [
       "{1, 2, 3, 4, 5}"
      ]
     },
     "execution_count": 25,
     "metadata": {},
     "output_type": "execute_result"
    }
   ],
   "source": [
    "s1.difference(s2)"
   ]
  },
  {
   "cell_type": "code",
   "execution_count": 26,
   "metadata": {},
   "outputs": [
    {
     "ename": "TypeError",
     "evalue": "unsupported operand type(s) for -: 'list' and 'list'",
     "output_type": "error",
     "traceback": [
      "\u001b[0;31m---------------------------------------------------------------------------\u001b[0m",
      "\u001b[0;31mTypeError\u001b[0m                                 Traceback (most recent call last)",
      "\u001b[0;32m<ipython-input-26-a1de8c818da3>\u001b[0m in \u001b[0;36m<module>\u001b[0;34m()\u001b[0m\n\u001b[0;32m----> 1\u001b[0;31m \u001b[0ml1\u001b[0m\u001b[0;34m-\u001b[0m\u001b[0ml2\u001b[0m\u001b[0;34m\u001b[0m\u001b[0m\n\u001b[0m",
      "\u001b[0;31mTypeError\u001b[0m: unsupported operand type(s) for -: 'list' and 'list'"
     ]
    }
   ],
   "source": [
    "l1-l2"
   ]
  },
  {
   "cell_type": "code",
   "execution_count": 27,
   "metadata": {},
   "outputs": [
    {
     "data": {
      "text/plain": [
       "{1, 2, 3, 4, 5}"
      ]
     },
     "execution_count": 27,
     "metadata": {},
     "output_type": "execute_result"
    }
   ],
   "source": [
    "set(s1-s2)"
   ]
  },
  {
   "cell_type": "code",
   "execution_count": 28,
   "metadata": {},
   "outputs": [
    {
     "ename": "TypeError",
     "evalue": "unsupported operand type(s) for -: 'list' and 'list'",
     "output_type": "error",
     "traceback": [
      "\u001b[0;31m---------------------------------------------------------------------------\u001b[0m",
      "\u001b[0;31mTypeError\u001b[0m                                 Traceback (most recent call last)",
      "\u001b[0;32m<ipython-input-28-688b36165751>\u001b[0m in \u001b[0;36m<module>\u001b[0;34m()\u001b[0m\n\u001b[0;32m----> 1\u001b[0;31m \u001b[0mx\u001b[0m\u001b[0;34m=\u001b[0m\u001b[0ml1\u001b[0m\u001b[0;34m-\u001b[0m\u001b[0ml2\u001b[0m\u001b[0;34m\u001b[0m\u001b[0m\n\u001b[0m",
      "\u001b[0;31mTypeError\u001b[0m: unsupported operand type(s) for -: 'list' and 'list'"
     ]
    }
   ],
   "source": [
    "x=l1-l2"
   ]
  },
  {
   "cell_type": "code",
   "execution_count": 29,
   "metadata": {},
   "outputs": [
    {
     "ename": "TypeError",
     "evalue": "'set' object does not support item assignment",
     "output_type": "error",
     "traceback": [
      "\u001b[0;31m---------------------------------------------------------------------------\u001b[0m",
      "\u001b[0;31mTypeError\u001b[0m                                 Traceback (most recent call last)",
      "\u001b[0;32m<ipython-input-29-0b0a067ed795>\u001b[0m in \u001b[0;36m<module>\u001b[0;34m()\u001b[0m\n\u001b[1;32m      1\u001b[0m \u001b[0ms\u001b[0m\u001b[0;34m=\u001b[0m\u001b[0;34m{\u001b[0m\u001b[0;36m1\u001b[0m\u001b[0;34m,\u001b[0m\u001b[0;36m2\u001b[0m\u001b[0;34m,\u001b[0m\u001b[0;36m3\u001b[0m\u001b[0;34m,\u001b[0m\u001b[0;36m4\u001b[0m\u001b[0;34m}\u001b[0m\u001b[0;34m\u001b[0m\u001b[0m\n\u001b[0;32m----> 2\u001b[0;31m \u001b[0ms\u001b[0m\u001b[0;34m[\u001b[0m\u001b[0;36m0\u001b[0m\u001b[0;34m]\u001b[0m\u001b[0;34m=\u001b[0m\u001b[0;36m10\u001b[0m\u001b[0;34m\u001b[0m\u001b[0m\n\u001b[0m",
      "\u001b[0;31mTypeError\u001b[0m: 'set' object does not support item assignment"
     ]
    }
   ],
   "source": [
    "s={1,2,3,4}\n",
    "s[0]=10"
   ]
  },
  {
   "cell_type": "code",
   "execution_count": 32,
   "metadata": {},
   "outputs": [
    {
     "name": "stdout",
     "output_type": "stream",
     "text": [
      "set([40, 10, 20, 30]) 140207113431392\n",
      "set([40, 30]) 140207113431392\n"
     ]
    }
   ],
   "source": [
    "s1={10,20,30,40}\n",
    "s2={30,40,50,60}\n",
    "print s1,id(s1)\n",
    "s1.intersection_update(s2)\n",
    "print s1,id(s1)"
   ]
  },
  {
   "cell_type": "code",
   "execution_count": 34,
   "metadata": {},
   "outputs": [
    {
     "name": "stdout",
     "output_type": "stream",
     "text": [
      "set([40, 10, 20, 30]) 140207189216744\n",
      "set([40, 30]) 140207189216744\n"
     ]
    }
   ],
   "source": [
    "s1={10,20,30,40}\n",
    "s2={30,40,50,60}\n",
    "print s1,id(s1)\n",
    "s1.intersection_update(s2)\n",
    "print s1,id(s1)"
   ]
  },
  {
   "cell_type": "code",
   "execution_count": 33,
   "metadata": {},
   "outputs": [
    {
     "ename": "TypeError",
     "evalue": "'set' object does not support indexing",
     "output_type": "error",
     "traceback": [
      "\u001b[0;31m---------------------------------------------------------------------------\u001b[0m",
      "\u001b[0;31mTypeError\u001b[0m                                 Traceback (most recent call last)",
      "\u001b[0;32m<ipython-input-33-ab3dd4b3f524>\u001b[0m in \u001b[0;36m<module>\u001b[0;34m()\u001b[0m\n\u001b[1;32m      1\u001b[0m \u001b[0ms\u001b[0m\u001b[0;34m=\u001b[0m\u001b[0;34m{\u001b[0m\u001b[0;36m1\u001b[0m\u001b[0;34m,\u001b[0m\u001b[0;36m2\u001b[0m\u001b[0;34m,\u001b[0m\u001b[0;36m3\u001b[0m\u001b[0;34m,\u001b[0m\u001b[0;36m4\u001b[0m\u001b[0;34m}\u001b[0m\u001b[0;34m\u001b[0m\u001b[0m\n\u001b[0;32m----> 2\u001b[0;31m \u001b[0;32mprint\u001b[0m \u001b[0ms\u001b[0m\u001b[0;34m[\u001b[0m\u001b[0;36m0\u001b[0m\u001b[0;34m]\u001b[0m\u001b[0;34m\u001b[0m\u001b[0m\n\u001b[0m",
      "\u001b[0;31mTypeError\u001b[0m: 'set' object does not support indexing"
     ]
    }
   ],
   "source": [
    "s={1,2,3,4}\n",
    "print s[0]"
   ]
  },
  {
   "cell_type": "code",
   "execution_count": 4,
   "metadata": {},
   "outputs": [
    {
     "name": "stdout",
     "output_type": "stream",
     "text": [
      "enter a num:4\n",
      "even\n"
     ]
    }
   ],
   "source": [
    "n = raw_input(\"enter a num:\")\n",
    "print \"even\" if int(n)%2==0 else \"odd\""
   ]
  },
  {
   "cell_type": "code",
   "execution_count": 6,
   "metadata": {},
   "outputs": [
    {
     "name": "stdout",
     "output_type": "stream",
     "text": [
      "enter a num:9\n",
      "odd\n"
     ]
    }
   ],
   "source": [
    "n = raw_input(\"enter a num:\")\n",
    "print \"even\" if int(n)%2==0 else \"odd\""
   ]
  },
  {
   "cell_type": "code",
   "execution_count": 17,
   "metadata": {},
   "outputs": [
    {
     "name": "stdout",
     "output_type": "stream",
     "text": [
      "enter a num: 10\n",
      "positive\n"
     ]
    }
   ],
   "source": [
    "n = raw_input(\"enter a num: \")\n",
    "print  \"positive\" if int(n)>0 else \"negetive\""
   ]
  },
  {
   "cell_type": "code",
   "execution_count": 18,
   "metadata": {},
   "outputs": [
    {
     "name": "stdout",
     "output_type": "stream",
     "text": [
      "enter a num: -4\n",
      "negetive\n"
     ]
    }
   ],
   "source": [
    "n = raw_input(\"enter a num: \")\n",
    "print  \"positive\" if int(n)>0 else \"negetive\""
   ]
  },
  {
   "cell_type": "code",
   "execution_count": 13,
   "metadata": {},
   "outputs": [
    {
     "name": "stdout",
     "output_type": "stream",
     "text": [
      "enter a value: 10,12,13,9\n",
      "even\n",
      "even\n",
      "odd\n",
      "odd\n"
     ]
    }
   ],
   "source": [
    "n=raw_input(\"enter a value: \")\n",
    "\n",
    "for i in n.split(\",\"):\n",
    "          \n",
    "          print  \"even\" if int(i)%2==0 else \"odd\"\n",
    "    "
   ]
  },
  {
   "cell_type": "code",
   "execution_count": 16,
   "metadata": {},
   "outputs": [
    {
     "name": "stdout",
     "output_type": "stream",
     "text": [
      "enter a value: 10,20,9\n",
      "even\n",
      "even\n",
      "odd\n"
     ]
    }
   ],
   "source": [
    "n=raw_input(\"enter a value: \")\n",
    "for i in n.split(\",\"):\n",
    "      print  \"even\" if int(i)%2==0 else \"odd\"\n",
    "    "
   ]
  },
  {
   "cell_type": "code",
   "execution_count": 21,
   "metadata": {},
   "outputs": [
    {
     "name": "stdout",
     "output_type": "stream",
     "text": [
      "enter a value: 10,9,20,40\n",
      "[]\n"
     ]
    }
   ],
   "source": [
    "n=raw_input(\"enter a value: \")\n",
    "res=[]\n",
    "for i in n.split(','):\n",
    "    \"even\" if int(i)%2==0 else \"odd\"\n",
    "print res"
   ]
  },
  {
   "cell_type": "code",
   "execution_count": 34,
   "metadata": {},
   "outputs": [
    {
     "name": "stdout",
     "output_type": "stream",
     "text": [
      "enter a value:23;24;56;89\n",
      "23\n",
      "24\n",
      "56\n",
      "89\n"
     ]
    }
   ],
   "source": [
    "n=raw_input(\"enter a value:\")\n",
    "for i in n.split(\";\"):\n",
    "    print i"
   ]
  },
  {
   "cell_type": "code",
   "execution_count": 37,
   "metadata": {},
   "outputs": [
    {
     "name": "stdout",
     "output_type": "stream",
     "text": [
      "enter a value:2;4;6;-1;-2\n",
      "positive\n",
      "positive\n",
      "positive\n",
      "positive\n",
      "positive\n"
     ]
    }
   ],
   "source": [
    "n=raw_input(\"enter a value:\")\n",
    "for i in n.split(\";\"):\n",
    "    print  \"positive\" if i>0 else \"negetive\""
   ]
  },
  {
   "cell_type": "code",
   "execution_count": 38,
   "metadata": {},
   "outputs": [
    {
     "name": "stdout",
     "output_type": "stream",
     "text": [
      "enter a value:2;-2;4;6\n",
      "positive\n",
      "negetive\n",
      "positive\n",
      "positive\n"
     ]
    }
   ],
   "source": [
    "n=raw_input(\"enter a value:\")\n",
    "for i in n.split(\";\"):\n",
    "    print  \"positive\" if int(i)>0 else \"negetive\""
   ]
  },
  {
   "cell_type": "code",
   "execution_count": 39,
   "metadata": {},
   "outputs": [
    {
     "name": "stdout",
     "output_type": "stream",
     "text": [
      "22\n",
      "44\n",
      "66\n"
     ]
    }
   ],
   "source": [
    "l = [12,34,56]\n",
    "for i in l:\n",
    "    c = i+10\n",
    "    print c"
   ]
  },
  {
   "cell_type": "code",
   "execution_count": 25,
   "metadata": {},
   "outputs": [
    {
     "name": "stdout",
     "output_type": "stream",
     "text": [
      "[22]\n",
      "[22, 44]\n",
      "[22, 44, 66]\n"
     ]
    }
   ],
   "source": [
    "l = [12,34,56]\n",
    "result=[]\n",
    "for i in l:\n",
    "    result.append(i+10)\n",
    "    print result"
   ]
  },
  {
   "cell_type": "code",
   "execution_count": 26,
   "metadata": {},
   "outputs": [
    {
     "name": "stdout",
     "output_type": "stream",
     "text": [
      "[22, 44, 66]\n"
     ]
    }
   ],
   "source": [
    "l = [12,34,56]\n",
    "result=[]\n",
    "for i in l:\n",
    "    result.append( i+10)\n",
    "print result"
   ]
  },
  {
   "cell_type": "code",
   "execution_count": 35,
   "metadata": {},
   "outputs": [
    {
     "name": "stdout",
     "output_type": "stream",
     "text": [
      "[22, 44, 66]\n"
     ]
    }
   ],
   "source": [
    "l = [12,34,56]\n",
    "result=[]\n",
    "for i in l:\n",
    "    result.append( i+10)\n",
    "print result\n"
   ]
  },
  {
   "cell_type": "code",
   "execution_count": 28,
   "metadata": {},
   "outputs": [
    {
     "name": "stdout",
     "output_type": "stream",
     "text": [
      "[12, 34, 56]\n"
     ]
    }
   ],
   "source": [
    "l = [12,34,56]\n",
    "print[i for i in l]\n",
    "    "
   ]
  },
  {
   "cell_type": "code",
   "execution_count": 37,
   "metadata": {},
   "outputs": [
    {
     "name": "stdout",
     "output_type": "stream",
     "text": [
      "[12, 34, 56]\n"
     ]
    }
   ],
   "source": [
    "l = [12,34,56]\n",
    "print[i for i in l]\n",
    "    "
   ]
  },
  {
   "cell_type": "code",
   "execution_count": 36,
   "metadata": {},
   "outputs": [
    {
     "name": "stdout",
     "output_type": "stream",
     "text": [
      "[12, 34, 56]\n"
     ]
    }
   ],
   "source": [
    "l = [12,34,56]\n",
    "print[i for i in l]\n",
    "    "
   ]
  },
  {
   "cell_type": "code",
   "execution_count": 29,
   "metadata": {},
   "outputs": [
    {
     "ename": "SyntaxError",
     "evalue": "invalid syntax (<ipython-input-29-640256cf3dc2>, line 2)",
     "output_type": "error",
     "traceback": [
      "\u001b[0;36m  File \u001b[0;32m\"<ipython-input-29-640256cf3dc2>\"\u001b[0;36m, line \u001b[0;32m2\u001b[0m\n\u001b[0;31m    print[for i in l]\u001b[0m\n\u001b[0m            ^\u001b[0m\n\u001b[0;31mSyntaxError\u001b[0m\u001b[0;31m:\u001b[0m invalid syntax\n"
     ]
    }
   ],
   "source": [
    "l = [12,34,56]\n",
    "print[for i in l]              \n",
    "    "
   ]
  },
  {
   "cell_type": "code",
   "execution_count": 32,
   "metadata": {},
   "outputs": [
    {
     "name": "stdout",
     "output_type": "stream",
     "text": [
      "12\n",
      "34\n",
      "56\n"
     ]
    }
   ],
   "source": [
    "l=[12,34,56]\n",
    "for i in l:\n",
    "    print i"
   ]
  },
  {
   "cell_type": "code",
   "execution_count": 31,
   "metadata": {},
   "outputs": [
    {
     "name": "stdout",
     "output_type": "stream",
     "text": [
      "[12, 34, 56]\n"
     ]
    }
   ],
   "source": [
    " \"\"\" redusing the code (compressing the code)\"\"\"         \n",
    "# l=[12,34,56]\n",
    "# for i in l:\n",
    "   # print i\n",
    "# can directly write as like bellow code\n",
    "\n",
    "l=[12,34,56]\n",
    "print [i for i in l]\n",
    "    "
   ]
  },
  {
   "cell_type": "code",
   "execution_count": 40,
   "metadata": {},
   "outputs": [
    {
     "name": "stdout",
     "output_type": "stream",
     "text": [
      "enter the elements in the list10,20,30,90\n"
     ]
    },
    {
     "ename": "TypeError",
     "evalue": "not all arguments converted during string formatting",
     "output_type": "error",
     "traceback": [
      "\u001b[0;31m---------------------------------------------------------------------------\u001b[0m",
      "\u001b[0;31mTypeError\u001b[0m                                 Traceback (most recent call last)",
      "\u001b[0;32m<ipython-input-40-d7b84552dbee>\u001b[0m in \u001b[0;36m<module>\u001b[0;34m()\u001b[0m\n\u001b[1;32m      4\u001b[0m     \u001b[0mres\u001b[0m\u001b[0;34m.\u001b[0m\u001b[0mappend\u001b[0m\u001b[0;34m(\u001b[0m\u001b[0ml\u001b[0m\u001b[0;34m)\u001b[0m\u001b[0;34m\u001b[0m\u001b[0m\n\u001b[1;32m      5\u001b[0m \u001b[0;34m\u001b[0m\u001b[0m\n\u001b[0;32m----> 6\u001b[0;31m     \u001b[0;32mif\u001b[0m \u001b[0mi\u001b[0m\u001b[0;34m%\u001b[0m\u001b[0;36m2\u001b[0m\u001b[0;34m==\u001b[0m\u001b[0;36m0\u001b[0m\u001b[0;34m:\u001b[0m\u001b[0;34m\u001b[0m\u001b[0m\n\u001b[0m\u001b[1;32m      7\u001b[0m         \u001b[0;32mprint\u001b[0m \u001b[0;34m\"even\"\u001b[0m\u001b[0;34m\u001b[0m\u001b[0m\n\u001b[1;32m      8\u001b[0m     \u001b[0;32melse\u001b[0m\u001b[0;34m:\u001b[0m\u001b[0;34m\u001b[0m\u001b[0m\n",
      "\u001b[0;31mTypeError\u001b[0m: not all arguments converted during string formatting"
     ]
    }
   ],
   "source": [
    "l = raw_input(\"enter the elements in the list\")\n",
    "res=[]\n",
    "for i in l:\n",
    "    res.append(l)\n",
    "    \n",
    "    if i%2==0:\n",
    "        print \"even\"\n",
    "    else:\n",
    "        print \"odd\""
   ]
  },
  {
   "cell_type": "code",
   "execution_count": 43,
   "metadata": {},
   "outputs": [
    {
     "name": "stdout",
     "output_type": "stream",
     "text": [
      "23\n",
      "45\n",
      "-67\n",
      "-89\n"
     ]
    }
   ],
   "source": [
    "l = [23,45,-67,-89,\"ert\",1+2j]\n",
    "\n",
    "for i in l:\n",
    "    if isinstance(i,int):\n",
    "        print i\n",
    "    "
   ]
  },
  {
   "cell_type": "code",
   "execution_count": 18,
   "metadata": {},
   "outputs": [
    {
     "name": "stdout",
     "output_type": "stream",
     "text": [
      "[23, 45, -67, -89, 'ert', 3]\n"
     ]
    }
   ],
   "source": [
    "l = [23,45,-67,-89,\"ert\",1+2]\n",
    "results = []\n",
    "for i in l:\n",
    "    results.append(i)\n",
    "print results\n",
    "    "
   ]
  },
  {
   "cell_type": "code",
   "execution_count": 23,
   "metadata": {},
   "outputs": [
    {
     "name": "stdout",
     "output_type": "stream",
     "text": [
      "23\n",
      "45\n",
      "-67\n",
      "-89\n",
      "3\n"
     ]
    }
   ],
   "source": [
    "l = [23,45,-67,-89,\"ert\",1+2]\n",
    "results = []\n",
    "for i in l:\n",
    "    results.append(i)\n",
    "    if isinstance(i,int):\n",
    "        print i\n",
    "\n",
    "    "
   ]
  },
  {
   "cell_type": "code",
   "execution_count": 24,
   "metadata": {},
   "outputs": [
    {
     "name": "stdout",
     "output_type": "stream",
     "text": [
      "None\n",
      "None\n",
      "None\n",
      "None\n",
      "None\n"
     ]
    }
   ],
   "source": [
    "l = [23,45,-67,-89,\"ert\",1+2]\n",
    "results = []\n",
    "for i in l:\n",
    "    if isinstance(i,int):\n",
    "        print results.append(i)\n",
    "\n",
    "    "
   ]
  },
  {
   "cell_type": "code",
   "execution_count": 32,
   "metadata": {},
   "outputs": [
    {
     "name": "stdout",
     "output_type": "stream",
     "text": [
      "23\n",
      "45\n",
      "-67\n",
      "-89\n",
      "3\n"
     ]
    }
   ],
   "source": [
    "l = [23,45,-67,-89,\"ert\",1+2]\n",
    "results = []\n",
    "for i in l:\n",
    "    \n",
    "    if isinstance(i,int):\n",
    "         print i\n",
    "\n",
    "    "
   ]
  },
  {
   "cell_type": "code",
   "execution_count": 49,
   "metadata": {},
   "outputs": [
    {
     "name": "stdout",
     "output_type": "stream",
     "text": [
      "ert\n"
     ]
    }
   ],
   "source": [
    "l = [23,45,-67,-89,\"ert\",1+2j]\n",
    "\n",
    "for i in l:\n",
    "    if isinstance(i,str):\n",
    "        print i\n",
    "    "
   ]
  },
  {
   "cell_type": "code",
   "execution_count": 50,
   "metadata": {},
   "outputs": [
    {
     "name": "stdout",
     "output_type": "stream",
     "text": [
      "(1+2j)\n"
     ]
    }
   ],
   "source": [
    "l = [23,45,-67,-89,\"ert\",1+2j]\n",
    "\n",
    "for i in l:\n",
    "    if isinstance(i,complex):\n",
    "        print i\n",
    "    "
   ]
  },
  {
   "cell_type": "code",
   "execution_count": 52,
   "metadata": {},
   "outputs": [
    {
     "name": "stdout",
     "output_type": "stream",
     "text": [
      "[23, 45, -67, -89]\n"
     ]
    }
   ],
   "source": [
    "l = [23,45,-67,-89,\"ert\",1+2j]\n",
    "print  [i for i in l if isinstance(i,int)]"
   ]
  },
  {
   "cell_type": "code",
   "execution_count": 48,
   "metadata": {},
   "outputs": [
    {
     "name": "stdout",
     "output_type": "stream",
     "text": [
      "['odd', 'odd', 'odd', 'odd']\n"
     ]
    }
   ],
   "source": [
    "l = [23,45,-67,-89,\"ert\",1+2j]\n",
    "print  [\"even\" if i%2==0 else \"odd\"   for i in l if isinstance(i,int)]"
   ]
  },
  {
   "cell_type": "code",
   "execution_count": 52,
   "metadata": {},
   "outputs": [
    {
     "name": "stdout",
     "output_type": "stream",
     "text": [
      "['odd', 'odd', 'odd', 'odd']\n"
     ]
    }
   ],
   "source": [
    "l = [23,45,-67,-89,\"ert\",1+2j]\n",
    "print  [\"even\" if int(i)%2==0 else \"odd\"   for i in l if isinstance(i,int)]  \n",
    "\n",
    "# first it checks the for i in l if isinstant() condition \n",
    "#isinstant takes perticuler elemnet wether it is an int or not in list \n",
    "#than iterate each element  if condition \n",
    "#then if condition output"
   ]
  },
  {
   "cell_type": "code",
   "execution_count": 49,
   "metadata": {},
   "outputs": [],
   "source": [
    "even_numbers=[10,20,40,60]\n",
    "prime_numbers=[2,3,5,7]"
   ]
  },
  {
   "cell_type": "code",
   "execution_count": 53,
   "metadata": {},
   "outputs": [
    {
     "name": "stdout",
     "output_type": "stream",
     "text": [
      "12\n",
      "34\n",
      "68\n"
     ]
    }
   ],
   "source": [
    "l=[12,35,65,79,34,68,35]\n",
    "for i in l:\n",
    "    if i%2==0:\n",
    "        print i"
   ]
  },
  {
   "cell_type": "code",
   "execution_count": 66,
   "metadata": {},
   "outputs": [
    {
     "name": "stdout",
     "output_type": "stream",
     "text": [
      "12\n",
      "34\n",
      "68\n"
     ]
    }
   ],
   "source": [
    "l=[12,35,65,79,34,68,35]\n",
    "\n",
    "for i in l:\n",
    "\n",
    "    if i%2==0:\n",
    "        print i"
   ]
  },
  {
   "cell_type": "code",
   "execution_count": 67,
   "metadata": {},
   "outputs": [
    {
     "name": "stdout",
     "output_type": "stream",
     "text": [
      "[[12, 35, 65, 79, 34, 68, 35]]\n",
      "[[12, 35, 65, 79, 34, 68, 35], [12, 35, 65, 79, 34, 68, 35]]\n",
      "[[12, 35, 65, 79, 34, 68, 35], [12, 35, 65, 79, 34, 68, 35], [12, 35, 65, 79, 34, 68, 35]]\n",
      "[[12, 35, 65, 79, 34, 68, 35], [12, 35, 65, 79, 34, 68, 35], [12, 35, 65, 79, 34, 68, 35], [12, 35, 65, 79, 34, 68, 35]]\n",
      "[[12, 35, 65, 79, 34, 68, 35], [12, 35, 65, 79, 34, 68, 35], [12, 35, 65, 79, 34, 68, 35], [12, 35, 65, 79, 34, 68, 35], [12, 35, 65, 79, 34, 68, 35]]\n",
      "[[12, 35, 65, 79, 34, 68, 35], [12, 35, 65, 79, 34, 68, 35], [12, 35, 65, 79, 34, 68, 35], [12, 35, 65, 79, 34, 68, 35], [12, 35, 65, 79, 34, 68, 35], [12, 35, 65, 79, 34, 68, 35]]\n",
      "[[12, 35, 65, 79, 34, 68, 35], [12, 35, 65, 79, 34, 68, 35], [12, 35, 65, 79, 34, 68, 35], [12, 35, 65, 79, 34, 68, 35], [12, 35, 65, 79, 34, 68, 35], [12, 35, 65, 79, 34, 68, 35], [12, 35, 65, 79, 34, 68, 35]]\n"
     ]
    }
   ],
   "source": [
    "l=[12,35,65,79,34,68,35]         \n",
    "res=[]\n",
    "for i in l:\n",
    "    res.append(l)    \n",
    "    print res\n"
   ]
  },
  {
   "cell_type": "code",
   "execution_count": 1,
   "metadata": {},
   "outputs": [
    {
     "name": "stdout",
     "output_type": "stream",
     "text": [
      "[12]\n",
      "[12, 35]\n",
      "[12, 35, 65]\n",
      "[12, 35, 65, 79]\n",
      "[12, 35, 65, 79, 34]\n",
      "[12, 35, 65, 79, 34, 68]\n",
      "[12, 35, 65, 79, 34, 68, 35]\n"
     ]
    }
   ],
   "source": [
    "l=[12,35,65,79,34,68,35]            \n",
    "res=[]\n",
    "for i in l:\n",
    "    res.append(i)\n",
    "    print res"
   ]
  },
  {
   "cell_type": "code",
   "execution_count": 3,
   "metadata": {},
   "outputs": [
    {
     "name": "stdout",
     "output_type": "stream",
     "text": [
      "[12, 35, 65, 79, 34, 68, 35]\n"
     ]
    }
   ],
   "source": [
    "l=[12,35,65,79,34,68,35]           \n",
    "res=[]\n",
    "for i in l:\n",
    "    res.append(i)\n",
    "print res"
   ]
  },
  {
   "cell_type": "code",
   "execution_count": 8,
   "metadata": {},
   "outputs": [
    {
     "name": "stdout",
     "output_type": "stream",
     "text": [
      "even \n",
      "odd \n",
      "odd \n",
      "odd \n",
      "even \n",
      "even \n",
      "odd \n",
      "[12, 35, 65, 79, 34, 68, 35]\n"
     ]
    }
   ],
   "source": [
    "l=[12,35,65,79,34,68,35]           \n",
    "res=[]\n",
    "for i in l:\n",
    "    res.append(i)\n",
    "    if i%2==0:\n",
    "        print  \"even \"\n",
    "    else:\n",
    "        print \"odd \"\n",
    "print res\n"
   ]
  },
  {
   "cell_type": "code",
   "execution_count": 10,
   "metadata": {},
   "outputs": [
    {
     "name": "stdout",
     "output_type": "stream",
     "text": [
      "even \n",
      "odd \n",
      "odd \n",
      "odd \n",
      "even \n",
      "even \n",
      "odd \n",
      "[12, 35, 65, 79, 34, 68, 35]\n"
     ]
    }
   ],
   "source": [
    "l=[12,35,65,79,34,68,35]           \n",
    "res=[]\n",
    "for i in l:\n",
    "    res.append(i)\n",
    "    if i%2==0:\n",
    "        print  \"even \"\n",
    "    else:\n",
    "        print \"odd \"\n",
    "print res\n"
   ]
  },
  {
   "cell_type": "code",
   "execution_count": 34,
   "metadata": {},
   "outputs": [
    {
     "name": "stdout",
     "output_type": "stream",
     "text": [
      "[23, 45, -67, -89]\n"
     ]
    }
   ],
   "source": [
    "l = [23,45,-67,-89,\"ert\",1+2j]\n",
    "print  [i for i in l if isinstance(i,int)]"
   ]
  },
  {
   "cell_type": "code",
   "execution_count": 33,
   "metadata": {},
   "outputs": [
    {
     "name": "stdout",
     "output_type": "stream",
     "text": [
      "['odd', 'odd', 'odd', 'odd']\n"
     ]
    }
   ],
   "source": [
    "l = [23,45,-67,-89,\"ert\",1+2j]\n",
    "print  [\"even\" if i%2==0 else \"odd\"   for i in l if isinstance(i,int)]"
   ]
  },
  {
   "cell_type": "code",
   "execution_count": 40,
   "metadata": {},
   "outputs": [
    {
     "name": "stdout",
     "output_type": "stream",
     "text": [
      "odd\n",
      "odd\n",
      "odd\n",
      "odd\n"
     ]
    }
   ],
   "source": [
    "l = [23,45,-67,-89,\"ert\",1+2j]\n",
    "\n",
    "for i in l:\n",
    "\n",
    "        if isinstance(i,int):\n",
    "            if i%2==0:\n",
    "                print \"even\"\n",
    "            else:\n",
    "                print\"odd\""
   ]
  },
  {
   "cell_type": "code",
   "execution_count": 41,
   "metadata": {},
   "outputs": [
    {
     "name": "stdout",
     "output_type": "stream",
     "text": [
      "[('a', 'c'), ('b', 'd')]\n"
     ]
    }
   ],
   "source": [
    "a = [\"a\",\"b\"]\n",
    "b = [\"c\",\"d\"]\n",
    "print zip(a,b)      # it print a[0],b[0] and b[1],d[1] within in the tuple in list"
   ]
  },
  {
   "cell_type": "code",
   "execution_count": 45,
   "metadata": {},
   "outputs": [
    {
     "name": "stdout",
     "output_type": "stream",
     "text": [
      "None\n"
     ]
    }
   ],
   "source": [
    "a = [\"a\",\"b\"]\n",
    "b = [\"c\",\"d\"]\n",
    "print a.extend(b)"
   ]
  },
  {
   "cell_type": "code",
   "execution_count": 53,
   "metadata": {},
   "outputs": [
    {
     "name": "stdout",
     "output_type": "stream",
     "text": [
      "[12, 34, 68]\n"
     ]
    }
   ],
   "source": [
    "l=[12,35,65,79,34,68,35]\n",
    "print [i for i in l if i%2==0]"
   ]
  },
  {
   "cell_type": "code",
   "execution_count": 55,
   "metadata": {},
   "outputs": [
    {
     "name": "stdout",
     "output_type": "stream",
     "text": [
      "[12, None, None, None, 34, 68, None]\n"
     ]
    }
   ],
   "source": [
    "l=[12,35,65,79,34,68,35]\n",
    "def fun(x):\n",
    "    if x%2==0:\n",
    "        return x\n",
    "print map(fun,l)"
   ]
  },
  {
   "cell_type": "code",
   "execution_count": null,
   "metadata": {},
   "outputs": [],
   "source": [
    "l=[12,35,65,79,34,68,35]\n",
    "def fun(x):\n",
    "    if x%2==0:\n",
    "        return x\n",
    "print map(fun,l)"
   ]
  },
  {
   "cell_type": "code",
   "execution_count": 4,
   "metadata": {},
   "outputs": [
    {
     "ename": "AttributeError",
     "evalue": "'list' object has no attribute 'union'",
     "output_type": "error",
     "traceback": [
      "\u001b[0;31m---------------------------------------------------------------------------\u001b[0m",
      "\u001b[0;31mAttributeError\u001b[0m                            Traceback (most recent call last)",
      "\u001b[0;32m<ipython-input-4-f118c0cd492a>\u001b[0m in \u001b[0;36m<module>\u001b[0;34m()\u001b[0m\n\u001b[1;32m      1\u001b[0m \u001b[0ml1\u001b[0m\u001b[0;34m=\u001b[0m\u001b[0;34m[\u001b[0m\u001b[0;36m1\u001b[0m\u001b[0;34m,\u001b[0m\u001b[0;36m2\u001b[0m\u001b[0;34m,\u001b[0m\u001b[0;36m3\u001b[0m\u001b[0;34m,\u001b[0m\u001b[0;36m4\u001b[0m\u001b[0;34m,\u001b[0m\u001b[0;36m5\u001b[0m\u001b[0;34m,\u001b[0m\u001b[0;36m6\u001b[0m\u001b[0;34m]\u001b[0m\u001b[0;34m\u001b[0m\u001b[0m\n\u001b[1;32m      2\u001b[0m \u001b[0ml2\u001b[0m\u001b[0;34m=\u001b[0m\u001b[0;34m[\u001b[0m\u001b[0;36m5\u001b[0m\u001b[0;34m,\u001b[0m\u001b[0;36m6\u001b[0m\u001b[0;34m,\u001b[0m\u001b[0;36m7\u001b[0m\u001b[0;34m,\u001b[0m\u001b[0;36m8\u001b[0m\u001b[0;34m]\u001b[0m\u001b[0;34m\u001b[0m\u001b[0m\n\u001b[0;32m----> 3\u001b[0;31m \u001b[0;32mprint\u001b[0m \u001b[0ml1\u001b[0m\u001b[0;34m.\u001b[0m\u001b[0munion\u001b[0m\u001b[0;34m(\u001b[0m\u001b[0ml2\u001b[0m\u001b[0;34m)\u001b[0m\u001b[0;34m\u001b[0m\u001b[0m\n\u001b[0m",
      "\u001b[0;31mAttributeError\u001b[0m: 'list' object has no attribute 'union'"
     ]
    }
   ],
   "source": [
    "l1=[1,2,3,4,5,6]\n",
    "l2=[5,6,7,8]\n",
    "\n",
    "    "
   ]
  },
  {
   "cell_type": "code",
   "execution_count": 5,
   "metadata": {},
   "outputs": [
    {
     "name": "stdout",
     "output_type": "stream",
     "text": [
      "set([1, 2, 3, 4, 5, 6, 7, 8])\n"
     ]
    }
   ],
   "source": [
    "l1=[1,2,3,4,5,6]\n",
    "l2=[5,6,7,8]\n",
    "print set(l1+l2)"
   ]
  },
  {
   "cell_type": "code",
   "execution_count": 8,
   "metadata": {},
   "outputs": [
    {
     "name": "stdout",
     "output_type": "stream",
     "text": [
      "1\n",
      "2\n",
      "3\n",
      "4\n"
     ]
    }
   ],
   "source": [
    "l1=[1,2,3,4,5,6]\n",
    "l2=[5,6,7,8]\n",
    "for i in l1:\n",
    "    \n",
    "      if i  not in l2:\n",
    "            print i"
   ]
  },
  {
   "cell_type": "code",
   "execution_count": 10,
   "metadata": {},
   "outputs": [
    {
     "name": "stdout",
     "output_type": "stream",
     "text": [
      "[7, 8]\n"
     ]
    }
   ],
   "source": [
    "l1=[1,2,3,4,5,6]\n",
    "l2=[5,6,7,8]\n",
    "\n",
    "print [i for i in l2 if i not in l1]"
   ]
  },
  {
   "cell_type": "code",
   "execution_count": 11,
   "metadata": {},
   "outputs": [],
   "source": [
    "l1=[1,2,3,4,5,6]\n",
    "l2=[5,6,7,8]\n",
    "\n",
    "s1=set(l1)\n",
    "s2=set(l2)"
   ]
  },
  {
   "cell_type": "code",
   "execution_count": 12,
   "metadata": {},
   "outputs": [
    {
     "data": {
      "text/plain": [
       "{1, 2, 3, 4, 5, 6, 7, 8}"
      ]
     },
     "execution_count": 12,
     "metadata": {},
     "output_type": "execute_result"
    }
   ],
   "source": [
    "s1.union(s2)"
   ]
  },
  {
   "cell_type": "code",
   "execution_count": 14,
   "metadata": {},
   "outputs": [
    {
     "data": {
      "text/plain": [
       "{5, 6}"
      ]
     },
     "execution_count": 14,
     "metadata": {},
     "output_type": "execute_result"
    }
   ],
   "source": [
    "s1.intersection(s2)"
   ]
  },
  {
   "cell_type": "code",
   "execution_count": 15,
   "metadata": {},
   "outputs": [
    {
     "data": {
      "text/plain": [
       "{1, 2, 3, 4}"
      ]
     },
     "execution_count": 15,
     "metadata": {},
     "output_type": "execute_result"
    }
   ],
   "source": [
    "s1.difference(s2)"
   ]
  },
  {
   "cell_type": "code",
   "execution_count": null,
   "metadata": {},
   "outputs": [],
   "source": []
  }
 ],
 "metadata": {
  "kernelspec": {
   "display_name": "Python 2",
   "language": "python",
   "name": "python2"
  },
  "language_info": {
   "codemirror_mode": {
    "name": "ipython",
    "version": 2
   },
   "file_extension": ".py",
   "mimetype": "text/x-python",
   "name": "python",
   "nbconvert_exporter": "python",
   "pygments_lexer": "ipython2",
   "version": "2.7.15rc1"
  }
 },
 "nbformat": 4,
 "nbformat_minor": 2
}
