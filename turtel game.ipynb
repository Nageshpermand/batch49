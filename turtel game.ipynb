{
 "cells": [
  {
   "cell_type": "code",
   "execution_count": 1,
   "metadata": {},
   "outputs": [],
   "source": [
    "from turtle import*\n",
    "\n",
    "shape(\"turtle\")\n",
    "speed(1)\n",
    "\n",
    "forward(100)\n",
    "right(90)\n",
    "forward(100)\n",
    "\n",
    "done()\n"
   ]
  },
  {
   "cell_type": "code",
   "execution_count": null,
   "metadata": {},
   "outputs": [],
   "source": [
    "from turtle import*\n",
    "shape(\"turtle\")\n",
    "speed(1)\n",
    "\n",
    "color(\"green\")\n",
    "pensize(6)\n",
    "right(90)\n",
    "forward(100)\n",
    "left(90)\n",
    "forward(50)\n",
    "\n",
    "color(\"yellow\")\n",
    "pensize(4)\n",
    "penup()\n",
    "forward(50)\n",
    "pendown()\n",
    "forward(100)\n",
    "\n",
    "done()"
   ]
  },
  {
   "cell_type": "code",
   "execution_count": null,
   "metadata": {},
   "outputs": [],
   "source": [
    "from turtle import*\n",
    "shape(\"turtle\")\n",
    "speed(1)\n",
    "\n",
    "color(\"green\")\n",
    "pensize(10)                    # this is for pen size\n",
    "left(90)                       #inly fo direction not for moving\n",
    "forward(100)                   #this is moving for 100 pixels forward\n",
    "left(90)\n",
    "forward(50)\n",
    "\n",
    "color(\"yellow\")\n",
    "pensize(4)\n",
    "penup()\n",
    "forward(50)\n",
    "pendown()\n",
    "forward(100)\n",
    "\n",
    "done()"
   ]
  },
  {
   "cell_type": "code",
   "execution_count": 3,
   "metadata": {},
   "outputs": [],
   "source": [
    "from turtle import*\n",
    "shape(\"turtle\")\n",
    "speed(1)\n",
    "\n",
    "color(\"green\")\n",
    "pensize(10)                   \n",
    "left(90)                       \n",
    "backward(100)                   \n",
    "right(90)\n",
    "forward(50)\n",
    "\n",
    "color(\"orange\")\n",
    "pensize(4)\n",
    "penup()\n",
    "forward(50)\n",
    "pendown()\n",
    "forward(100)\n",
    "\n",
    "done()"
   ]
  },
  {
   "cell_type": "code",
   "execution_count": 6,
   "metadata": {},
   "outputs": [
    {
     "ename": "Terminator",
     "evalue": "",
     "output_type": "error",
     "traceback": [
      "\u001b[0;31m---------------------------------------------------------------------------\u001b[0m",
      "\u001b[0;31mTerminator\u001b[0m                                Traceback (most recent call last)",
      "\u001b[0;32m<ipython-input-6-872a0c811c37>\u001b[0m in \u001b[0;36m<module>\u001b[0;34m()\u001b[0m\n\u001b[1;32m      1\u001b[0m \u001b[0;32mfrom\u001b[0m \u001b[0mturtle\u001b[0m \u001b[0;32mimport\u001b[0m\u001b[0;34m*\u001b[0m                        \u001b[0;31m#for simple home\u001b[0m\u001b[0;34m\u001b[0m\u001b[0m\n\u001b[0;32m----> 2\u001b[0;31m \u001b[0mshape\u001b[0m\u001b[0;34m(\u001b[0m\u001b[0;34m\"turtle\"\u001b[0m\u001b[0;34m)\u001b[0m\u001b[0;34m\u001b[0m\u001b[0m\n\u001b[0m\u001b[1;32m      3\u001b[0m \u001b[0mspeed\u001b[0m\u001b[0;34m(\u001b[0m\u001b[0;36m1\u001b[0m\u001b[0;34m)\u001b[0m\u001b[0;34m\u001b[0m\u001b[0m\n\u001b[1;32m      4\u001b[0m \u001b[0;34m\u001b[0m\u001b[0m\n\u001b[1;32m      5\u001b[0m \u001b[0mcolor\u001b[0m\u001b[0;34m(\u001b[0m\u001b[0;34m\"green\"\u001b[0m\u001b[0;34m)\u001b[0m\u001b[0;34m\u001b[0m\u001b[0m\n",
      "\u001b[0;32m/usr/lib/python2.7/lib-tk/turtle.pyc\u001b[0m in \u001b[0;36mshape\u001b[0;34m(name)\u001b[0m\n",
      "\u001b[0;31mTerminator\u001b[0m: "
     ]
    }
   ],
   "source": [
    "from turtle import*                        #for simple home\n",
    "shape(\"turtle\")\n",
    "speed(1)\n",
    "\n",
    "color(\"green\")\n",
    "pensize(6)                   \n",
    "right(90)                       \n",
    "forward(150)                   \n",
    "left(90)\n",
    "forward(60)\n",
    "left(90)\n",
    "forward(40)\n",
    "right(90)\n",
    "forward(30)\n",
    "right(90)\n",
    "forward(40)\n",
    "left(90)\n",
    "forward(60)\n",
    "left(90)\n",
    "forward(150)\n",
    "left(45)\n",
    "forward(80)\n",
    "left(45)\n",
    "forward(40)\n",
    "left(45)\n",
    "forward(80)\n",
    "left(135)\n",
    "forward(150)\n",
    "\n",
    "done()\n"
   ]
  },
  {
   "cell_type": "code",
   "execution_count": 11,
   "metadata": {},
   "outputs": [],
   "source": [
    "from turtle import*\n",
    "\n",
    "speed(1)\n",
    "shape(\"turtle\")\n",
    "\n",
    "for count in range(4):\n",
    "    forward(100)\n",
    "    right(90)\n",
    "    \n",
    "done()"
   ]
  },
  {
   "cell_type": "code",
   "execution_count": 66,
   "metadata": {},
   "outputs": [],
   "source": [
    "from turtle import*\n",
    "\n",
    "speed(1)\n",
    "shape(\"turtle\")\n",
    "\n",
    "for count in range(4):\n",
    "    forward(100)\n",
    "    left(90)\n",
    "    \n",
    "done()"
   ]
  },
  {
   "cell_type": "code",
   "execution_count": 68,
   "metadata": {},
   "outputs": [],
   "source": [
    "from turtle import*\n",
    "\n",
    "\n",
    "\n",
    "speed(1)\n",
    "shape(\"turtle\")\n",
    "\n",
    "for count in range(4):\n",
    "    forward(100)\n",
    "    right(90)\n",
    "    \n",
    "done()\n"
   ]
  },
  {
   "cell_type": "code",
   "execution_count": 70,
   "metadata": {},
   "outputs": [],
   "source": [
    "from turtle import*\n",
    "\n",
    "\n",
    "\n",
    "\n",
    "\n",
    "\n",
    "speed(1)\n",
    "shape(\"turtle\")\n",
    "\n",
    "for count in range(4):\n",
    "    forward(100)\n",
    "    right(90)\n",
    "    \n",
    "done()\n",
    "\n"
   ]
  },
  {
   "cell_type": "code",
   "execution_count": 80,
   "metadata": {},
   "outputs": [],
   "source": [
    "from turtle import*\n",
    "\n",
    "\n",
    "\n",
    "\n",
    "\n",
    "\n",
    "speed(1)\n",
    "shape(\"turtle\")\n",
    "\n",
    "for count in range(4):\n",
    "    forward(100)\n",
    "    right(90)\n",
    "    \n",
    "    \n",
    "from turtle import*\n",
    "\n",
    "\n",
    "\n",
    "\n",
    "\n",
    "\n",
    "speed(1)\n",
    "shape(\"turtle\")\n",
    "color(\"green\")\n",
    "\n",
    "for count in range(20):\n",
    "    forward(100)\n",
    "    right(45)\n",
    "    \n",
    "done()\n",
    "\n",
    "\n",
    "\n"
   ]
  },
  {
   "cell_type": "code",
   "execution_count": 5,
   "metadata": {},
   "outputs": [],
   "source": [
    "from turtle import*\n",
    "\n",
    "\n",
    "\n",
    "\n",
    "\n",
    "\n",
    "speed(1)\n",
    "shape(\"turtle\")\n",
    "\n",
    "for count in range(4):\n",
    "    forward(100)\n",
    "    right(90)\n",
    "    \n",
    "    \n",
    "from turtle import*\n",
    "\n",
    "\n",
    "\n",
    "\n",
    "\n",
    "\n",
    "speed(1)\n",
    "shape(\"turtle\")\n",
    "color(\"green\")\n",
    "\n",
    "for count in range(8):\n",
    "    forward(100)\n",
    "    right(45)\n",
    "    \n",
    "speed(1)\n",
    "shape(\"turtle\")\n",
    "color(\"red\")\n",
    "\n",
    "for count in range(8):\n",
    "    forward(100)\n",
    "    left(45)\n",
    "    \n",
    "    \n",
    "speed(1)\n",
    "shape(\"turtle\")\n",
    "color(\"orange\")\n",
    "\n",
    "for count in range(4):\n",
    "    forward(100)\n",
    "    left(90)\n",
    "    \n",
    "     \n",
    "done()\n",
    "\n",
    "\n",
    "\n"
   ]
  },
  {
   "cell_type": "code",
   "execution_count": 2,
   "metadata": {},
   "outputs": [
    {
     "ename": "Terminator",
     "evalue": "",
     "output_type": "error",
     "traceback": [
      "\u001b[0;31m---------------------------------------------------------------------------\u001b[0m",
      "\u001b[0;31mTerminator\u001b[0m                                Traceback (most recent call last)",
      "\u001b[0;32m<ipython-input-2-96cd1877f3e1>\u001b[0m in \u001b[0;36m<module>\u001b[0;34m()\u001b[0m\n\u001b[1;32m      6\u001b[0m \u001b[0;34m\u001b[0m\u001b[0m\n\u001b[1;32m      7\u001b[0m \u001b[0;34m\u001b[0m\u001b[0m\n\u001b[0;32m----> 8\u001b[0;31m \u001b[0mspeed\u001b[0m\u001b[0;34m(\u001b[0m\u001b[0;36m1\u001b[0m\u001b[0;34m)\u001b[0m\u001b[0;34m\u001b[0m\u001b[0m\n\u001b[0m\u001b[1;32m      9\u001b[0m \u001b[0mshape\u001b[0m\u001b[0;34m(\u001b[0m\u001b[0;34m\"turtle\"\u001b[0m\u001b[0;34m)\u001b[0m\u001b[0;34m\u001b[0m\u001b[0m\n\u001b[1;32m     10\u001b[0m \u001b[0;34m\u001b[0m\u001b[0m\n",
      "\u001b[0;32m/usr/lib/python2.7/lib-tk/turtle.pyc\u001b[0m in \u001b[0;36mspeed\u001b[0;34m(speed)\u001b[0m\n",
      "\u001b[0;31mTerminator\u001b[0m: "
     ]
    }
   ],
   "source": [
    "from turtle import*\n",
    "\n",
    "\n",
    "\n",
    "\n",
    "\n",
    "\n",
    "speed(1)\n",
    "shape(\"turtle\")\n",
    "\n",
    "for count in range(4):\n",
    "    forward(100)\n",
    "    right(90)\n",
    "    \n",
    "    \n",
    "from turtle import*\n",
    "\n",
    "\n",
    "\n",
    "\n",
    "\n",
    "\n",
    "speed(1)\n",
    "shape(\"turtle\")\n",
    "color(\"green\")\n",
    "\n",
    "for count in range(8):\n",
    "    forward(100)\n",
    "    right(45)\n",
    "    \n",
    "speed(1)\n",
    "shape(\"turtle\")\n",
    "color(\"red\")\n",
    "\n",
    "for count in range(8):\n",
    "    forward(100)\n",
    "    left(45)\n",
    "    \n",
    "    \n",
    "speed(1)\n",
    "shape(\"turtle\")\n",
    "color(\"orange\")\n",
    "\n",
    "for count in range(4):\n",
    "    forward(100)\n",
    "    left(90)\n",
    "    \n",
    "     \n",
    "done()\n",
    "\n",
    "\n",
    "\n"
   ]
  },
  {
   "cell_type": "code",
   "execution_count": 97,
   "metadata": {},
   "outputs": [],
   "source": [
    "from turtle import*\n",
    "\n",
    "speed(1)\n",
    "shape(\"turtle\")\n",
    "\n",
    "for count in range(30):\n",
    "    forward(5)\n",
    "    penup()\n",
    "    forward(5)\n",
    "    pendown()\n",
    "    \n",
    "done()"
   ]
  },
  {
   "cell_type": "code",
   "execution_count": 1,
   "metadata": {},
   "outputs": [],
   "source": [
    "from turtle import*\n",
    "\n",
    "speed(1)\n",
    "shape(\"turtle\")\n",
    "\n",
    "color(\"green\")\n",
    "\n",
    "\n",
    "for count in range(30):\n",
    "    forward(100)\n",
    "    right(100)\n",
    "    \n",
    "done()"
   ]
  },
  {
   "cell_type": "code",
   "execution_count": 109,
   "metadata": {},
   "outputs": [
    {
     "ename": "Terminator",
     "evalue": "",
     "output_type": "error",
     "traceback": [
      "\u001b[0;31m---------------------------------------------------------------------------\u001b[0m",
      "\u001b[0;31mTerminator\u001b[0m                                Traceback (most recent call last)",
      "\u001b[0;32m<ipython-input-109-27db55f4b64e>\u001b[0m in \u001b[0;36m<module>\u001b[0;34m()\u001b[0m\n\u001b[1;32m      8\u001b[0m \u001b[0;34m\u001b[0m\u001b[0m\n\u001b[1;32m      9\u001b[0m \u001b[0;32mfor\u001b[0m \u001b[0mcount\u001b[0m \u001b[0;32min\u001b[0m \u001b[0mrange\u001b[0m\u001b[0;34m(\u001b[0m\u001b[0;36m30\u001b[0m\u001b[0;34m)\u001b[0m\u001b[0;34m:\u001b[0m\u001b[0;34m\u001b[0m\u001b[0m\n\u001b[0;32m---> 10\u001b[0;31m     \u001b[0mforward\u001b[0m\u001b[0;34m(\u001b[0m\u001b[0;36m150\u001b[0m\u001b[0;34m)\u001b[0m\u001b[0;34m\u001b[0m\u001b[0m\n\u001b[0m\u001b[1;32m     11\u001b[0m     \u001b[0mright\u001b[0m\u001b[0;34m(\u001b[0m\u001b[0;36m150\u001b[0m\u001b[0;34m)\u001b[0m\u001b[0;34m\u001b[0m\u001b[0m\n\u001b[1;32m     12\u001b[0m \u001b[0;34m\u001b[0m\u001b[0m\n",
      "\u001b[0;32m/usr/lib/python2.7/lib-tk/turtle.pyc\u001b[0m in \u001b[0;36mforward\u001b[0;34m(distance)\u001b[0m\n",
      "\u001b[0;31mTerminator\u001b[0m: "
     ]
    }
   ],
   "source": [
    "from turtle import*\n",
    "\n",
    "speed(1)\n",
    "shape(\"turtle\")\n",
    "\n",
    "color(\"green\")\n",
    "\n",
    "\n",
    "for count in range(30):\n",
    "    forward(150)\n",
    "    right(150)\n",
    "    \n",
    "done()"
   ]
  },
  {
   "cell_type": "code",
   "execution_count": 1,
   "metadata": {},
   "outputs": [
    {
     "name": "stdout",
     "output_type": "stream",
     "text": [
      "0\n"
     ]
    }
   ],
   "source": [
    "import random \n",
    "print random.randint(0, 5) "
   ]
  },
  {
   "cell_type": "code",
   "execution_count": 2,
   "metadata": {},
   "outputs": [
    {
     "name": "stdout",
     "output_type": "stream",
     "text": [
      "1\n"
     ]
    }
   ],
   "source": [
    "import random \n",
    "print random.randint(0, 10)"
   ]
  },
  {
   "cell_type": "code",
   "execution_count": 3,
   "metadata": {},
   "outputs": [
    {
     "name": "stdout",
     "output_type": "stream",
     "text": [
      "7\n"
     ]
    }
   ],
   "source": [
    "import random \n",
    "print random.randint(0, 100)"
   ]
  },
  {
   "cell_type": "code",
   "execution_count": 4,
   "metadata": {},
   "outputs": [
    {
     "name": "stdout",
     "output_type": "stream",
     "text": [
      "321827585449\n"
     ]
    }
   ],
   "source": [
    "import random \n",
    "print random.randint(0, 1000000000000)"
   ]
  },
  {
   "cell_type": "code",
   "execution_count": 5,
   "metadata": {},
   "outputs": [
    {
     "ename": "ImportError",
     "evalue": "cannot import name randit",
     "output_type": "error",
     "traceback": [
      "\u001b[0;31m---------------------------------------------------------------------------\u001b[0m",
      "\u001b[0;31mImportError\u001b[0m                               Traceback (most recent call last)",
      "\u001b[0;32m<ipython-input-5-8963e48440d7>\u001b[0m in \u001b[0;36m<module>\u001b[0;34m()\u001b[0m\n\u001b[1;32m      1\u001b[0m \u001b[0;32mfrom\u001b[0m \u001b[0mturtle\u001b[0m \u001b[0;32mimport\u001b[0m\u001b[0;34m*\u001b[0m\u001b[0;34m\u001b[0m\u001b[0m\n\u001b[0;32m----> 2\u001b[0;31m \u001b[0;32mfrom\u001b[0m \u001b[0mrandom\u001b[0m \u001b[0;32mimport\u001b[0m \u001b[0mrandit\u001b[0m\u001b[0;34m\u001b[0m\u001b[0m\n\u001b[0m\u001b[1;32m      3\u001b[0m \u001b[0;34m\u001b[0m\u001b[0m\n\u001b[1;32m      4\u001b[0m \u001b[0mspeed\u001b[0m\u001b[0;34m(\u001b[0m\u001b[0;36m0\u001b[0m\u001b[0;34m)\u001b[0m\u001b[0;34m\u001b[0m\u001b[0m\n\u001b[1;32m      5\u001b[0m \u001b[0mpenup\u001b[0m\u001b[0;34m(\u001b[0m\u001b[0;34m)\u001b[0m\u001b[0;34m\u001b[0m\u001b[0m\n",
      "\u001b[0;31mImportError\u001b[0m: cannot import name randit"
     ]
    }
   ],
   "source": [
    "from turtle import*\n",
    "from random import randit \n",
    "\n",
    "speed(0)\n",
    "penup()\n",
    "goto(-140, 140)"
   ]
  },
  {
   "cell_type": "code",
   "execution_count": 6,
   "metadata": {},
   "outputs": [],
   "source": [
    "speed(0)\n",
    "penup()\n",
    "goto(-140, 140)"
   ]
  },
  {
   "cell_type": "code",
   "execution_count": 7,
   "metadata": {},
   "outputs": [],
   "source": [
    "speed(0)\n",
    "penup()\n",
    "goto(-200, 200)"
   ]
  },
  {
   "cell_type": "code",
   "execution_count": 9,
   "metadata": {},
   "outputs": [],
   "source": [
    "speed(0)\n",
    "penup()\n",
    "goto(-160, 160)"
   ]
  },
  {
   "cell_type": "code",
   "execution_count": 4,
   "metadata": {},
   "outputs": [
    {
     "ename": "KeyError",
     "evalue": "'centre'",
     "output_type": "error",
     "traceback": [
      "\u001b[0;31m---------------------------------------------------------------------------\u001b[0m",
      "\u001b[0;31mKeyError\u001b[0m                                  Traceback (most recent call last)",
      "\u001b[0;32m<ipython-input-4-70ac3d66a303>\u001b[0m in \u001b[0;36m<module>\u001b[0;34m()\u001b[0m\n\u001b[1;32m      7\u001b[0m \u001b[0;34m\u001b[0m\u001b[0m\n\u001b[1;32m      8\u001b[0m \u001b[0;32mfor\u001b[0m \u001b[0mstep\u001b[0m \u001b[0;32min\u001b[0m \u001b[0mrange\u001b[0m\u001b[0;34m(\u001b[0m\u001b[0;36m15\u001b[0m\u001b[0;34m)\u001b[0m\u001b[0;34m:\u001b[0m\u001b[0;34m\u001b[0m\u001b[0m\n\u001b[0;32m----> 9\u001b[0;31m     \u001b[0mwrite\u001b[0m\u001b[0;34m(\u001b[0m\u001b[0mstep\u001b[0m\u001b[0;34m,\u001b[0m \u001b[0malign\u001b[0m\u001b[0;34m=\u001b[0m\u001b[0;34m'centre'\u001b[0m\u001b[0;34m)\u001b[0m\u001b[0;34m\u001b[0m\u001b[0m\n\u001b[0m\u001b[1;32m     10\u001b[0m \u001b[0mright\u001b[0m\u001b[0;34m(\u001b[0m\u001b[0;36m90\u001b[0m\u001b[0;34m)\u001b[0m\u001b[0;34m\u001b[0m\u001b[0m\n\u001b[1;32m     11\u001b[0m \u001b[0;32mfor\u001b[0m \u001b[0mnum\u001b[0m \u001b[0;32min\u001b[0m \u001b[0mrange\u001b[0m\u001b[0;34m(\u001b[0m\u001b[0;36m8\u001b[0m\u001b[0;34m)\u001b[0m\u001b[0;34m:\u001b[0m\u001b[0;34m\u001b[0m\u001b[0m\n",
      "\u001b[0;32m/usr/lib/python2.7/lib-tk/turtle.pyc\u001b[0m in \u001b[0;36mwrite\u001b[0;34m(arg, move, align, font)\u001b[0m\n",
      "\u001b[0;32m/usr/lib/python2.7/lib-tk/turtle.pyc\u001b[0m in \u001b[0;36mwrite\u001b[0;34m(self, arg, move, align, font)\u001b[0m\n\u001b[1;32m   3297\u001b[0m             \u001b[0mself\u001b[0m\u001b[0;34m.\u001b[0m\u001b[0mundobuffer\u001b[0m\u001b[0;34m.\u001b[0m\u001b[0mpush\u001b[0m\u001b[0;34m(\u001b[0m\u001b[0;34m[\u001b[0m\u001b[0;34m\"seq\"\u001b[0m\u001b[0;34m]\u001b[0m\u001b[0;34m)\u001b[0m\u001b[0;34m\u001b[0m\u001b[0m\n\u001b[1;32m   3298\u001b[0m             \u001b[0mself\u001b[0m\u001b[0;34m.\u001b[0m\u001b[0mundobuffer\u001b[0m\u001b[0;34m.\u001b[0m\u001b[0mcumulate\u001b[0m \u001b[0;34m=\u001b[0m \u001b[0mTrue\u001b[0m\u001b[0;34m\u001b[0m\u001b[0m\n\u001b[0;32m-> 3299\u001b[0;31m         \u001b[0mend\u001b[0m \u001b[0;34m=\u001b[0m \u001b[0mself\u001b[0m\u001b[0;34m.\u001b[0m\u001b[0m_write\u001b[0m\u001b[0;34m(\u001b[0m\u001b[0mstr\u001b[0m\u001b[0;34m(\u001b[0m\u001b[0marg\u001b[0m\u001b[0;34m)\u001b[0m\u001b[0;34m,\u001b[0m \u001b[0malign\u001b[0m\u001b[0;34m.\u001b[0m\u001b[0mlower\u001b[0m\u001b[0;34m(\u001b[0m\u001b[0;34m)\u001b[0m\u001b[0;34m,\u001b[0m \u001b[0mfont\u001b[0m\u001b[0;34m)\u001b[0m\u001b[0;34m\u001b[0m\u001b[0m\n\u001b[0m\u001b[1;32m   3300\u001b[0m         \u001b[0;32mif\u001b[0m \u001b[0mmove\u001b[0m\u001b[0;34m:\u001b[0m\u001b[0;34m\u001b[0m\u001b[0m\n\u001b[1;32m   3301\u001b[0m             \u001b[0mx\u001b[0m\u001b[0;34m,\u001b[0m \u001b[0my\u001b[0m \u001b[0;34m=\u001b[0m \u001b[0mself\u001b[0m\u001b[0;34m.\u001b[0m\u001b[0mpos\u001b[0m\u001b[0;34m(\u001b[0m\u001b[0;34m)\u001b[0m\u001b[0;34m\u001b[0m\u001b[0m\n",
      "\u001b[0;32m/usr/lib/python2.7/lib-tk/turtle.pyc\u001b[0m in \u001b[0;36m_write\u001b[0;34m(self, txt, align, font)\u001b[0m\n\u001b[1;32m   3269\u001b[0m         \"\"\"\n\u001b[1;32m   3270\u001b[0m         item, end = self.screen._write(self._position, txt, align, font,\n\u001b[0;32m-> 3271\u001b[0;31m                                                           self._pencolor)\n\u001b[0m\u001b[1;32m   3272\u001b[0m         \u001b[0mself\u001b[0m\u001b[0;34m.\u001b[0m\u001b[0mitems\u001b[0m\u001b[0;34m.\u001b[0m\u001b[0mappend\u001b[0m\u001b[0;34m(\u001b[0m\u001b[0mitem\u001b[0m\u001b[0;34m)\u001b[0m\u001b[0;34m\u001b[0m\u001b[0m\n\u001b[1;32m   3273\u001b[0m         \u001b[0;32mif\u001b[0m \u001b[0mself\u001b[0m\u001b[0;34m.\u001b[0m\u001b[0mundobuffer\u001b[0m\u001b[0;34m:\u001b[0m\u001b[0;34m\u001b[0m\u001b[0m\n",
      "\u001b[0;32m/usr/lib/python2.7/lib-tk/turtle.pyc\u001b[0m in \u001b[0;36m_write\u001b[0;34m(self, pos, txt, align, font, pencolor)\u001b[0m\n\u001b[1;32m    618\u001b[0m         \u001b[0my\u001b[0m \u001b[0;34m=\u001b[0m \u001b[0my\u001b[0m \u001b[0;34m*\u001b[0m \u001b[0mself\u001b[0m\u001b[0;34m.\u001b[0m\u001b[0myscale\u001b[0m\u001b[0;34m\u001b[0m\u001b[0m\n\u001b[1;32m    619\u001b[0m         \u001b[0manchor\u001b[0m \u001b[0;34m=\u001b[0m \u001b[0;34m{\u001b[0m\u001b[0;34m\"left\"\u001b[0m\u001b[0;34m:\u001b[0m\u001b[0;34m\"sw\"\u001b[0m\u001b[0;34m,\u001b[0m \u001b[0;34m\"center\"\u001b[0m\u001b[0;34m:\u001b[0m\u001b[0;34m\"s\"\u001b[0m\u001b[0;34m,\u001b[0m \u001b[0;34m\"right\"\u001b[0m\u001b[0;34m:\u001b[0m\u001b[0;34m\"se\"\u001b[0m \u001b[0;34m}\u001b[0m\u001b[0;34m\u001b[0m\u001b[0m\n\u001b[0;32m--> 620\u001b[0;31m         item = self.cv.create_text(x-1, -y, text = txt, anchor = anchor[align],\n\u001b[0m\u001b[1;32m    621\u001b[0m                                         fill = pencolor, font = font)\n\u001b[1;32m    622\u001b[0m         \u001b[0mx0\u001b[0m\u001b[0;34m,\u001b[0m \u001b[0my0\u001b[0m\u001b[0;34m,\u001b[0m \u001b[0mx1\u001b[0m\u001b[0;34m,\u001b[0m \u001b[0my1\u001b[0m \u001b[0;34m=\u001b[0m \u001b[0mself\u001b[0m\u001b[0;34m.\u001b[0m\u001b[0mcv\u001b[0m\u001b[0;34m.\u001b[0m\u001b[0mbbox\u001b[0m\u001b[0;34m(\u001b[0m\u001b[0mitem\u001b[0m\u001b[0;34m)\u001b[0m\u001b[0;34m\u001b[0m\u001b[0m\n",
      "\u001b[0;31mKeyError\u001b[0m: 'centre'"
     ]
    }
   ],
   "source": [
    "from turtle import*\n",
    "from random import randint \n",
    "\n",
    "speed(1)\n",
    "penup()\n",
    "goto(-140, 140)\n",
    "\n",
    "for step in range(15):\n",
    "    write(step, align='centre')\n",
    "right(90)\n",
    "for num in range(8):\n",
    "    penup()\n",
    "    forward(10)\n",
    "    pendown()\n",
    "    forward(10)\n",
    "penup()\n",
    "backward(160)\n",
    "left(90)\n",
    "forward(20)\n"
   ]
  },
  {
   "cell_type": "code",
   "execution_count": 13,
   "metadata": {},
   "outputs": [],
   "source": [
    "from turtle import*\n",
    "from random import randint \n"
   ]
  },
  {
   "cell_type": "code",
   "execution_count": 14,
   "metadata": {},
   "outputs": [],
   "source": [
    "from turtle import*\n",
    "from random import randint \n"
   ]
  },
  {
   "cell_type": "code",
   "execution_count": 16,
   "metadata": {},
   "outputs": [
    {
     "ename": "KeyError",
     "evalue": "'centre'",
     "output_type": "error",
     "traceback": [
      "\u001b[0;31m---------------------------------------------------------------------------\u001b[0m",
      "\u001b[0;31mKeyError\u001b[0m                                  Traceback (most recent call last)",
      "\u001b[0;32m<ipython-input-16-2a990a338ee7>\u001b[0m in \u001b[0;36m<module>\u001b[0;34m()\u001b[0m\n\u001b[1;32m      7\u001b[0m \u001b[0;34m\u001b[0m\u001b[0m\n\u001b[1;32m      8\u001b[0m \u001b[0;32mfor\u001b[0m \u001b[0mstep\u001b[0m \u001b[0;32min\u001b[0m \u001b[0mrange\u001b[0m\u001b[0;34m(\u001b[0m\u001b[0;36m15\u001b[0m\u001b[0;34m)\u001b[0m\u001b[0;34m:\u001b[0m\u001b[0;34m\u001b[0m\u001b[0m\n\u001b[0;32m----> 9\u001b[0;31m     \u001b[0mwrite\u001b[0m\u001b[0;34m(\u001b[0m\u001b[0mstep\u001b[0m\u001b[0;34m,\u001b[0m \u001b[0malign\u001b[0m\u001b[0;34m=\u001b[0m\u001b[0;34m'centre'\u001b[0m\u001b[0;34m)\u001b[0m\u001b[0;34m\u001b[0m\u001b[0m\n\u001b[0m\u001b[1;32m     10\u001b[0m     \u001b[0mright\u001b[0m\u001b[0;34m(\u001b[0m\u001b[0;36m90\u001b[0m\u001b[0;34m)\u001b[0m\u001b[0;34m\u001b[0m\u001b[0m\n\u001b[1;32m     11\u001b[0m     \u001b[0;32mfor\u001b[0m \u001b[0mnum\u001b[0m \u001b[0;32min\u001b[0m \u001b[0mrange\u001b[0m\u001b[0;34m(\u001b[0m\u001b[0;36m8\u001b[0m\u001b[0;34m)\u001b[0m\u001b[0;34m:\u001b[0m\u001b[0;34m\u001b[0m\u001b[0m\n",
      "\u001b[0;32m/usr/lib/python2.7/lib-tk/turtle.pyc\u001b[0m in \u001b[0;36mwrite\u001b[0;34m(arg, move, align, font)\u001b[0m\n",
      "\u001b[0;32m/usr/lib/python2.7/lib-tk/turtle.pyc\u001b[0m in \u001b[0;36mwrite\u001b[0;34m(self, arg, move, align, font)\u001b[0m\n\u001b[1;32m   3297\u001b[0m             \u001b[0mself\u001b[0m\u001b[0;34m.\u001b[0m\u001b[0mundobuffer\u001b[0m\u001b[0;34m.\u001b[0m\u001b[0mpush\u001b[0m\u001b[0;34m(\u001b[0m\u001b[0;34m[\u001b[0m\u001b[0;34m\"seq\"\u001b[0m\u001b[0;34m]\u001b[0m\u001b[0;34m)\u001b[0m\u001b[0;34m\u001b[0m\u001b[0m\n\u001b[1;32m   3298\u001b[0m             \u001b[0mself\u001b[0m\u001b[0;34m.\u001b[0m\u001b[0mundobuffer\u001b[0m\u001b[0;34m.\u001b[0m\u001b[0mcumulate\u001b[0m \u001b[0;34m=\u001b[0m \u001b[0mTrue\u001b[0m\u001b[0;34m\u001b[0m\u001b[0m\n\u001b[0;32m-> 3299\u001b[0;31m         \u001b[0mend\u001b[0m \u001b[0;34m=\u001b[0m \u001b[0mself\u001b[0m\u001b[0;34m.\u001b[0m\u001b[0m_write\u001b[0m\u001b[0;34m(\u001b[0m\u001b[0mstr\u001b[0m\u001b[0;34m(\u001b[0m\u001b[0marg\u001b[0m\u001b[0;34m)\u001b[0m\u001b[0;34m,\u001b[0m \u001b[0malign\u001b[0m\u001b[0;34m.\u001b[0m\u001b[0mlower\u001b[0m\u001b[0;34m(\u001b[0m\u001b[0;34m)\u001b[0m\u001b[0;34m,\u001b[0m \u001b[0mfont\u001b[0m\u001b[0;34m)\u001b[0m\u001b[0;34m\u001b[0m\u001b[0m\n\u001b[0m\u001b[1;32m   3300\u001b[0m         \u001b[0;32mif\u001b[0m \u001b[0mmove\u001b[0m\u001b[0;34m:\u001b[0m\u001b[0;34m\u001b[0m\u001b[0m\n\u001b[1;32m   3301\u001b[0m             \u001b[0mx\u001b[0m\u001b[0;34m,\u001b[0m \u001b[0my\u001b[0m \u001b[0;34m=\u001b[0m \u001b[0mself\u001b[0m\u001b[0;34m.\u001b[0m\u001b[0mpos\u001b[0m\u001b[0;34m(\u001b[0m\u001b[0;34m)\u001b[0m\u001b[0;34m\u001b[0m\u001b[0m\n",
      "\u001b[0;32m/usr/lib/python2.7/lib-tk/turtle.pyc\u001b[0m in \u001b[0;36m_write\u001b[0;34m(self, txt, align, font)\u001b[0m\n\u001b[1;32m   3269\u001b[0m         \"\"\"\n\u001b[1;32m   3270\u001b[0m         item, end = self.screen._write(self._position, txt, align, font,\n\u001b[0;32m-> 3271\u001b[0;31m                                                           self._pencolor)\n\u001b[0m\u001b[1;32m   3272\u001b[0m         \u001b[0mself\u001b[0m\u001b[0;34m.\u001b[0m\u001b[0mitems\u001b[0m\u001b[0;34m.\u001b[0m\u001b[0mappend\u001b[0m\u001b[0;34m(\u001b[0m\u001b[0mitem\u001b[0m\u001b[0;34m)\u001b[0m\u001b[0;34m\u001b[0m\u001b[0m\n\u001b[1;32m   3273\u001b[0m         \u001b[0;32mif\u001b[0m \u001b[0mself\u001b[0m\u001b[0;34m.\u001b[0m\u001b[0mundobuffer\u001b[0m\u001b[0;34m:\u001b[0m\u001b[0;34m\u001b[0m\u001b[0m\n",
      "\u001b[0;32m/usr/lib/python2.7/lib-tk/turtle.pyc\u001b[0m in \u001b[0;36m_write\u001b[0;34m(self, pos, txt, align, font, pencolor)\u001b[0m\n\u001b[1;32m    618\u001b[0m         \u001b[0my\u001b[0m \u001b[0;34m=\u001b[0m \u001b[0my\u001b[0m \u001b[0;34m*\u001b[0m \u001b[0mself\u001b[0m\u001b[0;34m.\u001b[0m\u001b[0myscale\u001b[0m\u001b[0;34m\u001b[0m\u001b[0m\n\u001b[1;32m    619\u001b[0m         \u001b[0manchor\u001b[0m \u001b[0;34m=\u001b[0m \u001b[0;34m{\u001b[0m\u001b[0;34m\"left\"\u001b[0m\u001b[0;34m:\u001b[0m\u001b[0;34m\"sw\"\u001b[0m\u001b[0;34m,\u001b[0m \u001b[0;34m\"center\"\u001b[0m\u001b[0;34m:\u001b[0m\u001b[0;34m\"s\"\u001b[0m\u001b[0;34m,\u001b[0m \u001b[0;34m\"right\"\u001b[0m\u001b[0;34m:\u001b[0m\u001b[0;34m\"se\"\u001b[0m \u001b[0;34m}\u001b[0m\u001b[0;34m\u001b[0m\u001b[0m\n\u001b[0;32m--> 620\u001b[0;31m         item = self.cv.create_text(x-1, -y, text = txt, anchor = anchor[align],\n\u001b[0m\u001b[1;32m    621\u001b[0m                                         fill = pencolor, font = font)\n\u001b[1;32m    622\u001b[0m         \u001b[0mx0\u001b[0m\u001b[0;34m,\u001b[0m \u001b[0my0\u001b[0m\u001b[0;34m,\u001b[0m \u001b[0mx1\u001b[0m\u001b[0;34m,\u001b[0m \u001b[0my1\u001b[0m \u001b[0;34m=\u001b[0m \u001b[0mself\u001b[0m\u001b[0;34m.\u001b[0m\u001b[0mcv\u001b[0m\u001b[0;34m.\u001b[0m\u001b[0mbbox\u001b[0m\u001b[0;34m(\u001b[0m\u001b[0mitem\u001b[0m\u001b[0;34m)\u001b[0m\u001b[0;34m\u001b[0m\u001b[0m\n",
      "\u001b[0;31mKeyError\u001b[0m: 'centre'"
     ]
    }
   ],
   "source": [
    "from turtle import *\n",
    "from random import randint \n",
    "\n",
    "speed(0)\n",
    "penup()\n",
    "goto(-140, 140)\n",
    "\n",
    "for step in range(15):\n",
    "    write(step, align='centre')\n",
    "    right(90)\n",
    "    for num in range(8):\n",
    "        penup()\n",
    "        forward(10)\n",
    "        pendown()\n",
    "        forward(10)\n",
    "    penup()\n",
    "    backward(160)\n",
    "    left(90)\n",
    "    forward(20)\n"
   ]
  },
  {
   "cell_type": "code",
   "execution_count": 18,
   "metadata": {},
   "outputs": [
    {
     "ename": "Terminator",
     "evalue": "",
     "output_type": "error",
     "traceback": [
      "\u001b[0;31m---------------------------------------------------------------------------\u001b[0m",
      "\u001b[0;31mTerminator\u001b[0m                                Traceback (most recent call last)",
      "\u001b[0;32m<ipython-input-18-855607002e5b>\u001b[0m in \u001b[0;36m<module>\u001b[0;34m()\u001b[0m\n\u001b[1;32m      3\u001b[0m \u001b[0;34m\u001b[0m\u001b[0m\n\u001b[1;32m      4\u001b[0m \u001b[0mspeed\u001b[0m\u001b[0;34m(\u001b[0m\u001b[0;36m0\u001b[0m\u001b[0;34m)\u001b[0m\u001b[0;34m\u001b[0m\u001b[0m\n\u001b[0;32m----> 5\u001b[0;31m \u001b[0mpenup\u001b[0m\u001b[0;34m(\u001b[0m\u001b[0;34m)\u001b[0m\u001b[0;34m\u001b[0m\u001b[0m\n\u001b[0m\u001b[1;32m      6\u001b[0m \u001b[0mgoto\u001b[0m\u001b[0;34m(\u001b[0m\u001b[0;34m-\u001b[0m\u001b[0;36m140\u001b[0m\u001b[0;34m,\u001b[0m \u001b[0;36m140\u001b[0m\u001b[0;34m)\u001b[0m\u001b[0;34m\u001b[0m\u001b[0m\n\u001b[1;32m      7\u001b[0m \u001b[0;34m\u001b[0m\u001b[0m\n",
      "\u001b[0;32m/usr/lib/python2.7/lib-tk/turtle.pyc\u001b[0m in \u001b[0;36mpenup\u001b[0;34m()\u001b[0m\n",
      "\u001b[0;31mTerminator\u001b[0m: "
     ]
    }
   ],
   "source": [
    "from turtle import *\n",
    "from random import randint\n",
    "\n",
    "speed(0)\n",
    "penup()\n",
    "goto(-140, 140)\n",
    "\n",
    "for step in range(15):\n",
    "  write(step, align='center')\n",
    "  right(90)\n",
    "  for num in range(8):\n",
    "    penup()\n",
    "    forward(10)\n",
    "    pendown()\n",
    "    forward(10)\n",
    "  penup()\n",
    "  backward(160)\n",
    "  left(90)\n",
    "  forward(20)\n",
    "\n",
    "ada = Turtle()\n",
    "ada.color('red')\n",
    "ada.shape('turtle')\n",
    "\n",
    "ada.penup()\n",
    "ada.goto(-160, 100)\n",
    "ada.pendown()\n",
    "\n",
    "for turn in range(10):\n",
    "  ada.right(36)\n",
    "\n",
    "bob = Turtle()\n",
    "bob.color('blue')\n",
    "bob.shape('turtle')\n",
    "\n",
    "bob.penup()\n",
    "bob.goto(-160, 70)\n",
    "bob.pendown()\n",
    "\n",
    "for turn in range(72):\n",
    "  bob.left(5)\n",
    "\n",
    "ivy = Turtle()\n",
    "ivy.shape('turtle')\n",
    "ivy.color('green')\n",
    "\n",
    "ivy.penup()\n",
    "ivy.goto(-160, 40)\n",
    "ivy.pendown()\n",
    "\n",
    "for turn in range(60):\n",
    "  ivy.right(6)\n",
    "\n",
    "jim = Turtle()\n",
    "jim.shape('turtle')\n",
    "jim.color('orange')\n",
    "\n",
    "jim.penup()\n",
    "jim.goto(-160, 10)\n",
    "jim.pendown()\n"
   ]
  },
  {
   "cell_type": "code",
   "execution_count": 19,
   "metadata": {},
   "outputs": [],
   "source": [
    "### Mini project\n",
    "\"\"\"\n",
    "“Turtle” is a Python feature like a drawing board, which lets us command a turtle to draw all over it!\n",
    "We can use some functions  which can move the turtle around.Commonly\n",
    "\n",
    "\"\"\"\n",
    "\n",
    "from turtle import *\n",
    "from random import randint\n",
    "\n",
    "speed(0)\n",
    "penup()\n",
    "goto(-140, 140)\n",
    "\n",
    "for step in range(15):\n",
    "  write(step, align='center')\n",
    "  right(90)\n",
    "  for num in range(8):\n",
    "    penup()\n",
    "    forward(10)\n",
    "    pendown()\n",
    "    forward(10)\n",
    "  penup()\n",
    "  backward(160)\n",
    "  left(90)\n",
    "  forward(20)\n",
    "\n",
    "ada = Turtle()\n",
    "ada.color('red')\n",
    "ada.shape('turtle')\n",
    "\n",
    "ada.penup()\n",
    "ada.goto(-160, 100)\n",
    "ada.pendown()\n",
    "\n",
    "for turn in range(10):\n",
    "  ada.right(36)\n",
    "\n",
    "bob = Turtle()\n",
    "bob.color('blue')\n",
    "bob.shape('turtle')\n",
    "\n",
    "bob.penup()\n",
    "bob.goto(-160, 70)\n",
    "bob.pendown()\n",
    "\n",
    "for turn in range(72):\n",
    "  bob.left(5)\n",
    "\n",
    "ivy = Turtle()\n",
    "ivy.shape('turtle')\n",
    "ivy.color('green')\n",
    "\n",
    "ivy.penup()\n",
    "ivy.goto(-160, 40)\n",
    "ivy.pendown()\n",
    "\n",
    "for turn in range(60):\n",
    "  ivy.right(6)\n",
    "\n",
    "jim = Turtle()\n",
    "jim.shape('turtle')\n",
    "jim.color('orange')\n",
    "\n",
    "jim.penup()\n",
    "jim.goto(-160, 10)\n",
    "jim.pendown()\n",
    "\n",
    "for turn in range(30):\n",
    "  jim.left(12)\n",
    "\n",
    "for turn in range(100):\n",
    "  ada.forward(randint(1,5))\n",
    "  bob.forward(randint(1,5))\n",
    "  ivy.forward(randint(1,5))\n",
    "  jim.forward(randint(1,5))\n",
    "  "
   ]
  },
  {
   "cell_type": "code",
   "execution_count": 24,
   "metadata": {},
   "outputs": [
    {
     "ename": "TclError",
     "evalue": "invalid command name \".139880047834608\"",
     "output_type": "error",
     "traceback": [
      "\u001b[0;31m---------------------------------------------------------------------------\u001b[0m",
      "\u001b[0;31mTclError\u001b[0m                                  Traceback (most recent call last)",
      "\u001b[0;32m<ipython-input-24-7286519c778d>\u001b[0m in \u001b[0;36m<module>\u001b[0;34m()\u001b[0m\n\u001b[1;32m     77\u001b[0m   \u001b[0mturtle1\u001b[0m\u001b[0;34m.\u001b[0m\u001b[0mforward\u001b[0m\u001b[0;34m(\u001b[0m\u001b[0mrandint\u001b[0m\u001b[0;34m(\u001b[0m\u001b[0;36m1\u001b[0m\u001b[0;34m,\u001b[0m\u001b[0;36m5\u001b[0m\u001b[0;34m)\u001b[0m\u001b[0;34m)\u001b[0m\u001b[0;34m\u001b[0m\u001b[0m\n\u001b[1;32m     78\u001b[0m   \u001b[0mturtle2\u001b[0m\u001b[0;34m.\u001b[0m\u001b[0mforward\u001b[0m\u001b[0;34m(\u001b[0m\u001b[0mrandint\u001b[0m\u001b[0;34m(\u001b[0m\u001b[0;36m1\u001b[0m\u001b[0;34m,\u001b[0m\u001b[0;36m5\u001b[0m\u001b[0;34m)\u001b[0m\u001b[0;34m)\u001b[0m\u001b[0;34m\u001b[0m\u001b[0m\n\u001b[0;32m---> 79\u001b[0;31m   \u001b[0mturtle3\u001b[0m\u001b[0;34m.\u001b[0m\u001b[0mforward\u001b[0m\u001b[0;34m(\u001b[0m\u001b[0mrandint\u001b[0m\u001b[0;34m(\u001b[0m\u001b[0;36m1\u001b[0m\u001b[0;34m,\u001b[0m\u001b[0;36m5\u001b[0m\u001b[0;34m)\u001b[0m\u001b[0;34m)\u001b[0m\u001b[0;34m\u001b[0m\u001b[0m\n\u001b[0m\u001b[1;32m     80\u001b[0m   \u001b[0mturtle4\u001b[0m\u001b[0;34m.\u001b[0m\u001b[0mforward\u001b[0m\u001b[0;34m(\u001b[0m\u001b[0mrandint\u001b[0m\u001b[0;34m(\u001b[0m\u001b[0;36m1\u001b[0m\u001b[0;34m,\u001b[0m\u001b[0;36m5\u001b[0m\u001b[0;34m)\u001b[0m\u001b[0;34m)\u001b[0m\u001b[0;34m\u001b[0m\u001b[0m\n\u001b[1;32m     81\u001b[0m \u001b[0;34m\u001b[0m\u001b[0m\n",
      "\u001b[0;32m/usr/lib/python2.7/lib-tk/turtle.pyc\u001b[0m in \u001b[0;36mforward\u001b[0;34m(self, distance)\u001b[0m\n\u001b[1;32m   1551\u001b[0m         \u001b[0;34m(\u001b[0m\u001b[0;34m-\u001b[0m\u001b[0;36m50.00\u001b[0m\u001b[0;34m,\u001b[0m\u001b[0;36m0.00\u001b[0m\u001b[0;34m)\u001b[0m\u001b[0;34m\u001b[0m\u001b[0m\n\u001b[1;32m   1552\u001b[0m         \"\"\"\n\u001b[0;32m-> 1553\u001b[0;31m         \u001b[0mself\u001b[0m\u001b[0;34m.\u001b[0m\u001b[0m_go\u001b[0m\u001b[0;34m(\u001b[0m\u001b[0mdistance\u001b[0m\u001b[0;34m)\u001b[0m\u001b[0;34m\u001b[0m\u001b[0m\n\u001b[0m\u001b[1;32m   1554\u001b[0m \u001b[0;34m\u001b[0m\u001b[0m\n\u001b[1;32m   1555\u001b[0m     \u001b[0;32mdef\u001b[0m \u001b[0mback\u001b[0m\u001b[0;34m(\u001b[0m\u001b[0mself\u001b[0m\u001b[0;34m,\u001b[0m \u001b[0mdistance\u001b[0m\u001b[0;34m)\u001b[0m\u001b[0;34m:\u001b[0m\u001b[0;34m\u001b[0m\u001b[0m\n",
      "\u001b[0;32m/usr/lib/python2.7/lib-tk/turtle.pyc\u001b[0m in \u001b[0;36m_go\u001b[0;34m(self, distance)\u001b[0m\n\u001b[1;32m   1519\u001b[0m         \u001b[0;34m\"\"\"move turtle forward by specified distance\"\"\"\u001b[0m\u001b[0;34m\u001b[0m\u001b[0m\n\u001b[1;32m   1520\u001b[0m         \u001b[0mende\u001b[0m \u001b[0;34m=\u001b[0m \u001b[0mself\u001b[0m\u001b[0;34m.\u001b[0m\u001b[0m_position\u001b[0m \u001b[0;34m+\u001b[0m \u001b[0mself\u001b[0m\u001b[0;34m.\u001b[0m\u001b[0m_orient\u001b[0m \u001b[0;34m*\u001b[0m \u001b[0mdistance\u001b[0m\u001b[0;34m\u001b[0m\u001b[0m\n\u001b[0;32m-> 1521\u001b[0;31m         \u001b[0mself\u001b[0m\u001b[0;34m.\u001b[0m\u001b[0m_goto\u001b[0m\u001b[0;34m(\u001b[0m\u001b[0mende\u001b[0m\u001b[0;34m)\u001b[0m\u001b[0;34m\u001b[0m\u001b[0m\n\u001b[0m\u001b[1;32m   1522\u001b[0m \u001b[0;34m\u001b[0m\u001b[0m\n\u001b[1;32m   1523\u001b[0m     \u001b[0;32mdef\u001b[0m \u001b[0m_rotate\u001b[0m\u001b[0;34m(\u001b[0m\u001b[0mself\u001b[0m\u001b[0;34m,\u001b[0m \u001b[0mangle\u001b[0m\u001b[0;34m)\u001b[0m\u001b[0;34m:\u001b[0m\u001b[0;34m\u001b[0m\u001b[0m\n",
      "\u001b[0;32m/usr/lib/python2.7/lib-tk/turtle.pyc\u001b[0m in \u001b[0;36m_goto\u001b[0;34m(self, end)\u001b[0m\n\u001b[1;32m   2989\u001b[0m                       (self.currentLineItem,\n\u001b[1;32m   2990\u001b[0m                       \u001b[0mself\u001b[0m\u001b[0;34m.\u001b[0m\u001b[0mcurrentLine\u001b[0m\u001b[0;34m[\u001b[0m\u001b[0;34m:\u001b[0m\u001b[0;34m]\u001b[0m\u001b[0;34m,\u001b[0m\u001b[0;34m\u001b[0m\u001b[0m\n\u001b[0;32m-> 2991\u001b[0;31m                       \u001b[0mscreen\u001b[0m\u001b[0;34m.\u001b[0m\u001b[0m_pointlist\u001b[0m\u001b[0;34m(\u001b[0m\u001b[0mself\u001b[0m\u001b[0;34m.\u001b[0m\u001b[0mcurrentLineItem\u001b[0m\u001b[0;34m)\u001b[0m\u001b[0;34m,\u001b[0m\u001b[0;34m\u001b[0m\u001b[0m\n\u001b[0m\u001b[1;32m   2992\u001b[0m                       self.items[:])\n\u001b[1;32m   2993\u001b[0m                       )\n",
      "\u001b[0;32m/usr/lib/python2.7/lib-tk/turtle.pyc\u001b[0m in \u001b[0;36m_pointlist\u001b[0;34m(self, item)\u001b[0m\n\u001b[1;32m    759\u001b[0m         (9.9999999999999982, 0.0)]\n\u001b[1;32m    760\u001b[0m         >>> \"\"\"\n\u001b[0;32m--> 761\u001b[0;31m         \u001b[0mcl\u001b[0m \u001b[0;34m=\u001b[0m \u001b[0mself\u001b[0m\u001b[0;34m.\u001b[0m\u001b[0mcv\u001b[0m\u001b[0;34m.\u001b[0m\u001b[0mcoords\u001b[0m\u001b[0;34m(\u001b[0m\u001b[0mitem\u001b[0m\u001b[0;34m)\u001b[0m\u001b[0;34m\u001b[0m\u001b[0m\n\u001b[0m\u001b[1;32m    762\u001b[0m         \u001b[0mpl\u001b[0m \u001b[0;34m=\u001b[0m \u001b[0;34m[\u001b[0m\u001b[0;34m(\u001b[0m\u001b[0mcl\u001b[0m\u001b[0;34m[\u001b[0m\u001b[0mi\u001b[0m\u001b[0;34m]\u001b[0m\u001b[0;34m,\u001b[0m \u001b[0;34m-\u001b[0m\u001b[0mcl\u001b[0m\u001b[0;34m[\u001b[0m\u001b[0mi\u001b[0m\u001b[0;34m+\u001b[0m\u001b[0;36m1\u001b[0m\u001b[0;34m]\u001b[0m\u001b[0;34m)\u001b[0m \u001b[0;32mfor\u001b[0m \u001b[0mi\u001b[0m \u001b[0;32min\u001b[0m \u001b[0mrange\u001b[0m\u001b[0;34m(\u001b[0m\u001b[0;36m0\u001b[0m\u001b[0;34m,\u001b[0m \u001b[0mlen\u001b[0m\u001b[0;34m(\u001b[0m\u001b[0mcl\u001b[0m\u001b[0;34m)\u001b[0m\u001b[0;34m,\u001b[0m \u001b[0;36m2\u001b[0m\u001b[0;34m)\u001b[0m\u001b[0;34m]\u001b[0m\u001b[0;34m\u001b[0m\u001b[0m\n\u001b[1;32m    763\u001b[0m         \u001b[0;32mreturn\u001b[0m  \u001b[0mpl\u001b[0m\u001b[0;34m\u001b[0m\u001b[0m\n",
      "\u001b[0;32m<string>\u001b[0m in \u001b[0;36mcoords\u001b[0;34m(self, *args, **kw)\u001b[0m\n",
      "\u001b[0;32m/usr/lib/python2.7/lib-tk/Tkinter.pyc\u001b[0m in \u001b[0;36mcoords\u001b[0;34m(self, *args)\u001b[0m\n\u001b[1;32m   2300\u001b[0m         return map(getdouble,\n\u001b[1;32m   2301\u001b[0m                            self.tk.splitlist(\n\u001b[0;32m-> 2302\u001b[0;31m                    self.tk.call((self._w, 'coords') + args)))\n\u001b[0m\u001b[1;32m   2303\u001b[0m     \u001b[0;32mdef\u001b[0m \u001b[0m_create\u001b[0m\u001b[0;34m(\u001b[0m\u001b[0mself\u001b[0m\u001b[0;34m,\u001b[0m \u001b[0mitemType\u001b[0m\u001b[0;34m,\u001b[0m \u001b[0margs\u001b[0m\u001b[0;34m,\u001b[0m \u001b[0mkw\u001b[0m\u001b[0;34m)\u001b[0m\u001b[0;34m:\u001b[0m \u001b[0;31m# Args: (val, val, ..., cnf={})\u001b[0m\u001b[0;34m\u001b[0m\u001b[0m\n\u001b[1;32m   2304\u001b[0m         \u001b[0;34m\"\"\"Internal function.\"\"\"\u001b[0m\u001b[0;34m\u001b[0m\u001b[0m\n",
      "\u001b[0;31mTclError\u001b[0m: invalid command name \".139880047834608\""
     ]
    }
   ],
   "source": [
    "\n",
    "\"\"\"\n",
    "“Turtle” is a Python feature like a drawing board, which lets us command a turtle to draw all over it!\n",
    "We can use some functions  which can move the turtle around Commonly\n",
    "\n",
    "\"\"\"\n",
    "\n",
    "from turtle import *             # it imports everything  turtle related graphics  and functions\n",
    "from random import randint\n",
    "\n",
    "speed(0)\n",
    "penup()\n",
    "goto(-140, 140)\n",
    "\n",
    "\n",
    "for step in range(15):\n",
    "  write(step, align='center')\n",
    "  right(90)\n",
    "  for num in range(8):\n",
    "    penup()\n",
    "    forward(10)\n",
    "    pendown()\n",
    "    \n",
    "    forward(10)\n",
    "  penup()\n",
    "  backward(160)\n",
    "  left(90)\n",
    "  forward(20)\n",
    "\n",
    "turtle1 = Turtle()\n",
    "turtle1.color('red')\n",
    "turtle1.shape('turtle')\n",
    "\n",
    "\n",
    "\n",
    "turtle1.penup()\n",
    "turtle1.goto(-160, 100)\n",
    "turtle1.pendown()\n",
    "\n",
    "for turn in range(10):\n",
    "  turtle1.right(36)\n",
    "\n",
    "turtle2 = Turtle()\n",
    "turtle2.color('blue')\n",
    "turtle2.shape('turtle')\n",
    "\n",
    "turtle2.penup()\n",
    "turtle2.goto(-160, 70)\n",
    "turtle2.pendown()\n",
    "\n",
    "for turn in range(72):\n",
    "  turtle2.left(5)\n",
    "\n",
    "turtle3 = Turtle()\n",
    "turtle3.shape('turtle')\n",
    "turtle3.color('green')\n",
    "\n",
    "turtle3.penup()\n",
    "turtle3.goto(-160, 40)\n",
    "turtle3.pendown()\n",
    "\n",
    "for turn in range(60):\n",
    "  turtle3.right(6)\n",
    "\n",
    "turtle4 = Turtle()\n",
    "turtle4.shape('turtle')\n",
    "turtle4.color('orange')\n",
    "\n",
    "turtle4.penup()\n",
    "turtle4.goto(-160, 10)\n",
    "turtle4.pendown()\n",
    "\n",
    "for turn in range(30):\n",
    "  turtle4.left(12)\n",
    "\n",
    "for turn in range(100):\n",
    "  turtle1.forward(randint(1,5))\n",
    "  turtle2.forward(randint(1,5))\n",
    "  turtle3.forward(randint(1,5))\n",
    "  turtle4.forward(randint(1,5))\n",
    "  "
   ]
  },
  {
   "cell_type": "code",
   "execution_count": null,
   "metadata": {},
   "outputs": [],
   "source": []
  }
 ],
 "metadata": {
  "kernelspec": {
   "display_name": "Python 2",
   "language": "python",
   "name": "python2"
  },
  "language_info": {
   "codemirror_mode": {
    "name": "ipython",
    "version": 2
   },
   "file_extension": ".py",
   "mimetype": "text/x-python",
   "name": "python",
   "nbconvert_exporter": "python",
   "pygments_lexer": "ipython2",
   "version": "2.7.15rc1"
  }
 },
 "nbformat": 4,
 "nbformat_minor": 2
}
