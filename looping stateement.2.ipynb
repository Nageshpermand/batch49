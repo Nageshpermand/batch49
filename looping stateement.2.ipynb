{
 "cells": [
  {
   "cell_type": "code",
   "execution_count": 1,
   "metadata": {},
   "outputs": [
    {
     "name": "stdout",
     "output_type": "stream",
     "text": [
      "h\n",
      "y\n",
      "d\n",
      "e\n",
      "r\n",
      "a\n",
      "b\n",
      "a\n",
      "d\n"
     ]
    }
   ],
   "source": [
    "a = \"hyderabad\"\n",
    "for i in(a):\n",
    "    print i"
   ]
  },
  {
   "cell_type": "code",
   "execution_count": 2,
   "metadata": {},
   "outputs": [
    {
     "name": "stdout",
     "output_type": "stream",
     "text": [
      "1,2,3,4\n"
     ]
    }
   ],
   "source": [
    "a=[\"1,2,3,4\"]\n",
    "for i in(a):\n",
    "    print i"
   ]
  },
  {
   "cell_type": "code",
   "execution_count": 3,
   "metadata": {},
   "outputs": [
    {
     "name": "stdout",
     "output_type": "stream",
     "text": [
      "1,2,3,4\n"
     ]
    }
   ],
   "source": [
    "s = {\"a\":\"1\",\"b\":\"2\"}\n",
    "for i in (a):\n",
    "    print i"
   ]
  },
  {
   "cell_type": "code",
   "execution_count": 19,
   "metadata": {},
   "outputs": [
    {
     "name": "stdout",
     "output_type": "stream",
     "text": [
      "a\n"
     ]
    }
   ],
   "source": [
    "s = {\"a\":\"1\",\"b\":\"2\"}\n",
    "for i in s:\n",
    "    print i\n",
    "    break"
   ]
  },
  {
   "cell_type": "code",
   "execution_count": 9,
   "metadata": {},
   "outputs": [
    {
     "name": "stdout",
     "output_type": "stream",
     "text": [
      "<space>\n",
      "p\n",
      "y\n",
      "t\n",
      "h\n",
      "o\n",
      "n\n",
      "<space>\n",
      "i\n",
      "s\n",
      "<space>\n",
      "o\n",
      "b\n",
      "j\n",
      "e\n",
      "c\n",
      "t\n",
      "<space>\n",
      "<space>\n",
      "o\n",
      "r\n",
      "i\n",
      "e\n",
      "n\n",
      "t\n",
      "e\n",
      "d\n",
      "<space>\n",
      "l\n",
      "a\n",
      "u\n",
      "n\n",
      "g\n",
      "u\n",
      "e\n",
      "g\n",
      "e\n"
     ]
    }
   ],
   "source": [
    "s = \" python is object  oriented launguege\"\n",
    "for i in (s):\n",
    "    if i== \" \":\n",
    "        print \"<space>\"\n",
    "    else:\n",
    "        print i"
   ]
  },
  {
   "cell_type": "code",
   "execution_count": 10,
   "metadata": {},
   "outputs": [],
   "source": [
    "s = \" python is object\"\n",
    "for i in (s):\n",
    "    if i== \" \":\n",
    "        break\n",
    "    else:\n",
    "        print i"
   ]
  },
  {
   "cell_type": "code",
   "execution_count": 15,
   "metadata": {},
   "outputs": [
    {
     "name": "stdout",
     "output_type": "stream",
     "text": [
      " \n",
      "thankyou\n"
     ]
    }
   ],
   "source": [
    "s = \" python is object  oriented launguege\"\n",
    "for i in s:\n",
    "    print i\n",
    "    break\n",
    "    print\"other statement\"\n",
    "print\"thankyou\""
   ]
  },
  {
   "cell_type": "code",
   "execution_count": 16,
   "metadata": {},
   "outputs": [
    {
     "name": "stdout",
     "output_type": "stream",
     "text": [
      " \n",
      "p\n",
      "y\n",
      "t\n",
      "h\n",
      "o\n",
      "n\n",
      " \n",
      "i\n",
      "s\n",
      " \n",
      "o\n",
      "b\n",
      "j\n",
      "e\n",
      "c\n",
      "t\n",
      " \n",
      " \n",
      "o\n",
      "r\n",
      "i\n",
      "e\n",
      "n\n",
      "t\n",
      "e\n",
      "d\n",
      " \n",
      "l\n",
      "a\n",
      "u\n",
      "n\n",
      "g\n",
      "u\n",
      "e\n",
      "g\n",
      "e\n",
      "the i value e\n",
      "thankyou\n"
     ]
    }
   ],
   "source": [
    "s = \" python is object  oriented launguege\"\n",
    "for i in s:\n",
    "    print i\n",
    "    continue\n",
    "    print\"other statement\"\n",
    "print \"the i value\",i\n",
    "print\"thankyou\""
   ]
  },
  {
   "cell_type": "code",
   "execution_count": 17,
   "metadata": {},
   "outputs": [
    {
     "name": "stdout",
     "output_type": "stream",
     "text": [
      " \n",
      "the i value  \n",
      "thankyou\n"
     ]
    }
   ],
   "source": [
    "s = \" python is object  oriented launguege\"\n",
    "for i in s:\n",
    "    print i\n",
    "    break\n",
    "    print\"other statement\"\n",
    "print \"the i value\",i\n",
    "print\"thankyou\""
   ]
  },
  {
   "cell_type": "code",
   "execution_count": 18,
   "metadata": {},
   "outputs": [
    {
     "name": "stdout",
     "output_type": "stream",
     "text": [
      "p\n",
      "y\n",
      "t\n",
      "h\n",
      "o\n",
      "n\n",
      "i\n",
      "s\n",
      "o\n",
      "b\n",
      "j\n",
      "e\n",
      "c\n",
      "t\n",
      "o\n",
      "r\n",
      "i\n",
      "e\n",
      "n\n",
      "t\n",
      "e\n",
      "d\n",
      "l\n",
      "a\n",
      "u\n",
      "n\n",
      "g\n",
      "u\n",
      "e\n",
      "g\n",
      "e\n"
     ]
    }
   ],
   "source": [
    "s = \" python is object  oriented launguege\"\n",
    "for i in s:\n",
    "    if i==\" \":\n",
    "        continue\n",
    "    print i\n"
   ]
  },
  {
   "cell_type": "code",
   "execution_count": 2,
   "metadata": {},
   "outputs": [
    {
     "name": "stdout",
     "output_type": "stream",
     "text": [
      "program is started\n",
      "0\n",
      "outside the loop: 0\n",
      "the programme is ended\n"
     ]
    }
   ],
   "source": [
    "print\"program is started\"\n",
    "i=0\n",
    "while i<5:\n",
    "    print i\n",
    "    break \n",
    "    i=i+1\n",
    "print\"outside the loop:\",i\n",
    "print\"the programme is ended\"\n",
    "    \n"
   ]
  },
  {
   "cell_type": "code",
   "execution_count": 3,
   "metadata": {},
   "outputs": [
    {
     "name": "stdout",
     "output_type": "stream",
     "text": [
      "program is started\n",
      "outside the loop: 0\n",
      "the programme is ended\n"
     ]
    }
   ],
   "source": [
    "print\"program is started\"\n",
    "i=0\n",
    "while i>5:\n",
    "    print i\n",
    "    break \n",
    "    i=i+1\n",
    "print\"outside the loop:\",i\n",
    "print\"the programme is ended\"\n",
    "    \n"
   ]
  },
  {
   "cell_type": "code",
   "execution_count": 4,
   "metadata": {},
   "outputs": [
    {
     "name": "stdout",
     "output_type": "stream",
     "text": [
      "program is started\n",
      "0\n",
      "outside the loop: 1\n",
      "the programme is ended\n"
     ]
    }
   ],
   "source": [
    "print\"program is started\"\n",
    "i=0\n",
    "while i<5:\n",
    "    print i \n",
    "    i=i+1\n",
    "    break\n",
    "print\"outside the loop:\",i\n",
    "print\"the programme is ended\"\n",
    "    \n"
   ]
  },
  {
   "cell_type": "code",
   "execution_count": 5,
   "metadata": {},
   "outputs": [
    {
     "name": "stdout",
     "output_type": "stream",
     "text": [
      "python programming is started\n",
      "outside the loop: n\n",
      "programme is ended\n"
     ]
    }
   ],
   "source": [
    "print \"python programming is started\"\n",
    "for i in \"python\":\n",
    "    continue\n",
    "print\"outside the loop:\",i\n",
    "print\"programme is ended\""
   ]
  },
  {
   "cell_type": "code",
   "execution_count": 6,
   "metadata": {},
   "outputs": [
    {
     "name": "stdout",
     "output_type": "stream",
     "text": [
      "python programming is started\n",
      "outside the loop: p\n",
      "programme is ended\n"
     ]
    }
   ],
   "source": [
    "print \"python programming is started\"\n",
    "for i in \"python\":\n",
    "    break\n",
    "print\"outside the loop:\",i\n",
    "print\"programme is ended\""
   ]
  },
  {
   "cell_type": "code",
   "execution_count": 7,
   "metadata": {},
   "outputs": [
    {
     "name": "stdout",
     "output_type": "stream",
     "text": [
      "p\n",
      "iteration next word\n",
      "y\n",
      "iteration next word\n",
      "t\n",
      "iteration next word\n",
      "h\n",
      "iteration next word\n",
      "o\n",
      "iteration next word\n",
      "n\n",
      "iteration next word\n",
      "the outside the looping: n\n",
      "thank you\n"
     ]
    }
   ],
   "source": [
    "s = \"python\"\n",
    "for i in(s):\n",
    "    print i\n",
    "    print \"iteration next word\"\n",
    "print \"the outside the looping:\",i\n",
    "print\"thank you\""
   ]
  },
  {
   "cell_type": "code",
   "execution_count": 8,
   "metadata": {},
   "outputs": [
    {
     "name": "stdout",
     "output_type": "stream",
     "text": [
      "p\n",
      "the outside the looping: p\n",
      "thank you\n"
     ]
    }
   ],
   "source": [
    "s = \"python\"\n",
    "for i in(s):\n",
    "    print i\n",
    "    break\n",
    "    print \"iteration next word\"\n",
    "print \"the outside the looping:\",i\n",
    "print\"thank you\""
   ]
  },
  {
   "cell_type": "code",
   "execution_count": 9,
   "metadata": {},
   "outputs": [
    {
     "name": "stdout",
     "output_type": "stream",
     "text": [
      "p\n",
      "y\n",
      "t\n",
      "h\n",
      "o\n",
      "n\n",
      "the outside the looping: n\n",
      "thank you\n"
     ]
    }
   ],
   "source": [
    "s = \"python\"\n",
    "for i in(s):\n",
    "    print i\n",
    "    continue\n",
    "    print \"iteration next word\"\n",
    "print \"the outside the looping:\",i\n",
    "print\"thank you\""
   ]
  },
  {
   "cell_type": "code",
   "execution_count": 11,
   "metadata": {},
   "outputs": [],
   "source": [
    "s = \" python is object\"\n",
    "for i in (s):\n",
    "    if i== \" \":\n",
    "        break\n",
    "    else:\n",
    "        print i\n",
    "\n",
    "        \n",
    "#not print output because if condition break than it not nor print else condition"
   ]
  },
  {
   "cell_type": "code",
   "execution_count": 14,
   "metadata": {},
   "outputs": [
    {
     "name": "stdout",
     "output_type": "stream",
     "text": [
      "thank you\n"
     ]
    }
   ],
   "source": [
    "s = \" python is object\"\n",
    "for i in (s):\n",
    "    if i== \" \":\n",
    "        break\n",
    "    else:\n",
    "        print i\n",
    "print \"thank you\"\n",
    "# the total for contion takes wrong because in steing fist valu is <space> so if it not prints input string"
   ]
  },
  {
   "cell_type": "code",
   "execution_count": 15,
   "metadata": {},
   "outputs": [
    {
     "name": "stdout",
     "output_type": "stream",
     "text": [
      "p\n",
      "y\n",
      "t\n",
      "h\n",
      "o\n",
      "n\n"
     ]
    }
   ],
   "source": [
    "s = \"python is object\"\n",
    "for i in (s):\n",
    "    if i== \" \":\n",
    "        break\n",
    "    else:\n",
    "        print i\n",
    "# there is  i==\" \" is in  string between python and is so it breaks after python , prints only \"python\""
   ]
  },
  {
   "cell_type": "code",
   "execution_count": 16,
   "metadata": {},
   "outputs": [
    {
     "name": "stdout",
     "output_type": "stream",
     "text": [
      "anil\n",
      "sai\n",
      "ramesh\n",
      "mahesh\n"
     ]
    }
   ],
   "source": [
    "a = (\"anil\",\"sai\",\"ramesh\",\"mahesh\")\n",
    "for i in a:\n",
    "    print i"
   ]
  },
  {
   "cell_type": "code",
   "execution_count": 17,
   "metadata": {},
   "outputs": [
    {
     "name": "stdout",
     "output_type": "stream",
     "text": [
      "0\n",
      "1\n",
      "2\n",
      "3\n"
     ]
    }
   ],
   "source": [
    "b=[\"0\",\"1\",\"2\",\"3\"]\n",
    "for i in b:\n",
    "    print i"
   ]
  },
  {
   "cell_type": "code",
   "execution_count": 18,
   "metadata": {},
   "outputs": [
    {
     "name": "stdout",
     "output_type": "stream",
     "text": [
      "0\n",
      "1\n",
      "2\n",
      "3\n"
     ]
    }
   ],
   "source": [
    "b=[0,1,2,3]\n",
    "for i in b:\n",
    "    print i"
   ]
  },
  {
   "cell_type": "code",
   "execution_count": 19,
   "metadata": {},
   "outputs": [
    {
     "name": "stdout",
     "output_type": "stream",
     "text": [
      "a\n",
      "c\n",
      "b\n",
      "d\n"
     ]
    }
   ],
   "source": [
    "c = {\"a\":\"1\",\"b\":\"2\",\"c\":\"3\",\"d\":\"4\"}\n",
    "for i in c:\n",
    "    print i"
   ]
  },
  {
   "cell_type": "code",
   "execution_count": 20,
   "metadata": {},
   "outputs": [
    {
     "name": "stdout",
     "output_type": "stream",
     "text": [
      "h\n",
      "y\n",
      "d\n",
      "e\n",
      "r\n",
      "a\n",
      "b\n",
      "a\n",
      "d\n",
      " \n",
      "i\n",
      "s\n",
      " \n",
      "c\n",
      "a\n",
      "p\n",
      "i\n",
      "t\n",
      "a\n",
      "l\n",
      " \n",
      "c\n",
      "i\n",
      "t\n",
      "y\n"
     ]
    }
   ],
   "source": [
    "d = \"hyderabad is capital city\"\n",
    "for i in (d):\n",
    "    print i"
   ]
  },
  {
   "cell_type": "code",
   "execution_count": 30,
   "metadata": {},
   "outputs": [
    {
     "name": "stdout",
     "output_type": "stream",
     "text": [
      "h\n",
      "iteration next value\n",
      "y\n",
      "iteration next value\n",
      "d\n",
      "iteration next value\n",
      "e\n",
      "iteration next value\n",
      "r\n",
      "iteration next value\n",
      "a\n",
      "iteration next value\n",
      "b\n",
      "iteration next value\n",
      "a\n",
      "iteration next value\n",
      "d\n",
      "iteration next value\n",
      " \n",
      "iteration next value\n",
      "i\n",
      "iteration next value\n",
      "s\n",
      "iteration next value\n",
      " \n",
      "iteration next value\n",
      "c\n",
      "iteration next value\n",
      "a\n",
      "iteration next value\n",
      "p\n",
      "iteration next value\n",
      "i\n",
      "iteration next value\n",
      "t\n",
      "iteration next value\n",
      "a\n",
      "iteration next value\n",
      "l\n",
      "iteration next value\n",
      " \n",
      "iteration next value\n",
      "c\n",
      "iteration next value\n",
      "i\n",
      "iteration next value\n",
      "t\n",
      "iteration next value\n",
      "y\n",
      "iteration next value\n",
      "thank you y\n"
     ]
    }
   ],
   "source": [
    "d = \"hyderabad is capital city\"\n",
    "for i in (d):\n",
    "    print i\n",
    "    print\"iteration next value\"\n",
    "print\"thank you\",i"
   ]
  },
  {
   "cell_type": "code",
   "execution_count": 27,
   "metadata": {},
   "outputs": [
    {
     "name": "stdout",
     "output_type": "stream",
     "text": [
      "h\n",
      "thank you:  h\n"
     ]
    }
   ],
   "source": [
    "d = \"hyderabad is capital city\"\n",
    "for i in (d):\n",
    "    print i\n",
    "    break\n",
    "    print\"iteration next value\"\n",
    "print\"thank you: \",i"
   ]
  },
  {
   "cell_type": "code",
   "execution_count": 28,
   "metadata": {},
   "outputs": [
    {
     "name": "stdout",
     "output_type": "stream",
     "text": [
      "h\n",
      "y\n",
      "d\n",
      "e\n",
      "r\n",
      "a\n",
      "b\n",
      "a\n",
      "d\n",
      " \n",
      "i\n",
      "s\n",
      " \n",
      "c\n",
      "a\n",
      "p\n",
      "i\n",
      "t\n",
      "a\n",
      "l\n",
      " \n",
      "c\n",
      "i\n",
      "t\n",
      "y\n",
      "thank you:  y\n"
     ]
    }
   ],
   "source": [
    "d = \"hyderabad is capital city\"\n",
    "for i in (d):\n",
    "    print i\n",
    "    continue\n",
    "    print\"iteration next value\"\n",
    "print\"thank you: \",i"
   ]
  },
  {
   "cell_type": "code",
   "execution_count": 29,
   "metadata": {},
   "outputs": [
    {
     "name": "stdout",
     "output_type": "stream",
     "text": [
      "h\n",
      "y\n",
      "d\n",
      "e\n",
      "r\n",
      "a\n",
      "b\n",
      "a\n",
      "d\n",
      "thank you:   \n"
     ]
    }
   ],
   "source": [
    "d = \"hyderabad is capital city\"\n",
    "for i in (d):\n",
    "    if i==\" \":\n",
    "        break\n",
    "    else:\n",
    "        print i\n",
    "print\"thank you: \",i"
   ]
  },
  {
   "cell_type": "code",
   "execution_count": 31,
   "metadata": {},
   "outputs": [
    {
     "name": "stdout",
     "output_type": "stream",
     "text": [
      "h\n",
      "y\n",
      "d\n",
      "e\n",
      "r\n",
      "a\n",
      "b\n",
      "a\n",
      "d\n",
      "i\n",
      "s\n",
      "c\n",
      "a\n",
      "p\n",
      "i\n",
      "t\n",
      "a\n",
      "l\n",
      "c\n",
      "i\n",
      "t\n",
      "y\n",
      "thank you:  y\n"
     ]
    }
   ],
   "source": [
    "d = \"hyderabad is capital city\"\n",
    "for i in (d):\n",
    "    if i==\" \":\n",
    "        continue\n",
    "    else:\n",
    "        print i\n",
    "print\"thank you: \",i"
   ]
  },
  {
   "cell_type": "code",
   "execution_count": 32,
   "metadata": {},
   "outputs": [
    {
     "name": "stdout",
     "output_type": "stream",
     "text": [
      "h\n",
      "y\n",
      "d\n",
      "e\n",
      "r\n",
      "a\n",
      "b\n",
      "a\n",
      "d\n",
      "<space>\n",
      "i\n",
      "s\n",
      "<space>\n",
      "c\n",
      "a\n",
      "p\n",
      "i\n",
      "t\n",
      "a\n",
      "l\n",
      "<space>\n",
      "c\n",
      "i\n",
      "t\n",
      "y\n",
      "thank you:  y\n"
     ]
    }
   ],
   "source": [
    "d = \"hyderabad is capital city\"\n",
    "for i in (d):\n",
    "    if i==\" \":\n",
    "        print \"<space>\"\n",
    "    else:\n",
    "        print i\n",
    "print\"thank you: \",i"
   ]
  },
  {
   "cell_type": "code",
   "execution_count": 33,
   "metadata": {},
   "outputs": [
    {
     "name": "stdout",
     "output_type": "stream",
     "text": [
      "the programm is started\n",
      "programm is ended 0\n"
     ]
    }
   ],
   "source": [
    "print\"the programm is started\"\n",
    "i = 0\n",
    "while i>5:\n",
    "    print i\n",
    "    break \n",
    "    i = i+1\n",
    "print\"programm is ended\",i\n",
    "#observe i>5 is wrong so it is false"
   ]
  },
  {
   "cell_type": "code",
   "execution_count": 34,
   "metadata": {},
   "outputs": [
    {
     "name": "stdout",
     "output_type": "stream",
     "text": [
      "the programm is started\n",
      "0\n",
      "programm is ended 0\n"
     ]
    }
   ],
   "source": [
    "print\"the programm is started\"\n",
    "i = 0\n",
    "while i<5:\n",
    "    print i\n",
    "    break \n",
    "    i = i+1\n",
    "print\"programm is ended\",i\n",
    "#i<5 condition is correct then print i value\n"
   ]
  },
  {
   "cell_type": "code",
   "execution_count": 36,
   "metadata": {},
   "outputs": [],
   "source": [
    "# in above code if we using continue insted of break  condition\n",
    " #      than out put is infinity zeros produces: so continnue is not using in above condition"
   ]
  },
  {
   "cell_type": "code",
   "execution_count": 37,
   "metadata": {},
   "outputs": [
    {
     "name": "stdout",
     "output_type": "stream",
     "text": [
      "the programm is started\n",
      "programm is ended 0\n"
     ]
    }
   ],
   "source": [
    "print\"the programm is started\"\n",
    "i = 0\n",
    "while i>5:\n",
    "    print i\n",
    "    i= i+1\n",
    "    break \n",
    "\n",
    "print\"programm is ended\",i"
   ]
  },
  {
   "cell_type": "code",
   "execution_count": 38,
   "metadata": {},
   "outputs": [
    {
     "name": "stdout",
     "output_type": "stream",
     "text": [
      "the programm is started\n",
      "programm is ended 0\n"
     ]
    }
   ],
   "source": [
    "print\"the programm is started\"\n",
    "i = 0\n",
    "while i>5:\n",
    "    print i\n",
    "    break \n",
    "print\"programm is ended\",i"
   ]
  },
  {
   "cell_type": "code",
   "execution_count": 1,
   "metadata": {},
   "outputs": [
    {
     "name": "stdout",
     "output_type": "stream",
     "text": [
      "the programme is starting\n",
      "the  i value is :  n\n",
      "thank you\n"
     ]
    }
   ],
   "source": [
    "print \"the programme is starting\"\n",
    "for i in \"python\":\n",
    "    continue\n",
    "print \"the  i value is : \",i\n",
    "print \"thank you\"\n",
    "#there is no print option in for loop so it is jnot print \"python\",it directly print next loop,"
   ]
  },
  {
   "cell_type": "code",
   "execution_count": null,
   "metadata": {},
   "outputs": [],
   "source": []
  }
 ],
 "metadata": {
  "kernelspec": {
   "display_name": "Python 2",
   "language": "python",
   "name": "python2"
  },
  "language_info": {
   "codemirror_mode": {
    "name": "ipython",
    "version": 2
   },
   "file_extension": ".py",
   "mimetype": "text/x-python",
   "name": "python",
   "nbconvert_exporter": "python",
   "pygments_lexer": "ipython2",
   "version": "2.7.15rc1"
  }
 },
 "nbformat": 4,
 "nbformat_minor": 2
}
