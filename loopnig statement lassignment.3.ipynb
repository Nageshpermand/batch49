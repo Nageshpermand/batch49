{
 "cells": [
  {
   "cell_type": "code",
   "execution_count": 1,
   "metadata": {},
   "outputs": [
    {
     "name": "stdout",
     "output_type": "stream",
     "text": [
      "enter a value: 4\n",
      "the number is not prime number\n"
     ]
    }
   ],
   "source": [
    "\"\"\"  25.  take a number from the user and check whether it is prime?\"\"\"\n",
    "#conditions 1.number should be greater than 2.there is no positive divisers for the number other than (1*itselfnumber):\n",
    "number = int(input(\"enter a value: \"))\n",
    "if (number>1)and(number%2==0):\n",
    "    print \"the number is not prime number\"\n",
    "        \n",
    "else:\n",
    "     print \"the number is  prime number\"\n"
   ]
  },
  {
   "cell_type": "code",
   "execution_count": 2,
   "metadata": {},
   "outputs": [
    {
     "name": "stdout",
     "output_type": "stream",
     "text": [
      "enter a value: 7\n",
      "the number is  prime number\n"
     ]
    }
   ],
   "source": [
    "number = int(input(\"enter a value: \"))\n",
    "if (number>1)and(number%2==0):\n",
    "    print \"the number is not prime number\"\n",
    "        \n",
    "else:\n",
    "     print \"the number is  prime number\"\n"
   ]
  },
  {
   "cell_type": "code",
   "execution_count": 19,
   "metadata": {},
   "outputs": [
    {
     "name": "stdout",
     "output_type": "stream",
     "text": [
      "enter a value: 29\n",
      "the number is  prime number\n"
     ]
    }
   ],
   "source": [
    "number = int(input(\"enter a value: \"))\n",
    "if (number>1)and(number%2==0):\n",
    "    print \"the number is not prime number\"\n",
    "        \n",
    "else:\n",
    "     print \"the number is  prime number\"\n"
   ]
  },
  {
   "cell_type": "code",
   "execution_count": 20,
   "metadata": {},
   "outputs": [
    {
     "name": "stdout",
     "output_type": "stream",
     "text": [
      "enter a value: 28\n",
      "the number is not prime number\n"
     ]
    }
   ],
   "source": [
    "number = int(input(\"enter a value: \"))\n",
    "if (number>1)and(number%2==0):\n",
    "    print \"the number is not prime number\"\n",
    "        \n",
    "else:\n",
    "     print \"the number is  prime number\"\n",
    "\n",
    "    "
   ]
  },
  {
   "cell_type": "code",
   "execution_count": 3,
   "metadata": {},
   "outputs": [
    {
     "name": "stdout",
     "output_type": "stream",
     "text": [
      "enter a name:hyderabad\n",
      "y\n",
      "r\n"
     ]
    }
   ],
   "source": [
    "\"\"\" 26. Take string from the user and check contains only digits or not?\"\"\"\n",
    "a=str(raw_input(\"enter a name:\"))\n",
    "print(a[1])\n",
    "print(a[4])\n"
   ]
  },
  {
   "cell_type": "code",
   "execution_count": 25,
   "metadata": {},
   "outputs": [
    {
     "name": "stdout",
     "output_type": "stream",
     "text": [
      "string does not contains digits\n"
     ]
    }
   ],
   "source": [
    "a = \"hyderabad122\"\n",
    "if a.isdigit()==a:\n",
    "    print \"string contains digits\"\n",
    "else:\n",
    "    print\"string does not contains digits\"\n",
    "    "
   ]
  },
  {
   "cell_type": "code",
   "execution_count": 9,
   "metadata": {},
   "outputs": [
    {
     "name": "stdout",
     "output_type": "stream",
     "text": [
      "enter a string name: a\n",
      "string does not contains digits\n"
     ]
    }
   ],
   "source": [
    "a = str(raw_input(\"enter a string name: \"))\n",
    "if ord(a)>=120 and ord(a)<200:\n",
    "    print \"string contains digits\"\n",
    "else:\n",
    "    print\"string does not contains digits\"\n",
    "    "
   ]
  },
  {
   "cell_type": "code",
   "execution_count": 28,
   "metadata": {},
   "outputs": [
    {
     "name": "stdout",
     "output_type": "stream",
     "text": [
      "string contains digits\n"
     ]
    }
   ],
   "source": [
    "a = \"hyderabad\"\n",
    "for i in a:\n",
    "    if ord(i)>=100 :\n",
    "        print \"string contains digits\"\n",
    "        break\n",
    "    else:\n",
    "        print\"string does not contains digits\"\n",
    "    "
   ]
  },
  {
   "cell_type": "code",
   "execution_count": 30,
   "metadata": {},
   "outputs": [],
   "source": [
    "\"\"\" 27. take a string from the user and check contains only  alphabets or not?\"\"\"\n",
    "a = \"hyderabad\"\n",
    "if a.isalpha()==a:\n",
    "    print \"the string is only alphabets\"\n",
    "    "
   ]
  },
  {
   "cell_type": "code",
   "execution_count": 23,
   "metadata": {},
   "outputs": [
    {
     "name": "stdout",
     "output_type": "stream",
     "text": [
      "the string does not have only alphabets\n"
     ]
    }
   ],
   "source": [
    "a = \"hyderabad44\"\n",
    "if a.isalpha()!=a:\n",
    "    print \"the string does not have only alphabets\"\n",
    "else:\n",
    "    print\"the string  have alphabets\""
   ]
  },
  {
   "cell_type": "code",
   "execution_count": 25,
   "metadata": {},
   "outputs": [
    {
     "name": "stdout",
     "output_type": "stream",
     "text": [
      "the string have only  alphabets\n"
     ]
    }
   ],
   "source": [
    "a=\"hyderabad\"\n",
    "if a.isalpha()==a:\n",
    "    print \"the string   have  alphabets\"\n",
    "else:\n",
    "    print\"the string have only  alphabets\""
   ]
  },
  {
   "cell_type": "code",
   "execution_count": 13,
   "metadata": {},
   "outputs": [
    {
     "name": "stdout",
     "output_type": "stream",
     "text": [
      "the string does not have only  alphabets\n"
     ]
    }
   ],
   "source": [
    "a = \"hyderabad44\"\n",
    "if a.isalpha()!=a:\n",
    "    print \"the string does not have only  alphabets\"\n",
    "else:\n",
    "    print\"the string is only have  alphabets\""
   ]
  },
  {
   "cell_type": "code",
   "execution_count": 11,
   "metadata": {},
   "outputs": [
    {
     "name": "stdout",
     "output_type": "stream",
     "text": [
      "the string does not contain only capital letters\n"
     ]
    }
   ],
   "source": [
    "\"\"\" 28 .take a string from the user and check contains only  capital letters or not?\"\"\"\n",
    "b = \"kohli is good player\"\n",
    "if b.upper()==b:\n",
    "    print\"the string contains only capital letters\"\n",
    "else:\n",
    "    print\"the string does not contain only capital letters\""
   ]
  },
  {
   "cell_type": "code",
   "execution_count": 10,
   "metadata": {},
   "outputs": [
    {
     "name": "stdout",
     "output_type": "stream",
     "text": [
      "the string contains only CAPITAL letters\n"
     ]
    }
   ],
   "source": [
    "b = \"KOHLI IS GOOD PLAYER\"\n",
    "if b.upper()==b:\n",
    "    print\"the string contains only CAPITAL letters\"\n",
    "else:\n",
    "    print\"the string contains only small letters\""
   ]
  },
  {
   "cell_type": "code",
   "execution_count": 9,
   "metadata": {},
   "outputs": [
    {
     "name": "stdout",
     "output_type": "stream",
     "text": [
      "the string contains only small letters\n"
     ]
    }
   ],
   "source": [
    "\"\"\" 29. take a string from the user and check contains only  small letters or not?\"\"\"\n",
    "c = \"heloo world\"\n",
    "if c.lower()==c:\n",
    "    print\"the string contains only small letters\"\n",
    "else:\n",
    "    print\"the string contains only capital letters\"\n"
   ]
  },
  {
   "cell_type": "code",
   "execution_count": 8,
   "metadata": {},
   "outputs": [
    {
     "name": "stdout",
     "output_type": "stream",
     "text": [
      "True\n"
     ]
    }
   ],
   "source": [
    "z = \"hyderabad\"\n",
    "print z.lower()==z"
   ]
  },
  {
   "cell_type": "code",
   "execution_count": 3,
   "metadata": {},
   "outputs": [
    {
     "name": "stdout",
     "output_type": "stream",
     "text": [
      "True\n"
     ]
    }
   ],
   "source": [
    "z = \"HYDERABAD\"\n",
    "print z.upper()==z"
   ]
  },
  {
   "cell_type": "code",
   "execution_count": 3,
   "metadata": {},
   "outputs": [
    {
     "ename": "NameError",
     "evalue": "name 'lower' is not defined",
     "output_type": "error",
     "traceback": [
      "\u001b[0;31m---------------------------------------------------------------------------\u001b[0m",
      "\u001b[0;31mNameError\u001b[0m                                 Traceback (most recent call last)",
      "\u001b[0;32m<ipython-input-3-e9cf0b7192fb>\u001b[0m in \u001b[0;36m<module>\u001b[0;34m()\u001b[0m\n\u001b[1;32m      1\u001b[0m \u001b[0;34m\u001b[0m\u001b[0m\n\u001b[1;32m      2\u001b[0m \u001b[0mc\u001b[0m \u001b[0;34m=\u001b[0m \u001b[0;34m\"heloo world\"\u001b[0m\u001b[0;34m\u001b[0m\u001b[0m\n\u001b[0;32m----> 3\u001b[0;31m \u001b[0;32mif\u001b[0m \u001b[0mc\u001b[0m\u001b[0;34m==\u001b[0m\u001b[0mlower\u001b[0m\u001b[0;34m(\u001b[0m\u001b[0;34m)\u001b[0m\u001b[0;34m:\u001b[0m\u001b[0;34m\u001b[0m\u001b[0m\n\u001b[0m\u001b[1;32m      4\u001b[0m     \u001b[0;32mprint\u001b[0m\u001b[0;34m\"the string contains only small letters\"\u001b[0m\u001b[0;34m\u001b[0m\u001b[0m\n\u001b[1;32m      5\u001b[0m \u001b[0;32melse\u001b[0m\u001b[0;34m:\u001b[0m\u001b[0;34m\u001b[0m\u001b[0m\n",
      "\u001b[0;31mNameError\u001b[0m: name 'lower' is not defined"
     ]
    }
   ],
   "source": [
    "\n",
    "c = \"heloo world\"\n",
    "if c==lower():\n",
    "    print\"the string contains only small letters\"\n",
    "else:\n",
    "    print\"the string contains only capital letters\"\n"
   ]
  },
  {
   "cell_type": "code",
   "execution_count": 8,
   "metadata": {},
   "outputs": [
    {
     "name": "stdout",
     "output_type": "stream",
     "text": [
      " the odd numbers 1 to 20 are:\n",
      "enter the low value in odd numbers:1\n",
      "enter the upper value in odd numbers:20\n",
      "1\n",
      "3\n",
      "5\n",
      "7\n",
      "9\n",
      "11\n",
      "13\n",
      "15\n",
      "17\n",
      "19\n"
     ]
    }
   ],
   "source": [
    "\"\"\" 41. Print the first 100 odd numbers\"\"\"\n",
    "print \" the odd numbers 1 to 20 are:\"\n",
    "n = int(raw_input(\"enter the low value in odd numbers:\"))\n",
    "a = int(raw_input(\"enter the upper value in odd numbers:\"))\n",
    "\n",
    "for i in range (n,a+1):\n",
    "    if (i%2!=0):\n",
    "        print (i)\n",
    "        \n",
    "        \n",
    "        \n",
    "    "
   ]
  },
  {
   "cell_type": "code",
   "execution_count": null,
   "metadata": {},
   "outputs": [
    {
     "name": "stdout",
     "output_type": "stream",
     "text": [
      "1\n"
     ]
    }
   ],
   "source": [
    "i = 1\n",
    "while i<=10:\n",
    "    if (i%2!=0):\n",
    "        print i \n",
    "        i=i+1\n",
    "    \n",
    "    "
   ]
  },
  {
   "cell_type": "code",
   "execution_count": null,
   "metadata": {},
   "outputs": [],
   "source": [
    "a=\"welcome\"\n",
    "i = 0\n",
    "while i<4:\n",
    "    print i\n",
    "    i= i+1\n",
    "print\"thank you\""
   ]
  },
  {
   "cell_type": "code",
   "execution_count": null,
   "metadata": {},
   "outputs": [],
   "source": [
    "a=raw_input(\"enter a value: \")\n",
    "a=float(a)\n",
    "i=0\n",
    "while i<a:\n",
    "    print i\n",
    "    i= i+1\n",
    "print\"thank you\""
   ]
  },
  {
   "cell_type": "code",
   "execution_count": null,
   "metadata": {},
   "outputs": [
    {
     "name": "stdout",
     "output_type": "stream",
     "text": [
      "enter a value: 6\n",
      "1\n",
      "2\n",
      "3\n"
     ]
    }
   ],
   "source": [
    "n = raw_input('enter a value: ')\n",
    "n = float(n)\n",
    "i = 1\n",
    "while (i<=n):\n",
    "    if n%i==0:\n",
    "        print i\n",
    "        i=i+1\n",
    "    \n"
   ]
  },
  {
   "cell_type": "code",
   "execution_count": null,
   "metadata": {},
   "outputs": [],
   "source": [
    "n = raw_input('enter a value: ')\n",
    "n = float(n)\n",
    "i = 1\n",
    "while (i<=n):\n",
    "    if n%i==1:\n",
    "        print i\n",
    "        i=i+1\n",
    "    \n"
   ]
  },
  {
   "cell_type": "code",
   "execution_count": 1,
   "metadata": {},
   "outputs": [
    {
     "name": "stdout",
     "output_type": "stream",
     "text": [
      "1\n",
      "2\n",
      "3\n",
      "4\n",
      "5\n",
      "6\n",
      "7\n",
      "8\n",
      "9\n"
     ]
    }
   ],
   "source": [
    "# by using while loop only:\n",
    "i = 1\n",
    "while (i<10):\n",
    "    print (i)\n",
    "    i=i+1"
   ]
  },
  {
   "cell_type": "code",
   "execution_count": 2,
   "metadata": {},
   "outputs": [
    {
     "name": "stdout",
     "output_type": "stream",
     "text": [
      "1\n",
      "3\n",
      "5\n",
      "7\n",
      "9\n"
     ]
    }
   ],
   "source": [
    "i = 1\n",
    "while (i<10):\n",
    "    print (i)\n",
    "    i=i+2"
   ]
  },
  {
   "cell_type": "code",
   "execution_count": 10,
   "metadata": {},
   "outputs": [
    {
     "name": "stdout",
     "output_type": "stream",
     "text": [
      "1\n",
      "3\n",
      "5\n",
      "7\n",
      "9\n",
      "11\n",
      "13\n",
      "15\n",
      "17\n",
      "19\n"
     ]
    }
   ],
   "source": [
    "i = 1\n",
    "while (i<21):\n",
    "    print (i)\n",
    "    i=i+2"
   ]
  },
  {
   "cell_type": "code",
   "execution_count": 12,
   "metadata": {},
   "outputs": [
    {
     "name": "stdout",
     "output_type": "stream",
     "text": [
      "0\n",
      "2\n",
      "4\n",
      "6\n",
      "8\n",
      "10\n",
      "12\n",
      "14\n",
      "16\n",
      "18\n",
      "20\n",
      "22\n",
      "24\n",
      "26\n",
      "28\n",
      "30\n",
      "32\n",
      "34\n",
      "36\n",
      "38\n"
     ]
    }
   ],
   "source": [
    "#for evven numbers \n",
    "i = 0\n",
    "while (i<40):\n",
    "    print (i)\n",
    "    i=i+2"
   ]
  },
  {
   "cell_type": "code",
   "execution_count": 17,
   "metadata": {},
   "outputs": [
    {
     "name": "stdout",
     "output_type": "stream",
     "text": [
      "enter the lower value:0\n",
      "enter the upper value:10\n",
      "1\n",
      "2\n",
      "3\n",
      "4\n",
      "5\n",
      "6\n",
      "7\n",
      "8\n",
      "9\n",
      "10\n"
     ]
    }
   ],
   "source": [
    "# by using for i in range  condition :\n",
    "a = int(raw_input(\"enter the lower value:\"))\n",
    "b = int(raw_input(\"enter the upper value:\"))\n",
    "for i in range(a,b+1):\n",
    "    if (i != 0):\n",
    "        print i"
   ]
  },
  {
   "cell_type": "code",
   "execution_count": 3,
   "metadata": {},
   "outputs": [
    {
     "name": "stdout",
     "output_type": "stream",
     "text": [
      "please select option\n",
      "\t1.select\n",
      "\t2.quit\n",
      "enter a option: 1\n",
      "please select valid number for open menu\n"
     ]
    }
   ],
   "source": [
    "\"\"\" 35.  Show the below menu to the user until and until user select quit and display corresponding os message\n",
    "\n",
    "'''\n",
    "Menu:\n",
    "1. windows\n",
    "2. Linux\n",
    "3. Mac\n",
    "4. quit\"\"\"\n",
    "\n",
    "print\"please select option\\n\\t1.select\\n\\t2.quit\"\n",
    "\n",
    "a = int(raw_input(\"enter a option: \"))\n",
    "\n",
    "if a==1:\n",
    "    print\"please select valid number for open menu\"\n",
    "if a==2:\n",
    "    print'menu:\\n\\t1.windows\\n\\t2.linux\\n\\t3.mac\\n\\t4.linux'\n",
    "\n",
    "\n"
   ]
  },
  {
   "cell_type": "code",
   "execution_count": 4,
   "metadata": {},
   "outputs": [
    {
     "name": "stdout",
     "output_type": "stream",
     "text": [
      "please select option\n",
      "\t1.select\n",
      "\t2.quit\n",
      "enter a option: 2\n",
      "menu:\n",
      "\t1.windows\n",
      "\t2.linux\n",
      "\t3.mac\n",
      "\t4.linux\n"
     ]
    }
   ],
   "source": [
    "print\"please select option\\n\\t1.select\\n\\t2.quit\"\n",
    "\n",
    "a = int(raw_input(\"enter a option: \"))\n",
    "\n",
    "if a==1:\n",
    "    print\"please select valid number for open menu\"\n",
    "if a==2:\n",
    "    print'menu:\\n\\t1.windows\\n\\t2.linux\\n\\t3.mac\\n\\t4.linux'\n"
   ]
  },
  {
   "cell_type": "code",
   "execution_count": 8,
   "metadata": {},
   "outputs": [
    {
     "name": "stdout",
     "output_type": "stream",
     "text": [
      "minimum number 1\n"
     ]
    }
   ],
   "source": [
    "num =[1,2,3,4]\n",
    "print 'minimum number',min(num)"
   ]
  },
  {
   "cell_type": "code",
   "execution_count": 31,
   "metadata": {},
   "outputs": [
    {
     "name": "stdout",
     "output_type": "stream",
     "text": [
      "minimum number is:  1\n",
      "maximum number is:  6\n",
      "sum number is  21\n",
      "avarage number is:  3\n"
     ]
    }
   ],
   "source": [
    "\"\"\" 50.  Take some single digit numbers from the user and findout min, maximum, sum, average\"\"\"\n",
    "# by using list\n",
    "a = [1,2,3,4,5,6]\n",
    "print \"minimum number is: \",min(a)\n",
    "print \"maximum number is: \",max(a)\n",
    "print \"sum number is \",sum(a)\n",
    "print \"avarage number is: \", sum(a)/(len(a))\n"
   ]
  },
  {
   "cell_type": "code",
   "execution_count": null,
   "metadata": {},
   "outputs": [],
   "source": []
  }
 ],
 "metadata": {
  "kernelspec": {
   "display_name": "Python 2",
   "language": "python",
   "name": "python2"
  },
  "language_info": {
   "codemirror_mode": {
    "name": "ipython",
    "version": 2
   },
   "file_extension": ".py",
   "mimetype": "text/x-python",
   "name": "python",
   "nbconvert_exporter": "python",
   "pygments_lexer": "ipython2",
   "version": "2.7.15rc1"
  }
 },
 "nbformat": 4,
 "nbformat_minor": 2
}
