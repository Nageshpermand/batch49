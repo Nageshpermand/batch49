{
 "cells": [
  {
   "cell_type": "code",
   "execution_count": 2,
   "metadata": {},
   "outputs": [
    {
     "name": "stdout",
     "output_type": "stream",
     "text": [
      "1,anil kumar, 96768792375, anil@gmail.com\n",
      "2, JAY, 962998321709, JAY@yahoo.com\n",
      "3, VEDHa, 96299837847, VEDHA@yahoo.com\n",
      "\n",
      " 96768792375\n",
      " 962998321709\n",
      " 96299837847\n"
     ]
    }
   ],
   "source": [
    "data = \"1,anil kumar, 96768792375, anil@gmail.com\\n\\\n",
    "2, JAY, 962998321709, JAY@yahoo.com\\n\\\n",
    "3, VEDHa, 96299837847, VEDHA@yahoo.com\\n\\\n",
    "\"\n",
    "print data\n",
    "for row in data.splitlines():\n",
    "    print row.split(\",\")[2]"
   ]
  },
  {
   "cell_type": "code",
   "execution_count": 12,
   "metadata": {},
   "outputs": [
    {
     "name": "stdout",
     "output_type": "stream",
     "text": [
      "['9676879237', '9629983217', '9629983784']\n"
     ]
    }
   ],
   "source": [
    "import re\n",
    "data=\"96768792375,1,anil kumar, anil@gmail.com\\n\\\n",
    "2, JAY, 962998321709, JAY@yahoo.com\\n\\\n",
    "3, VEDHA, 96299837847, VEDHA@yahoo.com\\n\\\n",
    "\"\n",
    "print re.findall(\"[0-9]{10}\",data)"
   ]
  },
  {
   "cell_type": "code",
   "execution_count": 13,
   "metadata": {},
   "outputs": [
    {
     "name": "stdout",
     "output_type": "stream",
     "text": [
      "['9', '6', '7', '6', '8', '7', '9', '2', '3', '7', '5', ',', '1', ',', ',', '2', ',', ',', '9', '6', '2', '9', '9', '8', '3', '2', '1', '7', '0', '9', ',', '3', ',', ',', '9', '6', '2', '9', '9', '8', '3', '7', '8', '4', '7', ',']\n"
     ]
    }
   ],
   "source": [
    "import re\n",
    "data=\"96768792375,1,anil kumar, anil@gmail.com\\n\\\n",
    "2, JAY, 962998321709, JAY@yahoo.com\\n\\\n",
    "3, VEDHA, 96299837847, VEDHA@yahoo.com\\n\\\n",
    "\"\n",
    "print re.findall(\"[0,1,2,3,4,5,6,7,8,9]\",data)"
   ]
  },
  {
   "cell_type": "code",
   "execution_count": 14,
   "metadata": {},
   "outputs": [
    {
     "name": "stdout",
     "output_type": "stream",
     "text": [
      "['a', 'n', 'i', 'l', 'k', 'u', 'm', 'a', 'r', 'a', 'n', 'i', 'l', 'g', 'm', 'a', 'i', 'l', 'c', 'o', 'm', 'y', 'a', 'h', 'o', 'o', 'c', 'o', 'm', 'y', 'a', 'h', 'o', 'o', 'c', 'o', 'm']\n"
     ]
    }
   ],
   "source": [
    "import re\n",
    "data=\"96768792375,1,anil kumar, anil@gmail.com\\n\\\n",
    "2, JAY, 962998321709, JAY@yahoo.com\\n\\\n",
    "3, VEDHA, 96299837847, VEDHA@yahoo.com\\n\\\n",
    "\"\n",
    "print re.findall(\"[a-z]\",data)"
   ]
  },
  {
   "cell_type": "code",
   "execution_count": 15,
   "metadata": {},
   "outputs": [
    {
     "name": "stdout",
     "output_type": "stream",
     "text": [
      "['a', 'n', 'i', 'l', 'k', 'u', 'm', 'a', 'r', 'a', 'n', 'i', 'l', 'g', 'm', 'a', 'i', 'l', 'c', 'o', 'm', 'J', 'A', 'Y', 'J', 'A', 'Y', 'y', 'a', 'h', 'o', 'o', 'c', 'o', 'm', 'V', 'E', 'D', 'H', 'A', 'V', 'E', 'D', 'H', 'A', 'y', 'a', 'h', 'o', 'o', 'c', 'o', 'm']\n"
     ]
    }
   ],
   "source": [
    "import re\n",
    "data=\"96768792375,1,anil kumar, anil@gmail.com\\n\\\n",
    "2, JAY, 962998321709, JAY@yahoo.com\\n\\\n",
    "3, VEDHA, 96299837847, VEDHA@yahoo.com\\n\\\n",
    "\"\n",
    "print re.findall(\"[a-z]\",data,re.I)"
   ]
  },
  {
   "cell_type": "code",
   "execution_count": 16,
   "metadata": {},
   "outputs": [
    {
     "name": "stdout",
     "output_type": "stream",
     "text": [
      "[]\n"
     ]
    }
   ],
   "source": [
    "import re\n",
    "data=\"96768792375,1,anil kumar, anil@gmail.com\\n\\\n",
    "2, JAY, 962998321709, JAY@yahoo.com\\n\\\n",
    "3, VEDHA, 96299837847, VEDHA@yahoo.com\\n\\\n",
    "\"\n",
    "print re.findall(\"[a-z][0-9]\",data,re.I)"
   ]
  },
  {
   "cell_type": "code",
   "execution_count": 17,
   "metadata": {},
   "outputs": [
    {
     "name": "stdout",
     "output_type": "stream",
     "text": [
      "[',', ',', 'a', 'n', 'i', 'l', ' ', 'k', 'u', 'm', 'a', 'r', ',', ' ', 'a', 'n', 'i', 'l', '@', 'g', 'm', 'a', 'i', 'l', '.', 'c', 'o', 'm', '\\n', ',', ' ', 'J', 'A', 'Y', ',', ' ', ',', ' ', 'J', 'A', 'Y', '@', 'y', 'a', 'h', 'o', 'o', '.', 'c', 'o', 'm', '\\n', ',', ' ', 'V', 'E', 'D', 'H', 'A', ',', ' ', ',', ' ', 'V', 'E', 'D', 'H', 'A', '@', 'y', 'a', 'h', 'o', 'o', '.', 'c', 'o', 'm', '\\n']\n"
     ]
    }
   ],
   "source": [
    "import re\n",
    "data=\"96768792375,1,anil kumar, anil@gmail.com\\n\\\n",
    "2, JAY, 962998321709, JAY@yahoo.com\\n\\\n",
    "3, VEDHA, 96299837847, VEDHA@yahoo.com\\n\\\n",
    "\"\n",
    "print re.findall(\"[^0-9]\",data)"
   ]
  },
  {
   "cell_type": "code",
   "execution_count": 18,
   "metadata": {},
   "outputs": [
    {
     "name": "stdout",
     "output_type": "stream",
     "text": [
      "['9']\n"
     ]
    }
   ],
   "source": [
    "import re\n",
    "data=\"96768792375,1,anil kumar, anil@gmail.com\\n\\\n",
    "2, JAY, 962998321709, JAY@yahoo.com\\n\\\n",
    "3, VEDHA, 96299837847, VEDHA@yahoo.com\\n\\\n",
    "\"\n",
    "print re.findall(\"^[0-9]\",data)            #gives beginning of the string"
   ]
  },
  {
   "cell_type": "code",
   "execution_count": 19,
   "metadata": {},
   "outputs": [
    {
     "name": "stdout",
     "output_type": "stream",
     "text": [
      "[]\n"
     ]
    }
   ],
   "source": [
    "import re\n",
    "data=\"96768792375,1,anil kumar, anil@gmail.com\\n\\\n",
    "2, JAY, 962998321709, JAY@yahoo.com\\n\\\n",
    "3, VEDHA, 96299837847, VEDHA@yahoo.com\\n\\\n",
    "\"\n",
    "print re.findall(\"[0-9]$\",data)              #gives ending of the string"
   ]
  },
  {
   "cell_type": "code",
   "execution_count": 20,
   "metadata": {},
   "outputs": [
    {
     "name": "stdout",
     "output_type": "stream",
     "text": [
      "['m']\n"
     ]
    }
   ],
   "source": [
    "import re\n",
    "data=\"96768792375,1,anil kumar, anil@gmail.com\\n\\\n",
    "2, JAY, 962998321709, JAY@yahoo.com\\n\\\n",
    "3, VEDHA, 96299837847, VEDHA@yahoo.com\\n\\\n",
    "\"\n",
    "print re.findall(\"[a-z]$\",data)              #gives ending of the string"
   ]
  },
  {
   "cell_type": "code",
   "execution_count": 21,
   "metadata": {},
   "outputs": [
    {
     "name": "stdout",
     "output_type": "stream",
     "text": [
      "['m', 'm', 'm']\n"
     ]
    }
   ],
   "source": [
    "import re\n",
    "data=\"96768792375,1,anil kumar, anil@gmail.com\\n\\\n",
    "2, JAY, 962998321709, JAY@yahoo.com\\n\\\n",
    "3, VEDHA, 96299837847, VEDHA@yahoo.com\\n\\\n",
    "\"\n",
    "print re.findall(\"[a-z]$\",data,re.I|re.M)           #gives ending of the string in each and every line      "
   ]
  },
  {
   "cell_type": "code",
   "execution_count": 23,
   "metadata": {},
   "outputs": [
    {
     "name": "stdout",
     "output_type": "stream",
     "text": [
      "['9', '2', '3']\n"
     ]
    }
   ],
   "source": [
    "import re\n",
    "data=\"96768792375,1,anil kumar, anil@gmail.com\\n\\\n",
    "2, JAY, 962998321709, JAY@yahoo.com\\n\\\n",
    "3, VEDHA, 96299837847, VEDHA@yahoo.com\\n\\\n",
    "\"\n",
    "print re.findall(\"^[0-9]\",data,re.I|re.M)        #gives starting of the string in each and every line    "
   ]
  },
  {
   "cell_type": "code",
   "execution_count": 24,
   "metadata": {},
   "outputs": [
    {
     "name": "stdout",
     "output_type": "stream",
     "text": [
      "['967', '687', '923', '962', '998', '321', '709', '962', '998', '378']\n"
     ]
    }
   ],
   "source": [
    "import re\n",
    "data=\"96768792375,1,anil kumar, anil@gmail.com\\n\\\n",
    "2, JAY, 962998321709, JAY@yahoo.com\\n\\\n",
    "3, VEDHA, 96299837847, VEDHA@yahoo.com\\n\\\n",
    "\"\n",
    "print re.findall(\"[0-9][0-9][0-9]\",data,re.I|re.M)       "
   ]
  },
  {
   "cell_type": "code",
   "execution_count": 25,
   "metadata": {},
   "outputs": [
    {
     "name": "stdout",
     "output_type": "stream",
     "text": [
      "['967', '687', '923', '962', '998', '321', '709', '962', '998', '378']\n"
     ]
    }
   ],
   "source": [
    "import re\n",
    "data=\"96768792375,1,anil kumar, anil@gmail.com\\n\\\n",
    "2, JAY, 962998321709, JAY@yahoo.com\\n\\\n",
    "3, VEDHA, 96299837847, VEDHA@yahoo.com\\n\\\n",
    "\"\n",
    "print re.findall(\"[0-9]{3}\",data,re.I|re.M)       "
   ]
  },
  {
   "cell_type": "code",
   "execution_count": 26,
   "metadata": {},
   "outputs": [
    {
     "name": "stdout",
     "output_type": "stream",
     "text": [
      "['9676', '8792', '375', '1', '2', '9629', '9832', '1709', '3', '9629', '9837', '847']\n"
     ]
    }
   ],
   "source": [
    "import re\n",
    "data=\"96768792375,1,anil kumar, anil@gmail.com\\n\\\n",
    "2, JAY, 962998321709, JAY@yahoo.com\\n\\\n",
    "3, VEDHA, 96299837847, VEDHA@yahoo.com\\n\\\n",
    "\"\n",
    "print re.findall(\"[0-9]{1,4}\",data,re.I|re.M)       "
   ]
  },
  {
   "cell_type": "code",
   "execution_count": 27,
   "metadata": {},
   "outputs": [
    {
     "name": "stdout",
     "output_type": "stream",
     "text": [
      "['9676879237', '5', '1', '2', '9629983217', '09', '3', '9629983784', '7']\n"
     ]
    }
   ],
   "source": [
    "import re\n",
    "data=\"96768792375,1,anil kumar, anil@gmail.com\\n\\\n",
    "2, JAY, 962998321709, JAY@yahoo.com\\n\\\n",
    "3, VEDHA, 96299837847, VEDHA@yahoo.com\\n\\\n",
    "\"\n",
    "print re.findall(\"[0-9]{1,10}\",data,re.I|re.M)       "
   ]
  },
  {
   "cell_type": "code",
   "execution_count": 28,
   "metadata": {},
   "outputs": [
    {
     "name": "stdout",
     "output_type": "stream",
     "text": [
      "['9676879237', '5', '', '1', '', '', '', '', '', '', '', '', '', '', '', '', '', '', '', '', '', '', '', '', '', '', '', '', '', '', '', '', '2', '', '', '', '', '', '', '', '9629983217', '09', '', '', '', '', '', '', '', '', '', '', '', '', '', '', '', '', '3', '', '', '', '', '', '', '', '', '', '9629983784', '7', '', '', '', '', '', '', '', '', '', '', '', '', '', '', '', '', '', '', '']\n"
     ]
    }
   ],
   "source": [
    "import re\n",
    "data=\"96768792375,1,anil kumar, anil@gmail.com\\n\\\n",
    "2, JAY, 962998321709, JAY@yahoo.com\\n\\\n",
    "3, VEDHA, 96299837847, VEDHA@yahoo.com\\n\\\n",
    "\"\n",
    "print re.findall(\"[0-9]{0,10}\",data,re.I|re.M)       "
   ]
  },
  {
   "cell_type": "code",
   "execution_count": 29,
   "metadata": {},
   "outputs": [
    {
     "name": "stdout",
     "output_type": "stream",
     "text": [
      "['9676879237', '5', '1', '2', '9629983217', '09', '3', '9629983784', '7']\n",
      "['96768792375', '', '1', '', '', '', '', '', '', '', '', '', '', '', '', '', '', '', '', '', '', '', '', '', '', '', '', '', '', '', '', '2', '', '', '', '', '', '', '', '962998321709', '', '', '', '', '', '', '', '', '', '', '', '', '', '', '', '', '3', '', '', '', '', '', '', '', '', '', '96299837847', '', '', '', '', '', '', '', '', '', '', '', '', '', '', '', '', '', '', '']\n"
     ]
    }
   ],
   "source": [
    "import re\n",
    "data=\"96768792375,1,anil kumar, anil@gmail.com\\n\\\n",
    "2, JAY, 962998321709, JAY@yahoo.com\\n\\\n",
    "3, VEDHA, 96299837847, VEDHA@yahoo.com\\n\\\n",
    "\"\n",
    "print re.findall(\"[0-9]{1,10}\",data,re.I|re.M)  \n",
    "print re.findall(\"[0-9]*\",data,re.I|re.M)   "
   ]
  },
  {
   "cell_type": "code",
   "execution_count": 31,
   "metadata": {},
   "outputs": [
    {
     "name": "stdout",
     "output_type": "stream",
     "text": [
      "['96768792375', '1', '2', '962998321709', '3', '96299837847']\n",
      "['96768792375', '1', '2', '962998321709', '3', '96299837847']\n"
     ]
    }
   ],
   "source": [
    "import re\n",
    "data=\"96768792375,1,anil kumar, anil@gmail.com\\n\\\n",
    "2, JAY, 962998321709, JAY@yahoo.com\\n\\\n",
    "3, VEDHA, 96299837847, VEDHA@yahoo.com\\n\\\n",
    "\"\n",
    "print re.findall(\"[0-9]{1,}\",data,re.I|re.M)  \n",
    "print re.findall(\"[0-9]+\",data,re.I|re.M)   "
   ]
  },
  {
   "cell_type": "code",
   "execution_count": 32,
   "metadata": {},
   "outputs": [
    {
     "name": "stdout",
     "output_type": "stream",
     "text": [
      "['9', '6', '7', '6', '8', '7', '9', '2', '3', '7', '5', '', '1', '', '', '', '', '', '', '', '', '', '', '', '', '', '', '', '', '', '', '', '', '', '', '', '', '', '', '', '', '2', '', '', '', '', '', '', '', '9', '6', '2', '9', '9', '8', '3', '2', '1', '7', '0', '9', '', '', '', '', '', '', '', '', '', '', '', '', '', '', '', '', '3', '', '', '', '', '', '', '', '', '', '9', '6', '2', '9', '9', '8', '3', '7', '8', '4', '7', '', '', '', '', '', '', '', '', '', '', '', '', '', '', '', '', '', '', '']\n",
      "['9', '6', '7', '6', '8', '7', '9', '2', '3', '7', '5', '', '1', '', '', '', '', '', '', '', '', '', '', '', '', '', '', '', '', '', '', '', '', '', '', '', '', '', '', '', '', '2', '', '', '', '', '', '', '', '9', '6', '2', '9', '9', '8', '3', '2', '1', '7', '0', '9', '', '', '', '', '', '', '', '', '', '', '', '', '', '', '', '', '3', '', '', '', '', '', '', '', '', '', '9', '6', '2', '9', '9', '8', '3', '7', '8', '4', '7', '', '', '', '', '', '', '', '', '', '', '', '', '', '', '', '', '', '', '']\n"
     ]
    }
   ],
   "source": [
    "import re\n",
    "data=\"96768792375,1,anil kumar, anil@gmail.com\\n\\\n",
    "2, JAY, 962998321709, JAY@yahoo.com\\n\\\n",
    "3, VEDHA, 96299837847, VEDHA@yahoo.com\\n\\\n",
    "\"\n",
    "print re.findall(\"[0-9]{0,1}\",data,re.I|re.M)  \n",
    "print re.findall(\"[0-9]?\",data,re.I|re.M)   "
   ]
  },
  {
   "cell_type": "code",
   "execution_count": 33,
   "metadata": {},
   "outputs": [
    {
     "name": "stdout",
     "output_type": "stream",
     "text": [
      "['9', '6', '7', '6', '8', '7', '9', '2', '3', '7', '5', ',', '1', ',', 'a', 'n', 'i', 'l', ' ', 'k', 'u', 'm', 'a', 'r', ',', ' ', 'a', 'n', 'i', 'l', '@', 'g', 'm', 'a', 'i', 'l', '.', 'c', 'o', 'm', '2', ',', ' ', 'J', 'A', 'Y', ',', ' ', '9', '6', '2', '9', '9', '8', '3', '2', '1', '7', '0', '9', ',', ' ', 'J', 'A', 'Y', '@', 'y', 'a', 'h', 'o', 'o', '.', 'c', 'o', 'm', '3', ',', ' ', 'V', 'E', 'D', 'H', 'A', ',', ' ', '9', '6', '2', '9', '9', '8', '3', '7', '8', '4', '7', ',', ' ', 'V', 'E', 'D', 'H', 'A', '@', 'y', 'a', 'h', 'o', 'o', '.', 'c', 'o', 'm']\n"
     ]
    }
   ],
   "source": [
    "import re\n",
    "data=\"96768792375,1,anil kumar, anil@gmail.com\\n\\\n",
    "2, JAY, 962998321709, JAY@yahoo.com\\n\\\n",
    "3, VEDHA, 96299837847, VEDHA@yahoo.com\\n\\\n",
    "\"\n",
    "print re.findall(\".\",data,re.I|re.M)  \n"
   ]
  },
  {
   "cell_type": "code",
   "execution_count": 35,
   "metadata": {},
   "outputs": [
    {
     "name": "stdout",
     "output_type": "stream",
     "text": [
      "['9', '6', '7', '6', '8', '7', '9', '2', '3', '7', '5', ',', '1', ',', 'a', 'n', 'i', 'l', ' ', 'k', 'u', 'm', 'a', 'r', ',', ' ', 'a', 'n', 'i', 'l', '@', 'g', 'm', 'a', 'i', 'l', '.', 'c', 'o', 'm', '\\n', '2', ',', ' ', 'J', 'A', 'Y', ',', ' ', '9', '6', '2', '9', '9', '8', '3', '2', '1', '7', '0', '9', ',', ' ', 'J', 'A', 'Y', '@', 'y', 'a', 'h', 'o', 'o', '.', 'c', 'o', 'm', '\\n', '3', ',', ' ', 'V', 'E', 'D', 'H', 'A', ',', ' ', '9', '6', '2', '9', '9', '8', '3', '7', '8', '4', '7', ',', ' ', 'V', 'E', 'D', 'H', 'A', '@', 'y', 'a', 'h', 'o', 'o', '.', 'c', 'o', 'm', '\\n']\n"
     ]
    }
   ],
   "source": [
    "import re\n",
    "data=\"96768792375,1,anil kumar, anil@gmail.com\\n\\\n",
    "2, JAY, 962998321709, JAY@yahoo.com\\n\\\n",
    "3, VEDHA, 96299837847, VEDHA@yahoo.com\\n\\\n",
    "\"\n",
    "print re.findall(\".\",data,re.I|re.M|re.DOTALL)     #for print /n\n"
   ]
  },
  {
   "cell_type": "code",
   "execution_count": 36,
   "metadata": {},
   "outputs": [
    {
     "name": "stdout",
     "output_type": "stream",
     "text": [
      "['.', '.', '.']\n"
     ]
    }
   ],
   "source": [
    "import re\n",
    "data=\"96768792375,1,anil kumar, anil@gmail.com\\n\\\n",
    "2, JAY, 962998321709, JAY@yahoo.com\\n\\\n",
    "3, VEDHA, 96299837847, VEDHA@yahoo.com\\n\\\n",
    "\"\n",
    "print re.findall(\"\\.\",data,re.I|re.M|re.DOTALL)     #for print \".\"\n"
   ]
  },
  {
   "cell_type": "code",
   "execution_count": 38,
   "metadata": {},
   "outputs": [
    {
     "name": "stdout",
     "output_type": "stream",
     "text": [
      "['.', '.', '.']\n"
     ]
    }
   ],
   "source": [
    "import re\n",
    "data=\"96768792375,1,anil kumar, anil@gmail.com\\n\\\n",
    "2, JAY, 962998321709, JAY@yahoo.com\\n\\\n",
    "3, VEDHA, 96299837847, VEDHA@yahoo.com\\n\\\n",
    "\"\n",
    "print re.findall(\"[.]\",data,re.I|re.M|re.DOTALL)     #for print \".\" and \",\"\n"
   ]
  },
  {
   "cell_type": "code",
   "execution_count": 43,
   "metadata": {},
   "outputs": [
    {
     "name": "stdout",
     "output_type": "stream",
     "text": [
      "['9676879237', '9629983217', '9629983784']\n"
     ]
    }
   ],
   "source": [
    "import re\n",
    "data=\"96768792375,1,anil kumar, anil@gmail.com\\n\\\n",
    "2, JAY, 962998321709, JAY@yahoo.com\\n\\\n",
    "3, VEDHA, 96299837847, VEDHA@yahoo.com\\n\\\n",
    "\"\n",
    "print re.findall(\"[0-9]{10}\",data,re.I|re.M)       "
   ]
  },
  {
   "cell_type": "code",
   "execution_count": 47,
   "metadata": {},
   "outputs": [
    {
     "name": "stdout",
     "output_type": "stream",
     "text": [
      "[]\n"
     ]
    }
   ],
   "source": [
    "import re\n",
    "data=\"96768792375,1,anil kumar, anil@gmail.com\\n\\\n",
    "2, JAY, 962998321709, JAY@yahoo.com\\n\\\n",
    "3, VEDHA, 96299837847, VEDHA@yahoo.com\\n\\\n",
    "040-666666,4,pavan,pavan@gmail.com\\n\\\n",
    "\"\n",
    "print re.findall(\"[0-9]{10-15}\",data,re.I|re.M|re.DOTALL)       "
   ]
  },
  {
   "cell_type": "code",
   "execution_count": 4,
   "metadata": {},
   "outputs": [
    {
     "name": "stdout",
     "output_type": "stream",
     "text": [
      "['anil@gmail.com', 'JAY@yahoo.com', 'Vedha1@gmail.com', 'pavan123@reddif.co.in', 'pavan123@reddif.co.in']\n"
     ]
    }
   ],
   "source": [
    "#Uusername (a-z0-9)+\n",
    "#@ (@)\n",
    "#domain [a-z]\n",
    "#. (\\.)\n",
    "#com.co.in, .org, .gov.in [a-z.]+\n",
    "import re\n",
    "data= \"9676879237,1,anil kumar, anil@gmail.com\\n\\\n",
    "JAY, 9629983217, JAY@yahoo.com,2\\n\\\n",
    "3,VEDHA,9629983784,Vedha1@gmail.com,Vedha,\\n\\\n",
    "9676781396,4,pavan,pavan123@reddif.co.in\\n\\\n",
    "040-6666-6666,4,pavan,pavan123@reddif.co.in\\n\\\n",
    "\"\n",
    "print re.findall(\"\\w+@[a-z]+\\.[a-z.]+\",data,re.I|re.M|re.DOTALL)\n"
   ]
  },
  {
   "cell_type": "code",
   "execution_count": 5,
   "metadata": {},
   "outputs": [
    {
     "name": "stdout",
     "output_type": "stream",
     "text": [
      "enter a name: ramesh\n",
      "enter age: 10\n",
      "the person not eligible for voting\n"
     ]
    }
   ],
   "source": [
    "a=raw_input(\"enter a name: \")\n",
    "b=input(\"enter age: \")\n",
    "if b>18:\n",
    "    print \"the person eligible for voting\"\n",
    "else:\n",
    "    print \"the person not eligible for voting\""
   ]
  },
  {
   "cell_type": "code",
   "execution_count": null,
   "metadata": {},
   "outputs": [],
   "source": []
  }
 ],
 "metadata": {
  "kernelspec": {
   "display_name": "Python 2",
   "language": "python",
   "name": "python2"
  },
  "language_info": {
   "codemirror_mode": {
    "name": "ipython",
    "version": 2
   },
   "file_extension": ".py",
   "mimetype": "text/x-python",
   "name": "python",
   "nbconvert_exporter": "python",
   "pygments_lexer": "ipython2",
   "version": "2.7.15rc1"
  }
 },
 "nbformat": 4,
 "nbformat_minor": 2
}
