{
 "cells": [
  {
   "cell_type": "code",
   "execution_count": 9,
   "metadata": {},
   "outputs": [
    {
     "name": "stdout",
     "output_type": "stream",
     "text": [
      "{'k2': 'v2', 'k1': 'v1'}\n"
     ]
    }
   ],
   "source": [
    "d1={\"k1\":\"v1\",\"k2\":\"v2\"}\n",
    "print d1"
   ]
  },
  {
   "cell_type": "code",
   "execution_count": 8,
   "metadata": {},
   "outputs": [
    {
     "name": "stdout",
     "output_type": "stream",
     "text": [
      "{'k2': 'v2', 'k1': 'v1'}\n"
     ]
    }
   ],
   "source": [
    "d1=dict([(\"k1\",\"v1\"),(\"k2\",\"v2\")])\n",
    "print d1"
   ]
  },
  {
   "cell_type": "code",
   "execution_count": 7,
   "metadata": {},
   "outputs": [
    {
     "name": "stdout",
     "output_type": "stream",
     "text": [
      "{'k2': 'v2', 'k1': 'v1'}\n"
     ]
    }
   ],
   "source": [
    "d1 = {\"k1\":\"v1\",\"k2\":\"v2\"}\n",
    "print d1"
   ]
  },
  {
   "cell_type": "code",
   "execution_count": 10,
   "metadata": {},
   "outputs": [
    {
     "name": "stdout",
     "output_type": "stream",
     "text": [
      "{'k2': 'v2', 'k1': 'v1'}\n"
     ]
    }
   ],
   "source": [
    "d1=dict([(\"k1\",\"v1\"),(\"k2\",\"v2\")])\n",
    "print d1"
   ]
  },
  {
   "cell_type": "code",
   "execution_count": 11,
   "metadata": {},
   "outputs": [
    {
     "ename": "KeyError",
     "evalue": "0",
     "output_type": "error",
     "traceback": [
      "\u001b[0;31m---------------------------------------------------------------------------\u001b[0m",
      "\u001b[0;31mKeyError\u001b[0m                                  Traceback (most recent call last)",
      "\u001b[0;32m<ipython-input-11-ba6db2043208>\u001b[0m in \u001b[0;36m<module>\u001b[0;34m()\u001b[0m\n\u001b[1;32m      1\u001b[0m \u001b[0md1\u001b[0m\u001b[0;34m=\u001b[0m\u001b[0mdict\u001b[0m\u001b[0;34m(\u001b[0m\u001b[0;34m[\u001b[0m\u001b[0;34m(\u001b[0m\u001b[0;34m\"k1\"\u001b[0m\u001b[0;34m,\u001b[0m\u001b[0;34m\"v1\"\u001b[0m\u001b[0;34m)\u001b[0m\u001b[0;34m,\u001b[0m\u001b[0;34m(\u001b[0m\u001b[0;34m\"k2\"\u001b[0m\u001b[0;34m,\u001b[0m\u001b[0;34m\"v2\"\u001b[0m\u001b[0;34m)\u001b[0m\u001b[0;34m]\u001b[0m\u001b[0;34m)\u001b[0m\u001b[0;34m\u001b[0m\u001b[0m\n\u001b[0;32m----> 2\u001b[0;31m \u001b[0;32mprint\u001b[0m \u001b[0md1\u001b[0m\u001b[0;34m[\u001b[0m\u001b[0;36m0\u001b[0m\u001b[0;34m]\u001b[0m\u001b[0;34m\u001b[0m\u001b[0m\n\u001b[0m",
      "\u001b[0;31mKeyError\u001b[0m: 0"
     ]
    }
   ],
   "source": [
    "d1=dict([(\"k1\",\"v1\"),(\"k2\",\"v2\")])\n",
    "print d1[0]"
   ]
  },
  {
   "cell_type": "code",
   "execution_count": 14,
   "metadata": {},
   "outputs": [
    {
     "name": "stdout",
     "output_type": "stream",
     "text": [
      "v1\n"
     ]
    }
   ],
   "source": [
    "d1=dict([(\"k1\",\"v1\"),(\"k2\",\"v2\")])\n",
    "print d1[\"k1\"]"
   ]
  },
  {
   "cell_type": "code",
   "execution_count": 15,
   "metadata": {},
   "outputs": [
    {
     "name": "stdout",
     "output_type": "stream",
     "text": [
      "v2\n"
     ]
    }
   ],
   "source": [
    "d1=dict([(\"k1\",\"v1\"),(\"k2\",\"v2\")])\n",
    "print d1[\"k2\"]"
   ]
  },
  {
   "cell_type": "code",
   "execution_count": 16,
   "metadata": {},
   "outputs": [
    {
     "ename": "KeyError",
     "evalue": "'k3'",
     "output_type": "error",
     "traceback": [
      "\u001b[0;31m---------------------------------------------------------------------------\u001b[0m",
      "\u001b[0;31mKeyError\u001b[0m                                  Traceback (most recent call last)",
      "\u001b[0;32m<ipython-input-16-4bf5ea81f559>\u001b[0m in \u001b[0;36m<module>\u001b[0;34m()\u001b[0m\n\u001b[1;32m      1\u001b[0m \u001b[0md1\u001b[0m\u001b[0;34m=\u001b[0m\u001b[0mdict\u001b[0m\u001b[0;34m(\u001b[0m\u001b[0;34m[\u001b[0m\u001b[0;34m(\u001b[0m\u001b[0;34m\"k1\"\u001b[0m\u001b[0;34m,\u001b[0m\u001b[0;34m\"v1\"\u001b[0m\u001b[0;34m)\u001b[0m\u001b[0;34m,\u001b[0m\u001b[0;34m(\u001b[0m\u001b[0;34m\"k2\"\u001b[0m\u001b[0;34m,\u001b[0m\u001b[0;34m\"v2\"\u001b[0m\u001b[0;34m)\u001b[0m\u001b[0;34m]\u001b[0m\u001b[0;34m)\u001b[0m\u001b[0;34m\u001b[0m\u001b[0m\n\u001b[0;32m----> 2\u001b[0;31m \u001b[0;32mprint\u001b[0m \u001b[0md1\u001b[0m\u001b[0;34m[\u001b[0m\u001b[0;34m\"k3\"\u001b[0m\u001b[0;34m]\u001b[0m\u001b[0;34m\u001b[0m\u001b[0m\n\u001b[0m",
      "\u001b[0;31mKeyError\u001b[0m: 'k3'"
     ]
    }
   ],
   "source": [
    "d1=dict([(\"k1\",\"v1\"),(\"k2\",\"v2\")])\n",
    "print d1[\"k3\"]"
   ]
  },
  {
   "cell_type": "code",
   "execution_count": 5,
   "metadata": {},
   "outputs": [
    {
     "name": "stdout",
     "output_type": "stream",
     "text": [
      "{'k3': 'v3', 'k2': 'v2', 'k1': 'v1'}\n",
      "{'k3': 'v3', 'k2': 'v2', 'k1': 'v1'}\n"
     ]
    }
   ],
   "source": [
    "d1={\"k1\":\"v1\",\"k2\":\"v2\",\"k3\":\"v3\"}\n",
    "d2=dict([(\"k1\",\"v1\"),(\"k2\",\"v2\"),(\"k3\",\"v3\")])\n",
    "print d1\n",
    "print d2"
   ]
  },
  {
   "cell_type": "code",
   "execution_count": 3,
   "metadata": {},
   "outputs": [
    {
     "name": "stdout",
     "output_type": "stream",
     "text": [
      "{'k3': 'v3', 'k2': 'v2', 'k1': 'v1'}\n",
      "{'k3': 'v3', 'k2': 'v2', 'k1': 'v1'}\n"
     ]
    }
   ],
   "source": [
    "d1 = {\"k1\":\"v1\",\"k2\":\"v2\",\"k3\":\"v3\"}\n",
    "d2 =dict([(\"k1\",\"v1\"),(\"k2\",\"v2\"),(\"k3\",\"v3\")])\n",
    "print d1\n",
    "print d2"
   ]
  },
  {
   "cell_type": "code",
   "execution_count": 3,
   "metadata": {},
   "outputs": [
    {
     "name": "stdout",
     "output_type": "stream",
     "text": [
      "{'cell': '744757', 'age': 23, 'name': 'anil'}\n"
     ]
    }
   ],
   "source": [
    "person = {\"name\":\"anil\",\"age\":23,}\n",
    "person[\"cell\"]=\"744757\"\n",
    "print person"
   ]
  },
  {
   "cell_type": "code",
   "execution_count": 5,
   "metadata": {},
   "outputs": [
    {
     "name": "stdout",
     "output_type": "stream",
     "text": [
      "{'cell': 744757, 'age': 23, 'name': 'anil', 'pan': 93497}\n"
     ]
    }
   ],
   "source": [
    "person = {\"name\":\"anil\",\"age\":23,}\n",
    "person.update({\"cell\":744757,\"pan\":93497})\n",
    "print person                                        #dictionories are immutable"
   ]
  },
  {
   "cell_type": "code",
   "execution_count": 6,
   "metadata": {},
   "outputs": [
    {
     "name": "stdout",
     "output_type": "stream",
     "text": [
      "{'age': 20, 'name': 'ramesh'}\n"
     ]
    }
   ],
   "source": [
    "person = {\"name\":\"ramesh\",\"age\":20}\n",
    "print person                              #hear age shows first in dictionory"
   ]
  },
  {
   "cell_type": "code",
   "execution_count": 7,
   "metadata": {},
   "outputs": [
    {
     "name": "stdout",
     "output_type": "stream",
     "text": [
      "{'age': 23, 'name': '744757'}\n"
     ]
    }
   ],
   "source": [
    "person = {\"name\":\"anil\",\"age\":23,}\n",
    "person[\"name\"]=\"744757\"\n",
    "print person                             # again updaiting over writes with new given"
   ]
  },
  {
   "cell_type": "code",
   "execution_count": 8,
   "metadata": {},
   "outputs": [
    {
     "name": "stdout",
     "output_type": "stream",
     "text": [
      "{'age': 23, 'name': 744757, 'pan': 93497}\n"
     ]
    }
   ],
   "source": [
    "person = {\"name\":\"anil\",\"age\":23,}\n",
    "person.update({\"name\":744757,\"pan\":93497})\n",
    "print person                                    # again updaiting over writes with new given"
   ]
  },
  {
   "cell_type": "code",
   "execution_count": 11,
   "metadata": {},
   "outputs": [
    {
     "name": "stdout",
     "output_type": "stream",
     "text": [
      "{'age': 23, 'name': 'anil'}\n"
     ]
    }
   ],
   "source": [
    "person = {\"name\":\"anil\",\"age\":23,}\n",
    "person.setdefault(\"name\",74475)\n",
    "print person                                    # there is no  updaiting and no over writes with new given"
   ]
  },
  {
   "cell_type": "code",
   "execution_count": 12,
   "metadata": {},
   "outputs": [
    {
     "name": "stdout",
     "output_type": "stream",
     "text": [
      "{'cell': 74475, 'age': 23, 'name': 'anil'}\n"
     ]
    }
   ],
   "source": [
    "person = {\"name\":\"anil\",\"age\":23,}\n",
    "person.setdefault(\"cell\",74475)\n",
    "print person                            "
   ]
  },
  {
   "cell_type": "code",
   "execution_count": 17,
   "metadata": {},
   "outputs": [
    {
     "name": "stdout",
     "output_type": "stream",
     "text": [
      "age\n",
      "name\n"
     ]
    }
   ],
   "source": [
    "person = {\"name\":\"anil\",\"age\":23,}\n",
    "for i in person:\n",
    "    print i"
   ]
  },
  {
   "cell_type": "code",
   "execution_count": 13,
   "metadata": {},
   "outputs": [
    {
     "ename": "TypeError",
     "evalue": "pop expected at least 1 arguments, got 0",
     "output_type": "error",
     "traceback": [
      "\u001b[0;31m---------------------------------------------------------------------------\u001b[0m",
      "\u001b[0;31mTypeError\u001b[0m                                 Traceback (most recent call last)",
      "\u001b[0;32m<ipython-input-13-28e400a514f9>\u001b[0m in \u001b[0;36m<module>\u001b[0;34m()\u001b[0m\n\u001b[1;32m      1\u001b[0m \u001b[0mperson\u001b[0m \u001b[0;34m=\u001b[0m \u001b[0;34m{\u001b[0m\u001b[0;34m\"name\"\u001b[0m\u001b[0;34m:\u001b[0m\u001b[0;34m\"anil\"\u001b[0m\u001b[0;34m,\u001b[0m\u001b[0;34m\"age\"\u001b[0m\u001b[0;34m:\u001b[0m\u001b[0;36m23\u001b[0m\u001b[0;34m,\u001b[0m\u001b[0;34m}\u001b[0m\u001b[0;34m\u001b[0m\u001b[0m\n\u001b[0;32m----> 2\u001b[0;31m \u001b[0mp1\u001b[0m \u001b[0;34m=\u001b[0m \u001b[0mperson\u001b[0m\u001b[0;34m.\u001b[0m\u001b[0mpop\u001b[0m\u001b[0;34m(\u001b[0m\u001b[0;34m)\u001b[0m\u001b[0;34m\u001b[0m\u001b[0m\n\u001b[0m\u001b[1;32m      3\u001b[0m \u001b[0;32mprint\u001b[0m \u001b[0mp1\u001b[0m\u001b[0;34m\u001b[0m\u001b[0m\n",
      "\u001b[0;31mTypeError\u001b[0m: pop expected at least 1 arguments, got 0"
     ]
    }
   ],
   "source": [
    "person = {\"name\":\"anil\",\"age\":23,}     #pop removes an expected argument and return element at given index\n",
    "p1 = person.pop()\n",
    "print p1"
   ]
  },
  {
   "cell_type": "code",
   "execution_count": 14,
   "metadata": {},
   "outputs": [
    {
     "name": "stdout",
     "output_type": "stream",
     "text": [
      "{'age': 23, 'name': 'anil'}\n"
     ]
    }
   ],
   "source": [
    "person = {\"name\":\"anil\",\"age\":23,}\n",
    "print person"
   ]
  },
  {
   "cell_type": "code",
   "execution_count": 15,
   "metadata": {},
   "outputs": [
    {
     "name": "stdout",
     "output_type": "stream",
     "text": [
      "age\n",
      "name\n"
     ]
    }
   ],
   "source": [
    "person = {\"name\":\"anil\",\"age\":23,}\n",
    "for i in person:\n",
    "    print i"
   ]
  },
  {
   "cell_type": "code",
   "execution_count": 16,
   "metadata": {},
   "outputs": [
    {
     "name": "stdout",
     "output_type": "stream",
     "text": [
      "23\n",
      "{'name': 'anil'}\n"
     ]
    }
   ],
   "source": [
    "person = {\"name\":\"anil\",\"age\":23,}\n",
    "p1 = person.pop(\"age\")\n",
    "print p1\n",
    "print person"
   ]
  },
  {
   "cell_type": "code",
   "execution_count": 17,
   "metadata": {},
   "outputs": [
    {
     "ename": "KeyError",
     "evalue": "'cell'",
     "output_type": "error",
     "traceback": [
      "\u001b[0;31m---------------------------------------------------------------------------\u001b[0m",
      "\u001b[0;31mKeyError\u001b[0m                                  Traceback (most recent call last)",
      "\u001b[0;32m<ipython-input-17-6a59e9c5988e>\u001b[0m in \u001b[0;36m<module>\u001b[0;34m()\u001b[0m\n\u001b[1;32m      1\u001b[0m \u001b[0mperson\u001b[0m \u001b[0;34m=\u001b[0m \u001b[0;34m{\u001b[0m\u001b[0;34m\"name\"\u001b[0m\u001b[0;34m:\u001b[0m\u001b[0;34m\"anil\"\u001b[0m\u001b[0;34m,\u001b[0m\u001b[0;34m\"age\"\u001b[0m\u001b[0;34m:\u001b[0m\u001b[0;36m23\u001b[0m\u001b[0;34m,\u001b[0m\u001b[0;34m}\u001b[0m\u001b[0;34m\u001b[0m\u001b[0m\n\u001b[0;32m----> 2\u001b[0;31m \u001b[0mp1\u001b[0m \u001b[0;34m=\u001b[0m \u001b[0mperson\u001b[0m\u001b[0;34m.\u001b[0m\u001b[0mpop\u001b[0m\u001b[0;34m(\u001b[0m\u001b[0;34m\"cell\"\u001b[0m\u001b[0;34m)\u001b[0m\u001b[0;34m\u001b[0m\u001b[0m\n\u001b[0m\u001b[1;32m      3\u001b[0m \u001b[0;32mprint\u001b[0m \u001b[0mp1\u001b[0m\u001b[0;34m\u001b[0m\u001b[0m\n\u001b[1;32m      4\u001b[0m \u001b[0;32mprint\u001b[0m \u001b[0mperson\u001b[0m\u001b[0;34m\u001b[0m\u001b[0m\n",
      "\u001b[0;31mKeyError\u001b[0m: 'cell'"
     ]
    }
   ],
   "source": [
    "person = {\"name\":\"anil\",\"age\":23,}\n",
    "p1 = person.pop(\"cell\")\n",
    "print p1\n",
    "print person"
   ]
  },
  {
   "cell_type": "code",
   "execution_count": 18,
   "metadata": {},
   "outputs": [
    {
     "name": "stdout",
     "output_type": "stream",
     "text": [
      "['age', 'name', 'height']\n"
     ]
    }
   ],
   "source": [
    "person = {\"name\":\"anil\",\"age\":23,\"height\":4.10}\n",
    "print person.keys()"
   ]
  },
  {
   "cell_type": "code",
   "execution_count": 19,
   "metadata": {},
   "outputs": [
    {
     "name": "stdout",
     "output_type": "stream",
     "text": [
      "[23, 'anil', 6]\n"
     ]
    }
   ],
   "source": [
    "person = {\"name\":\"anil\",\"age\":23,\"height\":6}\n",
    "print person.values()"
   ]
  },
  {
   "cell_type": "code",
   "execution_count": 20,
   "metadata": {},
   "outputs": [
    {
     "name": "stdout",
     "output_type": "stream",
     "text": [
      "[('age', 23), ('name', 'anil'), ('height', 6)]\n"
     ]
    }
   ],
   "source": [
    "person = {\"name\":\"anil\",\"age\":23,\"height\":6}\n",
    "print person.items()"
   ]
  },
  {
   "cell_type": "code",
   "execution_count": 22,
   "metadata": {},
   "outputs": [
    {
     "name": "stdout",
     "output_type": "stream",
     "text": [
      "('age', 23)\n",
      "{'name': 'anil', 'height': 6}\n"
     ]
    }
   ],
   "source": [
    "person = {\"name\":\"anil\",\"age\":23,\"height\":6}\n",
    "p1 = person.popitem()\n",
    "print p1\n",
    "print person"
   ]
  },
  {
   "cell_type": "code",
   "execution_count": 22,
   "metadata": {},
   "outputs": [
    {
     "name": "stdout",
     "output_type": "stream",
     "text": [
      "True\n",
      "True\n"
     ]
    }
   ],
   "source": [
    "person = {\"name\":\"anil\",\"age\":23,}  #perticuler key in dict or not\n",
    "print \"name\" in person\n",
    "print \"age\" in  person "
   ]
  },
  {
   "cell_type": "code",
   "execution_count": 26,
   "metadata": {},
   "outputs": [
    {
     "name": "stdout",
     "output_type": "stream",
     "text": [
      "True\n",
      "True\n"
     ]
    },
    {
     "ename": "TypeError",
     "evalue": "has_key() takes exactly one argument (0 given)",
     "output_type": "error",
     "traceback": [
      "\u001b[0;31m---------------------------------------------------------------------------\u001b[0m",
      "\u001b[0;31mTypeError\u001b[0m                                 Traceback (most recent call last)",
      "\u001b[0;32m<ipython-input-26-19c52a763b78>\u001b[0m in \u001b[0;36m<module>\u001b[0;34m()\u001b[0m\n\u001b[1;32m      2\u001b[0m \u001b[0;32mprint\u001b[0m \u001b[0;34m\"name\"\u001b[0m \u001b[0;32min\u001b[0m \u001b[0mperson\u001b[0m\u001b[0;34m\u001b[0m\u001b[0m\n\u001b[1;32m      3\u001b[0m \u001b[0;32mprint\u001b[0m \u001b[0;34m\"age\"\u001b[0m \u001b[0;32min\u001b[0m  \u001b[0mperson\u001b[0m\u001b[0;34m.\u001b[0m\u001b[0mkeys\u001b[0m\u001b[0;34m(\u001b[0m\u001b[0;34m)\u001b[0m\u001b[0;34m\u001b[0m\u001b[0m\n\u001b[0;32m----> 4\u001b[0;31m \u001b[0;32mprint\u001b[0m \u001b[0mperson\u001b[0m\u001b[0;34m.\u001b[0m\u001b[0mhas_key\u001b[0m\u001b[0;34m(\u001b[0m\u001b[0;34m)\u001b[0m\u001b[0;34m\u001b[0m\u001b[0m\n\u001b[0m",
      "\u001b[0;31mTypeError\u001b[0m: has_key() takes exactly one argument (0 given)"
     ]
    }
   ],
   "source": [
    "person = {\"name\":\"anil\",\"age\":23,}  #perticuler key in dict or not\n",
    "print \"name\" in person\n",
    "print \"age\" in  person.keys()\n",
    "print person.has_key()"
   ]
  },
  {
   "cell_type": "code",
   "execution_count": 25,
   "metadata": {},
   "outputs": [
    {
     "name": "stdout",
     "output_type": "stream",
     "text": [
      "True\n",
      "True\n",
      "True\n"
     ]
    }
   ],
   "source": [
    "person = {\"name\":\"anil\",\"age\":23,}  #perticuler key in dict or not\n",
    "print \"name\" in person\n",
    "print \"age\" in  person.keys()\n",
    "print person.has_key(\"age\")"
   ]
  },
  {
   "cell_type": "code",
   "execution_count": 29,
   "metadata": {},
   "outputs": [
    {
     "name": "stdout",
     "output_type": "stream",
     "text": [
      "False\n",
      "False\n",
      "False\n"
     ]
    }
   ],
   "source": [
    "person = {\"name\":\"anil\",\"age\":23,}  #perticuler key in dict or not\n",
    "print \"height\" in person\n",
    "print \"height\" in  person.keys()\n",
    "print person.has_key(\"height\")"
   ]
  },
  {
   "cell_type": "code",
   "execution_count": 23,
   "metadata": {},
   "outputs": [
    {
     "name": "stdout",
     "output_type": "stream",
     "text": [
      "True\n"
     ]
    }
   ],
   "source": [
    "person = {\"name\":\"anil\",\"age\":23,}  #perticuler key in dict or not\n",
    "print \"name\" in person.keys()"
   ]
  },
  {
   "cell_type": "code",
   "execution_count": 28,
   "metadata": {},
   "outputs": [
    {
     "name": "stdout",
     "output_type": "stream",
     "text": [
      "True\n"
     ]
    }
   ],
   "source": [
    "person = {\"name\":\"anil\",\"age\":23,}  #perticuler key in dict or not\n",
    "print  person.has_key(\"name\")"
   ]
  },
  {
   "cell_type": "code",
   "execution_count": 30,
   "metadata": {},
   "outputs": [
    {
     "name": "stdout",
     "output_type": "stream",
     "text": [
      "False\n"
     ]
    }
   ],
   "source": [
    "person = {\"name\":\"anil\",\"age\":23,}  #perticuler key in dict or not\n",
    "print 23 in person"
   ]
  },
  {
   "cell_type": "code",
   "execution_count": 25,
   "metadata": {},
   "outputs": [
    {
     "name": "stdout",
     "output_type": "stream",
     "text": [
      "True\n"
     ]
    }
   ],
   "source": [
    "person = {\"name\":\"anil\",\"age\":23,}  #perticuler key in dict or not\n",
    "print 23 in person.values()"
   ]
  },
  {
   "cell_type": "code",
   "execution_count": 31,
   "metadata": {},
   "outputs": [
    {
     "name": "stdout",
     "output_type": "stream",
     "text": [
      "str1\n",
      "res= 10\n"
     ]
    }
   ],
   "source": [
    "#first it prints str1 and print return value 10 then after  it it comes out from loop beacause return value execute once \n",
    "#then it wont xecute next print value \n",
    "def fun():\n",
    "    print \"str1\"\n",
    "    return 10\n",
    "    print \"str2\"\n",
    "    return 20\n",
    "    print \"str3\"                                \n",
    "    return 30\n",
    "res=fun()\n",
    "print \"res=\",res                  "
   ]
  },
  {
   "cell_type": "code",
   "execution_count": 32,
   "metadata": {},
   "outputs": [
    {
     "name": "stdout",
     "output_type": "stream",
     "text": [
      "str1\n",
      "str2\n",
      "str3\n",
      "res= 10\n"
     ]
    }
   ],
   "source": [
    "\n",
    "def fun():\n",
    "    print \"str1\"\n",
    "    print \"str2\"\n",
    "    print \"str3\"                                \n",
    "    return 10\n",
    "    return 20\n",
    "    return 30\n",
    "res=fun()\n",
    "print \"res=\",res                  "
   ]
  },
  {
   "cell_type": "code",
   "execution_count": 33,
   "metadata": {},
   "outputs": [
    {
     "name": "stdout",
     "output_type": "stream",
     "text": [
      "str1\n",
      "str2\n",
      "str3\n",
      "res= (10, 20, 30)\n"
     ]
    }
   ],
   "source": [
    "\n",
    "def fun():\n",
    "    print \"str1\"\n",
    "    print \"str2\"\n",
    "    print \"str3\"                                \n",
    "    return 10,20,30\n",
    "res=fun()\n",
    "print \"res=\",res                  "
   ]
  },
  {
   "cell_type": "code",
   "execution_count": 34,
   "metadata": {},
   "outputs": [
    {
     "name": "stdout",
     "output_type": "stream",
     "text": [
      "res= <generator object fun at 0x7f12140ad640>\n"
     ]
    }
   ],
   "source": [
    "#yield \n",
    "def fun():\n",
    "    print \"str1\"\n",
    "    yield 10\n",
    "    print \"str2\"\n",
    "    yield 20\n",
    "    print \"str3\"\n",
    "    yield 30\n",
    "    \n",
    "res=fun()\n",
    "print \"res=\",res                  "
   ]
  },
  {
   "cell_type": "code",
   "execution_count": 35,
   "metadata": {},
   "outputs": [],
   "source": [
    "# the yield operation is first goes first step in the loop and it generates the <generator obje...> and stops the execution\n",
    "#the yield statement is used to define generotor block  replacing the return of a function to provide to call peerticuler \n",
    "# functions without destroying the remaining variables unlike a function \n",
    "#it iterete over a sequence"
   ]
  },
  {
   "cell_type": "code",
   "execution_count": 36,
   "metadata": {},
   "outputs": [
    {
     "name": "stdout",
     "output_type": "stream",
     "text": [
      "res= <generator object fun at 0x7f12140ad500>\n",
      "str1\n",
      "r1=  10\n"
     ]
    }
   ],
   "source": [
    "#yield \n",
    "def fun():\n",
    "    print \"str1\"\n",
    "    yield 10\n",
    "    print \"str2\"\n",
    "    yield 20\n",
    "    print \"str3\"\n",
    "    yield 30\n",
    "    \n",
    "res=fun()\n",
    "print \"res=\",res \n",
    "r1=res.next()\n",
    "print \"r1= \",r1                  #it takes first step is generation block and next r1 is executes"
   ]
  },
  {
   "cell_type": "code",
   "execution_count": 37,
   "metadata": {},
   "outputs": [
    {
     "name": "stdout",
     "output_type": "stream",
     "text": [
      "res= <generator object fun at 0x7f12140ad730>\n",
      "str1\n",
      "r1=  10\n",
      "str2\n",
      "r2=  20\n"
     ]
    }
   ],
   "source": [
    "#yield \n",
    "def fun():\n",
    "    print \"str1\"\n",
    "    yield 10\n",
    "    print \"str2\"\n",
    "    yield 20\n",
    "    print \"str3\"\n",
    "    yield 30\n",
    "    \n",
    "res=fun()\n",
    "print \"res=\",res \n",
    "r1=res.next()\n",
    "print \"r1= \",r1  \n",
    "r2=res.next()\n",
    "print \"r2= \",r2            #it takes first step is generation block and next r1 and r2 is executes"
   ]
  },
  {
   "cell_type": "code",
   "execution_count": 39,
   "metadata": {},
   "outputs": [
    {
     "name": "stdout",
     "output_type": "stream",
     "text": [
      "res= <generator object fun at 0x7f12140ad910>\n",
      "str1\n",
      "r1=  10\n",
      "str2\n",
      "r2=  20\n",
      "str3\n",
      "r3=  30\n"
     ]
    }
   ],
   "source": [
    "#yield \n",
    "def fun():\n",
    "    print \"str1\"\n",
    "    yield 10\n",
    "    print \"str2\"\n",
    "    yield 20\n",
    "    print \"str3\"\n",
    "    yield 30\n",
    "    \n",
    "res=fun()\n",
    "print \"res=\",res \n",
    "r1=res.next()\n",
    "print \"r1= \",r1  \n",
    "r2=res.next()\n",
    "print \"r2= \",r2   \n",
    "r3=res.next()\n",
    "print \"r3= \",r3          #it takes first step is generation block and next r1 ,r2and r3 is executes"
   ]
  },
  {
   "cell_type": "code",
   "execution_count": 40,
   "metadata": {},
   "outputs": [
    {
     "name": "stdout",
     "output_type": "stream",
     "text": [
      "res= <generator object fun at 0x7f12140ada00>\n",
      "str1\n",
      "r1=  10\n",
      "str2\n",
      "r2=  20\n",
      "str3\n",
      "r3=  30\n"
     ]
    },
    {
     "ename": "StopIteration",
     "evalue": "",
     "output_type": "error",
     "traceback": [
      "\u001b[0;31m---------------------------------------------------------------------------\u001b[0m",
      "\u001b[0;31mStopIteration\u001b[0m                             Traceback (most recent call last)",
      "\u001b[0;32m<ipython-input-40-a9bcf873f59d>\u001b[0m in \u001b[0;36m<module>\u001b[0;34m()\u001b[0m\n\u001b[1;32m     16\u001b[0m \u001b[0mr3\u001b[0m\u001b[0;34m=\u001b[0m\u001b[0mres\u001b[0m\u001b[0;34m.\u001b[0m\u001b[0mnext\u001b[0m\u001b[0;34m(\u001b[0m\u001b[0;34m)\u001b[0m\u001b[0;34m\u001b[0m\u001b[0m\n\u001b[1;32m     17\u001b[0m \u001b[0;32mprint\u001b[0m \u001b[0;34m\"r3= \"\u001b[0m\u001b[0;34m,\u001b[0m\u001b[0mr3\u001b[0m\u001b[0;34m\u001b[0m\u001b[0m\n\u001b[0;32m---> 18\u001b[0;31m \u001b[0mr4\u001b[0m\u001b[0;34m=\u001b[0m\u001b[0mres\u001b[0m\u001b[0;34m.\u001b[0m\u001b[0mnext\u001b[0m\u001b[0;34m(\u001b[0m\u001b[0;34m)\u001b[0m\u001b[0;34m\u001b[0m\u001b[0m\n\u001b[0m\u001b[1;32m     19\u001b[0m \u001b[0;32mprint\u001b[0m \u001b[0;34m\"r4= \"\u001b[0m\u001b[0;34m,\u001b[0m\u001b[0mr4\u001b[0m\u001b[0;34m\u001b[0m\u001b[0m\n",
      "\u001b[0;31mStopIteration\u001b[0m: "
     ]
    }
   ],
   "source": [
    "#yield \n",
    "def fun():\n",
    "    print \"str1\"\n",
    "    yield 10\n",
    "    print \"str2\"\n",
    "    yield 20\n",
    "    print \"str3\"\n",
    "    yield 30\n",
    "    \n",
    "res=fun()\n",
    "print \"res=\",res \n",
    "r1=res.next()\n",
    "print \"r1= \",r1  \n",
    "r2=res.next()\n",
    "print \"r2= \",r2   \n",
    "r3=res.next()\n",
    "print \"r3= \",r3\n",
    "r4=res.next()\n",
    "print \"r4= \",r4                             #stop iteration \n",
    "                                            #so this yield operates iteretion every variable step by step"
   ]
  },
  {
   "cell_type": "code",
   "execution_count": 41,
   "metadata": {},
   "outputs": [
    {
     "name": "stdout",
     "output_type": "stream",
     "text": [
      "10\n",
      "20\n",
      "30\n",
      "40\n"
     ]
    }
   ],
   "source": [
    "l=[10,20,30,40]\n",
    "for i in l:\n",
    "    print i                # hear also iterate every valu and for last vale stop iteration but that is not hidden functio"
   ]
  },
  {
   "cell_type": "code",
   "execution_count": 42,
   "metadata": {},
   "outputs": [
    {
     "name": "stdout",
     "output_type": "stream",
     "text": [
      "str1\n",
      "i= 10\n",
      "str2\n",
      "i= 20\n",
      "str3\n",
      "i= 30\n"
     ]
    }
   ],
   "source": [
    "def fun():\n",
    "    print \"str1\"\n",
    "    yield 10\n",
    "    print \"str2\"\n",
    "    yield 20\n",
    "    print \"str3\"\n",
    "    yield 30\n",
    "    \n",
    "res=fun()\n",
    "for i in res:\n",
    "    print \"i=\",i         #it iterates every value individual so no need to generate generate box"
   ]
  },
  {
   "cell_type": "code",
   "execution_count": 43,
   "metadata": {},
   "outputs": [
    {
     "name": "stdout",
     "output_type": "stream",
     "text": [
      "str1\n",
      "i= 10\n"
     ]
    }
   ],
   "source": [
    "def fun():\n",
    "    print \"str1\"\n",
    "    yield 10\n",
    "    print \"str2\"\n",
    "    yield 20\n",
    "    print \"str3\"\n",
    "    yield 30\n",
    "    \n",
    "res=fun()\n",
    "for i in res:\n",
    "    print \"i=\",i\n",
    "    break"
   ]
  },
  {
   "cell_type": "code",
   "execution_count": 46,
   "metadata": {},
   "outputs": [
    {
     "data": {
      "text/plain": [
       "[0, 1, 2, 3, 4, 5, 6, 7, 8, 9]"
      ]
     },
     "execution_count": 46,
     "metadata": {},
     "output_type": "execute_result"
    }
   ],
   "source": [
    "range (10)"
   ]
  },
  {
   "cell_type": "code",
   "execution_count": 48,
   "metadata": {},
   "outputs": [
    {
     "name": "stdout",
     "output_type": "stream",
     "text": [
      "0\n",
      "1\n",
      "2\n",
      "3\n",
      "4\n",
      "5\n",
      "6\n",
      "7\n",
      "8\n",
      "9\n"
     ]
    }
   ],
   "source": [
    "# first the range storing in memory [0,1,2,3,4,5,6,7,8,9]\n",
    "#then iterate one by one\n",
    "for i in range (10):\n",
    "    print i"
   ]
  },
  {
   "cell_type": "code",
   "execution_count": 51,
   "metadata": {},
   "outputs": [
    {
     "ename": "MemoryError",
     "evalue": "",
     "output_type": "error",
     "traceback": [
      "\u001b[0;31m---------------------------------------------------------------------------\u001b[0m",
      "\u001b[0;31mMemoryError\u001b[0m                               Traceback (most recent call last)",
      "\u001b[0;32m<ipython-input-51-ccc71ab68dbc>\u001b[0m in \u001b[0;36m<module>\u001b[0;34m()\u001b[0m\n\u001b[1;32m      1\u001b[0m \u001b[0;31m# first the range storing in memory [0,1,2.............119999999999999999]\u001b[0m\u001b[0;34m\u001b[0m\u001b[0;34m\u001b[0m\u001b[0m\n\u001b[1;32m      2\u001b[0m \u001b[0;31m#then iterate one by one\u001b[0m\u001b[0;34m\u001b[0m\u001b[0;34m\u001b[0m\u001b[0m\n\u001b[0;32m----> 3\u001b[0;31m \u001b[0;32mfor\u001b[0m \u001b[0mi\u001b[0m \u001b[0;32min\u001b[0m \u001b[0mrange\u001b[0m \u001b[0;34m(\u001b[0m\u001b[0;36m1200000000000000000\u001b[0m\u001b[0;34m)\u001b[0m\u001b[0;34m:\u001b[0m\u001b[0;34m\u001b[0m\u001b[0m\n\u001b[0m\u001b[1;32m      4\u001b[0m     \u001b[0;32mprint\u001b[0m \u001b[0mi\u001b[0m\u001b[0;34m\u001b[0m\u001b[0m\n\u001b[1;32m      5\u001b[0m \u001b[0;34m\u001b[0m\u001b[0m\n",
      "\u001b[0;31mMemoryError\u001b[0m: "
     ]
    }
   ],
   "source": [
    "# first the range storing in memory [0,1,2.............119999999999999999]\n",
    "#then iterate one by one\n",
    "for i in range (1200000000000000000):\n",
    "    print i\n",
    "    \n",
    "    \n",
    "    \n",
    "#it shows memory error because for that  0 to 1200000.... values there is no RAM  memory space so it wont execute\n",
    "#to overcome this problem we can replce range with xrange it  no stores the values but execution is equal"
   ]
  },
  {
   "cell_type": "code",
   "execution_count": 54,
   "metadata": {},
   "outputs": [
    {
     "name": "stdout",
     "output_type": "stream",
     "text": [
      "0\n",
      "1\n",
      "2\n",
      "3\n",
      "4\n",
      "5\n",
      "6\n",
      "7\n",
      "8\n",
      "9\n"
     ]
    }
   ],
   "source": [
    "#generator object wich will genereates an element for each and every iteration\n",
    "#it wont store the elements first\n",
    "#but it will generate one value one iteration.while it is going to nexgt iteration\n",
    "#it will removes the first element and generstes the next element\n",
    "for i in xrange(10):\n",
    "    print i"
   ]
  },
  {
   "cell_type": "code",
   "execution_count": 55,
   "metadata": {},
   "outputs": [
    {
     "name": "stdout",
     "output_type": "stream",
     "text": [
      "0\n"
     ]
    }
   ],
   "source": [
    "#generator object wich will genereates an element for each and every iteration\n",
    "#it wont store the elements first\n",
    "#but it will generate one value one iteration.while it is going to nexgt iteration\n",
    "#it will removes the first element and generstes the next element\n",
    "for i in xrange(10):\n",
    "    print i\n",
    "    break"
   ]
  },
  {
   "cell_type": "code",
   "execution_count": 56,
   "metadata": {},
   "outputs": [],
   "source": [
    "customers=[]\n",
    "for i in xrange(100):\n",
    "    customers.append({\"id\":i,\"name\":\"name%s\"%i})\n",
    "    \n",
    "#hear each value is does not stores in memory\n",
    "#iterates each and every value "
   ]
  },
  {
   "cell_type": "code",
   "execution_count": 57,
   "metadata": {},
   "outputs": [
    {
     "data": {
      "text/plain": [
       "[{'id': 0, 'name': 'name0'},\n",
       " {'id': 1, 'name': 'name1'},\n",
       " {'id': 2, 'name': 'name2'},\n",
       " {'id': 3, 'name': 'name3'},\n",
       " {'id': 4, 'name': 'name4'},\n",
       " {'id': 5, 'name': 'name5'},\n",
       " {'id': 6, 'name': 'name6'},\n",
       " {'id': 7, 'name': 'name7'},\n",
       " {'id': 8, 'name': 'name8'},\n",
       " {'id': 9, 'name': 'name9'},\n",
       " {'id': 10, 'name': 'name10'},\n",
       " {'id': 11, 'name': 'name11'},\n",
       " {'id': 12, 'name': 'name12'},\n",
       " {'id': 13, 'name': 'name13'},\n",
       " {'id': 14, 'name': 'name14'},\n",
       " {'id': 15, 'name': 'name15'},\n",
       " {'id': 16, 'name': 'name16'},\n",
       " {'id': 17, 'name': 'name17'},\n",
       " {'id': 18, 'name': 'name18'},\n",
       " {'id': 19, 'name': 'name19'},\n",
       " {'id': 20, 'name': 'name20'},\n",
       " {'id': 21, 'name': 'name21'},\n",
       " {'id': 22, 'name': 'name22'},\n",
       " {'id': 23, 'name': 'name23'},\n",
       " {'id': 24, 'name': 'name24'},\n",
       " {'id': 25, 'name': 'name25'},\n",
       " {'id': 26, 'name': 'name26'},\n",
       " {'id': 27, 'name': 'name27'},\n",
       " {'id': 28, 'name': 'name28'},\n",
       " {'id': 29, 'name': 'name29'},\n",
       " {'id': 30, 'name': 'name30'},\n",
       " {'id': 31, 'name': 'name31'},\n",
       " {'id': 32, 'name': 'name32'},\n",
       " {'id': 33, 'name': 'name33'},\n",
       " {'id': 34, 'name': 'name34'},\n",
       " {'id': 35, 'name': 'name35'},\n",
       " {'id': 36, 'name': 'name36'},\n",
       " {'id': 37, 'name': 'name37'},\n",
       " {'id': 38, 'name': 'name38'},\n",
       " {'id': 39, 'name': 'name39'},\n",
       " {'id': 40, 'name': 'name40'},\n",
       " {'id': 41, 'name': 'name41'},\n",
       " {'id': 42, 'name': 'name42'},\n",
       " {'id': 43, 'name': 'name43'},\n",
       " {'id': 44, 'name': 'name44'},\n",
       " {'id': 45, 'name': 'name45'},\n",
       " {'id': 46, 'name': 'name46'},\n",
       " {'id': 47, 'name': 'name47'},\n",
       " {'id': 48, 'name': 'name48'},\n",
       " {'id': 49, 'name': 'name49'},\n",
       " {'id': 50, 'name': 'name50'},\n",
       " {'id': 51, 'name': 'name51'},\n",
       " {'id': 52, 'name': 'name52'},\n",
       " {'id': 53, 'name': 'name53'},\n",
       " {'id': 54, 'name': 'name54'},\n",
       " {'id': 55, 'name': 'name55'},\n",
       " {'id': 56, 'name': 'name56'},\n",
       " {'id': 57, 'name': 'name57'},\n",
       " {'id': 58, 'name': 'name58'},\n",
       " {'id': 59, 'name': 'name59'},\n",
       " {'id': 60, 'name': 'name60'},\n",
       " {'id': 61, 'name': 'name61'},\n",
       " {'id': 62, 'name': 'name62'},\n",
       " {'id': 63, 'name': 'name63'},\n",
       " {'id': 64, 'name': 'name64'},\n",
       " {'id': 65, 'name': 'name65'},\n",
       " {'id': 66, 'name': 'name66'},\n",
       " {'id': 67, 'name': 'name67'},\n",
       " {'id': 68, 'name': 'name68'},\n",
       " {'id': 69, 'name': 'name69'},\n",
       " {'id': 70, 'name': 'name70'},\n",
       " {'id': 71, 'name': 'name71'},\n",
       " {'id': 72, 'name': 'name72'},\n",
       " {'id': 73, 'name': 'name73'},\n",
       " {'id': 74, 'name': 'name74'},\n",
       " {'id': 75, 'name': 'name75'},\n",
       " {'id': 76, 'name': 'name76'},\n",
       " {'id': 77, 'name': 'name77'},\n",
       " {'id': 78, 'name': 'name78'},\n",
       " {'id': 79, 'name': 'name79'},\n",
       " {'id': 80, 'name': 'name80'},\n",
       " {'id': 81, 'name': 'name81'},\n",
       " {'id': 82, 'name': 'name82'},\n",
       " {'id': 83, 'name': 'name83'},\n",
       " {'id': 84, 'name': 'name84'},\n",
       " {'id': 85, 'name': 'name85'},\n",
       " {'id': 86, 'name': 'name86'},\n",
       " {'id': 87, 'name': 'name87'},\n",
       " {'id': 88, 'name': 'name88'},\n",
       " {'id': 89, 'name': 'name89'},\n",
       " {'id': 90, 'name': 'name90'},\n",
       " {'id': 91, 'name': 'name91'},\n",
       " {'id': 92, 'name': 'name92'},\n",
       " {'id': 93, 'name': 'name93'},\n",
       " {'id': 94, 'name': 'name94'},\n",
       " {'id': 95, 'name': 'name95'},\n",
       " {'id': 96, 'name': 'name96'},\n",
       " {'id': 97, 'name': 'name97'},\n",
       " {'id': 98, 'name': 'name98'},\n",
       " {'id': 99, 'name': 'name99'}]"
      ]
     },
     "execution_count": 57,
     "metadata": {},
     "output_type": "execute_result"
    }
   ],
   "source": [
    "customers"
   ]
  },
  {
   "cell_type": "code",
   "execution_count": 58,
   "metadata": {},
   "outputs": [
    {
     "name": "stdout",
     "output_type": "stream",
     "text": [
      "<generator object get_customers at 0x7f12140ad820>\n"
     ]
    }
   ],
   "source": [
    "def get_customers():\n",
    "    for i in range(100):\n",
    "        yield customers(i)\n",
    "name = \"name173\"\n",
    "customers = get_customers()\n",
    "print customers"
   ]
  },
  {
   "cell_type": "code",
   "execution_count": 65,
   "metadata": {},
   "outputs": [
    {
     "name": "stdout",
     "output_type": "stream",
     "text": [
      "iteration 0\n",
      "{'id': 0, 'name': 'name0'}\n"
     ]
    }
   ],
   "source": [
    "customers = []\n",
    "for i in xrange(100):\n",
    "    customers.append({\"id\":i,\"name\":\"name%s\"%i})\n",
    "def get_customers():\n",
    "    for i in range(100):\n",
    "        print \"iteration\",i\n",
    "        yield customers[i]\n",
    "name = \"name173\"\n",
    "results = get_customers()\n",
    "for cust in results:\n",
    "    print cust\n",
    "    break"
   ]
  },
  {
   "cell_type": "code",
   "execution_count": 71,
   "metadata": {},
   "outputs": [
    {
     "name": "stdout",
     "output_type": "stream",
     "text": [
      "iteration 0\n",
      "iteration 1\n",
      "iteration 2\n",
      "iteration 3\n",
      "iteration 4\n",
      "iteration 5\n",
      "iteration 6\n",
      "iteration 7\n",
      "iteration 8\n",
      "iteration 9\n",
      "iteration 10\n",
      "iteration 11\n",
      "iteration 12\n",
      "iteration 13\n",
      "iteration 14\n",
      "iteration 15\n",
      "iteration 16\n",
      "iteration 17\n",
      "iteration 18\n",
      "iteration 19\n",
      "iteration 20\n",
      "iteration 21\n",
      "iteration 22\n",
      "iteration 23\n",
      "iteration 24\n",
      "iteration 25\n",
      "iteration 26\n",
      "iteration 27\n",
      "iteration 28\n",
      "iteration 29\n",
      "iteration 30\n",
      "iteration 31\n",
      "iteration 32\n",
      "iteration 33\n",
      "iteration 34\n",
      "iteration 35\n",
      "iteration 36\n",
      "iteration 37\n",
      "iteration 38\n",
      "iteration 39\n",
      "iteration 40\n",
      "iteration 41\n",
      "iteration 42\n",
      "iteration 43\n",
      "iteration 44\n",
      "iteration 45\n",
      "iteration 46\n",
      "iteration 47\n",
      "iteration 48\n",
      "iteration 49\n",
      "iteration 50\n",
      "iteration 51\n",
      "iteration 52\n",
      "iteration 53\n",
      "iteration 54\n",
      "iteration 55\n",
      "iteration 56\n",
      "iteration 57\n",
      "iteration 58\n",
      "iteration 59\n",
      "iteration 60\n",
      "iteration 61\n",
      "iteration 62\n",
      "iteration 63\n",
      "iteration 64\n",
      "iteration 65\n",
      "iteration 66\n",
      "iteration 67\n",
      "iteration 68\n",
      "iteration 69\n",
      "iteration 70\n",
      "iteration 71\n",
      "iteration 72\n",
      "iteration 73\n",
      "iteration 74\n",
      "iteration 75\n",
      "iteration 76\n",
      "iteration 77\n",
      "iteration 78\n",
      "iteration 79\n",
      "iteration 80\n",
      "{'id': 80, 'name': 'name80'}\n"
     ]
    }
   ],
   "source": [
    "customers = []\n",
    "for i in xrange(100):\n",
    "    customers.append({\"id\":i,\"name\":\"name%s\"%i})\n",
    "def get_customers():\n",
    "    for i in range(100):\n",
    "        print \"iteration\",i\n",
    "        yield customers[i]\n",
    "n= \"name80\"\n",
    "results = get_customers()\n",
    "for cust in results:\n",
    "    if cust.get(\"name\") == n:\n",
    "        print cust\n",
    "        break\n",
    "        \n",
    "#it iterates till 80 nname by using yield function"
   ]
  },
  {
   "cell_type": "code",
   "execution_count": 72,
   "metadata": {},
   "outputs": [
    {
     "name": "stdout",
     "output_type": "stream",
     "text": [
      "{'id': 80, 'name': 'name80'}\n"
     ]
    }
   ],
   "source": [
    "customers = []\n",
    "for i in xrange(100):\n",
    "    customers.append({\"id\":i,\"name\":\"name%s\"%i})\n",
    "def get_customers():\n",
    "    for i in range(100):\n",
    "        \n",
    "        yield customers[i]\n",
    "n= \"name80\"\n",
    "results = get_customers()\n",
    "for cust in results:\n",
    "    if cust.get(\"name\") == n:\n",
    "        print cust\n",
    "        break\n",
    "        \n",
    "#it iterates only 80 name by using yield function"
   ]
  },
  {
   "cell_type": "code",
   "execution_count": 2,
   "metadata": {},
   "outputs": [
    {
     "ename": "ImportError",
     "evalue": "No module named numpy",
     "output_type": "error",
     "traceback": [
      "\u001b[0;31m---------------------------------------------------------------------------\u001b[0m",
      "\u001b[0;31mImportError\u001b[0m                               Traceback (most recent call last)",
      "\u001b[0;32m<ipython-input-2-37e495ffebdc>\u001b[0m in \u001b[0;36m<module>\u001b[0;34m()\u001b[0m\n\u001b[0;32m----> 1\u001b[0;31m \u001b[0;32mimport\u001b[0m \u001b[0mnumpy\u001b[0m \u001b[0;32mas\u001b[0m \u001b[0mnp\u001b[0m\u001b[0;34m\u001b[0m\u001b[0m\n\u001b[0m\u001b[1;32m      2\u001b[0m \u001b[0ma\u001b[0m \u001b[0;34m=\u001b[0m \u001b[0mnp\u001b[0m\u001b[0;34m.\u001b[0m\u001b[0marray\u001b[0m\u001b[0;34m(\u001b[0m\u001b[0;34m(\u001b[0m\u001b[0;36m1\u001b[0m\u001b[0;34m,\u001b[0m\u001b[0;36m2\u001b[0m\u001b[0;34m,\u001b[0m\u001b[0;36m3\u001b[0m\u001b[0;34m)\u001b[0m\u001b[0;34m)\u001b[0m\u001b[0;34m\u001b[0m\u001b[0m\n\u001b[1;32m      3\u001b[0m \u001b[0;32mprint\u001b[0m \u001b[0;34m(\u001b[0m\u001b[0ma\u001b[0m\u001b[0;34m)\u001b[0m\u001b[0;34m\u001b[0m\u001b[0m\n",
      "\u001b[0;31mImportError\u001b[0m: No module named numpy"
     ]
    }
   ],
   "source": [
    "import numpy as np\n",
    "a = np.array((1,2,3))\n",
    "print (a)"
   ]
  },
  {
   "cell_type": "code",
   "execution_count": null,
   "metadata": {},
   "outputs": [],
   "source": []
  }
 ],
 "metadata": {
  "kernelspec": {
   "display_name": "Python 2",
   "language": "python",
   "name": "python2"
  },
  "language_info": {
   "codemirror_mode": {
    "name": "ipython",
    "version": 2
   },
   "file_extension": ".py",
   "mimetype": "text/x-python",
   "name": "python",
   "nbconvert_exporter": "python",
   "pygments_lexer": "ipython2",
   "version": "2.7.15rc1"
  }
 },
 "nbformat": 4,
 "nbformat_minor": 2
}
